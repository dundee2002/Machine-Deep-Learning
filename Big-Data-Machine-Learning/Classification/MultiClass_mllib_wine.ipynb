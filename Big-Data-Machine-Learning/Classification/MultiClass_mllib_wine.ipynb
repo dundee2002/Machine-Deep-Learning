{
 "cells": [
  {
   "cell_type": "markdown",
   "metadata": {},
   "source": [
    "## Multiclass Classification: Wine Dataset\n",
    "https://archive.ics.uci.edu/ml/datasets/wine\n",
    "\n",
    "** Dataset Information: **\n",
    "\n",
    "These data are the results of a chemical analysis of wines grown in the same region in Italy but derived from three different cultivars. The analysis determined the quantities of 13 constituents found in each of the three types of wines\n",
    "\n",
    "** Attribute Information: (12 features and 1 class)**\n",
    "\n",
    "Class: class 1 (59), class 2 (71), class 3 (48)\n",
    "\n",
    "1. Alcohol (class)\n",
    "2. Malic acid \n",
    "3. Ash \n",
    "4. Alcalinity of ash \n",
    "5. Magnesium \n",
    "6. Total phenols \n",
    "7. Flavanoids \n",
    "8. Nonflavanoid phenols \n",
    "9. Proanthocyanins \n",
    "10. Color intensity \n",
    "11. Hue \n",
    "12. OD280/OD315 of diluted wines \n",
    "13. Proline \n",
    "\n",
    "** Objective of this project **\n",
    "\n",
    "Using chemical analysis (features) determine the origin of wines (class, 1-3)"
   ]
  },
  {
   "cell_type": "markdown",
   "metadata": {},
   "source": [
    "## Data"
   ]
  },
  {
   "cell_type": "code",
   "execution_count": 1,
   "metadata": {},
   "outputs": [],
   "source": [
    "import findspark\n",
    "findspark.init('/home/danny/spark-2.2.1-bin-hadoop2.7')\n",
    "\n",
    "from pyspark.sql import SparkSession\n",
    "spark = SparkSession.builder.appName('wine').getOrCreate()"
   ]
  },
  {
   "cell_type": "code",
   "execution_count": 2,
   "metadata": {},
   "outputs": [
    {
     "name": "stdout",
     "output_type": "stream",
     "text": [
      "root\n",
      " |-- Class: integer (nullable = true)\n",
      " |-- Alcohol: double (nullable = true)\n",
      " |-- Malic_Acid: double (nullable = true)\n",
      " |-- Ash: double (nullable = true)\n",
      " |-- Ash_Alcanity: double (nullable = true)\n",
      " |-- Magnesium: integer (nullable = true)\n",
      " |-- Total_Phenols: double (nullable = true)\n",
      " |-- Flavanoids: double (nullable = true)\n",
      " |-- Nonflavanoid_Phenols: double (nullable = true)\n",
      " |-- Proanthocyanins: double (nullable = true)\n",
      " |-- Color_Intensity: double (nullable = true)\n",
      " |-- Hue: double (nullable = true)\n",
      " |-- OD280: double (nullable = true)\n",
      " |-- Proline: integer (nullable = true)\n",
      "\n"
     ]
    }
   ],
   "source": [
    "# Load Data\n",
    "df = spark.read.csv('Wine_data.csv',inferSchema=True,header=True)\n",
    "# Inspect Data\n",
    "df.printSchema()"
   ]
  },
  {
   "cell_type": "code",
   "execution_count": 3,
   "metadata": {},
   "outputs": [
    {
     "name": "stdout",
     "output_type": "stream",
     "text": [
      "+-----+-------+----------+----+------------+---------+-------------+----------+--------------------+---------------+---------------+----+-----+-------+\n",
      "|label|Alcohol|Malic_Acid| Ash|Ash_Alcanity|Magnesium|Total_Phenols|Flavanoids|Nonflavanoid_Phenols|Proanthocyanins|Color_Intensity| Hue|OD280|Proline|\n",
      "+-----+-------+----------+----+------------+---------+-------------+----------+--------------------+---------------+---------------+----+-----+-------+\n",
      "|    1|  14.23|      1.71|2.43|        15.6|      127|          2.8|      3.06|                0.28|           2.29|           5.64|1.04| 3.92|   1065|\n",
      "|    1|   13.2|      1.78|2.14|        11.2|      100|         2.65|      2.76|                0.26|           1.28|           4.38|1.05|  3.4|   1050|\n",
      "|    1|  13.16|      2.36|2.67|        18.6|      101|          2.8|      3.24|                 0.3|           2.81|           5.68|1.03| 3.17|   1185|\n",
      "|    1|  14.37|      1.95| 2.5|        16.8|      113|         3.85|      3.49|                0.24|           2.18|            7.8|0.86| 3.45|   1480|\n",
      "|    1|  13.24|      2.59|2.87|        21.0|      118|          2.8|      2.69|                0.39|           1.82|           4.32|1.04| 2.93|    735|\n",
      "+-----+-------+----------+----+------------+---------+-------------+----------+--------------------+---------------+---------------+----+-----+-------+\n",
      "only showing top 5 rows\n",
      "\n"
     ]
    }
   ],
   "source": [
    "df = df.withColumnRenamed('Class','label')\n",
    "df.show(5)"
   ]
  },
  {
   "cell_type": "code",
   "execution_count": 4,
   "metadata": {},
   "outputs": [
    {
     "data": {
      "text/plain": [
       "Row(label=1, Alcohol=14.23, Malic_Acid=1.71, Ash=2.43, Ash_Alcanity=15.6, Magnesium=127, Total_Phenols=2.8, Flavanoids=3.06, Nonflavanoid_Phenols=0.28, Proanthocyanins=2.29, Color_Intensity=5.64, Hue=1.04, OD280=3.92, Proline=1065)"
      ]
     },
     "execution_count": 4,
     "metadata": {},
     "output_type": "execute_result"
    }
   ],
   "source": [
    "df.head()"
   ]
  },
  {
   "cell_type": "code",
   "execution_count": 5,
   "metadata": {},
   "outputs": [
    {
     "name": "stdout",
     "output_type": "stream",
     "text": [
      "+-------+------------------+------------------+------------------+------------------+-----------------+------------------+------------------+------------------+--------------------+------------------+-----------------+-------------------+------------------+-----------------+\n",
      "|summary|             label|           Alcohol|        Malic_Acid|               Ash|     Ash_Alcanity|         Magnesium|     Total_Phenols|        Flavanoids|Nonflavanoid_Phenols|   Proanthocyanins|  Color_Intensity|                Hue|             OD280|          Proline|\n",
      "+-------+------------------+------------------+------------------+------------------+-----------------+------------------+------------------+------------------+--------------------+------------------+-----------------+-------------------+------------------+-----------------+\n",
      "|  count|               178|               178|               178|               178|              178|               178|               178|               178|                 178|               178|              178|                178|               178|              178|\n",
      "|   mean|1.9382022471910112|13.000617977528083| 2.336348314606741|2.3665168539325854|19.49494382022472| 99.74157303370787| 2.295112359550562|2.0292696629213474| 0.36185393258426973|1.5908988764044953|5.058089882022473| 0.9574494382022468|2.6116853932584254|746.8932584269663|\n",
      "| stddev|0.7750349899850563| 0.811826538005858|1.1171460976144625|0.2743440090608148|3.339563767173504|14.282483515295652|0.6258510488339892|0.9988586850169471| 0.12445334029667941|0.5723588626747612|2.318285871822413|0.22857156582982324|0.7099904287650503|314.9074742768492|\n",
      "|    min|                 1|             11.03|              0.74|              1.36|             10.6|                70|              0.98|              0.34|                0.13|              0.41|             1.28|               0.48|              1.27|              278|\n",
      "|    max|                 3|             14.83|               5.8|              3.23|             30.0|               162|              3.88|              5.08|                0.66|              3.58|             13.0|               1.71|               4.0|             1680|\n",
      "+-------+------------------+------------------+------------------+------------------+-----------------+------------------+------------------+------------------+--------------------+------------------+-----------------+-------------------+------------------+-----------------+\n",
      "\n"
     ]
    }
   ],
   "source": [
    "df.describe().show()"
   ]
  },
  {
   "cell_type": "markdown",
   "metadata": {},
   "source": [
    "## Data preprocessing"
   ]
  },
  {
   "cell_type": "code",
   "execution_count": 6,
   "metadata": {},
   "outputs": [],
   "source": [
    "from pyspark.ml.feature import StringIndexer,VectorAssembler,OneHotEncoder"
   ]
  },
  {
   "cell_type": "markdown",
   "metadata": {},
   "source": [
    "** Split Features & Class (or target) **"
   ]
  },
  {
   "cell_type": "code",
   "execution_count": 7,
   "metadata": {},
   "outputs": [
    {
     "data": {
      "text/plain": [
       "['label',\n",
       " 'Alcohol',\n",
       " 'Malic_Acid',\n",
       " 'Ash',\n",
       " 'Ash_Alcanity',\n",
       " 'Magnesium',\n",
       " 'Total_Phenols',\n",
       " 'Flavanoids',\n",
       " 'Nonflavanoid_Phenols',\n",
       " 'Proanthocyanins',\n",
       " 'Color_Intensity',\n",
       " 'Hue',\n",
       " 'OD280',\n",
       " 'Proline']"
      ]
     },
     "execution_count": 7,
     "metadata": {},
     "output_type": "execute_result"
    }
   ],
   "source": [
    "df.columns"
   ]
  },
  {
   "cell_type": "code",
   "execution_count": 8,
   "metadata": {},
   "outputs": [
    {
     "name": "stdout",
     "output_type": "stream",
     "text": [
      "+--------------------+-----+\n",
      "|            features|label|\n",
      "+--------------------+-----+\n",
      "|[14.23,1.71,2.43,...|    1|\n",
      "|[13.2,1.78,2.14,1...|    1|\n",
      "|[13.16,2.36,2.67,...|    1|\n",
      "|[14.37,1.95,2.5,1...|    1|\n",
      "|[13.24,2.59,2.87,...|    1|\n",
      "+--------------------+-----+\n",
      "only showing top 5 rows\n",
      "\n"
     ]
    }
   ],
   "source": [
    "# combine features into a single column\n",
    "assembler = VectorAssembler(inputCols=df.columns[1:],outputCol='features')\n",
    "output = assembler.transform(df)\n",
    "#output.show(5)\n",
    "\n",
    "# features and target\n",
    "final_data = output.select('features','label')\n",
    "final_data.show(5)"
   ]
  },
  {
   "cell_type": "markdown",
   "metadata": {},
   "source": [
    "** Split Train Test sets **"
   ]
  },
  {
   "cell_type": "code",
   "execution_count": 9,
   "metadata": {},
   "outputs": [
    {
     "name": "stdout",
     "output_type": "stream",
     "text": [
      "+-------+------------------+\n",
      "|summary|             label|\n",
      "+-------+------------------+\n",
      "|  count|               129|\n",
      "|   mean|2.0155038759689923|\n",
      "| stddev|0.7703945430349207|\n",
      "|    min|                 1|\n",
      "|    max|                 3|\n",
      "+-------+------------------+\n",
      "\n",
      "+-------+------------------+\n",
      "|summary|             label|\n",
      "+-------+------------------+\n",
      "|  count|                49|\n",
      "|   mean|1.7346938775510203|\n",
      "| stddev|0.7576144084141581|\n",
      "|    min|                 1|\n",
      "|    max|                 3|\n",
      "+-------+------------------+\n",
      "\n"
     ]
    }
   ],
   "source": [
    "seed = 101 #for reproducibility\n",
    "train_data,test_data = final_data.randomSplit([0.7,0.3],seed=seed)\n",
    "train_data.describe().show()\n",
    "test_data.describe().show()"
   ]
  },
  {
   "cell_type": "markdown",
   "metadata": {},
   "source": [
    "## Baseline Model"
   ]
  },
  {
   "cell_type": "code",
   "execution_count": 10,
   "metadata": {},
   "outputs": [],
   "source": [
    "from pyspark.ml.classification import (LogisticRegression,DecisionTreeClassifier,\n",
    "                                       RandomForestClassifier)\n",
    "from pyspark.ml.evaluation import MulticlassClassificationEvaluator"
   ]
  },
  {
   "cell_type": "markdown",
   "metadata": {},
   "source": [
    "#### Train Models"
   ]
  },
  {
   "cell_type": "code",
   "execution_count": 11,
   "metadata": {},
   "outputs": [],
   "source": [
    "# Initialize multiple models\n",
    "lrc = LogisticRegression()\n",
    "dtc = DecisionTreeClassifier(seed=seed)\n",
    "rfc = RandomForestClassifier(seed=seed)\n",
    "\n",
    "# Train the models \n",
    "lrc_model = lrc.fit(train_data)\n",
    "dtc_model = dtc.fit(train_data)\n",
    "rfc_model = rfc.fit(train_data)"
   ]
  },
  {
   "cell_type": "markdown",
   "metadata": {},
   "source": [
    "#### Evaluate Models"
   ]
  },
  {
   "cell_type": "code",
   "execution_count": 12,
   "metadata": {},
   "outputs": [],
   "source": [
    "# Make predictions\n",
    "lrc_predictions = lrc_model.transform(test_data)\n",
    "dtc_predictions = dtc_model.transform(test_data)\n",
    "rfc_predictions = rfc_model.transform(test_data)"
   ]
  },
  {
   "cell_type": "code",
   "execution_count": 13,
   "metadata": {},
   "outputs": [
    {
     "name": "stdout",
     "output_type": "stream",
     "text": [
      "\t\t\tAccuracy\n",
      "Logistic Regression:\t0.939\n",
      "Decision Tree:\t\t0.918\n",
      "Random Forest:\t\t0.980\n"
     ]
    }
   ],
   "source": [
    "# Evaluate the models\n",
    "acc_eval = MulticlassClassificationEvaluator(metricName='accuracy')\n",
    "print('\\t\\t\\tAccuracy')\n",
    "print('Logistic Regression:\\t{:.3f}'.format(acc_eval.evaluate(lrc_predictions)))\n",
    "print('Decision Tree:\\t\\t{:.3f}'.format(acc_eval.evaluate(dtc_predictions)))\n",
    "print('Random Forest:\\t\\t{:.3f}'.format(acc_eval.evaluate(rfc_predictions)))"
   ]
  },
  {
   "cell_type": "markdown",
   "metadata": {},
   "source": [
    "## Parameter tuning"
   ]
  },
  {
   "cell_type": "markdown",
   "metadata": {},
   "source": [
    "#### Grid Search"
   ]
  },
  {
   "cell_type": "code",
   "execution_count": 14,
   "metadata": {},
   "outputs": [
    {
     "name": "stdout",
     "output_type": "stream",
     "text": [
      "[0.9753246753246754, 0.9924242424242424, 0.9924242424242424, 0.9857575757575756]\n",
      "RandomForestClassificationModel (uid=RandomForestClassifier_4884826646019dc8defb) with 50 trees\n"
     ]
    }
   ],
   "source": [
    "from pyspark.ml.tuning import CrossValidator, ParamGridBuilder\n",
    "\n",
    "# randomforest\n",
    "classifier = RandomForestClassifier(seed=seed)\n",
    "# grid params\n",
    "paramGrid = ParamGridBuilder() \\\n",
    "    .addGrid(classifier.numTrees, [20,50,100,200]) \\\n",
    "    .build()\n",
    "# cross validation\n",
    "crossval = CrossValidator(estimator=classifier,\n",
    "                          estimatorParamMaps=paramGrid,\n",
    "                          evaluator=acc_eval,\n",
    "                          numFolds=3, \n",
    "                          seed=seed)\n",
    "cvModel = crossval.fit(train_data)\n",
    "# results\n",
    "print(cvModel.avgMetrics)\n",
    "print(cvModel.bestModel) "
   ]
  },
  {
   "cell_type": "markdown",
   "metadata": {},
   "source": [
    "#### Evaluate the best model"
   ]
  },
  {
   "cell_type": "code",
   "execution_count": 15,
   "metadata": {},
   "outputs": [
    {
     "name": "stdout",
     "output_type": "stream",
     "text": [
      "\t\t\tAccuracy\n",
      "Random Forest:\t0.980\n"
     ]
    }
   ],
   "source": [
    "# make predictions\n",
    "predictions = cvModel.transform(test_data)\n",
    "# calculate auc\n",
    "print('\\t\\t\\tAccuracy')\n",
    "print('Random Forest:\\t{:.3f}'.format(acc_eval.evaluate(predictions)))"
   ]
  },
  {
   "cell_type": "markdown",
   "metadata": {},
   "source": [
    "## Final Model"
   ]
  },
  {
   "cell_type": "code",
   "execution_count": 16,
   "metadata": {},
   "outputs": [],
   "source": [
    "import pandas as pd\n",
    "import matplotlib.pyplot as plt\n",
    "%matplotlib inline\n",
    "from sklearn.metrics import confusion_matrix,classification_report"
   ]
  },
  {
   "cell_type": "code",
   "execution_count": 17,
   "metadata": {},
   "outputs": [
    {
     "name": "stdout",
     "output_type": "stream",
     "text": [
      "+--------------------+-----+-------------------+--------------------+----------+\n",
      "|            features|label|      rawPrediction|         probability|prediction|\n",
      "+--------------------+-----+-------------------+--------------------+----------+\n",
      "|[11.62,1.99,2.28,...|    2| [0.0,1.1,48.9,0.0]|[0.0,0.0220000000...|       2.0|\n",
      "|[11.65,1.67,2.62,...|    2| [0.0,0.0,50.0,0.0]|   [0.0,0.0,1.0,0.0]|       2.0|\n",
      "|[11.66,1.88,1.92,...|    2| [0.0,0.0,49.0,1.0]| [0.0,0.0,0.98,0.02]|       2.0|\n",
      "|[11.81,2.12,2.74,...|    2| [0.0,3.1,39.9,7.0]|[0.0,0.062,0.7979...|       2.0|\n",
      "|[11.84,2.89,2.23,...|    2| [0.0,1.0,46.0,3.0]|[0.0,0.02,0.92,0.06]|       2.0|\n",
      "|[11.96,1.09,2.3,2...|    2|[0.0,13.1,36.9,0.0]|[0.0,0.262,0.738,...|       2.0|\n",
      "|[12.0,0.92,2.0,19...|    2| [0.0,0.0,50.0,0.0]|   [0.0,0.0,1.0,0.0]|       2.0|\n",
      "|[12.0,3.43,2.0,19...|    2| [0.0,0.0,50.0,0.0]|   [0.0,0.0,1.0,0.0]|       2.0|\n",
      "|[12.21,1.19,1.75,...|    2| [0.0,2.1,46.9,1.0]|[0.0,0.042,0.938,...|       2.0|\n",
      "|[12.25,1.73,2.12,...|    2| [0.0,0.0,50.0,0.0]|   [0.0,0.0,1.0,0.0]|       2.0|\n",
      "+--------------------+-----+-------------------+--------------------+----------+\n",
      "only showing top 10 rows\n",
      "\n"
     ]
    }
   ],
   "source": [
    "# Train the model\n",
    "classifier = RandomForestClassifier(numTrees=50)\n",
    "final_model = classifier.fit(train_data)\n",
    "# make predictions\n",
    "predictions = final_model.transform(test_data)\n",
    "predictions.show(10)"
   ]
  },
  {
   "cell_type": "code",
   "execution_count": 18,
   "metadata": {},
   "outputs": [
    {
     "name": "stdout",
     "output_type": "stream",
     "text": [
      "Accuracy:\t100.0%\n",
      "\n",
      "\n",
      "             precision    recall  f1-score   support\n",
      "\n",
      "          1       1.00      1.00      1.00        22\n",
      "          2       1.00      1.00      1.00        18\n",
      "          3       1.00      1.00      1.00         9\n",
      "\n",
      "avg / total       1.00      1.00      1.00        49\n",
      "\n"
     ]
    },
    {
     "data": {
      "image/png": "[encoded data removed]",
      "text/plain": [
       "<matplotlib.figure.Figure at 0x7fb71b71e908>"
      ]
     },
     "metadata": {},
     "output_type": "display_data"
    }
   ],
   "source": [
    "# Evaluate the model\n",
    "df_pred = predictions.toPandas()\n",
    "print('Accuracy:\\t{:0.1f}%'.format(acc_eval.evaluate(predictions)*100))\n",
    "\n",
    "#classification report\n",
    "print('\\n')\n",
    "print(classification_report(df_pred['label'],df_pred['prediction']))\n",
    "\n",
    "#confusion matrix\n",
    "confmat = confusion_matrix(df_pred['label'],df_pred['prediction'])\n",
    "\n",
    "fig, ax = plt.subplots(figsize=(2.5, 2.5))\n",
    "ax.matshow(confmat, cmap=plt.cm.Blues, alpha=0.3)\n",
    "for i in range(confmat.shape[0]):\n",
    "    for j in range(confmat.shape[1]):\n",
    "        ax.text(x=j, y=i, s=confmat[i, j], va='center', ha='center')\n",
    "plt.xlabel('Predicted label')\n",
    "plt.ylabel('True label')\n",
    "plt.tight_layout()"
   ]
  },
  {
   "cell_type": "code",
   "execution_count": 19,
   "metadata": {},
   "outputs": [],
   "source": [
    "spark.stop()"
   ]
  },
  {
   "cell_type": "code",
   "execution_count": null,
   "metadata": {},
   "outputs": [],
   "source": []
  }
 ],
 "metadata": {
  "kernelspec": {
   "display_name": "Python 3",
   "language": "python",
   "name": "python3"
  },
  "language_info": {
   "codemirror_mode": {
    "name": "ipython",
    "version": 3
   },
   "file_extension": ".py",
   "mimetype": "text/x-python",
   "name": "python",
   "nbconvert_exporter": "python",
   "pygments_lexer": "ipython3",
   "version": "3.5.2"
  }
 },
 "nbformat": 4,
 "nbformat_minor": 2
}
