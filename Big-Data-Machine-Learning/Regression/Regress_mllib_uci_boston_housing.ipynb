{
 "cells": [
  {
   "cell_type": "markdown",
   "metadata": {},
   "source": [
    "## Regression: Boston Housing Data\n",
    "https://archive.ics.uci.edu/ml/machine-learning-databases/housing/\n",
    "\n",
    "** Dataset Information: **\n",
    "\n",
    "506 Boston housing information including value of houses\n",
    "\n",
    "** Attribute Information: (13 features and 1 class)**\n",
    "\n",
    "1. CRIM      per capita crime rate by town\n",
    "2. ZN        proportion of residential land zoned for lots over 25,000 sq.ft.\n",
    "                 \n",
    "3. INDUS     proportion of non-retail business acres per town\n",
    "4. CHAS      Charles River dummy variable (= 1 if tract bounds river; 0 otherwise)\n",
    "                 \n",
    "5. NOX       nitric oxides concentration (parts per 10 million)\n",
    "6. RM        average number of rooms per dwelling\n",
    "7. AGE       proportion of owner-occupied units built prior to 1940\n",
    "8. DIS       weighted distances to five Boston employment centres\n",
    "9. RAD       index of accessibility to radial highways\n",
    "10. TAX      full-value property-tax rate per $10,000\n",
    "11. PTRATIO  pupil-teacher ratio by town\n",
    "12. B        1000(Bk - 0.63)^2 where Bk is the proportion of blacks by town\n",
    "                 \n",
    "13. LSTAT    % lower status of the population\n",
    "14. MEDV     Median value of owner-occupied homes in $1000's\n",
    "\n",
    "** Objective of this project **\n",
    "\n",
    "predict value of house (MEDV) based on the other features"
   ]
  },
  {
   "cell_type": "markdown",
   "metadata": {},
   "source": [
    "## Data"
   ]
  },
  {
   "cell_type": "code",
   "execution_count": 1,
   "metadata": {},
   "outputs": [],
   "source": [
    "import findspark\n",
    "findspark.init('/home/danny/spark-2.2.1-bin-hadoop2.7')\n",
    "\n",
    "from pyspark.sql import SparkSession\n",
    "spark = SparkSession.builder.appName('boston_housing').getOrCreate()"
   ]
  },
  {
   "cell_type": "code",
   "execution_count": 2,
   "metadata": {},
   "outputs": [
    {
     "name": "stdout",
     "output_type": "stream",
     "text": [
      "root\n",
      " |-- CRIM: double (nullable = true)\n",
      " |-- ZN: double (nullable = true)\n",
      " |-- INDUS: double (nullable = true)\n",
      " |-- CHAS: integer (nullable = true)\n",
      " |-- NOX: double (nullable = true)\n",
      " |-- RM: double (nullable = true)\n",
      " |-- AGE: double (nullable = true)\n",
      " |-- DIS: double (nullable = true)\n",
      " |-- RAD: integer (nullable = true)\n",
      " |-- TAX: integer (nullable = true)\n",
      " |-- PTRATIO: double (nullable = true)\n",
      " |-- B: double (nullable = true)\n",
      " |-- LSTAT: double (nullable = true)\n",
      " |-- MEDV: double (nullable = true)\n",
      "\n"
     ]
    }
   ],
   "source": [
    "# Load Data\n",
    "df = spark.read.csv('boston_housing.csv',inferSchema=True,header=True)\n",
    "# Inspect Data\n",
    "df.printSchema()"
   ]
  },
  {
   "cell_type": "code",
   "execution_count": 3,
   "metadata": {},
   "outputs": [
    {
     "name": "stdout",
     "output_type": "stream",
     "text": [
      "+-------+----+-----+----+-----+-----+----+------+---+---+-------+------+-----+-----+\n",
      "|   CRIM|  ZN|INDUS|CHAS|  NOX|   RM| AGE|   DIS|RAD|TAX|PTRATIO|     B|LSTAT|label|\n",
      "+-------+----+-----+----+-----+-----+----+------+---+---+-------+------+-----+-----+\n",
      "|0.00632|18.0| 2.31|   0|0.538|6.575|65.2|  4.09|  1|296|   15.3| 396.9| 4.98| 24.0|\n",
      "|0.02731| 0.0| 7.07|   0|0.469|6.421|78.9|4.9671|  2|242|   17.8| 396.9| 9.14| 21.6|\n",
      "|0.02729| 0.0| 7.07|   0|0.469|7.185|61.1|4.9671|  2|242|   17.8|392.83| 4.03| 34.7|\n",
      "|0.03237| 0.0| 2.18|   0|0.458|6.998|45.8|6.0622|  3|222|   18.7|394.63| 2.94| 33.4|\n",
      "|0.06905| 0.0| 2.18|   0|0.458|7.147|54.2|6.0622|  3|222|   18.7| 396.9| 5.33| 36.2|\n",
      "+-------+----+-----+----+-----+-----+----+------+---+---+-------+------+-----+-----+\n",
      "only showing top 5 rows\n",
      "\n"
     ]
    }
   ],
   "source": [
    "df = df.withColumnRenamed('MEDV','label') #class -> label\n",
    "df.show(5)"
   ]
  },
  {
   "cell_type": "code",
   "execution_count": 4,
   "metadata": {},
   "outputs": [
    {
     "data": {
      "text/plain": [
       "Row(CRIM=0.00632, ZN=18.0, INDUS=2.31, CHAS=0, NOX=0.538, RM=6.575, AGE=65.2, DIS=4.09, RAD=1, TAX=296, PTRATIO=15.3, B=396.9, LSTAT=4.98, label=24.0)"
      ]
     },
     "execution_count": 4,
     "metadata": {},
     "output_type": "execute_result"
    }
   ],
   "source": [
    "df.head()"
   ]
  },
  {
   "cell_type": "markdown",
   "metadata": {},
   "source": [
    "## Data preprocessing"
   ]
  },
  {
   "cell_type": "code",
   "execution_count": 5,
   "metadata": {},
   "outputs": [
    {
     "name": "stdout",
     "output_type": "stream",
     "text": [
      "+--------------------+-----+\n",
      "|            features|label|\n",
      "+--------------------+-----+\n",
      "|[0.00632,18.0,2.3...| 24.0|\n",
      "|[0.02731,0.0,7.07...| 21.6|\n",
      "|[0.02729,0.0,7.07...| 34.7|\n",
      "|[0.03237,0.0,2.18...| 33.4|\n",
      "|[0.06905,0.0,2.18...| 36.2|\n",
      "+--------------------+-----+\n",
      "only showing top 5 rows\n",
      "\n"
     ]
    }
   ],
   "source": [
    "# Combine features into a single column vector\n",
    "from pyspark.ml.feature import VectorAssembler\n",
    "assembler = VectorAssembler(inputCols=df.columns[:-1],outputCol='features')                            \n",
    "final_data = assembler.transform(df).select('features','label')\n",
    "final_data.show(5)"
   ]
  },
  {
   "cell_type": "code",
   "execution_count": 6,
   "metadata": {},
   "outputs": [
    {
     "name": "stdout",
     "output_type": "stream",
     "text": [
      "+-------+------------------+\n",
      "|summary|             label|\n",
      "+-------+------------------+\n",
      "|  count|               372|\n",
      "|   mean|22.347580645161297|\n",
      "| stddev| 9.073222327441464|\n",
      "|    min|               5.0|\n",
      "|    max|              50.0|\n",
      "+-------+------------------+\n",
      "\n",
      "+-------+------------------+\n",
      "|summary|             label|\n",
      "+-------+------------------+\n",
      "|  count|               134|\n",
      "|   mean|23.047014925373137|\n",
      "| stddev| 9.548504510694489|\n",
      "|    min|               5.0|\n",
      "|    max|              50.0|\n",
      "+-------+------------------+\n",
      "\n"
     ]
    }
   ],
   "source": [
    "# Split Train Test sets\n",
    "seed = 101\n",
    "train_data,test_data = final_data.randomSplit([0.7,0.3],seed=seed)\n",
    "train_data.describe().show()\n",
    "test_data.describe().show()"
   ]
  },
  {
   "cell_type": "markdown",
   "metadata": {},
   "source": [
    "## Baseline Model"
   ]
  },
  {
   "cell_type": "code",
   "execution_count": 7,
   "metadata": {},
   "outputs": [],
   "source": [
    "from pyspark.ml.regression import (LinearRegression,GBTRegressor,                                   \n",
    "                                   DecisionTreeRegressor,RandomForestRegressor)                                   \n",
    "from pyspark.ml.evaluation import RegressionEvaluator"
   ]
  },
  {
   "cell_type": "markdown",
   "metadata": {},
   "source": [
    "#### Train Models"
   ]
  },
  {
   "cell_type": "code",
   "execution_count": 8,
   "metadata": {},
   "outputs": [],
   "source": [
    "# Initialize multiple regressors\n",
    "lrr = LinearRegression()\n",
    "dtr = DecisionTreeRegressor(seed=seed)\n",
    "rfr = RandomForestRegressor(seed=seed)\n",
    "gbr = GBTRegressor(seed=seed)\n",
    "\n",
    "# Train the models \n",
    "lr_model = lrr.fit(train_data)\n",
    "dtr_model = dtr.fit(train_data)\n",
    "rfr_model = rfr.fit(train_data)\n",
    "gbr_model = gbr.fit(train_data)"
   ]
  },
  {
   "cell_type": "markdown",
   "metadata": {},
   "source": [
    "#### Evaluate Models"
   ]
  },
  {
   "cell_type": "code",
   "execution_count": 9,
   "metadata": {},
   "outputs": [
    {
     "name": "stdout",
     "output_type": "stream",
     "text": [
      "\t\t\tMSE\tR2\n",
      "Linear Regression:\t32.735\t0.638\n",
      "Decision Tree:\t\t55.840\t0.383\n",
      "Random Forest:\t\t22.824\t0.748\n",
      "GBT:\t\t\t52.562\t0.419\n"
     ]
    }
   ],
   "source": [
    "# Make predictions\n",
    "lr_predictions = lr_model.transform(test_data)\n",
    "dtr_predictions = dtr_model.transform(test_data)\n",
    "rfr_predictions = rfr_model.transform(test_data)\n",
    "gbr_predictions = gbr_model.transform(test_data)\n",
    "\n",
    "# Evaluate the models\n",
    "mse_eval = RegressionEvaluator(metricName='mse')\n",
    "r2_eval = RegressionEvaluator(metricName='r2')\n",
    "print('\\t\\t\\tMSE\\tR2')\n",
    "print('Linear Regression:\\t{:.3f}\\t{:.3f}'.format(mse_eval.evaluate(lr_predictions),\n",
    "                                          r2_eval.evaluate(lr_predictions)))\n",
    "print('Decision Tree:\\t\\t{:.3f}\\t{:.3f}'.format(mse_eval.evaluate(dtr_predictions),\n",
    "                                          r2_eval.evaluate(dtr_predictions)))\n",
    "print('Random Forest:\\t\\t{:.3f}\\t{:.3f}'.format(mse_eval.evaluate(rfr_predictions),\n",
    "                                          r2_eval.evaluate(rfr_predictions)))\n",
    "print('GBT:\\t\\t\\t{:.3f}\\t{:.3f}'.format(mse_eval.evaluate(gbr_predictions),\n",
    "                                          r2_eval.evaluate(gbr_predictions)))"
   ]
  },
  {
   "cell_type": "markdown",
   "metadata": {},
   "source": [
    "## Parameter tuning"
   ]
  },
  {
   "cell_type": "markdown",
   "metadata": {},
   "source": [
    "#### Grid Search"
   ]
  },
  {
   "cell_type": "code",
   "execution_count": 10,
   "metadata": {},
   "outputs": [
    {
     "name": "stdout",
     "output_type": "stream",
     "text": [
      "[13.719501143300205, 12.793663094493308, 13.701430927963987, 12.442737353680325, 13.822752468610089, 12.883399324015599]\n",
      "RandomForestRegressionModel (uid=RandomForestRegressor_4f8096340763d9230e90) with 50 trees\n"
     ]
    }
   ],
   "source": [
    "from pyspark.ml.tuning import CrossValidator, ParamGridBuilder\n",
    "\n",
    "# randomforest\n",
    "regressor = RandomForestRegressor(seed=seed)\n",
    "# grid params\n",
    "paramGrid = ParamGridBuilder() \\\n",
    "    .addGrid(regressor.numTrees, [20,50,100]) \\\n",
    "    .addGrid(regressor.maxDepth, [5,10]) \\\n",
    "    .build()\n",
    "# cross validation\n",
    "crossval = CrossValidator(estimator=regressor,\n",
    "                          estimatorParamMaps=paramGrid,\n",
    "                          evaluator=mse_eval,\n",
    "                          numFolds=3, \n",
    "                          seed=seed)\n",
    "cvModel = crossval.fit(train_data)\n",
    "# results\n",
    "print(cvModel.avgMetrics)\n",
    "print(cvModel.bestModel) #numTrees=50, maxDepth=10"
   ]
  },
  {
   "cell_type": "markdown",
   "metadata": {},
   "source": [
    "#### Evaluate the best model"
   ]
  },
  {
   "cell_type": "code",
   "execution_count": 11,
   "metadata": {},
   "outputs": [
    {
     "name": "stdout",
     "output_type": "stream",
     "text": [
      "\t\t\tMSE\tR2\n",
      "Linear Regression:\t20.930\t0.769\n"
     ]
    }
   ],
   "source": [
    "# make predictions\n",
    "predictions = cvModel.transform(test_data)\n",
    "# calculate mse, r2 score\n",
    "print('\\t\\t\\tMSE\\tR2')\n",
    "print('Linear Regression:\\t{:.3f}\\t{:.3f}'.format(mse_eval.evaluate(predictions),\n",
    "                                          r2_eval.evaluate(predictions)))"
   ]
  },
  {
   "cell_type": "markdown",
   "metadata": {},
   "source": [
    "## Final Model"
   ]
  },
  {
   "cell_type": "code",
   "execution_count": 12,
   "metadata": {},
   "outputs": [
    {
     "name": "stdout",
     "output_type": "stream",
     "text": [
      "+--------------------+-----+------------------+\n",
      "|            features|label|        prediction|\n",
      "+--------------------+-----+------------------+\n",
      "|[0.01381,80.0,0.4...| 50.0| 45.66733333333334|\n",
      "|[0.01439,60.0,2.9...| 29.1| 30.79745320910972|\n",
      "|[0.01501,80.0,2.0...| 24.5| 27.67018024958109|\n",
      "|[0.01709,90.0,2.0...| 30.1| 32.54419523809523|\n",
      "|[0.01965,80.0,1.7...| 20.1|23.059304761904762|\n",
      "+--------------------+-----+------------------+\n",
      "only showing top 5 rows\n",
      "\n",
      "RMSE:\t4.575\n",
      "MSE:\t20.930\n",
      "R2:\t0.769\n"
     ]
    }
   ],
   "source": [
    "# Train the model\n",
    "regressor = RandomForestRegressor(numTrees=50,maxDepth=10,seed=seed)                                  \n",
    "final_model = regressor.fit(train_data)\n",
    "# Make predictions\n",
    "predictions = final_model.transform(test_data)\n",
    "predictions.show(5)\n",
    "# Evaluate the model\n",
    "rmse_eval = RegressionEvaluator(metricName='rmse')\n",
    "print('RMSE:\\t{:.3f}'.format(rmse_eval.evaluate(predictions)))\n",
    "print('MSE:\\t{:.3f}'.format(mse_eval.evaluate(predictions)))\n",
    "print('R2:\\t{:.3f}'.format(r2_eval.evaluate(predictions)))"
   ]
  },
  {
   "cell_type": "code",
   "execution_count": 13,
   "metadata": {},
   "outputs": [
    {
     "data": {
      "image/png": "[encoded data removed]",
      "text/plain": [
       "<matplotlib.figure.Figure at 0x7fa6e37ed748>"
      ]
     },
     "metadata": {},
     "output_type": "display_data"
    },
    {
     "data": {
      "image/png": "[encoded data removed]",
      "text/plain": [
       "<matplotlib.figure.Figure at 0x7fa6aff4cc18>"
      ]
     },
     "metadata": {},
     "output_type": "display_data"
    }
   ],
   "source": [
    "import pandas as pd\n",
    "import matplotlib.pyplot as plt\n",
    "%matplotlib inline\n",
    "# visualize the results\n",
    "df_pred = predictions.toPandas()\n",
    "df_pred.plot.scatter(x='label',y='prediction')\n",
    "plt.title('MEDV: True vs Predicted')\n",
    "plt.xlabel('True')\n",
    "plt.ylabel('Predicted')\n",
    "plt.show()\n",
    "# residuals\n",
    "df_res = df_pred['label']-df_pred['prediction']\n",
    "df_res.hist(bins=30)\n",
    "plt.xlabel('Error (True-Pred)')\n",
    "plt.show()"
   ]
  },
  {
   "cell_type": "code",
   "execution_count": 14,
   "metadata": {},
   "outputs": [],
   "source": [
    "spark.stop()"
   ]
  }
 ],
 "metadata": {
  "kernelspec": {
   "display_name": "Python 3",
   "language": "python",
   "name": "python3"
  },
  "language_info": {
   "codemirror_mode": {
    "name": "ipython",
    "version": 3
   },
   "file_extension": ".py",
   "mimetype": "text/x-python",
   "name": "python",
   "nbconvert_exporter": "python",
   "pygments_lexer": "ipython3",
   "version": "3.5.2"
  }
 },
 "nbformat": 4,
 "nbformat_minor": 2
}
