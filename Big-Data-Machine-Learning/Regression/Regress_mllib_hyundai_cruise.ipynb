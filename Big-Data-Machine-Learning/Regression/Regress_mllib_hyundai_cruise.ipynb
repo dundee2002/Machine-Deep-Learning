{
 "cells": [
  {
   "cell_type": "markdown",
   "metadata": {},
   "source": [
    "## Regression: Hyundai Heavy Industry Cruise ship data\n",
    "http://www.hyundai.eu\n",
    "\n",
    "** Dataset Information: **\n",
    "\n",
    "Measurements of ship size, capacity, crew, and age for 158 cruise ships\n",
    "\n",
    "** Attribute Information: **\n",
    "\n",
    "- Ship Name     1-20\n",
    "- Cruise Line   21-40\n",
    "- Age (as of 2013)   46-48\n",
    "- Tonnage (1000s of tons)   50-56\n",
    "- passengers (100s)   58-64\n",
    "- Length (100s of feet)  66-72\n",
    "- Cabins  (100s)   74-80\n",
    "- Passenger Density   82-88\n",
    "- Crew  (100s)   90-96\n",
    "\n",
    "** Objective of this project **\n",
    "\n",
    "predict how many crew members will be needed for future ships"
   ]
  },
  {
   "cell_type": "markdown",
   "metadata": {},
   "source": [
    "## Data"
   ]
  },
  {
   "cell_type": "code",
   "execution_count": 1,
   "metadata": {},
   "outputs": [],
   "source": [
    "import findspark\n",
    "findspark.init('/home/danny/spark-2.2.1-bin-hadoop2.7')\n",
    "\n",
    "from pyspark.sql import SparkSession\n",
    "spark = SparkSession.builder.appName('cruise').getOrCreate()"
   ]
  },
  {
   "cell_type": "code",
   "execution_count": 2,
   "metadata": {},
   "outputs": [
    {
     "name": "stdout",
     "output_type": "stream",
     "text": [
      "root\n",
      " |-- Ship_name: string (nullable = true)\n",
      " |-- Cruise_line: string (nullable = true)\n",
      " |-- Age: integer (nullable = true)\n",
      " |-- Tonnage: double (nullable = true)\n",
      " |-- passengers: double (nullable = true)\n",
      " |-- length: double (nullable = true)\n",
      " |-- cabins: double (nullable = true)\n",
      " |-- passenger_density: double (nullable = true)\n",
      " |-- crew: double (nullable = true)\n",
      "\n"
     ]
    }
   ],
   "source": [
    "# Load Data\n",
    "df = spark.read.csv('cruise_ship_info.csv',inferSchema=True,header=True)\n",
    "# Inspect Data\n",
    "df.printSchema()"
   ]
  },
  {
   "cell_type": "code",
   "execution_count": 3,
   "metadata": {},
   "outputs": [
    {
     "name": "stdout",
     "output_type": "stream",
     "text": [
      "+-----------+-----------+---+------------------+----------+------+------+-----------------+-----+\n",
      "|  Ship_name|Cruise_line|Age|           Tonnage|passengers|length|cabins|passenger_density|label|\n",
      "+-----------+-----------+---+------------------+----------+------+------+-----------------+-----+\n",
      "|    Journey|    Azamara|  6|30.276999999999997|      6.94|  5.94|  3.55|            42.64| 3.55|\n",
      "|      Quest|    Azamara|  6|30.276999999999997|      6.94|  5.94|  3.55|            42.64| 3.55|\n",
      "|Celebration|   Carnival| 26|            47.262|     14.86|  7.22|  7.43|             31.8|  6.7|\n",
      "|   Conquest|   Carnival| 11|             110.0|     29.74|  9.53| 14.88|            36.99| 19.1|\n",
      "|    Destiny|   Carnival| 17|           101.353|     26.42|  8.92| 13.21|            38.36| 10.0|\n",
      "+-----------+-----------+---+------------------+----------+------+------+-----------------+-----+\n",
      "only showing top 5 rows\n",
      "\n"
     ]
    }
   ],
   "source": [
    "df = df.withColumnRenamed('crew','label')\n",
    "df.show(5)"
   ]
  },
  {
   "cell_type": "code",
   "execution_count": 4,
   "metadata": {},
   "outputs": [
    {
     "data": {
      "text/plain": [
       "Row(Ship_name='Journey', Cruise_line='Azamara', Age=6, Tonnage=30.276999999999997, passengers=6.94, length=5.94, cabins=3.55, passenger_density=42.64, label=3.55)"
      ]
     },
     "execution_count": 4,
     "metadata": {},
     "output_type": "execute_result"
    }
   ],
   "source": [
    "df.head()"
   ]
  },
  {
   "cell_type": "code",
   "execution_count": 5,
   "metadata": {},
   "outputs": [
    {
     "name": "stdout",
     "output_type": "stream",
     "text": [
      "+-------+---------+-----------+------------------+------------------+-----------------+-----------------+------------------+-----------------+-----------------+\n",
      "|summary|Ship_name|Cruise_line|               Age|           Tonnage|       passengers|           length|            cabins|passenger_density|            label|\n",
      "+-------+---------+-----------+------------------+------------------+-----------------+-----------------+------------------+-----------------+-----------------+\n",
      "|  count|      158|        158|               158|               158|              158|              158|               158|              158|              158|\n",
      "|   mean| Infinity|       null|15.689873417721518| 71.28467088607599|18.45740506329114|8.130632911392404| 8.830000000000005|39.90094936708861|7.794177215189873|\n",
      "| stddev|      NaN|       null| 7.615691058751413|37.229540025907866|9.677094775143416|1.793473548054825|4.4714172221480615| 8.63921711391542|3.503486564627034|\n",
      "|    min|Adventure|    Azamara|                 4|             2.329|             0.66|             2.79|              0.33|             17.7|             0.59|\n",
      "|    max|Zuiderdam|   Windstar|                48|             220.0|             54.0|            11.82|              27.0|            71.43|             21.0|\n",
      "+-------+---------+-----------+------------------+------------------+-----------------+-----------------+------------------+-----------------+-----------------+\n",
      "\n"
     ]
    }
   ],
   "source": [
    "df.describe().show()"
   ]
  },
  {
   "cell_type": "code",
   "execution_count": 6,
   "metadata": {},
   "outputs": [
    {
     "name": "stdout",
     "output_type": "stream",
     "text": [
      "+-----------------------+\n",
      "|corr(label, passengers)|\n",
      "+-----------------------+\n",
      "|     0.9152341306065384|\n",
      "+-----------------------+\n",
      "\n",
      "+-------------------+\n",
      "|corr(label, cabins)|\n",
      "+-------------------+\n",
      "| 0.9508226063578497|\n",
      "+-------------------+\n",
      "\n"
     ]
    }
   ],
   "source": [
    "from pyspark.sql.functions import corr\n",
    "df.select(corr('label','passengers')).show()\n",
    "df.select(corr('label','cabins')).show()"
   ]
  },
  {
   "cell_type": "markdown",
   "metadata": {},
   "source": [
    "## Data preprocessing"
   ]
  },
  {
   "cell_type": "code",
   "execution_count": 7,
   "metadata": {},
   "outputs": [],
   "source": [
    "from pyspark.ml.feature import StringIndexer,VectorAssembler"
   ]
  },
  {
   "cell_type": "markdown",
   "metadata": {},
   "source": [
    "** Convert categorical to numeric **"
   ]
  },
  {
   "cell_type": "code",
   "execution_count": 8,
   "metadata": {},
   "outputs": [
    {
     "name": "stdout",
     "output_type": "stream",
     "text": [
      "+-----------------+-----+\n",
      "|      Cruise_line|count|\n",
      "+-----------------+-----+\n",
      "|            Costa|   11|\n",
      "|              P&O|    6|\n",
      "|           Cunard|    3|\n",
      "|Regent_Seven_Seas|    5|\n",
      "|              MSC|    8|\n",
      "|         Carnival|   22|\n",
      "|          Crystal|    2|\n",
      "|           Orient|    1|\n",
      "|         Princess|   17|\n",
      "|        Silversea|    4|\n",
      "|         Seabourn|    3|\n",
      "| Holland_American|   14|\n",
      "|         Windstar|    3|\n",
      "|           Disney|    2|\n",
      "|        Norwegian|   13|\n",
      "|          Oceania|    3|\n",
      "|          Azamara|    2|\n",
      "|        Celebrity|   10|\n",
      "|             Star|    6|\n",
      "|  Royal_Caribbean|   23|\n",
      "+-----------------+-----+\n",
      "\n"
     ]
    }
   ],
   "source": [
    "df.groupBy('Cruise_line').count().show()"
   ]
  },
  {
   "cell_type": "code",
   "execution_count": 9,
   "metadata": {},
   "outputs": [
    {
     "name": "stdout",
     "output_type": "stream",
     "text": [
      "+----------+\n",
      "|cruise_cat|\n",
      "+----------+\n",
      "|      16.0|\n",
      "|      16.0|\n",
      "|       1.0|\n",
      "|       1.0|\n",
      "|       1.0|\n",
      "+----------+\n",
      "only showing top 5 rows\n",
      "\n"
     ]
    }
   ],
   "source": [
    "indexer = StringIndexer(inputCol=\"Cruise_line\", outputCol=\"cruise_cat\")\n",
    "indexed = indexer.fit(df).transform(df)\n",
    "indexed.select('cruise_cat').show(5)"
   ]
  },
  {
   "cell_type": "markdown",
   "metadata": {},
   "source": [
    "** Split Features & Class (or target) **"
   ]
  },
  {
   "cell_type": "code",
   "execution_count": 10,
   "metadata": {},
   "outputs": [
    {
     "data": {
      "text/plain": [
       "['Ship_name',\n",
       " 'Cruise_line',\n",
       " 'Age',\n",
       " 'Tonnage',\n",
       " 'passengers',\n",
       " 'length',\n",
       " 'cabins',\n",
       " 'passenger_density',\n",
       " 'label',\n",
       " 'cruise_cat']"
      ]
     },
     "execution_count": 10,
     "metadata": {},
     "output_type": "execute_result"
    }
   ],
   "source": [
    "indexed.columns"
   ]
  },
  {
   "cell_type": "code",
   "execution_count": 11,
   "metadata": {},
   "outputs": [
    {
     "name": "stdout",
     "output_type": "stream",
     "text": [
      "+--------------------+-----+\n",
      "|            features|label|\n",
      "+--------------------+-----+\n",
      "|[6.0,30.276999999...| 3.55|\n",
      "|[6.0,30.276999999...| 3.55|\n",
      "|[26.0,47.262,14.8...|  6.7|\n",
      "|[11.0,110.0,29.74...| 19.1|\n",
      "|[17.0,101.353,26....| 10.0|\n",
      "+--------------------+-----+\n",
      "only showing top 5 rows\n",
      "\n"
     ]
    }
   ],
   "source": [
    "# combine features into a single column\n",
    "assembler = VectorAssembler(inputCols=['Age','Tonnage','passengers',\n",
    "                                       'length','cabins','passenger_density',\n",
    "                                        'cruise_cat'],\n",
    "                            outputCol='features') \n",
    "final_data = assembler.transform(indexed).select('features','label')\n",
    "final_data.show(5)"
   ]
  },
  {
   "cell_type": "markdown",
   "metadata": {},
   "source": [
    "** Split Train Test sets **"
   ]
  },
  {
   "cell_type": "code",
   "execution_count": 12,
   "metadata": {},
   "outputs": [
    {
     "name": "stdout",
     "output_type": "stream",
     "text": [
      "+-------+-----------------+\n",
      "|summary|            label|\n",
      "+-------+-----------------+\n",
      "|  count|              116|\n",
      "|   mean|7.761982758620701|\n",
      "| stddev| 3.46703186422136|\n",
      "|    min|             0.59|\n",
      "|    max|             21.0|\n",
      "+-------+-----------------+\n",
      "\n",
      "+-------+------------------+\n",
      "|summary|             label|\n",
      "+-------+------------------+\n",
      "|  count|                42|\n",
      "|   mean| 7.883095238095238|\n",
      "| stddev|3.6435566168205447|\n",
      "|    min|              1.46|\n",
      "|    max|              19.1|\n",
      "+-------+------------------+\n",
      "\n"
     ]
    }
   ],
   "source": [
    "seed = 101 #for reproducibility\n",
    "train_data,test_data = final_data.randomSplit([0.7,0.3],seed=seed)\n",
    "train_data.describe().show()\n",
    "test_data.describe().show()"
   ]
  },
  {
   "cell_type": "markdown",
   "metadata": {},
   "source": [
    "## Baseline Model"
   ]
  },
  {
   "cell_type": "code",
   "execution_count": 13,
   "metadata": {},
   "outputs": [],
   "source": [
    "from pyspark.ml.regression import (LinearRegression,GBTRegressor,\n",
    "                                   DecisionTreeRegressor,RandomForestRegressor)\n",
    "from pyspark.ml.evaluation import RegressionEvaluator"
   ]
  },
  {
   "cell_type": "markdown",
   "metadata": {},
   "source": [
    "#### Train Models"
   ]
  },
  {
   "cell_type": "code",
   "execution_count": 14,
   "metadata": {},
   "outputs": [],
   "source": [
    "# Initialize multiple regressors\n",
    "lrr = LinearRegression()\n",
    "dtr = DecisionTreeRegressor(seed=seed)\n",
    "rfr = RandomForestRegressor(seed=seed)\n",
    "gbr = GBTRegressor(seed=seed)\n",
    "\n",
    "# Train the models \n",
    "lr_model = lrr.fit(train_data)\n",
    "dtr_model = dtr.fit(train_data)\n",
    "rfr_model = rfr.fit(train_data)\n",
    "gbr_model = gbr.fit(train_data)"
   ]
  },
  {
   "cell_type": "markdown",
   "metadata": {},
   "source": [
    "#### Evaluate Models"
   ]
  },
  {
   "cell_type": "code",
   "execution_count": 15,
   "metadata": {},
   "outputs": [
    {
     "name": "stdout",
     "output_type": "stream",
     "text": [
      "\t\t\tMSE\tR2\n",
      "Linear Regression:\t2.295\t0.823\n",
      "Decision Tree:\t\t2.504\t0.807\n",
      "Random Forest:\t\t2.395\t0.815\n",
      "GBT:\t\t\t2.437\t0.812\n"
     ]
    }
   ],
   "source": [
    "# Make predictions\n",
    "lr_predictions = lr_model.transform(test_data)\n",
    "dtr_predictions = dtr_model.transform(test_data)\n",
    "rfr_predictions = rfr_model.transform(test_data)\n",
    "gbr_predictions = gbr_model.transform(test_data)\n",
    "\n",
    "# Evaluate the models\n",
    "mse_eval = RegressionEvaluator(metricName='mse')\n",
    "r2_eval = RegressionEvaluator(metricName='r2')\n",
    "print('\\t\\t\\tMSE\\tR2')\n",
    "print('Linear Regression:\\t{:.3f}\\t{:.3f}'.format(mse_eval.evaluate(lr_predictions),\n",
    "                                          r2_eval.evaluate(lr_predictions)))\n",
    "print('Decision Tree:\\t\\t{:.3f}\\t{:.3f}'.format(mse_eval.evaluate(dtr_predictions),\n",
    "                                          r2_eval.evaluate(dtr_predictions)))\n",
    "print('Random Forest:\\t\\t{:.3f}\\t{:.3f}'.format(mse_eval.evaluate(rfr_predictions),\n",
    "                                          r2_eval.evaluate(rfr_predictions)))\n",
    "print('GBT:\\t\\t\\t{:.3f}\\t{:.3f}'.format(mse_eval.evaluate(gbr_predictions),\n",
    "                                          r2_eval.evaluate(gbr_predictions)))"
   ]
  },
  {
   "cell_type": "markdown",
   "metadata": {},
   "source": [
    "## Parameter tuning"
   ]
  },
  {
   "cell_type": "markdown",
   "metadata": {},
   "source": [
    "#### Grid Search"
   ]
  },
  {
   "cell_type": "code",
   "execution_count": 16,
   "metadata": {},
   "outputs": [
    {
     "name": "stdout",
     "output_type": "stream",
     "text": [
      "[0.5250554892757787, 0.6526646129733067, 0.6932388950526308, 0.5250554892757787, 0.6391708975720989, 0.7063801081544242, 0.5250554892757787, 0.6734028637065406, 0.7942789618625546]\n",
      "LinearRegression_4a7c879e96a9e924a00f\n"
     ]
    }
   ],
   "source": [
    "from pyspark.ml.tuning import CrossValidator, ParamGridBuilder\n",
    "\n",
    "# randomforest\n",
    "regressor = LinearRegression()\n",
    "# grid params\n",
    "paramGrid = ParamGridBuilder() \\\n",
    "    .addGrid(regressor.regParam, [0.0, 0.2, 0.4]) \\\n",
    "    .addGrid(regressor.elasticNetParam, [0.0, 0.5 ,1.0]) \\\n",
    "    .build()\n",
    "# cross validation\n",
    "crossval = CrossValidator(estimator=regressor,\n",
    "                          estimatorParamMaps=paramGrid,\n",
    "                          evaluator=mse_eval,\n",
    "                          numFolds=3,\n",
    "                          seed=seed)\n",
    "cvModel = crossval.fit(train_data)\n",
    "# results\n",
    "print(cvModel.avgMetrics)\n",
    "print(cvModel.bestModel) #regParam=0, elasticNetParam=0"
   ]
  },
  {
   "cell_type": "markdown",
   "metadata": {},
   "source": [
    "#### Evaluate the best model"
   ]
  },
  {
   "cell_type": "code",
   "execution_count": 17,
   "metadata": {},
   "outputs": [
    {
     "name": "stdout",
     "output_type": "stream",
     "text": [
      "\t\t\tMSE\tR2\n",
      "Linear Regression:\t2.295\t0.823\n"
     ]
    }
   ],
   "source": [
    "# make predictions\n",
    "predictions = cvModel.transform(test_data)\n",
    "# calculate mse, r2 score\n",
    "print('\\t\\t\\tMSE\\tR2')\n",
    "print('Linear Regression:\\t{:.3f}\\t{:.3f}'.format(mse_eval.evaluate(predictions),\n",
    "                                          r2_eval.evaluate(predictions)))"
   ]
  },
  {
   "cell_type": "markdown",
   "metadata": {},
   "source": [
    "## Final Model"
   ]
  },
  {
   "cell_type": "code",
   "execution_count": 18,
   "metadata": {},
   "outputs": [
    {
     "name": "stdout",
     "output_type": "stream",
     "text": [
      "RMSE:\t1.515\n",
      "MSE:\t2.295\n",
      "R2:\t0.823\n"
     ]
    }
   ],
   "source": [
    "# Train the model\n",
    "regressor = LinearRegression(regParam=0.0, elasticNetParam=0.0)\n",
    "final_model = regressor.fit(train_data)\n",
    "# Evaluate the model\n",
    "test_results = final_model.evaluate(test_data)\n",
    "print('RMSE:\\t{:.3f}'.format(test_results.rootMeanSquaredError))\n",
    "print('MSE:\\t{:.3f}'.format(test_results.meanSquaredError))\n",
    "print('R2:\\t{:.3f}'.format(test_results.r2))"
   ]
  },
  {
   "cell_type": "code",
   "execution_count": 19,
   "metadata": {},
   "outputs": [
    {
     "name": "stdout",
     "output_type": "stream",
     "text": [
      "+--------------------+-----+------------------+\n",
      "|            features|label|        prediction|\n",
      "+--------------------+-----+------------------+\n",
      "|[6.0,30.276999999...| 3.55| 4.328294690718178|\n",
      "|[6.0,90.0,20.0,9....|  9.0|10.090913020441276|\n",
      "|[6.0,93.0,23.94,9...|11.09|10.361966767736325|\n",
      "|[6.0,113.0,37.82,...| 12.0|11.438695124752334|\n",
      "|[7.0,158.0,43.7,1...| 13.6|13.800265094541881|\n",
      "+--------------------+-----+------------------+\n",
      "only showing top 5 rows\n",
      "\n"
     ]
    },
    {
     "data": {
      "image/png": "[encoded data removed]",
      "text/plain": [
       "<matplotlib.figure.Figure at 0x7fbbbe2319b0>"
      ]
     },
     "metadata": {},
     "output_type": "display_data"
    },
    {
     "data": {
      "image/png": "[encoded data removed]",
      "text/plain": [
       "<matplotlib.figure.Figure at 0x7fbb88cbbac8>"
      ]
     },
     "metadata": {},
     "output_type": "display_data"
    }
   ],
   "source": [
    "import pandas as pd\n",
    "import matplotlib.pyplot as plt\n",
    "%matplotlib inline\n",
    "# make predictions\n",
    "predictions = final_model.transform(test_data)\n",
    "predictions.show(5)\n",
    "# visualize the results\n",
    "df_pred = predictions.toPandas()\n",
    "df_pred.plot.scatter(x='label',y='prediction')\n",
    "plt.title('Crew: True vs Predicted')\n",
    "plt.xlabel('True')\n",
    "plt.ylabel('Predicted')\n",
    "plt.show()\n",
    "# residuals\n",
    "test_results.residuals.toPandas().hist(bins=30)\n",
    "plt.xlabel('Error (True-Pred)')\n",
    "plt.show()"
   ]
  },
  {
   "cell_type": "code",
   "execution_count": 20,
   "metadata": {},
   "outputs": [],
   "source": [
    "spark.stop()"
   ]
  }
 ],
 "metadata": {
  "kernelspec": {
   "display_name": "Python 3",
   "language": "python",
   "name": "python3"
  },
  "language_info": {
   "codemirror_mode": {
    "name": "ipython",
    "version": 3
   },
   "file_extension": ".py",
   "mimetype": "text/x-python",
   "name": "python",
   "nbconvert_exporter": "python",
   "pygments_lexer": "ipython3",
   "version": "3.5.2"
  }
 },
 "nbformat": 4,
 "nbformat_minor": 2
}
