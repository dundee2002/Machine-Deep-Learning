{
 "cells": [
  {
   "cell_type": "markdown",
   "metadata": {},
   "source": [
    "## NLP & MultiClass Classification: Airline Twitter sentiment data\n",
    "https://www.crowdflower.com/data-for-everyone/\n",
    "\n",
    "** Dataset Information: **\n",
    "\n",
    "- 14640 Scraped Twitter data for major U.S. airlines including positive, negative, and neutral tweets\n",
    "\n",
    "** Attribute Information:**\n",
    "\n",
    "- _unit_id                      \n",
    "- _golden                       \n",
    "- _unit_state                    \n",
    "- _trusted_judgments           \n",
    "- _last_judgment_at            \n",
    "- airline_sentiment              \n",
    "- airline_sentiment:confidence    \n",
    "- negativereason                  \n",
    "- negativereason:confidence     \n",
    "- airline                      \n",
    "- airline_sentiment_gold          \n",
    "- name                         \n",
    "- negativereason_gold         \n",
    "- retweet_count          \n",
    "- text                       \n",
    "- tweet_coord                     \n",
    "- tweet_created                  \n",
    "- tweet_id                        \n",
    "- tweet_location                  \n",
    "- user_timezone                   \n",
    "\n",
    "** Objective of this project **\n",
    "\n",
    "predict sentiment from tweets"
   ]
  },
  {
   "cell_type": "markdown",
   "metadata": {},
   "source": [
    "# Data"
   ]
  },
  {
   "cell_type": "code",
   "execution_count": 1,
   "metadata": {
    "collapsed": true
   },
   "outputs": [],
   "source": [
    "# Load libraries\n",
    "import numpy as np\n",
    "import pandas as pd\n",
    "import matplotlib.pyplot as plt\n",
    "import seaborn as sns\n",
    "%matplotlib inline"
   ]
  },
  {
   "cell_type": "code",
   "execution_count": 2,
   "metadata": {},
   "outputs": [
    {
     "data": {
      "text/html": [
       "<div>\n",
       "<style>\n",
       "    .dataframe thead tr:only-child th {\n",
       "        text-align: right;\n",
       "    }\n",
       "\n",
       "    .dataframe thead th {\n",
       "        text-align: left;\n",
       "    }\n",
       "\n",
       "    .dataframe tbody tr th {\n",
       "        vertical-align: top;\n",
       "    }\n",
       "</style>\n",
       "<table border=\"1\" class=\"dataframe\">\n",
       "  <thead>\n",
       "    <tr style=\"text-align: right;\">\n",
       "      <th></th>\n",
       "      <th>_unit_id</th>\n",
       "      <th>_golden</th>\n",
       "      <th>_unit_state</th>\n",
       "      <th>_trusted_judgments</th>\n",
       "      <th>_last_judgment_at</th>\n",
       "      <th>airline_sentiment</th>\n",
       "      <th>airline_sentiment:confidence</th>\n",
       "      <th>negativereason</th>\n",
       "      <th>negativereason:confidence</th>\n",
       "      <th>airline</th>\n",
       "      <th>airline_sentiment_gold</th>\n",
       "      <th>name</th>\n",
       "      <th>negativereason_gold</th>\n",
       "      <th>retweet_count</th>\n",
       "      <th>text</th>\n",
       "      <th>tweet_coord</th>\n",
       "      <th>tweet_created</th>\n",
       "      <th>tweet_id</th>\n",
       "      <th>tweet_location</th>\n",
       "      <th>user_timezone</th>\n",
       "    </tr>\n",
       "  </thead>\n",
       "  <tbody>\n",
       "    <tr>\n",
       "      <th>0</th>\n",
       "      <td>681448150</td>\n",
       "      <td>False</td>\n",
       "      <td>finalized</td>\n",
       "      <td>3</td>\n",
       "      <td>2/25/15 5:24</td>\n",
       "      <td>neutral</td>\n",
       "      <td>1.0000</td>\n",
       "      <td>NaN</td>\n",
       "      <td>NaN</td>\n",
       "      <td>Virgin America</td>\n",
       "      <td>NaN</td>\n",
       "      <td>cairdin</td>\n",
       "      <td>NaN</td>\n",
       "      <td>0</td>\n",
       "      <td>@VirginAmerica What @dhepburn said.</td>\n",
       "      <td>NaN</td>\n",
       "      <td>2/24/15 11:35</td>\n",
       "      <td>5.703060e+17</td>\n",
       "      <td>NaN</td>\n",
       "      <td>Eastern Time (US &amp; Canada)</td>\n",
       "    </tr>\n",
       "    <tr>\n",
       "      <th>1</th>\n",
       "      <td>681448153</td>\n",
       "      <td>False</td>\n",
       "      <td>finalized</td>\n",
       "      <td>3</td>\n",
       "      <td>2/25/15 1:53</td>\n",
       "      <td>positive</td>\n",
       "      <td>0.3486</td>\n",
       "      <td>NaN</td>\n",
       "      <td>0.0000</td>\n",
       "      <td>Virgin America</td>\n",
       "      <td>NaN</td>\n",
       "      <td>jnardino</td>\n",
       "      <td>NaN</td>\n",
       "      <td>0</td>\n",
       "      <td>@VirginAmerica plus you've added commercials to the experience... tacky.</td>\n",
       "      <td>NaN</td>\n",
       "      <td>2/24/15 11:15</td>\n",
       "      <td>5.703010e+17</td>\n",
       "      <td>NaN</td>\n",
       "      <td>Pacific Time (US &amp; Canada)</td>\n",
       "    </tr>\n",
       "    <tr>\n",
       "      <th>2</th>\n",
       "      <td>681448156</td>\n",
       "      <td>False</td>\n",
       "      <td>finalized</td>\n",
       "      <td>3</td>\n",
       "      <td>2/25/15 10:01</td>\n",
       "      <td>neutral</td>\n",
       "      <td>0.6837</td>\n",
       "      <td>NaN</td>\n",
       "      <td>NaN</td>\n",
       "      <td>Virgin America</td>\n",
       "      <td>NaN</td>\n",
       "      <td>yvonnalynn</td>\n",
       "      <td>NaN</td>\n",
       "      <td>0</td>\n",
       "      <td>@VirginAmerica I didn't today... Must mean I need to take another trip!</td>\n",
       "      <td>NaN</td>\n",
       "      <td>2/24/15 11:15</td>\n",
       "      <td>5.703010e+17</td>\n",
       "      <td>Lets Play</td>\n",
       "      <td>Central Time (US &amp; Canada)</td>\n",
       "    </tr>\n",
       "    <tr>\n",
       "      <th>3</th>\n",
       "      <td>681448158</td>\n",
       "      <td>False</td>\n",
       "      <td>finalized</td>\n",
       "      <td>3</td>\n",
       "      <td>2/25/15 3:05</td>\n",
       "      <td>negative</td>\n",
       "      <td>1.0000</td>\n",
       "      <td>Bad Flight</td>\n",
       "      <td>0.7033</td>\n",
       "      <td>Virgin America</td>\n",
       "      <td>NaN</td>\n",
       "      <td>jnardino</td>\n",
       "      <td>NaN</td>\n",
       "      <td>0</td>\n",
       "      <td>@VirginAmerica it's really aggressive to blast obnoxious \"entertainment\" in your guests' faces &amp;amp; they have little recourse</td>\n",
       "      <td>NaN</td>\n",
       "      <td>2/24/15 11:15</td>\n",
       "      <td>5.703010e+17</td>\n",
       "      <td>NaN</td>\n",
       "      <td>Pacific Time (US &amp; Canada)</td>\n",
       "    </tr>\n",
       "    <tr>\n",
       "      <th>4</th>\n",
       "      <td>681448159</td>\n",
       "      <td>False</td>\n",
       "      <td>finalized</td>\n",
       "      <td>3</td>\n",
       "      <td>2/25/15 5:50</td>\n",
       "      <td>negative</td>\n",
       "      <td>1.0000</td>\n",
       "      <td>Can't Tell</td>\n",
       "      <td>1.0000</td>\n",
       "      <td>Virgin America</td>\n",
       "      <td>NaN</td>\n",
       "      <td>jnardino</td>\n",
       "      <td>NaN</td>\n",
       "      <td>0</td>\n",
       "      <td>@VirginAmerica and it's a really big bad thing about it</td>\n",
       "      <td>NaN</td>\n",
       "      <td>2/24/15 11:14</td>\n",
       "      <td>5.703010e+17</td>\n",
       "      <td>NaN</td>\n",
       "      <td>Pacific Time (US &amp; Canada)</td>\n",
       "    </tr>\n",
       "  </tbody>\n",
       "</table>\n",
       "</div>"
      ],
      "text/plain": [
       "    _unit_id  _golden _unit_state  _trusted_judgments _last_judgment_at  \\\n",
       "0  681448150  False    finalized   3                   2/25/15 5:24       \n",
       "1  681448153  False    finalized   3                   2/25/15 1:53       \n",
       "2  681448156  False    finalized   3                   2/25/15 10:01      \n",
       "3  681448158  False    finalized   3                   2/25/15 3:05       \n",
       "4  681448159  False    finalized   3                   2/25/15 5:50       \n",
       "\n",
       "  airline_sentiment  airline_sentiment:confidence negativereason  \\\n",
       "0  neutral           1.0000                        NaN             \n",
       "1  positive          0.3486                        NaN             \n",
       "2  neutral           0.6837                        NaN             \n",
       "3  negative          1.0000                        Bad Flight      \n",
       "4  negative          1.0000                        Can't Tell      \n",
       "\n",
       "   negativereason:confidence         airline airline_sentiment_gold  \\\n",
       "0 NaN                         Virgin America  NaN                     \n",
       "1  0.0000                     Virgin America  NaN                     \n",
       "2 NaN                         Virgin America  NaN                     \n",
       "3  0.7033                     Virgin America  NaN                     \n",
       "4  1.0000                     Virgin America  NaN                     \n",
       "\n",
       "         name negativereason_gold  retweet_count  \\\n",
       "0  cairdin     NaN                 0               \n",
       "1  jnardino    NaN                 0               \n",
       "2  yvonnalynn  NaN                 0               \n",
       "3  jnardino    NaN                 0               \n",
       "4  jnardino    NaN                 0               \n",
       "\n",
       "                                                                                                                             text  \\\n",
       "0  @VirginAmerica What @dhepburn said.                                                                                              \n",
       "1  @VirginAmerica plus you've added commercials to the experience... tacky.                                                         \n",
       "2  @VirginAmerica I didn't today... Must mean I need to take another trip!                                                          \n",
       "3  @VirginAmerica it's really aggressive to blast obnoxious \"entertainment\" in your guests' faces &amp; they have little recourse   \n",
       "4  @VirginAmerica and it's a really big bad thing about it                                                                          \n",
       "\n",
       "  tweet_coord  tweet_created      tweet_id tweet_location  \\\n",
       "0  NaN         2/24/15 11:35  5.703060e+17  NaN             \n",
       "1  NaN         2/24/15 11:15  5.703010e+17  NaN             \n",
       "2  NaN         2/24/15 11:15  5.703010e+17  Lets Play       \n",
       "3  NaN         2/24/15 11:15  5.703010e+17  NaN             \n",
       "4  NaN         2/24/15 11:14  5.703010e+17  NaN             \n",
       "\n",
       "                user_timezone  \n",
       "0  Eastern Time (US & Canada)  \n",
       "1  Pacific Time (US & Canada)  \n",
       "2  Central Time (US & Canada)  \n",
       "3  Pacific Time (US & Canada)  \n",
       "4  Pacific Time (US & Canada)  "
      ]
     },
     "execution_count": 2,
     "metadata": {},
     "output_type": "execute_result"
    }
   ],
   "source": [
    "# Load Data\n",
    "df = pd.read_csv('Airline-Sentiment-2-w-AA.csv', encoding='latin-1')\n",
    "pd.set_option('display.max_colwidth', -1)\n",
    "df.head()"
   ]
  },
  {
   "cell_type": "code",
   "execution_count": 3,
   "metadata": {},
   "outputs": [
    {
     "data": {
      "text/plain": [
       "14635    @AmericanAir thank you we got on a different flight to Chicago.                                                                                       \n",
       "14636    @AmericanAir leaving over 20 minutes Late Flight. No warnings or communication until we were 15 minutes Late Flight. That's called shitty customer svc\n",
       "14637    @AmericanAir Please bring American Airlines to #BlackBerry10                                                                                          \n",
       "14638    @AmericanAir you have my money, you change my flight, and don't answer your phones! Any other suggestions so I can make my commitment??               \n",
       "14639    @AmericanAir we have 8 ppl so we need 2 know how many seats are on the next flight. Plz put us on standby for 4 people on the next flight?            \n",
       "Name: text, dtype: object"
      ]
     },
     "execution_count": 3,
     "metadata": {},
     "output_type": "execute_result"
    }
   ],
   "source": [
    "df['text'].tail()"
   ]
  },
  {
   "cell_type": "code",
   "execution_count": 4,
   "metadata": {},
   "outputs": [
    {
     "name": "stdout",
     "output_type": "stream",
     "text": [
      "<class 'pandas.core.frame.DataFrame'>\n",
      "RangeIndex: 14640 entries, 0 to 14639\n",
      "Data columns (total 20 columns):\n",
      "_unit_id                        14640 non-null int64\n",
      "_golden                         14640 non-null bool\n",
      "_unit_state                     14640 non-null object\n",
      "_trusted_judgments              14640 non-null int64\n",
      "_last_judgment_at               14584 non-null object\n",
      "airline_sentiment               14640 non-null object\n",
      "airline_sentiment:confidence    14640 non-null float64\n",
      "negativereason                  9178 non-null object\n",
      "negativereason:confidence       10522 non-null float64\n",
      "airline                         14640 non-null object\n",
      "airline_sentiment_gold          40 non-null object\n",
      "name                            14640 non-null object\n",
      "negativereason_gold             32 non-null object\n",
      "retweet_count                   14640 non-null int64\n",
      "text                            14640 non-null object\n",
      "tweet_coord                     1019 non-null object\n",
      "tweet_created                   14640 non-null object\n",
      "tweet_id                        14640 non-null float64\n",
      "tweet_location                  9907 non-null object\n",
      "user_timezone                   9820 non-null object\n",
      "dtypes: bool(1), float64(3), int64(3), object(13)\n",
      "memory usage: 2.1+ MB\n"
     ]
    }
   ],
   "source": [
    "df.info()"
   ]
  },
  {
   "cell_type": "code",
   "execution_count": 5,
   "metadata": {},
   "outputs": [
    {
     "data": {
      "text/html": [
       "<div>\n",
       "<style>\n",
       "    .dataframe thead tr:only-child th {\n",
       "        text-align: right;\n",
       "    }\n",
       "\n",
       "    .dataframe thead th {\n",
       "        text-align: left;\n",
       "    }\n",
       "\n",
       "    .dataframe tbody tr th {\n",
       "        vertical-align: top;\n",
       "    }\n",
       "</style>\n",
       "<table border=\"1\" class=\"dataframe\">\n",
       "  <thead>\n",
       "    <tr style=\"text-align: right;\">\n",
       "      <th></th>\n",
       "      <th>_unit_id</th>\n",
       "      <th>_trusted_judgments</th>\n",
       "      <th>airline_sentiment:confidence</th>\n",
       "      <th>negativereason:confidence</th>\n",
       "      <th>retweet_count</th>\n",
       "      <th>tweet_id</th>\n",
       "    </tr>\n",
       "  </thead>\n",
       "  <tbody>\n",
       "    <tr>\n",
       "      <th>count</th>\n",
       "      <td>1.464000e+04</td>\n",
       "      <td>14640.000000</td>\n",
       "      <td>14640.000000</td>\n",
       "      <td>10522.000000</td>\n",
       "      <td>14640.000000</td>\n",
       "      <td>1.464000e+04</td>\n",
       "    </tr>\n",
       "    <tr>\n",
       "      <th>mean</th>\n",
       "      <td>6.814957e+08</td>\n",
       "      <td>3.618648</td>\n",
       "      <td>0.900169</td>\n",
       "      <td>0.638298</td>\n",
       "      <td>0.082650</td>\n",
       "      <td>5.692184e+17</td>\n",
       "    </tr>\n",
       "    <tr>\n",
       "      <th>std</th>\n",
       "      <td>8.504314e+04</td>\n",
       "      <td>11.858704</td>\n",
       "      <td>0.162830</td>\n",
       "      <td>0.330440</td>\n",
       "      <td>0.745778</td>\n",
       "      <td>7.791092e+14</td>\n",
       "    </tr>\n",
       "    <tr>\n",
       "      <th>min</th>\n",
       "      <td>6.814482e+08</td>\n",
       "      <td>2.000000</td>\n",
       "      <td>0.335000</td>\n",
       "      <td>0.000000</td>\n",
       "      <td>0.000000</td>\n",
       "      <td>5.675880e+17</td>\n",
       "    </tr>\n",
       "    <tr>\n",
       "      <th>25%</th>\n",
       "      <td>6.814536e+08</td>\n",
       "      <td>3.000000</td>\n",
       "      <td>0.692300</td>\n",
       "      <td>0.360600</td>\n",
       "      <td>0.000000</td>\n",
       "      <td>5.685590e+17</td>\n",
       "    </tr>\n",
       "    <tr>\n",
       "      <th>50%</th>\n",
       "      <td>6.814578e+08</td>\n",
       "      <td>3.000000</td>\n",
       "      <td>1.000000</td>\n",
       "      <td>0.670600</td>\n",
       "      <td>0.000000</td>\n",
       "      <td>5.694780e+17</td>\n",
       "    </tr>\n",
       "    <tr>\n",
       "      <th>75%</th>\n",
       "      <td>6.814623e+08</td>\n",
       "      <td>3.000000</td>\n",
       "      <td>1.000000</td>\n",
       "      <td>1.000000</td>\n",
       "      <td>0.000000</td>\n",
       "      <td>5.698902e+17</td>\n",
       "    </tr>\n",
       "    <tr>\n",
       "      <th>max</th>\n",
       "      <td>6.816798e+08</td>\n",
       "      <td>248.000000</td>\n",
       "      <td>1.000000</td>\n",
       "      <td>1.000000</td>\n",
       "      <td>44.000000</td>\n",
       "      <td>5.703110e+17</td>\n",
       "    </tr>\n",
       "  </tbody>\n",
       "</table>\n",
       "</div>"
      ],
      "text/plain": [
       "           _unit_id  _trusted_judgments  airline_sentiment:confidence  \\\n",
       "count  1.464000e+04  14640.000000        14640.000000                   \n",
       "mean   6.814957e+08  3.618648            0.900169                       \n",
       "std    8.504314e+04  11.858704           0.162830                       \n",
       "min    6.814482e+08  2.000000            0.335000                       \n",
       "25%    6.814536e+08  3.000000            0.692300                       \n",
       "50%    6.814578e+08  3.000000            1.000000                       \n",
       "75%    6.814623e+08  3.000000            1.000000                       \n",
       "max    6.816798e+08  248.000000          1.000000                       \n",
       "\n",
       "       negativereason:confidence  retweet_count      tweet_id  \n",
       "count  10522.000000               14640.000000   1.464000e+04  \n",
       "mean   0.638298                   0.082650       5.692184e+17  \n",
       "std    0.330440                   0.745778       7.791092e+14  \n",
       "min    0.000000                   0.000000       5.675880e+17  \n",
       "25%    0.360600                   0.000000       5.685590e+17  \n",
       "50%    0.670600                   0.000000       5.694780e+17  \n",
       "75%    1.000000                   0.000000       5.698902e+17  \n",
       "max    1.000000                   44.000000      5.703110e+17  "
      ]
     },
     "execution_count": 5,
     "metadata": {},
     "output_type": "execute_result"
    }
   ],
   "source": [
    "df.describe()"
   ]
  },
  {
   "cell_type": "markdown",
   "metadata": {},
   "source": [
    "# Exploratory Data Analysis"
   ]
  },
  {
   "cell_type": "code",
   "execution_count": 6,
   "metadata": {},
   "outputs": [
    {
     "data": {
      "text/plain": [
       "negative    9178\n",
       "neutral     3099\n",
       "positive    2363\n",
       "Name: airline_sentiment, dtype: int64"
      ]
     },
     "execution_count": 6,
     "metadata": {},
     "output_type": "execute_result"
    },
    {
     "data": {
      "image/png": "[encoded data removed]",
      "text/plain": [
       "<matplotlib.figure.Figure at 0x15f617a12e8>"
      ]
     },
     "metadata": {},
     "output_type": "display_data"
    }
   ],
   "source": [
    "# inspect sentiment\n",
    "sns.countplot(df['airline_sentiment'])\n",
    "df['airline_sentiment'].value_counts() #imbalanced"
   ]
  },
  {
   "cell_type": "code",
   "execution_count": 7,
   "metadata": {},
   "outputs": [
    {
     "data": {
      "image/png": "[encoded data removed]",
      "text/plain": [
       "<matplotlib.figure.Figure at 0x15f617a1320>"
      ]
     },
     "metadata": {},
     "output_type": "display_data"
    }
   ],
   "source": [
    "# numetic features\n",
    "num_cols = ['airline_sentiment:confidence','negativereason:confidence','retweet_count']\n",
    "df[num_cols].hist(layout=(1,3),figsize=(9,3))\n",
    "plt.tight_layout()"
   ]
  },
  {
   "cell_type": "code",
   "execution_count": 8,
   "metadata": {},
   "outputs": [
    {
     "data": {
      "image/png": "[encoded data removed]",
      "text/plain": [
       "<matplotlib.figure.Figure at 0x15f6156aef0>"
      ]
     },
     "metadata": {},
     "output_type": "display_data"
    }
   ],
   "source": [
    "plt.figure(figsize=(9,3))\n",
    "for i,name in enumerate(num_cols):\n",
    "    plt.subplot(1,3,i+1)\n",
    "    _ = df[num_cols[i]].plot(kind='box',title=name)\n",
    "plt.tight_layout()"
   ]
  },
  {
   "cell_type": "code",
   "execution_count": 9,
   "metadata": {},
   "outputs": [
    {
     "data": {
      "text/html": [
       "<div>\n",
       "<style>\n",
       "    .dataframe thead tr:only-child th {\n",
       "        text-align: right;\n",
       "    }\n",
       "\n",
       "    .dataframe thead th {\n",
       "        text-align: left;\n",
       "    }\n",
       "\n",
       "    .dataframe tbody tr th {\n",
       "        vertical-align: top;\n",
       "    }\n",
       "</style>\n",
       "<table border=\"1\" class=\"dataframe\">\n",
       "  <thead>\n",
       "    <tr style=\"text-align: right;\">\n",
       "      <th></th>\n",
       "      <th>airline_sentiment</th>\n",
       "      <th>text_length</th>\n",
       "      <th>text</th>\n",
       "    </tr>\n",
       "  </thead>\n",
       "  <tbody>\n",
       "    <tr>\n",
       "      <th>0</th>\n",
       "      <td>neutral</td>\n",
       "      <td>35</td>\n",
       "      <td>@VirginAmerica What @dhepburn said.</td>\n",
       "    </tr>\n",
       "    <tr>\n",
       "      <th>1</th>\n",
       "      <td>positive</td>\n",
       "      <td>72</td>\n",
       "      <td>@VirginAmerica plus you've added commercials to the experience... tacky.</td>\n",
       "    </tr>\n",
       "    <tr>\n",
       "      <th>2</th>\n",
       "      <td>neutral</td>\n",
       "      <td>71</td>\n",
       "      <td>@VirginAmerica I didn't today... Must mean I need to take another trip!</td>\n",
       "    </tr>\n",
       "    <tr>\n",
       "      <th>3</th>\n",
       "      <td>negative</td>\n",
       "      <td>126</td>\n",
       "      <td>@VirginAmerica it's really aggressive to blast obnoxious \"entertainment\" in your guests' faces &amp;amp; they have little recourse</td>\n",
       "    </tr>\n",
       "    <tr>\n",
       "      <th>4</th>\n",
       "      <td>negative</td>\n",
       "      <td>55</td>\n",
       "      <td>@VirginAmerica and it's a really big bad thing about it</td>\n",
       "    </tr>\n",
       "  </tbody>\n",
       "</table>\n",
       "</div>"
      ],
      "text/plain": [
       "  airline_sentiment  text_length  \\\n",
       "0  neutral           35            \n",
       "1  positive          72            \n",
       "2  neutral           71            \n",
       "3  negative          126           \n",
       "4  negative          55            \n",
       "\n",
       "                                                                                                                             text  \n",
       "0  @VirginAmerica What @dhepburn said.                                                                                             \n",
       "1  @VirginAmerica plus you've added commercials to the experience... tacky.                                                        \n",
       "2  @VirginAmerica I didn't today... Must mean I need to take another trip!                                                         \n",
       "3  @VirginAmerica it's really aggressive to blast obnoxious \"entertainment\" in your guests' faces &amp; they have little recourse  \n",
       "4  @VirginAmerica and it's a really big bad thing about it                                                                         "
      ]
     },
     "execution_count": 9,
     "metadata": {},
     "output_type": "execute_result"
    }
   ],
   "source": [
    "# text length\n",
    "df['text_length'] = df['text'].apply(len)\n",
    "df[['airline_sentiment','text_length','text']].head()"
   ]
  },
  {
   "cell_type": "code",
   "execution_count": 10,
   "metadata": {},
   "outputs": [
    {
     "data": {
      "text/plain": [
       "count    14640.000000\n",
       "mean     104.118511  \n",
       "std      36.256550   \n",
       "min      12.000000   \n",
       "25%      77.000000   \n",
       "50%      115.000000  \n",
       "75%      136.000000  \n",
       "max      229.000000  \n",
       "Name: text_length, dtype: float64"
      ]
     },
     "execution_count": 10,
     "metadata": {},
     "output_type": "execute_result"
    }
   ],
   "source": [
    "df['text_length'].describe()"
   ]
  },
  {
   "cell_type": "code",
   "execution_count": 11,
   "metadata": {},
   "outputs": [
    {
     "data": {
      "text/plain": [
       "<matplotlib.axes._subplots.AxesSubplot at 0x15f615c0208>"
      ]
     },
     "execution_count": 11,
     "metadata": {},
     "output_type": "execute_result"
    },
    {
     "data": {
      "image/png": "[encoded data removed]",
      "text/plain": [
       "<matplotlib.figure.Figure at 0x15f617a1e48>"
      ]
     },
     "metadata": {},
     "output_type": "display_data"
    }
   ],
   "source": [
    "df['text_length'].hist(bins=50)"
   ]
  },
  {
   "cell_type": "code",
   "execution_count": 12,
   "metadata": {},
   "outputs": [
    {
     "data": {
      "text/plain": [
       "<seaborn.axisgrid.FacetGrid at 0x15f61224cc0>"
      ]
     },
     "execution_count": 12,
     "metadata": {},
     "output_type": "execute_result"
    },
    {
     "data": {
      "image/png": "[encoded data removed]",
      "text/plain": [
       "<matplotlib.figure.Figure at 0x15f612248d0>"
      ]
     },
     "metadata": {},
     "output_type": "display_data"
    }
   ],
   "source": [
    "g = sns.FacetGrid(df,col='airline_sentiment')\n",
    "g.map(plt.hist,'text_length')"
   ]
  },
  {
   "cell_type": "code",
   "execution_count": 13,
   "metadata": {},
   "outputs": [
    {
     "data": {
      "text/plain": [
       "<matplotlib.axes._subplots.AxesSubplot at 0x15f61ab5ba8>"
      ]
     },
     "execution_count": 13,
     "metadata": {},
     "output_type": "execute_result"
    },
    {
     "data": {
      "image/png": "[encoded data removed]",
      "text/plain": [
       "<matplotlib.figure.Figure at 0x15f61217c50>"
      ]
     },
     "metadata": {},
     "output_type": "display_data"
    }
   ],
   "source": [
    "sns.boxplot(x='airline_sentiment',y='text_length',data=df,palette='rainbow')"
   ]
  },
  {
   "cell_type": "code",
   "execution_count": 14,
   "metadata": {},
   "outputs": [
    {
     "data": {
      "text/html": [
       "<div>\n",
       "<style>\n",
       "    .dataframe thead tr:only-child th {\n",
       "        text-align: right;\n",
       "    }\n",
       "\n",
       "    .dataframe thead th {\n",
       "        text-align: left;\n",
       "    }\n",
       "\n",
       "    .dataframe tbody tr th {\n",
       "        vertical-align: top;\n",
       "    }\n",
       "</style>\n",
       "<table border=\"1\" class=\"dataframe\">\n",
       "  <thead>\n",
       "    <tr style=\"text-align: right;\">\n",
       "      <th></th>\n",
       "      <th>_unit_id</th>\n",
       "      <th>_golden</th>\n",
       "      <th>_trusted_judgments</th>\n",
       "      <th>airline_sentiment:confidence</th>\n",
       "      <th>negativereason:confidence</th>\n",
       "      <th>retweet_count</th>\n",
       "      <th>tweet_id</th>\n",
       "      <th>text_length</th>\n",
       "    </tr>\n",
       "    <tr>\n",
       "      <th>airline_sentiment</th>\n",
       "      <th></th>\n",
       "      <th></th>\n",
       "      <th></th>\n",
       "      <th></th>\n",
       "      <th></th>\n",
       "      <th></th>\n",
       "      <th></th>\n",
       "      <th></th>\n",
       "    </tr>\n",
       "  </thead>\n",
       "  <tbody>\n",
       "    <tr>\n",
       "      <th>negative</th>\n",
       "      <td>6.815016e+08</td>\n",
       "      <td>0.003487</td>\n",
       "      <td>3.789823</td>\n",
       "      <td>0.933365</td>\n",
       "      <td>0.731769</td>\n",
       "      <td>0.093375</td>\n",
       "      <td>5.692602e+17</td>\n",
       "      <td>114.093702</td>\n",
       "    </tr>\n",
       "    <tr>\n",
       "      <th>neutral</th>\n",
       "      <td>6.814867e+08</td>\n",
       "      <td>0.000968</td>\n",
       "      <td>3.221362</td>\n",
       "      <td>0.823303</td>\n",
       "      <td>0.000000</td>\n",
       "      <td>0.060987</td>\n",
       "      <td>5.691841e+17</td>\n",
       "      <td>87.785737</td>\n",
       "    </tr>\n",
       "    <tr>\n",
       "      <th>positive</th>\n",
       "      <td>6.814846e+08</td>\n",
       "      <td>0.002116</td>\n",
       "      <td>3.474820</td>\n",
       "      <td>0.872039</td>\n",
       "      <td>0.000000</td>\n",
       "      <td>0.069403</td>\n",
       "      <td>5.691006e+17</td>\n",
       "      <td>86.794329</td>\n",
       "    </tr>\n",
       "  </tbody>\n",
       "</table>\n",
       "</div>"
      ],
      "text/plain": [
       "                       _unit_id   _golden  _trusted_judgments  \\\n",
       "airline_sentiment                                               \n",
       "negative           6.815016e+08  0.003487  3.789823             \n",
       "neutral            6.814867e+08  0.000968  3.221362             \n",
       "positive           6.814846e+08  0.002116  3.474820             \n",
       "\n",
       "                   airline_sentiment:confidence  negativereason:confidence  \\\n",
       "airline_sentiment                                                            \n",
       "negative           0.933365                      0.731769                    \n",
       "neutral            0.823303                      0.000000                    \n",
       "positive           0.872039                      0.000000                    \n",
       "\n",
       "                   retweet_count      tweet_id  text_length  \n",
       "airline_sentiment                                            \n",
       "negative           0.093375       5.692602e+17  114.093702   \n",
       "neutral            0.060987       5.691841e+17  87.785737    \n",
       "positive           0.069403       5.691006e+17  86.794329    "
      ]
     },
     "execution_count": 14,
     "metadata": {},
     "output_type": "execute_result"
    }
   ],
   "source": [
    "sentiment = df.groupby('airline_sentiment').mean()\n",
    "sentiment"
   ]
  },
  {
   "cell_type": "code",
   "execution_count": 15,
   "metadata": {},
   "outputs": [
    {
     "data": {
      "text/plain": [
       "<matplotlib.axes._subplots.AxesSubplot at 0x15f618ea1d0>"
      ]
     },
     "execution_count": 15,
     "metadata": {},
     "output_type": "execute_result"
    },
    {
     "data": {
      "image/png": "[encoded data removed]",
      "text/plain": [
       "<matplotlib.figure.Figure at 0x15f618f0f60>"
      ]
     },
     "metadata": {},
     "output_type": "display_data"
    }
   ],
   "source": [
    "num_cols = num_cols + ['airline_sentiment','text_length']\n",
    "sns.heatmap(df[num_cols].corr(), annot = True, cmap='coolwarm')"
   ]
  },
  {
   "cell_type": "code",
   "execution_count": 16,
   "metadata": {},
   "outputs": [
    {
     "data": {
      "image/png": "[encoded data removed]",
      "text/plain": [
       "<matplotlib.figure.Figure at 0x15f61959668>"
      ]
     },
     "metadata": {},
     "output_type": "display_data"
    }
   ],
   "source": [
    "# negative reason\n",
    "df['negativereason'].value_counts().plot(kind='bar', title='Negative Reasons')\n",
    "plt.ylabel('Count')\n",
    "plt.xticks(rotation=75)\n",
    "plt.show()"
   ]
  },
  {
   "cell_type": "markdown",
   "metadata": {},
   "source": [
    "# Data Preprocessing"
   ]
  },
  {
   "cell_type": "markdown",
   "metadata": {},
   "source": [
    "#### Clean Text"
   ]
  },
  {
   "cell_type": "code",
   "execution_count": 17,
   "metadata": {
    "collapsed": true
   },
   "outputs": [],
   "source": [
    "df = df[['text','airline_sentiment']]"
   ]
  },
  {
   "cell_type": "code",
   "execution_count": 18,
   "metadata": {
    "collapsed": true
   },
   "outputs": [],
   "source": [
    "from nltk.corpus import stopwords\n",
    "import re\n",
    "# remove urls & stopwords\n",
    "def clean_text(s):\n",
    "    s = re.sub(r'http\\S+', '', s)\n",
    "    return ' '.join(filter(lambda word: word not in set(stopwords.words('english')+['rt','via']), s.split()))\n",
    "    \n",
    "X = df['text'].apply(clean_text)"
   ]
  },
  {
   "cell_type": "markdown",
   "metadata": {},
   "source": [
    "#### Encode Categorical to Dummy var"
   ]
  },
  {
   "cell_type": "code",
   "execution_count": 19,
   "metadata": {},
   "outputs": [
    {
     "data": {
      "text/plain": [
       "array([[0, 1, 0],\n",
       "       [0, 0, 1],\n",
       "       [0, 1, 0],\n",
       "       ..., \n",
       "       [0, 1, 0],\n",
       "       [1, 0, 0],\n",
       "       [0, 1, 0]], dtype=uint8)"
      ]
     },
     "execution_count": 19,
     "metadata": {},
     "output_type": "execute_result"
    }
   ],
   "source": [
    "y = pd.get_dummies(df['airline_sentiment']).values\n",
    "y"
   ]
  },
  {
   "cell_type": "markdown",
   "metadata": {},
   "source": [
    "#### Spilt Train Test sets"
   ]
  },
  {
   "cell_type": "code",
   "execution_count": 20,
   "metadata": {
    "collapsed": true
   },
   "outputs": [],
   "source": [
    "seed = 101 # fix random seed for reproducibility\n",
    "np.random.seed(seed)"
   ]
  },
  {
   "cell_type": "code",
   "execution_count": 21,
   "metadata": {},
   "outputs": [
    {
     "name": "stdout",
     "output_type": "stream",
     "text": [
      "(11712,) (2928,) (11712, 3) (2928, 3)\n"
     ]
    }
   ],
   "source": [
    "from sklearn.model_selection import train_test_split\n",
    "X_train, X_test, y_train, y_test = train_test_split(X, y, \n",
    "                                                    test_size=0.2,\n",
    "                                                    stratify=y,\n",
    "                                                    random_state=seed)\n",
    "print(X_train.shape, X_test.shape, y_train.shape, y_test.shape)"
   ]
  },
  {
   "cell_type": "markdown",
   "metadata": {},
   "source": [
    "#### Tokenize text"
   ]
  },
  {
   "cell_type": "code",
   "execution_count": 22,
   "metadata": {},
   "outputs": [
    {
     "name": "stderr",
     "output_type": "stream",
     "text": [
      "Using TensorFlow backend.\n"
     ]
    }
   ],
   "source": [
    "from keras.preprocessing.text import Tokenizer\n",
    "max_features = 10000\n",
    "tokenizer = Tokenizer(num_words=max_features)\n",
    "tokenizer.fit_on_texts(list(X_train))\n",
    "X_train = tokenizer.texts_to_sequences(X_train)\n",
    "X_test = tokenizer.texts_to_sequences(X_test)"
   ]
  },
  {
   "cell_type": "code",
   "execution_count": 23,
   "metadata": {},
   "outputs": [
    {
     "data": {
      "text/plain": [
       "11712"
      ]
     },
     "execution_count": 23,
     "metadata": {},
     "output_type": "execute_result"
    }
   ],
   "source": [
    "len(X_train)\n",
    "#X_train[:10]\n",
    "#tokenizer.word_counts\n",
    "#tokenizer.word_index"
   ]
  },
  {
   "cell_type": "code",
   "execution_count": 24,
   "metadata": {
    "scrolled": true
   },
   "outputs": [
    {
     "data": {
      "image/png": "[encoded data removed]",
      "text/plain": [
       "<matplotlib.figure.Figure at 0x15f6749cb00>"
      ]
     },
     "metadata": {},
     "output_type": "display_data"
    }
   ],
   "source": [
    "totalNumWords = [len(one_comment) for one_comment in X_train]\n",
    "plt.hist(totalNumWords,bins = 30)\n",
    "plt.show()"
   ]
  },
  {
   "cell_type": "code",
   "execution_count": 25,
   "metadata": {},
   "outputs": [
    {
     "name": "stdout",
     "output_type": "stream",
     "text": [
      "(11712, 25) (2928, 25)\n"
     ]
    }
   ],
   "source": [
    "from keras.preprocessing import sequence\n",
    "max_words = 25 #max(totalNumWords)\n",
    "X_train = sequence.pad_sequences(X_train, maxlen=max_words)\n",
    "X_test = sequence.pad_sequences(X_test, maxlen=max_words)\n",
    "print(X_train.shape,X_test.shape)\n",
    "#X_train[np.argmax(totalNumWords)]"
   ]
  },
  {
   "cell_type": "markdown",
   "metadata": {},
   "source": [
    "# 1. MLP"
   ]
  },
  {
   "cell_type": "code",
   "execution_count": 26,
   "metadata": {
    "collapsed": true
   },
   "outputs": [],
   "source": [
    "from keras.models import Sequential\n",
    "from keras.layers import Dense,Flatten,Embedding,Dropout,Conv1D,MaxPooling1D,LSTM\n",
    "from sklearn.metrics import accuracy_score,confusion_matrix,classification_report\n",
    "import keras.backend as K\n",
    "\n",
    "batch_size = 128\n",
    "epochs = 25"
   ]
  },
  {
   "cell_type": "code",
   "execution_count": 27,
   "metadata": {
    "collapsed": true
   },
   "outputs": [],
   "source": [
    "# define model\n",
    "def create_nn():\n",
    "    np.random.seed(seed)\n",
    "    K.clear_session()\n",
    "    model = Sequential()\n",
    "    model.add(Embedding(max_features, 128, input_length=X_train.shape[1]))\n",
    "    model.add(Flatten())\n",
    "    model.add(Dense(200, activation='relu'))\n",
    "    model.add(Dropout(0.1, seed=seed))\n",
    "    model.add(Dense(100, activation='relu'))\n",
    "    model.add(Dropout(0.1, seed=seed))\n",
    "    model.add(Dense(50, activation='relu'))\n",
    "    model.add(Dropout(0.1, seed=seed))\n",
    "    model.add(Dense(3, activation='softmax'))\n",
    "    model.compile(loss='categorical_crossentropy', optimizer='adam', metrics=['accuracy'])\n",
    "    print(model.summary())\n",
    "    return model"
   ]
  },
  {
   "cell_type": "code",
   "execution_count": 28,
   "metadata": {},
   "outputs": [
    {
     "name": "stdout",
     "output_type": "stream",
     "text": [
      "_________________________________________________________________\n",
      "Layer (type)                 Output Shape              Param #   \n",
      "=================================================================\n",
      "embedding_1 (Embedding)      (None, 25, 128)           1280000   \n",
      "_________________________________________________________________\n",
      "flatten_1 (Flatten)          (None, 3200)              0         \n",
      "_________________________________________________________________\n",
      "dense_1 (Dense)              (None, 200)               640200    \n",
      "_________________________________________________________________\n",
      "dropout_1 (Dropout)          (None, 200)               0         \n",
      "_________________________________________________________________\n",
      "dense_2 (Dense)              (None, 100)               20100     \n",
      "_________________________________________________________________\n",
      "dropout_2 (Dropout)          (None, 100)               0         \n",
      "_________________________________________________________________\n",
      "dense_3 (Dense)              (None, 50)                5050      \n",
      "_________________________________________________________________\n",
      "dropout_3 (Dropout)          (None, 50)                0         \n",
      "_________________________________________________________________\n",
      "dense_4 (Dense)              (None, 3)                 153       \n",
      "=================================================================\n",
      "Total params: 1,945,503\n",
      "Trainable params: 1,945,503\n",
      "Non-trainable params: 0\n",
      "_________________________________________________________________\n",
      "None\n",
      "Train on 11712 samples, validate on 2928 samples\n",
      "Epoch 1/25\n",
      " - 6s - loss: 0.7651 - acc: 0.6711 - val_loss: 0.6115 - val_acc: 0.7439\n",
      "Epoch 2/25\n",
      " - 6s - loss: 0.4228 - acc: 0.8288 - val_loss: 0.5837 - val_acc: 0.7801\n",
      "Epoch 3/25\n",
      " - 6s - loss: 0.1741 - acc: 0.9389 - val_loss: 0.7376 - val_acc: 0.7503\n",
      "Epoch 4/25\n",
      " - 6s - loss: 0.0742 - acc: 0.9780 - val_loss: 0.9575 - val_acc: 0.7613\n",
      "Epoch 5/25\n",
      " - 6s - loss: 0.0460 - acc: 0.9866 - val_loss: 1.0796 - val_acc: 0.7613\n",
      "Epoch 6/25\n",
      " - 6s - loss: 0.0309 - acc: 0.9915 - val_loss: 1.2700 - val_acc: 0.7483\n",
      "Epoch 7/25\n",
      " - 6s - loss: 0.0218 - acc: 0.9933 - val_loss: 1.3396 - val_acc: 0.7531\n",
      "Epoch 8/25\n",
      " - 6s - loss: 0.0180 - acc: 0.9938 - val_loss: 1.4515 - val_acc: 0.7568\n",
      "Epoch 9/25\n",
      " - 6s - loss: 0.0161 - acc: 0.9945 - val_loss: 1.5363 - val_acc: 0.7534\n",
      "Epoch 10/25\n",
      " - 6s - loss: 0.0153 - acc: 0.9948 - val_loss: 1.5957 - val_acc: 0.7520\n",
      "Epoch 11/25\n",
      " - 6s - loss: 0.0133 - acc: 0.9946 - val_loss: 1.6741 - val_acc: 0.7500\n",
      "Epoch 12/25\n",
      " - 6s - loss: 0.0122 - acc: 0.9950 - val_loss: 1.7040 - val_acc: 0.7572\n",
      "Epoch 13/25\n",
      " - 6s - loss: 0.0124 - acc: 0.9950 - val_loss: 1.8303 - val_acc: 0.7493\n",
      "Epoch 14/25\n",
      " - 6s - loss: 0.0153 - acc: 0.9940 - val_loss: 1.7727 - val_acc: 0.7360\n",
      "Epoch 15/25\n",
      " - 6s - loss: 0.0307 - acc: 0.9902 - val_loss: 1.5722 - val_acc: 0.7476\n",
      "Epoch 16/25\n",
      " - 6s - loss: 0.0291 - acc: 0.9890 - val_loss: 1.6501 - val_acc: 0.7401\n",
      "Epoch 17/25\n",
      " - 6s - loss: 0.0252 - acc: 0.9904 - val_loss: 1.6715 - val_acc: 0.7404\n",
      "Epoch 18/25\n",
      " - 6s - loss: 0.0208 - acc: 0.9921 - val_loss: 1.7920 - val_acc: 0.7408\n",
      "Epoch 19/25\n",
      " - 6s - loss: 0.0130 - acc: 0.9956 - val_loss: 1.8779 - val_acc: 0.7428\n",
      "Epoch 20/25\n",
      " - 6s - loss: 0.0123 - acc: 0.9952 - val_loss: 1.8865 - val_acc: 0.7411\n",
      "Epoch 21/25\n",
      " - 6s - loss: 0.0104 - acc: 0.9952 - val_loss: 2.0179 - val_acc: 0.7370\n",
      "Epoch 22/25\n",
      " - 6s - loss: 0.0117 - acc: 0.9949 - val_loss: 2.0450 - val_acc: 0.7384\n",
      "Epoch 23/25\n",
      " - 6s - loss: 0.0124 - acc: 0.9952 - val_loss: 2.0663 - val_acc: 0.7377\n",
      "Epoch 24/25\n",
      " - 6s - loss: 0.0107 - acc: 0.9950 - val_loss: 2.0834 - val_acc: 0.7363\n",
      "Epoch 25/25\n",
      " - 6s - loss: 0.0118 - acc: 0.9950 - val_loss: 2.1361 - val_acc: 0.7329\n"
     ]
    }
   ],
   "source": [
    "# create the model\n",
    "model = create_nn()\n",
    "# train the model\n",
    "model_history = model.fit(X_train, y_train, validation_data=(X_test, y_test), \n",
    "                          epochs=epochs, batch_size=batch_size,\n",
    "                          verbose=2)"
   ]
  },
  {
   "cell_type": "code",
   "execution_count": 29,
   "metadata": {
    "collapsed": true
   },
   "outputs": [],
   "source": [
    "def plot_model_history(model_history=model_history):\n",
    "    fig, axs = plt.subplots(1,2,figsize=(15,5))\n",
    "    # summarize history for accuracy\n",
    "    axs[0].plot(range(1,len(model_history.history['acc'])+1),model_history.history['acc'])\n",
    "    axs[0].plot(range(1,len(model_history.history['val_acc'])+1),model_history.history['val_acc'])\n",
    "    axs[0].set_title('Model Accuracy')\n",
    "    axs[0].set_ylabel('Accuracy')\n",
    "    axs[0].set_xlabel('Epoch')\n",
    "    axs[0].set_xticks(np.arange(1,len(model_history.history['acc'])+1),len(model_history.history['acc'])/10)\n",
    "    axs[0].legend(['train', 'val'], loc='best')\n",
    "    # summarize history for loss\n",
    "    axs[1].plot(range(1,len(model_history.history['loss'])+1),model_history.history['loss'])\n",
    "    axs[1].plot(range(1,len(model_history.history['val_loss'])+1),model_history.history['val_loss'])\n",
    "    axs[1].set_title('Model Loss')\n",
    "    axs[1].set_ylabel('Loss')\n",
    "    axs[1].set_xlabel('Epoch')\n",
    "    axs[1].set_xticks(np.arange(1,len(model_history.history['loss'])+1),len(model_history.history['loss'])/10)\n",
    "    axs[1].legend(['train', 'val'], loc='best')\n",
    "    plt.show()"
   ]
  },
  {
   "cell_type": "code",
   "execution_count": 30,
   "metadata": {},
   "outputs": [
    {
     "data": {
      "image/png": "[encoded data removed]",
      "text/plain": [
       "<matplotlib.figure.Figure at 0x15f677d85c0>"
      ]
     },
     "metadata": {},
     "output_type": "display_data"
    }
   ],
   "source": [
    "plot_model_history()#model_history)"
   ]
  },
  {
   "cell_type": "code",
   "execution_count": 31,
   "metadata": {
    "collapsed": true
   },
   "outputs": [],
   "source": [
    "def model_evaluate(): \n",
    "    # predict class with test set\n",
    "    y_pred_test =  model.predict_classes(X_test, batch_size=batch_size, verbose=0)\n",
    "    print('Accuracy:\\t{:0.1f}%'.format(accuracy_score(np.argmax(y_test,axis=1),y_pred_test)*100))\n",
    "    \n",
    "    #classification report\n",
    "    print('\\n')\n",
    "    print(classification_report(np.argmax(y_test,axis=1), y_pred_test))\n",
    "\n",
    "    #confusion matrix\n",
    "    confmat = confusion_matrix(np.argmax(y_test,axis=1), y_pred_test)\n",
    "\n",
    "    fig, ax = plt.subplots(figsize=(2.5, 2.5))\n",
    "    ax.matshow(confmat, cmap=plt.cm.Blues, alpha=0.3)\n",
    "    for i in range(confmat.shape[0]):\n",
    "        for j in range(confmat.shape[1]):\n",
    "            ax.text(x=j, y=i, s=confmat[i, j], va='center', ha='center')\n",
    "    plt.xlabel('Predicted label')\n",
    "    plt.ylabel('True label')\n",
    "    plt.tight_layout()"
   ]
  },
  {
   "cell_type": "code",
   "execution_count": 32,
   "metadata": {},
   "outputs": [
    {
     "name": "stdout",
     "output_type": "stream",
     "text": [
      "Accuracy:\t73.3%\n",
      "\n",
      "\n",
      "             precision    recall  f1-score   support\n",
      "\n",
      "          0       0.82      0.85      0.83      1836\n",
      "          1       0.53      0.50      0.51       620\n",
      "          2       0.64      0.60      0.62       472\n",
      "\n",
      "avg / total       0.73      0.73      0.73      2928\n",
      "\n"
     ]
    },
    {
     "data": {
      "image/png": "[encoded data removed]",
      "text/plain": [
       "<matplotlib.figure.Figure at 0x15f6783ea90>"
      ]
     },
     "metadata": {},
     "output_type": "display_data"
    }
   ],
   "source": [
    "# evaluate model with test set\n",
    "model_evaluate()"
   ]
  },
  {
   "cell_type": "markdown",
   "metadata": {},
   "source": [
    "# 2. 1D CNN"
   ]
  },
  {
   "cell_type": "code",
   "execution_count": 33,
   "metadata": {
    "collapsed": true
   },
   "outputs": [],
   "source": [
    "# define model\n",
    "def create_cnn():\n",
    "    np.random.seed(seed)\n",
    "    K.clear_session()\n",
    "    model = Sequential()\n",
    "    model.add(Embedding(max_features, 128, input_length=X_train.shape[1]))\n",
    "    model.add(Conv1D(filters=32, kernel_size=3, padding='same', activation='relu'))\n",
    "    model.add(MaxPooling1D(pool_size=2))\n",
    "    model.add(Conv1D(filters=32, kernel_size=3, padding='same', activation='relu'))\n",
    "    model.add(MaxPooling1D(pool_size=2))\n",
    "    model.add(Flatten())\n",
    "    model.add(Dense(30, activation='relu'))\n",
    "    model.add(Dropout(0.1, seed=seed))\n",
    "    model.add(Dense(3, activation='softmax'))\n",
    "    model.compile(loss='categorical_crossentropy', optimizer='adam', metrics=['accuracy'])\n",
    "    print(model.summary())\n",
    "    return model"
   ]
  },
  {
   "cell_type": "code",
   "execution_count": 34,
   "metadata": {},
   "outputs": [
    {
     "name": "stdout",
     "output_type": "stream",
     "text": [
      "_________________________________________________________________\n",
      "Layer (type)                 Output Shape              Param #   \n",
      "=================================================================\n",
      "embedding_1 (Embedding)      (None, 25, 128)           1280000   \n",
      "_________________________________________________________________\n",
      "conv1d_1 (Conv1D)            (None, 25, 32)            12320     \n",
      "_________________________________________________________________\n",
      "max_pooling1d_1 (MaxPooling1 (None, 12, 32)            0         \n",
      "_________________________________________________________________\n",
      "conv1d_2 (Conv1D)            (None, 12, 32)            3104      \n",
      "_________________________________________________________________\n",
      "max_pooling1d_2 (MaxPooling1 (None, 6, 32)             0         \n",
      "_________________________________________________________________\n",
      "flatten_1 (Flatten)          (None, 192)               0         \n",
      "_________________________________________________________________\n",
      "dense_1 (Dense)              (None, 30)                5790      \n",
      "_________________________________________________________________\n",
      "dropout_1 (Dropout)          (None, 30)                0         \n",
      "_________________________________________________________________\n",
      "dense_2 (Dense)              (None, 3)                 93        \n",
      "=================================================================\n",
      "Total params: 1,301,307\n",
      "Trainable params: 1,301,307\n",
      "Non-trainable params: 0\n",
      "_________________________________________________________________\n",
      "None\n",
      "Train on 11712 samples, validate on 2928 samples\n",
      "Epoch 1/25\n",
      " - 5s - loss: 0.8393 - acc: 0.6303 - val_loss: 0.6913 - val_acc: 0.6988\n",
      "Epoch 2/25\n",
      " - 5s - loss: 0.5488 - acc: 0.7666 - val_loss: 0.5730 - val_acc: 0.7643\n",
      "Epoch 3/25\n",
      " - 5s - loss: 0.3619 - acc: 0.8616 - val_loss: 0.5999 - val_acc: 0.7862\n",
      "Epoch 4/25\n",
      " - 5s - loss: 0.2285 - acc: 0.9198 - val_loss: 0.6530 - val_acc: 0.7763\n",
      "Epoch 5/25\n",
      " - 5s - loss: 0.1372 - acc: 0.9548 - val_loss: 0.7408 - val_acc: 0.7715\n",
      "Epoch 6/25\n",
      " - 5s - loss: 0.0837 - acc: 0.9762 - val_loss: 0.8467 - val_acc: 0.7773\n",
      "Epoch 7/25\n",
      " - 5s - loss: 0.0553 - acc: 0.9847 - val_loss: 0.9820 - val_acc: 0.7766\n",
      "Epoch 8/25\n",
      " - 5s - loss: 0.0416 - acc: 0.9874 - val_loss: 1.0666 - val_acc: 0.7705\n",
      "Epoch 9/25\n",
      " - 5s - loss: 0.0335 - acc: 0.9911 - val_loss: 1.1417 - val_acc: 0.7698\n",
      "Epoch 10/25\n",
      " - 5s - loss: 0.0277 - acc: 0.9922 - val_loss: 1.1634 - val_acc: 0.7712\n",
      "Epoch 11/25\n",
      " - 5s - loss: 0.0252 - acc: 0.9940 - val_loss: 1.1958 - val_acc: 0.7643\n",
      "Epoch 12/25\n",
      " - 5s - loss: 0.0222 - acc: 0.9940 - val_loss: 1.2465 - val_acc: 0.7722\n",
      "Epoch 13/25\n",
      " - 5s - loss: 0.0203 - acc: 0.9947 - val_loss: 1.2989 - val_acc: 0.7671\n",
      "Epoch 14/25\n",
      " - 5s - loss: 0.0194 - acc: 0.9943 - val_loss: 1.3699 - val_acc: 0.7725\n",
      "Epoch 15/25\n",
      " - 5s - loss: 0.0182 - acc: 0.9947 - val_loss: 1.3649 - val_acc: 0.7548\n",
      "Epoch 16/25\n",
      " - 5s - loss: 0.0180 - acc: 0.9951 - val_loss: 1.3517 - val_acc: 0.7667\n",
      "Epoch 17/25\n",
      " - 5s - loss: 0.0170 - acc: 0.9950 - val_loss: 1.3710 - val_acc: 0.7582\n",
      "Epoch 18/25\n",
      " - 5s - loss: 0.0158 - acc: 0.9948 - val_loss: 1.3964 - val_acc: 0.7469\n",
      "Epoch 19/25\n",
      " - 5s - loss: 0.0167 - acc: 0.9945 - val_loss: 1.4045 - val_acc: 0.7667\n",
      "Epoch 20/25\n",
      " - 5s - loss: 0.0159 - acc: 0.9956 - val_loss: 1.3936 - val_acc: 0.7664\n",
      "Epoch 21/25\n",
      " - 5s - loss: 0.0130 - acc: 0.9957 - val_loss: 1.5226 - val_acc: 0.7667\n",
      "Epoch 22/25\n",
      " - 5s - loss: 0.0140 - acc: 0.9951 - val_loss: 1.4489 - val_acc: 0.7623\n",
      "Epoch 23/25\n",
      " - 5s - loss: 0.0132 - acc: 0.9952 - val_loss: 1.5307 - val_acc: 0.7681\n",
      "Epoch 24/25\n",
      " - 5s - loss: 0.0129 - acc: 0.9956 - val_loss: 1.4692 - val_acc: 0.7558\n",
      "Epoch 25/25\n",
      " - 5s - loss: 0.0128 - acc: 0.9956 - val_loss: 1.4741 - val_acc: 0.7596\n"
     ]
    }
   ],
   "source": [
    "# create the model\n",
    "model = create_cnn()\n",
    "# train the model\n",
    "model_history = model.fit(X_train, y_train, validation_data=(X_test, y_test), \n",
    "                          epochs=epochs, batch_size=batch_size, \n",
    "                          verbose=2)"
   ]
  },
  {
   "cell_type": "code",
   "execution_count": 35,
   "metadata": {},
   "outputs": [
    {
     "data": {
      "image/png": "[encoded data removed]",
      "text/plain": [
       "<matplotlib.figure.Figure at 0x15f683b3978>"
      ]
     },
     "metadata": {},
     "output_type": "display_data"
    }
   ],
   "source": [
    "plot_model_history()"
   ]
  },
  {
   "cell_type": "code",
   "execution_count": 36,
   "metadata": {},
   "outputs": [
    {
     "name": "stdout",
     "output_type": "stream",
     "text": [
      "Accuracy:\t76.0%\n",
      "\n",
      "\n",
      "             precision    recall  f1-score   support\n",
      "\n",
      "          0       0.85      0.85      0.85      1836\n",
      "          1       0.56      0.58      0.57       620\n",
      "          2       0.66      0.64      0.65       472\n",
      "\n",
      "avg / total       0.76      0.76      0.76      2928\n",
      "\n"
     ]
    },
    {
     "data": {
      "image/png": "[encoded data removed]",
      "text/plain": [
       "<matplotlib.figure.Figure at 0x15f68b03630>"
      ]
     },
     "metadata": {},
     "output_type": "display_data"
    }
   ],
   "source": [
    "# evaluate model with test set\n",
    "model_evaluate()"
   ]
  },
  {
   "cell_type": "markdown",
   "metadata": {},
   "source": [
    "# 3. RNN"
   ]
  },
  {
   "cell_type": "code",
   "execution_count": 37,
   "metadata": {
    "collapsed": true
   },
   "outputs": [],
   "source": [
    "# define model\n",
    "def create_rnn():\n",
    "    np.random.seed(seed)\n",
    "    K.clear_session()\n",
    "    model = Sequential()\n",
    "    model.add(Embedding(max_features, 128, input_length=X_train.shape[1]))\n",
    "    model.add(LSTM(100, dropout=0.1, recurrent_dropout=0.1))\n",
    "    model.add(Dense(30, activation='relu'))\n",
    "    model.add(Dropout(0.1, seed=seed))\n",
    "    model.add(Dense(3, activation='softmax'))\n",
    "    model.compile(loss='categorical_crossentropy', optimizer='adam', metrics=['accuracy'])\n",
    "    print(model.summary())\n",
    "    return model"
   ]
  },
  {
   "cell_type": "code",
   "execution_count": 38,
   "metadata": {},
   "outputs": [
    {
     "name": "stdout",
     "output_type": "stream",
     "text": [
      "_________________________________________________________________\n",
      "Layer (type)                 Output Shape              Param #   \n",
      "=================================================================\n",
      "embedding_1 (Embedding)      (None, 25, 128)           1280000   \n",
      "_________________________________________________________________\n",
      "lstm_1 (LSTM)                (None, 100)               91600     \n",
      "_________________________________________________________________\n",
      "dense_1 (Dense)              (None, 30)                3030      \n",
      "_________________________________________________________________\n",
      "dropout_1 (Dropout)          (None, 30)                0         \n",
      "_________________________________________________________________\n",
      "dense_2 (Dense)              (None, 3)                 93        \n",
      "=================================================================\n",
      "Total params: 1,374,723\n",
      "Trainable params: 1,374,723\n",
      "Non-trainable params: 0\n",
      "_________________________________________________________________\n",
      "None\n",
      "Train on 11712 samples, validate on 2928 samples\n",
      "Epoch 1/25\n",
      " - 15s - loss: 0.7850 - acc: 0.6726 - val_loss: 0.6015 - val_acc: 0.7503\n",
      "Epoch 2/25\n",
      " - 13s - loss: 0.4693 - acc: 0.8145 - val_loss: 0.5223 - val_acc: 0.7958\n",
      "Epoch 3/25\n",
      " - 13s - loss: 0.3239 - acc: 0.8804 - val_loss: 0.5654 - val_acc: 0.7923\n",
      "Epoch 4/25\n",
      " - 13s - loss: 0.2384 - acc: 0.9159 - val_loss: 0.6452 - val_acc: 0.7883\n",
      "Epoch 5/25\n",
      " - 13s - loss: 0.1877 - acc: 0.9345 - val_loss: 0.7214 - val_acc: 0.7787\n",
      "Epoch 6/25\n",
      " - 13s - loss: 0.1526 - acc: 0.9496 - val_loss: 0.8616 - val_acc: 0.7657\n",
      "Epoch 7/25\n",
      " - 13s - loss: 0.1260 - acc: 0.9564 - val_loss: 0.9001 - val_acc: 0.7647\n",
      "Epoch 8/25\n",
      " - 13s - loss: 0.1095 - acc: 0.9620 - val_loss: 1.0148 - val_acc: 0.7688\n",
      "Epoch 9/25\n",
      " - 13s - loss: 0.0973 - acc: 0.9662 - val_loss: 1.0827 - val_acc: 0.7596\n",
      "Epoch 10/25\n",
      " - 13s - loss: 0.0818 - acc: 0.9707 - val_loss: 1.1429 - val_acc: 0.7551\n",
      "Epoch 11/25\n",
      " - 13s - loss: 0.0748 - acc: 0.9734 - val_loss: 1.3107 - val_acc: 0.7602\n",
      "Epoch 12/25\n",
      " - 13s - loss: 0.0694 - acc: 0.9752 - val_loss: 1.3221 - val_acc: 0.7497\n",
      "Epoch 13/25\n",
      " - 13s - loss: 0.0585 - acc: 0.9803 - val_loss: 1.4155 - val_acc: 0.7592\n",
      "Epoch 14/25\n",
      " - 13s - loss: 0.0556 - acc: 0.9809 - val_loss: 1.4227 - val_acc: 0.7579\n",
      "Epoch 15/25\n",
      " - 13s - loss: 0.0654 - acc: 0.9769 - val_loss: 1.4232 - val_acc: 0.7524\n",
      "Epoch 16/25\n",
      " - 13s - loss: 0.0483 - acc: 0.9828 - val_loss: 1.5443 - val_acc: 0.7541\n",
      "Epoch 17/25\n",
      " - 13s - loss: 0.0483 - acc: 0.9826 - val_loss: 1.6036 - val_acc: 0.7483\n",
      "Epoch 18/25\n",
      " - 13s - loss: 0.0418 - acc: 0.9842 - val_loss: 1.6182 - val_acc: 0.7527\n",
      "Epoch 19/25\n",
      " - 13s - loss: 0.0365 - acc: 0.9869 - val_loss: 1.7210 - val_acc: 0.7548\n",
      "Epoch 20/25\n",
      " - 13s - loss: 0.0422 - acc: 0.9857 - val_loss: 1.7109 - val_acc: 0.7285\n",
      "Epoch 21/25\n",
      " - 13s - loss: 0.0485 - acc: 0.9829 - val_loss: 1.6754 - val_acc: 0.7503\n",
      "Epoch 22/25\n",
      " - 13s - loss: 0.0391 - acc: 0.9858 - val_loss: 1.7661 - val_acc: 0.7476\n",
      "Epoch 23/25\n",
      " - 13s - loss: 0.0383 - acc: 0.9857 - val_loss: 1.9209 - val_acc: 0.7480\n",
      "Epoch 24/25\n",
      " - 13s - loss: 0.0341 - acc: 0.9876 - val_loss: 1.8569 - val_acc: 0.7439\n",
      "Epoch 25/25\n",
      " - 13s - loss: 0.0328 - acc: 0.9874 - val_loss: 1.9451 - val_acc: 0.7456\n"
     ]
    }
   ],
   "source": [
    "# create the model\n",
    "model = create_rnn()\n",
    "# train the model\n",
    "model_history = model.fit(X_train, y_train, validation_data=(X_test, y_test), \n",
    "                          epochs=epochs, batch_size=batch_size,\n",
    "                          verbose=2)"
   ]
  },
  {
   "cell_type": "code",
   "execution_count": 39,
   "metadata": {},
   "outputs": [
    {
     "data": {
      "image/png": "[encoded data removed]",
      "text/plain": [
       "<matplotlib.figure.Figure at 0x15f68c09a58>"
      ]
     },
     "metadata": {},
     "output_type": "display_data"
    }
   ],
   "source": [
    "plot_model_history()"
   ]
  },
  {
   "cell_type": "code",
   "execution_count": 40,
   "metadata": {},
   "outputs": [
    {
     "name": "stdout",
     "output_type": "stream",
     "text": [
      "Accuracy:\t74.6%\n",
      "\n",
      "\n",
      "             precision    recall  f1-score   support\n",
      "\n",
      "          0       0.84      0.85      0.84      1836\n",
      "          1       0.54      0.54      0.54       620\n",
      "          2       0.64      0.61      0.62       472\n",
      "\n",
      "avg / total       0.74      0.75      0.74      2928\n",
      "\n"
     ]
    },
    {
     "data": {
      "image/png": "[encoded data removed]",
      "text/plain": [
       "<matplotlib.figure.Figure at 0x15f6cc2fcf8>"
      ]
     },
     "metadata": {},
     "output_type": "display_data"
    }
   ],
   "source": [
    "# evaluate model with test set\n",
    "model_evaluate()"
   ]
  },
  {
   "cell_type": "markdown",
   "metadata": {},
   "source": [
    "# 4. CNN + RNN"
   ]
  },
  {
   "cell_type": "code",
   "execution_count": 41,
   "metadata": {
    "collapsed": true
   },
   "outputs": [],
   "source": [
    "# define model\n",
    "def create_cnn_rnn():\n",
    "    np.random.seed(seed)\n",
    "    K.clear_session()\n",
    "    model = Sequential()\n",
    "    model.add(Embedding(max_features, 128, input_length=X_train.shape[1]))\n",
    "    model.add(Conv1D(filters=32, kernel_size=3, padding='same', activation='relu'))\n",
    "    model.add(MaxPooling1D(pool_size=2))\n",
    "    model.add(Conv1D(filters=32, kernel_size=3, padding='same', activation='relu'))\n",
    "    model.add(MaxPooling1D(pool_size=2))    \n",
    "    model.add(LSTM(100, dropout=0.1, recurrent_dropout=0.1))\n",
    "    model.add(Dense(30, activation='relu'))\n",
    "    model.add(Dropout(0.1, seed=seed))\n",
    "    model.add(Dense(3, activation='softmax'))\n",
    "    model.compile(loss='categorical_crossentropy', optimizer='adam', metrics=['accuracy'])\n",
    "    print(model.summary())\n",
    "    return model"
   ]
  },
  {
   "cell_type": "code",
   "execution_count": 42,
   "metadata": {},
   "outputs": [
    {
     "name": "stdout",
     "output_type": "stream",
     "text": [
      "_________________________________________________________________\n",
      "Layer (type)                 Output Shape              Param #   \n",
      "=================================================================\n",
      "embedding_1 (Embedding)      (None, 25, 128)           1280000   \n",
      "_________________________________________________________________\n",
      "conv1d_1 (Conv1D)            (None, 25, 32)            12320     \n",
      "_________________________________________________________________\n",
      "max_pooling1d_1 (MaxPooling1 (None, 12, 32)            0         \n",
      "_________________________________________________________________\n",
      "conv1d_2 (Conv1D)            (None, 12, 32)            3104      \n",
      "_________________________________________________________________\n",
      "max_pooling1d_2 (MaxPooling1 (None, 6, 32)             0         \n",
      "_________________________________________________________________\n",
      "lstm_1 (LSTM)                (None, 100)               53200     \n",
      "_________________________________________________________________\n",
      "dense_1 (Dense)              (None, 30)                3030      \n",
      "_________________________________________________________________\n",
      "dropout_1 (Dropout)          (None, 30)                0         \n",
      "_________________________________________________________________\n",
      "dense_2 (Dense)              (None, 3)                 93        \n",
      "=================================================================\n",
      "Total params: 1,351,747\n",
      "Trainable params: 1,351,747\n",
      "Non-trainable params: 0\n",
      "_________________________________________________________________\n",
      "None\n",
      "Train on 11712 samples, validate on 2928 samples\n",
      "Epoch 1/25\n",
      " - 8s - loss: 0.8264 - acc: 0.6415 - val_loss: 0.6828 - val_acc: 0.7015\n",
      "Epoch 2/25\n",
      " - 7s - loss: 0.5638 - acc: 0.7531 - val_loss: 0.5994 - val_acc: 0.7469\n",
      "Epoch 3/25\n",
      " - 7s - loss: 0.3744 - acc: 0.8576 - val_loss: 0.5831 - val_acc: 0.7842\n",
      "Epoch 4/25\n",
      " - 7s - loss: 0.2213 - acc: 0.9213 - val_loss: 0.7314 - val_acc: 0.7783\n",
      "Epoch 5/25\n",
      " - 7s - loss: 0.1320 - acc: 0.9563 - val_loss: 0.7997 - val_acc: 0.7749\n",
      "Epoch 6/25\n",
      " - 7s - loss: 0.0812 - acc: 0.9758 - val_loss: 0.9669 - val_acc: 0.7760\n",
      "Epoch 7/25\n",
      " - 7s - loss: 0.0622 - acc: 0.9824 - val_loss: 1.0618 - val_acc: 0.7637\n",
      "Epoch 8/25\n",
      " - 7s - loss: 0.0443 - acc: 0.9877 - val_loss: 1.1377 - val_acc: 0.7616\n",
      "Epoch 9/25\n",
      " - 7s - loss: 0.0472 - acc: 0.9860 - val_loss: 1.0920 - val_acc: 0.7725\n",
      "Epoch 10/25\n",
      " - 7s - loss: 0.0342 - acc: 0.9903 - val_loss: 1.2889 - val_acc: 0.7599\n",
      "Epoch 11/25\n",
      " - 7s - loss: 0.0337 - acc: 0.9904 - val_loss: 1.3107 - val_acc: 0.7688\n",
      "Epoch 12/25\n",
      " - 7s - loss: 0.0262 - acc: 0.9926 - val_loss: 1.3496 - val_acc: 0.7678\n",
      "Epoch 13/25\n",
      " - 7s - loss: 0.0247 - acc: 0.9934 - val_loss: 1.3191 - val_acc: 0.7561\n",
      "Epoch 14/25\n",
      " - 7s - loss: 0.0229 - acc: 0.9942 - val_loss: 1.3177 - val_acc: 0.7609\n",
      "Epoch 15/25\n",
      " - 7s - loss: 0.0203 - acc: 0.9940 - val_loss: 1.4069 - val_acc: 0.7657\n",
      "Epoch 16/25\n",
      " - 7s - loss: 0.0212 - acc: 0.9943 - val_loss: 1.4780 - val_acc: 0.7736\n",
      "Epoch 17/25\n",
      " - 7s - loss: 0.0180 - acc: 0.9946 - val_loss: 1.4669 - val_acc: 0.7691\n",
      "Epoch 18/25\n",
      " - 7s - loss: 0.0181 - acc: 0.9948 - val_loss: 1.4719 - val_acc: 0.7684\n",
      "Epoch 19/25\n",
      " - 7s - loss: 0.0226 - acc: 0.9927 - val_loss: 1.4261 - val_acc: 0.7722\n",
      "Epoch 20/25\n",
      " - 7s - loss: 0.0211 - acc: 0.9934 - val_loss: 1.4700 - val_acc: 0.7678\n",
      "Epoch 21/25\n",
      " - 7s - loss: 0.0180 - acc: 0.9944 - val_loss: 1.4910 - val_acc: 0.7585\n",
      "Epoch 22/25\n",
      " - 7s - loss: 0.0145 - acc: 0.9952 - val_loss: 1.5083 - val_acc: 0.7674\n",
      "Epoch 23/25\n",
      " - 7s - loss: 0.0145 - acc: 0.9954 - val_loss: 1.6051 - val_acc: 0.7609\n",
      "Epoch 24/25\n",
      " - 7s - loss: 0.0142 - acc: 0.9955 - val_loss: 1.5226 - val_acc: 0.7596\n",
      "Epoch 25/25\n",
      " - 7s - loss: 0.0106 - acc: 0.9963 - val_loss: 1.6694 - val_acc: 0.7613\n"
     ]
    }
   ],
   "source": [
    "# create the model\n",
    "model = create_cnn_rnn()\n",
    "# train the model\n",
    "model_history = model.fit(X_train, y_train, validation_data=(X_test, y_test), \n",
    "                          epochs=epochs, batch_size=batch_size,\n",
    "                          verbose=2)"
   ]
  },
  {
   "cell_type": "code",
   "execution_count": 43,
   "metadata": {},
   "outputs": [
    {
     "data": {
      "image/png": "[encoded data removed]",
      "text/plain": [
       "<matplotlib.figure.Figure at 0x15f68c09550>"
      ]
     },
     "metadata": {},
     "output_type": "display_data"
    }
   ],
   "source": [
    "plot_model_history()"
   ]
  },
  {
   "cell_type": "code",
   "execution_count": 44,
   "metadata": {},
   "outputs": [
    {
     "name": "stdout",
     "output_type": "stream",
     "text": [
      "Accuracy:\t76.1%\n",
      "\n",
      "\n",
      "             precision    recall  f1-score   support\n",
      "\n",
      "          0       0.85      0.86      0.86      1836\n",
      "          1       0.55      0.59      0.57       620\n",
      "          2       0.70      0.58      0.64       472\n",
      "\n",
      "avg / total       0.76      0.76      0.76      2928\n",
      "\n"
     ]
    },
    {
     "data": {
      "image/png": "[encoded data removed]",
      "text/plain": [
       "<matplotlib.figure.Figure at 0x15f6cd26f28>"
      ]
     },
     "metadata": {},
     "output_type": "display_data"
    }
   ],
   "source": [
    "# evaluate model with test set\n",
    "model_evaluate()"
   ]
  }
 ],
 "metadata": {
  "kernelspec": {
   "display_name": "Python 3",
   "language": "python",
   "name": "python3"
  },
  "language_info": {
   "codemirror_mode": {
    "name": "ipython",
    "version": 3
   },
   "file_extension": ".py",
   "mimetype": "text/x-python",
   "name": "python",
   "nbconvert_exporter": "python",
   "pygments_lexer": "ipython3",
   "version": "3.6.3"
  }
 },
 "nbformat": 4,
 "nbformat_minor": 2
}
