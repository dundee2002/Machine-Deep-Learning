{
 "cells": [
  {
   "cell_type": "markdown",
   "metadata": {},
   "source": [
    "## Multiclass Classification: IRIS Dataset\n",
    "https://archive.ics.uci.edu/ml/datasets/iris\n",
    "\n",
    "** Dataset Information: **\n",
    "\n",
    "The data set contains 3 classes of iris plant (Iris setosa, Iris virginica and Iris versicolor) of 50 samples each, 150 samples in total.\n",
    "\n",
    "** Attribute Information: (4 features and 1 class)**\n",
    "\n",
    "1. sepal length in cm \n",
    "2. sepal width in cm \n",
    "3. petal length in cm \n",
    "4. petal width in cm \n",
    "5. class: \n",
    "-- Iris Setosa \n",
    "-- Iris Versicolour \n",
    "-- Iris Virginica\n",
    "\n",
    "** Objective of this project **\n",
    "\n",
    "predict class of iris plant (Setosa, Versicolour and Virginica) based on sepal/petal measurements (features)"
   ]
  },
  {
   "cell_type": "markdown",
   "metadata": {},
   "source": [
    "## Data"
   ]
  },
  {
   "cell_type": "code",
   "execution_count": 4,
   "metadata": {
    "collapsed": true
   },
   "outputs": [],
   "source": [
    "# Load libraries\n",
    "import numpy as np\n",
    "import pandas as pd\n",
    "import matplotlib.pyplot as plt\n",
    "import seaborn as sns\n",
    "%matplotlib inline  "
   ]
  },
  {
   "cell_type": "code",
   "execution_count": 3,
   "metadata": {
    "collapsed": true
   },
   "outputs": [],
   "source": [
    "# Load Data\n",
    "url = 'https://archive.ics.uci.edu/ml/machine-learning-databases/iris/iris.data'\n",
    "names = ['Sepal_length', 'Sepal_width', 'Petal_length', 'Petal_width', 'Class']\n",
    "df = pd.read_csv(url, names=names)"
   ]
  },
  {
   "cell_type": "code",
   "execution_count": 3,
   "metadata": {},
   "outputs": [
    {
     "data": {
      "text/html": [
       "<div>\n",
       "<style>\n",
       "    .dataframe thead tr:only-child th {\n",
       "        text-align: right;\n",
       "    }\n",
       "\n",
       "    .dataframe thead th {\n",
       "        text-align: left;\n",
       "    }\n",
       "\n",
       "    .dataframe tbody tr th {\n",
       "        vertical-align: top;\n",
       "    }\n",
       "</style>\n",
       "<table border=\"1\" class=\"dataframe\">\n",
       "  <thead>\n",
       "    <tr style=\"text-align: right;\">\n",
       "      <th></th>\n",
       "      <th>Sepal_length</th>\n",
       "      <th>Sepal_width</th>\n",
       "      <th>Petal_length</th>\n",
       "      <th>Petal_width</th>\n",
       "      <th>Class</th>\n",
       "    </tr>\n",
       "  </thead>\n",
       "  <tbody>\n",
       "    <tr>\n",
       "      <th>0</th>\n",
       "      <td>5.1</td>\n",
       "      <td>3.5</td>\n",
       "      <td>1.4</td>\n",
       "      <td>0.2</td>\n",
       "      <td>Iris-setosa</td>\n",
       "    </tr>\n",
       "    <tr>\n",
       "      <th>1</th>\n",
       "      <td>4.9</td>\n",
       "      <td>3.0</td>\n",
       "      <td>1.4</td>\n",
       "      <td>0.2</td>\n",
       "      <td>Iris-setosa</td>\n",
       "    </tr>\n",
       "    <tr>\n",
       "      <th>2</th>\n",
       "      <td>4.7</td>\n",
       "      <td>3.2</td>\n",
       "      <td>1.3</td>\n",
       "      <td>0.2</td>\n",
       "      <td>Iris-setosa</td>\n",
       "    </tr>\n",
       "    <tr>\n",
       "      <th>3</th>\n",
       "      <td>4.6</td>\n",
       "      <td>3.1</td>\n",
       "      <td>1.5</td>\n",
       "      <td>0.2</td>\n",
       "      <td>Iris-setosa</td>\n",
       "    </tr>\n",
       "    <tr>\n",
       "      <th>4</th>\n",
       "      <td>5.0</td>\n",
       "      <td>3.6</td>\n",
       "      <td>1.4</td>\n",
       "      <td>0.2</td>\n",
       "      <td>Iris-setosa</td>\n",
       "    </tr>\n",
       "  </tbody>\n",
       "</table>\n",
       "</div>"
      ],
      "text/plain": [
       "   Sepal_length  Sepal_width  Petal_length  Petal_width        Class\n",
       "0           5.1          3.5           1.4          0.2  Iris-setosa\n",
       "1           4.9          3.0           1.4          0.2  Iris-setosa\n",
       "2           4.7          3.2           1.3          0.2  Iris-setosa\n",
       "3           4.6          3.1           1.5          0.2  Iris-setosa\n",
       "4           5.0          3.6           1.4          0.2  Iris-setosa"
      ]
     },
     "execution_count": 3,
     "metadata": {},
     "output_type": "execute_result"
    }
   ],
   "source": [
    "# Inspect Data\n",
    "df.head()"
   ]
  },
  {
   "cell_type": "code",
   "execution_count": 4,
   "metadata": {},
   "outputs": [
    {
     "data": {
      "text/plain": [
       "(150, 5)"
      ]
     },
     "execution_count": 4,
     "metadata": {},
     "output_type": "execute_result"
    }
   ],
   "source": [
    "df.shape"
   ]
  },
  {
   "cell_type": "code",
   "execution_count": 6,
   "metadata": {},
   "outputs": [
    {
     "data": {
      "image/png": "[encoded data removed]",
      "text/plain": [
       "<matplotlib.figure.Figure at 0x214bf8564a8>"
      ]
     },
     "metadata": {},
     "output_type": "display_data"
    }
   ],
   "source": [
    "_ = df.hist()#figsize=(12,10))\n",
    "plt.tight_layout()"
   ]
  },
  {
   "cell_type": "code",
   "execution_count": 7,
   "metadata": {},
   "outputs": [
    {
     "data": {
      "text/plain": [
       "<seaborn.axisgrid.PairGrid at 0x214bf9f39e8>"
      ]
     },
     "execution_count": 7,
     "metadata": {},
     "output_type": "execute_result"
    },
    {
     "data": {
      "image/png": "[encoded data removed]",
      "text/plain": [
       "<matplotlib.figure.Figure at 0x214bf9f3358>"
      ]
     },
     "metadata": {},
     "output_type": "display_data"
    }
   ],
   "source": [
    "sns.pairplot(df, hue='Class')"
   ]
  },
  {
   "cell_type": "code",
   "execution_count": 8,
   "metadata": {},
   "outputs": [
    {
     "data": {
      "text/plain": [
       "<matplotlib.axes._subplots.AxesSubplot at 0x214bffce550>"
      ]
     },
     "execution_count": 8,
     "metadata": {},
     "output_type": "execute_result"
    },
    {
     "data": {
      "image/png": "[encoded data removed]",
      "text/plain": [
       "<matplotlib.figure.Figure at 0x214c036b198>"
      ]
     },
     "metadata": {},
     "output_type": "display_data"
    }
   ],
   "source": [
    "sns.heatmap(df.corr(), annot = True, cmap='coolwarm')"
   ]
  },
  {
   "cell_type": "code",
   "execution_count": 9,
   "metadata": {},
   "outputs": [
    {
     "name": "stdout",
     "output_type": "stream",
     "text": [
      "<class 'pandas.core.frame.DataFrame'>\n",
      "RangeIndex: 150 entries, 0 to 149\n",
      "Data columns (total 5 columns):\n",
      "Sepal_length    150 non-null float64\n",
      "Sepal_width     150 non-null float64\n",
      "Petal_length    150 non-null float64\n",
      "Petal_width     150 non-null float64\n",
      "Class           150 non-null object\n",
      "dtypes: float64(4), object(1)\n",
      "memory usage: 5.9+ KB\n"
     ]
    }
   ],
   "source": [
    "df.info()"
   ]
  },
  {
   "cell_type": "code",
   "execution_count": 10,
   "metadata": {},
   "outputs": [
    {
     "data": {
      "text/html": [
       "<div>\n",
       "<style>\n",
       "    .dataframe thead tr:only-child th {\n",
       "        text-align: right;\n",
       "    }\n",
       "\n",
       "    .dataframe thead th {\n",
       "        text-align: left;\n",
       "    }\n",
       "\n",
       "    .dataframe tbody tr th {\n",
       "        vertical-align: top;\n",
       "    }\n",
       "</style>\n",
       "<table border=\"1\" class=\"dataframe\">\n",
       "  <thead>\n",
       "    <tr style=\"text-align: right;\">\n",
       "      <th></th>\n",
       "      <th>Sepal_length</th>\n",
       "      <th>Sepal_width</th>\n",
       "      <th>Petal_length</th>\n",
       "      <th>Petal_width</th>\n",
       "    </tr>\n",
       "  </thead>\n",
       "  <tbody>\n",
       "    <tr>\n",
       "      <th>count</th>\n",
       "      <td>150.000000</td>\n",
       "      <td>150.000000</td>\n",
       "      <td>150.000000</td>\n",
       "      <td>150.000000</td>\n",
       "    </tr>\n",
       "    <tr>\n",
       "      <th>mean</th>\n",
       "      <td>5.843333</td>\n",
       "      <td>3.054000</td>\n",
       "      <td>3.758667</td>\n",
       "      <td>1.198667</td>\n",
       "    </tr>\n",
       "    <tr>\n",
       "      <th>std</th>\n",
       "      <td>0.828066</td>\n",
       "      <td>0.433594</td>\n",
       "      <td>1.764420</td>\n",
       "      <td>0.763161</td>\n",
       "    </tr>\n",
       "    <tr>\n",
       "      <th>min</th>\n",
       "      <td>4.300000</td>\n",
       "      <td>2.000000</td>\n",
       "      <td>1.000000</td>\n",
       "      <td>0.100000</td>\n",
       "    </tr>\n",
       "    <tr>\n",
       "      <th>25%</th>\n",
       "      <td>5.100000</td>\n",
       "      <td>2.800000</td>\n",
       "      <td>1.600000</td>\n",
       "      <td>0.300000</td>\n",
       "    </tr>\n",
       "    <tr>\n",
       "      <th>50%</th>\n",
       "      <td>5.800000</td>\n",
       "      <td>3.000000</td>\n",
       "      <td>4.350000</td>\n",
       "      <td>1.300000</td>\n",
       "    </tr>\n",
       "    <tr>\n",
       "      <th>75%</th>\n",
       "      <td>6.400000</td>\n",
       "      <td>3.300000</td>\n",
       "      <td>5.100000</td>\n",
       "      <td>1.800000</td>\n",
       "    </tr>\n",
       "    <tr>\n",
       "      <th>max</th>\n",
       "      <td>7.900000</td>\n",
       "      <td>4.400000</td>\n",
       "      <td>6.900000</td>\n",
       "      <td>2.500000</td>\n",
       "    </tr>\n",
       "  </tbody>\n",
       "</table>\n",
       "</div>"
      ],
      "text/plain": [
       "       Sepal_length  Sepal_width  Petal_length  Petal_width\n",
       "count    150.000000   150.000000    150.000000   150.000000\n",
       "mean       5.843333     3.054000      3.758667     1.198667\n",
       "std        0.828066     0.433594      1.764420     0.763161\n",
       "min        4.300000     2.000000      1.000000     0.100000\n",
       "25%        5.100000     2.800000      1.600000     0.300000\n",
       "50%        5.800000     3.000000      4.350000     1.300000\n",
       "75%        6.400000     3.300000      5.100000     1.800000\n",
       "max        7.900000     4.400000      6.900000     2.500000"
      ]
     },
     "execution_count": 10,
     "metadata": {},
     "output_type": "execute_result"
    }
   ],
   "source": [
    "df.describe()"
   ]
  },
  {
   "cell_type": "code",
   "execution_count": 5,
   "metadata": {},
   "outputs": [
    {
     "data": {
      "text/plain": [
       "Iris-versicolor    50\n",
       "Iris-setosa        50\n",
       "Iris-virginica     50\n",
       "Name: Class, dtype: int64"
      ]
     },
     "execution_count": 5,
     "metadata": {},
     "output_type": "execute_result"
    }
   ],
   "source": [
    "df['Class'].value_counts()"
   ]
  },
  {
   "cell_type": "code",
   "execution_count": 6,
   "metadata": {},
   "outputs": [
    {
     "data": {
      "text/plain": [
       "Sepal_length    False\n",
       "Sepal_width     False\n",
       "Petal_length    False\n",
       "Petal_width     False\n",
       "Class           False\n",
       "dtype: bool"
      ]
     },
     "execution_count": 6,
     "metadata": {},
     "output_type": "execute_result"
    }
   ],
   "source": [
    "df.isnull().any()"
   ]
  },
  {
   "cell_type": "markdown",
   "metadata": {},
   "source": [
    "## Data preprocessing"
   ]
  },
  {
   "cell_type": "code",
   "execution_count": 7,
   "metadata": {
    "collapsed": true
   },
   "outputs": [],
   "source": [
    "seed = 7 #random seed for reproducibility\n",
    "np.random.seed(seed)"
   ]
  },
  {
   "cell_type": "markdown",
   "metadata": {},
   "source": [
    "** Split Features & Class (or target) **"
   ]
  },
  {
   "cell_type": "code",
   "execution_count": 8,
   "metadata": {},
   "outputs": [
    {
     "name": "stdout",
     "output_type": "stream",
     "text": [
      "(150, 4) (150, 3)\n"
     ]
    }
   ],
   "source": [
    "X = df.drop('Class', axis=1).values\n",
    "#encode categorical to binary\n",
    "y = pd.get_dummies(df['Class']).values\n",
    "print(X.shape,y.shape)"
   ]
  },
  {
   "cell_type": "markdown",
   "metadata": {},
   "source": [
    "** Split Train Test Sets **"
   ]
  },
  {
   "cell_type": "code",
   "execution_count": 9,
   "metadata": {},
   "outputs": [
    {
     "name": "stdout",
     "output_type": "stream",
     "text": [
      "(120, 4) (30, 4) (120, 3) (30, 3)\n"
     ]
    }
   ],
   "source": [
    "from sklearn.model_selection import train_test_split\n",
    "X_train, X_test, y_train, y_test = train_test_split(X, y, test_size=0.2, \n",
    "                                                    random_state=seed)\n",
    "print(X_train.shape, X_test.shape, y_train.shape, y_test.shape)"
   ]
  },
  {
   "cell_type": "markdown",
   "metadata": {},
   "source": [
    "** Scale features **\n",
    "(Non-scale features yield better accuracy for this problem)"
   ]
  },
  {
   "cell_type": "code",
   "execution_count": 115,
   "metadata": {
    "collapsed": true
   },
   "outputs": [],
   "source": [
    "#from sklearn.preprocessing import StandardScaler\n",
    "#sc = StandardScaler()\n",
    "#X_train = sc.fit_transform(X_train)\n",
    "#X_test = sc.transform(X_test)"
   ]
  },
  {
   "cell_type": "code",
   "execution_count": null,
   "metadata": {
    "collapsed": true
   },
   "outputs": [],
   "source": [
    "#from sklearn.preprocessing import MinMaxScaler\n",
    "#sc = MinMaxScaler()\n",
    "#X_train = sc.fit_transform(X_train)\n",
    "#X_test = sc.transform(X_test)"
   ]
  },
  {
   "cell_type": "markdown",
   "metadata": {},
   "source": [
    "## Baseline Model"
   ]
  },
  {
   "cell_type": "markdown",
   "metadata": {},
   "source": [
    "### LDA: best ML algorithm"
   ]
  },
  {
   "cell_type": "code",
   "execution_count": 15,
   "metadata": {},
   "outputs": [
    {
     "name": "stdout",
     "output_type": "stream",
     "text": [
      "Accuracy of train set: 98.3%\n",
      "Accuracy of test set: 96.7%\n"
     ]
    }
   ],
   "source": [
    "from sklearn.discriminant_analysis import LinearDiscriminantAnalysis\n",
    "from sklearn.metrics import accuracy_score\n",
    "model = LinearDiscriminantAnalysis()\n",
    "model.fit(X_train, np.argmax(y_train,axis=1))\n",
    "accuracy = model.score(X_train, np.argmax(y_train,axis=1))\n",
    "y_pred = model.predict(X_test)\n",
    "print('Accuracy of train set: {:0.1f}%'.format(accuracy*100))\n",
    "print('Accuracy of test set: {:0.1f}%'.format(accuracy_score(np.argmax(y_test,axis=1),y_pred)*100))"
   ]
  },
  {
   "cell_type": "markdown",
   "metadata": {},
   "source": [
    "### Baseline MLP model"
   ]
  },
  {
   "cell_type": "code",
   "execution_count": 47,
   "metadata": {
    "collapsed": true
   },
   "outputs": [],
   "source": [
    "# Import libraries\n",
    "import keras.backend as K\n",
    "from keras.models import Sequential\n",
    "from keras.layers import Dense,Dropout\n",
    "from keras.optimizers import Adam,RMSprop,SGD\n",
    "from keras.wrappers.scikit_learn import KerasClassifier\n",
    "from sklearn.model_selection import KFold,GridSearchCV"
   ]
  },
  {
   "cell_type": "code",
   "execution_count": 40,
   "metadata": {},
   "outputs": [
    {
     "name": "stdout",
     "output_type": "stream",
     "text": [
      "_________________________________________________________________\n",
      "Layer (type)                 Output Shape              Param #   \n",
      "=================================================================\n",
      "dense_1 (Dense)              (None, 20)                100       \n",
      "_________________________________________________________________\n",
      "dense_2 (Dense)              (None, 20)                420       \n",
      "_________________________________________________________________\n",
      "dense_3 (Dense)              (None, 20)                420       \n",
      "_________________________________________________________________\n",
      "dense_4 (Dense)              (None, 3)                 63        \n",
      "=================================================================\n",
      "Total params: 1,003\n",
      "Trainable params: 1,003\n",
      "Non-trainable params: 0\n",
      "_________________________________________________________________\n",
      "dict_keys(['val_loss', 'val_acc', 'loss', 'acc'])\n"
     ]
    },
    {
     "data": {
      "image/png": "[encoded data removed]",
      "text/plain": [
       "<matplotlib.figure.Figure at 0x287afd1b630>"
      ]
     },
     "metadata": {},
     "output_type": "display_data"
    },
    {
     "data": {
      "image/png": "[encoded data removed]",
      "text/plain": [
       "<matplotlib.figure.Figure at 0x287af1ee748>"
      ]
     },
     "metadata": {},
     "output_type": "display_data"
    },
    {
     "name": "stdout",
     "output_type": "stream",
     "text": [
      "loss of train set: 0.051\n",
      "accuracy of train set: 98.3%\n",
      "loss of test set: 0.080\n",
      "accuracy of test set: 96.7%\n"
     ]
    }
   ],
   "source": [
    "K.clear_session()\n",
    "np.random.seed(seed) \n",
    "#create model\n",
    "model = Sequential()\n",
    "model.add(Dense(20, kernel_initializer='uniform', input_shape=(4,), activation='relu'))\n",
    "model.add(Dense(20, kernel_initializer='uniform', activation='relu'))\n",
    "model.add(Dense(20, kernel_initializer='uniform', activation='relu'))\n",
    "model.add(Dense(3, kernel_initializer='uniform', activation='softmax'))\n",
    "#compile model\n",
    "model.compile(optimizer='adam', loss='categorical_crossentropy',metrics=['accuracy'])\n",
    "model.summary()\n",
    "#fit model\n",
    "history = model.fit(X_train, y_train, validation_split=0.2, epochs=200,verbose=0)\n",
    "\n",
    "# list all data in history\n",
    "print(history.history.keys())\n",
    "# summarize history for accuracy\n",
    "plt.plot(history.history['acc'])\n",
    "plt.plot(history.history['val_acc'])\n",
    "plt.title('model accuracy')\n",
    "plt.ylabel('accuracy')\n",
    "plt.xlabel('epoch')\n",
    "plt.legend(['train', 'test'], loc='upper left')\n",
    "plt.show()\n",
    "# summarize history for loss\n",
    "plt.plot(history.history['loss'])\n",
    "plt.plot(history.history['val_loss'])\n",
    "plt.title('model loss')\n",
    "plt.ylabel('loss')\n",
    "plt.xlabel('epoch')\n",
    "plt.legend(['train', 'test'], loc='upper left')\n",
    "plt.show()\n",
    "\n",
    "#evaluate model on train set\n",
    "scores = model.evaluate(X_train,y_train,verbose=0)\n",
    "print('loss of train set: {:0.3f}'.format(scores[0]))\n",
    "print('accuracy of train set: {:0.1f}%'.format(scores[1]*100))\n",
    "# evaluate model on test data\n",
    "scores = model.evaluate(X_test,y_test,verbose=0)\n",
    "print('loss of test set: {:0.3f}'.format(scores[0]))\n",
    "print('accuracy of test set: {:0.1f}%'.format(scores[1]*100))"
   ]
  },
  {
   "cell_type": "markdown",
   "metadata": {},
   "source": [
    "## Parameter Tuning\n",
    "try to see whether there's a room for improvement"
   ]
  },
  {
   "cell_type": "markdown",
   "metadata": {
    "collapsed": true
   },
   "source": [
    "### Batch size &  epochs"
   ]
  },
  {
   "cell_type": "code",
   "execution_count": 41,
   "metadata": {},
   "outputs": [
    {
     "name": "stdout",
     "output_type": "stream",
     "text": [
      "40/40 [==============================] - 0s 391us/step\n",
      "80/80 [==============================] - 0s 170us/step\n",
      "40/40 [==============================] - 0s 781us/step\n",
      "80/80 [==============================] - 0s 88us/step\n",
      "40/40 [==============================] - 0s 1ms/step\n",
      "80/80 [==============================] - 0s 127us/step\n",
      "40/40 [==============================] - 0s 1ms/step\n",
      "80/80 [==============================] - 0s 88us/step\n",
      "40/40 [==============================] - 0s 2ms/step\n",
      "80/80 [==============================] - 0s 88us/step\n",
      "40/40 [==============================] - 0s 3ms/step\n",
      "80/80 [==============================] - 0s 100us/step\n",
      "40/40 [==============================] - 0s 2ms/step\n",
      "80/80 [==============================] - 0s 88us/step\n",
      "40/40 [==============================] - 0s 2ms/step\n",
      "80/80 [==============================] - 0s 88us/step\n",
      "40/40 [==============================] - 0s 3ms/step\n",
      "80/80 [==============================] - 0s 75us/step\n",
      "40/40 [==============================] - 0s 4ms/step\n",
      "80/80 [==============================] - 0s 75us/step\n",
      "40/40 [==============================] - 0s 4ms/step\n",
      "80/80 [==============================] - 0s 100us/step\n",
      "40/40 [==============================] - 0s 6ms/step\n",
      "80/80 [==============================] - 0s 75us/step\n",
      "40/40 [==============================] - 0s 4ms/step\n",
      "80/80 [==============================] - 0s 186us/step\n",
      "40/40 [==============================] - 0s 5ms/step\n",
      "80/80 [==============================] - 0s 199us/step\n",
      "40/40 [==============================] - 0s 7ms/step\n",
      "80/80 [==============================] - 0s 63us/step\n",
      "40/40 [==============================] - 0s 6ms/step\n",
      "80/80 [==============================] - 0s 88us/step\n",
      "40/40 [==============================] - 0s 7ms/step\n",
      "80/80 [==============================] - 0s 100us/step\n",
      "40/40 [==============================] - 0s 6ms/step\n",
      "80/80 [==============================] - 0s 243us/step\n",
      "0.975000 (0.020412) with: {'batch_size': 16, 'epochs': 100}\n",
      "0.983333 (0.011785) with: {'batch_size': 16, 'epochs': 150}\n",
      "0.975000 (0.020412) with: {'batch_size': 16, 'epochs': 200}\n",
      "0.975000 (0.020412) with: {'batch_size': 32, 'epochs': 100}\n",
      "0.975000 (0.020412) with: {'batch_size': 32, 'epochs': 150}\n",
      "0.966667 (0.031180) with: {'batch_size': 32, 'epochs': 200}\n",
      "Best: 98.3% using {'batch_size': 16, 'epochs': 150}\n"
     ]
    }
   ],
   "source": [
    "K.clear_session()\n",
    "np.random.seed(seed)\n",
    "\n",
    "def create_model():\n",
    "    model = Sequential()\n",
    "    model.add(Dense(20, kernel_initializer='uniform', input_shape=(4,), activation='relu'))\n",
    "    model.add(Dense(20, kernel_initializer='uniform', activation='relu'))\n",
    "    model.add(Dense(20, kernel_initializer='uniform', activation='relu'))\n",
    "    model.add(Dense(3, kernel_initializer='uniform', activation='softmax'))\n",
    "    model.compile(optimizer='adam', loss='categorical_crossentropy',metrics=['accuracy'])\n",
    "    return model\n",
    "classifier = KerasClassifier(build_fn=create_model)\n",
    "\n",
    "# Grid Search\n",
    "batch_size = [16,32]\n",
    "epochs = [100, 150, 200]\n",
    "param_grid = dict(batch_size=batch_size,epochs=epochs)\n",
    "grid = GridSearchCV(classifier, param_grid=param_grid, verbose=0) #n_jobs=-1,\n",
    "grid_result = grid.fit(X_train,y_train, verbose=0)\n",
    "\n",
    "# Results\n",
    "means = grid_result.cv_results_['mean_test_score']\n",
    "stds = grid_result.cv_results_['std_test_score']\n",
    "params = grid_result.cv_results_['params']\n",
    "for mean, stdev, param in zip(means, stds, params):\n",
    "    print(\"%f (%f) with: %r\" % (mean, stdev, param))\n",
    "print(\"Best: {:.1f}% using {}\" .format(grid_result.best_score_*100, grid_result.best_params_))"
   ]
  },
  {
   "cell_type": "markdown",
   "metadata": {},
   "source": [
    "### Optimizer"
   ]
  },
  {
   "cell_type": "code",
   "execution_count": 42,
   "metadata": {},
   "outputs": [
    {
     "name": "stdout",
     "output_type": "stream",
     "text": [
      "40/40 [==============================] - 0s 1ms/step\n",
      "80/80 [==============================] - 0s 150us/step\n",
      "40/40 [==============================] - 0s 1ms/step\n",
      "80/80 [==============================] - 0s 100us/step\n",
      "40/40 [==============================] - 0s 781us/step\n",
      "80/80 [==============================] - 0s 50us/step\n",
      "40/40 [==============================] - 0s 2ms/step\n",
      "80/80 [==============================] - 0s 74us/step\n",
      "40/40 [==============================] - 0s 2ms/step\n",
      "80/80 [==============================] - 0s 181us/step\n",
      "40/40 [==============================] - 0s 2ms/step\n",
      "80/80 [==============================] - 0s 50us/step\n",
      "40/40 [==============================] - 0s 2ms/step\n",
      "80/80 [==============================] - 0s 100us/step\n",
      "40/40 [==============================] - 0s 2ms/step\n",
      "80/80 [==============================] - 0s 137us/step\n",
      "40/40 [==============================] - 0s 2ms/step\n",
      "80/80 [==============================] - 0s 50us/step\n",
      "0.316667 (0.062361) with: {'optimizer': 'sgd'}\n",
      "0.983333 (0.011785) with: {'optimizer': 'rmsprop'}\n",
      "0.975000 (0.020412) with: {'optimizer': 'adam'}\n",
      "Best: 98.3% using {'optimizer': 'rmsprop'}\n"
     ]
    }
   ],
   "source": [
    "K.clear_session()\n",
    "np.random.seed(seed) \n",
    "def create_model(optimizer='adam'):     \n",
    "    model = Sequential()\n",
    "    model.add(Dense(20, kernel_initializer='uniform', input_shape=(4,), activation='relu'))\n",
    "    model.add(Dense(20, kernel_initializer='uniform', activation='relu'))\n",
    "    model.add(Dense(20, kernel_initializer='uniform', activation='relu'))\n",
    "    model.add(Dense(3, kernel_initializer='uniform', activation='softmax'))\n",
    "    model.compile(optimizer=optimizer, loss='categorical_crossentropy',metrics=['accuracy'])\n",
    "    return model\n",
    "batch_size=16\n",
    "epochs=150\n",
    "classifier = KerasClassifier(build_fn=create_model, epochs=epochs, batch_size=batch_size)\n",
    "\n",
    "# Grid Search\n",
    "optimizer = ['sgd', 'rmsprop', 'adam']#, 'Adagrad', 'Adadelta', 'Adamax', 'Nadam']\n",
    "param_grid = dict(optimizer=optimizer)\n",
    "grid = GridSearchCV(classifier, param_grid=param_grid, verbose=0)\n",
    "grid_result = grid.fit(X_train,y_train,verbose=0)\n",
    "\n",
    "# Results\n",
    "means = grid_result.cv_results_['mean_test_score']\n",
    "stds = grid_result.cv_results_['std_test_score']\n",
    "params = grid_result.cv_results_['params']\n",
    "for mean, stdev, param in zip(means, stds, params):\n",
    "    print(\"%f (%f) with: %r\" % (mean, stdev, param))   \n",
    "print(\"Best: {:.1f}% using {}\" .format(grid_result.best_score_*100, grid_result.best_params_))"
   ]
  },
  {
   "cell_type": "markdown",
   "metadata": {},
   "source": [
    "### Optimizer: Learning Rate"
   ]
  },
  {
   "cell_type": "code",
   "execution_count": 48,
   "metadata": {},
   "outputs": [
    {
     "name": "stdout",
     "output_type": "stream",
     "text": [
      "40/40 [==============================] - 0s 800us/step\n",
      "80/80 [==============================] - 0s 100us/step\n",
      "40/40 [==============================] - 0s 2ms/step\n",
      "80/80 [==============================] - 0s 81us/step\n",
      "40/40 [==============================] - 0s 2ms/step\n",
      "80/80 [==============================] - 0s 100us/step\n",
      "40/40 [==============================] - 0s 1ms/step\n",
      "80/80 [==============================] - 0s 50us/step\n",
      "40/40 [==============================] - 0s 1ms/step\n",
      "80/80 [==============================] - 0s 65us/step\n",
      "40/40 [==============================] - 0s 2ms/step\n",
      "80/80 [==============================] - 0s 50us/step\n",
      "40/40 [==============================] - 0s 3ms/step\n",
      "80/80 [==============================] - 0s 123us/step\n",
      "40/40 [==============================] - 0s 4ms/step\n",
      "80/80 [==============================] - 0s 100us/step\n",
      "40/40 [==============================] - 0s 2ms/step\n",
      "80/80 [==============================] - 0s 100us/step\n",
      "0.533333 (0.188562) with: {'lr': 0.1}\n",
      "0.941667 (0.042492) with: {'lr': 0.01}\n",
      "0.975000 (0.020412) with: {'lr': 0.001}\n",
      "Best: 97.5% using {'lr': 0.001}\n"
     ]
    }
   ],
   "source": [
    "K.clear_session()\n",
    "np.random.seed(seed) \n",
    "def create_model(lr=0.001):     \n",
    "    model = Sequential()\n",
    "    model.add(Dense(20, kernel_initializer='uniform', input_shape=(4,), activation='relu'))\n",
    "    model.add(Dense(20, kernel_initializer='uniform', activation='relu'))\n",
    "    model.add(Dense(20, kernel_initializer='uniform', activation='relu'))\n",
    "    model.add(Dense(3, kernel_initializer='uniform', activation='softmax'))\n",
    "    model.compile(optimizer=RMSprop(lr=lr), loss='categorical_crossentropy',metrics=['accuracy'])\n",
    "    return model\n",
    "batch_size=16\n",
    "epochs=150\n",
    "classifier = KerasClassifier(build_fn=create_model, epochs=epochs, batch_size=batch_size)\n",
    "\n",
    "# Grid Search\n",
    "lr = [0.1,0.01,0.001]#, 'Adagrad', 'Adadelta', 'Adamax', 'Nadam']\n",
    "param_grid = dict(lr=lr)\n",
    "grid = GridSearchCV(classifier, param_grid=param_grid, verbose=0)\n",
    "grid_result = grid.fit(X_train,y_train,verbose=0)\n",
    "\n",
    "# Results\n",
    "means = grid_result.cv_results_['mean_test_score']\n",
    "stds = grid_result.cv_results_['std_test_score']\n",
    "params = grid_result.cv_results_['params']\n",
    "for mean, stdev, param in zip(means, stds, params):\n",
    "    print(\"%f (%f) with: %r\" % (mean, stdev, param))   \n",
    "print(\"Best: {:.1f}% using {}\" .format(grid_result.best_score_*100, grid_result.best_params_))"
   ]
  },
  {
   "cell_type": "code",
   "execution_count": 52,
   "metadata": {},
   "outputs": [
    {
     "name": "stdout",
     "output_type": "stream",
     "text": [
      "40/40 [==============================] - 0s 1ms/step\n",
      "80/80 [==============================] - 0s 150us/step\n",
      "40/40 [==============================] - 0s 2ms/step\n",
      "80/80 [==============================] - 0s 100us/step\n",
      "40/40 [==============================] - 0s 1ms/step\n",
      "80/80 [==============================] - 0s 178us/step\n",
      "40/40 [==============================] - 0s 1ms/step\n",
      "80/80 [==============================] - 0s 100us/step\n",
      "40/40 [==============================] - 0s 2ms/step\n",
      "80/80 [==============================] - 0s 50us/step\n",
      "40/40 [==============================] - 0s 3ms/step\n",
      "80/80 [==============================] - 0s 177us/step\n",
      "40/40 [==============================] - 0s 3ms/step\n",
      "80/80 [==============================] - 0s 182us/step\n",
      "40/40 [==============================] - 0s 2ms/step\n",
      "80/80 [==============================] - 0s 117us/step\n",
      "40/40 [==============================] - 0s 2ms/step\n",
      "80/80 [==============================] - 0s 50us/step\n",
      "0.975000 (0.020412) with: {'rho': 0.99}\n",
      "0.983333 (0.011785) with: {'rho': 0.9}\n",
      "0.975000 (0.020412) with: {'rho': 0.8}\n",
      "Best: 98.3% using {'rho': 0.9}\n"
     ]
    }
   ],
   "source": [
    "K.clear_session()\n",
    "np.random.seed(seed) \n",
    "def create_model(rho=0.9,lr=0.001):     \n",
    "    model = Sequential()\n",
    "    model.add(Dense(20, kernel_initializer='uniform', input_shape=(4,), activation='relu'))\n",
    "    model.add(Dense(20, kernel_initializer='uniform', activation='relu'))\n",
    "    model.add(Dense(20, kernel_initializer='uniform', activation='relu'))\n",
    "    model.add(Dense(3, kernel_initializer='uniform', activation='softmax'))\n",
    "    model.compile(optimizer=RMSprop(lr=lr,rho=rho), loss='categorical_crossentropy',metrics=['accuracy'])\n",
    "    return model\n",
    "batch_size=16\n",
    "epochs=150\n",
    "classifier = KerasClassifier(build_fn=create_model, epochs=epochs, batch_size=batch_size)\n",
    "\n",
    "# Grid Search\n",
    "rho = [0.99, 0.9, 0.8]\n",
    "param_grid = dict(rho=rho)\n",
    "grid = GridSearchCV(classifier, param_grid=param_grid, verbose=0)\n",
    "grid_result = grid.fit(X_train,y_train,verbose=0)\n",
    "\n",
    "# Results\n",
    "means = grid_result.cv_results_['mean_test_score']\n",
    "stds = grid_result.cv_results_['std_test_score']\n",
    "params = grid_result.cv_results_['params']\n",
    "for mean, stdev, param in zip(means, stds, params):\n",
    "    print(\"%f (%f) with: %r\" % (mean, stdev, param))   \n",
    "print(\"Best: {:.1f}% using {}\" .format(grid_result.best_score_*100, grid_result.best_params_))"
   ]
  },
  {
   "cell_type": "markdown",
   "metadata": {},
   "source": [
    "### Initializer"
   ]
  },
  {
   "cell_type": "code",
   "execution_count": 43,
   "metadata": {},
   "outputs": [
    {
     "name": "stdout",
     "output_type": "stream",
     "text": [
      "40/40 [==============================] - 0s 391us/step\n",
      "80/80 [==============================] - 0s 126us/step\n",
      "40/40 [==============================] - 0s 1ms/step\n",
      "80/80 [==============================] - 0s 50us/step\n",
      "40/40 [==============================] - 0s 2ms/step\n",
      "80/80 [==============================] - 0s 50us/step\n",
      "40/40 [==============================] - 0s 2ms/step\n",
      "80/80 [==============================] - 0s 50us/step\n",
      "40/40 [==============================] - 0s 2ms/step\n",
      "80/80 [==============================] - 0s 50us/step\n",
      "40/40 [==============================] - 0s 2ms/step\n",
      "80/80 [==============================] - 0s 50us/step\n",
      "40/40 [==============================] - 0s 2ms/step\n",
      "80/80 [==============================] - 0s 131us/step\n",
      "40/40 [==============================] - 0s 3ms/step\n",
      "80/80 [==============================] - 0s 50us/step\n",
      "40/40 [==============================] - 0s 3ms/step\n",
      "80/80 [==============================] - 0s 50us/step\n",
      "0.975000 (0.020412) with: {'init_mode': 'uniform'}\n",
      "0.958333 (0.042492) with: {'init_mode': 'glorot_normal'}\n",
      "0.283333 (0.023570) with: {'init_mode': 'zero'}\n",
      "Best: 97.5% using {'init_mode': 'uniform'}\n"
     ]
    }
   ],
   "source": [
    "K.clear_session()\n",
    "np.random.seed(seed)\n",
    "def create_model(init_mode='uniform',optimizer='rmsprop'):     \n",
    "    model = Sequential()\n",
    "    model.add(Dense(20, kernel_initializer=init_mode, input_shape=(4,), activation='relu'))\n",
    "    model.add(Dense(20, kernel_initializer=init_mode, activation='relu'))\n",
    "    model.add(Dense(20, kernel_initializer=init_mode, activation='relu'))\n",
    "    model.add(Dense(3, kernel_initializer=init_mode, activation='softmax'))\n",
    "    model.compile(optimizer=optimizer, loss='categorical_crossentropy',metrics=['accuracy'])\n",
    "    return model\n",
    "batch_size=16\n",
    "epochs=150\n",
    "classifier = KerasClassifier(build_fn=create_model, epochs=epochs, batch_size=batch_size)\n",
    "\n",
    "# Grid Search\n",
    "init_mode = ['uniform', 'glorot_normal','zero']#,'lecun_uniform', 'normal',   'glorot_uniform', 'he_normal', 'he_uniform']\n",
    "param_grid = dict(init_mode=init_mode)\n",
    "grid = GridSearchCV(classifier, param_grid=param_grid, verbose=0) #n_jobs=-1,\n",
    "grid_result = grid.fit(X_train, y_train, verbose=0)\n",
    "\n",
    "# Results\n",
    "means = grid_result.cv_results_['mean_test_score']\n",
    "stds = grid_result.cv_results_['std_test_score']\n",
    "params = grid_result.cv_results_['params']\n",
    "for mean, stdev, param in zip(means, stds, params):\n",
    "    print(\"%f (%f) with: %r\" % (mean, stdev, param))    \n",
    "print(\"Best: {:.1f}% using {}\" .format(grid_result.best_score_*100, grid_result.best_params_))"
   ]
  },
  {
   "cell_type": "markdown",
   "metadata": {},
   "source": [
    "### Activation function"
   ]
  },
  {
   "cell_type": "code",
   "execution_count": 44,
   "metadata": {},
   "outputs": [
    {
     "name": "stdout",
     "output_type": "stream",
     "text": [
      "40/40 [==============================] - 0s 800us/step\n",
      "80/80 [==============================] - 0s 100us/step\n",
      "40/40 [==============================] - 0s 2ms/step\n",
      "80/80 [==============================] - 0s 200us/step\n",
      "40/40 [==============================] - 0s 2ms/step\n",
      "80/80 [==============================] - 0s 139us/step\n",
      "40/40 [==============================] - 0s 2ms/step\n",
      "80/80 [==============================] - 0s 100us/step\n",
      "40/40 [==============================] - 0s 2ms/step\n",
      "80/80 [==============================] - 0s 50us/step\n",
      "40/40 [==============================] - 0s 2ms/step\n",
      "80/80 [==============================] - 0s 100us/step\n",
      "40/40 [==============================] - 0s 3ms/step\n",
      "80/80 [==============================] - 0s 50us/step\n",
      "40/40 [==============================] - 0s 2ms/step\n",
      "80/80 [==============================] - 0s 50us/step\n",
      "40/40 [==============================] - 0s 3ms/step\n",
      "80/80 [==============================] - 0s 100us/step\n",
      "40/40 [==============================] - 0s 3ms/step\n",
      "80/80 [==============================] - 0s 100us/step\n",
      "40/40 [==============================] - 0s 3ms/step\n",
      "80/80 [==============================] - 0s 50us/step\n",
      "40/40 [==============================] - 0s 3ms/step\n",
      "80/80 [==============================] - 0s 100us/step\n",
      "0.975000 (0.020412) with: {'activation': 'relu'}\n",
      "0.975000 (0.020412) with: {'activation': 'tanh'}\n",
      "0.850000 (0.162019) with: {'activation': 'sigmoid'}\n",
      "0.975000 (0.020412) with: {'activation': 'linear'}\n",
      "Best: 97.5% using {'activation': 'relu'}\n"
     ]
    }
   ],
   "source": [
    "K.clear_session()\n",
    "np.random.seed(seed) \n",
    "def create_model(activation='relu',init_mode='uniform',optimizer='rmsprop'):     \n",
    "    model = Sequential()\n",
    "    model.add(Dense(20, kernel_initializer=init_mode, input_shape=(4,), activation=activation))\n",
    "    model.add(Dense(20, kernel_initializer=init_mode, activation=activation))\n",
    "    model.add(Dense(20, kernel_initializer=init_mode, activation=activation))\n",
    "    model.add(Dense(3, kernel_initializer=init_mode, activation='softmax'))\n",
    "    model.compile(optimizer=optimizer, loss='categorical_crossentropy',metrics=['accuracy'])\n",
    "    return model\n",
    "batch_size=16\n",
    "epochs=150\n",
    "classifier = KerasClassifier(build_fn=create_model, epochs=epochs, batch_size=batch_size)\n",
    "\n",
    "# Grid Search\n",
    "activation = ['relu', 'tanh', 'sigmoid','linear']#'softmax', 'softplus', 'softsign',  'hard_sigmoid', ]\n",
    "param_grid = dict(activation=activation)\n",
    "grid = GridSearchCV(classifier, param_grid=param_grid, verbose=0) #n_jobs=-1,\n",
    "grid_result = grid.fit(X_train, y_train, verbose=0)\n",
    "\n",
    "# Results\n",
    "means = grid_result.cv_results_['mean_test_score']\n",
    "stds = grid_result.cv_results_['std_test_score']\n",
    "params = grid_result.cv_results_['params']\n",
    "for mean, stdev, param in zip(means, stds, params):\n",
    "    print(\"%f (%f) with: %r\" % (mean, stdev, param))   \n",
    "print(\"Best: {:.1f}% using {}\" .format(grid_result.best_score_*100, grid_result.best_params_))"
   ]
  },
  {
   "cell_type": "markdown",
   "metadata": {},
   "source": [
    "### Dropout"
   ]
  },
  {
   "cell_type": "code",
   "execution_count": 45,
   "metadata": {},
   "outputs": [
    {
     "name": "stdout",
     "output_type": "stream",
     "text": [
      "40/40 [==============================] - 0s 390us/step\n",
      "80/80 [==============================] - 0s 50us/step\n",
      "40/40 [==============================] - 0s 781us/step\n",
      "80/80 [==============================] - 0s 212us/step\n",
      "40/40 [==============================] - 0s 2ms/step\n",
      "80/80 [==============================] - 0s 208us/step\n",
      "40/40 [==============================] - 0s 2ms/step\n",
      "80/80 [==============================] - 0s 50us/step\n",
      "40/40 [==============================] - 0s 2ms/step\n",
      "80/80 [==============================] - 0s 50us/step\n",
      "40/40 [==============================] - 0s 2ms/step\n",
      "80/80 [==============================] - 0s 100us/step\n",
      "40/40 [==============================] - 0s 3ms/step\n",
      "80/80 [==============================] - 0s 50us/step\n",
      "40/40 [==============================] - 0s 4ms/step\n",
      "80/80 [==============================] - 0s 50us/step\n",
      "40/40 [==============================] - 0s 3ms/step\n",
      "80/80 [==============================] - 0s 100us/step\n",
      "40/40 [==============================] - 0s 4ms/step\n",
      "80/80 [==============================] - 0s 50us/step\n",
      "40/40 [==============================] - 0s 4ms/step\n",
      "80/80 [==============================] - 0s 100us/step\n",
      "40/40 [==============================] - 0s 4ms/step\n",
      "80/80 [==============================] - 0s 50us/step\n",
      "0.975000 (0.020412) with: {'dropout_rate': 0.0}\n",
      "0.975000 (0.020412) with: {'dropout_rate': 0.1}\n",
      "0.975000 (0.020412) with: {'dropout_rate': 0.2}\n",
      "0.966667 (0.011785) with: {'dropout_rate': 0.4}\n",
      "Best: 97.5% using {'dropout_rate': 0.0}\n"
     ]
    }
   ],
   "source": [
    "K.clear_session()\n",
    "np.random.seed(seed)\n",
    "def create_model(dropout_rate=0.0, activation='relu',init_mode='uniform',optimizer='rmsprop'):     \n",
    "    model = Sequential()\n",
    "    model.add(Dense(20, kernel_initializer=init_mode, input_shape=(4,), \n",
    "                    activation=activation))\n",
    "    model.add(Dropout(dropout_rate))\n",
    "    model.add(Dense(20, kernel_initializer=init_mode, activation=activation))\n",
    "    model.add(Dense(20, kernel_initializer=init_mode, activation=activation))\n",
    "    model.add(Dropout(dropout_rate))\n",
    "    model.add(Dense(3, kernel_initializer=init_mode, activation='softmax'))\n",
    "    model.compile(optimizer=optimizer, loss='categorical_crossentropy',metrics=['accuracy'])\n",
    "    return model\n",
    "batch_size=16\n",
    "epochs=150\n",
    "classifier = KerasClassifier(build_fn=create_model, epochs=epochs, batch_size=batch_size)\n",
    "\n",
    "# Grid Search\n",
    "dropout_rate = [0.0, 0.1,0.2,0.4]\n",
    "param_grid = dict(dropout_rate=dropout_rate)\n",
    "grid = GridSearchCV(classifier, param_grid=param_grid, verbose=0) #n_jobs=-1,\n",
    "grid_result = grid.fit(X_train,y_train, verbose=0)\n",
    "\n",
    "# Results\n",
    "means = grid_result.cv_results_['mean_test_score']\n",
    "stds = grid_result.cv_results_['std_test_score']\n",
    "params = grid_result.cv_results_['params']\n",
    "for mean, stdev, param in zip(means, stds, params):\n",
    "    print(\"%f (%f) with: %r\" % (mean, stdev, param))   \n",
    "print(\"Best: {:.1f}% using {}\" .format(grid_result.best_score_*100, grid_result.best_params_))"
   ]
  },
  {
   "cell_type": "markdown",
   "metadata": {},
   "source": [
    "## Final Model \n",
    "#### params: optimizer='adam', kernel_initializer='uniform', activation='relu', epochs=150, batch_size=16 (as baseline)"
   ]
  },
  {
   "cell_type": "code",
   "execution_count": 58,
   "metadata": {},
   "outputs": [
    {
     "name": "stdout",
     "output_type": "stream",
     "text": [
      "loss of train set: 0.044\n",
      "accuracy of train set: 98.3%\n"
     ]
    }
   ],
   "source": [
    "K.clear_session()\n",
    "np.random.seed(seed)\n",
    "# train model\n",
    "model = Sequential()\n",
    "model.add(Dense(20, kernel_initializer='uniform', input_shape=(4,), \n",
    "                activation='relu'))\n",
    "model.add(Dense(20, kernel_initializer='uniform', activation='relu'))\n",
    "model.add(Dense(20, kernel_initializer='uniform', activation='relu'))\n",
    "model.add(Dense(3, kernel_initializer='uniform', activation='softmax'))\n",
    "model.compile(optimizer='adam', loss='categorical_crossentropy',metrics=['accuracy'])\n",
    "model.fit(X_train, y_train, epochs=150, batch_size=16, verbose=0)\n",
    "# evaluate model on train set\n",
    "scores = model.evaluate(X_train,y_train, verbose=0)\n",
    "print('loss of train set: {:0.3f}'.format(scores[0]))\n",
    "print('accuracy of train set: {:0.1f}%'.format(scores[1]*100))"
   ]
  },
  {
   "cell_type": "markdown",
   "metadata": {},
   "source": [
    "** Save and load the final model to JSON or YAML ** https://keras.io/getting-started/faq/#how-can-i-save-a-keras-model"
   ]
  },
  {
   "cell_type": "markdown",
   "metadata": {},
   "source": [
    "** 1) JSON **"
   ]
  },
  {
   "cell_type": "code",
   "execution_count": 59,
   "metadata": {},
   "outputs": [
    {
     "name": "stdout",
     "output_type": "stream",
     "text": [
      "Saved model in model.json, model.h5\n"
     ]
    }
   ],
   "source": [
    "# save model as JSON\n",
    "filename = 'model'\n",
    "# model architecture\n",
    "model_json = model.to_json()\n",
    "with open(filename+'.json', 'w') as json_file:\n",
    "    json_file.write(model_json)\n",
    "# model weghts\n",
    "model.save(filename+'.h5')\n",
    "print('Saved model in',filename+'.json,',filename+'.h5')"
   ]
  },
  {
   "cell_type": "code",
   "execution_count": 155,
   "metadata": {
    "collapsed": true
   },
   "outputs": [],
   "source": [
    "#del model"
   ]
  },
  {
   "cell_type": "code",
   "execution_count": 60,
   "metadata": {},
   "outputs": [
    {
     "name": "stdout",
     "output_type": "stream",
     "text": [
      "Loaded model from model.json, model.h5\n",
      "_________________________________________________________________\n",
      "Layer (type)                 Output Shape              Param #   \n",
      "=================================================================\n",
      "dense_1 (Dense)              (None, 20)                100       \n",
      "_________________________________________________________________\n",
      "dense_2 (Dense)              (None, 20)                420       \n",
      "_________________________________________________________________\n",
      "dense_3 (Dense)              (None, 20)                420       \n",
      "_________________________________________________________________\n",
      "dense_4 (Dense)              (None, 3)                 63        \n",
      "=================================================================\n",
      "Total params: 1,003\n",
      "Trainable params: 1,003\n",
      "Non-trainable params: 0\n",
      "_________________________________________________________________\n",
      "None\n"
     ]
    }
   ],
   "source": [
    "#load model from JSON\n",
    "filename = 'model'\n",
    "# model architecture\n",
    "from keras.models import model_from_json\n",
    "json_file = open(filename+'.json', 'r')\n",
    "model_json = json_file.read()\n",
    "json_file.close()\n",
    "model = model_from_json(model_json)\n",
    "# model weghts\n",
    "model.load_weights(filename+'.h5')\n",
    "print('Loaded model from',filename+'.json,',filename+'.h5')\n",
    "print(model.summary())"
   ]
  },
  {
   "cell_type": "code",
   "execution_count": 61,
   "metadata": {},
   "outputs": [
    {
     "name": "stdout",
     "output_type": "stream",
     "text": [
      "loss of test set: 0.091\n",
      "accuracy of test set: 96.7%\n"
     ]
    }
   ],
   "source": [
    "# evaluate loaded model on test data\n",
    "model.compile(optimizer='adam', loss='categorical_crossentropy',metrics=['accuracy'])\n",
    "scores = model.evaluate(X_test,y_test,verbose=0)\n",
    "print('loss of test set: {:0.3f}'.format(scores[0]))\n",
    "print('accuracy of test set: {:0.1f}%'.format(scores[1]*100))"
   ]
  },
  {
   "cell_type": "markdown",
   "metadata": {},
   "source": [
    "** 2) YAML **"
   ]
  },
  {
   "cell_type": "code",
   "execution_count": 62,
   "metadata": {},
   "outputs": [
    {
     "name": "stdout",
     "output_type": "stream",
     "text": [
      "Saved model in model.yaml, model.h5\n"
     ]
    }
   ],
   "source": [
    "# save model as YAML\n",
    "filename = 'model'\n",
    "# model architecture\n",
    "model_yaml= model.to_yaml()\n",
    "with open(filename+'.yaml', 'w') as yaml_file:\n",
    "    yaml_file.write(model_yaml)\n",
    "# model weghts\n",
    "model.save(filename+'.h5')\n",
    "print('Saved model in',filename+'.yaml,',filename+'.h5')"
   ]
  },
  {
   "cell_type": "code",
   "execution_count": 63,
   "metadata": {},
   "outputs": [
    {
     "name": "stdout",
     "output_type": "stream",
     "text": [
      "Loaded model from model.yaml, model.h5\n",
      "_________________________________________________________________\n",
      "Layer (type)                 Output Shape              Param #   \n",
      "=================================================================\n",
      "dense_1 (Dense)              (None, 20)                100       \n",
      "_________________________________________________________________\n",
      "dense_2 (Dense)              (None, 20)                420       \n",
      "_________________________________________________________________\n",
      "dense_3 (Dense)              (None, 20)                420       \n",
      "_________________________________________________________________\n",
      "dense_4 (Dense)              (None, 3)                 63        \n",
      "=================================================================\n",
      "Total params: 1,003\n",
      "Trainable params: 1,003\n",
      "Non-trainable params: 0\n",
      "_________________________________________________________________\n",
      "None\n"
     ]
    }
   ],
   "source": [
    "#load model from YAML\n",
    "filename = 'model'\n",
    "# model architecture\n",
    "from keras.models import model_from_yaml\n",
    "yaml_file = open(filename+'.json', 'r')\n",
    "model_yaml = yaml_file.read()\n",
    "yaml_file.close()\n",
    "model = model_from_yaml(model_yaml)\n",
    "# model weghts\n",
    "model.load_weights(filename+'.h5')\n",
    "print('Loaded model from',filename+'.yaml,',filename+'.h5')\n",
    "print(model.summary())"
   ]
  },
  {
   "cell_type": "code",
   "execution_count": 64,
   "metadata": {},
   "outputs": [
    {
     "name": "stdout",
     "output_type": "stream",
     "text": [
      "loss of test set: 0.091\n",
      "accuracy of test set: 96.7%\n"
     ]
    }
   ],
   "source": [
    "# evaluate loaded model on test data\n",
    "model.compile(optimizer='adam', loss='categorical_crossentropy',metrics=['accuracy'])\n",
    "scores = model.evaluate(X_test,y_test,verbose=0)\n",
    "print('loss of test set: {:0.3f}'.format(scores[0]))\n",
    "print('accuracy of test set: {:0.1f}%'.format(scores[1]*100))"
   ]
  },
  {
   "cell_type": "markdown",
   "metadata": {},
   "source": [
    "** Classification report & Confusion Matrix **"
   ]
  },
  {
   "cell_type": "code",
   "execution_count": 65,
   "metadata": {},
   "outputs": [
    {
     "name": "stdout",
     "output_type": "stream",
     "text": [
      "             precision    recall  f1-score   support\n",
      "\n",
      "          0       1.00      1.00      1.00        43\n",
      "          1       0.97      0.97      0.97        38\n",
      "          2       0.97      0.97      0.97        39\n",
      "\n",
      "avg / total       0.98      0.98      0.98       120\n",
      "\n"
     ]
    },
    {
     "data": {
      "image/png": "[encoded data removed]",
      "text/plain": [
       "<matplotlib.figure.Figure at 0x287b0fd9da0>"
      ]
     },
     "metadata": {},
     "output_type": "display_data"
    }
   ],
   "source": [
    "from sklearn.metrics import confusion_matrix,classification_report,accuracy_score\n",
    "#classification report\n",
    "print(classification_report(np.argmax(y_train,axis=1), model.predict_classes(X_train,verbose=0)))\n",
    "\n",
    "#confusion matrix\n",
    "confmat = confusion_matrix(np.argmax(y_train,axis=1), model.predict_classes(X_train,verbose=0))\n",
    "\n",
    "fig, ax = plt.subplots(figsize=(2.5, 2.5))\n",
    "ax.matshow(confmat, cmap=plt.cm.Blues, alpha=0.3)\n",
    "for i in range(confmat.shape[0]):\n",
    "    for j in range(confmat.shape[1]):\n",
    "        ax.text(x=j, y=i, s=confmat[i, j], va='center', ha='center')\n",
    "plt.xlabel('Predicted label')\n",
    "plt.ylabel('True label')\n",
    "plt.tight_layout()"
   ]
  },
  {
   "cell_type": "markdown",
   "metadata": {},
   "source": [
    "## Model Evaluation with Test set"
   ]
  },
  {
   "cell_type": "code",
   "execution_count": 66,
   "metadata": {},
   "outputs": [
    {
     "name": "stdout",
     "output_type": "stream",
     "text": [
      "Accuracy: 96.7%\n"
     ]
    }
   ],
   "source": [
    "# predict class with test set (new, unseen)\n",
    "y_pred = model.predict_classes(X_test,verbose=0)\n",
    "print('Accuracy: {:0.1f}%'.format(accuracy_score(np.argmax(y_test,axis=1),y_pred)*100))"
   ]
  },
  {
   "cell_type": "code",
   "execution_count": 67,
   "metadata": {},
   "outputs": [
    {
     "name": "stdout",
     "output_type": "stream",
     "text": [
      "             precision    recall  f1-score   support\n",
      "\n",
      "          0       1.00      1.00      1.00         7\n",
      "          1       1.00      0.92      0.96        12\n",
      "          2       0.92      1.00      0.96        11\n",
      "\n",
      "avg / total       0.97      0.97      0.97        30\n",
      "\n"
     ]
    },
    {
     "data": {
      "image/png": "[encoded data removed]",
      "text/plain": [
       "<matplotlib.figure.Figure at 0x287ad0d7208>"
      ]
     },
     "metadata": {},
     "output_type": "display_data"
    }
   ],
   "source": [
    "#classification report\n",
    "print(classification_report(np.argmax(y_test,axis=1), model.predict_classes(X_test,verbose=0)))\n",
    "\n",
    "#confusion matrix\n",
    "confmat = confusion_matrix(np.argmax(y_test,axis=1), model.predict_classes(X_test,verbose=0))\n",
    "\n",
    "fig, ax = plt.subplots(figsize=(2.5, 2.5))\n",
    "ax.matshow(confmat, cmap=plt.cm.Blues, alpha=0.3)\n",
    "for i in range(confmat.shape[0]):\n",
    "    for j in range(confmat.shape[1]):\n",
    "        ax.text(x=j, y=i, s=confmat[i, j], va='center', ha='center')\n",
    "plt.xlabel('Predicted label')\n",
    "plt.ylabel('True label')\n",
    "plt.tight_layout()"
   ]
  },
  {
   "cell_type": "markdown",
   "metadata": {},
   "source": [
    "## Summary"
   ]
  },
  {
   "cell_type": "markdown",
   "metadata": {},
   "source": [
    "- Model Architecture: 3 hidden layers (20 nodes for each)\n",
    "\n",
    "    \n",
    "- Best params: epochs=150, batch_size=16, optimizer='adam', kernel_initializer='uniform', activation='relu'\n",
    "\n",
    "    \n",
    "- Accuracy of test set: ** 96.7% ** (tie with LDA)"
   ]
  }
 ],
 "metadata": {
  "kernelspec": {
   "display_name": "Python 3",
   "language": "python",
   "name": "python3"
  },
  "language_info": {
   "codemirror_mode": {
    "name": "ipython",
    "version": 3
   },
   "file_extension": ".py",
   "mimetype": "text/x-python",
   "name": "python",
   "nbconvert_exporter": "python",
   "pygments_lexer": "ipython3",
   "version": "3.6.3"
  }
 },
 "nbformat": 4,
 "nbformat_minor": 2
}
