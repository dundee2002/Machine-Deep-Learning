{
 "cells": [
  {
   "cell_type": "markdown",
   "metadata": {},
   "source": [
    "## Multiclass Classification: Wine Dataset\n",
    "https://archive.ics.uci.edu/ml/datasets/wine\n",
    "\n",
    "** Dataset Information: **\n",
    "\n",
    "These data are the results of a chemical analysis of wines grown in the same region in Italy but derived from three different cultivars. The analysis determined the quantities of 13 constituents found in each of the three types of wines\n",
    "\n",
    "** Attribute Information: (13 features and 1 class)**\n",
    "\n",
    "Class: class 1 (59), class 2 (71), class 3 (48)\n",
    "\n",
    "1. Alcohol (class)\n",
    "2. Malic acid \n",
    "3. Ash \n",
    "4. Alcalinity of ash \n",
    "5. Magnesium \n",
    "6. Total phenols \n",
    "7. Flavanoids \n",
    "8. Nonflavanoid phenols \n",
    "9. Proanthocyanins \n",
    "10. Color intensity \n",
    "11. Hue \n",
    "12. OD280/OD315 of diluted wines \n",
    "13. Proline \n",
    "\n",
    "** Objective of this project **\n",
    "\n",
    "Using chemical analysis (features) determine the origin of wines (class, 1-3)"
   ]
  },
  {
   "cell_type": "markdown",
   "metadata": {},
   "source": [
    "## Data"
   ]
  },
  {
   "cell_type": "code",
   "execution_count": 1,
   "metadata": {
    "collapsed": true
   },
   "outputs": [],
   "source": [
    "# Load libraries\n",
    "import numpy as np\n",
    "import pandas as pd\n",
    "import matplotlib.pyplot as plt\n",
    "import seaborn as sns\n",
    "%matplotlib inline  "
   ]
  },
  {
   "cell_type": "code",
   "execution_count": 2,
   "metadata": {
    "collapsed": true
   },
   "outputs": [],
   "source": [
    "# Load Data\n",
    "url = 'https://archive.ics.uci.edu/ml/machine-learning-databases/wine/wine.data'\n",
    "names = ['Class','Alcohol','Malic_Acid','Ash','Ash_Alcanity','Magnesium','Total_Phenols','Flavanoids','Nonflavanoid_Phenols','Proanthocyanins','Color_Intensity','Hue','OD280','Proline']\n",
    "df = pd.read_csv(url, names=names)"
   ]
  },
  {
   "cell_type": "code",
   "execution_count": 3,
   "metadata": {},
   "outputs": [
    {
     "data": {
      "text/html": [
       "<div>\n",
       "<style>\n",
       "    .dataframe thead tr:only-child th {\n",
       "        text-align: right;\n",
       "    }\n",
       "\n",
       "    .dataframe thead th {\n",
       "        text-align: left;\n",
       "    }\n",
       "\n",
       "    .dataframe tbody tr th {\n",
       "        vertical-align: top;\n",
       "    }\n",
       "</style>\n",
       "<table border=\"1\" class=\"dataframe\">\n",
       "  <thead>\n",
       "    <tr style=\"text-align: right;\">\n",
       "      <th></th>\n",
       "      <th>Class</th>\n",
       "      <th>Alcohol</th>\n",
       "      <th>Malic_Acid</th>\n",
       "      <th>Ash</th>\n",
       "      <th>Ash_Alcanity</th>\n",
       "      <th>Magnesium</th>\n",
       "      <th>Total_Phenols</th>\n",
       "      <th>Flavanoids</th>\n",
       "      <th>Nonflavanoid_Phenols</th>\n",
       "      <th>Proanthocyanins</th>\n",
       "      <th>Color_Intensity</th>\n",
       "      <th>Hue</th>\n",
       "      <th>OD280</th>\n",
       "      <th>Proline</th>\n",
       "    </tr>\n",
       "  </thead>\n",
       "  <tbody>\n",
       "    <tr>\n",
       "      <th>0</th>\n",
       "      <td>1</td>\n",
       "      <td>14.23</td>\n",
       "      <td>1.71</td>\n",
       "      <td>2.43</td>\n",
       "      <td>15.6</td>\n",
       "      <td>127</td>\n",
       "      <td>2.80</td>\n",
       "      <td>3.06</td>\n",
       "      <td>0.28</td>\n",
       "      <td>2.29</td>\n",
       "      <td>5.64</td>\n",
       "      <td>1.04</td>\n",
       "      <td>3.92</td>\n",
       "      <td>1065</td>\n",
       "    </tr>\n",
       "    <tr>\n",
       "      <th>1</th>\n",
       "      <td>1</td>\n",
       "      <td>13.20</td>\n",
       "      <td>1.78</td>\n",
       "      <td>2.14</td>\n",
       "      <td>11.2</td>\n",
       "      <td>100</td>\n",
       "      <td>2.65</td>\n",
       "      <td>2.76</td>\n",
       "      <td>0.26</td>\n",
       "      <td>1.28</td>\n",
       "      <td>4.38</td>\n",
       "      <td>1.05</td>\n",
       "      <td>3.40</td>\n",
       "      <td>1050</td>\n",
       "    </tr>\n",
       "    <tr>\n",
       "      <th>2</th>\n",
       "      <td>1</td>\n",
       "      <td>13.16</td>\n",
       "      <td>2.36</td>\n",
       "      <td>2.67</td>\n",
       "      <td>18.6</td>\n",
       "      <td>101</td>\n",
       "      <td>2.80</td>\n",
       "      <td>3.24</td>\n",
       "      <td>0.30</td>\n",
       "      <td>2.81</td>\n",
       "      <td>5.68</td>\n",
       "      <td>1.03</td>\n",
       "      <td>3.17</td>\n",
       "      <td>1185</td>\n",
       "    </tr>\n",
       "    <tr>\n",
       "      <th>3</th>\n",
       "      <td>1</td>\n",
       "      <td>14.37</td>\n",
       "      <td>1.95</td>\n",
       "      <td>2.50</td>\n",
       "      <td>16.8</td>\n",
       "      <td>113</td>\n",
       "      <td>3.85</td>\n",
       "      <td>3.49</td>\n",
       "      <td>0.24</td>\n",
       "      <td>2.18</td>\n",
       "      <td>7.80</td>\n",
       "      <td>0.86</td>\n",
       "      <td>3.45</td>\n",
       "      <td>1480</td>\n",
       "    </tr>\n",
       "    <tr>\n",
       "      <th>4</th>\n",
       "      <td>1</td>\n",
       "      <td>13.24</td>\n",
       "      <td>2.59</td>\n",
       "      <td>2.87</td>\n",
       "      <td>21.0</td>\n",
       "      <td>118</td>\n",
       "      <td>2.80</td>\n",
       "      <td>2.69</td>\n",
       "      <td>0.39</td>\n",
       "      <td>1.82</td>\n",
       "      <td>4.32</td>\n",
       "      <td>1.04</td>\n",
       "      <td>2.93</td>\n",
       "      <td>735</td>\n",
       "    </tr>\n",
       "  </tbody>\n",
       "</table>\n",
       "</div>"
      ],
      "text/plain": [
       "   Class  Alcohol  Malic_Acid   Ash  Ash_Alcanity  Magnesium  Total_Phenols  \\\n",
       "0      1    14.23        1.71  2.43          15.6        127           2.80   \n",
       "1      1    13.20        1.78  2.14          11.2        100           2.65   \n",
       "2      1    13.16        2.36  2.67          18.6        101           2.80   \n",
       "3      1    14.37        1.95  2.50          16.8        113           3.85   \n",
       "4      1    13.24        2.59  2.87          21.0        118           2.80   \n",
       "\n",
       "   Flavanoids  Nonflavanoid_Phenols  Proanthocyanins  Color_Intensity   Hue  \\\n",
       "0        3.06                  0.28             2.29             5.64  1.04   \n",
       "1        2.76                  0.26             1.28             4.38  1.05   \n",
       "2        3.24                  0.30             2.81             5.68  1.03   \n",
       "3        3.49                  0.24             2.18             7.80  0.86   \n",
       "4        2.69                  0.39             1.82             4.32  1.04   \n",
       "\n",
       "   OD280  Proline  \n",
       "0   3.92     1065  \n",
       "1   3.40     1050  \n",
       "2   3.17     1185  \n",
       "3   3.45     1480  \n",
       "4   2.93      735  "
      ]
     },
     "execution_count": 3,
     "metadata": {},
     "output_type": "execute_result"
    }
   ],
   "source": [
    "# Inspect Data\n",
    "df.head()"
   ]
  },
  {
   "cell_type": "code",
   "execution_count": 4,
   "metadata": {},
   "outputs": [
    {
     "data": {
      "text/html": [
       "<div>\n",
       "<style>\n",
       "    .dataframe thead tr:only-child th {\n",
       "        text-align: right;\n",
       "    }\n",
       "\n",
       "    .dataframe thead th {\n",
       "        text-align: left;\n",
       "    }\n",
       "\n",
       "    .dataframe tbody tr th {\n",
       "        vertical-align: top;\n",
       "    }\n",
       "</style>\n",
       "<table border=\"1\" class=\"dataframe\">\n",
       "  <thead>\n",
       "    <tr style=\"text-align: right;\">\n",
       "      <th></th>\n",
       "      <th>Class</th>\n",
       "      <th>Alcohol</th>\n",
       "      <th>Malic_Acid</th>\n",
       "      <th>Ash</th>\n",
       "      <th>Ash_Alcanity</th>\n",
       "      <th>Magnesium</th>\n",
       "      <th>Total_Phenols</th>\n",
       "      <th>Flavanoids</th>\n",
       "      <th>Nonflavanoid_Phenols</th>\n",
       "      <th>Proanthocyanins</th>\n",
       "      <th>Color_Intensity</th>\n",
       "      <th>Hue</th>\n",
       "      <th>OD280</th>\n",
       "      <th>Proline</th>\n",
       "    </tr>\n",
       "  </thead>\n",
       "  <tbody>\n",
       "    <tr>\n",
       "      <th>173</th>\n",
       "      <td>3</td>\n",
       "      <td>13.71</td>\n",
       "      <td>5.65</td>\n",
       "      <td>2.45</td>\n",
       "      <td>20.5</td>\n",
       "      <td>95</td>\n",
       "      <td>1.68</td>\n",
       "      <td>0.61</td>\n",
       "      <td>0.52</td>\n",
       "      <td>1.06</td>\n",
       "      <td>7.7</td>\n",
       "      <td>0.64</td>\n",
       "      <td>1.74</td>\n",
       "      <td>740</td>\n",
       "    </tr>\n",
       "    <tr>\n",
       "      <th>174</th>\n",
       "      <td>3</td>\n",
       "      <td>13.40</td>\n",
       "      <td>3.91</td>\n",
       "      <td>2.48</td>\n",
       "      <td>23.0</td>\n",
       "      <td>102</td>\n",
       "      <td>1.80</td>\n",
       "      <td>0.75</td>\n",
       "      <td>0.43</td>\n",
       "      <td>1.41</td>\n",
       "      <td>7.3</td>\n",
       "      <td>0.70</td>\n",
       "      <td>1.56</td>\n",
       "      <td>750</td>\n",
       "    </tr>\n",
       "    <tr>\n",
       "      <th>175</th>\n",
       "      <td>3</td>\n",
       "      <td>13.27</td>\n",
       "      <td>4.28</td>\n",
       "      <td>2.26</td>\n",
       "      <td>20.0</td>\n",
       "      <td>120</td>\n",
       "      <td>1.59</td>\n",
       "      <td>0.69</td>\n",
       "      <td>0.43</td>\n",
       "      <td>1.35</td>\n",
       "      <td>10.2</td>\n",
       "      <td>0.59</td>\n",
       "      <td>1.56</td>\n",
       "      <td>835</td>\n",
       "    </tr>\n",
       "    <tr>\n",
       "      <th>176</th>\n",
       "      <td>3</td>\n",
       "      <td>13.17</td>\n",
       "      <td>2.59</td>\n",
       "      <td>2.37</td>\n",
       "      <td>20.0</td>\n",
       "      <td>120</td>\n",
       "      <td>1.65</td>\n",
       "      <td>0.68</td>\n",
       "      <td>0.53</td>\n",
       "      <td>1.46</td>\n",
       "      <td>9.3</td>\n",
       "      <td>0.60</td>\n",
       "      <td>1.62</td>\n",
       "      <td>840</td>\n",
       "    </tr>\n",
       "    <tr>\n",
       "      <th>177</th>\n",
       "      <td>3</td>\n",
       "      <td>14.13</td>\n",
       "      <td>4.10</td>\n",
       "      <td>2.74</td>\n",
       "      <td>24.5</td>\n",
       "      <td>96</td>\n",
       "      <td>2.05</td>\n",
       "      <td>0.76</td>\n",
       "      <td>0.56</td>\n",
       "      <td>1.35</td>\n",
       "      <td>9.2</td>\n",
       "      <td>0.61</td>\n",
       "      <td>1.60</td>\n",
       "      <td>560</td>\n",
       "    </tr>\n",
       "  </tbody>\n",
       "</table>\n",
       "</div>"
      ],
      "text/plain": [
       "     Class  Alcohol  Malic_Acid   Ash  Ash_Alcanity  Magnesium  Total_Phenols  \\\n",
       "173      3    13.71        5.65  2.45          20.5         95           1.68   \n",
       "174      3    13.40        3.91  2.48          23.0        102           1.80   \n",
       "175      3    13.27        4.28  2.26          20.0        120           1.59   \n",
       "176      3    13.17        2.59  2.37          20.0        120           1.65   \n",
       "177      3    14.13        4.10  2.74          24.5         96           2.05   \n",
       "\n",
       "     Flavanoids  Nonflavanoid_Phenols  Proanthocyanins  Color_Intensity   Hue  \\\n",
       "173        0.61                  0.52             1.06              7.7  0.64   \n",
       "174        0.75                  0.43             1.41              7.3  0.70   \n",
       "175        0.69                  0.43             1.35             10.2  0.59   \n",
       "176        0.68                  0.53             1.46              9.3  0.60   \n",
       "177        0.76                  0.56             1.35              9.2  0.61   \n",
       "\n",
       "     OD280  Proline  \n",
       "173   1.74      740  \n",
       "174   1.56      750  \n",
       "175   1.56      835  \n",
       "176   1.62      840  \n",
       "177   1.60      560  "
      ]
     },
     "execution_count": 4,
     "metadata": {},
     "output_type": "execute_result"
    }
   ],
   "source": [
    "df.tail()"
   ]
  },
  {
   "cell_type": "code",
   "execution_count": 5,
   "metadata": {},
   "outputs": [
    {
     "data": {
      "text/plain": [
       "(178, 14)"
      ]
     },
     "execution_count": 5,
     "metadata": {},
     "output_type": "execute_result"
    }
   ],
   "source": [
    "df.shape"
   ]
  },
  {
   "cell_type": "code",
   "execution_count": 6,
   "metadata": {},
   "outputs": [
    {
     "data": {
      "image/png": "[encoded data removed]",
      "text/plain": [
       "<matplotlib.figure.Figure at 0x2876c2208d0>"
      ]
     },
     "metadata": {},
     "output_type": "display_data"
    }
   ],
   "source": [
    "_ = df.hist(figsize=(12,12))\n",
    "plt.tight_layout()"
   ]
  },
  {
   "cell_type": "code",
   "execution_count": 7,
   "metadata": {},
   "outputs": [
    {
     "data": {
      "text/plain": [
       "<matplotlib.axes._subplots.AxesSubplot at 0x2876ceda208>"
      ]
     },
     "execution_count": 7,
     "metadata": {},
     "output_type": "execute_result"
    },
    {
     "data": {
      "image/png": "[encoded data removed]",
      "text/plain": [
       "<matplotlib.figure.Figure at 0x2876ceda4e0>"
      ]
     },
     "metadata": {},
     "output_type": "display_data"
    }
   ],
   "source": [
    "plt.figure(figsize=(12,12))\n",
    "sns.heatmap(df.corr(), annot = True, cmap='coolwarm')"
   ]
  },
  {
   "cell_type": "code",
   "execution_count": 8,
   "metadata": {},
   "outputs": [
    {
     "name": "stdout",
     "output_type": "stream",
     "text": [
      "<class 'pandas.core.frame.DataFrame'>\n",
      "RangeIndex: 178 entries, 0 to 177\n",
      "Data columns (total 14 columns):\n",
      "Class                   178 non-null int64\n",
      "Alcohol                 178 non-null float64\n",
      "Malic_Acid              178 non-null float64\n",
      "Ash                     178 non-null float64\n",
      "Ash_Alcanity            178 non-null float64\n",
      "Magnesium               178 non-null int64\n",
      "Total_Phenols           178 non-null float64\n",
      "Flavanoids              178 non-null float64\n",
      "Nonflavanoid_Phenols    178 non-null float64\n",
      "Proanthocyanins         178 non-null float64\n",
      "Color_Intensity         178 non-null float64\n",
      "Hue                     178 non-null float64\n",
      "OD280                   178 non-null float64\n",
      "Proline                 178 non-null int64\n",
      "dtypes: float64(11), int64(3)\n",
      "memory usage: 19.5 KB\n"
     ]
    }
   ],
   "source": [
    "df.info()"
   ]
  },
  {
   "cell_type": "code",
   "execution_count": 9,
   "metadata": {},
   "outputs": [
    {
     "data": {
      "text/html": [
       "<div>\n",
       "<style>\n",
       "    .dataframe thead tr:only-child th {\n",
       "        text-align: right;\n",
       "    }\n",
       "\n",
       "    .dataframe thead th {\n",
       "        text-align: left;\n",
       "    }\n",
       "\n",
       "    .dataframe tbody tr th {\n",
       "        vertical-align: top;\n",
       "    }\n",
       "</style>\n",
       "<table border=\"1\" class=\"dataframe\">\n",
       "  <thead>\n",
       "    <tr style=\"text-align: right;\">\n",
       "      <th></th>\n",
       "      <th>Class</th>\n",
       "      <th>Alcohol</th>\n",
       "      <th>Malic_Acid</th>\n",
       "      <th>Ash</th>\n",
       "      <th>Ash_Alcanity</th>\n",
       "      <th>Magnesium</th>\n",
       "      <th>Total_Phenols</th>\n",
       "      <th>Flavanoids</th>\n",
       "      <th>Nonflavanoid_Phenols</th>\n",
       "      <th>Proanthocyanins</th>\n",
       "      <th>Color_Intensity</th>\n",
       "      <th>Hue</th>\n",
       "      <th>OD280</th>\n",
       "      <th>Proline</th>\n",
       "    </tr>\n",
       "  </thead>\n",
       "  <tbody>\n",
       "    <tr>\n",
       "      <th>count</th>\n",
       "      <td>178.000000</td>\n",
       "      <td>178.000000</td>\n",
       "      <td>178.000000</td>\n",
       "      <td>178.000000</td>\n",
       "      <td>178.000000</td>\n",
       "      <td>178.000000</td>\n",
       "      <td>178.000000</td>\n",
       "      <td>178.000000</td>\n",
       "      <td>178.000000</td>\n",
       "      <td>178.000000</td>\n",
       "      <td>178.000000</td>\n",
       "      <td>178.000000</td>\n",
       "      <td>178.000000</td>\n",
       "      <td>178.000000</td>\n",
       "    </tr>\n",
       "    <tr>\n",
       "      <th>mean</th>\n",
       "      <td>1.938202</td>\n",
       "      <td>13.000618</td>\n",
       "      <td>2.336348</td>\n",
       "      <td>2.366517</td>\n",
       "      <td>19.494944</td>\n",
       "      <td>99.741573</td>\n",
       "      <td>2.295112</td>\n",
       "      <td>2.029270</td>\n",
       "      <td>0.361854</td>\n",
       "      <td>1.590899</td>\n",
       "      <td>5.058090</td>\n",
       "      <td>0.957449</td>\n",
       "      <td>2.611685</td>\n",
       "      <td>746.893258</td>\n",
       "    </tr>\n",
       "    <tr>\n",
       "      <th>std</th>\n",
       "      <td>0.775035</td>\n",
       "      <td>0.811827</td>\n",
       "      <td>1.117146</td>\n",
       "      <td>0.274344</td>\n",
       "      <td>3.339564</td>\n",
       "      <td>14.282484</td>\n",
       "      <td>0.625851</td>\n",
       "      <td>0.998859</td>\n",
       "      <td>0.124453</td>\n",
       "      <td>0.572359</td>\n",
       "      <td>2.318286</td>\n",
       "      <td>0.228572</td>\n",
       "      <td>0.709990</td>\n",
       "      <td>314.907474</td>\n",
       "    </tr>\n",
       "    <tr>\n",
       "      <th>min</th>\n",
       "      <td>1.000000</td>\n",
       "      <td>11.030000</td>\n",
       "      <td>0.740000</td>\n",
       "      <td>1.360000</td>\n",
       "      <td>10.600000</td>\n",
       "      <td>70.000000</td>\n",
       "      <td>0.980000</td>\n",
       "      <td>0.340000</td>\n",
       "      <td>0.130000</td>\n",
       "      <td>0.410000</td>\n",
       "      <td>1.280000</td>\n",
       "      <td>0.480000</td>\n",
       "      <td>1.270000</td>\n",
       "      <td>278.000000</td>\n",
       "    </tr>\n",
       "    <tr>\n",
       "      <th>25%</th>\n",
       "      <td>1.000000</td>\n",
       "      <td>12.362500</td>\n",
       "      <td>1.602500</td>\n",
       "      <td>2.210000</td>\n",
       "      <td>17.200000</td>\n",
       "      <td>88.000000</td>\n",
       "      <td>1.742500</td>\n",
       "      <td>1.205000</td>\n",
       "      <td>0.270000</td>\n",
       "      <td>1.250000</td>\n",
       "      <td>3.220000</td>\n",
       "      <td>0.782500</td>\n",
       "      <td>1.937500</td>\n",
       "      <td>500.500000</td>\n",
       "    </tr>\n",
       "    <tr>\n",
       "      <th>50%</th>\n",
       "      <td>2.000000</td>\n",
       "      <td>13.050000</td>\n",
       "      <td>1.865000</td>\n",
       "      <td>2.360000</td>\n",
       "      <td>19.500000</td>\n",
       "      <td>98.000000</td>\n",
       "      <td>2.355000</td>\n",
       "      <td>2.135000</td>\n",
       "      <td>0.340000</td>\n",
       "      <td>1.555000</td>\n",
       "      <td>4.690000</td>\n",
       "      <td>0.965000</td>\n",
       "      <td>2.780000</td>\n",
       "      <td>673.500000</td>\n",
       "    </tr>\n",
       "    <tr>\n",
       "      <th>75%</th>\n",
       "      <td>3.000000</td>\n",
       "      <td>13.677500</td>\n",
       "      <td>3.082500</td>\n",
       "      <td>2.557500</td>\n",
       "      <td>21.500000</td>\n",
       "      <td>107.000000</td>\n",
       "      <td>2.800000</td>\n",
       "      <td>2.875000</td>\n",
       "      <td>0.437500</td>\n",
       "      <td>1.950000</td>\n",
       "      <td>6.200000</td>\n",
       "      <td>1.120000</td>\n",
       "      <td>3.170000</td>\n",
       "      <td>985.000000</td>\n",
       "    </tr>\n",
       "    <tr>\n",
       "      <th>max</th>\n",
       "      <td>3.000000</td>\n",
       "      <td>14.830000</td>\n",
       "      <td>5.800000</td>\n",
       "      <td>3.230000</td>\n",
       "      <td>30.000000</td>\n",
       "      <td>162.000000</td>\n",
       "      <td>3.880000</td>\n",
       "      <td>5.080000</td>\n",
       "      <td>0.660000</td>\n",
       "      <td>3.580000</td>\n",
       "      <td>13.000000</td>\n",
       "      <td>1.710000</td>\n",
       "      <td>4.000000</td>\n",
       "      <td>1680.000000</td>\n",
       "    </tr>\n",
       "  </tbody>\n",
       "</table>\n",
       "</div>"
      ],
      "text/plain": [
       "            Class     Alcohol  Malic_Acid         Ash  Ash_Alcanity  \\\n",
       "count  178.000000  178.000000  178.000000  178.000000    178.000000   \n",
       "mean     1.938202   13.000618    2.336348    2.366517     19.494944   \n",
       "std      0.775035    0.811827    1.117146    0.274344      3.339564   \n",
       "min      1.000000   11.030000    0.740000    1.360000     10.600000   \n",
       "25%      1.000000   12.362500    1.602500    2.210000     17.200000   \n",
       "50%      2.000000   13.050000    1.865000    2.360000     19.500000   \n",
       "75%      3.000000   13.677500    3.082500    2.557500     21.500000   \n",
       "max      3.000000   14.830000    5.800000    3.230000     30.000000   \n",
       "\n",
       "        Magnesium  Total_Phenols  Flavanoids  Nonflavanoid_Phenols  \\\n",
       "count  178.000000     178.000000  178.000000            178.000000   \n",
       "mean    99.741573       2.295112    2.029270              0.361854   \n",
       "std     14.282484       0.625851    0.998859              0.124453   \n",
       "min     70.000000       0.980000    0.340000              0.130000   \n",
       "25%     88.000000       1.742500    1.205000              0.270000   \n",
       "50%     98.000000       2.355000    2.135000              0.340000   \n",
       "75%    107.000000       2.800000    2.875000              0.437500   \n",
       "max    162.000000       3.880000    5.080000              0.660000   \n",
       "\n",
       "       Proanthocyanins  Color_Intensity         Hue       OD280      Proline  \n",
       "count       178.000000       178.000000  178.000000  178.000000   178.000000  \n",
       "mean          1.590899         5.058090    0.957449    2.611685   746.893258  \n",
       "std           0.572359         2.318286    0.228572    0.709990   314.907474  \n",
       "min           0.410000         1.280000    0.480000    1.270000   278.000000  \n",
       "25%           1.250000         3.220000    0.782500    1.937500   500.500000  \n",
       "50%           1.555000         4.690000    0.965000    2.780000   673.500000  \n",
       "75%           1.950000         6.200000    1.120000    3.170000   985.000000  \n",
       "max           3.580000        13.000000    1.710000    4.000000  1680.000000  "
      ]
     },
     "execution_count": 9,
     "metadata": {},
     "output_type": "execute_result"
    }
   ],
   "source": [
    "df.describe()"
   ]
  },
  {
   "cell_type": "code",
   "execution_count": 3,
   "metadata": {},
   "outputs": [
    {
     "data": {
      "text/plain": [
       "2    71\n",
       "1    59\n",
       "3    48\n",
       "Name: Class, dtype: int64"
      ]
     },
     "execution_count": 3,
     "metadata": {},
     "output_type": "execute_result"
    }
   ],
   "source": [
    "df['Class'].value_counts()"
   ]
  },
  {
   "cell_type": "code",
   "execution_count": 11,
   "metadata": {},
   "outputs": [
    {
     "data": {
      "text/plain": [
       "Class                   False\n",
       "Alcohol                 False\n",
       "Malic_Acid              False\n",
       "Ash                     False\n",
       "Ash_Alcanity            False\n",
       "Magnesium               False\n",
       "Total_Phenols           False\n",
       "Flavanoids              False\n",
       "Nonflavanoid_Phenols    False\n",
       "Proanthocyanins         False\n",
       "Color_Intensity         False\n",
       "Hue                     False\n",
       "OD280                   False\n",
       "Proline                 False\n",
       "dtype: bool"
      ]
     },
     "execution_count": 11,
     "metadata": {},
     "output_type": "execute_result"
    }
   ],
   "source": [
    "df.isnull().any()"
   ]
  },
  {
   "cell_type": "markdown",
   "metadata": {},
   "source": [
    "## Data preprocessing"
   ]
  },
  {
   "cell_type": "code",
   "execution_count": 4,
   "metadata": {
    "collapsed": true
   },
   "outputs": [],
   "source": [
    "seed = 7 #random seed for reproducibility\n",
    "np.random.seed(seed)"
   ]
  },
  {
   "cell_type": "markdown",
   "metadata": {},
   "source": [
    "** Split Features & Class (or target) **"
   ]
  },
  {
   "cell_type": "code",
   "execution_count": 5,
   "metadata": {},
   "outputs": [
    {
     "name": "stdout",
     "output_type": "stream",
     "text": [
      "(178, 13) (178, 3)\n"
     ]
    }
   ],
   "source": [
    "X = df.drop('Class', axis=1).values\n",
    "#encode categorical to binary\n",
    "y = pd.get_dummies(df['Class']).values\n",
    "print(X.shape,y.shape)"
   ]
  },
  {
   "cell_type": "code",
   "execution_count": 6,
   "metadata": {},
   "outputs": [
    {
     "data": {
      "text/plain": [
       "(array([0, 1], dtype=uint8), array([356, 178], dtype=int64))"
      ]
     },
     "execution_count": 6,
     "metadata": {},
     "output_type": "execute_result"
    }
   ],
   "source": [
    "np.unique(y,return_counts=True)"
   ]
  },
  {
   "cell_type": "markdown",
   "metadata": {},
   "source": [
    "** Split Train Test Sets **"
   ]
  },
  {
   "cell_type": "code",
   "execution_count": 7,
   "metadata": {},
   "outputs": [
    {
     "name": "stdout",
     "output_type": "stream",
     "text": [
      "(142, 13) (36, 13) (142, 3) (36, 3)\n"
     ]
    }
   ],
   "source": [
    "from sklearn.model_selection import train_test_split\n",
    "X_train, X_test, y_train, y_test = train_test_split(X, y, test_size=0.2, \n",
    "                                                    random_state=seed)#stratify=y\n",
    "print(X_train.shape, X_test.shape, y_train.shape, y_test.shape)"
   ]
  },
  {
   "cell_type": "markdown",
   "metadata": {},
   "source": [
    "** Scale features **"
   ]
  },
  {
   "cell_type": "code",
   "execution_count": 8,
   "metadata": {
    "collapsed": true
   },
   "outputs": [],
   "source": [
    "from sklearn.preprocessing import StandardScaler\n",
    "sc = StandardScaler()\n",
    "X_train = sc.fit_transform(X_train)\n",
    "X_test = sc.transform(X_test)"
   ]
  },
  {
   "cell_type": "markdown",
   "metadata": {},
   "source": [
    "## Baseline Model"
   ]
  },
  {
   "cell_type": "markdown",
   "metadata": {},
   "source": [
    "### LDA: best ML algorithm"
   ]
  },
  {
   "cell_type": "code",
   "execution_count": 14,
   "metadata": {},
   "outputs": [
    {
     "name": "stdout",
     "output_type": "stream",
     "text": [
      "Accuracy of train set: 100.0%\n",
      "Accuracy of test set: 100.0%\n"
     ]
    }
   ],
   "source": [
    "from sklearn.discriminant_analysis import LinearDiscriminantAnalysis\n",
    "from sklearn.metrics import accuracy_score\n",
    "model = LinearDiscriminantAnalysis(shrinkage=0.2, solver='lsqr')\n",
    "model.fit(X_train, np.argmax(y_train,axis=1))\n",
    "accuracy = model.score(X_train, np.argmax(y_train,axis=1))\n",
    "y_pred = model.predict(X_test)\n",
    "print('Accuracy of train set: {:0.1f}%'.format(accuracy*100))\n",
    "print('Accuracy of test set: {:0.1f}%'.format(accuracy_score(np.argmax(y_test,axis=1),y_pred)*100))"
   ]
  },
  {
   "cell_type": "markdown",
   "metadata": {},
   "source": [
    "### Baseline MSP model"
   ]
  },
  {
   "cell_type": "code",
   "execution_count": 17,
   "metadata": {},
   "outputs": [
    {
     "name": "stderr",
     "output_type": "stream",
     "text": [
      "Using TensorFlow backend.\n"
     ]
    }
   ],
   "source": [
    "# Import libraries\n",
    "import keras.backend as K\n",
    "from keras.models import Sequential\n",
    "from keras.layers import Dense,Dropout\n",
    "from keras.wrappers.scikit_learn import KerasClassifier\n",
    "from keras.constraints import maxnorm\n",
    "from sklearn.model_selection import KFold,GridSearchCV,StratifiedKFold"
   ]
  },
  {
   "cell_type": "code",
   "execution_count": 27,
   "metadata": {},
   "outputs": [
    {
     "name": "stdout",
     "output_type": "stream",
     "text": [
      "_________________________________________________________________\n",
      "Layer (type)                 Output Shape              Param #   \n",
      "=================================================================\n",
      "dense_1 (Dense)              (None, 30)                420       \n",
      "_________________________________________________________________\n",
      "dense_2 (Dense)              (None, 30)                930       \n",
      "_________________________________________________________________\n",
      "dense_3 (Dense)              (None, 30)                930       \n",
      "_________________________________________________________________\n",
      "dense_4 (Dense)              (None, 3)                 93        \n",
      "=================================================================\n",
      "Total params: 2,373\n",
      "Trainable params: 2,373\n",
      "Non-trainable params: 0\n",
      "_________________________________________________________________\n",
      "dict_keys(['val_loss', 'val_acc', 'loss', 'acc'])\n"
     ]
    },
    {
     "data": {
      "image/png": "[encoded data removed]",
      "text/plain": [
       "<matplotlib.figure.Figure at 0x1afbf203c18>"
      ]
     },
     "metadata": {},
     "output_type": "display_data"
    },
    {
     "data": {
      "image/png": "[encoded data removed]",
      "text/plain": [
       "<matplotlib.figure.Figure at 0x1afbd7ccf98>"
      ]
     },
     "metadata": {},
     "output_type": "display_data"
    },
    {
     "name": "stdout",
     "output_type": "stream",
     "text": [
      "loss of train set: 0.001\n",
      "accuracy of train set: 100.0%\n",
      "loss of test set: 0.122\n",
      "accuracy of test set: 97.2%\n"
     ]
    }
   ],
   "source": [
    "K.clear_session()\n",
    "np.random.seed(seed)\n",
    "#create model\n",
    "model = Sequential()\n",
    "model.add(Dense(30, kernel_initializer='uniform', input_shape=(X_train.shape[1],), activation='relu'))\n",
    "model.add(Dense(30, kernel_initializer='uniform', activation='relu'))\n",
    "model.add(Dense(30, kernel_initializer='uniform', activation='relu'))\n",
    "model.add(Dense(3, kernel_initializer='uniform', activation='softmax'))\n",
    "#compile model\n",
    "model.compile(optimizer='adam', loss='categorical_crossentropy',metrics=['accuracy'])\n",
    "model.summary()\n",
    "#fit model\n",
    "history = model.fit(X_train, y_train,validation_data=(X_test,y_test),epochs=100,verbose=0)\n",
    "\n",
    "# list all data in history\n",
    "print(history.history.keys())\n",
    "# summarize history for accuracy\n",
    "plt.plot(history.history['acc'])\n",
    "plt.plot(history.history['val_acc'])\n",
    "plt.title('model accuracy')\n",
    "plt.ylabel('accuracy')\n",
    "plt.xlabel('epoch')\n",
    "plt.legend(['train', 'test'], loc='upper left')\n",
    "plt.show()\n",
    "# summarize history for loss\n",
    "plt.plot(history.history['loss'])\n",
    "plt.plot(history.history['val_loss'])\n",
    "plt.title('model loss')\n",
    "plt.ylabel('loss')\n",
    "plt.xlabel('epoch')\n",
    "plt.legend(['train', 'test'], loc='upper left')\n",
    "plt.show()\n",
    "\n",
    "#evaluate model on train set\n",
    "scores = model.evaluate(X_train,y_train,verbose=0)\n",
    "print('loss of train set: {:0.3f}'.format(scores[0]))\n",
    "print('accuracy of train set: {:0.1f}%'.format(scores[1]*100))\n",
    "# evaluate model on test data\n",
    "scores = model.evaluate(X_test,y_test,verbose=0)\n",
    "print('loss of test set: {:0.3f}'.format(scores[0]))\n",
    "print('accuracy of test set: {:0.1f}%'.format(scores[1]*100))"
   ]
  },
  {
   "cell_type": "markdown",
   "metadata": {},
   "source": [
    "## Parameter Tuning\n",
    "try to get a tie with LDA (100%)"
   ]
  },
  {
   "cell_type": "markdown",
   "metadata": {
    "collapsed": true
   },
   "source": [
    "### Batch size &  Epochs"
   ]
  },
  {
   "cell_type": "code",
   "execution_count": 28,
   "metadata": {},
   "outputs": [
    {
     "name": "stdout",
     "output_type": "stream",
     "text": [
      "48/48 [==============================] - 0s 326us/step\n",
      "94/94 [==============================] - 0s 128us/step\n",
      "47/47 [==============================] - 0s 665us/step\n",
      "95/95 [==============================] - 0s 126us/step\n",
      "47/47 [==============================] - 0s 936us/step\n",
      "95/95 [==============================] - 0s 84us/step\n",
      "48/48 [==============================] - 0s 2ms/step\n",
      "94/94 [==============================] - 0s 128us/step\n",
      "47/47 [==============================] - 0s 2ms/step\n",
      "95/95 [==============================] - 0s 126us/step\n",
      "47/47 [==============================] - 0s 2ms/step\n",
      "95/95 [==============================] - 0s 126us/step\n",
      "48/48 [==============================] - 0s 6ms/step\n",
      "94/94 [==============================] - 0s 128us/step\n",
      "47/47 [==============================] - 0s 2ms/step\n",
      "95/95 [==============================] - 0s 126us/step\n",
      "47/47 [==============================] - 0s 3ms/step\n",
      "95/95 [==============================] - 0s 126us/step\n",
      "48/48 [==============================] - 0s 3ms/step\n",
      "94/94 [==============================] - 0s 92us/step\n",
      "47/47 [==============================] - 0s 3ms/step\n",
      "95/95 [==============================] - 0s 84us/step\n",
      "47/47 [==============================] - 0s 4ms/step\n",
      "95/95 [==============================] - 0s 84us/step\n",
      "48/48 [==============================] - 0s 3ms/step\n",
      "94/94 [==============================] - 0s 43us/step\n",
      "47/47 [==============================] - 0s 4ms/step\n",
      "95/95 [==============================] - 0s 84us/step\n",
      "47/47 [==============================] - 0s 5ms/step\n",
      "95/95 [==============================] - 0s 118us/step\n",
      "48/48 [==============================] - 0s 4ms/step\n",
      "94/94 [==============================] - 0s 43us/step\n",
      "47/47 [==============================] - 0s 6ms/step\n",
      "95/95 [==============================] - 0s 70us/step\n",
      "47/47 [==============================] - 0s 5ms/step\n",
      "95/95 [==============================] - 0s 84us/step\n",
      "48/48 [==============================] - 0s 6ms/step\n",
      "94/94 [==============================] - 0s 43us/step\n",
      "47/47 [==============================] - 0s 6ms/step\n",
      "95/95 [==============================] - 0s 140us/step\n",
      "47/47 [==============================] - 0s 6ms/step\n",
      "95/95 [==============================] - 0s 195us/step\n",
      "48/48 [==============================] - 0s 6ms/step\n",
      "94/94 [==============================] - 0s 222us/step\n",
      "47/47 [==============================] - 0s 7ms/step\n",
      "95/95 [==============================] - 0s 84us/step\n",
      "47/47 [==============================] - 0s 7ms/step\n",
      "95/95 [==============================] - 0s 84us/step\n",
      "48/48 [==============================] - 0s 7ms/step\n",
      "94/94 [==============================] - 0s 107us/step\n",
      "47/47 [==============================] - 0s 8ms/step\n",
      "95/95 [==============================] - 0s 126us/step\n",
      "47/47 [==============================] - 0s 10ms/step\n",
      "95/95 [==============================] - 0s 42us/step\n",
      "0.971831 (0.010119) with: {'batch_size': 10, 'epochs': 20}\n",
      "0.971831 (0.010119) with: {'batch_size': 10, 'epochs': 40}\n",
      "0.978873 (0.017402) with: {'batch_size': 10, 'epochs': 60}\n",
      "0.978873 (0.000210) with: {'batch_size': 20, 'epochs': 20}\n",
      "0.971831 (0.010119) with: {'batch_size': 20, 'epochs': 40}\n",
      "0.971831 (0.010119) with: {'batch_size': 20, 'epochs': 60}\n",
      "0.908451 (0.072289) with: {'batch_size': 30, 'epochs': 20}\n",
      "0.964789 (0.020130) with: {'batch_size': 30, 'epochs': 40}\n",
      "0.971831 (0.010119) with: {'batch_size': 30, 'epochs': 60}\n",
      "Best: 97.9% using {'batch_size': 10, 'epochs': 60}\n"
     ]
    }
   ],
   "source": [
    "K.clear_session()\n",
    "np.random.seed(seed)\n",
    "def create_model():\n",
    "    model = Sequential()\n",
    "    model.add(Dense(30, kernel_initializer='uniform', input_shape=(X_train.shape[1],), activation='relu'))\n",
    "    model.add(Dense(30, kernel_initializer='uniform', activation='relu'))\n",
    "    model.add(Dense(30, kernel_initializer='uniform', activation='relu'))\n",
    "    model.add(Dense(3, kernel_initializer='uniform', activation='softmax'))\n",
    "    model.compile(optimizer='adam', loss='categorical_crossentropy',metrics=['accuracy'])\n",
    "    return model\n",
    "classifier = KerasClassifier(build_fn=create_model)\n",
    "\n",
    "# Grid Search\n",
    "batch_size = [10,20,30]\n",
    "epochs = [20,40,60]\n",
    "param_grid = dict(batch_size=batch_size,epochs=epochs)\n",
    "grid = GridSearchCV(classifier, param_grid=param_grid,verbose=0) #n_jobs=-1,\n",
    "grid_result = grid.fit(X_train,y_train,verbose=0)\n",
    "\n",
    "# Results\n",
    "means = grid_result.cv_results_['mean_test_score']\n",
    "stds = grid_result.cv_results_['std_test_score']\n",
    "params = grid_result.cv_results_['params']\n",
    "for mean, stdev, param in zip(means, stds, params):\n",
    "    print(\"%f (%f) with: %r\" % (mean, stdev, param))    \n",
    "print(\"Best: {:.1f}% using {}\" .format(grid_result.best_score_*100, grid_result.best_params_))"
   ]
  },
  {
   "cell_type": "markdown",
   "metadata": {},
   "source": [
    "### Optimizer"
   ]
  },
  {
   "cell_type": "code",
   "execution_count": 29,
   "metadata": {},
   "outputs": [
    {
     "name": "stdout",
     "output_type": "stream",
     "text": [
      "48/48 [==============================] - 0s 326us/step\n",
      "94/94 [==============================] - 0s 85us/step\n",
      "47/47 [==============================] - 0s 665us/step\n",
      "95/95 [==============================] - 0s 126us/step\n",
      "47/47 [==============================] - 0s 1ms/step\n",
      "95/95 [==============================] - 0s 169us/step\n",
      "48/48 [==============================] - 0s 1ms/step\n",
      "94/94 [==============================] - 0s 128us/step\n",
      "47/47 [==============================] - 0s 2ms/step\n",
      "95/95 [==============================] - 0s 126us/step\n",
      "47/47 [==============================] - 0s 2ms/step\n",
      "95/95 [==============================] - 0s 126us/step\n",
      "48/48 [==============================] - 0s 2ms/step\n",
      "94/94 [==============================] - 0s 128us/step\n",
      "47/47 [==============================] - 0s 2ms/step\n",
      "95/95 [==============================] - 0s 126us/step\n",
      "47/47 [==============================] - 0s 2ms/step\n",
      "95/95 [==============================] - 0s 84us/step\n",
      "0.295775 (0.017558) with: {'optimizer': 'sgd'}\n",
      "0.971831 (0.010119) with: {'optimizer': 'rmsprop'}\n",
      "0.978873 (0.017402) with: {'optimizer': 'adam'}\n",
      "\n",
      "\n",
      "Best: 97.9% using {'optimizer': 'adam'}\n"
     ]
    }
   ],
   "source": [
    "K.clear_session()\n",
    "np.random.seed(seed) #\n",
    "def create_model(optimizer='adam'):     \n",
    "    model = Sequential()\n",
    "    model.add(Dense(30, kernel_initializer='uniform', input_shape=(X_train.shape[1],), activation='relu'))\n",
    "    model.add(Dense(30, kernel_initializer='uniform', activation='relu'))\n",
    "    model.add(Dense(30, kernel_initializer='uniform', activation='relu'))\n",
    "    model.add(Dense(3, kernel_initializer='uniform', activation='softmax'))\n",
    "    model.compile(optimizer=optimizer, loss='categorical_crossentropy',metrics=['accuracy'])\n",
    "    return model\n",
    "batch_size=10\n",
    "epochs=40\n",
    "classifier = KerasClassifier(build_fn=create_model, epochs=epochs, batch_size=batch_size)\n",
    "\n",
    "# Grid Search\n",
    "optimizer = ['sgd', 'rmsprop', 'adam']#, 'Adagrad', 'Adadelta', 'Adamax', 'Nadam']\n",
    "param_grid = dict(optimizer=optimizer)\n",
    "grid = GridSearchCV(classifier, param_grid=param_grid, verbose=0)\n",
    "grid_result = grid.fit(X_train,y_train,verbose=0)\n",
    "\n",
    "# Results\n",
    "means = grid_result.cv_results_['mean_test_score']\n",
    "stds = grid_result.cv_results_['std_test_score']\n",
    "params = grid_result.cv_results_['params']\n",
    "for mean, stdev, param in zip(means, stds, params):\n",
    "    print(\"%f (%f) with: %r\" % (mean, stdev, param))   \n",
    "print(\"Best: {:.1f}% using {}\" .format(grid_result.best_score_*100, grid_result.best_params_))"
   ]
  },
  {
   "cell_type": "markdown",
   "metadata": {},
   "source": [
    "### Initializer"
   ]
  },
  {
   "cell_type": "code",
   "execution_count": 30,
   "metadata": {},
   "outputs": [
    {
     "name": "stdout",
     "output_type": "stream",
     "text": [
      "48/48 [==============================] - 0s 416us/step\n",
      "94/94 [==============================] - 0s 128us/step\n",
      "47/47 [==============================] - 0s 685us/step\n",
      "95/95 [==============================] - 0s 126us/step\n",
      "47/47 [==============================] - 0s 997us/step\n",
      "95/95 [==============================] - 0s 84us/step\n",
      "48/48 [==============================] - 0s 2ms/step\n",
      "94/94 [==============================] - 0s 170us/step\n",
      "47/47 [==============================] - 0s 1ms/step\n",
      "95/95 [==============================] - 0s 84us/step\n",
      "47/47 [==============================] - 0s 2ms/step\n",
      "95/95 [==============================] - 0s 126us/step\n",
      "48/48 [==============================] - 0s 2ms/step\n",
      "94/94 [==============================] - 0s 128us/step\n",
      "47/47 [==============================] - 0s 2ms/step\n",
      "95/95 [==============================] - 0s 84us/step\n",
      "47/47 [==============================] - 0s 3ms/step\n",
      "95/95 [==============================] - 0s 126us/step\n",
      "0.971831 (0.026549) with: {'init_mode': 'uniform'}\n",
      "0.971831 (0.010119) with: {'init_mode': 'glorot_normal'}\n",
      "0.295775 (0.017558) with: {'init_mode': 'zero'}\n",
      "\n",
      "\n",
      "Best: 97.2% using {'init_mode': 'uniform'}\n"
     ]
    }
   ],
   "source": [
    "K.clear_session()\n",
    "np.random.seed(seed)\n",
    "def create_model(init_mode='uniform',optimizer='adam'):     \n",
    "    model = Sequential()\n",
    "    model.add(Dense(30, kernel_initializer=init_mode, input_shape=(X_train.shape[1],), activation='relu'))\n",
    "    model.add(Dense(30, kernel_initializer=init_mode, activation='relu'))\n",
    "    model.add(Dense(30, kernel_initializer=init_mode, activation='relu'))\n",
    "    model.add(Dense(3, kernel_initializer=init_mode, activation='softmax'))\n",
    "    model.compile(optimizer=optimizer, loss='categorical_crossentropy',metrics=['accuracy'])\n",
    "    return model\n",
    "batch_size=10\n",
    "epochs=40\n",
    "classifier = KerasClassifier(build_fn=create_model, epochs=epochs, batch_size=batch_size)\n",
    "\n",
    "# Grid Search\n",
    "init_mode = ['uniform', 'glorot_normal','zero']#,'lecun_uniform', 'normal',   'glorot_uniform', 'he_normal', 'he_uniform']\n",
    "param_grid = dict(init_mode=init_mode)\n",
    "grid = GridSearchCV(classifier, param_grid=param_grid, verbose=0) #n_jobs=-1,\n",
    "grid_result = grid.fit(X_train,y_train,verbose=0)\n",
    "\n",
    "# Results\n",
    "means = grid_result.cv_results_['mean_test_score']\n",
    "stds = grid_result.cv_results_['std_test_score']\n",
    "params = grid_result.cv_results_['params']\n",
    "for mean, stdev, param in zip(means, stds, params):\n",
    "    print(\"%f (%f) with: %r\" % (mean, stdev, param))  \n",
    "print(\"Best: {:.1f}% using {}\" .format(grid_result.best_score_*100, grid_result.best_params_))"
   ]
  },
  {
   "cell_type": "markdown",
   "metadata": {},
   "source": [
    "### Activation function"
   ]
  },
  {
   "cell_type": "code",
   "execution_count": 31,
   "metadata": {},
   "outputs": [
    {
     "name": "stdout",
     "output_type": "stream",
     "text": [
      "48/48 [==============================] - 0s 673us/step\n",
      "94/94 [==============================] - 0s 85us/step\n",
      "47/47 [==============================] - 0s 1ms/step\n",
      "95/95 [==============================] - 0s 126us/step\n",
      "47/47 [==============================] - 0s 1ms/step\n",
      "95/95 [==============================] - 0s 126us/step\n",
      "48/48 [==============================] - 0s 2ms/step\n",
      "94/94 [==============================] - 0s 128us/step\n",
      "47/47 [==============================] - 0s 2ms/step\n",
      "95/95 [==============================] - 0s 126us/step\n",
      "47/47 [==============================] - 0s 3ms/step\n",
      "95/95 [==============================] - 0s 126us/step\n",
      "48/48 [==============================] - 0s 2ms/step\n",
      "94/94 [==============================] - 0s 128us/step\n",
      "47/47 [==============================] - 0s 2ms/step\n",
      "95/95 [==============================] - 0s 126us/step\n",
      "47/47 [==============================] - 0s 3ms/step\n",
      "95/95 [==============================] - 0s 126us/step\n",
      "48/48 [==============================] - 0s 3ms/step\n",
      "94/94 [==============================] - 0s 128us/step\n",
      "47/47 [==============================] - 0s 3ms/step\n",
      "95/95 [==============================] - 0s 126us/step\n",
      "47/47 [==============================] - 0s 4ms/step\n",
      "95/95 [==============================] - 0s 126us/step\n",
      "0.964789 (0.020130) with: {'activation': 'relu'}\n",
      "0.985915 (0.009908) with: {'activation': 'tanh'}\n",
      "0.760563 (0.126795) with: {'activation': 'sigmoid'}\n",
      "0.971831 (0.010119) with: {'activation': 'linear'}\n",
      "Best: 98.6% using {'activation': 'tanh'}\n"
     ]
    }
   ],
   "source": [
    "K.clear_session()\n",
    "np.random.seed(seed) \n",
    "def create_model(activation='relu',init_mode='uniform',optimizer='adam'):     \n",
    "    model = Sequential()\n",
    "    model.add(Dense(30, kernel_initializer=init_mode, input_shape=(X_train.shape[1],), activation=activation))\n",
    "    model.add(Dense(30, kernel_initializer=init_mode, activation=activation))\n",
    "    model.add(Dense(30, kernel_initializer=init_mode, activation=activation))\n",
    "    model.add(Dense(3, kernel_initializer=init_mode, activation='softmax'))\n",
    "    model.compile(optimizer=optimizer, loss='categorical_crossentropy',metrics=['accuracy'])\n",
    "    return model\n",
    "batch_size=10\n",
    "epochs=40\n",
    "classifier = KerasClassifier(build_fn=create_model, epochs=epochs, batch_size=batch_size)\n",
    "\n",
    "# Grid Search\n",
    "activation = ['relu', 'tanh', 'sigmoid','linear']#'softmax', 'softplus', 'softsign',  'hard_sigmoid', ]\n",
    "param_grid = dict(activation=activation)\n",
    "grid = GridSearchCV(classifier, param_grid=param_grid, verbose=0) #n_jobs=-1,\n",
    "grid_result = grid.fit(X_train,y_train,verbose=0)\n",
    "\n",
    "# Results\n",
    "means = grid_result.cv_results_['mean_test_score']\n",
    "stds = grid_result.cv_results_['std_test_score']\n",
    "params = grid_result.cv_results_['params']\n",
    "for mean, stdev, param in zip(means, stds, params):\n",
    "    print(\"%f (%f) with: %r\" % (mean, stdev, param))  \n",
    "print(\"Best: {:.1f}% using {}\" .format(grid_result.best_score_*100, grid_result.best_params_))"
   ]
  },
  {
   "cell_type": "markdown",
   "metadata": {},
   "source": [
    "#### Dropout"
   ]
  },
  {
   "cell_type": "code",
   "execution_count": 32,
   "metadata": {},
   "outputs": [
    {
     "name": "stdout",
     "output_type": "stream",
     "text": [
      "48/48 [==============================] - 0s 325us/step\n",
      "94/94 [==============================] - 0s 85us/step\n",
      "47/47 [==============================] - 0s 2ms/step\n",
      "95/95 [==============================] - 0s 84us/step\n",
      "47/47 [==============================] - 0s 2ms/step\n",
      "95/95 [==============================] - 0s 84us/step\n",
      "48/48 [==============================] - 0s 1ms/step\n",
      "94/94 [==============================] - 0s 128us/step\n",
      "47/47 [==============================] - 0s 2ms/step\n",
      "95/95 [==============================] - 0s 126us/step\n",
      "47/47 [==============================] - 0s 3ms/step\n",
      "95/95 [==============================] - 0s 126us/step\n",
      "48/48 [==============================] - 0s 2ms/step\n",
      "94/94 [==============================] - 0s 128us/step\n",
      "47/47 [==============================] - 0s 4ms/step\n",
      "95/95 [==============================] - 0s 168us/step\n",
      "47/47 [==============================] - 0s 3ms/step\n",
      "95/95 [==============================] - 0s 126us/step\n",
      "48/48 [==============================] - 0s 3ms/step\n",
      "94/94 [==============================] - 0s 128us/step\n",
      "47/47 [==============================] - 0s 4ms/step\n",
      "95/95 [==============================] - 0s 126us/step\n",
      "47/47 [==============================] - 0s 4ms/step\n",
      "95/95 [==============================] - 0s 126us/step\n",
      "0.985915 (0.009908) with: {'dropout_rate': 0.0}\n",
      "0.985915 (0.009908) with: {'dropout_rate': 0.1}\n",
      "0.978873 (0.017312) with: {'dropout_rate': 0.2}\n",
      "0.964789 (0.020130) with: {'dropout_rate': 0.3}\n",
      "Best: 98.6% using {'dropout_rate': 0.0}\n"
     ]
    }
   ],
   "source": [
    "K.clear_session()\n",
    "np.random.seed(seed) \n",
    "def create_model(dropout_rate=0.0, activation='tanh',\n",
    "                 init_mode='uniform',optimizer='adam'):     \n",
    "    model = Sequential()\n",
    "    model.add(Dense(30, kernel_initializer=init_mode, \n",
    "                    input_shape=(X_train.shape[1],), activation=activation))\n",
    "    model.add(Dense(30, kernel_initializer=init_mode, activation=activation))\n",
    "    model.add(Dropout(dropout_rate))\n",
    "    model.add(Dense(30, kernel_initializer=init_mode, activation=activation))\n",
    "    model.add(Dropout(dropout_rate))\n",
    "    model.add(Dense(3, kernel_initializer=init_mode, activation='softmax'))\n",
    "    model.compile(optimizer=optimizer, loss='categorical_crossentropy',metrics=['accuracy'])\n",
    "    return model\n",
    "batch_size=10\n",
    "epochs=40\n",
    "classifier = KerasClassifier(build_fn=create_model, epochs=epochs, batch_size=batch_size)\n",
    "\n",
    "# Grid Search\n",
    "dropout_rate = [0.0, 0.1, 0.2, 0.3]\n",
    "param_grid = dict(dropout_rate=dropout_rate)\n",
    "grid = GridSearchCV(classifier, param_grid=param_grid, verbose=0) #n_jobs=-1,\n",
    "grid_result = grid.fit(X_train,y_train,verbose=0)\n",
    "\n",
    "# Results\n",
    "means = grid_result.cv_results_['mean_test_score']\n",
    "stds = grid_result.cv_results_['std_test_score']\n",
    "params = grid_result.cv_results_['params']\n",
    "for mean, stdev, param in zip(means, stds, params):\n",
    "    print(\"%f (%f) with: %r\" % (mean, stdev, param))  \n",
    "print(\"Best: {:.1f}% using {}\" .format(grid_result.best_score_*100, grid_result.best_params_))"
   ]
  },
  {
   "cell_type": "markdown",
   "metadata": {},
   "source": [
    "## Final Model \n",
    "#### params: epochs=40, batch_size=10, optimizer='adam', kernel_initializer='uniform', activation='relu' (as baseline execept for epochs)"
   ]
  },
  {
   "cell_type": "code",
   "execution_count": 40,
   "metadata": {},
   "outputs": [
    {
     "name": "stdout",
     "output_type": "stream",
     "text": [
      "loss of train set: 0.001\n",
      "accuracy of train set: 100.0%\n"
     ]
    }
   ],
   "source": [
    "K.clear_session()\n",
    "np.random.seed(seed) \n",
    "# train model\n",
    "model = Sequential()\n",
    "model.add(Dense(30, kernel_initializer='uniform', input_shape=(X_train.shape[1],), \n",
    "                activation='relu'))\n",
    "model.add(Dense(30, kernel_initializer='uniform', activation='relu'))\n",
    "model.add(Dense(30, kernel_initializer='uniform', activation='relu'))\n",
    "model.add(Dense(3, kernel_initializer='uniform', activation='softmax'))\n",
    "model.compile(optimizer='adam', loss='categorical_crossentropy',metrics=['accuracy'])\n",
    "model.fit(X_train, y_train, epochs=40, batch_size=10,verbose=0)\n",
    "# evaluate model on train set\n",
    "scores = model.evaluate(X_train,y_train, verbose=0)\n",
    "print('loss of train set: {:0.3f}'.format(scores[0]))\n",
    "print('accuracy of train set: {:0.1f}%'.format(scores[1]*100))"
   ]
  },
  {
   "cell_type": "markdown",
   "metadata": {},
   "source": [
    "** Save and load the final model to JSON or YAML ** https://keras.io/getting-started/faq/#how-can-i-save-a-keras-model"
   ]
  },
  {
   "cell_type": "markdown",
   "metadata": {},
   "source": [
    "** 1) JSON **"
   ]
  },
  {
   "cell_type": "code",
   "execution_count": 42,
   "metadata": {},
   "outputs": [
    {
     "name": "stdout",
     "output_type": "stream",
     "text": [
      "Saved model in model.json, model.h5\n"
     ]
    }
   ],
   "source": [
    "# save model as JSON\n",
    "filename = 'model'\n",
    "# model architecture\n",
    "model_json = model.to_json()\n",
    "with open(filename+'.json', 'w') as json_file:\n",
    "    json_file.write(model_json)\n",
    "# model weghts\n",
    "model.save(filename+'.h5')\n",
    "print('Saved model in',filename+'.json,',filename+'.h5')"
   ]
  },
  {
   "cell_type": "code",
   "execution_count": 82,
   "metadata": {
    "collapsed": true
   },
   "outputs": [],
   "source": [
    "#del model"
   ]
  },
  {
   "cell_type": "code",
   "execution_count": 43,
   "metadata": {},
   "outputs": [
    {
     "name": "stdout",
     "output_type": "stream",
     "text": [
      "Loaded model from model.json, model.h5\n",
      "_________________________________________________________________\n",
      "Layer (type)                 Output Shape              Param #   \n",
      "=================================================================\n",
      "dense_1 (Dense)              (None, 30)                420       \n",
      "_________________________________________________________________\n",
      "dense_2 (Dense)              (None, 30)                930       \n",
      "_________________________________________________________________\n",
      "dense_3 (Dense)              (None, 30)                930       \n",
      "_________________________________________________________________\n",
      "dense_4 (Dense)              (None, 3)                 93        \n",
      "=================================================================\n",
      "Total params: 2,373\n",
      "Trainable params: 2,373\n",
      "Non-trainable params: 0\n",
      "_________________________________________________________________\n",
      "None\n"
     ]
    }
   ],
   "source": [
    "#load model from JSON\n",
    "filename = 'model'\n",
    "# model architecture\n",
    "from keras.models import model_from_json\n",
    "json_file = open(filename+'.json', 'r')\n",
    "model_json = json_file.read()\n",
    "json_file.close()\n",
    "model = model_from_json(model_json)\n",
    "# model weghts\n",
    "model.load_weights(filename+'.h5')\n",
    "print('Loaded model from',filename+'.json,',filename+'.h5')\n",
    "print(model.summary())"
   ]
  },
  {
   "cell_type": "code",
   "execution_count": 48,
   "metadata": {},
   "outputs": [
    {
     "name": "stdout",
     "output_type": "stream",
     "text": [
      "loss of test set: 0.075\n",
      "accuracy of test set: 97.2%\n"
     ]
    }
   ],
   "source": [
    "# evaluate loaded model on test data\n",
    "model.compile(optimizer='adam', loss='categorical_crossentropy',metrics=['accuracy'])\n",
    "scores = model.evaluate(X_test,y_test,verbose=0)\n",
    "print('loss of test set: {:0.3f}'.format(scores[0]))\n",
    "print('accuracy of test set: {:0.1f}%'.format(scores[1]*100))"
   ]
  },
  {
   "cell_type": "markdown",
   "metadata": {},
   "source": [
    "** 2) YAML **"
   ]
  },
  {
   "cell_type": "code",
   "execution_count": 85,
   "metadata": {},
   "outputs": [
    {
     "name": "stdout",
     "output_type": "stream",
     "text": [
      "Saved model in model.yaml, model.h5\n"
     ]
    }
   ],
   "source": [
    "# save model as YAML\n",
    "filename = 'model'\n",
    "# model architecture\n",
    "model_yaml= model.to_yaml()\n",
    "with open(filename+'.yaml', 'w') as yaml_file:\n",
    "    yaml_file.write(model_yaml)\n",
    "# model weghts\n",
    "model.save(filename+'.h5')\n",
    "print('Saved model in',filename+'.yaml,',filename+'.h5')"
   ]
  },
  {
   "cell_type": "code",
   "execution_count": 86,
   "metadata": {},
   "outputs": [
    {
     "name": "stdout",
     "output_type": "stream",
     "text": [
      "Loaded model from model.yaml, model.h5\n",
      "_________________________________________________________________\n",
      "Layer (type)                 Output Shape              Param #   \n",
      "=================================================================\n",
      "dense_1 (Dense)              (None, 16)                224       \n",
      "_________________________________________________________________\n",
      "dense_2 (Dense)              (None, 16)                272       \n",
      "_________________________________________________________________\n",
      "dropout_1 (Dropout)          (None, 16)                0         \n",
      "_________________________________________________________________\n",
      "dense_3 (Dense)              (None, 3)                 51        \n",
      "=================================================================\n",
      "Total params: 547\n",
      "Trainable params: 547\n",
      "Non-trainable params: 0\n",
      "_________________________________________________________________\n",
      "None\n"
     ]
    }
   ],
   "source": [
    "#load model from YAML\n",
    "filename = 'model'\n",
    "# model architecture\n",
    "from keras.models import model_from_yaml\n",
    "yaml_file = open(filename+'.json', 'r')\n",
    "model_yaml = yaml_file.read()\n",
    "yaml_file.close()\n",
    "model = model_from_yaml(model_yaml)\n",
    "# model weghts\n",
    "model.load_weights(filename+'.h5')\n",
    "print('Loaded model from',filename+'.yaml,',filename+'.h5')\n",
    "print(model.summary())"
   ]
  },
  {
   "cell_type": "code",
   "execution_count": 50,
   "metadata": {},
   "outputs": [
    {
     "name": "stdout",
     "output_type": "stream",
     "text": [
      "loss of test set: 0.075\n",
      "accuracy of test set: 97.2%\n"
     ]
    }
   ],
   "source": [
    "# evaluate loaded model on test data\n",
    "model.compile(optimizer='adam', loss='categorical_crossentropy',metrics=['accuracy'])\n",
    "scores = model.evaluate(X_test,y_test,verbose=0)\n",
    "print('loss of test set: {:0.3f}'.format(scores[0]))\n",
    "print('accuracy of test set: {:0.1f}%'.format(scores[1]*100))"
   ]
  },
  {
   "cell_type": "markdown",
   "metadata": {},
   "source": [
    "** Classification report & Confusion Matrix **"
   ]
  },
  {
   "cell_type": "code",
   "execution_count": 45,
   "metadata": {},
   "outputs": [
    {
     "name": "stdout",
     "output_type": "stream",
     "text": [
      "             precision    recall  f1-score   support\n",
      "\n",
      "          0       1.00      1.00      1.00        52\n",
      "          1       1.00      1.00      1.00        54\n",
      "          2       1.00      1.00      1.00        36\n",
      "\n",
      "avg / total       1.00      1.00      1.00       142\n",
      "\n"
     ]
    },
    {
     "data": {
      "image/png": "[encoded data removed]",
      "text/plain": [
       "<matplotlib.figure.Figure at 0x1afde2a7358>"
      ]
     },
     "metadata": {},
     "output_type": "display_data"
    }
   ],
   "source": [
    "from sklearn.metrics import confusion_matrix,classification_report,accuracy_score\n",
    "#classification report\n",
    "print(classification_report(np.argmax(y_train,axis=1), model.predict_classes(X_train,verbose=0)))\n",
    "\n",
    "#confusion matrix\n",
    "confmat = confusion_matrix(np.argmax(y_train,axis=1), model.predict_classes(X_train,verbose=0))\n",
    "\n",
    "fig, ax = plt.subplots(figsize=(2.5, 2.5))\n",
    "ax.matshow(confmat, cmap=plt.cm.Blues, alpha=0.3)\n",
    "for i in range(confmat.shape[0]):\n",
    "    for j in range(confmat.shape[1]):\n",
    "        ax.text(x=j, y=i, s=confmat[i, j], va='center', ha='center')\n",
    "plt.xlabel('Predicted label')\n",
    "plt.ylabel('True label')\n",
    "plt.tight_layout()"
   ]
  },
  {
   "cell_type": "markdown",
   "metadata": {},
   "source": [
    "## Model Evaluation with Test set"
   ]
  },
  {
   "cell_type": "code",
   "execution_count": 51,
   "metadata": {},
   "outputs": [
    {
     "name": "stdout",
     "output_type": "stream",
     "text": [
      "Accuracy: 97.2%\n"
     ]
    }
   ],
   "source": [
    "# predict class with test set (new, unseen)\n",
    "y_pred = model.predict_classes(X_test,verbose=0)\n",
    "print('Accuracy: {:0.1f}%'.format(accuracy_score(np.argmax(y_test,axis=1),y_pred)*100))"
   ]
  },
  {
   "cell_type": "code",
   "execution_count": 52,
   "metadata": {},
   "outputs": [
    {
     "name": "stdout",
     "output_type": "stream",
     "text": [
      "             precision    recall  f1-score   support\n",
      "\n",
      "          0       1.00      1.00      1.00         7\n",
      "          1       0.94      1.00      0.97        17\n",
      "          2       1.00      0.92      0.96        12\n",
      "\n",
      "avg / total       0.97      0.97      0.97        36\n",
      "\n"
     ]
    },
    {
     "data": {
      "image/png": "[encoded data removed]",
      "text/plain": [
       "<matplotlib.figure.Figure at 0x1afde2817b8>"
      ]
     },
     "metadata": {},
     "output_type": "display_data"
    }
   ],
   "source": [
    "#classification report\n",
    "print(classification_report(np.argmax(y_test,axis=1), model.predict_classes(X_test,verbose=0)))\n",
    "\n",
    "#confusion matrix\n",
    "confmat = confusion_matrix(np.argmax(y_test,axis=1), model.predict_classes(X_test,verbose=0))\n",
    "\n",
    "fig, ax = plt.subplots(figsize=(2.5, 2.5))\n",
    "ax.matshow(confmat, cmap=plt.cm.Blues, alpha=0.3)\n",
    "for i in range(confmat.shape[0]):\n",
    "    for j in range(confmat.shape[1]):\n",
    "        ax.text(x=j, y=i, s=confmat[i, j], va='center', ha='center')\n",
    "plt.xlabel('Predicted label')\n",
    "plt.ylabel('True label')\n",
    "plt.tight_layout()"
   ]
  },
  {
   "cell_type": "markdown",
   "metadata": {},
   "source": [
    "## Summary"
   ]
  },
  {
   "cell_type": "markdown",
   "metadata": {},
   "source": [
    "- Model Architecture: 3 hidden layers (30 nodes for each)\n",
    "\n",
    "    \n",
    "- Best params: epochs=40, batch_size=10, optimizer='adam', kernel_initializer='uniform', activation='relu'\n",
    "\n",
    "    \n",
    "- Accuracy of test set: ** 97.2% ** (1 missclassified from small test set)"
   ]
  }
 ],
 "metadata": {
  "kernelspec": {
   "display_name": "Python 3",
   "language": "python",
   "name": "python3"
  },
  "language_info": {
   "codemirror_mode": {
    "name": "ipython",
    "version": 3
   },
   "file_extension": ".py",
   "mimetype": "text/x-python",
   "name": "python",
   "nbconvert_exporter": "python",
   "pygments_lexer": "ipython3",
   "version": "3.6.3"
  }
 },
 "nbformat": 4,
 "nbformat_minor": 2
}
