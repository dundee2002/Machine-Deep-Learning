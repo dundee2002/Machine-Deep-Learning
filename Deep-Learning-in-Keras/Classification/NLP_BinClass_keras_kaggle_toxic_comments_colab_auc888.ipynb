{
 "cells": [
  {
   "cell_type": "markdown",
   "metadata": {
    "colab_type": "text",
    "id": "6EiZMXDqGoPH"
   },
   "source": [
    "## NLP & Binary Classification: Toxic Comment Classification Challenge\n",
    "https://www.kaggle.com/c/jigsaw-toxic-comment-classification-challenge\n",
    "\n",
    "** Dataset Information: **\n",
    "\n",
    "- a large number of Wikipedia comments which have been labeled by human raters for toxic behavior \n",
    "\n",
    "** Attribute Information:**\n",
    "\n",
    "- id\t\n",
    "- comment_text\n",
    "- toxic\n",
    "- severe_toxic\n",
    "- obscene\n",
    "- threat\n",
    "- insult\n",
    "- identity_hate                \n",
    "\n",
    "** Objective of this project **\n",
    "\n",
    "- Identify and classify toxic online comments\n"
   ]
  },
  {
   "cell_type": "markdown",
   "metadata": {
    "colab_type": "text",
    "id": "cFO7rl7BGoPJ"
   },
   "source": [
    "# Data"
   ]
  },
  {
   "cell_type": "code",
   "execution_count": 0,
   "metadata": {
    "colab": {
     "autoexec": {
      "startup": false,
      "wait_interval": 0
     }
    },
    "colab_type": "code",
    "collapsed": true,
    "id": "VphCYiKlGoPL"
   },
   "outputs": [],
   "source": [
    "# Load libraries\n",
    "import numpy as np\n",
    "import pandas as pd\n",
    "import matplotlib.pyplot as plt\n",
    "import seaborn as sns\n",
    "%matplotlib inline\n",
    "\n",
    "import warnings\n",
    "warnings.filterwarnings(\"ignore\")"
   ]
  },
  {
   "cell_type": "code",
   "execution_count": 7,
   "metadata": {
    "colab": {
     "autoexec": {
      "startup": false,
      "wait_interval": 0
     },
     "base_uri": "https://localhost:8080/",
     "height": 629,
     "output_extras": [
      {
       "item_id": 1
      }
     ]
    },
    "colab_type": "code",
    "executionInfo": {
     "elapsed": 4998,
     "status": "ok",
     "timestamp": 1521652689712,
     "user": {
      "displayName": "Houk Paek",
      "photoUrl": "https://lh3.googleusercontent.com/a/default-user=s128",
      "userId": "113855001944690852319"
     },
     "user_tz": 420
    },
    "id": "kJlOMxU3GoPV",
    "outputId": "58f2d56d-3a9b-44fd-dafd-c3271cb21a89"
   },
   "outputs": [
    {
     "data": {
      "text/html": [
       "<div>\n",
       "<style scoped>\n",
       "    .dataframe tbody tr th:only-of-type {\n",
       "        vertical-align: middle;\n",
       "    }\n",
       "\n",
       "    .dataframe tbody tr th {\n",
       "        vertical-align: top;\n",
       "    }\n",
       "\n",
       "    .dataframe thead th {\n",
       "        text-align: right;\n",
       "    }\n",
       "</style>\n",
       "<table border=\"1\" class=\"dataframe\">\n",
       "  <thead>\n",
       "    <tr style=\"text-align: right;\">\n",
       "      <th></th>\n",
       "      <th>id</th>\n",
       "      <th>comment_text</th>\n",
       "      <th>toxic</th>\n",
       "      <th>severe_toxic</th>\n",
       "      <th>obscene</th>\n",
       "      <th>threat</th>\n",
       "      <th>insult</th>\n",
       "      <th>identity_hate</th>\n",
       "    </tr>\n",
       "  </thead>\n",
       "  <tbody>\n",
       "    <tr>\n",
       "      <th>0</th>\n",
       "      <td>0000997932d777bf</td>\n",
       "      <td>Explanation\\nWhy the edits made under my username Hardcore Metallica Fan were reverted? They weren't vandalisms, just closure on some GAs after I voted at New York Dolls FAC. And please don't remove the template from the talk page since I'm retired now.89.205.38.27</td>\n",
       "      <td>0</td>\n",
       "      <td>0</td>\n",
       "      <td>0</td>\n",
       "      <td>0</td>\n",
       "      <td>0</td>\n",
       "      <td>0</td>\n",
       "    </tr>\n",
       "    <tr>\n",
       "      <th>1</th>\n",
       "      <td>000103f0d9cfb60f</td>\n",
       "      <td>D'aww! He matches this background colour I'm seemingly stuck with. Thanks.  (talk) 21:51, January 11, 2016 (UTC)</td>\n",
       "      <td>0</td>\n",
       "      <td>0</td>\n",
       "      <td>0</td>\n",
       "      <td>0</td>\n",
       "      <td>0</td>\n",
       "      <td>0</td>\n",
       "    </tr>\n",
       "    <tr>\n",
       "      <th>2</th>\n",
       "      <td>000113f07ec002fd</td>\n",
       "      <td>Hey man, I'm really not trying to edit war. It's just that this guy is constantly removing relevant information and talking to me through edits instead of my talk page. He seems to care more about the formatting than the actual info.</td>\n",
       "      <td>0</td>\n",
       "      <td>0</td>\n",
       "      <td>0</td>\n",
       "      <td>0</td>\n",
       "      <td>0</td>\n",
       "      <td>0</td>\n",
       "    </tr>\n",
       "    <tr>\n",
       "      <th>3</th>\n",
       "      <td>0001b41b1c6bb37e</td>\n",
       "      <td>\"\\nMore\\nI can't make any real suggestions on improvement - I wondered if the section statistics should be later on, or a subsection of \"\"types of accidents\"\"  -I think the references may need tidying so that they are all in the exact same format ie date format etc. I can do that later on, if no-one else does first - if you have any preferences for formatting style on references or want to do it yourself please let me know.\\n\\nThere appears to be a backlog on articles for review so I guess there may be a delay until a reviewer turns up. It's listed in the relevant form eg Wikipedia:Good_article_nominations#Transport  \"</td>\n",
       "      <td>0</td>\n",
       "      <td>0</td>\n",
       "      <td>0</td>\n",
       "      <td>0</td>\n",
       "      <td>0</td>\n",
       "      <td>0</td>\n",
       "    </tr>\n",
       "    <tr>\n",
       "      <th>4</th>\n",
       "      <td>0001d958c54c6e35</td>\n",
       "      <td>You, sir, are my hero. Any chance you remember what page that's on?</td>\n",
       "      <td>0</td>\n",
       "      <td>0</td>\n",
       "      <td>0</td>\n",
       "      <td>0</td>\n",
       "      <td>0</td>\n",
       "      <td>0</td>\n",
       "    </tr>\n",
       "  </tbody>\n",
       "</table>\n",
       "</div>"
      ],
      "text/plain": [
       "                 id  \\\n",
       "0  0000997932d777bf   \n",
       "1  000103f0d9cfb60f   \n",
       "2  000113f07ec002fd   \n",
       "3  0001b41b1c6bb37e   \n",
       "4  0001d958c54c6e35   \n",
       "\n",
       "                                                                                                                                                                                                                                                                                                                                                                                                                                                                                                                                                                                                                                         comment_text  \\\n",
       "0  Explanation\\nWhy the edits made under my username Hardcore Metallica Fan were reverted? They weren't vandalisms, just closure on some GAs after I voted at New York Dolls FAC. And please don't remove the template from the talk page since I'm retired now.89.205.38.27                                                                                                                                                                                                                                                                                                                                                                            \n",
       "1  D'aww! He matches this background colour I'm seemingly stuck with. Thanks.  (talk) 21:51, January 11, 2016 (UTC)                                                                                                                                                                                                                                                                                                                                                                                                                                                                                                                                     \n",
       "2  Hey man, I'm really not trying to edit war. It's just that this guy is constantly removing relevant information and talking to me through edits instead of my talk page. He seems to care more about the formatting than the actual info.                                                                                                                                                                                                                                                                                                                                                                                                            \n",
       "3  \"\\nMore\\nI can't make any real suggestions on improvement - I wondered if the section statistics should be later on, or a subsection of \"\"types of accidents\"\"  -I think the references may need tidying so that they are all in the exact same format ie date format etc. I can do that later on, if no-one else does first - if you have any preferences for formatting style on references or want to do it yourself please let me know.\\n\\nThere appears to be a backlog on articles for review so I guess there may be a delay until a reviewer turns up. It's listed in the relevant form eg Wikipedia:Good_article_nominations#Transport  \"   \n",
       "4  You, sir, are my hero. Any chance you remember what page that's on?                                                                                                                                                                                                                                                                                                                                                                                                                                                                                                                                                                                  \n",
       "\n",
       "   toxic  severe_toxic  obscene  threat  insult  identity_hate  \n",
       "0  0      0             0        0       0       0              \n",
       "1  0      0             0        0       0       0              \n",
       "2  0      0             0        0       0       0              \n",
       "3  0      0             0        0       0       0              \n",
       "4  0      0             0        0       0       0              "
      ]
     },
     "execution_count": 7,
     "metadata": {
      "tags": []
     },
     "output_type": "execute_result"
    }
   ],
   "source": [
    "# Load Data\n",
    "filepath = 'drive/app/toxic/'\n",
    "df = pd.read_csv(filepath+'train.csv')\n",
    "pd.set_option('display.max_colwidth', -1)\n",
    "df.head()"
   ]
  },
  {
   "cell_type": "code",
   "execution_count": 0,
   "metadata": {
    "colab": {
     "autoexec": {
      "startup": false,
      "wait_interval": 0
     }
    },
    "colab_type": "code",
    "collapsed": true,
    "id": "P8VXupTDGoPf"
   },
   "outputs": [],
   "source": [
    "df.comment_text.tail()"
   ]
  },
  {
   "cell_type": "code",
   "execution_count": 6,
   "metadata": {
    "colab": {
     "autoexec": {
      "startup": false,
      "wait_interval": 0
     },
     "base_uri": "https://localhost:8080/",
     "height": 238,
     "output_extras": [
      {
       "item_id": 1
      }
     ]
    },
    "colab_type": "code",
    "executionInfo": {
     "elapsed": 313,
     "status": "ok",
     "timestamp": 1521594724113,
     "user": {
      "displayName": "Houk Paek",
      "photoUrl": "https://lh3.googleusercontent.com/a/default-user=s128",
      "userId": "113855001944690852319"
     },
     "user_tz": 420
    },
    "id": "pmp-AHU-GoPk",
    "outputId": "8005ca8d-29cc-4bd6-abd5-147d59996603"
   },
   "outputs": [
    {
     "name": "stdout",
     "output_type": "stream",
     "text": [
      "<class 'pandas.core.frame.DataFrame'>\n",
      "RangeIndex: 159571 entries, 0 to 159570\n",
      "Data columns (total 8 columns):\n",
      "id               159571 non-null object\n",
      "comment_text     159571 non-null object\n",
      "toxic            159571 non-null int64\n",
      "severe_toxic     159571 non-null int64\n",
      "obscene          159571 non-null int64\n",
      "threat           159571 non-null int64\n",
      "insult           159571 non-null int64\n",
      "identity_hate    159571 non-null int64\n",
      "dtypes: int64(6), object(2)\n",
      "memory usage: 9.7+ MB\n"
     ]
    }
   ],
   "source": [
    "df.info()"
   ]
  },
  {
   "cell_type": "code",
   "execution_count": 7,
   "metadata": {
    "colab": {
     "autoexec": {
      "startup": false,
      "wait_interval": 0
     },
     "base_uri": "https://localhost:8080/",
     "height": 297,
     "output_extras": [
      {
       "item_id": 1
      }
     ]
    },
    "colab_type": "code",
    "executionInfo": {
     "elapsed": 334,
     "status": "ok",
     "timestamp": 1521594731823,
     "user": {
      "displayName": "Houk Paek",
      "photoUrl": "https://lh3.googleusercontent.com/a/default-user=s128",
      "userId": "113855001944690852319"
     },
     "user_tz": 420
    },
    "id": "ktyfj9FWGoPn",
    "outputId": "0945e641-c007-4222-b38b-4b24264f02f4"
   },
   "outputs": [
    {
     "data": {
      "text/html": [
       "<div>\n",
       "<style scoped>\n",
       "    .dataframe tbody tr th:only-of-type {\n",
       "        vertical-align: middle;\n",
       "    }\n",
       "\n",
       "    .dataframe tbody tr th {\n",
       "        vertical-align: top;\n",
       "    }\n",
       "\n",
       "    .dataframe thead th {\n",
       "        text-align: right;\n",
       "    }\n",
       "</style>\n",
       "<table border=\"1\" class=\"dataframe\">\n",
       "  <thead>\n",
       "    <tr style=\"text-align: right;\">\n",
       "      <th></th>\n",
       "      <th>toxic</th>\n",
       "      <th>severe_toxic</th>\n",
       "      <th>obscene</th>\n",
       "      <th>threat</th>\n",
       "      <th>insult</th>\n",
       "      <th>identity_hate</th>\n",
       "    </tr>\n",
       "  </thead>\n",
       "  <tbody>\n",
       "    <tr>\n",
       "      <th>count</th>\n",
       "      <td>159571.000000</td>\n",
       "      <td>159571.000000</td>\n",
       "      <td>159571.000000</td>\n",
       "      <td>159571.000000</td>\n",
       "      <td>159571.000000</td>\n",
       "      <td>159571.000000</td>\n",
       "    </tr>\n",
       "    <tr>\n",
       "      <th>mean</th>\n",
       "      <td>0.095844</td>\n",
       "      <td>0.009996</td>\n",
       "      <td>0.052948</td>\n",
       "      <td>0.002996</td>\n",
       "      <td>0.049364</td>\n",
       "      <td>0.008805</td>\n",
       "    </tr>\n",
       "    <tr>\n",
       "      <th>std</th>\n",
       "      <td>0.294379</td>\n",
       "      <td>0.099477</td>\n",
       "      <td>0.223931</td>\n",
       "      <td>0.054650</td>\n",
       "      <td>0.216627</td>\n",
       "      <td>0.093420</td>\n",
       "    </tr>\n",
       "    <tr>\n",
       "      <th>min</th>\n",
       "      <td>0.000000</td>\n",
       "      <td>0.000000</td>\n",
       "      <td>0.000000</td>\n",
       "      <td>0.000000</td>\n",
       "      <td>0.000000</td>\n",
       "      <td>0.000000</td>\n",
       "    </tr>\n",
       "    <tr>\n",
       "      <th>25%</th>\n",
       "      <td>0.000000</td>\n",
       "      <td>0.000000</td>\n",
       "      <td>0.000000</td>\n",
       "      <td>0.000000</td>\n",
       "      <td>0.000000</td>\n",
       "      <td>0.000000</td>\n",
       "    </tr>\n",
       "    <tr>\n",
       "      <th>50%</th>\n",
       "      <td>0.000000</td>\n",
       "      <td>0.000000</td>\n",
       "      <td>0.000000</td>\n",
       "      <td>0.000000</td>\n",
       "      <td>0.000000</td>\n",
       "      <td>0.000000</td>\n",
       "    </tr>\n",
       "    <tr>\n",
       "      <th>75%</th>\n",
       "      <td>0.000000</td>\n",
       "      <td>0.000000</td>\n",
       "      <td>0.000000</td>\n",
       "      <td>0.000000</td>\n",
       "      <td>0.000000</td>\n",
       "      <td>0.000000</td>\n",
       "    </tr>\n",
       "    <tr>\n",
       "      <th>max</th>\n",
       "      <td>1.000000</td>\n",
       "      <td>1.000000</td>\n",
       "      <td>1.000000</td>\n",
       "      <td>1.000000</td>\n",
       "      <td>1.000000</td>\n",
       "      <td>1.000000</td>\n",
       "    </tr>\n",
       "  </tbody>\n",
       "</table>\n",
       "</div>"
      ],
      "text/plain": [
       "               toxic   severe_toxic        obscene         threat  \\\n",
       "count  159571.000000  159571.000000  159571.000000  159571.000000   \n",
       "mean   0.095844       0.009996       0.052948       0.002996        \n",
       "std    0.294379       0.099477       0.223931       0.054650        \n",
       "min    0.000000       0.000000       0.000000       0.000000        \n",
       "25%    0.000000       0.000000       0.000000       0.000000        \n",
       "50%    0.000000       0.000000       0.000000       0.000000        \n",
       "75%    0.000000       0.000000       0.000000       0.000000        \n",
       "max    1.000000       1.000000       1.000000       1.000000        \n",
       "\n",
       "              insult  identity_hate  \n",
       "count  159571.000000  159571.000000  \n",
       "mean   0.049364       0.008805       \n",
       "std    0.216627       0.093420       \n",
       "min    0.000000       0.000000       \n",
       "25%    0.000000       0.000000       \n",
       "50%    0.000000       0.000000       \n",
       "75%    0.000000       0.000000       \n",
       "max    1.000000       1.000000       "
      ]
     },
     "execution_count": 7,
     "metadata": {
      "tags": []
     },
     "output_type": "execute_result"
    }
   ],
   "source": [
    "df.describe()"
   ]
  },
  {
   "cell_type": "markdown",
   "metadata": {
    "colab_type": "text",
    "id": "-ebhN97sGoPr"
   },
   "source": [
    "# Exploratory Data Analysis"
   ]
  },
  {
   "cell_type": "code",
   "execution_count": 10,
   "metadata": {
    "colab": {
     "autoexec": {
      "startup": false,
      "wait_interval": 0
     },
     "base_uri": "https://localhost:8080/",
     "height": 330,
     "output_extras": [
      {
       "item_id": 1
      },
      {
       "item_id": 2
      }
     ]
    },
    "colab_type": "code",
    "executionInfo": {
     "elapsed": 322,
     "status": "ok",
     "timestamp": 1521594787949,
     "user": {
      "displayName": "Houk Paek",
      "photoUrl": "https://lh3.googleusercontent.com/a/default-user=s128",
      "userId": "113855001944690852319"
     },
     "user_tz": 420
    },
    "id": "aPA7huhoGoPs",
    "outputId": "7f9801ad-f559-41fe-d159-aa9cadeaaa20"
   },
   "outputs": [
    {
     "data": {
      "text/plain": [
       "0    144277\n",
       "1    15294 \n",
       "Name: toxic, dtype: int64"
      ]
     },
     "execution_count": 10,
     "metadata": {
      "tags": []
     },
     "output_type": "execute_result"
    },
    {
     "data": {
      "image/png": "[encoded data removed]",
      "text/plain": [
       "<matplotlib.figure.Figure at 0x7f2b175b4f98>"
      ]
     },
     "metadata": {
      "tags": []
     },
     "output_type": "display_data"
    }
   ],
   "source": [
    "# inspect label --> only 'toxic' used in this analysis\n",
    "sns.countplot(df['toxic'])\n",
    "df['toxic'].value_counts() #imbalanced"
   ]
  },
  {
   "cell_type": "code",
   "execution_count": 11,
   "metadata": {
    "colab": {
     "autoexec": {
      "startup": false,
      "wait_interval": 0
     },
     "base_uri": "https://localhost:8080/",
     "height": 374,
     "output_extras": [
      {
       "item_id": 1
      }
     ]
    },
    "colab_type": "code",
    "executionInfo": {
     "elapsed": 319,
     "status": "ok",
     "timestamp": 1521594801883,
     "user": {
      "displayName": "Houk Paek",
      "photoUrl": "https://lh3.googleusercontent.com/a/default-user=s128",
      "userId": "113855001944690852319"
     },
     "user_tz": 420
    },
    "id": "jaeDevmkGoPu",
    "outputId": "3c05f5cd-b29d-491d-d9b3-b3a16644c060"
   },
   "outputs": [
    {
     "data": {
      "text/html": [
       "<div>\n",
       "<style scoped>\n",
       "    .dataframe tbody tr th:only-of-type {\n",
       "        vertical-align: middle;\n",
       "    }\n",
       "\n",
       "    .dataframe tbody tr th {\n",
       "        vertical-align: top;\n",
       "    }\n",
       "\n",
       "    .dataframe thead th {\n",
       "        text-align: right;\n",
       "    }\n",
       "</style>\n",
       "<table border=\"1\" class=\"dataframe\">\n",
       "  <thead>\n",
       "    <tr style=\"text-align: right;\">\n",
       "      <th></th>\n",
       "      <th>toxic</th>\n",
       "      <th>comment_text</th>\n",
       "      <th>text_length</th>\n",
       "    </tr>\n",
       "  </thead>\n",
       "  <tbody>\n",
       "    <tr>\n",
       "      <th>0</th>\n",
       "      <td>0</td>\n",
       "      <td>Explanation\\nWhy the edits made under my username Hardcore Metallica Fan were reverted? They weren't vandalisms, just closure on some GAs after I voted at New York Dolls FAC. And please don't remove the template from the talk page since I'm retired now.89.205.38.27</td>\n",
       "      <td>264</td>\n",
       "    </tr>\n",
       "    <tr>\n",
       "      <th>1</th>\n",
       "      <td>0</td>\n",
       "      <td>D'aww! He matches this background colour I'm seemingly stuck with. Thanks.  (talk) 21:51, January 11, 2016 (UTC)</td>\n",
       "      <td>112</td>\n",
       "    </tr>\n",
       "    <tr>\n",
       "      <th>2</th>\n",
       "      <td>0</td>\n",
       "      <td>Hey man, I'm really not trying to edit war. It's just that this guy is constantly removing relevant information and talking to me through edits instead of my talk page. He seems to care more about the formatting than the actual info.</td>\n",
       "      <td>233</td>\n",
       "    </tr>\n",
       "    <tr>\n",
       "      <th>3</th>\n",
       "      <td>0</td>\n",
       "      <td>\"\\nMore\\nI can't make any real suggestions on improvement - I wondered if the section statistics should be later on, or a subsection of \"\"types of accidents\"\"  -I think the references may need tidying so that they are all in the exact same format ie date format etc. I can do that later on, if no-one else does first - if you have any preferences for formatting style on references or want to do it yourself please let me know.\\n\\nThere appears to be a backlog on articles for review so I guess there may be a delay until a reviewer turns up. It's listed in the relevant form eg Wikipedia:Good_article_nominations#Transport  \"</td>\n",
       "      <td>622</td>\n",
       "    </tr>\n",
       "    <tr>\n",
       "      <th>4</th>\n",
       "      <td>0</td>\n",
       "      <td>You, sir, are my hero. Any chance you remember what page that's on?</td>\n",
       "      <td>67</td>\n",
       "    </tr>\n",
       "  </tbody>\n",
       "</table>\n",
       "</div>"
      ],
      "text/plain": [
       "   toxic  \\\n",
       "0  0       \n",
       "1  0       \n",
       "2  0       \n",
       "3  0       \n",
       "4  0       \n",
       "\n",
       "                                                                                                                                                                                                                                                                                                                                                                                                                                                                                                                                                                                                                                         comment_text  \\\n",
       "0  Explanation\\nWhy the edits made under my username Hardcore Metallica Fan were reverted? They weren't vandalisms, just closure on some GAs after I voted at New York Dolls FAC. And please don't remove the template from the talk page since I'm retired now.89.205.38.27                                                                                                                                                                                                                                                                                                                                                                            \n",
       "1  D'aww! He matches this background colour I'm seemingly stuck with. Thanks.  (talk) 21:51, January 11, 2016 (UTC)                                                                                                                                                                                                                                                                                                                                                                                                                                                                                                                                     \n",
       "2  Hey man, I'm really not trying to edit war. It's just that this guy is constantly removing relevant information and talking to me through edits instead of my talk page. He seems to care more about the formatting than the actual info.                                                                                                                                                                                                                                                                                                                                                                                                            \n",
       "3  \"\\nMore\\nI can't make any real suggestions on improvement - I wondered if the section statistics should be later on, or a subsection of \"\"types of accidents\"\"  -I think the references may need tidying so that they are all in the exact same format ie date format etc. I can do that later on, if no-one else does first - if you have any preferences for formatting style on references or want to do it yourself please let me know.\\n\\nThere appears to be a backlog on articles for review so I guess there may be a delay until a reviewer turns up. It's listed in the relevant form eg Wikipedia:Good_article_nominations#Transport  \"   \n",
       "4  You, sir, are my hero. Any chance you remember what page that's on?                                                                                                                                                                                                                                                                                                                                                                                                                                                                                                                                                                                  \n",
       "\n",
       "   text_length  \n",
       "0  264          \n",
       "1  112          \n",
       "2  233          \n",
       "3  622          \n",
       "4  67           "
      ]
     },
     "execution_count": 11,
     "metadata": {
      "tags": []
     },
     "output_type": "execute_result"
    }
   ],
   "source": [
    "# text length\n",
    "df['text_length'] = df['comment_text'].apply(len)\n",
    "df[['toxic','comment_text','text_length']].head()"
   ]
  },
  {
   "cell_type": "code",
   "execution_count": 12,
   "metadata": {
    "colab": {
     "autoexec": {
      "startup": false,
      "wait_interval": 0
     },
     "base_uri": "https://localhost:8080/",
     "height": 170,
     "output_extras": [
      {
       "item_id": 1
      }
     ]
    },
    "colab_type": "code",
    "executionInfo": {
     "elapsed": 308,
     "status": "ok",
     "timestamp": 1521594806151,
     "user": {
      "displayName": "Houk Paek",
      "photoUrl": "https://lh3.googleusercontent.com/a/default-user=s128",
      "userId": "113855001944690852319"
     },
     "user_tz": 420
    },
    "id": "sGtIHLiOGoPz",
    "outputId": "4cfbf749-14e6-4760-c4e1-ba1377b7ebff"
   },
   "outputs": [
    {
     "data": {
      "text/plain": [
       "count    159571.000000\n",
       "mean     394.073221   \n",
       "std      590.720282   \n",
       "min      6.000000     \n",
       "25%      96.000000    \n",
       "50%      205.000000   \n",
       "75%      435.000000   \n",
       "max      5000.000000  \n",
       "Name: text_length, dtype: float64"
      ]
     },
     "execution_count": 12,
     "metadata": {
      "tags": []
     },
     "output_type": "execute_result"
    }
   ],
   "source": [
    "df['text_length'].describe()"
   ]
  },
  {
   "cell_type": "code",
   "execution_count": 15,
   "metadata": {
    "colab": {
     "autoexec": {
      "startup": false,
      "wait_interval": 0
     },
     "base_uri": "https://localhost:8080/",
     "height": 282,
     "output_extras": [
      {
       "item_id": 1
      },
      {
       "item_id": 2
      }
     ]
    },
    "colab_type": "code",
    "executionInfo": {
     "elapsed": 462,
     "status": "ok",
     "timestamp": 1521594838674,
     "user": {
      "displayName": "Houk Paek",
      "photoUrl": "https://lh3.googleusercontent.com/a/default-user=s128",
      "userId": "113855001944690852319"
     },
     "user_tz": 420
    },
    "id": "29sg1gzFGoP3",
    "outputId": "7780d1b4-afae-4b5e-f47d-d820bfcf1d0a"
   },
   "outputs": [
    {
     "data": {
      "text/plain": [
       "<matplotlib.axes._subplots.AxesSubplot at 0x7f2b173dcb70>"
      ]
     },
     "execution_count": 15,
     "metadata": {
      "tags": []
     },
     "output_type": "execute_result"
    },
    {
     "data": {
      "image/png": "[encoded data removed]",
      "text/plain": [
       "<matplotlib.figure.Figure at 0x7f2b1759a400>"
      ]
     },
     "metadata": {
      "tags": []
     },
     "output_type": "display_data"
    }
   ],
   "source": [
    "df['text_length'].hist(bins=100)"
   ]
  },
  {
   "cell_type": "code",
   "execution_count": 16,
   "metadata": {
    "colab": {
     "autoexec": {
      "startup": false,
      "wait_interval": 0
     },
     "base_uri": "https://localhost:8080/",
     "height": 242,
     "output_extras": [
      {
       "item_id": 1
      },
      {
       "item_id": 2
      }
     ]
    },
    "colab_type": "code",
    "executionInfo": {
     "elapsed": 576,
     "status": "ok",
     "timestamp": 1521594865314,
     "user": {
      "displayName": "Houk Paek",
      "photoUrl": "https://lh3.googleusercontent.com/a/default-user=s128",
      "userId": "113855001944690852319"
     },
     "user_tz": 420
    },
    "id": "vKbv2m1eGoP6",
    "outputId": "ff12c0af-902e-42e5-dc40-7eaeef84ebea"
   },
   "outputs": [
    {
     "data": {
      "text/plain": [
       "<seaborn.axisgrid.FacetGrid at 0x7f2b173312b0>"
      ]
     },
     "execution_count": 16,
     "metadata": {
      "tags": []
     },
     "output_type": "execute_result"
    },
    {
     "data": {
      "image/png": "[encoded data removed]",
      "text/plain": [
       "<matplotlib.figure.Figure at 0x7f2b19648048>"
      ]
     },
     "metadata": {
      "tags": []
     },
     "output_type": "display_data"
    }
   ],
   "source": [
    "g = sns.FacetGrid(df,col='toxic')\n",
    "g.map(plt.hist,'text_length')"
   ]
  },
  {
   "cell_type": "code",
   "execution_count": 18,
   "metadata": {
    "colab": {
     "autoexec": {
      "startup": false,
      "wait_interval": 0
     },
     "base_uri": "https://localhost:8080/",
     "height": 296,
     "output_extras": [
      {
       "item_id": 1
      },
      {
       "item_id": 2
      }
     ]
    },
    "colab_type": "code",
    "executionInfo": {
     "elapsed": 464,
     "status": "ok",
     "timestamp": 1521594874144,
     "user": {
      "displayName": "Houk Paek",
      "photoUrl": "https://lh3.googleusercontent.com/a/default-user=s128",
      "userId": "113855001944690852319"
     },
     "user_tz": 420
    },
    "id": "oPwhOss5GoP-",
    "outputId": "7cb768f1-cee4-45e8-d382-88da155e4e06"
   },
   "outputs": [
    {
     "data": {
      "text/plain": [
       "(-100, 1100)"
      ]
     },
     "execution_count": 18,
     "metadata": {
      "tags": []
     },
     "output_type": "execute_result"
    },
    {
     "data": {
      "image/png": "[encoded data removed]",
      "text/plain": [
       "<matplotlib.figure.Figure at 0x7f2b17422d30>"
      ]
     },
     "metadata": {
      "tags": []
     },
     "output_type": "display_data"
    }
   ],
   "source": [
    "sns.boxplot(x='toxic',y='text_length',data=df,palette='rainbow')\n",
    "plt.ylim([-100,1100])"
   ]
  },
  {
   "cell_type": "code",
   "execution_count": 11,
   "metadata": {
    "colab": {
     "autoexec": {
      "startup": false,
      "wait_interval": 0
     },
     "base_uri": "https://localhost:8080/",
     "height": 386,
     "output_extras": [
      {
       "item_id": 1
      }
     ]
    },
    "colab_type": "code",
    "executionInfo": {
     "elapsed": 6476,
     "status": "ok",
     "timestamp": 1521652776110,
     "user": {
      "displayName": "Houk Paek",
      "photoUrl": "https://lh3.googleusercontent.com/a/default-user=s128",
      "userId": "113855001944690852319"
     },
     "user_tz": 420
    },
    "id": "z_Neg20lGoQC",
    "outputId": "3e25ac20-3385-4d75-a79d-3c570d789c63"
   },
   "outputs": [
    {
     "data": {
      "image/png": "[encoded data removed]",
      "text/plain": [
       "<matplotlib.figure.Figure at 0x7f2e82e48080>"
      ]
     },
     "metadata": {
      "tags": []
     },
     "output_type": "display_data"
    }
   ],
   "source": [
    "from nltk.corpus import stopwords\n",
    "from wordcloud import WordCloud\n",
    "\n",
    "text = df[df['toxic']==1]['comment_text'].to_string()\n",
    "wordcloud = WordCloud(\n",
    "    relative_scaling=0.5,\n",
    "    stopwords=set(stopwords.words('english')),\n",
    "    collocations=False).generate(text)\n",
    "\n",
    "plt.figure(figsize=(12,12))\n",
    "plt.imshow(wordcloud)\n",
    "plt.axis(\"off\")\n",
    "plt.show()"
   ]
  },
  {
   "cell_type": "markdown",
   "metadata": {
    "colab_type": "text",
    "id": "fGeqYYrBGoQH"
   },
   "source": [
    "# Data Preprocessing"
   ]
  },
  {
   "cell_type": "markdown",
   "metadata": {
    "colab_type": "text",
    "id": "mf6i88Z6GoQH"
   },
   "source": [
    "#### Spilt Train Test sets"
   ]
  },
  {
   "cell_type": "code",
   "execution_count": 0,
   "metadata": {
    "colab": {
     "autoexec": {
      "startup": false,
      "wait_interval": 0
     }
    },
    "colab_type": "code",
    "collapsed": true,
    "id": "e78UJxdeGoQJ"
   },
   "outputs": [],
   "source": [
    "X = df['comment_text']\n",
    "y = df['toxic'].values\n",
    "\n",
    "seed = 101\n",
    "np.random.seed(seed)"
   ]
  },
  {
   "cell_type": "code",
   "execution_count": 13,
   "metadata": {
    "colab": {
     "autoexec": {
      "startup": false,
      "wait_interval": 0
     },
     "base_uri": "https://localhost:8080/",
     "height": 34,
     "output_extras": [
      {
       "item_id": 1
      }
     ]
    },
    "colab_type": "code",
    "executionInfo": {
     "elapsed": 344,
     "status": "ok",
     "timestamp": 1521652788124,
     "user": {
      "displayName": "Houk Paek",
      "photoUrl": "https://lh3.googleusercontent.com/a/default-user=s128",
      "userId": "113855001944690852319"
     },
     "user_tz": 420
    },
    "id": "_XlpRf4CGoQM",
    "outputId": "8792d5a6-419b-4e15-ec1d-2e7ee601c74e"
   },
   "outputs": [
    {
     "name": "stdout",
     "output_type": "stream",
     "text": [
      "(127656,) (31915,) (127656,) (31915,)\n"
     ]
    }
   ],
   "source": [
    "from sklearn.model_selection import train_test_split\n",
    "X_train, X_test, y_train, y_test = train_test_split(X, y, \n",
    "                                                    test_size=0.2,\n",
    "                                                    stratify=y,\n",
    "                                                    random_state=seed)\n",
    "print(X_train.shape, X_test.shape, y_train.shape, y_test.shape)"
   ]
  },
  {
   "cell_type": "markdown",
   "metadata": {
    "colab_type": "text",
    "id": "WRfHA2vVGoQP"
   },
   "source": [
    "#### Tokenize text"
   ]
  },
  {
   "cell_type": "code",
   "execution_count": 14,
   "metadata": {
    "colab": {
     "autoexec": {
      "startup": false,
      "wait_interval": 0
     },
     "base_uri": "https://localhost:8080/",
     "height": 34,
     "output_extras": [
      {
       "item_id": 1
      }
     ]
    },
    "colab_type": "code",
    "executionInfo": {
     "elapsed": 19824,
     "status": "ok",
     "timestamp": 1521652814992,
     "user": {
      "displayName": "Houk Paek",
      "photoUrl": "https://lh3.googleusercontent.com/a/default-user=s128",
      "userId": "113855001944690852319"
     },
     "user_tz": 420
    },
    "id": "a421F-1rGoQP",
    "outputId": "ce2764a0-5166-4686-a8be-0c8a59d7876a"
   },
   "outputs": [
    {
     "name": "stderr",
     "output_type": "stream",
     "text": [
      "Using TensorFlow backend.\n"
     ]
    }
   ],
   "source": [
    "from keras.preprocessing.text import Tokenizer\n",
    "max_features = 20000\n",
    "tokenizer = Tokenizer(num_words=max_features)\n",
    "tokenizer.fit_on_texts(list(X_train))\n",
    "X_train = tokenizer.texts_to_sequences(X_train)\n",
    "X_test = tokenizer.texts_to_sequences(X_test)"
   ]
  },
  {
   "cell_type": "code",
   "execution_count": 15,
   "metadata": {
    "colab": {
     "autoexec": {
      "startup": false,
      "wait_interval": 0
     },
     "base_uri": "https://localhost:8080/",
     "height": 34,
     "output_extras": [
      {
       "item_id": 1
      }
     ]
    },
    "colab_type": "code",
    "executionInfo": {
     "elapsed": 369,
     "status": "ok",
     "timestamp": 1521652815425,
     "user": {
      "displayName": "Houk Paek",
      "photoUrl": "https://lh3.googleusercontent.com/a/default-user=s128",
      "userId": "113855001944690852319"
     },
     "user_tz": 420
    },
    "id": "x7KrMQSbGoQS",
    "outputId": "23ed16b8-9c32-4bd7-ad21-85ed24d1ad8e"
   },
   "outputs": [
    {
     "data": {
      "text/plain": [
       "127656"
      ]
     },
     "execution_count": 15,
     "metadata": {
      "tags": []
     },
     "output_type": "execute_result"
    }
   ],
   "source": [
    "len(X_train)\n",
    "#X_train[:10]\n",
    "#tokenizer.word_counts\n",
    "#tokenizer.word_index"
   ]
  },
  {
   "cell_type": "code",
   "execution_count": 37,
   "metadata": {
    "colab": {
     "autoexec": {
      "startup": false,
      "wait_interval": 0
     },
     "base_uri": "https://localhost:8080/",
     "height": 265,
     "output_extras": [
      {
       "item_id": 1
      }
     ]
    },
    "colab_type": "code",
    "executionInfo": {
     "elapsed": 556,
     "status": "ok",
     "timestamp": 1521597512105,
     "user": {
      "displayName": "Houk Paek",
      "photoUrl": "https://lh3.googleusercontent.com/a/default-user=s128",
      "userId": "113855001944690852319"
     },
     "user_tz": 420
    },
    "id": "ZTUZT1SlGoQW",
    "outputId": "ded5bc68-0a00-4e65-c0b8-8a041bf65e90"
   },
   "outputs": [
    {
     "data": {
      "image/png": "[encoded data removed]",
      "text/plain": [
       "<matplotlib.figure.Figure at 0x7f06a8415470>"
      ]
     },
     "metadata": {
      "tags": []
     },
     "output_type": "display_data"
    }
   ],
   "source": [
    "totalNumWords = [len(one_comment) for one_comment in X_train]\n",
    "plt.hist(totalNumWords,bins = 50)\n",
    "plt.show()"
   ]
  },
  {
   "cell_type": "code",
   "execution_count": 16,
   "metadata": {
    "colab": {
     "autoexec": {
      "startup": false,
      "wait_interval": 0
     },
     "base_uri": "https://localhost:8080/",
     "height": 34,
     "output_extras": [
      {
       "item_id": 1
      }
     ]
    },
    "colab_type": "code",
    "executionInfo": {
     "elapsed": 1937,
     "status": "ok",
     "timestamp": 1521652822402,
     "user": {
      "displayName": "Houk Paek",
      "photoUrl": "https://lh3.googleusercontent.com/a/default-user=s128",
      "userId": "113855001944690852319"
     },
     "user_tz": 420
    },
    "id": "LPxrWv0uGoQY",
    "outputId": "53eca413-fa07-40cc-ebf3-72b8f6f599e0"
   },
   "outputs": [
    {
     "name": "stdout",
     "output_type": "stream",
     "text": [
      "(127656, 200) (31915, 200)\n"
     ]
    }
   ],
   "source": [
    "from keras.preprocessing import sequence\n",
    "max_words = 200\n",
    "X_train = sequence.pad_sequences(X_train, maxlen=max_words)\n",
    "X_test = sequence.pad_sequences(X_test, maxlen=max_words)\n",
    "print(X_train.shape,X_test.shape)\n",
    "#X_train[np.argmax(totalNumWords)]"
   ]
  },
  {
   "cell_type": "markdown",
   "metadata": {
    "colab_type": "text",
    "id": "ITE2HwOmGoQb"
   },
   "source": [
    "# 1. MLP"
   ]
  },
  {
   "cell_type": "code",
   "execution_count": 0,
   "metadata": {
    "colab": {
     "autoexec": {
      "startup": false,
      "wait_interval": 0
     }
    },
    "colab_type": "code",
    "collapsed": true,
    "id": "TX5D0tnrGoQb"
   },
   "outputs": [],
   "source": [
    "from keras.models import Sequential\n",
    "from keras.layers import Dense,Flatten,Embedding,Dropout,Conv1D,MaxPooling1D,LSTM,GRU\n",
    "from sklearn.metrics import roc_auc_score,accuracy_score,confusion_matrix,classification_report\n",
    "import keras.backend as K\n",
    "\n",
    "batch_size = 128\n",
    "epochs = 5\n",
    "\n",
    "def create_nn():\n",
    "    np.random.seed(seed)\n",
    "    K.clear_session()\n",
    "    model = Sequential()\n",
    "    model.add(Embedding(max_features, 128, input_length=X_train.shape[1]))\n",
    "    model.add(Flatten())\n",
    "    model.add(Dense(200, activation='relu'))\n",
    "    model.add(Dropout(0.2))\n",
    "    model.add(Dense(200, activation='relu'))\n",
    "    model.add(Dropout(0.2))\n",
    "    model.add(Dense(50, activation='relu'))\n",
    "    model.add(Dropout(0.2))\n",
    "    model.add(Dense(1, activation='sigmoid'))\n",
    "    model.compile(loss='binary_crossentropy', optimizer='adam', metrics=['accuracy'])\n",
    "    print(model.summary())\n",
    "    return model"
   ]
  },
  {
   "cell_type": "code",
   "execution_count": 20,
   "metadata": {
    "colab": {
     "autoexec": {
      "startup": false,
      "wait_interval": 0
     },
     "base_uri": "https://localhost:8080/",
     "height": 666,
     "output_extras": [
      {
       "item_id": 42
      },
      {
       "item_id": 738
      },
      {
       "item_id": 1453
      },
      {
       "item_id": 2150
      },
      {
       "item_id": 2534
      },
      {
       "item_id": 3050
      }
     ]
    },
    "colab_type": "code",
    "executionInfo": {
     "elapsed": 938367,
     "status": "ok",
     "timestamp": 1521653908744,
     "user": {
      "displayName": "Houk Paek",
      "photoUrl": "https://lh3.googleusercontent.com/a/default-user=s128",
      "userId": "113855001944690852319"
     },
     "user_tz": 420
    },
    "id": "PXktdTumGoQe",
    "outputId": "32471780-ac9b-400b-a2fa-70f9adc36e04"
   },
   "outputs": [
    {
     "name": "stdout",
     "output_type": "stream",
     "text": [
      "_________________________________________________________________\n",
      "Layer (type)                 Output Shape              Param #   \n",
      "=================================================================\n",
      "embedding_1 (Embedding)      (None, 200, 128)          2560000   \n",
      "_________________________________________________________________\n",
      "flatten_1 (Flatten)          (None, 25600)             0         \n",
      "_________________________________________________________________\n",
      "dense_1 (Dense)              (None, 200)               5120200   \n",
      "_________________________________________________________________\n",
      "dropout_1 (Dropout)          (None, 200)               0         \n",
      "_________________________________________________________________\n",
      "dense_2 (Dense)              (None, 200)               40200     \n",
      "_________________________________________________________________\n",
      "dropout_2 (Dropout)          (None, 200)               0         \n",
      "_________________________________________________________________\n",
      "dense_3 (Dense)              (None, 50)                10050     \n",
      "_________________________________________________________________\n",
      "dropout_3 (Dropout)          (None, 50)                0         \n",
      "_________________________________________________________________\n",
      "dense_4 (Dense)              (None, 1)                 51        \n",
      "=================================================================\n",
      "Total params: 7,730,501\n",
      "Trainable params: 7,730,501\n",
      "Non-trainable params: 0\n",
      "_________________________________________________________________\n",
      "None\n",
      "Train on 127656 samples, validate on 31915 samples\n",
      "Epoch 1/5\n",
      "  7168/127656 [>.............................] - ETA: 3:03 - loss: 0.3304 - acc: 0.9069127656/127656 [==============================] - 189s 1ms/step - loss: 0.1558 - acc: 0.9475 - val_loss: 0.1112 - val_acc: 0.9610\n",
      "Epoch 2/5\n",
      " 10240/127656 [=>............................] - ETA: 2:45 - loss: 0.0766 - acc: 0.9743127656/127656 [==============================] - 187s 1ms/step - loss: 0.0673 - acc: 0.9764 - val_loss: 0.1399 - val_acc: 0.9540\n",
      "Epoch 3/5\n",
      " 11392/127656 [=>............................] - ETA: 2:47 - loss: 0.0232 - acc: 0.9929127656/127656 [==============================] - 189s 1ms/step - loss: 0.0261 - acc: 0.9917 - val_loss: 0.1766 - val_acc: 0.9574\n",
      "Epoch 4/5\n",
      " 11776/127656 [=>............................] - ETA: 2:44 - loss: 0.0107 - acc: 0.9969127656/127656 [==============================] - 187s 1ms/step - loss: 0.0145 - acc: 0.9954 - val_loss: 0.2426 - val_acc: 0.9536\n",
      "Epoch 5/5\n",
      " 12032/127656 [=>............................] - ETA: 2:43 - loss: 0.0081 - acc: 0.9970127656/127656 [==============================] - 185s 1ms/step - loss: 0.0101 - acc: 0.9968 - val_loss: 0.3128 - val_acc: 0.9530\n"
     ]
    }
   ],
   "source": [
    "# create the model\n",
    "model = create_nn()\n",
    "# train the model\n",
    "model_history = model.fit(X_train, y_train, validation_data=(X_test, y_test), \n",
    "                          epochs=epochs, batch_size=batch_size)"
   ]
  },
  {
   "cell_type": "code",
   "execution_count": 0,
   "metadata": {
    "colab": {
     "autoexec": {
      "startup": false,
      "wait_interval": 0
     }
    },
    "colab_type": "code",
    "collapsed": true,
    "id": "8d4Jxis3GoQh"
   },
   "outputs": [],
   "source": [
    "def plot_model_history(model_history):\n",
    "    fig, axs = plt.subplots(1,2,figsize=(15,5))\n",
    "    # summarize history for accuracy\n",
    "    axs[0].plot(range(1,len(model_history.history['acc'])+1),model_history.history['acc'])\n",
    "    axs[0].plot(range(1,len(model_history.history['val_acc'])+1),model_history.history['val_acc'])\n",
    "    axs[0].set_title('Model Accuracy')\n",
    "    axs[0].set_ylabel('Accuracy')\n",
    "    axs[0].set_xlabel('Epoch')\n",
    "    axs[0].set_xticks(np.arange(1,len(model_history.history['acc'])+1),len(model_history.history['acc'])/10)\n",
    "    axs[0].legend(['train', 'val'], loc='best')\n",
    "    # summarize history for loss\n",
    "    axs[1].plot(range(1,len(model_history.history['loss'])+1),model_history.history['loss'])\n",
    "    axs[1].plot(range(1,len(model_history.history['val_loss'])+1),model_history.history['val_loss'])\n",
    "    axs[1].set_title('Model Loss')\n",
    "    axs[1].set_ylabel('Loss')\n",
    "    axs[1].set_xlabel('Epoch')\n",
    "    axs[1].set_xticks(np.arange(1,len(model_history.history['loss'])+1),len(model_history.history['loss'])/10)\n",
    "    axs[1].legend(['train', 'val'], loc='best')\n",
    "    plt.show()"
   ]
  },
  {
   "cell_type": "code",
   "execution_count": 22,
   "metadata": {
    "colab": {
     "autoexec": {
      "startup": false,
      "wait_interval": 0
     },
     "base_uri": "https://localhost:8080/",
     "height": 349,
     "output_extras": [
      {
       "item_id": 1
      }
     ]
    },
    "colab_type": "code",
    "executionInfo": {
     "elapsed": 826,
     "status": "ok",
     "timestamp": 1521654027489,
     "user": {
      "displayName": "Houk Paek",
      "photoUrl": "https://lh3.googleusercontent.com/a/default-user=s128",
      "userId": "113855001944690852319"
     },
     "user_tz": 420
    },
    "id": "7LCjrgWqGoQi",
    "outputId": "572e5d35-ac09-4962-87fb-65a9fda59ace"
   },
   "outputs": [
    {
     "data": {
      "image/png": "[encoded data removed]",
      "text/plain": [
       "<matplotlib.figure.Figure at 0x7f2e74c16278>"
      ]
     },
     "metadata": {
      "tags": []
     },
     "output_type": "display_data"
    }
   ],
   "source": [
    "plot_model_history(model_history)"
   ]
  },
  {
   "cell_type": "code",
   "execution_count": 0,
   "metadata": {
    "colab": {
     "autoexec": {
      "startup": false,
      "wait_interval": 0
     }
    },
    "colab_type": "code",
    "collapsed": true,
    "id": "TR3P7_RbGoQk"
   },
   "outputs": [],
   "source": [
    "def model_evaluate():\n",
    "    # predict class with test set\n",
    "    y_pred_test =  model.predict_classes(X_test, batch_size=batch_size, verbose=0)\n",
    "    print('Accuracy:\\t{:0.1f}%'.format(accuracy_score(y_test,y_pred_test)*100))\n",
    "    print('roc auc:\\t{:0.3f}'.format(roc_auc_score(y_test,y_pred_test)))\n",
    "\n",
    "    #classification report\n",
    "    print('\\n')\n",
    "    print(classification_report(y_test, y_pred_test))\n",
    "\n",
    "    #confusion matrix\n",
    "    confmat = confusion_matrix(y_test, y_pred_test)\n",
    "\n",
    "    fig, ax = plt.subplots(figsize=(2.5, 2.5))\n",
    "    ax.matshow(confmat, cmap=plt.cm.Blues, alpha=0.3)\n",
    "    for i in range(confmat.shape[0]):\n",
    "        for j in range(confmat.shape[1]):\n",
    "            ax.text(x=j, y=i, s=confmat[i, j], va='center', ha='center')\n",
    "    plt.xlabel('Predicted label')\n",
    "    plt.ylabel('True label')\n",
    "    plt.tight_layout()"
   ]
  },
  {
   "cell_type": "code",
   "execution_count": 24,
   "metadata": {
    "colab": {
     "autoexec": {
      "startup": false,
      "wait_interval": 0
     },
     "base_uri": "https://localhost:8080/",
     "height": 376,
     "output_extras": [
      {
       "item_id": 1
      },
      {
       "item_id": 2
      }
     ]
    },
    "colab_type": "code",
    "executionInfo": {
     "elapsed": 6647,
     "status": "ok",
     "timestamp": 1521654048422,
     "user": {
      "displayName": "Houk Paek",
      "photoUrl": "https://lh3.googleusercontent.com/a/default-user=s128",
      "userId": "113855001944690852319"
     },
     "user_tz": 420
    },
    "id": "I0QUf1n6GoQn",
    "outputId": "05e3f1c1-6077-4fd7-9510-be473f7c8afb"
   },
   "outputs": [
    {
     "name": "stdout",
     "output_type": "stream",
     "text": [
      "Accuracy:\t95.3%\n",
      "roc auc:\t0.851\n",
      "\n",
      "\n",
      "             precision    recall  f1-score   support\n",
      "\n",
      "          0       0.97      0.98      0.97     28856\n",
      "          1       0.77      0.72      0.75      3059\n",
      "\n",
      "avg / total       0.95      0.95      0.95     31915\n",
      "\n"
     ]
    },
    {
     "data": {
      "image/png": "[encoded data removed]",
      "text/plain": [
       "<matplotlib.figure.Figure at 0x7f2e74afaa20>"
      ]
     },
     "metadata": {
      "tags": []
     },
     "output_type": "display_data"
    }
   ],
   "source": [
    "model_evaluate()"
   ]
  },
  {
   "cell_type": "markdown",
   "metadata": {
    "colab_type": "text",
    "id": "DmSpxNGrGoQr"
   },
   "source": [
    "# 2. CNN"
   ]
  },
  {
   "cell_type": "code",
   "execution_count": 0,
   "metadata": {
    "colab": {
     "autoexec": {
      "startup": false,
      "wait_interval": 0
     }
    },
    "colab_type": "code",
    "collapsed": true,
    "id": "qdwZ-IPOGoQw"
   },
   "outputs": [],
   "source": [
    "def create_cnn():\n",
    "    np.random.seed(seed)\n",
    "    K.clear_session()\n",
    "    model = Sequential()\n",
    "    model.add(Embedding(max_features, 128, input_length=X_train.shape[1]))\n",
    "    model.add(Conv1D(filters=32, kernel_size=3, padding='same', activation='relu'))\n",
    "    model.add(MaxPooling1D(pool_size=2))\n",
    "    model.add(Conv1D(filters=32, kernel_size=3, padding='same', activation='relu'))\n",
    "    model.add(MaxPooling1D(pool_size=2))\n",
    "    model.add(Flatten())\n",
    "    model.add(Dense(50, activation='relu'))\n",
    "    model.add(Dropout(0.2))\n",
    "    model.add(Dense(1, activation='sigmoid'))\n",
    "    model.compile(loss='binary_crossentropy', optimizer='adam', metrics=['accuracy'])\n",
    "    print(model.summary())\n",
    "    return model"
   ]
  },
  {
   "cell_type": "code",
   "execution_count": 27,
   "metadata": {
    "colab": {
     "autoexec": {
      "startup": false,
      "wait_interval": 0
     },
     "base_uri": "https://localhost:8080/",
     "height": 717,
     "output_extras": [
      {
       "item_id": 26
      },
      {
       "item_id": 429
      },
      {
       "item_id": 825
      },
      {
       "item_id": 1151
      },
      {
       "item_id": 1589
      },
      {
       "item_id": 1900
      }
     ]
    },
    "colab_type": "code",
    "executionInfo": {
     "elapsed": 687337,
     "status": "ok",
     "timestamp": 1521654802042,
     "user": {
      "displayName": "Houk Paek",
      "photoUrl": "https://lh3.googleusercontent.com/a/default-user=s128",
      "userId": "113855001944690852319"
     },
     "user_tz": 420
    },
    "id": "9YjPd_UnGoQ0",
    "outputId": "1a452134-9ae9-4208-d6b9-a069261181ea"
   },
   "outputs": [
    {
     "name": "stdout",
     "output_type": "stream",
     "text": [
      "WARNING:tensorflow:From /usr/local/lib/python3.6/dist-packages/tensorflow/python/util/deprecation.py:497: calling conv1d (from tensorflow.python.ops.nn_ops) with data_format=NHWC is deprecated and will be removed in a future version.\n",
      "Instructions for updating:\n",
      "`NHWC` for data_format is deprecated, use `NWC` instead\n",
      "_________________________________________________________________\n",
      "Layer (type)                 Output Shape              Param #   \n",
      "=================================================================\n",
      "embedding_1 (Embedding)      (None, 200, 128)          2560000   \n",
      "_________________________________________________________________\n",
      "conv1d_1 (Conv1D)            (None, 200, 32)           12320     \n",
      "_________________________________________________________________\n",
      "max_pooling1d_1 (MaxPooling1 (None, 100, 32)           0         \n",
      "_________________________________________________________________\n",
      "conv1d_2 (Conv1D)            (None, 100, 32)           3104      \n",
      "_________________________________________________________________\n",
      "max_pooling1d_2 (MaxPooling1 (None, 50, 32)            0         \n",
      "_________________________________________________________________\n",
      "flatten_1 (Flatten)          (None, 1600)              0         \n",
      "_________________________________________________________________\n",
      "dense_1 (Dense)              (None, 50)                80050     \n",
      "_________________________________________________________________\n",
      "dropout_1 (Dropout)          (None, 50)                0         \n",
      "_________________________________________________________________\n",
      "dense_2 (Dense)              (None, 1)                 51        \n",
      "=================================================================\n",
      "Total params: 2,655,525\n",
      "Trainable params: 2,655,525\n",
      "Non-trainable params: 0\n",
      "_________________________________________________________________\n",
      "None\n",
      "Train on 127656 samples, validate on 31915 samples\n",
      "Epoch 1/5\n",
      "  6016/127656 [>.............................] - ETA: 1:53 - loss: 0.3561 - acc: 0.8903127656/127656 [==============================] - 137s 1ms/step - loss: 0.1463 - acc: 0.9473 - val_loss: 0.0972 - val_acc: 0.9642\n",
      "Epoch 2/5\n",
      "  9984/127656 [=>............................] - ETA: 2:00 - loss: 0.0814 - acc: 0.9693127656/127656 [==============================] - 138s 1ms/step - loss: 0.0801 - acc: 0.9697 - val_loss: 0.1048 - val_acc: 0.9615\n",
      "Epoch 3/5\n",
      " 11520/127656 [=>............................] - ETA: 1:59 - loss: 0.0473 - acc: 0.9823127656/127656 [==============================] - 138s 1ms/step - loss: 0.0514 - acc: 0.9804 - val_loss: 0.1373 - val_acc: 0.9606\n",
      "Epoch 4/5\n",
      " 12032/127656 [=>............................] - ETA: 1:58 - loss: 0.0207 - acc: 0.9933127656/127656 [==============================] - 138s 1ms/step - loss: 0.0270 - acc: 0.9906 - val_loss: 0.1572 - val_acc: 0.9486\n",
      "Epoch 5/5\n",
      " 12288/127656 [=>............................] - ETA: 1:56 - loss: 0.0114 - acc: 0.9958127656/127656 [==============================] - 136s 1ms/step - loss: 0.0145 - acc: 0.9952 - val_loss: 0.2239 - val_acc: 0.9536\n"
     ]
    }
   ],
   "source": [
    "# create the model\n",
    "model = create_cnn()\n",
    "# train the model\n",
    "model_history = model.fit(X_train, y_train, validation_data=(X_test, y_test), \n",
    "                          epochs=epochs, batch_size=batch_size)"
   ]
  },
  {
   "cell_type": "code",
   "execution_count": 29,
   "metadata": {
    "colab": {
     "autoexec": {
      "startup": false,
      "wait_interval": 0
     },
     "base_uri": "https://localhost:8080/",
     "height": 349,
     "output_extras": [
      {
       "item_id": 1
      }
     ]
    },
    "colab_type": "code",
    "executionInfo": {
     "elapsed": 633,
     "status": "ok",
     "timestamp": 1521655003509,
     "user": {
      "displayName": "Houk Paek",
      "photoUrl": "https://lh3.googleusercontent.com/a/default-user=s128",
      "userId": "113855001944690852319"
     },
     "user_tz": 420
    },
    "id": "h-tLdG1EGoQ5",
    "outputId": "0373f944-d7ac-4548-fc76-a152c50159c9"
   },
   "outputs": [
    {
     "data": {
      "image/png": "[encoded data removed]",
      "text/plain": [
       "<matplotlib.figure.Figure at 0x7f2e728d6da0>"
      ]
     },
     "metadata": {
      "tags": []
     },
     "output_type": "display_data"
    }
   ],
   "source": [
    "plot_model_history(model_history)"
   ]
  },
  {
   "cell_type": "code",
   "execution_count": 30,
   "metadata": {
    "colab": {
     "autoexec": {
      "startup": false,
      "wait_interval": 0
     },
     "base_uri": "https://localhost:8080/",
     "height": 376,
     "output_extras": [
      {
       "item_id": 1
      },
      {
       "item_id": 2
      }
     ]
    },
    "colab_type": "code",
    "executionInfo": {
     "elapsed": 6974,
     "status": "ok",
     "timestamp": 1521655010609,
     "user": {
      "displayName": "Houk Paek",
      "photoUrl": "https://lh3.googleusercontent.com/a/default-user=s128",
      "userId": "113855001944690852319"
     },
     "user_tz": 420
    },
    "id": "R-cl9V90GoQ-",
    "outputId": "752c74ea-1656-43bf-b709-75b9fd96b1c8"
   },
   "outputs": [
    {
     "name": "stdout",
     "output_type": "stream",
     "text": [
      "Accuracy:\t95.4%\n",
      "roc auc:\t0.867\n",
      "\n",
      "\n",
      "             precision    recall  f1-score   support\n",
      "\n",
      "          0       0.97      0.97      0.97     28856\n",
      "          1       0.76      0.76      0.76      3059\n",
      "\n",
      "avg / total       0.95      0.95      0.95     31915\n",
      "\n"
     ]
    },
    {
     "data": {
      "image/png": "[encoded data removed]",
      "text/plain": [
       "<matplotlib.figure.Figure at 0x7f2e728d6ac8>"
      ]
     },
     "metadata": {
      "tags": []
     },
     "output_type": "display_data"
    }
   ],
   "source": [
    "model_evaluate()"
   ]
  },
  {
   "cell_type": "markdown",
   "metadata": {
    "colab_type": "text",
    "id": "fZ-iE48BFU8S"
   },
   "source": [
    "## 3. RNN (GRU)"
   ]
  },
  {
   "cell_type": "code",
   "execution_count": 0,
   "metadata": {
    "colab": {
     "autoexec": {
      "startup": false,
      "wait_interval": 0
     }
    },
    "colab_type": "code",
    "collapsed": true,
    "id": "j5T14WR6EzC3"
   },
   "outputs": [],
   "source": [
    "def create_rnn():\n",
    "    np.random.seed(seed)\n",
    "    K.clear_session()\n",
    "    model = Sequential()\n",
    "    model.add(Embedding(max_features, 128, input_length=X_train.shape[1]))\n",
    "    model.add(GRU(50))\n",
    "    model.add(Dense(50, activation='relu'))\n",
    "    model.add(Dropout(0.2))\n",
    "    model.add(Dense(1, activation='sigmoid'))\n",
    "    model.compile(loss='binary_crossentropy', optimizer='adam', metrics=['accuracy'])\n",
    "    print(model.summary())\n",
    "    return model"
   ]
  },
  {
   "cell_type": "code",
   "execution_count": 50,
   "metadata": {
    "colab": {
     "autoexec": {
      "startup": false,
      "wait_interval": 0
     },
     "base_uri": "https://localhost:8080/",
     "height": 530,
     "output_extras": [
      {
       "item_id": 66
      },
      {
       "item_id": 647
      },
      {
       "item_id": 1147
      },
      {
       "item_id": 1684
      },
      {
       "item_id": 2274
      },
      {
       "item_id": 2973
      }
     ]
    },
    "colab_type": "code",
    "executionInfo": {
     "elapsed": 1940927,
     "status": "ok",
     "timestamp": 1521664007019,
     "user": {
      "displayName": "Houk Paek",
      "photoUrl": "https://lh3.googleusercontent.com/a/default-user=s128",
      "userId": "113855001944690852319"
     },
     "user_tz": 420
    },
    "id": "ocOvX-r-EzMC",
    "outputId": "20d38167-f1e2-4e58-9667-7117c213a5ab"
   },
   "outputs": [
    {
     "name": "stdout",
     "output_type": "stream",
     "text": [
      "_________________________________________________________________\n",
      "Layer (type)                 Output Shape              Param #   \n",
      "=================================================================\n",
      "embedding_1 (Embedding)      (None, 200, 128)          2560000   \n",
      "_________________________________________________________________\n",
      "gru_1 (GRU)                  (None, 50)                26850     \n",
      "_________________________________________________________________\n",
      "dense_1 (Dense)              (None, 50)                2550      \n",
      "_________________________________________________________________\n",
      "dropout_1 (Dropout)          (None, 50)                0         \n",
      "_________________________________________________________________\n",
      "dense_2 (Dense)              (None, 1)                 51        \n",
      "=================================================================\n",
      "Total params: 2,589,451\n",
      "Trainable params: 2,589,451\n",
      "Non-trainable params: 0\n",
      "_________________________________________________________________\n",
      "None\n",
      "Train on 127656 samples, validate on 31915 samples\n",
      "Epoch 1/5\n",
      " 10752/127656 [=>............................] - ETA: 5:37 - loss: 0.3525 - acc: 0.9046127656/127656 [==============================] - 391s 3ms/step - loss: 0.1546 - acc: 0.9482 - val_loss: 0.1038 - val_acc: 0.9621\n",
      "Epoch 2/5\n",
      " 11520/127656 [=>............................] - ETA: 5:27 - loss: 0.0934 - acc: 0.9634127656/127656 [==============================] - 387s 3ms/step - loss: 0.0934 - acc: 0.9653 - val_loss: 0.1000 - val_acc: 0.9636\n",
      "Epoch 3/5\n",
      " 11776/127656 [=>............................] - ETA: 5:26 - loss: 0.0645 - acc: 0.9750127656/127656 [==============================] - 388s 3ms/step - loss: 0.0699 - acc: 0.9727 - val_loss: 0.1086 - val_acc: 0.9601\n",
      "Epoch 4/5\n",
      " 11904/127656 [=>............................] - ETA: 5:27 - loss: 0.0476 - acc: 0.9829127656/127656 [==============================] - 387s 3ms/step - loss: 0.0504 - acc: 0.9802 - val_loss: 0.1360 - val_acc: 0.9599\n",
      "Epoch 5/5\n",
      " 11904/127656 [=>............................] - ETA: 5:25 - loss: 0.0289 - acc: 0.9887127656/127656 [==============================] - 387s 3ms/step - loss: 0.0357 - acc: 0.9864 - val_loss: 0.1614 - val_acc: 0.9561\n"
     ]
    }
   ],
   "source": [
    "# create the model\n",
    "model = create_rnn()\n",
    "# train the model\n",
    "model_history = model.fit(X_train, y_train, validation_data=(X_test, y_test), \n",
    "                          epochs=epochs, batch_size=batch_size)"
   ]
  },
  {
   "cell_type": "code",
   "execution_count": 55,
   "metadata": {
    "colab": {
     "autoexec": {
      "startup": false,
      "wait_interval": 0
     },
     "base_uri": "https://localhost:8080/",
     "height": 349,
     "output_extras": [
      {
       "item_id": 1
      }
     ]
    },
    "colab_type": "code",
    "executionInfo": {
     "elapsed": 764,
     "status": "ok",
     "timestamp": 1521664293056,
     "user": {
      "displayName": "Houk Paek",
      "photoUrl": "https://lh3.googleusercontent.com/a/default-user=s128",
      "userId": "113855001944690852319"
     },
     "user_tz": 420
    },
    "id": "DpeDndVbE5M0",
    "outputId": "ce68949d-819b-44b9-97e1-b35c7d6cb7cd"
   },
   "outputs": [
    {
     "data": {
      "image/png": "[encoded data removed]",
      "text/plain": [
       "<matplotlib.figure.Figure at 0x7f2e6fa7c128>"
      ]
     },
     "metadata": {
      "tags": []
     },
     "output_type": "display_data"
    }
   ],
   "source": [
    "plot_model_history(model_history)"
   ]
  },
  {
   "cell_type": "code",
   "execution_count": 56,
   "metadata": {
    "colab": {
     "autoexec": {
      "startup": false,
      "wait_interval": 0
     },
     "base_uri": "https://localhost:8080/",
     "height": 376,
     "output_extras": [
      {
       "item_id": 1
      },
      {
       "item_id": 2
      }
     ]
    },
    "colab_type": "code",
    "executionInfo": {
     "elapsed": 26659,
     "status": "ok",
     "timestamp": 1521664320898,
     "user": {
      "displayName": "Houk Paek",
      "photoUrl": "https://lh3.googleusercontent.com/a/default-user=s128",
      "userId": "113855001944690852319"
     },
     "user_tz": 420
    },
    "id": "vuRFCjb5Jxn8",
    "outputId": "e1a6144b-4c4e-4dce-ef0e-677fed262830"
   },
   "outputs": [
    {
     "name": "stdout",
     "output_type": "stream",
     "text": [
      "Accuracy:\t95.6%\n",
      "roc auc:\t0.835\n",
      "\n",
      "\n",
      "             precision    recall  f1-score   support\n",
      "\n",
      "          0       0.97      0.98      0.98     28856\n",
      "          1       0.83      0.68      0.75      3059\n",
      "\n",
      "avg / total       0.95      0.96      0.95     31915\n",
      "\n"
     ]
    },
    {
     "data": {
      "image/png": "[encoded data removed]",
      "text/plain": [
       "<matplotlib.figure.Figure at 0x7f2e6f897128>"
      ]
     },
     "metadata": {
      "tags": []
     },
     "output_type": "display_data"
    }
   ],
   "source": [
    "model_evaluate()"
   ]
  },
  {
   "cell_type": "markdown",
   "metadata": {
    "colab_type": "text",
    "id": "IeOb0nDOGoRA"
   },
   "source": [
    "# 4. RNN(LSTM)"
   ]
  },
  {
   "cell_type": "code",
   "execution_count": 0,
   "metadata": {
    "colab": {
     "autoexec": {
      "startup": false,
      "wait_interval": 0
     }
    },
    "colab_type": "code",
    "collapsed": true,
    "id": "1VD9pyjMGoRC"
   },
   "outputs": [],
   "source": [
    "def create_rnn():\n",
    "    np.random.seed(seed)\n",
    "    K.clear_session()\n",
    "    model = Sequential()\n",
    "    model.add(Embedding(max_features, 128, input_length=X_train.shape[1]))\n",
    "    model.add(LSTM(50, dropout=0.2, recurrent_dropout=0.2))\n",
    "    model.add(Dense(50, activation='relu'))\n",
    "    model.add(Dropout(0.2))\n",
    "    model.add(Dense(1, activation='sigmoid'))\n",
    "    model.compile(loss='binary_crossentropy', optimizer='adam', metrics=['accuracy'])\n",
    "    print(model.summary())\n",
    "    return model"
   ]
  },
  {
   "cell_type": "code",
   "execution_count": 62,
   "metadata": {
    "colab": {
     "autoexec": {
      "startup": false,
      "wait_interval": 0
     },
     "base_uri": "https://localhost:8080/",
     "height": 530,
     "output_extras": [
      {
       "item_id": 66
      },
      {
       "item_id": 716
      },
      {
       "item_id": 1212
      },
      {
       "item_id": 2065
      },
      {
       "item_id": 2592
      },
      {
       "item_id": 3047
      }
     ]
    },
    "colab_type": "code",
    "executionInfo": {
     "elapsed": 2526291,
     "status": "ok",
     "timestamp": 1521668070871,
     "user": {
      "displayName": "Houk Paek",
      "photoUrl": "https://lh3.googleusercontent.com/a/default-user=s128",
      "userId": "113855001944690852319"
     },
     "user_tz": 420
    },
    "id": "GtQDEEgRGoRD",
    "outputId": "7c795de6-70a3-46df-a61c-35f7a4dd035b"
   },
   "outputs": [
    {
     "name": "stdout",
     "output_type": "stream",
     "text": [
      "_________________________________________________________________\n",
      "Layer (type)                 Output Shape              Param #   \n",
      "=================================================================\n",
      "embedding_1 (Embedding)      (None, 200, 128)          2560000   \n",
      "_________________________________________________________________\n",
      "lstm_1 (LSTM)                (None, 50)                35800     \n",
      "_________________________________________________________________\n",
      "dense_1 (Dense)              (None, 50)                2550      \n",
      "_________________________________________________________________\n",
      "dropout_1 (Dropout)          (None, 50)                0         \n",
      "_________________________________________________________________\n",
      "dense_2 (Dense)              (None, 1)                 51        \n",
      "=================================================================\n",
      "Total params: 2,598,401\n",
      "Trainable params: 2,598,401\n",
      "Non-trainable params: 0\n",
      "_________________________________________________________________\n",
      "None\n",
      "Train on 127656 samples, validate on 31915 samples\n",
      "Epoch 1/5\n",
      " 10752/127656 [=>............................] - ETA: 7:18 - loss: 0.3640 - acc: 0.8960127656/127656 [==============================] - 506s 4ms/step - loss: 0.1557 - acc: 0.9483 - val_loss: 0.1018 - val_acc: 0.9624\n",
      "Epoch 2/5\n",
      " 11520/127656 [=>............................] - ETA: 7:09 - loss: 0.0869 - acc: 0.9679127656/127656 [==============================] - 507s 4ms/step - loss: 0.0949 - acc: 0.9654 - val_loss: 0.1023 - val_acc: 0.9637\n",
      "Epoch 3/5\n",
      " 11776/127656 [=>............................] - ETA: 7:11 - loss: 0.0757 - acc: 0.9722127656/127656 [==============================] - 506s 4ms/step - loss: 0.0805 - acc: 0.9698 - val_loss: 0.1030 - val_acc: 0.9632\n",
      "Epoch 4/5\n",
      " 11904/127656 [=>............................] - ETA: 7:06 - loss: 0.0635 - acc: 0.9772127656/127656 [==============================] - 502s 4ms/step - loss: 0.0691 - acc: 0.9736 - val_loss: 0.1145 - val_acc: 0.9632\n",
      "Epoch 5/5\n",
      " 11904/127656 [=>............................] - ETA: 7:02 - loss: 0.0543 - acc: 0.9794127656/127656 [==============================] - 504s 4ms/step - loss: 0.0568 - acc: 0.9778 - val_loss: 0.1307 - val_acc: 0.9598\n"
     ]
    }
   ],
   "source": [
    "# create the model\n",
    "model = create_rnn()\n",
    "# train the model\n",
    "model_history = model.fit(X_train, y_train, validation_data=(X_test, y_test), \n",
    "                          epochs=epochs, batch_size=batch_size)"
   ]
  },
  {
   "cell_type": "code",
   "execution_count": 63,
   "metadata": {
    "colab": {
     "autoexec": {
      "startup": false,
      "wait_interval": 0
     },
     "base_uri": "https://localhost:8080/",
     "height": 349,
     "output_extras": [
      {
       "item_id": 1
      }
     ]
    },
    "colab_type": "code",
    "executionInfo": {
     "elapsed": 888,
     "status": "ok",
     "timestamp": 1521668071806,
     "user": {
      "displayName": "Houk Paek",
      "photoUrl": "https://lh3.googleusercontent.com/a/default-user=s128",
      "userId": "113855001944690852319"
     },
     "user_tz": 420
    },
    "id": "_jXnxG0MGoRF",
    "outputId": "177ed825-8cf4-4de8-eac2-79e283dffaf3"
   },
   "outputs": [
    {
     "data": {
      "image/png": "[encoded data removed]",
      "text/plain": [
       "<matplotlib.figure.Figure at 0x7f2e71af80f0>"
      ]
     },
     "metadata": {
      "tags": []
     },
     "output_type": "display_data"
    }
   ],
   "source": [
    "plot_model_history(model_history)"
   ]
  },
  {
   "cell_type": "code",
   "execution_count": 64,
   "metadata": {
    "colab": {
     "autoexec": {
      "startup": false,
      "wait_interval": 0
     },
     "base_uri": "https://localhost:8080/",
     "height": 376,
     "output_extras": [
      {
       "item_id": 1
      },
      {
       "item_id": 2
      }
     ]
    },
    "colab_type": "code",
    "executionInfo": {
     "elapsed": 33234,
     "status": "ok",
     "timestamp": 1521668105050,
     "user": {
      "displayName": "Houk Paek",
      "photoUrl": "https://lh3.googleusercontent.com/a/default-user=s128",
      "userId": "113855001944690852319"
     },
     "user_tz": 420
    },
    "id": "KJMEWzRMGoRG",
    "outputId": "42f7f8d3-3feb-4e9e-ab11-756c46d39e2a"
   },
   "outputs": [
    {
     "name": "stdout",
     "output_type": "stream",
     "text": [
      "Accuracy:\t96.0%\n",
      "roc auc:\t0.888\n",
      "\n",
      "\n",
      "             precision    recall  f1-score   support\n",
      "\n",
      "          0       0.98      0.98      0.98     28856\n",
      "          1       0.79      0.80      0.79      3059\n",
      "\n",
      "avg / total       0.96      0.96      0.96     31915\n",
      "\n"
     ]
    },
    {
     "data": {
      "image/png": "[encoded data removed]",
      "text/plain": [
       "<matplotlib.figure.Figure at 0x7f2e71b2f208>"
      ]
     },
     "metadata": {
      "tags": []
     },
     "output_type": "display_data"
    }
   ],
   "source": [
    "model_evaluate()"
   ]
  },
  {
   "cell_type": "markdown",
   "metadata": {
    "colab_type": "text",
    "id": "CMB5aLf5rX5Q"
   },
   "source": [
    "# 5. CNN + RNN(GRU)"
   ]
  },
  {
   "cell_type": "code",
   "execution_count": 0,
   "metadata": {
    "colab": {
     "autoexec": {
      "startup": false,
      "wait_interval": 0
     }
    },
    "colab_type": "code",
    "collapsed": true,
    "id": "uRJFk2isrW3X"
   },
   "outputs": [],
   "source": [
    "def create_cnn_gru():\n",
    "    np.random.seed(seed)\n",
    "    K.clear_session()\n",
    "    model = Sequential()\n",
    "    model.add(Embedding(max_features, 128, input_length=X_train.shape[1]))\n",
    "    model.add(Dropout(0.2))\n",
    "    model.add(Conv1D(filters=32, kernel_size=3, padding='same', activation='relu'))\n",
    "    model.add(MaxPooling1D(pool_size=2))\n",
    "    model.add(Conv1D(filters=32, kernel_size=3, padding='same', activation='relu'))\n",
    "    model.add(MaxPooling1D(pool_size=2))\n",
    "    model.add(GRU(50))\n",
    "    model.add(Dense(50, activation='relu'))\n",
    "    model.add(Dropout(0.2))\n",
    "    model.add(Dense(1, activation='sigmoid'))\n",
    "    model.compile(loss='binary_crossentropy', optimizer='adam', metrics=['accuracy'])\n",
    "    print(model.summary())\n",
    "    return model"
   ]
  },
  {
   "cell_type": "code",
   "execution_count": 58,
   "metadata": {
    "colab": {
     "autoexec": {
      "startup": false,
      "wait_interval": 0
     },
     "base_uri": "https://localhost:8080/",
     "height": 700,
     "output_extras": [
      {
       "item_id": 45
      },
      {
       "item_id": 378
      },
      {
       "item_id": 914
      },
      {
       "item_id": 1166
      },
      {
       "item_id": 1410
      },
      {
       "item_id": 1683
      }
     ]
    },
    "colab_type": "code",
    "executionInfo": {
     "elapsed": 1116906,
     "status": "ok",
     "timestamp": 1521665487501,
     "user": {
      "displayName": "Houk Paek",
      "photoUrl": "https://lh3.googleusercontent.com/a/default-user=s128",
      "userId": "113855001944690852319"
     },
     "user_tz": 420
    },
    "id": "dUm6ccG1rqiI",
    "outputId": "c4ae7ea4-0cc6-4f9c-b02d-275fdf0b1fe0"
   },
   "outputs": [
    {
     "name": "stdout",
     "output_type": "stream",
     "text": [
      "_________________________________________________________________\n",
      "Layer (type)                 Output Shape              Param #   \n",
      "=================================================================\n",
      "embedding_1 (Embedding)      (None, 200, 128)          2560000   \n",
      "_________________________________________________________________\n",
      "dropout_1 (Dropout)          (None, 200, 128)          0         \n",
      "_________________________________________________________________\n",
      "conv1d_1 (Conv1D)            (None, 200, 32)           12320     \n",
      "_________________________________________________________________\n",
      "max_pooling1d_1 (MaxPooling1 (None, 100, 32)           0         \n",
      "_________________________________________________________________\n",
      "conv1d_2 (Conv1D)            (None, 100, 32)           3104      \n",
      "_________________________________________________________________\n",
      "max_pooling1d_2 (MaxPooling1 (None, 50, 32)            0         \n",
      "_________________________________________________________________\n",
      "gru_1 (GRU)                  (None, 50)                12450     \n",
      "_________________________________________________________________\n",
      "dense_1 (Dense)              (None, 50)                2550      \n",
      "_________________________________________________________________\n",
      "dropout_2 (Dropout)          (None, 50)                0         \n",
      "_________________________________________________________________\n",
      "dense_2 (Dense)              (None, 1)                 51        \n",
      "=================================================================\n",
      "Total params: 2,590,475\n",
      "Trainable params: 2,590,475\n",
      "Non-trainable params: 0\n",
      "_________________________________________________________________\n",
      "None\n",
      "Train on 127656 samples, validate on 31915 samples\n",
      "Epoch 1/5\n",
      "  6784/127656 [>.............................] - ETA: 3:26 - loss: 0.3583 - acc: 0.9027127656/127656 [==============================] - 221s 2ms/step - loss: 0.1434 - acc: 0.9501 - val_loss: 0.0932 - val_acc: 0.9648\n",
      "Epoch 2/5\n",
      "  9984/127656 [=>............................] - ETA: 3:15 - loss: 0.0827 - acc: 0.9684127656/127656 [==============================] - 222s 2ms/step - loss: 0.0828 - acc: 0.9692 - val_loss: 0.1008 - val_acc: 0.9615\n",
      "Epoch 3/5\n",
      " 11264/127656 [=>............................] - ETA: 3:14 - loss: 0.0511 - acc: 0.9809127656/127656 [==============================] - 227s 2ms/step - loss: 0.0593 - acc: 0.9777 - val_loss: 0.1176 - val_acc: 0.9621\n",
      "Epoch 4/5\n",
      " 11776/127656 [=>............................] - ETA: 3:14 - loss: 0.0324 - acc: 0.9897127656/127656 [==============================] - 223s 2ms/step - loss: 0.0362 - acc: 0.9869 - val_loss: 0.1458 - val_acc: 0.9585\n",
      "Epoch 5/5\n",
      " 11904/127656 [=>............................] - ETA: 3:14 - loss: 0.0195 - acc: 0.9934127656/127656 [==============================] - 223s 2ms/step - loss: 0.0230 - acc: 0.9920 - val_loss: 0.1640 - val_acc: 0.9564\n"
     ]
    }
   ],
   "source": [
    "# create the model\n",
    "model = create_cnn_gru()\n",
    "# train the model\n",
    "model_history = model.fit(X_train, y_train, validation_data=(X_test, y_test), \n",
    "                          epochs=epochs, batch_size=batch_size)"
   ]
  },
  {
   "cell_type": "code",
   "execution_count": 59,
   "metadata": {
    "colab": {
     "autoexec": {
      "startup": false,
      "wait_interval": 0
     },
     "base_uri": "https://localhost:8080/",
     "height": 349,
     "output_extras": [
      {
       "item_id": 1
      }
     ]
    },
    "colab_type": "code",
    "executionInfo": {
     "elapsed": 808,
     "status": "ok",
     "timestamp": 1521665488377,
     "user": {
      "displayName": "Houk Paek",
      "photoUrl": "https://lh3.googleusercontent.com/a/default-user=s128",
      "userId": "113855001944690852319"
     },
     "user_tz": 420
    },
    "id": "Yhdj49y6r47x",
    "outputId": "4901ead2-fa34-4b34-e33a-ef86b96c21be"
   },
   "outputs": [
    {
     "data": {
      "image/png": "[encoded data removed]",
      "text/plain": [
       "<matplotlib.figure.Figure at 0x7f2e74b983c8>"
      ]
     },
     "metadata": {
      "tags": []
     },
     "output_type": "display_data"
    }
   ],
   "source": [
    "plot_model_history(model_history)"
   ]
  },
  {
   "cell_type": "code",
   "execution_count": 60,
   "metadata": {
    "colab": {
     "autoexec": {
      "startup": false,
      "wait_interval": 0
     },
     "base_uri": "https://localhost:8080/",
     "height": 376,
     "output_extras": [
      {
       "item_id": 1
      },
      {
       "item_id": 2
      }
     ]
    },
    "colab_type": "code",
    "executionInfo": {
     "elapsed": 10316,
     "status": "ok",
     "timestamp": 1521665498722,
     "user": {
      "displayName": "Houk Paek",
      "photoUrl": "https://lh3.googleusercontent.com/a/default-user=s128",
      "userId": "113855001944690852319"
     },
     "user_tz": 420
    },
    "id": "ztXAqAZHr9VH",
    "outputId": "f6115f45-9ade-49b2-dd5e-3f1cf1224e12"
   },
   "outputs": [
    {
     "name": "stdout",
     "output_type": "stream",
     "text": [
      "Accuracy:\t95.6%\n",
      "roc auc:\t0.866\n",
      "\n",
      "\n",
      "             precision    recall  f1-score   support\n",
      "\n",
      "          0       0.97      0.98      0.98     28856\n",
      "          1       0.78      0.75      0.77      3059\n",
      "\n",
      "avg / total       0.96      0.96      0.96     31915\n",
      "\n"
     ]
    },
    {
     "data": {
      "image/png": "[encoded data removed]",
      "text/plain": [
       "<matplotlib.figure.Figure at 0x7f2e6f89f2e8>"
      ]
     },
     "metadata": {
      "tags": []
     },
     "output_type": "display_data"
    }
   ],
   "source": [
    "model_evaluate()"
   ]
  },
  {
   "cell_type": "markdown",
   "metadata": {
    "colab_type": "text",
    "id": "aupBrzbQGoRI"
   },
   "source": [
    "# 6. CNN + RNN(LSTM)"
   ]
  },
  {
   "cell_type": "code",
   "execution_count": 0,
   "metadata": {
    "colab": {
     "autoexec": {
      "startup": false,
      "wait_interval": 0
     }
    },
    "colab_type": "code",
    "collapsed": true,
    "id": "pVTVO06vGoRJ"
   },
   "outputs": [],
   "source": [
    "def create_cnn_rnn():\n",
    "    np.random.seed(seed)\n",
    "    K.clear_session()\n",
    "    model = Sequential()\n",
    "    model.add(Embedding(max_features, 128, input_length=X_train.shape[1]))\n",
    "    model.add(Dropout(0.2))\n",
    "    model.add(Conv1D(filters=32, kernel_size=3, padding='same', activation='relu'))\n",
    "    model.add(MaxPooling1D(pool_size=2))\n",
    "    model.add(Conv1D(filters=32, kernel_size=3, padding='same', activation='relu'))\n",
    "    model.add(MaxPooling1D(pool_size=2))\n",
    "    model.add(LSTM(50, dropout=0.2, recurrent_dropout=0.2))\n",
    "    model.add(Dense(50, activation='relu'))\n",
    "    model.add(Dropout(0.2))\n",
    "    model.add(Dense(1, activation='sigmoid'))\n",
    "    model.compile(loss='binary_crossentropy', optimizer='adam', metrics=['accuracy'])\n",
    "    print(model.summary())\n",
    "    return model"
   ]
  },
  {
   "cell_type": "code",
   "execution_count": 66,
   "metadata": {
    "colab": {
     "autoexec": {
      "startup": false,
      "wait_interval": 0
     },
     "base_uri": "https://localhost:8080/",
     "height": 700,
     "output_extras": [
      {
       "item_id": 39
      },
      {
       "item_id": 586
      },
      {
       "item_id": 1289
      },
      {
       "item_id": 1573
      },
      {
       "item_id": 1884
      },
      {
       "item_id": 2730
      }
     ]
    },
    "colab_type": "code",
    "executionInfo": {
     "elapsed": 1250649,
     "status": "ok",
     "timestamp": 1521669486720,
     "user": {
      "displayName": "Houk Paek",
      "photoUrl": "https://lh3.googleusercontent.com/a/default-user=s128",
      "userId": "113855001944690852319"
     },
     "user_tz": 420
    },
    "id": "UTchVUUxGoRO",
    "outputId": "3698467c-20b3-44e6-bf66-bdbce87ae060"
   },
   "outputs": [
    {
     "name": "stdout",
     "output_type": "stream",
     "text": [
      "_________________________________________________________________\n",
      "Layer (type)                 Output Shape              Param #   \n",
      "=================================================================\n",
      "embedding_1 (Embedding)      (None, 200, 128)          2560000   \n",
      "_________________________________________________________________\n",
      "dropout_1 (Dropout)          (None, 200, 128)          0         \n",
      "_________________________________________________________________\n",
      "conv1d_1 (Conv1D)            (None, 200, 32)           12320     \n",
      "_________________________________________________________________\n",
      "max_pooling1d_1 (MaxPooling1 (None, 100, 32)           0         \n",
      "_________________________________________________________________\n",
      "conv1d_2 (Conv1D)            (None, 100, 32)           3104      \n",
      "_________________________________________________________________\n",
      "max_pooling1d_2 (MaxPooling1 (None, 50, 32)            0         \n",
      "_________________________________________________________________\n",
      "lstm_1 (LSTM)                (None, 50)                16600     \n",
      "_________________________________________________________________\n",
      "dense_1 (Dense)              (None, 50)                2550      \n",
      "_________________________________________________________________\n",
      "dropout_2 (Dropout)          (None, 50)                0         \n",
      "_________________________________________________________________\n",
      "dense_2 (Dense)              (None, 1)                 51        \n",
      "=================================================================\n",
      "Total params: 2,594,625\n",
      "Trainable params: 2,594,625\n",
      "Non-trainable params: 0\n",
      "_________________________________________________________________\n",
      "None\n",
      "Train on 127656 samples, validate on 31915 samples\n",
      "Epoch 1/5\n",
      "  6784/127656 [>.............................] - ETA: 4:06 - loss: 0.3984 - acc: 0.8930127656/127656 [==============================] - 252s 2ms/step - loss: 0.1513 - acc: 0.9488 - val_loss: 0.1003 - val_acc: 0.9642\n",
      "Epoch 2/5\n",
      "  9984/127656 [=>............................] - ETA: 3:33 - loss: 0.0848 - acc: 0.9677127656/127656 [==============================] - 243s 2ms/step - loss: 0.0890 - acc: 0.9670 - val_loss: 0.0995 - val_acc: 0.9651\n",
      "Epoch 3/5\n",
      " 11264/127656 [=>............................] - ETA: 3:34 - loss: 0.0653 - acc: 0.9768127656/127656 [==============================] - 247s 2ms/step - loss: 0.0698 - acc: 0.9735 - val_loss: 0.1125 - val_acc: 0.9645\n",
      "Epoch 4/5\n",
      " 11776/127656 [=>............................] - ETA: 3:36 - loss: 0.0478 - acc: 0.9828127656/127656 [==============================] - 253s 2ms/step - loss: 0.0517 - acc: 0.9804 - val_loss: 0.1445 - val_acc: 0.9631\n",
      "Epoch 5/5\n",
      " 11904/127656 [=>............................] - ETA: 3:40 - loss: 0.0349 - acc: 0.9866127656/127656 [==============================] - 253s 2ms/step - loss: 0.0377 - acc: 0.9860 - val_loss: 0.1414 - val_acc: 0.9585\n"
     ]
    }
   ],
   "source": [
    "# create the model\n",
    "model = create_cnn_rnn()\n",
    "# train the model\n",
    "model_history = model.fit(X_train, y_train, validation_data=(X_test, y_test), \n",
    "                          epochs=epochs, batch_size=batch_size)"
   ]
  },
  {
   "cell_type": "code",
   "execution_count": 67,
   "metadata": {
    "colab": {
     "autoexec": {
      "startup": false,
      "wait_interval": 0
     },
     "base_uri": "https://localhost:8080/",
     "height": 369,
     "output_extras": [
      {
       "item_id": 1
      }
     ]
    },
    "colab_type": "code",
    "executionInfo": {
     "elapsed": 1079,
     "status": "ok",
     "timestamp": 1521669487811,
     "user": {
      "displayName": "Houk Paek",
      "photoUrl": "https://lh3.googleusercontent.com/a/default-user=s128",
      "userId": "113855001944690852319"
     },
     "user_tz": 420
    },
    "id": "rLEXDZTzGoRY",
    "outputId": "2237b43f-b88c-455b-e201-b16a2cf61bca"
   },
   "outputs": [
    {
     "data": {
      "image/png": "[encoded data removed]",
      "text/plain": [
       "<matplotlib.figure.Figure at 0x7f2e71af6710>"
      ]
     },
     "metadata": {
      "tags": []
     },
     "output_type": "display_data"
    }
   ],
   "source": [
    "plot_model_history(model_history)"
   ]
  },
  {
   "cell_type": "code",
   "execution_count": 68,
   "metadata": {
    "colab": {
     "autoexec": {
      "startup": false,
      "wait_interval": 0
     },
     "base_uri": "https://localhost:8080/",
     "height": 376,
     "output_extras": [
      {
       "item_id": 1
      },
      {
       "item_id": 2
      }
     ]
    },
    "colab_type": "code",
    "executionInfo": {
     "elapsed": 11507,
     "status": "ok",
     "timestamp": 1521669499560,
     "user": {
      "displayName": "Houk Paek",
      "photoUrl": "https://lh3.googleusercontent.com/a/default-user=s128",
      "userId": "113855001944690852319"
     },
     "user_tz": 420
    },
    "id": "O_FFVtGAGoRd",
    "outputId": "95e40d21-9a12-45ce-de22-d4b4c52888be"
   },
   "outputs": [
    {
     "name": "stdout",
     "output_type": "stream",
     "text": [
      "Accuracy:\t95.9%\n",
      "roc auc:\t0.877\n",
      "\n",
      "\n",
      "             precision    recall  f1-score   support\n",
      "\n",
      "          0       0.98      0.98      0.98     28856\n",
      "          1       0.79      0.78      0.78      3059\n",
      "\n",
      "avg / total       0.96      0.96      0.96     31915\n",
      "\n"
     ]
    },
    {
     "data": {
      "image/png": "[encoded data removed]",
      "text/plain": [
       "<matplotlib.figure.Figure at 0x7f2e71a4c6a0>"
      ]
     },
     "metadata": {
      "tags": []
     },
     "output_type": "display_data"
    }
   ],
   "source": [
    "model_evaluate()"
   ]
  }
 ],
 "metadata": {
  "colab": {
   "default_view": {},
   "name": "NLP_BinClass_keras_kaggle_toxic_comments_colab_v01.ipynb",
   "provenance": [],
   "version": "0.3.2",
   "views": {}
  },
  "kernelspec": {
   "display_name": "Python 3",
   "language": "python",
   "name": "python3"
  },
  "language_info": {
   "codemirror_mode": {
    "name": "ipython",
    "version": 3
   },
   "file_extension": ".py",
   "mimetype": "text/x-python",
   "name": "python",
   "nbconvert_exporter": "python",
   "pygments_lexer": "ipython3",
   "version": "3.6.3"
  }
 },
 "nbformat": 4,
 "nbformat_minor": 1
}
