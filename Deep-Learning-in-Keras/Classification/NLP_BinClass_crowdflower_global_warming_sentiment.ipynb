{
 "cells": [
  {
   "cell_type": "markdown",
   "metadata": {},
   "source": [
    "## NLP & Binary Classification: Twitter Global Warming sentiment data\n",
    "https://www.crowdflower.com/data-for-everyone/\n",
    "\n",
    "** Dataset Information: **\n",
    "\n",
    "- 6090 tweets for belief in the existence of global warming or climate change. “Yes” if the tweet suggests global warming is occurring, “No” if not occurring. \n",
    "\n",
    "** Attribute Information:**\n",
    "\n",
    "- tweet                   \n",
    "- existence             \n",
    "- existence.confidence                   \n",
    "\n",
    "** Objective of this project **\n",
    "\n",
    "predict global warming sentiment (Yes or no) from tweets"
   ]
  },
  {
   "cell_type": "markdown",
   "metadata": {},
   "source": [
    "# Data"
   ]
  },
  {
   "cell_type": "code",
   "execution_count": 1,
   "metadata": {
    "collapsed": true
   },
   "outputs": [],
   "source": [
    "# Load libraries\n",
    "import numpy as np\n",
    "import pandas as pd\n",
    "import matplotlib.pyplot as plt\n",
    "import seaborn as sns\n",
    "%matplotlib inline"
   ]
  },
  {
   "cell_type": "code",
   "execution_count": 2,
   "metadata": {},
   "outputs": [
    {
     "data": {
      "text/html": [
       "<div>\n",
       "<style>\n",
       "    .dataframe thead tr:only-child th {\n",
       "        text-align: right;\n",
       "    }\n",
       "\n",
       "    .dataframe thead th {\n",
       "        text-align: left;\n",
       "    }\n",
       "\n",
       "    .dataframe tbody tr th {\n",
       "        vertical-align: top;\n",
       "    }\n",
       "</style>\n",
       "<table border=\"1\" class=\"dataframe\">\n",
       "  <thead>\n",
       "    <tr style=\"text-align: right;\">\n",
       "      <th></th>\n",
       "      <th>tweet</th>\n",
       "      <th>existence</th>\n",
       "      <th>existence.confidence</th>\n",
       "    </tr>\n",
       "  </thead>\n",
       "  <tbody>\n",
       "    <tr>\n",
       "      <th>0</th>\n",
       "      <td>Global warming report urges governments to act|BRUSSELS, Belgium (AP) - The world faces increased hunger and .. [link]</td>\n",
       "      <td>Yes</td>\n",
       "      <td>1.0000</td>\n",
       "    </tr>\n",
       "    <tr>\n",
       "      <th>1</th>\n",
       "      <td>Fighting poverty and global warming in Africa [link]</td>\n",
       "      <td>Yes</td>\n",
       "      <td>1.0000</td>\n",
       "    </tr>\n",
       "    <tr>\n",
       "      <th>2</th>\n",
       "      <td>Carbon offsets: How a Vatican forest failed to reduce global warming [link]</td>\n",
       "      <td>Yes</td>\n",
       "      <td>0.8786</td>\n",
       "    </tr>\n",
       "    <tr>\n",
       "      <th>3</th>\n",
       "      <td>Carbon offsets: How a Vatican forest failed to reduce global warming [link]</td>\n",
       "      <td>Yes</td>\n",
       "      <td>1.0000</td>\n",
       "    </tr>\n",
       "    <tr>\n",
       "      <th>4</th>\n",
       "      <td>URUGUAY: Tools Needed for Those Most Vulnerable to Climate Change [link]</td>\n",
       "      <td>Yes</td>\n",
       "      <td>0.8087</td>\n",
       "    </tr>\n",
       "  </tbody>\n",
       "</table>\n",
       "</div>"
      ],
      "text/plain": [
       "                                                                                                                    tweet  \\\n",
       "0  Global warming report urges governments to act|BRUSSELS, Belgium (AP) - The world faces increased hunger and .. [link]   \n",
       "1  Fighting poverty and global warming in Africa [link]                                                                     \n",
       "2  Carbon offsets: How a Vatican forest failed to reduce global warming [link]                                              \n",
       "3  Carbon offsets: How a Vatican forest failed to reduce global warming [link]                                              \n",
       "4  URUGUAY: Tools Needed for Those Most Vulnerable to Climate Change [link]                                                 \n",
       "\n",
       "  existence  existence.confidence  \n",
       "0  Yes       1.0000                \n",
       "1  Yes       1.0000                \n",
       "2  Yes       0.8786                \n",
       "3  Yes       1.0000                \n",
       "4  Yes       0.8087                "
      ]
     },
     "execution_count": 2,
     "metadata": {},
     "output_type": "execute_result"
    }
   ],
   "source": [
    "# Load Data\n",
    "df = pd.read_csv('1377884570_tweet_global_warming.csv', encoding='latin')\n",
    "pd.set_option('display.max_colwidth', -1)\n",
    "df.head()"
   ]
  },
  {
   "cell_type": "code",
   "execution_count": 3,
   "metadata": {},
   "outputs": [
    {
     "data": {
      "text/html": [
       "<div>\n",
       "<style>\n",
       "    .dataframe thead tr:only-child th {\n",
       "        text-align: right;\n",
       "    }\n",
       "\n",
       "    .dataframe thead th {\n",
       "        text-align: left;\n",
       "    }\n",
       "\n",
       "    .dataframe tbody tr th {\n",
       "        vertical-align: top;\n",
       "    }\n",
       "</style>\n",
       "<table border=\"1\" class=\"dataframe\">\n",
       "  <thead>\n",
       "    <tr style=\"text-align: right;\">\n",
       "      <th></th>\n",
       "      <th>tweet</th>\n",
       "      <th>existence</th>\n",
       "      <th>existence.confidence</th>\n",
       "    </tr>\n",
       "  </thead>\n",
       "  <tbody>\n",
       "    <tr>\n",
       "      <th>6085</th>\n",
       "      <td>@bloodless_coup \"The phrase 'global warming' should be abandoned in favor of 'climate change', Luntz says,\" http://bit.ly/7bIY0c #p2 #tcot</td>\n",
       "      <td>Y</td>\n",
       "      <td>1.0000</td>\n",
       "    </tr>\n",
       "    <tr>\n",
       "      <th>6086</th>\n",
       "      <td>Virginia to Investigate Global Warming Scientist Mann:  http://bit.ly/aDlavg</td>\n",
       "      <td>NaN</td>\n",
       "      <td>1.0000</td>\n",
       "    </tr>\n",
       "    <tr>\n",
       "      <th>6087</th>\n",
       "      <td>Global warming you tube parody you will enjoy #IPCC #ocra http://bit.ly/bBGWhC</td>\n",
       "      <td>N</td>\n",
       "      <td>0.6411</td>\n",
       "    </tr>\n",
       "    <tr>\n",
       "      <th>6088</th>\n",
       "      <td>One-Eyed Golfer: Don't dare tell me about global warming: Twenty-five of the forty-nine golfers making the cut thi... http://bit.ly/akeAxp</td>\n",
       "      <td>N</td>\n",
       "      <td>1.0000</td>\n",
       "    </tr>\n",
       "    <tr>\n",
       "      <th>6089</th>\n",
       "      <td>man made global warming a hair brained theory 4 the scientifically challenged the IPPC has nothing to back up claims #tcot #p2 #climategate</td>\n",
       "      <td>N</td>\n",
       "      <td>1.0000</td>\n",
       "    </tr>\n",
       "  </tbody>\n",
       "</table>\n",
       "</div>"
      ],
      "text/plain": [
       "                                                                                                                                            tweet  \\\n",
       "6085  @bloodless_coup \"The phrase 'global warming' should be abandoned in favor of 'climate change', Luntz says,\" http://bit.ly/7bIY0c #p2 #tcot    \n",
       "6086  Virginia to Investigate Global Warming Scientist Mann:  http://bit.ly/aDlavg                                                                  \n",
       "6087  Global warming you tube parody you will enjoy #IPCC #ocra http://bit.ly/bBGWhC                                                                \n",
       "6088  One-Eyed Golfer: Don't dare tell me about global warming: Twenty-five of the forty-nine golfers making the cut thi... http://bit.ly/akeAxp    \n",
       "6089  man made global warming a hair brained theory 4 the scientifically challenged the IPPC has nothing to back up claims #tcot #p2 #climategate   \n",
       "\n",
       "     existence  existence.confidence  \n",
       "6085  Y         1.0000                \n",
       "6086  NaN       1.0000                \n",
       "6087  N         0.6411                \n",
       "6088  N         1.0000                \n",
       "6089  N         1.0000                "
      ]
     },
     "execution_count": 3,
     "metadata": {},
     "output_type": "execute_result"
    }
   ],
   "source": [
    "df.tail()"
   ]
  },
  {
   "cell_type": "code",
   "execution_count": 4,
   "metadata": {},
   "outputs": [
    {
     "name": "stdout",
     "output_type": "stream",
     "text": [
      "<class 'pandas.core.frame.DataFrame'>\n",
      "RangeIndex: 6090 entries, 0 to 6089\n",
      "Data columns (total 3 columns):\n",
      "tweet                   6090 non-null object\n",
      "existence               4225 non-null object\n",
      "existence.confidence    6087 non-null float64\n",
      "dtypes: float64(1), object(2)\n",
      "memory usage: 142.8+ KB\n"
     ]
    }
   ],
   "source": [
    "df.info()"
   ]
  },
  {
   "cell_type": "code",
   "execution_count": 5,
   "metadata": {},
   "outputs": [
    {
     "data": {
      "text/html": [
       "<div>\n",
       "<style>\n",
       "    .dataframe thead tr:only-child th {\n",
       "        text-align: right;\n",
       "    }\n",
       "\n",
       "    .dataframe thead th {\n",
       "        text-align: left;\n",
       "    }\n",
       "\n",
       "    .dataframe tbody tr th {\n",
       "        vertical-align: top;\n",
       "    }\n",
       "</style>\n",
       "<table border=\"1\" class=\"dataframe\">\n",
       "  <thead>\n",
       "    <tr style=\"text-align: right;\">\n",
       "      <th></th>\n",
       "      <th>existence.confidence</th>\n",
       "    </tr>\n",
       "  </thead>\n",
       "  <tbody>\n",
       "    <tr>\n",
       "      <th>count</th>\n",
       "      <td>6087.000000</td>\n",
       "    </tr>\n",
       "    <tr>\n",
       "      <th>mean</th>\n",
       "      <td>0.794478</td>\n",
       "    </tr>\n",
       "    <tr>\n",
       "      <th>std</th>\n",
       "      <td>0.180054</td>\n",
       "    </tr>\n",
       "    <tr>\n",
       "      <th>min</th>\n",
       "      <td>0.334600</td>\n",
       "    </tr>\n",
       "    <tr>\n",
       "      <th>25%</th>\n",
       "      <td>0.658500</td>\n",
       "    </tr>\n",
       "    <tr>\n",
       "      <th>50%</th>\n",
       "      <td>0.707600</td>\n",
       "    </tr>\n",
       "    <tr>\n",
       "      <th>75%</th>\n",
       "      <td>1.000000</td>\n",
       "    </tr>\n",
       "    <tr>\n",
       "      <th>max</th>\n",
       "      <td>1.000000</td>\n",
       "    </tr>\n",
       "  </tbody>\n",
       "</table>\n",
       "</div>"
      ],
      "text/plain": [
       "       existence.confidence\n",
       "count  6087.000000         \n",
       "mean   0.794478            \n",
       "std    0.180054            \n",
       "min    0.334600            \n",
       "25%    0.658500            \n",
       "50%    0.707600            \n",
       "75%    1.000000            \n",
       "max    1.000000            "
      ]
     },
     "execution_count": 5,
     "metadata": {},
     "output_type": "execute_result"
    }
   ],
   "source": [
    "df.describe()"
   ]
  },
  {
   "cell_type": "markdown",
   "metadata": {},
   "source": [
    "# Exploratory Data Analysis"
   ]
  },
  {
   "cell_type": "code",
   "execution_count": 6,
   "metadata": {},
   "outputs": [
    {
     "data": {
      "text/plain": [
       "<matplotlib.axes._subplots.AxesSubplot at 0x1f2d5d22eb8>"
      ]
     },
     "execution_count": 6,
     "metadata": {},
     "output_type": "execute_result"
    },
    {
     "data": {
      "image/png": "[encoded data removed]",
      "text/plain": [
       "<matplotlib.figure.Figure at 0x1f2d5d22b70>"
      ]
     },
     "metadata": {},
     "output_type": "display_data"
    }
   ],
   "source": [
    "# missing data\n",
    "sns.heatmap(df.isnull(),yticklabels=False,cbar=False,cmap='viridis')"
   ]
  },
  {
   "cell_type": "code",
   "execution_count": 7,
   "metadata": {},
   "outputs": [
    {
     "data": {
      "text/html": [
       "<div>\n",
       "<style>\n",
       "    .dataframe thead tr:only-child th {\n",
       "        text-align: right;\n",
       "    }\n",
       "\n",
       "    .dataframe thead th {\n",
       "        text-align: left;\n",
       "    }\n",
       "\n",
       "    .dataframe tbody tr th {\n",
       "        vertical-align: top;\n",
       "    }\n",
       "</style>\n",
       "<table border=\"1\" class=\"dataframe\">\n",
       "  <thead>\n",
       "    <tr style=\"text-align: right;\">\n",
       "      <th></th>\n",
       "      <th>tweet</th>\n",
       "      <th>existence</th>\n",
       "      <th>existence.confidence</th>\n",
       "    </tr>\n",
       "  </thead>\n",
       "  <tbody>\n",
       "    <tr>\n",
       "      <th>14</th>\n",
       "      <td>Spring storm season starting a little late this year???  Must be global warming!</td>\n",
       "      <td>NaN</td>\n",
       "      <td>1.0000</td>\n",
       "    </tr>\n",
       "    <tr>\n",
       "      <th>34</th>\n",
       "      <td>I truly  Fat ASS Gore should get the Scam Artist Award of the decade with his Global Warming and Energy Credits worth close to Billion.</td>\n",
       "      <td>NaN</td>\n",
       "      <td>NaN</td>\n",
       "    </tr>\n",
       "    <tr>\n",
       "      <th>40</th>\n",
       "      <td>Air ban led by flawed computer models. Global warming come to mind? [link]</td>\n",
       "      <td>NaN</td>\n",
       "      <td>NaN</td>\n",
       "    </tr>\n",
       "    <tr>\n",
       "      <th>47</th>\n",
       "      <td>Despite Climategate, LEFT investing heavily in global warming hysteria as new way 2 impose nat'l &amp; international controls on human freedom.</td>\n",
       "      <td>NaN</td>\n",
       "      <td>NaN</td>\n",
       "    </tr>\n",
       "    <tr>\n",
       "      <th>48</th>\n",
       "      <td>Global warming you tube explanation you will enjoy #IPCC #teaparty [link]</td>\n",
       "      <td>NaN</td>\n",
       "      <td>0.8485</td>\n",
       "    </tr>\n",
       "  </tbody>\n",
       "</table>\n",
       "</div>"
      ],
      "text/plain": [
       "                                                                                                                                          tweet  \\\n",
       "14  Spring storm season starting a little late this year???  Must be global warming!                                                              \n",
       "34  I truly  Fat ASS Gore should get the Scam Artist Award of the decade with his Global Warming and Energy Credits worth close to Billion.       \n",
       "40  Air ban led by flawed computer models. Global warming come to mind? [link]                                                                    \n",
       "47  Despite Climategate, LEFT investing heavily in global warming hysteria as new way 2 impose nat'l & international controls on human freedom.   \n",
       "48  Global warming you tube explanation you will enjoy #IPCC #teaparty [link]                                                                     \n",
       "\n",
       "   existence  existence.confidence  \n",
       "14  NaN       1.0000                \n",
       "34  NaN      NaN                    \n",
       "40  NaN      NaN                    \n",
       "47  NaN      NaN                    \n",
       "48  NaN       0.8485                "
      ]
     },
     "execution_count": 7,
     "metadata": {},
     "output_type": "execute_result"
    }
   ],
   "source": [
    "df[df['existence'].isnull()].head()"
   ]
  },
  {
   "cell_type": "code",
   "execution_count": 8,
   "metadata": {},
   "outputs": [
    {
     "name": "stdout",
     "output_type": "stream",
     "text": [
      "<class 'pandas.core.frame.DataFrame'>\n",
      "RangeIndex: 4225 entries, 0 to 4224\n",
      "Data columns (total 4 columns):\n",
      "index                   4225 non-null int64\n",
      "tweet                   4225 non-null object\n",
      "existence               4225 non-null object\n",
      "existence.confidence    4225 non-null float64\n",
      "dtypes: float64(1), int64(1), object(2)\n",
      "memory usage: 132.1+ KB\n"
     ]
    }
   ],
   "source": [
    "df.dropna(inplace=True)\n",
    "df.reset_index(inplace=True)\n",
    "df.info()"
   ]
  },
  {
   "cell_type": "code",
   "execution_count": 9,
   "metadata": {},
   "outputs": [
    {
     "data": {
      "text/plain": [
       "Y      2554\n",
       "N      1053\n",
       "Yes    557 \n",
       "No     61  \n",
       "Name: existence, dtype: int64"
      ]
     },
     "execution_count": 9,
     "metadata": {},
     "output_type": "execute_result"
    },
    {
     "data": {
      "image/png": "[encoded data removed]",
      "text/plain": [
       "<matplotlib.figure.Figure at 0x1f2d53b0b70>"
      ]
     },
     "metadata": {},
     "output_type": "display_data"
    }
   ],
   "source": [
    "# inspect sentiment\n",
    "sns.countplot(df['existence'])\n",
    "df['existence'].value_counts() #imbalanced"
   ]
  },
  {
   "cell_type": "code",
   "execution_count": 10,
   "metadata": {},
   "outputs": [
    {
     "data": {
      "text/html": [
       "<div>\n",
       "<style>\n",
       "    .dataframe thead tr:only-child th {\n",
       "        text-align: right;\n",
       "    }\n",
       "\n",
       "    .dataframe thead th {\n",
       "        text-align: left;\n",
       "    }\n",
       "\n",
       "    .dataframe tbody tr th {\n",
       "        vertical-align: top;\n",
       "    }\n",
       "</style>\n",
       "<table border=\"1\" class=\"dataframe\">\n",
       "  <thead>\n",
       "    <tr style=\"text-align: right;\">\n",
       "      <th></th>\n",
       "      <th>existence</th>\n",
       "      <th>class</th>\n",
       "    </tr>\n",
       "  </thead>\n",
       "  <tbody>\n",
       "    <tr>\n",
       "      <th>4220</th>\n",
       "      <td>Y</td>\n",
       "      <td>1</td>\n",
       "    </tr>\n",
       "    <tr>\n",
       "      <th>4221</th>\n",
       "      <td>Y</td>\n",
       "      <td>1</td>\n",
       "    </tr>\n",
       "    <tr>\n",
       "      <th>4222</th>\n",
       "      <td>N</td>\n",
       "      <td>0</td>\n",
       "    </tr>\n",
       "    <tr>\n",
       "      <th>4223</th>\n",
       "      <td>N</td>\n",
       "      <td>0</td>\n",
       "    </tr>\n",
       "    <tr>\n",
       "      <th>4224</th>\n",
       "      <td>N</td>\n",
       "      <td>0</td>\n",
       "    </tr>\n",
       "  </tbody>\n",
       "</table>\n",
       "</div>"
      ],
      "text/plain": [
       "     existence  class\n",
       "4220  Y         1    \n",
       "4221  Y         1    \n",
       "4222  N         0    \n",
       "4223  N         0    \n",
       "4224  N         0    "
      ]
     },
     "execution_count": 10,
     "metadata": {},
     "output_type": "execute_result"
    }
   ],
   "source": [
    "# create new 'class' column\n",
    "dict_class = {'Y':1, 'Yes':1, 'No':0, 'N':0}\n",
    "df['class'] = df['existence'].map(dict_class)\n",
    "df[['existence','class']].tail()"
   ]
  },
  {
   "cell_type": "code",
   "execution_count": 11,
   "metadata": {},
   "outputs": [
    {
     "data": {
      "text/plain": [
       "1    3111\n",
       "0    1114\n",
       "Name: class, dtype: int64"
      ]
     },
     "execution_count": 11,
     "metadata": {},
     "output_type": "execute_result"
    },
    {
     "data": {
      "image/png": "[encoded data removed]",
      "text/plain": [
       "<matplotlib.figure.Figure at 0x1f2d5d22320>"
      ]
     },
     "metadata": {},
     "output_type": "display_data"
    }
   ],
   "source": [
    "sns.countplot(df['class'])\n",
    "df['class'].value_counts()"
   ]
  },
  {
   "cell_type": "code",
   "execution_count": 12,
   "metadata": {},
   "outputs": [
    {
     "data": {
      "text/html": [
       "<div>\n",
       "<style>\n",
       "    .dataframe thead tr:only-child th {\n",
       "        text-align: right;\n",
       "    }\n",
       "\n",
       "    .dataframe thead th {\n",
       "        text-align: left;\n",
       "    }\n",
       "\n",
       "    .dataframe tbody tr th {\n",
       "        vertical-align: top;\n",
       "    }\n",
       "</style>\n",
       "<table border=\"1\" class=\"dataframe\">\n",
       "  <thead>\n",
       "    <tr style=\"text-align: right;\">\n",
       "      <th></th>\n",
       "      <th>class</th>\n",
       "      <th>tweet_length</th>\n",
       "      <th>tweet</th>\n",
       "    </tr>\n",
       "  </thead>\n",
       "  <tbody>\n",
       "    <tr>\n",
       "      <th>0</th>\n",
       "      <td>1</td>\n",
       "      <td>118</td>\n",
       "      <td>Global warming report urges governments to act|BRUSSELS, Belgium (AP) - The world faces increased hunger and .. [link]</td>\n",
       "    </tr>\n",
       "    <tr>\n",
       "      <th>1</th>\n",
       "      <td>1</td>\n",
       "      <td>52</td>\n",
       "      <td>Fighting poverty and global warming in Africa [link]</td>\n",
       "    </tr>\n",
       "    <tr>\n",
       "      <th>2</th>\n",
       "      <td>1</td>\n",
       "      <td>75</td>\n",
       "      <td>Carbon offsets: How a Vatican forest failed to reduce global warming [link]</td>\n",
       "    </tr>\n",
       "    <tr>\n",
       "      <th>3</th>\n",
       "      <td>1</td>\n",
       "      <td>75</td>\n",
       "      <td>Carbon offsets: How a Vatican forest failed to reduce global warming [link]</td>\n",
       "    </tr>\n",
       "    <tr>\n",
       "      <th>4</th>\n",
       "      <td>1</td>\n",
       "      <td>72</td>\n",
       "      <td>URUGUAY: Tools Needed for Those Most Vulnerable to Climate Change [link]</td>\n",
       "    </tr>\n",
       "  </tbody>\n",
       "</table>\n",
       "</div>"
      ],
      "text/plain": [
       "   class  tweet_length  \\\n",
       "0  1      118            \n",
       "1  1      52             \n",
       "2  1      75             \n",
       "3  1      75             \n",
       "4  1      72             \n",
       "\n",
       "                                                                                                                    tweet  \n",
       "0  Global warming report urges governments to act|BRUSSELS, Belgium (AP) - The world faces increased hunger and .. [link]  \n",
       "1  Fighting poverty and global warming in Africa [link]                                                                    \n",
       "2  Carbon offsets: How a Vatican forest failed to reduce global warming [link]                                             \n",
       "3  Carbon offsets: How a Vatican forest failed to reduce global warming [link]                                             \n",
       "4  URUGUAY: Tools Needed for Those Most Vulnerable to Climate Change [link]                                                "
      ]
     },
     "execution_count": 12,
     "metadata": {},
     "output_type": "execute_result"
    }
   ],
   "source": [
    "# tweet length\n",
    "df['tweet_length'] = df['tweet'].apply(len)\n",
    "df[['class','tweet_length','tweet']].head()"
   ]
  },
  {
   "cell_type": "code",
   "execution_count": 13,
   "metadata": {},
   "outputs": [
    {
     "data": {
      "text/plain": [
       "count    4225.000000\n",
       "mean     111.799763 \n",
       "std      27.101025  \n",
       "min      21.000000  \n",
       "25%      91.000000  \n",
       "50%      120.000000 \n",
       "75%      137.000000 \n",
       "max      161.000000 \n",
       "Name: tweet_length, dtype: float64"
      ]
     },
     "execution_count": 13,
     "metadata": {},
     "output_type": "execute_result"
    }
   ],
   "source": [
    "df['tweet_length'].describe()"
   ]
  },
  {
   "cell_type": "code",
   "execution_count": 14,
   "metadata": {},
   "outputs": [
    {
     "data": {
      "text/plain": [
       "<matplotlib.axes._subplots.AxesSubplot at 0x1f2d5623f28>"
      ]
     },
     "execution_count": 14,
     "metadata": {},
     "output_type": "execute_result"
    },
    {
     "data": {
      "image/png": "[encoded data removed]",
      "text/plain": [
       "<matplotlib.figure.Figure at 0x1f2d5642780>"
      ]
     },
     "metadata": {},
     "output_type": "display_data"
    }
   ],
   "source": [
    "df['tweet_length'].hist(bins=50)"
   ]
  },
  {
   "cell_type": "code",
   "execution_count": 15,
   "metadata": {},
   "outputs": [
    {
     "data": {
      "text/plain": [
       "<seaborn.axisgrid.FacetGrid at 0x1f2d55cacc0>"
      ]
     },
     "execution_count": 15,
     "metadata": {},
     "output_type": "execute_result"
    },
    {
     "data": {
      "image/png": "[encoded data removed]",
      "text/plain": [
       "<matplotlib.figure.Figure at 0x1f2d55ca6a0>"
      ]
     },
     "metadata": {},
     "output_type": "display_data"
    }
   ],
   "source": [
    "g = sns.FacetGrid(df,col='class')\n",
    "g.map(plt.hist,'tweet_length')"
   ]
  },
  {
   "cell_type": "code",
   "execution_count": 16,
   "metadata": {},
   "outputs": [
    {
     "data": {
      "text/plain": [
       "<matplotlib.axes._subplots.AxesSubplot at 0x1f2d56239b0>"
      ]
     },
     "execution_count": 16,
     "metadata": {},
     "output_type": "execute_result"
    },
    {
     "data": {
      "image/png": "[encoded data removed]",
      "text/plain": [
       "<matplotlib.figure.Figure at 0x1f2d5948828>"
      ]
     },
     "metadata": {},
     "output_type": "display_data"
    }
   ],
   "source": [
    "sns.boxplot(x='class',y='tweet_length',data=df,palette='rainbow')"
   ]
  },
  {
   "cell_type": "markdown",
   "metadata": {},
   "source": [
    "# Data Preprocessing"
   ]
  },
  {
   "cell_type": "markdown",
   "metadata": {},
   "source": [
    "#### Clean Text"
   ]
  },
  {
   "cell_type": "code",
   "execution_count": 17,
   "metadata": {
    "collapsed": true
   },
   "outputs": [],
   "source": [
    "from nltk.corpus import stopwords\n",
    "import re\n",
    "def clean_text(s):\n",
    "    stopset = set(stopwords.words('english')+['rt','via']) #stopwords\n",
    "    s = re.sub('\\[link]', '', s) #remove '[link]'\n",
    "    s = re.sub(r'http\\S+', '', s) #remove urls\n",
    "    return ' '.join(filter(lambda word: word not in stopset, s.split()))\n",
    "\n",
    "df['clean_text'] = df['tweet'].apply(clean_text)"
   ]
  },
  {
   "cell_type": "code",
   "execution_count": 18,
   "metadata": {
    "collapsed": true
   },
   "outputs": [],
   "source": [
    "X = df['clean_text']\n",
    "y = df['class'].values"
   ]
  },
  {
   "cell_type": "markdown",
   "metadata": {},
   "source": [
    "#### Spilt Train Test sets"
   ]
  },
  {
   "cell_type": "code",
   "execution_count": 19,
   "metadata": {
    "collapsed": true
   },
   "outputs": [],
   "source": [
    "# fix random seed for reproducibility\n",
    "seed = 101\n",
    "np.random.seed(seed)"
   ]
  },
  {
   "cell_type": "code",
   "execution_count": 20,
   "metadata": {},
   "outputs": [
    {
     "name": "stdout",
     "output_type": "stream",
     "text": [
      "(3380,) (845,) (3380,) (845,)\n"
     ]
    }
   ],
   "source": [
    "from sklearn.model_selection import train_test_split\n",
    "X_train, X_test, y_train, y_test = train_test_split(X, y, \n",
    "                                                    test_size=0.2,\n",
    "                                                    stratify=y,\n",
    "                                                    random_state=seed)\n",
    "print(X_train.shape, X_test.shape, y_train.shape, y_test.shape)"
   ]
  },
  {
   "cell_type": "markdown",
   "metadata": {},
   "source": [
    "#### Tokenize text"
   ]
  },
  {
   "cell_type": "code",
   "execution_count": 21,
   "metadata": {},
   "outputs": [
    {
     "name": "stderr",
     "output_type": "stream",
     "text": [
      "Using TensorFlow backend.\n"
     ]
    }
   ],
   "source": [
    "from keras.preprocessing.text import Tokenizer\n",
    "max_features = 10000\n",
    "tokenizer = Tokenizer(num_words=max_features)\n",
    "tokenizer.fit_on_texts(list(X_train))\n",
    "X_train = tokenizer.texts_to_sequences(X_train)\n",
    "X_test = tokenizer.texts_to_sequences(X_test)"
   ]
  },
  {
   "cell_type": "code",
   "execution_count": 22,
   "metadata": {},
   "outputs": [
    {
     "data": {
      "text/plain": [
       "3380"
      ]
     },
     "execution_count": 22,
     "metadata": {},
     "output_type": "execute_result"
    }
   ],
   "source": [
    "len(X_train)\n",
    "#X_train[:10]\n",
    "#tokenizer.word_counts\n",
    "#tokenizer.word_index"
   ]
  },
  {
   "cell_type": "code",
   "execution_count": 23,
   "metadata": {
    "scrolled": true
   },
   "outputs": [
    {
     "data": {
      "image/png": "[encoded data removed]",
      "text/plain": [
       "<matplotlib.figure.Figure at 0x1f2da2baf98>"
      ]
     },
     "metadata": {},
     "output_type": "display_data"
    }
   ],
   "source": [
    "totalNumWords = [len(one_comment) for one_comment in X_train]\n",
    "plt.hist(totalNumWords,bins = 50)\n",
    "plt.show()"
   ]
  },
  {
   "cell_type": "code",
   "execution_count": 24,
   "metadata": {},
   "outputs": [
    {
     "name": "stdout",
     "output_type": "stream",
     "text": [
      "(3380, 25) (845, 25)\n"
     ]
    }
   ],
   "source": [
    "from keras.preprocessing import sequence\n",
    "max_words = max(totalNumWords)\n",
    "X_train = sequence.pad_sequences(X_train, maxlen=max_words)\n",
    "X_test = sequence.pad_sequences(X_test, maxlen=max_words)\n",
    "print(X_train.shape,X_test.shape)\n",
    "#X_train[np.argmax(totalNumWords)]"
   ]
  },
  {
   "cell_type": "markdown",
   "metadata": {},
   "source": [
    "# 1. MLP"
   ]
  },
  {
   "cell_type": "code",
   "execution_count": 25,
   "metadata": {
    "collapsed": true
   },
   "outputs": [],
   "source": [
    "from keras.models import Sequential\n",
    "from keras.layers import Dense,Flatten,Embedding,Dropout\n",
    "from keras.callbacks import EarlyStopping,ModelCheckpoint\n",
    "from sklearn.metrics import roc_auc_score,accuracy_score,confusion_matrix,classification_report\n",
    "import keras.backend as K\n",
    "\n",
    "batch_size = 32\n",
    "epochs = 100\n",
    "\n",
    "def create_nn():\n",
    "    np.random.seed(seed)\n",
    "    K.clear_session()\n",
    "    model = Sequential()\n",
    "    model.add(Embedding(max_features, 128, input_length=X_train.shape[1]))\n",
    "    model.add(Flatten())\n",
    "    model.add(Dense(200, activation='relu'))\n",
    "    model.add(Dense(100, activation='relu'))\n",
    "    model.add(Dense(20, activation='relu'))\n",
    "    model.add(Dense(1, activation='sigmoid'))\n",
    "    model.compile(loss='binary_crossentropy', optimizer='adam', metrics=['accuracy'])\n",
    "    print(model.summary())\n",
    "    return model"
   ]
  },
  {
   "cell_type": "code",
   "execution_count": 26,
   "metadata": {},
   "outputs": [
    {
     "name": "stdout",
     "output_type": "stream",
     "text": [
      "_________________________________________________________________\n",
      "Layer (type)                 Output Shape              Param #   \n",
      "=================================================================\n",
      "embedding_1 (Embedding)      (None, 25, 128)           1280000   \n",
      "_________________________________________________________________\n",
      "flatten_1 (Flatten)          (None, 3200)              0         \n",
      "_________________________________________________________________\n",
      "dense_1 (Dense)              (None, 200)               640200    \n",
      "_________________________________________________________________\n",
      "dense_2 (Dense)              (None, 100)               20100     \n",
      "_________________________________________________________________\n",
      "dense_3 (Dense)              (None, 20)                2020      \n",
      "_________________________________________________________________\n",
      "dense_4 (Dense)              (None, 1)                 21        \n",
      "=================================================================\n",
      "Total params: 1,942,341\n",
      "Trainable params: 1,942,341\n",
      "Non-trainable params: 0\n",
      "_________________________________________________________________\n",
      "None\n",
      "Train on 3380 samples, validate on 845 samples\n",
      "Epoch 1/100\n",
      "Epoch 00001: val_acc improved from -inf to 0.80828, saving model to weights_best_nn.hdf5\n",
      " - 6s - loss: 0.5147 - acc: 0.7562 - val_loss: 0.4185 - val_acc: 0.8083\n",
      "Epoch 2/100\n",
      "Epoch 00002: val_acc improved from 0.80828 to 0.81538, saving model to weights_best_nn.hdf5\n",
      " - 6s - loss: 0.1972 - acc: 0.9269 - val_loss: 0.4543 - val_acc: 0.8154\n",
      "Epoch 3/100\n",
      "Epoch 00003: val_acc improved from 0.81538 to 0.82485, saving model to weights_best_nn.hdf5\n",
      " - 6s - loss: 0.0733 - acc: 0.9769 - val_loss: 0.4336 - val_acc: 0.8249\n",
      "Epoch 4/100\n",
      "Epoch 00004: val_acc did not improve\n",
      " - 5s - loss: 0.0430 - acc: 0.9817 - val_loss: 0.5024 - val_acc: 0.8178\n",
      "Epoch 5/100\n",
      "Epoch 00005: val_acc did not improve\n",
      " - 5s - loss: 0.0280 - acc: 0.9852 - val_loss: 0.5690 - val_acc: 0.8130\n",
      "Epoch 6/100\n",
      "Epoch 00006: val_acc did not improve\n",
      " - 5s - loss: 0.0256 - acc: 0.9861 - val_loss: 0.6478 - val_acc: 0.8189\n",
      "Epoch 7/100\n",
      "Epoch 00007: val_acc did not improve\n",
      " - 5s - loss: 0.0223 - acc: 0.9867 - val_loss: 0.6833 - val_acc: 0.8166\n",
      "Epoch 8/100\n",
      "Epoch 00008: val_acc did not improve\n",
      " - 5s - loss: 0.0195 - acc: 0.9879 - val_loss: 0.7730 - val_acc: 0.8154\n",
      "Epoch 9/100\n",
      "Epoch 00009: val_acc did not improve\n",
      " - 5s - loss: 0.0207 - acc: 0.9885 - val_loss: 0.7803 - val_acc: 0.8237\n",
      "Epoch 10/100\n",
      "Epoch 00010: val_acc did not improve\n",
      " - 5s - loss: 0.0215 - acc: 0.9876 - val_loss: 0.6791 - val_acc: 0.8225\n",
      "Epoch 11/100\n",
      "Epoch 00011: val_acc did not improve\n",
      " - 5s - loss: 0.0184 - acc: 0.9893 - val_loss: 0.7575 - val_acc: 0.8213\n",
      "Epoch 12/100\n",
      "Epoch 00012: val_acc did not improve\n",
      " - 5s - loss: 0.0171 - acc: 0.9896 - val_loss: 0.7178 - val_acc: 0.8201\n",
      "Epoch 13/100\n",
      "Epoch 00013: val_acc did not improve\n",
      " - 5s - loss: 0.0162 - acc: 0.9899 - val_loss: 0.8659 - val_acc: 0.8225\n"
     ]
    }
   ],
   "source": [
    "# create the model\n",
    "model = create_nn()\n",
    "# callbacks\n",
    "file_path = 'weights_best_nn.hdf5'\n",
    "early_stop = EarlyStopping(monitor='val_acc', patience=10, verbose=0, mode='max') #'val_acc'\n",
    "checkpoint = ModelCheckpoint(file_path, monitor='val_acc', verbose=1, save_best_only=True, mode='max') #'val_acc'\n",
    "callbacks_list = [checkpoint, early_stop]\n",
    "# train the model\n",
    "model_history = model.fit(X_train, y_train, validation_data=(X_test, y_test), \n",
    "                          epochs=epochs, batch_size=batch_size,\n",
    "                          callbacks=callbacks_list, verbose=2)"
   ]
  },
  {
   "cell_type": "code",
   "execution_count": 27,
   "metadata": {
    "collapsed": true
   },
   "outputs": [],
   "source": [
    "def plot_model_history(model_history):\n",
    "    fig, axs = plt.subplots(1,2,figsize=(15,5))\n",
    "    # summarize history for accuracy\n",
    "    axs[0].plot(range(1,len(model_history.history['acc'])+1),model_history.history['acc'])\n",
    "    axs[0].plot(range(1,len(model_history.history['val_acc'])+1),model_history.history['val_acc'])\n",
    "    axs[0].set_title('Model Accuracy')\n",
    "    axs[0].set_ylabel('Accuracy')\n",
    "    axs[0].set_xlabel('Epoch')\n",
    "    axs[0].set_xticks(np.arange(1,len(model_history.history['acc'])+1),len(model_history.history['acc'])/10)\n",
    "    axs[0].legend(['train', 'val'], loc='best')\n",
    "    # summarize history for loss\n",
    "    axs[1].plot(range(1,len(model_history.history['loss'])+1),model_history.history['loss'])\n",
    "    axs[1].plot(range(1,len(model_history.history['val_loss'])+1),model_history.history['val_loss'])\n",
    "    axs[1].set_title('Model Loss')\n",
    "    axs[1].set_ylabel('Loss')\n",
    "    axs[1].set_xlabel('Epoch')\n",
    "    axs[1].set_xticks(np.arange(1,len(model_history.history['loss'])+1),len(model_history.history['loss'])/10)\n",
    "    axs[1].legend(['train', 'val'], loc='best')\n",
    "    plt.show()"
   ]
  },
  {
   "cell_type": "code",
   "execution_count": 28,
   "metadata": {},
   "outputs": [
    {
     "data": {
      "image/png": "[encoded data removed]",
      "text/plain": [
       "<matplotlib.figure.Figure at 0x1f2da4aef60>"
      ]
     },
     "metadata": {},
     "output_type": "display_data"
    }
   ],
   "source": [
    "plot_model_history(model_history)"
   ]
  },
  {
   "cell_type": "code",
   "execution_count": 29,
   "metadata": {
    "collapsed": true
   },
   "outputs": [],
   "source": [
    "def model_evaluate(file_path):\n",
    "    # predict class with test set\n",
    "    model.load_weights(file_path)\n",
    "    y_pred_test =  model.predict_classes(X_test, batch_size=batch_size, verbose=0)\n",
    "    print('Accuracy:\\t{:0.1f}%'.format(accuracy_score(y_test,y_pred_test)*100))\n",
    "    print('roc auc:\\t{:0.3f}'.format(roc_auc_score(y_test,y_pred_test)))\n",
    "\n",
    "    #classification report\n",
    "    print('\\n')\n",
    "    print(classification_report(y_test, y_pred_test))\n",
    "\n",
    "    #confusion matrix\n",
    "    confmat = confusion_matrix(y_test, y_pred_test)\n",
    "\n",
    "    fig, ax = plt.subplots(figsize=(2.5, 2.5))\n",
    "    ax.matshow(confmat, cmap=plt.cm.Blues, alpha=0.3)\n",
    "    for i in range(confmat.shape[0]):\n",
    "        for j in range(confmat.shape[1]):\n",
    "            ax.text(x=j, y=i, s=confmat[i, j], va='center', ha='center')\n",
    "    plt.xlabel('Predicted label')\n",
    "    plt.ylabel('True label')\n",
    "    plt.tight_layout()"
   ]
  },
  {
   "cell_type": "code",
   "execution_count": 30,
   "metadata": {},
   "outputs": [
    {
     "name": "stdout",
     "output_type": "stream",
     "text": [
      "Accuracy:\t82.5%\n",
      "roc auc:\t0.743\n",
      "\n",
      "\n",
      "             precision    recall  f1-score   support\n",
      "\n",
      "          0       0.71      0.57      0.63       223\n",
      "          1       0.86      0.92      0.89       622\n",
      "\n",
      "avg / total       0.82      0.82      0.82       845\n",
      "\n"
     ]
    },
    {
     "data": {
      "image/png": "[encoded data removed]",
      "text/plain": [
       "<matplotlib.figure.Figure at 0x1f2dbd6b128>"
      ]
     },
     "metadata": {},
     "output_type": "display_data"
    }
   ],
   "source": [
    "model_evaluate('weights_best_nn.hdf5')"
   ]
  },
  {
   "cell_type": "markdown",
   "metadata": {},
   "source": [
    "# 2. 1D CNN"
   ]
  },
  {
   "cell_type": "code",
   "execution_count": 31,
   "metadata": {
    "collapsed": true
   },
   "outputs": [],
   "source": [
    "from keras.layers import Conv1D,MaxPooling1D\n",
    "def create_cnn():\n",
    "    np.random.seed(seed)\n",
    "    K.clear_session()\n",
    "    model = Sequential()\n",
    "    model.add(Embedding(max_features, 128, input_length=X_train.shape[1]))\n",
    "    model.add(Conv1D(filters=32, kernel_size=3, padding='same', activation='relu'))\n",
    "    model.add(MaxPooling1D(pool_size=2))\n",
    "    model.add(Flatten())\n",
    "    model.add(Dense(20, activation='relu'))\n",
    "    model.add(Dense(1, activation='sigmoid'))\n",
    "    model.compile(loss='binary_crossentropy', optimizer='adam', metrics=['accuracy'])\n",
    "    print(model.summary())\n",
    "    return model"
   ]
  },
  {
   "cell_type": "code",
   "execution_count": 32,
   "metadata": {},
   "outputs": [
    {
     "name": "stdout",
     "output_type": "stream",
     "text": [
      "_________________________________________________________________\n",
      "Layer (type)                 Output Shape              Param #   \n",
      "=================================================================\n",
      "embedding_1 (Embedding)      (None, 25, 128)           1280000   \n",
      "_________________________________________________________________\n",
      "conv1d_1 (Conv1D)            (None, 25, 32)            12320     \n",
      "_________________________________________________________________\n",
      "max_pooling1d_1 (MaxPooling1 (None, 12, 32)            0         \n",
      "_________________________________________________________________\n",
      "flatten_1 (Flatten)          (None, 384)               0         \n",
      "_________________________________________________________________\n",
      "dense_1 (Dense)              (None, 20)                7700      \n",
      "_________________________________________________________________\n",
      "dense_2 (Dense)              (None, 1)                 21        \n",
      "=================================================================\n",
      "Total params: 1,300,041\n",
      "Trainable params: 1,300,041\n",
      "Non-trainable params: 0\n",
      "_________________________________________________________________\n",
      "None\n",
      "Train on 3380 samples, validate on 845 samples\n",
      "Epoch 1/100\n",
      "Epoch 00001: val_acc improved from -inf to 0.75266, saving model to weights_best_cnn.hdf5\n",
      " - 4s - loss: 0.5381 - acc: 0.7364 - val_loss: 0.4584 - val_acc: 0.7527\n",
      "Epoch 2/100\n",
      "Epoch 00002: val_acc improved from 0.75266 to 0.83077, saving model to weights_best_cnn.hdf5\n",
      " - 4s - loss: 0.3219 - acc: 0.8672 - val_loss: 0.3904 - val_acc: 0.8308\n",
      "Epoch 3/100\n",
      "Epoch 00003: val_acc improved from 0.83077 to 0.84497, saving model to weights_best_cnn.hdf5\n",
      " - 4s - loss: 0.1397 - acc: 0.9512 - val_loss: 0.4028 - val_acc: 0.8450\n",
      "Epoch 4/100\n",
      "Epoch 00004: val_acc did not improve\n",
      " - 4s - loss: 0.0765 - acc: 0.9746 - val_loss: 0.4760 - val_acc: 0.8438\n",
      "Epoch 5/100\n",
      "Epoch 00005: val_acc did not improve\n",
      " - 4s - loss: 0.0543 - acc: 0.9817 - val_loss: 0.5001 - val_acc: 0.8260\n",
      "Epoch 6/100\n",
      "Epoch 00006: val_acc did not improve\n",
      " - 4s - loss: 0.0482 - acc: 0.9828 - val_loss: 0.5093 - val_acc: 0.8237\n",
      "Epoch 7/100\n",
      "Epoch 00007: val_acc did not improve\n",
      " - 4s - loss: 0.0450 - acc: 0.9822 - val_loss: 0.5240 - val_acc: 0.8391\n",
      "Epoch 8/100\n",
      "Epoch 00008: val_acc did not improve\n",
      " - 4s - loss: 0.0349 - acc: 0.9846 - val_loss: 0.6167 - val_acc: 0.8402\n",
      "Epoch 9/100\n",
      "Epoch 00009: val_acc did not improve\n",
      " - 4s - loss: 0.0345 - acc: 0.9864 - val_loss: 0.5407 - val_acc: 0.8272\n",
      "Epoch 10/100\n",
      "Epoch 00010: val_acc did not improve\n",
      " - 4s - loss: 0.0328 - acc: 0.9846 - val_loss: 0.5800 - val_acc: 0.8438\n",
      "Epoch 11/100\n",
      "Epoch 00011: val_acc did not improve\n",
      " - 4s - loss: 0.0301 - acc: 0.9870 - val_loss: 0.6843 - val_acc: 0.8343\n",
      "Epoch 12/100\n",
      "Epoch 00012: val_acc did not improve\n",
      " - 4s - loss: 0.0312 - acc: 0.9861 - val_loss: 0.5536 - val_acc: 0.8308\n",
      "Epoch 13/100\n",
      "Epoch 00013: val_acc did not improve\n",
      " - 4s - loss: 0.0286 - acc: 0.9879 - val_loss: 0.5823 - val_acc: 0.8402\n"
     ]
    }
   ],
   "source": [
    "# create the model\n",
    "model = create_cnn()\n",
    "# callbacks\n",
    "file_path = 'weights_best_cnn.hdf5'\n",
    "early_stop = EarlyStopping(monitor='val_acc', patience=10, verbose=0, mode='max') #'val_acc'\n",
    "checkpoint = ModelCheckpoint(file_path, monitor='val_acc', verbose=1, save_best_only=True, mode='max') #'val_acc'\n",
    "callbacks_list = [checkpoint, early_stop]\n",
    "# train the model\n",
    "model_history = model.fit(X_train, y_train, validation_data=(X_test, y_test), \n",
    "                          epochs=epochs, batch_size=batch_size,\n",
    "                          callbacks=callbacks_list, verbose=2)"
   ]
  },
  {
   "cell_type": "code",
   "execution_count": 33,
   "metadata": {},
   "outputs": [
    {
     "data": {
      "image/png": "[encoded data removed]",
      "text/plain": [
       "<matplotlib.figure.Figure at 0x1f2dbdbf588>"
      ]
     },
     "metadata": {},
     "output_type": "display_data"
    }
   ],
   "source": [
    "plot_model_history(model_history)"
   ]
  },
  {
   "cell_type": "code",
   "execution_count": 34,
   "metadata": {},
   "outputs": [
    {
     "name": "stdout",
     "output_type": "stream",
     "text": [
      "Accuracy:\t84.5%\n",
      "roc auc:\t0.810\n",
      "\n",
      "\n",
      "             precision    recall  f1-score   support\n",
      "\n",
      "          0       0.69      0.74      0.71       223\n",
      "          1       0.90      0.88      0.89       622\n",
      "\n",
      "avg / total       0.85      0.84      0.85       845\n",
      "\n"
     ]
    },
    {
     "data": {
      "image/png": "[encoded data removed]",
      "text/plain": [
       "<matplotlib.figure.Figure at 0x1f2d6a4e160>"
      ]
     },
     "metadata": {},
     "output_type": "display_data"
    }
   ],
   "source": [
    "model_evaluate('weights_best_cnn.hdf5')"
   ]
  },
  {
   "cell_type": "markdown",
   "metadata": {},
   "source": [
    "# 3. RNN"
   ]
  },
  {
   "cell_type": "code",
   "execution_count": 35,
   "metadata": {
    "collapsed": true
   },
   "outputs": [],
   "source": [
    "from keras.layers import LSTM\n",
    "def create_rnn():\n",
    "    np.random.seed(seed)\n",
    "    K.clear_session()\n",
    "    model = Sequential()\n",
    "    model.add(Embedding(max_features, 128, input_length=X_train.shape[1]))\n",
    "    model.add(LSTM(100, dropout=0.1, recurrent_dropout=0.1))\n",
    "    model.add(Dense(20, activation='relu'))\n",
    "    model.add(Dense(1, activation='sigmoid'))\n",
    "    model.compile(loss='binary_crossentropy', optimizer='adam', metrics=['accuracy'])\n",
    "    print(model.summary())\n",
    "    return model"
   ]
  },
  {
   "cell_type": "code",
   "execution_count": 36,
   "metadata": {},
   "outputs": [
    {
     "name": "stdout",
     "output_type": "stream",
     "text": [
      "_________________________________________________________________\n",
      "Layer (type)                 Output Shape              Param #   \n",
      "=================================================================\n",
      "embedding_1 (Embedding)      (None, 25, 128)           1280000   \n",
      "_________________________________________________________________\n",
      "lstm_1 (LSTM)                (None, 100)               91600     \n",
      "_________________________________________________________________\n",
      "dense_1 (Dense)              (None, 20)                2020      \n",
      "_________________________________________________________________\n",
      "dense_2 (Dense)              (None, 1)                 21        \n",
      "=================================================================\n",
      "Total params: 1,373,641\n",
      "Trainable params: 1,373,641\n",
      "Non-trainable params: 0\n",
      "_________________________________________________________________\n",
      "None\n",
      "Train on 3380 samples, validate on 845 samples\n",
      "Epoch 1/100\n",
      "Epoch 00001: val_acc improved from -inf to 0.81538, saving model to weights_best_rnn.hdf5\n",
      " - 9s - loss: 0.5193 - acc: 0.7577 - val_loss: 0.4083 - val_acc: 0.8154\n",
      "Epoch 2/100\n",
      "Epoch 00002: val_acc improved from 0.81538 to 0.83669, saving model to weights_best_rnn.hdf5\n",
      " - 8s - loss: 0.2690 - acc: 0.8932 - val_loss: 0.3838 - val_acc: 0.8367\n",
      "Epoch 3/100\n",
      "Epoch 00003: val_acc did not improve\n",
      " - 7s - loss: 0.1354 - acc: 0.9509 - val_loss: 0.4409 - val_acc: 0.8260\n",
      "Epoch 4/100\n",
      "Epoch 00004: val_acc improved from 0.83669 to 0.83905, saving model to weights_best_rnn.hdf5\n",
      " - 7s - loss: 0.0830 - acc: 0.9710 - val_loss: 0.4989 - val_acc: 0.8391\n",
      "Epoch 5/100\n",
      "Epoch 00005: val_acc did not improve\n",
      " - 7s - loss: 0.0658 - acc: 0.9734 - val_loss: 0.5948 - val_acc: 0.8178\n",
      "Epoch 6/100\n",
      "Epoch 00006: val_acc did not improve\n",
      " - 8s - loss: 0.0473 - acc: 0.9814 - val_loss: 0.5833 - val_acc: 0.8225\n",
      "Epoch 7/100\n",
      "Epoch 00007: val_acc did not improve\n",
      " - 8s - loss: 0.0380 - acc: 0.9799 - val_loss: 0.6812 - val_acc: 0.8237\n",
      "Epoch 8/100\n",
      "Epoch 00008: val_acc did not improve\n",
      " - 7s - loss: 0.0370 - acc: 0.9822 - val_loss: 0.6138 - val_acc: 0.8024\n",
      "Epoch 9/100\n",
      "Epoch 00009: val_acc did not improve\n",
      " - 7s - loss: 0.0387 - acc: 0.9811 - val_loss: 0.7653 - val_acc: 0.8130\n",
      "Epoch 10/100\n",
      "Epoch 00010: val_acc did not improve\n",
      " - 7s - loss: 0.0260 - acc: 0.9861 - val_loss: 0.8586 - val_acc: 0.8154\n",
      "Epoch 11/100\n",
      "Epoch 00011: val_acc did not improve\n",
      " - 7s - loss: 0.0297 - acc: 0.9843 - val_loss: 0.9039 - val_acc: 0.8296\n",
      "Epoch 12/100\n",
      "Epoch 00012: val_acc did not improve\n",
      " - 7s - loss: 0.0333 - acc: 0.9822 - val_loss: 0.8350 - val_acc: 0.8118\n",
      "Epoch 13/100\n",
      "Epoch 00013: val_acc did not improve\n",
      " - 7s - loss: 0.0260 - acc: 0.9855 - val_loss: 1.0067 - val_acc: 0.8272\n",
      "Epoch 14/100\n",
      "Epoch 00014: val_acc did not improve\n",
      " - 7s - loss: 0.0243 - acc: 0.9849 - val_loss: 1.0258 - val_acc: 0.8249\n"
     ]
    }
   ],
   "source": [
    "# create the model\n",
    "model = create_rnn()\n",
    "# callbacks\n",
    "file_path = 'weights_best_rnn.hdf5'\n",
    "early_stop = EarlyStopping(monitor='val_acc', patience=10, verbose=0, mode='max') #'val_acc'\n",
    "checkpoint = ModelCheckpoint(file_path, monitor='val_acc', verbose=1, save_best_only=True, mode='max') #'val_acc'\n",
    "callbacks_list = [checkpoint, early_stop]\n",
    "# train the model\n",
    "model_history = model.fit(X_train, y_train, validation_data=(X_test, y_test), \n",
    "                          epochs=epochs, batch_size=batch_size,\n",
    "                          callbacks=callbacks_list, verbose=2)"
   ]
  },
  {
   "cell_type": "code",
   "execution_count": 37,
   "metadata": {},
   "outputs": [
    {
     "data": {
      "image/png": "[encoded data removed]",
      "text/plain": [
       "<matplotlib.figure.Figure at 0x1f2dc94b780>"
      ]
     },
     "metadata": {},
     "output_type": "display_data"
    }
   ],
   "source": [
    "plot_model_history(model_history)"
   ]
  },
  {
   "cell_type": "code",
   "execution_count": 38,
   "metadata": {},
   "outputs": [
    {
     "name": "stdout",
     "output_type": "stream",
     "text": [
      "Accuracy:\t83.9%\n",
      "roc auc:\t0.755\n",
      "\n",
      "\n",
      "             precision    recall  f1-score   support\n",
      "\n",
      "          0       0.75      0.58      0.65       223\n",
      "          1       0.86      0.93      0.90       622\n",
      "\n",
      "avg / total       0.83      0.84      0.83       845\n",
      "\n"
     ]
    },
    {
     "data": {
      "image/png": "[encoded data removed]",
      "text/plain": [
       "<matplotlib.figure.Figure at 0x1f2dffdd358>"
      ]
     },
     "metadata": {},
     "output_type": "display_data"
    }
   ],
   "source": [
    "model_evaluate('weights_best_rnn.hdf5')"
   ]
  },
  {
   "cell_type": "markdown",
   "metadata": {},
   "source": [
    "# 4. CNN + RNN"
   ]
  },
  {
   "cell_type": "code",
   "execution_count": 39,
   "metadata": {
    "collapsed": true
   },
   "outputs": [],
   "source": [
    "def create_cnn_rnn():\n",
    "    np.random.seed(seed)\n",
    "    K.clear_session()\n",
    "    model = Sequential()\n",
    "    model.add(Embedding(max_features, 128, input_length=X_train.shape[1]))\n",
    "    model.add(Conv1D(filters=32, kernel_size=3, padding='same', activation='relu'))\n",
    "    model.add(MaxPooling1D(pool_size=2))\n",
    "    model.add(LSTM(100, dropout=0.1, recurrent_dropout=0.1))\n",
    "    model.add(Dense(20, activation='relu'))\n",
    "    model.add(Dense(1, activation='sigmoid'))\n",
    "    model.compile(loss='binary_crossentropy', optimizer='adam', metrics=['accuracy'])\n",
    "    print(model.summary())\n",
    "    return model"
   ]
  },
  {
   "cell_type": "code",
   "execution_count": 40,
   "metadata": {},
   "outputs": [
    {
     "name": "stdout",
     "output_type": "stream",
     "text": [
      "_________________________________________________________________\n",
      "Layer (type)                 Output Shape              Param #   \n",
      "=================================================================\n",
      "embedding_1 (Embedding)      (None, 25, 128)           1280000   \n",
      "_________________________________________________________________\n",
      "conv1d_1 (Conv1D)            (None, 25, 32)            12320     \n",
      "_________________________________________________________________\n",
      "max_pooling1d_1 (MaxPooling1 (None, 12, 32)            0         \n",
      "_________________________________________________________________\n",
      "lstm_1 (LSTM)                (None, 100)               53200     \n",
      "_________________________________________________________________\n",
      "dense_1 (Dense)              (None, 20)                2020      \n",
      "_________________________________________________________________\n",
      "dense_2 (Dense)              (None, 1)                 21        \n",
      "=================================================================\n",
      "Total params: 1,347,561\n",
      "Trainable params: 1,347,561\n",
      "Non-trainable params: 0\n",
      "_________________________________________________________________\n",
      "None\n",
      "Train on 3380 samples, validate on 845 samples\n",
      "Epoch 1/100\n",
      "Epoch 00001: val_acc improved from -inf to 0.78935, saving model to weights_best_cnn_rnn.hdf5\n",
      " - 7s - loss: 0.5291 - acc: 0.7388 - val_loss: 0.4265 - val_acc: 0.7893\n",
      "Epoch 2/100\n",
      "Epoch 00002: val_acc improved from 0.78935 to 0.84142, saving model to weights_best_cnn_rnn.hdf5\n",
      " - 6s - loss: 0.2840 - acc: 0.8896 - val_loss: 0.3667 - val_acc: 0.8414\n",
      "Epoch 3/100\n",
      "Epoch 00003: val_acc did not improve\n",
      " - 6s - loss: 0.1352 - acc: 0.9497 - val_loss: 0.4451 - val_acc: 0.8249\n",
      "Epoch 4/100\n",
      "Epoch 00004: val_acc did not improve\n",
      " - 6s - loss: 0.0819 - acc: 0.9680 - val_loss: 0.4948 - val_acc: 0.8130\n",
      "Epoch 5/100\n",
      "Epoch 00005: val_acc did not improve\n",
      " - 6s - loss: 0.0654 - acc: 0.9757 - val_loss: 0.5432 - val_acc: 0.8225\n",
      "Epoch 6/100\n",
      "Epoch 00006: val_acc did not improve\n",
      " - 6s - loss: 0.0483 - acc: 0.9814 - val_loss: 0.5271 - val_acc: 0.8201\n",
      "Epoch 7/100\n",
      "Epoch 00007: val_acc did not improve\n",
      " - 5s - loss: 0.0404 - acc: 0.9825 - val_loss: 0.6045 - val_acc: 0.8095\n",
      "Epoch 8/100\n",
      "Epoch 00008: val_acc did not improve\n",
      " - 5s - loss: 0.0390 - acc: 0.9817 - val_loss: 0.6664 - val_acc: 0.8107\n",
      "Epoch 9/100\n",
      "Epoch 00009: val_acc did not improve\n",
      " - 5s - loss: 0.0372 - acc: 0.9837 - val_loss: 0.7008 - val_acc: 0.8142\n",
      "Epoch 10/100\n",
      "Epoch 00010: val_acc did not improve\n",
      " - 5s - loss: 0.0312 - acc: 0.9846 - val_loss: 0.6643 - val_acc: 0.8320\n",
      "Epoch 11/100\n",
      "Epoch 00011: val_acc did not improve\n",
      " - 5s - loss: 0.0273 - acc: 0.9891 - val_loss: 0.6408 - val_acc: 0.8296\n",
      "Epoch 12/100\n",
      "Epoch 00012: val_acc did not improve\n",
      " - 5s - loss: 0.0291 - acc: 0.9855 - val_loss: 0.7597 - val_acc: 0.8237\n"
     ]
    }
   ],
   "source": [
    "# create the model\n",
    "model = create_cnn_rnn()\n",
    "# callbacks\n",
    "file_path = 'weights_best_cnn_rnn.hdf5'\n",
    "early_stop = EarlyStopping(monitor='val_acc', patience=10, verbose=0, mode='max') #'val_acc'\n",
    "checkpoint = ModelCheckpoint(file_path, monitor='val_acc', verbose=1, save_best_only=True, mode='max') #'val_acc'\n",
    "callbacks_list = [checkpoint, early_stop]\n",
    "# train the model\n",
    "model_history = model.fit(X_train, y_train, validation_data=(X_test, y_test), \n",
    "                          epochs=epochs, batch_size=batch_size,\n",
    "                          callbacks=callbacks_list, verbose=2)"
   ]
  },
  {
   "cell_type": "code",
   "execution_count": 41,
   "metadata": {},
   "outputs": [
    {
     "data": {
      "image/png": "[encoded data removed]",
      "text/plain": [
       "<matplotlib.figure.Figure at 0x1f2df962748>"
      ]
     },
     "metadata": {},
     "output_type": "display_data"
    }
   ],
   "source": [
    "plot_model_history(model_history)"
   ]
  },
  {
   "cell_type": "code",
   "execution_count": 42,
   "metadata": {},
   "outputs": [
    {
     "name": "stdout",
     "output_type": "stream",
     "text": [
      "Accuracy:\t84.1%\n",
      "roc auc:\t0.784\n",
      "\n",
      "\n",
      "             precision    recall  f1-score   support\n",
      "\n",
      "          0       0.71      0.66      0.69       223\n",
      "          1       0.88      0.91      0.89       622\n",
      "\n",
      "avg / total       0.84      0.84      0.84       845\n",
      "\n"
     ]
    },
    {
     "data": {
      "image/png": "[encoded data removed]",
      "text/plain": [
       "<matplotlib.figure.Figure at 0x1f2e182fe80>"
      ]
     },
     "metadata": {},
     "output_type": "display_data"
    }
   ],
   "source": [
    "model_evaluate('weights_best_cnn_rnn.hdf5')"
   ]
  }
 ],
 "metadata": {
  "kernelspec": {
   "display_name": "Python 3",
   "language": "python",
   "name": "python3"
  },
  "language_info": {
   "codemirror_mode": {
    "name": "ipython",
    "version": 3
   },
   "file_extension": ".py",
   "mimetype": "text/x-python",
   "name": "python",
   "nbconvert_exporter": "python",
   "pygments_lexer": "ipython3",
   "version": "3.6.3"
  }
 },
 "nbformat": 4,
 "nbformat_minor": 2
}
