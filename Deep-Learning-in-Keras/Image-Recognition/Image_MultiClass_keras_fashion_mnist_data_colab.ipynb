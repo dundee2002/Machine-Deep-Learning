{
 "cells": [
  {
   "cell_type": "markdown",
   "metadata": {
    "colab_type": "text",
    "id": "pagWcMhma_js"
   },
   "source": [
    "## Multiclass Classification: Fashion-MNIST database of fashion articles\n",
    "https://keras.io/datasets/\n",
    "\n",
    "** Dataset Information: **\n",
    "\n",
    "- Dataset of 60,000 28x28 grayscale images of 10 fashion categories, along with a test set of 10,000 images\n",
    "\n",
    "** Attribute Information: (784 features and 1 class) **\n",
    "\n",
    "- 28x28 grayscale images\n",
    "- 10 fashion categories (\n",
    "0\tT-shirt/top\n",
    "1\tTrouser\n",
    "2\tPullover\n",
    "3\tDress\n",
    "4\tCoat\n",
    "5\tSandal\n",
    "6\tShirt\n",
    "7\tSneaker\n",
    "8\tBag\n",
    "9\tAnkle boot\n",
    ")\n",
    "\n",
    "** Objective of this project **\n",
    "\n",
    "- predict the fashion categories from images"
   ]
  },
  {
   "cell_type": "markdown",
   "metadata": {
    "colab_type": "text",
    "id": "GlFxd4Mha_jv"
   },
   "source": [
    "## Data"
   ]
  },
  {
   "cell_type": "code",
   "execution_count": 1,
   "metadata": {
    "colab": {
     "autoexec": {
      "startup": false,
      "wait_interval": 0
     },
     "base_uri": "https://localhost:8080/",
     "height": 34,
     "output_extras": [
      {
       "item_id": 1
      }
     ]
    },
    "colab_type": "code",
    "executionInfo": {
     "elapsed": 7273,
     "status": "ok",
     "timestamp": 1521349254326,
     "user": {
      "displayName": "Houk Paek",
      "photoUrl": "https://lh3.googleusercontent.com/a/default-user=s128",
      "userId": "113855001944690852319"
     },
     "user_tz": 420
    },
    "id": "MWCQJnUza_jw",
    "outputId": "62c57cf0-e48b-49df-eafa-21f6680f993c"
   },
   "outputs": [
    {
     "name": "stderr",
     "output_type": "stream",
     "text": [
      "Using TensorFlow backend.\n"
     ]
    }
   ],
   "source": [
    "# Load libraries\n",
    "import numpy as np\n",
    "import matplotlib.pyplot as plt\n",
    "from keras.datasets import fashion_mnist\n",
    "%matplotlib inline  "
   ]
  },
  {
   "cell_type": "code",
   "execution_count": 2,
   "metadata": {
    "colab": {
     "autoexec": {
      "startup": false,
      "wait_interval": 0
     },
     "base_uri": "https://localhost:8080/",
     "height": 170,
     "output_extras": [
      {
       "item_id": 40
      }
     ]
    },
    "colab_type": "code",
    "executionInfo": {
     "elapsed": 10367,
     "status": "ok",
     "timestamp": 1521349276064,
     "user": {
      "displayName": "Houk Paek",
      "photoUrl": "https://lh3.googleusercontent.com/a/default-user=s128",
      "userId": "113855001944690852319"
     },
     "user_tz": 420
    },
    "id": "OrgoriRla_j7",
    "outputId": "f4fe1cac-9f12-443c-887b-1878ef787f19"
   },
   "outputs": [
    {
     "name": "stdout",
     "output_type": "stream",
     "text": [
      "Downloading data from http://fashion-mnist.s3-website.eu-central-1.amazonaws.com/train-labels-idx1-ubyte.gz\n",
      "32768/29515 [=================================] - 0s 3us/step\n",
      "Downloading data from http://fashion-mnist.s3-website.eu-central-1.amazonaws.com/train-images-idx3-ubyte.gz\n",
      "26427392/26421880 [==============================] - 5s 0us/step\n",
      "Downloading data from http://fashion-mnist.s3-website.eu-central-1.amazonaws.com/t10k-labels-idx1-ubyte.gz\n",
      "8192/5148 [===============================================] - 0s 0us/step\n",
      "Downloading data from http://fashion-mnist.s3-website.eu-central-1.amazonaws.com/t10k-images-idx3-ubyte.gz\n",
      "4423680/4422102 [==============================] - 3s 1us/step\n",
      "(60000, 28, 28) (60000,) (10000, 28, 28) (10000,)\n"
     ]
    }
   ],
   "source": [
    "# Load Data\n",
    "(X_train, y_train), (X_test, y_test) = fashion_mnist.load_data()\n",
    "print(X_train.shape, y_train.shape, X_test.shape, y_test.shape)"
   ]
  },
  {
   "cell_type": "code",
   "execution_count": 3,
   "metadata": {
    "colab": {
     "autoexec": {
      "startup": false,
      "wait_interval": 0
     },
     "base_uri": "https://localhost:8080/",
     "height": 126,
     "output_extras": [
      {
       "item_id": 1
      }
     ]
    },
    "colab_type": "code",
    "executionInfo": {
     "elapsed": 900,
     "status": "ok",
     "timestamp": 1521349278942,
     "user": {
      "displayName": "Houk Paek",
      "photoUrl": "https://lh3.googleusercontent.com/a/default-user=s128",
      "userId": "113855001944690852319"
     },
     "user_tz": 420
    },
    "id": "7SaabGDja_kB",
    "outputId": "193ad619-b90c-4504-886d-cbd3bf56572c"
   },
   "outputs": [
    {
     "data": {
      "image/png": "[encoded data removed]",
      "text/plain": [
       "<matplotlib.figure.Figure at 0x7fd4b038a2e8>"
      ]
     },
     "metadata": {
      "tags": []
     },
     "output_type": "display_data"
    }
   ],
   "source": [
    "# plot tje first 9 images\n",
    "plt.figure(figsize=(12,6))\n",
    "for i in range(0, 9):\n",
    "    plt.subplot(190 + (i+1))\n",
    "    plt.imshow(X_train[i], cmap=plt.get_cmap('gray'))\n",
    "    plt.title(y_train[i]);"
   ]
  },
  {
   "cell_type": "code",
   "execution_count": 4,
   "metadata": {
    "colab": {
     "autoexec": {
      "startup": false,
      "wait_interval": 0
     },
     "base_uri": "https://localhost:8080/",
     "height": 51,
     "output_extras": [
      {
       "item_id": 1
      }
     ]
    },
    "colab_type": "code",
    "executionInfo": {
     "elapsed": 314,
     "status": "ok",
     "timestamp": 1521349281973,
     "user": {
      "displayName": "Houk Paek",
      "photoUrl": "https://lh3.googleusercontent.com/a/default-user=s128",
      "userId": "113855001944690852319"
     },
     "user_tz": 420
    },
    "id": "Hl9hPMfUa_kH",
    "outputId": "52f9dfe4-fd78-41dc-e6d2-85105275cdd1"
   },
   "outputs": [
    {
     "data": {
      "text/plain": [
       "(array([0, 1, 2, 3, 4, 5, 6, 7, 8, 9], dtype=uint8),\n",
       " array([6000, 6000, 6000, 6000, 6000, 6000, 6000, 6000, 6000, 6000]))"
      ]
     },
     "execution_count": 4,
     "metadata": {
      "tags": []
     },
     "output_type": "execute_result"
    }
   ],
   "source": [
    "# 10 digits\n",
    "np.unique(y_train,return_counts=True)"
   ]
  },
  {
   "cell_type": "markdown",
   "metadata": {
    "colab_type": "text",
    "id": "ASKGKzA_a_kK"
   },
   "source": [
    "## Baseline MLP model"
   ]
  },
  {
   "cell_type": "code",
   "execution_count": 5,
   "metadata": {
    "colab": {
     "autoexec": {
      "startup": false,
      "wait_interval": 0
     },
     "base_uri": "https://localhost:8080/",
     "height": 34,
     "output_extras": [
      {
       "item_id": 1
      }
     ]
    },
    "colab_type": "code",
    "executionInfo": {
     "elapsed": 438,
     "status": "ok",
     "timestamp": 1521349287095,
     "user": {
      "displayName": "Houk Paek",
      "photoUrl": "https://lh3.googleusercontent.com/a/default-user=s128",
      "userId": "113855001944690852319"
     },
     "user_tz": 420
    },
    "id": "Z4zGVAJPa_kL",
    "outputId": "6633ba71-329b-462f-a465-c317f7cc5fe3"
   },
   "outputs": [
    {
     "name": "stdout",
     "output_type": "stream",
     "text": [
      "(60000, 784) (60000, 10) (10000, 784) (10000, 10)\n"
     ]
    }
   ],
   "source": [
    "# Data preprocessing\n",
    "from keras.utils.np_utils import to_categorical\n",
    "seed = 101 #random seed for reproducibility\n",
    "np.random.seed(seed)\n",
    "\n",
    "# flatten 28*28 images to a 784 vector\n",
    "num_pixels = X_train.shape[1] * X_train.shape[2]\n",
    "X_train = X_train.reshape(X_train.shape[0], num_pixels).astype('float32')\n",
    "X_test = X_test.reshape(X_test.shape[0], num_pixels).astype('float32')\n",
    "\n",
    "# normalize inputs from 0-255 to 0-1\n",
    "X_train = X_train / 255\n",
    "X_test = X_test / 255\n",
    "\n",
    "# one hot encode outputs\n",
    "y_train = to_categorical(y_train)\n",
    "y_test = to_categorical(y_test)\n",
    "num_classes = y_test.shape[1]\n",
    "\n",
    "print(X_train.shape, y_train.shape, X_test.shape, y_test.shape)"
   ]
  },
  {
   "cell_type": "code",
   "execution_count": 0,
   "metadata": {
    "colab": {
     "autoexec": {
      "startup": false,
      "wait_interval": 0
     }
    },
    "colab_type": "code",
    "collapsed": true,
    "id": "gNi2NWaQfBjY"
   },
   "outputs": [],
   "source": [
    "# Import libraries\n",
    "import keras.backend as K\n",
    "from keras.models import Sequential\n",
    "from keras.layers import Dense\n",
    "from keras.callbacks import EarlyStopping"
   ]
  },
  {
   "cell_type": "code",
   "execution_count": 6,
   "metadata": {
    "colab": {
     "autoexec": {
      "startup": false,
      "wait_interval": 0
     },
     "base_uri": "https://localhost:8080/",
     "height": 884,
     "output_extras": [
      {
       "item_id": 36
      }
     ]
    },
    "colab_type": "code",
    "executionInfo": {
     "elapsed": 99158,
     "status": "ok",
     "timestamp": 1521348467673,
     "user": {
      "displayName": "Houk Paek",
      "photoUrl": "https://lh3.googleusercontent.com/a/default-user=s128",
      "userId": "113855001944690852319"
     },
     "user_tz": 420
    },
    "id": "JjQ8uQrNa_kP",
    "outputId": "ba27e16a-f9c2-4fe0-d440-3fe3d63b5b98"
   },
   "outputs": [
    {
     "name": "stdout",
     "output_type": "stream",
     "text": [
      "_________________________________________________________________\n",
      "Layer (type)                 Output Shape              Param #   \n",
      "=================================================================\n",
      "dense_1 (Dense)              (None, 784)               615440    \n",
      "_________________________________________________________________\n",
      "dense_2 (Dense)              (None, 10)                7850      \n",
      "=================================================================\n",
      "Total params: 623,290\n",
      "Trainable params: 623,290\n",
      "Non-trainable params: 0\n",
      "_________________________________________________________________\n",
      "None\n",
      "Train on 60000 samples, validate on 10000 samples\n",
      "Epoch 1/50\n",
      " - 5s - loss: 0.5098 - acc: 0.8221 - val_loss: 0.4401 - val_acc: 0.8437\n",
      "Epoch 2/50\n",
      " - 6s - loss: 0.3766 - acc: 0.8667 - val_loss: 0.3918 - val_acc: 0.8604\n",
      "Epoch 3/50\n",
      " - 6s - loss: 0.3400 - acc: 0.8762 - val_loss: 0.3643 - val_acc: 0.8694\n",
      "Epoch 4/50\n",
      " - 6s - loss: 0.3102 - acc: 0.8872 - val_loss: 0.3491 - val_acc: 0.8749\n",
      "Epoch 5/50\n",
      " - 6s - loss: 0.2878 - acc: 0.8948 - val_loss: 0.3367 - val_acc: 0.8799\n",
      "Epoch 6/50\n",
      " - 6s - loss: 0.2731 - acc: 0.8997 - val_loss: 0.3671 - val_acc: 0.8654\n",
      "Epoch 7/50\n",
      " - 6s - loss: 0.2612 - acc: 0.9052 - val_loss: 0.3593 - val_acc: 0.8727\n",
      "Epoch 8/50\n",
      " - 6s - loss: 0.2512 - acc: 0.9069 - val_loss: 0.3365 - val_acc: 0.8787\n",
      "Epoch 9/50\n",
      " - 6s - loss: 0.2383 - acc: 0.9112 - val_loss: 0.3231 - val_acc: 0.8821\n",
      "Epoch 10/50\n",
      " - 6s - loss: 0.2288 - acc: 0.9152 - val_loss: 0.3361 - val_acc: 0.8816\n",
      "Epoch 11/50\n",
      " - 6s - loss: 0.2184 - acc: 0.9195 - val_loss: 0.3146 - val_acc: 0.8900\n",
      "Epoch 12/50\n",
      " - 6s - loss: 0.2124 - acc: 0.9211 - val_loss: 0.3044 - val_acc: 0.8951\n",
      "Epoch 13/50\n",
      " - 6s - loss: 0.2041 - acc: 0.9246 - val_loss: 0.3154 - val_acc: 0.8896\n",
      "Epoch 14/50\n",
      " - 6s - loss: 0.1944 - acc: 0.9283 - val_loss: 0.3198 - val_acc: 0.8899\n",
      "Epoch 15/50\n",
      " - 6s - loss: 0.1906 - acc: 0.9296 - val_loss: 0.3382 - val_acc: 0.8858\n",
      "Epoch 16/50\n",
      " - 6s - loss: 0.1843 - acc: 0.9320 - val_loss: 0.3145 - val_acc: 0.8926\n",
      "Epoch 17/50\n",
      " - 6s - loss: 0.1779 - acc: 0.9336 - val_loss: 0.3060 - val_acc: 0.8947\n",
      "loss of train set: 0.164\n",
      "accuracy of train set: 94.1%\n",
      "loss of test set: 0.306\n",
      "accuracy of test set: 89.5%\n"
     ]
    }
   ],
   "source": [
    "# define the model\n",
    "def create_model():   \n",
    "    # create model\n",
    "    model = Sequential()\n",
    "    model.add(Dense(num_pixels, input_dim=num_pixels, activation='relu'))\n",
    "    model.add(Dense(num_classes, activation='softmax'))\n",
    "    # Compile model\n",
    "    model.compile(loss='categorical_crossentropy', optimizer='adam', metrics=['accuracy'])\n",
    "    print(model.summary())\n",
    "    return model\n",
    "# build the model\n",
    "model = create_model()\n",
    "# callback\n",
    "early_stop = EarlyStopping(monitor='val_loss', patience=5, verbose=0, mode='min')\n",
    "# train the model\n",
    "model.fit(X_train, y_train, validation_data=(X_test, y_test), \n",
    "          epochs=50, batch_size=200, verbose=2, callbacks=[early_stop])\n",
    "\n",
    "# evaluate model on train set\n",
    "scores = model.evaluate(X_train,y_train,verbose=0)\n",
    "print('loss of train set: {:0.3f}'.format(scores[0]))\n",
    "print('accuracy of train set: {:0.1f}%'.format(scores[1]*100))\n",
    "# evaluate model on test data\n",
    "scores = model.evaluate(X_test,y_test,verbose=0)\n",
    "print('loss of test set: {:0.3f}'.format(scores[0]))\n",
    "print('accuracy of test set: {:0.1f}%'.format(scores[1]*100))"
   ]
  },
  {
   "cell_type": "markdown",
   "metadata": {
    "colab_type": "text",
    "id": "O-80S_mJa_kS"
   },
   "source": [
    "## CNN"
   ]
  },
  {
   "cell_type": "code",
   "execution_count": 7,
   "metadata": {
    "colab": {
     "autoexec": {
      "startup": false,
      "wait_interval": 0
     },
     "base_uri": "https://localhost:8080/",
     "height": 34,
     "output_extras": [
      {
       "item_id": 1
      }
     ]
    },
    "colab_type": "code",
    "executionInfo": {
     "elapsed": 826,
     "status": "ok",
     "timestamp": 1521349330594,
     "user": {
      "displayName": "Houk Paek",
      "photoUrl": "https://lh3.googleusercontent.com/a/default-user=s128",
      "userId": "113855001944690852319"
     },
     "user_tz": 420
    },
    "id": "TyHy6rYia_kT",
    "outputId": "e923b031-bb40-45b6-bbc1-facbf18946b8"
   },
   "outputs": [
    {
     "name": "stdout",
     "output_type": "stream",
     "text": [
      "(60000, 28, 28, 1) (60000, 10) (10000, 28, 28, 1) (10000, 10)\n"
     ]
    }
   ],
   "source": [
    "from keras.utils.np_utils import to_categorical\n",
    "\n",
    "# load data\n",
    "(X_train, y_train), (X_test, y_test) = fashion_mnist.load_data()\n",
    "\n",
    "# Data preprocessing\n",
    "# reshape to [samples][width][height][pixels]\n",
    "X_train = X_train.reshape(-1, 28, 28, 1).astype('float32')\n",
    "X_test = X_test.reshape(-1, 28, 28, 1).astype('float32')\n",
    "\n",
    "# normalize inputs from 0-255 to 0-1\n",
    "X_train = X_train / 255\n",
    "X_test = X_test / 255\n",
    "\n",
    "# one hot encode outputs\n",
    "y_train = to_categorical(y_train)\n",
    "y_test = to_categorical(y_test)\n",
    "num_classes = y_test.shape[1]\n",
    "\n",
    "print(X_train.shape, y_train.shape, X_test.shape, y_test.shape)"
   ]
  },
  {
   "cell_type": "code",
   "execution_count": 8,
   "metadata": {
    "colab": {
     "autoexec": {
      "startup": false,
      "wait_interval": 0
     },
     "base_uri": "https://localhost:8080/",
     "height": 1224,
     "output_extras": [
      {
       "item_id": 41
      },
      {
       "item_id": 43
      }
     ]
    },
    "colab_type": "code",
    "executionInfo": {
     "elapsed": 103923,
     "status": "ok",
     "timestamp": 1521349437329,
     "user": {
      "displayName": "Houk Paek",
      "photoUrl": "https://lh3.googleusercontent.com/a/default-user=s128",
      "userId": "113855001944690852319"
     },
     "user_tz": 420
    },
    "id": "iOgCuLGBa_ka",
    "outputId": "d45e9981-d1f3-413a-988c-c84f3220a0e3"
   },
   "outputs": [
    {
     "name": "stdout",
     "output_type": "stream",
     "text": [
      "_________________________________________________________________\n",
      "Layer (type)                 Output Shape              Param #   \n",
      "=================================================================\n",
      "conv2d_1 (Conv2D)            (None, 26, 26, 32)        320       \n",
      "_________________________________________________________________\n",
      "max_pooling2d_1 (MaxPooling2 (None, 13, 13, 32)        0         \n",
      "_________________________________________________________________\n",
      "conv2d_2 (Conv2D)            (None, 11, 11, 64)        18496     \n",
      "_________________________________________________________________\n",
      "max_pooling2d_2 (MaxPooling2 (None, 5, 5, 64)          0         \n",
      "_________________________________________________________________\n",
      "dropout_1 (Dropout)          (None, 5, 5, 64)          0         \n",
      "_________________________________________________________________\n",
      "flatten_1 (Flatten)          (None, 1600)              0         \n",
      "_________________________________________________________________\n",
      "dense_1 (Dense)              (None, 128)               204928    \n",
      "_________________________________________________________________\n",
      "dense_2 (Dense)              (None, 50)                6450      \n",
      "_________________________________________________________________\n",
      "dense_3 (Dense)              (None, 10)                510       \n",
      "=================================================================\n",
      "Total params: 230,704\n",
      "Trainable params: 230,704\n",
      "Non-trainable params: 0\n",
      "_________________________________________________________________\n",
      "None\n",
      "Train on 60000 samples, validate on 10000 samples\n",
      "Epoch 1/50\n",
      " - 6s - loss: 0.6229 - acc: 0.7719 - val_loss: 0.4581 - val_acc: 0.8414\n",
      "Epoch 2/50\n",
      " - 5s - loss: 0.3950 - acc: 0.8569 - val_loss: 0.3744 - val_acc: 0.8683\n",
      "Epoch 3/50\n",
      " - 5s - loss: 0.3444 - acc: 0.8743 - val_loss: 0.3482 - val_acc: 0.8770\n",
      "Epoch 4/50\n",
      " - 5s - loss: 0.3099 - acc: 0.8870 - val_loss: 0.3051 - val_acc: 0.8900\n",
      "Epoch 5/50\n",
      " - 5s - loss: 0.2871 - acc: 0.8948 - val_loss: 0.3105 - val_acc: 0.8847\n",
      "Epoch 6/50\n",
      " - 5s - loss: 0.2678 - acc: 0.9023 - val_loss: 0.2812 - val_acc: 0.8992\n",
      "Epoch 7/50\n",
      " - 5s - loss: 0.2524 - acc: 0.9063 - val_loss: 0.2682 - val_acc: 0.9026\n",
      "Epoch 8/50\n",
      " - 5s - loss: 0.2394 - acc: 0.9113 - val_loss: 0.2653 - val_acc: 0.9047\n",
      "Epoch 9/50\n",
      " - 5s - loss: 0.2255 - acc: 0.9161 - val_loss: 0.2652 - val_acc: 0.9016\n",
      "Epoch 10/50\n",
      " - 5s - loss: 0.2139 - acc: 0.9203 - val_loss: 0.2545 - val_acc: 0.9073\n",
      "Epoch 11/50\n",
      " - 5s - loss: 0.2039 - acc: 0.9247 - val_loss: 0.2444 - val_acc: 0.9116\n",
      "Epoch 12/50\n",
      " - 5s - loss: 0.1963 - acc: 0.9257 - val_loss: 0.2568 - val_acc: 0.9067\n",
      "Epoch 13/50\n",
      " - 5s - loss: 0.1840 - acc: 0.9319 - val_loss: 0.2582 - val_acc: 0.9092\n",
      "Epoch 14/50\n",
      " - 5s - loss: 0.1754 - acc: 0.9339 - val_loss: 0.2367 - val_acc: 0.9183\n",
      "Epoch 15/50\n",
      " - 5s - loss: 0.1670 - acc: 0.9374 - val_loss: 0.2284 - val_acc: 0.9188\n",
      "Epoch 16/50\n",
      " - 5s - loss: 0.1610 - acc: 0.9405 - val_loss: 0.2290 - val_acc: 0.9185\n",
      "Epoch 17/50\n",
      " - 5s - loss: 0.1531 - acc: 0.9424 - val_loss: 0.2360 - val_acc: 0.9162\n",
      "Epoch 18/50\n",
      " - 5s - loss: 0.1450 - acc: 0.9461 - val_loss: 0.2529 - val_acc: 0.9126\n",
      "Epoch 19/50\n",
      " - 5s - loss: 0.1401 - acc: 0.9472 - val_loss: 0.2366 - val_acc: 0.9178\n",
      "Epoch 20/50\n",
      " - 5s - loss: 0.1307 - acc: 0.9505 - val_loss: 0.2512 - val_acc: 0.9172\n",
      "loss of train set: 0.103\n",
      "accuracy of train set: 96.3%\n",
      "loss of test set: 0.251\n",
      "accuracy of test set: 91.7%\n"
     ]
    }
   ],
   "source": [
    "# Import libraries\n",
    "from keras.layers import Dropout,Flatten\n",
    "from keras.layers.convolutional import Conv2D,MaxPooling2D\n",
    "\n",
    "K.clear_session()\n",
    "np.random.seed(seed)\n",
    "\n",
    "# define the model\n",
    "def create_model():\n",
    "    # create model\n",
    "    model = Sequential()\n",
    "    model.add(Conv2D(32, (3, 3), input_shape=(28, 28,1), activation='relu'))\n",
    "    model.add(MaxPooling2D(pool_size=(2, 2)))\n",
    "    model.add(Conv2D(64, (3, 3), activation='relu'))\n",
    "    model.add(MaxPooling2D(pool_size=(2, 2)))\n",
    "    model.add(Dropout(0.2))\n",
    "    model.add(Flatten())\n",
    "    model.add(Dense(128, activation='relu'))\n",
    "    model.add(Dense(50, activation='relu'))\n",
    "    model.add(Dense(num_classes, activation='softmax'))\n",
    "    # Compile model\n",
    "    model.compile(loss='categorical_crossentropy', optimizer='adam', metrics=['accuracy'])\n",
    "    print(model.summary())\n",
    "    return model\n",
    "# build the model\n",
    "model = create_model()\n",
    "# callback\n",
    "early_stop = EarlyStopping(monitor='val_loss', patience=5, verbose=0, mode='min')\n",
    "# train the model\n",
    "model.fit(X_train, y_train, validation_data=(X_test, y_test), \n",
    "          epochs=50, batch_size=200, verbose=2, callbacks=[early_stop])\n",
    "\n",
    "# evaluate model on train set\n",
    "scores = model.evaluate(X_train,y_train,verbose=0)\n",
    "print('loss of train set: {:0.3f}'.format(scores[0]))\n",
    "print('accuracy of train set: {:0.1f}%'.format(scores[1]*100))\n",
    "# evaluate model on test data\n",
    "scores = model.evaluate(X_test,y_test,verbose=0)\n",
    "print('loss of test set: {:0.3f}'.format(scores[0]))\n",
    "print('accuracy of test set: {:0.1f}%'.format(scores[1]*100))"
   ]
  }
 ],
 "metadata": {
  "accelerator": "GPU",
  "colab": {
   "collapsed_sections": [],
   "default_view": {},
   "name": "Image_MultiClass_keras_fashion_mnist_data.ipynb",
   "provenance": [],
   "version": "0.3.2",
   "views": {}
  },
  "kernelspec": {
   "display_name": "Python 3",
   "language": "python",
   "name": "python3"
  },
  "language_info": {
   "codemirror_mode": {
    "name": "ipython",
    "version": 3
   },
   "file_extension": ".py",
   "mimetype": "text/x-python",
   "name": "python",
   "nbconvert_exporter": "python",
   "pygments_lexer": "ipython3",
   "version": "3.6.3"
  }
 },
 "nbformat": 4,
 "nbformat_minor": 1
}
