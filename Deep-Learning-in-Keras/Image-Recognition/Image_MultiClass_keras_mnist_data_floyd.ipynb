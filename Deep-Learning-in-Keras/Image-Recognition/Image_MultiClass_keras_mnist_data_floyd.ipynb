{
 "cells": [
  {
   "cell_type": "markdown",
   "metadata": {},
   "source": [
    "## Multiclass Classification: MNIST database of handwritten digits\n",
    "https://keras.io/datasets/\n",
    "\n",
    "** Dataset Information: **\n",
    "\n",
    "- Dataset of 60,000 28x28 grayscale images of the 10 digits, along with a test set of 10,000 images.\n",
    "\n",
    "** Attribute Information: (784 features and 1 class) **\n",
    "\n",
    "- 28x28 grayscale images\n",
    "- 10 digits\n",
    "\n",
    "** Objective of this project **\n",
    "\n",
    "- recognizing the digits from images"
   ]
  },
  {
   "cell_type": "markdown",
   "metadata": {},
   "source": [
    "## Data"
   ]
  },
  {
   "cell_type": "code",
   "execution_count": 1,
   "metadata": {},
   "outputs": [
    {
     "name": "stderr",
     "output_type": "stream",
     "text": [
      "Using TensorFlow backend.\n"
     ]
    }
   ],
   "source": [
    "# Load libraries\n",
    "import numpy as np\n",
    "import matplotlib.pyplot as plt\n",
    "from keras.datasets import mnist\n",
    "%matplotlib inline  "
   ]
  },
  {
   "cell_type": "code",
   "execution_count": 2,
   "metadata": {},
   "outputs": [
    {
     "name": "stdout",
     "output_type": "stream",
     "text": [
      "Downloading data from https://s3.amazonaws.com/img-datasets/mnist.npz\n",
      "10608640/11490434 [==========================>...] - ETA: 0s(60000, 28, 28) (60000,) (10000, 28, 28) (10000,)\n"
     ]
    }
   ],
   "source": [
    "# Load Data\n",
    "(X_train, y_train), (X_test, y_test) = mnist.load_data()\n",
    "print(X_train.shape, y_train.shape, X_test.shape, y_test.shape)"
   ]
  },
  {
   "cell_type": "code",
   "execution_count": 3,
   "metadata": {},
   "outputs": [
    {
     "data": {
      "image/png": "[encoded data removed]",
      "text/plain": [
       "<matplotlib.figure.Figure at 0x7f3691f146d8>"
      ]
     },
     "metadata": {},
     "output_type": "display_data"
    }
   ],
   "source": [
    "# plot first 9 images\n",
    "for i in range(0, 9):\n",
    "    plt.subplot(190 + (i+1))\n",
    "    plt.imshow(X_train[i], cmap=plt.get_cmap('gray'))\n",
    "    plt.title(y_train[i]);"
   ]
  },
  {
   "cell_type": "code",
   "execution_count": 4,
   "metadata": {},
   "outputs": [
    {
     "data": {
      "text/plain": [
       "(array([0, 1, 2, 3, 4, 5, 6, 7, 8, 9], dtype=uint8),\n",
       " array([5923, 6742, 5958, 6131, 5842, 5421, 5918, 6265, 5851, 5949]))"
      ]
     },
     "execution_count": 4,
     "metadata": {},
     "output_type": "execute_result"
    }
   ],
   "source": [
    "# 10 digits\n",
    "np.unique(y_train,return_counts=True)"
   ]
  },
  {
   "cell_type": "markdown",
   "metadata": {},
   "source": [
    "## Baseline MLP"
   ]
  },
  {
   "cell_type": "code",
   "execution_count": 5,
   "metadata": {},
   "outputs": [
    {
     "name": "stdout",
     "output_type": "stream",
     "text": [
      "(60000, 784) (60000, 10) (10000, 784) (10000, 10)\n"
     ]
    }
   ],
   "source": [
    "# Data preprocessing\n",
    "from keras.utils.np_utils import to_categorical\n",
    "seed = 101 #random seed for reproducibility\n",
    "np.random.seed(seed)\n",
    "\n",
    "# flatten 28*28 images to a 784 vector\n",
    "num_pixels = X_train.shape[1] * X_train.shape[2]\n",
    "X_train = X_train.reshape(X_train.shape[0], num_pixels).astype('float32')\n",
    "X_test = X_test.reshape(X_test.shape[0], num_pixels).astype('float32')\n",
    "\n",
    "# normalize inputs from 0-255 to 0-1\n",
    "X_train = X_train / 255\n",
    "X_test = X_test / 255\n",
    "\n",
    "# one hot encode outputs\n",
    "y_train = to_categorical(y_train)\n",
    "y_test = to_categorical(y_test)\n",
    "num_classes = y_test.shape[1]\n",
    "\n",
    "print(X_train.shape, y_train.shape, X_test.shape, y_test.shape)"
   ]
  },
  {
   "cell_type": "code",
   "execution_count": 7,
   "metadata": {},
   "outputs": [
    {
     "name": "stdout",
     "output_type": "stream",
     "text": [
      "_________________________________________________________________\n",
      "Layer (type)                 Output Shape              Param #   \n",
      "=================================================================\n",
      "dense_1 (Dense)              (None, 784)               615440    \n",
      "_________________________________________________________________\n",
      "dense_2 (Dense)              (None, 10)                7850      \n",
      "=================================================================\n",
      "Total params: 623,290\n",
      "Trainable params: 623,290\n",
      "Non-trainable params: 0\n",
      "_________________________________________________________________\n",
      "None\n",
      "Train on 60000 samples, validate on 10000 samples\n",
      "Epoch 1/50\n",
      "1s - loss: 0.2846 - acc: 0.9191 - val_loss: 0.1415 - val_acc: 0.9594\n",
      "Epoch 2/50\n",
      "1s - loss: 0.1131 - acc: 0.9678 - val_loss: 0.0969 - val_acc: 0.9720\n",
      "Epoch 3/50\n",
      "1s - loss: 0.0718 - acc: 0.9794 - val_loss: 0.0768 - val_acc: 0.9765\n",
      "Epoch 4/50\n",
      "1s - loss: 0.0510 - acc: 0.9854 - val_loss: 0.0692 - val_acc: 0.9796\n",
      "Epoch 5/50\n",
      "1s - loss: 0.0377 - acc: 0.9891 - val_loss: 0.0627 - val_acc: 0.9796\n",
      "Epoch 6/50\n",
      "1s - loss: 0.0273 - acc: 0.9926 - val_loss: 0.0596 - val_acc: 0.9820\n",
      "Epoch 7/50\n",
      "1s - loss: 0.0206 - acc: 0.9946 - val_loss: 0.0589 - val_acc: 0.9816\n",
      "Epoch 8/50\n",
      "1s - loss: 0.0153 - acc: 0.9963 - val_loss: 0.0598 - val_acc: 0.9811\n",
      "Epoch 9/50\n",
      "1s - loss: 0.0121 - acc: 0.9974 - val_loss: 0.0577 - val_acc: 0.9838\n",
      "Epoch 10/50\n",
      "1s - loss: 0.0084 - acc: 0.9983 - val_loss: 0.0602 - val_acc: 0.9812\n",
      "Epoch 11/50\n",
      "1s - loss: 0.0063 - acc: 0.9989 - val_loss: 0.0615 - val_acc: 0.9821\n",
      "Epoch 12/50\n",
      "1s - loss: 0.0052 - acc: 0.9991 - val_loss: 0.0606 - val_acc: 0.9827\n",
      "Epoch 13/50\n",
      "1s - loss: 0.0043 - acc: 0.9993 - val_loss: 0.0647 - val_acc: 0.9809\n",
      "Epoch 14/50\n",
      "1s - loss: 0.0047 - acc: 0.9990 - val_loss: 0.0593 - val_acc: 0.9820\n",
      "Epoch 15/50\n",
      "1s - loss: 0.0067 - acc: 0.9983 - val_loss: 0.0688 - val_acc: 0.9803\n",
      "Epoch 16/50\n",
      "1s - loss: 0.0057 - acc: 0.9985 - val_loss: 0.0630 - val_acc: 0.9837\n",
      "Epoch 17/50\n",
      "1s - loss: 0.0047 - acc: 0.9989 - val_loss: 0.0701 - val_acc: 0.9804\n",
      "Epoch 18/50\n",
      "1s - loss: 0.0028 - acc: 0.9995 - val_loss: 0.0676 - val_acc: 0.9821\n",
      "Epoch 19/50\n",
      "1s - loss: 7.3835e-04 - acc: 1.0000 - val_loss: 0.0619 - val_acc: 0.9837\n",
      "Epoch 20/50\n",
      "1s - loss: 4.2291e-04 - acc: 1.0000 - val_loss: 0.0614 - val_acc: 0.9839\n",
      "loss of train set: 0.000\n",
      "accuracy of train set: 100.0%\n",
      "loss of test set: 0.061\n",
      "accuracy of test set: 98.4%\n"
     ]
    }
   ],
   "source": [
    "# Import libraries\n",
    "import keras.backend as K\n",
    "from keras.models import Sequential\n",
    "from keras.layers import Dense\n",
    "from keras.callbacks import EarlyStopping\n",
    "\n",
    "# define the model\n",
    "def create_model():   \n",
    "    # create model\n",
    "    model = Sequential()\n",
    "    model.add(Dense(num_pixels, input_dim=num_pixels, activation='relu'))\n",
    "    model.add(Dense(num_classes, activation='softmax'))\n",
    "    # Compile model\n",
    "    model.compile(loss='categorical_crossentropy', optimizer='adam', metrics=['accuracy'])\n",
    "    print(model.summary())\n",
    "    return model\n",
    "# build the model\n",
    "model = create_model()\n",
    "# callback\n",
    "early_stop = EarlyStopping(monitor='val_loss', patience=10, verbose=0, mode='min') #'val_acc'\n",
    "# train the model\n",
    "model_history= model.fit(X_train, y_train, validation_data=(X_test, y_test),\n",
    "                         epochs=50, batch_size=200, verbose=2,\n",
    "                         callbacks=[early_stop])\n",
    "\n",
    "# evaluate model on train set\n",
    "scores = model.evaluate(X_train,y_train,verbose=0)\n",
    "print('loss of train set: {:0.3f}'.format(scores[0]))\n",
    "print('accuracy of train set: {:0.1f}%'.format(scores[1]*100))\n",
    "# evaluate model on test data\n",
    "scores = model.evaluate(X_test,y_test,verbose=0)\n",
    "print('loss of test set: {:0.3f}'.format(scores[0]))\n",
    "print('accuracy of test set: {:0.1f}%'.format(scores[1]*100))"
   ]
  },
  {
   "cell_type": "code",
   "execution_count": 8,
   "metadata": {
    "collapsed": true
   },
   "outputs": [],
   "source": [
    "def plot_model_history(model_history=model_history):\n",
    "    fig, axs = plt.subplots(1,2,figsize=(15,5))\n",
    "    # summarize history for accuracy\n",
    "    axs[0].plot(range(1,len(model_history.history['acc'])+1),model_history.history['acc'])\n",
    "    axs[0].plot(range(1,len(model_history.history['val_acc'])+1),model_history.history['val_acc'])\n",
    "    axs[0].set_title('Model Accuracy')\n",
    "    axs[0].set_ylabel('Accuracy')\n",
    "    axs[0].set_xlabel('Epoch')\n",
    "    axs[0].set_xticks(np.arange(1,len(model_history.history['acc'])+1),len(model_history.history['acc'])/10)\n",
    "    axs[0].legend(['train', 'val'], loc='best')\n",
    "    # summarize history for loss\n",
    "    axs[1].plot(range(1,len(model_history.history['loss'])+1),model_history.history['loss'])\n",
    "    axs[1].plot(range(1,len(model_history.history['val_loss'])+1),model_history.history['val_loss'])\n",
    "    axs[1].set_title('Model Loss')\n",
    "    axs[1].set_ylabel('Loss')\n",
    "    axs[1].set_xlabel('Epoch')\n",
    "    axs[1].set_xticks(np.arange(1,len(model_history.history['loss'])+1),len(model_history.history['loss'])/10)\n",
    "    axs[1].legend(['train', 'val'], loc='best')\n",
    "    plt.show()"
   ]
  },
  {
   "cell_type": "code",
   "execution_count": 9,
   "metadata": {},
   "outputs": [
    {
     "data": {
      "image/png": "[encoded data removed]",
      "text/plain": [
       "<matplotlib.figure.Figure at 0x7f36915d4358>"
      ]
     },
     "metadata": {},
     "output_type": "display_data"
    }
   ],
   "source": [
    "plot_model_history()"
   ]
  },
  {
   "cell_type": "markdown",
   "metadata": {},
   "source": [
    "## CNN"
   ]
  },
  {
   "cell_type": "code",
   "execution_count": 10,
   "metadata": {},
   "outputs": [
    {
     "name": "stdout",
     "output_type": "stream",
     "text": [
      "(60000, 28, 28, 1) (60000, 10) (10000, 28, 28, 1) (10000, 10)\n"
     ]
    }
   ],
   "source": [
    "from keras.utils.np_utils import to_categorical\n",
    "\n",
    "# load data\n",
    "(X_train, y_train), (X_test, y_test) = mnist.load_data()\n",
    "\n",
    "# Data preprocessing\n",
    "# reshape to [samples][width][height][pixels]\n",
    "X_train = X_train.reshape(-1, 28, 28, 1).astype('float32')\n",
    "X_test = X_test.reshape(-1, 28, 28, 1).astype('float32')\n",
    "\n",
    "# normalize inputs from 0-255 to 0-1\n",
    "X_train = X_train / 255\n",
    "X_test = X_test / 255\n",
    "\n",
    "# one hot encode outputs\n",
    "y_train = to_categorical(y_train)\n",
    "y_test = to_categorical(y_test)\n",
    "num_classes = y_test.shape[1]\n",
    "\n",
    "print(X_train.shape, y_train.shape, X_test.shape, y_test.shape)"
   ]
  },
  {
   "cell_type": "code",
   "execution_count": 11,
   "metadata": {},
   "outputs": [
    {
     "name": "stdout",
     "output_type": "stream",
     "text": [
      "_________________________________________________________________\n",
      "Layer (type)                 Output Shape              Param #   \n",
      "=================================================================\n",
      "conv2d_1 (Conv2D)            (None, 26, 26, 32)        320       \n",
      "_________________________________________________________________\n",
      "max_pooling2d_1 (MaxPooling2 (None, 13, 13, 32)        0         \n",
      "_________________________________________________________________\n",
      "conv2d_2 (Conv2D)            (None, 11, 11, 64)        18496     \n",
      "_________________________________________________________________\n",
      "max_pooling2d_2 (MaxPooling2 (None, 5, 5, 64)          0         \n",
      "_________________________________________________________________\n",
      "dropout_1 (Dropout)          (None, 5, 5, 64)          0         \n",
      "_________________________________________________________________\n",
      "flatten_1 (Flatten)          (None, 1600)              0         \n",
      "_________________________________________________________________\n",
      "dense_1 (Dense)              (None, 128)               204928    \n",
      "_________________________________________________________________\n",
      "dense_2 (Dense)              (None, 50)                6450      \n",
      "_________________________________________________________________\n",
      "dense_3 (Dense)              (None, 10)                510       \n",
      "=================================================================\n",
      "Total params: 230,704\n",
      "Trainable params: 230,704\n",
      "Non-trainable params: 0\n",
      "_________________________________________________________________\n",
      "None\n",
      "Train on 60000 samples, validate on 10000 samples\n",
      "Epoch 1/50\n",
      "5s - loss: 0.2796 - acc: 0.9166 - val_loss: 0.0781 - val_acc: 0.9755\n",
      "Epoch 2/50\n",
      "4s - loss: 0.0713 - acc: 0.9782 - val_loss: 0.0427 - val_acc: 0.9865\n",
      "Epoch 3/50\n",
      "4s - loss: 0.0491 - acc: 0.9850 - val_loss: 0.0393 - val_acc: 0.9872\n",
      "Epoch 4/50\n",
      "4s - loss: 0.0387 - acc: 0.9879 - val_loss: 0.0316 - val_acc: 0.9899\n",
      "Epoch 5/50\n",
      "4s - loss: 0.0322 - acc: 0.9899 - val_loss: 0.0273 - val_acc: 0.9913\n",
      "Epoch 6/50\n",
      "4s - loss: 0.0284 - acc: 0.9911 - val_loss: 0.0263 - val_acc: 0.9912\n",
      "Epoch 7/50\n",
      "4s - loss: 0.0231 - acc: 0.9924 - val_loss: 0.0277 - val_acc: 0.9907\n",
      "Epoch 8/50\n",
      "4s - loss: 0.0212 - acc: 0.9930 - val_loss: 0.0312 - val_acc: 0.9888\n",
      "Epoch 9/50\n",
      "4s - loss: 0.0167 - acc: 0.9946 - val_loss: 0.0277 - val_acc: 0.9912\n",
      "Epoch 10/50\n",
      "4s - loss: 0.0177 - acc: 0.9944 - val_loss: 0.0229 - val_acc: 0.9925\n",
      "Epoch 11/50\n",
      "4s - loss: 0.0140 - acc: 0.9955 - val_loss: 0.0268 - val_acc: 0.9919\n",
      "Epoch 12/50\n",
      "4s - loss: 0.0124 - acc: 0.9958 - val_loss: 0.0243 - val_acc: 0.9928\n",
      "Epoch 13/50\n",
      "4s - loss: 0.0115 - acc: 0.9961 - val_loss: 0.0290 - val_acc: 0.9922\n",
      "Epoch 14/50\n",
      "4s - loss: 0.0101 - acc: 0.9966 - val_loss: 0.0285 - val_acc: 0.9923\n",
      "Epoch 15/50\n",
      "4s - loss: 0.0109 - acc: 0.9965 - val_loss: 0.0299 - val_acc: 0.9910\n",
      "Epoch 16/50\n",
      "4s - loss: 0.0091 - acc: 0.9969 - val_loss: 0.0233 - val_acc: 0.9935\n",
      "Epoch 17/50\n",
      "4s - loss: 0.0086 - acc: 0.9969 - val_loss: 0.0306 - val_acc: 0.9918\n",
      "Epoch 18/50\n",
      "4s - loss: 0.0070 - acc: 0.9977 - val_loss: 0.0344 - val_acc: 0.9925\n",
      "Epoch 19/50\n",
      "4s - loss: 0.0079 - acc: 0.9975 - val_loss: 0.0319 - val_acc: 0.9915\n",
      "Epoch 20/50\n",
      "4s - loss: 0.0079 - acc: 0.9973 - val_loss: 0.0334 - val_acc: 0.9913\n",
      "Epoch 21/50\n",
      "4s - loss: 0.0072 - acc: 0.9974 - val_loss: 0.0334 - val_acc: 0.9923\n",
      "loss of train set: 0.002\n",
      "accuracy of train set: 99.9%\n",
      "loss of test set: 0.033\n",
      "accuracy of test set: 99.2%\n"
     ]
    }
   ],
   "source": [
    "# Import libraries\n",
    "from keras.layers import Dropout,Flatten\n",
    "from keras.layers.convolutional import Conv2D,MaxPooling2D\n",
    "\n",
    "K.clear_session()\n",
    "np.random.seed(seed)\n",
    "\n",
    "# define the model\n",
    "def create_model():\n",
    "    # create model\n",
    "    model = Sequential()\n",
    "    model.add(Conv2D(32, (3, 3), input_shape=(28, 28,1), activation='relu'))\n",
    "    model.add(MaxPooling2D(pool_size=(2, 2)))\n",
    "    model.add(Conv2D(64, (3, 3), activation='relu'))\n",
    "    model.add(MaxPooling2D(pool_size=(2, 2)))\n",
    "    model.add(Dropout(0.2))\n",
    "    model.add(Flatten())\n",
    "    model.add(Dense(128, activation='relu'))\n",
    "    model.add(Dense(50, activation='relu'))\n",
    "    model.add(Dense(num_classes, activation='softmax'))\n",
    "    # Compile model\n",
    "    model.compile(loss='categorical_crossentropy', optimizer='adam', metrics=['accuracy'])\n",
    "    print(model.summary())\n",
    "    return model\n",
    "# build the model\n",
    "model = create_model()\n",
    "# callback\n",
    "early_stop = EarlyStopping(monitor='val_loss', patience=10, verbose=0, mode='min') #'val_acc'\n",
    "# train the model\n",
    "model_history = model.fit(X_train, y_train, validation_data=(X_test, y_test),\n",
    "                          epochs=50, batch_size=200, verbose=2,\n",
    "                          callbacks=[early_stop])\n",
    "\n",
    "# evaluate model on train set\n",
    "scores = model.evaluate(X_train,y_train,verbose=0)\n",
    "print('loss of train set: {:0.3f}'.format(scores[0]))\n",
    "print('accuracy of train set: {:0.1f}%'.format(scores[1]*100))\n",
    "# evaluate model on test data\n",
    "scores = model.evaluate(X_test,y_test,verbose=0)\n",
    "print('loss of test set: {:0.3f}'.format(scores[0]))\n",
    "print('accuracy of test set: {:0.1f}%'.format(scores[1]*100))"
   ]
  },
  {
   "cell_type": "code",
   "execution_count": 12,
   "metadata": {},
   "outputs": [
    {
     "data": {
      "image/png": "[encoded data removed]",
      "text/plain": [
       "<matplotlib.figure.Figure at 0x7f368e164e48>"
      ]
     },
     "metadata": {},
     "output_type": "display_data"
    }
   ],
   "source": [
    "plot_model_history()"
   ]
  }
 ],
 "metadata": {
  "anaconda-cloud": {},
  "kernelspec": {
   "display_name": "Python 3",
   "language": "python",
   "name": "python3"
  },
  "language_info": {
   "codemirror_mode": {
    "name": "ipython",
    "version": 3
   },
   "file_extension": ".py",
   "mimetype": "text/x-python",
   "name": "python",
   "nbconvert_exporter": "python",
   "pygments_lexer": "ipython3",
   "version": "3.6.3"
  }
 },
 "nbformat": 4,
 "nbformat_minor": 2
}
