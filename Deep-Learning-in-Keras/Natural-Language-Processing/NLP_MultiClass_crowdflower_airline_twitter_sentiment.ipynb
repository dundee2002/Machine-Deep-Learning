{
 "cells": [
  {
   "cell_type": "markdown",
   "metadata": {},
   "source": [
    "## NLP & MultiClass Classification: Airline Twitter sentiment data\n",
    "https://www.crowdflower.com/data-for-everyone/\n",
    "\n",
    "** Dataset Information: **\n",
    "\n",
    "- 14640 Scraped Twitter data for major U.S. airlines including positive, negative, and neutral tweets\n",
    "\n",
    "** Attribute Information:**\n",
    "\n",
    "- _unit_id                      \n",
    "- _golden                       \n",
    "- _unit_state                    \n",
    "- _trusted_judgments           \n",
    "- _last_judgment_at            \n",
    "- airline_sentiment              \n",
    "- airline_sentiment:confidence    \n",
    "- negativereason                  \n",
    "- negativereason:confidence     \n",
    "- airline                      \n",
    "- airline_sentiment_gold          \n",
    "- name                         \n",
    "- negativereason_gold         \n",
    "- retweet_count          \n",
    "- text                       \n",
    "- tweet_coord                     \n",
    "- tweet_created                  \n",
    "- tweet_id                        \n",
    "- tweet_location                  \n",
    "- user_timezone                   \n",
    "\n",
    "** Objective of this project **\n",
    "\n",
    "predict sentiment from tweets"
   ]
  },
  {
   "cell_type": "markdown",
   "metadata": {},
   "source": [
    "# Data"
   ]
  },
  {
   "cell_type": "code",
   "execution_count": 1,
   "metadata": {
    "collapsed": true
   },
   "outputs": [],
   "source": [
    "# Load libraries\n",
    "import numpy as np\n",
    "import pandas as pd\n",
    "import matplotlib.pyplot as plt\n",
    "import seaborn as sns\n",
    "%matplotlib inline"
   ]
  },
  {
   "cell_type": "code",
   "execution_count": 2,
   "metadata": {},
   "outputs": [
    {
     "data": {
      "text/html": [
       "<div>\n",
       "<style>\n",
       "    .dataframe thead tr:only-child th {\n",
       "        text-align: right;\n",
       "    }\n",
       "\n",
       "    .dataframe thead th {\n",
       "        text-align: left;\n",
       "    }\n",
       "\n",
       "    .dataframe tbody tr th {\n",
       "        vertical-align: top;\n",
       "    }\n",
       "</style>\n",
       "<table border=\"1\" class=\"dataframe\">\n",
       "  <thead>\n",
       "    <tr style=\"text-align: right;\">\n",
       "      <th></th>\n",
       "      <th>_unit_id</th>\n",
       "      <th>_golden</th>\n",
       "      <th>_unit_state</th>\n",
       "      <th>_trusted_judgments</th>\n",
       "      <th>_last_judgment_at</th>\n",
       "      <th>airline_sentiment</th>\n",
       "      <th>airline_sentiment:confidence</th>\n",
       "      <th>negativereason</th>\n",
       "      <th>negativereason:confidence</th>\n",
       "      <th>airline</th>\n",
       "      <th>airline_sentiment_gold</th>\n",
       "      <th>name</th>\n",
       "      <th>negativereason_gold</th>\n",
       "      <th>retweet_count</th>\n",
       "      <th>text</th>\n",
       "      <th>tweet_coord</th>\n",
       "      <th>tweet_created</th>\n",
       "      <th>tweet_id</th>\n",
       "      <th>tweet_location</th>\n",
       "      <th>user_timezone</th>\n",
       "    </tr>\n",
       "  </thead>\n",
       "  <tbody>\n",
       "    <tr>\n",
       "      <th>0</th>\n",
       "      <td>681448150</td>\n",
       "      <td>False</td>\n",
       "      <td>finalized</td>\n",
       "      <td>3</td>\n",
       "      <td>2/25/15 5:24</td>\n",
       "      <td>neutral</td>\n",
       "      <td>1.0000</td>\n",
       "      <td>NaN</td>\n",
       "      <td>NaN</td>\n",
       "      <td>Virgin America</td>\n",
       "      <td>NaN</td>\n",
       "      <td>cairdin</td>\n",
       "      <td>NaN</td>\n",
       "      <td>0</td>\n",
       "      <td>@VirginAmerica What @dhepburn said.</td>\n",
       "      <td>NaN</td>\n",
       "      <td>2/24/15 11:35</td>\n",
       "      <td>5.703060e+17</td>\n",
       "      <td>NaN</td>\n",
       "      <td>Eastern Time (US &amp; Canada)</td>\n",
       "    </tr>\n",
       "    <tr>\n",
       "      <th>1</th>\n",
       "      <td>681448153</td>\n",
       "      <td>False</td>\n",
       "      <td>finalized</td>\n",
       "      <td>3</td>\n",
       "      <td>2/25/15 1:53</td>\n",
       "      <td>positive</td>\n",
       "      <td>0.3486</td>\n",
       "      <td>NaN</td>\n",
       "      <td>0.0000</td>\n",
       "      <td>Virgin America</td>\n",
       "      <td>NaN</td>\n",
       "      <td>jnardino</td>\n",
       "      <td>NaN</td>\n",
       "      <td>0</td>\n",
       "      <td>@VirginAmerica plus you've added commercials to the experience... tacky.</td>\n",
       "      <td>NaN</td>\n",
       "      <td>2/24/15 11:15</td>\n",
       "      <td>5.703010e+17</td>\n",
       "      <td>NaN</td>\n",
       "      <td>Pacific Time (US &amp; Canada)</td>\n",
       "    </tr>\n",
       "    <tr>\n",
       "      <th>2</th>\n",
       "      <td>681448156</td>\n",
       "      <td>False</td>\n",
       "      <td>finalized</td>\n",
       "      <td>3</td>\n",
       "      <td>2/25/15 10:01</td>\n",
       "      <td>neutral</td>\n",
       "      <td>0.6837</td>\n",
       "      <td>NaN</td>\n",
       "      <td>NaN</td>\n",
       "      <td>Virgin America</td>\n",
       "      <td>NaN</td>\n",
       "      <td>yvonnalynn</td>\n",
       "      <td>NaN</td>\n",
       "      <td>0</td>\n",
       "      <td>@VirginAmerica I didn't today... Must mean I need to take another trip!</td>\n",
       "      <td>NaN</td>\n",
       "      <td>2/24/15 11:15</td>\n",
       "      <td>5.703010e+17</td>\n",
       "      <td>Lets Play</td>\n",
       "      <td>Central Time (US &amp; Canada)</td>\n",
       "    </tr>\n",
       "    <tr>\n",
       "      <th>3</th>\n",
       "      <td>681448158</td>\n",
       "      <td>False</td>\n",
       "      <td>finalized</td>\n",
       "      <td>3</td>\n",
       "      <td>2/25/15 3:05</td>\n",
       "      <td>negative</td>\n",
       "      <td>1.0000</td>\n",
       "      <td>Bad Flight</td>\n",
       "      <td>0.7033</td>\n",
       "      <td>Virgin America</td>\n",
       "      <td>NaN</td>\n",
       "      <td>jnardino</td>\n",
       "      <td>NaN</td>\n",
       "      <td>0</td>\n",
       "      <td>@VirginAmerica it's really aggressive to blast obnoxious \"entertainment\" in your guests' faces &amp;amp; they have little recourse</td>\n",
       "      <td>NaN</td>\n",
       "      <td>2/24/15 11:15</td>\n",
       "      <td>5.703010e+17</td>\n",
       "      <td>NaN</td>\n",
       "      <td>Pacific Time (US &amp; Canada)</td>\n",
       "    </tr>\n",
       "    <tr>\n",
       "      <th>4</th>\n",
       "      <td>681448159</td>\n",
       "      <td>False</td>\n",
       "      <td>finalized</td>\n",
       "      <td>3</td>\n",
       "      <td>2/25/15 5:50</td>\n",
       "      <td>negative</td>\n",
       "      <td>1.0000</td>\n",
       "      <td>Can't Tell</td>\n",
       "      <td>1.0000</td>\n",
       "      <td>Virgin America</td>\n",
       "      <td>NaN</td>\n",
       "      <td>jnardino</td>\n",
       "      <td>NaN</td>\n",
       "      <td>0</td>\n",
       "      <td>@VirginAmerica and it's a really big bad thing about it</td>\n",
       "      <td>NaN</td>\n",
       "      <td>2/24/15 11:14</td>\n",
       "      <td>5.703010e+17</td>\n",
       "      <td>NaN</td>\n",
       "      <td>Pacific Time (US &amp; Canada)</td>\n",
       "    </tr>\n",
       "  </tbody>\n",
       "</table>\n",
       "</div>"
      ],
      "text/plain": [
       "    _unit_id  _golden _unit_state  _trusted_judgments _last_judgment_at  \\\n",
       "0  681448150  False    finalized   3                   2/25/15 5:24       \n",
       "1  681448153  False    finalized   3                   2/25/15 1:53       \n",
       "2  681448156  False    finalized   3                   2/25/15 10:01      \n",
       "3  681448158  False    finalized   3                   2/25/15 3:05       \n",
       "4  681448159  False    finalized   3                   2/25/15 5:50       \n",
       "\n",
       "  airline_sentiment  airline_sentiment:confidence negativereason  \\\n",
       "0  neutral           1.0000                        NaN             \n",
       "1  positive          0.3486                        NaN             \n",
       "2  neutral           0.6837                        NaN             \n",
       "3  negative          1.0000                        Bad Flight      \n",
       "4  negative          1.0000                        Can't Tell      \n",
       "\n",
       "   negativereason:confidence         airline airline_sentiment_gold  \\\n",
       "0 NaN                         Virgin America  NaN                     \n",
       "1  0.0000                     Virgin America  NaN                     \n",
       "2 NaN                         Virgin America  NaN                     \n",
       "3  0.7033                     Virgin America  NaN                     \n",
       "4  1.0000                     Virgin America  NaN                     \n",
       "\n",
       "         name negativereason_gold  retweet_count  \\\n",
       "0  cairdin     NaN                 0               \n",
       "1  jnardino    NaN                 0               \n",
       "2  yvonnalynn  NaN                 0               \n",
       "3  jnardino    NaN                 0               \n",
       "4  jnardino    NaN                 0               \n",
       "\n",
       "                                                                                                                             text  \\\n",
       "0  @VirginAmerica What @dhepburn said.                                                                                              \n",
       "1  @VirginAmerica plus you've added commercials to the experience... tacky.                                                         \n",
       "2  @VirginAmerica I didn't today... Must mean I need to take another trip!                                                          \n",
       "3  @VirginAmerica it's really aggressive to blast obnoxious \"entertainment\" in your guests' faces &amp; they have little recourse   \n",
       "4  @VirginAmerica and it's a really big bad thing about it                                                                          \n",
       "\n",
       "  tweet_coord  tweet_created      tweet_id tweet_location  \\\n",
       "0  NaN         2/24/15 11:35  5.703060e+17  NaN             \n",
       "1  NaN         2/24/15 11:15  5.703010e+17  NaN             \n",
       "2  NaN         2/24/15 11:15  5.703010e+17  Lets Play       \n",
       "3  NaN         2/24/15 11:15  5.703010e+17  NaN             \n",
       "4  NaN         2/24/15 11:14  5.703010e+17  NaN             \n",
       "\n",
       "                user_timezone  \n",
       "0  Eastern Time (US & Canada)  \n",
       "1  Pacific Time (US & Canada)  \n",
       "2  Central Time (US & Canada)  \n",
       "3  Pacific Time (US & Canada)  \n",
       "4  Pacific Time (US & Canada)  "
      ]
     },
     "execution_count": 2,
     "metadata": {},
     "output_type": "execute_result"
    }
   ],
   "source": [
    "# Load Data\n",
    "df = pd.read_csv('Airline-Sentiment-2-w-AA.csv', encoding='latin-1')\n",
    "pd.set_option('display.max_colwidth', -1)\n",
    "df.head()"
   ]
  },
  {
   "cell_type": "code",
   "execution_count": 3,
   "metadata": {},
   "outputs": [
    {
     "data": {
      "text/plain": [
       "14635    @AmericanAir thank you we got on a different flight to Chicago.                                                                                       \n",
       "14636    @AmericanAir leaving over 20 minutes Late Flight. No warnings or communication until we were 15 minutes Late Flight. That's called shitty customer svc\n",
       "14637    @AmericanAir Please bring American Airlines to #BlackBerry10                                                                                          \n",
       "14638    @AmericanAir you have my money, you change my flight, and don't answer your phones! Any other suggestions so I can make my commitment??               \n",
       "14639    @AmericanAir we have 8 ppl so we need 2 know how many seats are on the next flight. Plz put us on standby for 4 people on the next flight?            \n",
       "Name: text, dtype: object"
      ]
     },
     "execution_count": 3,
     "metadata": {},
     "output_type": "execute_result"
    }
   ],
   "source": [
    "df['text'].tail()"
   ]
  },
  {
   "cell_type": "code",
   "execution_count": 4,
   "metadata": {},
   "outputs": [
    {
     "name": "stdout",
     "output_type": "stream",
     "text": [
      "<class 'pandas.core.frame.DataFrame'>\n",
      "RangeIndex: 14640 entries, 0 to 14639\n",
      "Data columns (total 20 columns):\n",
      "_unit_id                        14640 non-null int64\n",
      "_golden                         14640 non-null bool\n",
      "_unit_state                     14640 non-null object\n",
      "_trusted_judgments              14640 non-null int64\n",
      "_last_judgment_at               14584 non-null object\n",
      "airline_sentiment               14640 non-null object\n",
      "airline_sentiment:confidence    14640 non-null float64\n",
      "negativereason                  9178 non-null object\n",
      "negativereason:confidence       10522 non-null float64\n",
      "airline                         14640 non-null object\n",
      "airline_sentiment_gold          40 non-null object\n",
      "name                            14640 non-null object\n",
      "negativereason_gold             32 non-null object\n",
      "retweet_count                   14640 non-null int64\n",
      "text                            14640 non-null object\n",
      "tweet_coord                     1019 non-null object\n",
      "tweet_created                   14640 non-null object\n",
      "tweet_id                        14640 non-null float64\n",
      "tweet_location                  9907 non-null object\n",
      "user_timezone                   9820 non-null object\n",
      "dtypes: bool(1), float64(3), int64(3), object(13)\n",
      "memory usage: 2.1+ MB\n"
     ]
    }
   ],
   "source": [
    "df.info()"
   ]
  },
  {
   "cell_type": "code",
   "execution_count": 5,
   "metadata": {},
   "outputs": [
    {
     "data": {
      "text/html": [
       "<div>\n",
       "<style>\n",
       "    .dataframe thead tr:only-child th {\n",
       "        text-align: right;\n",
       "    }\n",
       "\n",
       "    .dataframe thead th {\n",
       "        text-align: left;\n",
       "    }\n",
       "\n",
       "    .dataframe tbody tr th {\n",
       "        vertical-align: top;\n",
       "    }\n",
       "</style>\n",
       "<table border=\"1\" class=\"dataframe\">\n",
       "  <thead>\n",
       "    <tr style=\"text-align: right;\">\n",
       "      <th></th>\n",
       "      <th>_unit_id</th>\n",
       "      <th>_trusted_judgments</th>\n",
       "      <th>airline_sentiment:confidence</th>\n",
       "      <th>negativereason:confidence</th>\n",
       "      <th>retweet_count</th>\n",
       "      <th>tweet_id</th>\n",
       "    </tr>\n",
       "  </thead>\n",
       "  <tbody>\n",
       "    <tr>\n",
       "      <th>count</th>\n",
       "      <td>1.464000e+04</td>\n",
       "      <td>14640.000000</td>\n",
       "      <td>14640.000000</td>\n",
       "      <td>10522.000000</td>\n",
       "      <td>14640.000000</td>\n",
       "      <td>1.464000e+04</td>\n",
       "    </tr>\n",
       "    <tr>\n",
       "      <th>mean</th>\n",
       "      <td>6.814957e+08</td>\n",
       "      <td>3.618648</td>\n",
       "      <td>0.900169</td>\n",
       "      <td>0.638298</td>\n",
       "      <td>0.082650</td>\n",
       "      <td>5.692184e+17</td>\n",
       "    </tr>\n",
       "    <tr>\n",
       "      <th>std</th>\n",
       "      <td>8.504314e+04</td>\n",
       "      <td>11.858704</td>\n",
       "      <td>0.162830</td>\n",
       "      <td>0.330440</td>\n",
       "      <td>0.745778</td>\n",
       "      <td>7.791092e+14</td>\n",
       "    </tr>\n",
       "    <tr>\n",
       "      <th>min</th>\n",
       "      <td>6.814482e+08</td>\n",
       "      <td>2.000000</td>\n",
       "      <td>0.335000</td>\n",
       "      <td>0.000000</td>\n",
       "      <td>0.000000</td>\n",
       "      <td>5.675880e+17</td>\n",
       "    </tr>\n",
       "    <tr>\n",
       "      <th>25%</th>\n",
       "      <td>6.814536e+08</td>\n",
       "      <td>3.000000</td>\n",
       "      <td>0.692300</td>\n",
       "      <td>0.360600</td>\n",
       "      <td>0.000000</td>\n",
       "      <td>5.685590e+17</td>\n",
       "    </tr>\n",
       "    <tr>\n",
       "      <th>50%</th>\n",
       "      <td>6.814578e+08</td>\n",
       "      <td>3.000000</td>\n",
       "      <td>1.000000</td>\n",
       "      <td>0.670600</td>\n",
       "      <td>0.000000</td>\n",
       "      <td>5.694780e+17</td>\n",
       "    </tr>\n",
       "    <tr>\n",
       "      <th>75%</th>\n",
       "      <td>6.814623e+08</td>\n",
       "      <td>3.000000</td>\n",
       "      <td>1.000000</td>\n",
       "      <td>1.000000</td>\n",
       "      <td>0.000000</td>\n",
       "      <td>5.698902e+17</td>\n",
       "    </tr>\n",
       "    <tr>\n",
       "      <th>max</th>\n",
       "      <td>6.816798e+08</td>\n",
       "      <td>248.000000</td>\n",
       "      <td>1.000000</td>\n",
       "      <td>1.000000</td>\n",
       "      <td>44.000000</td>\n",
       "      <td>5.703110e+17</td>\n",
       "    </tr>\n",
       "  </tbody>\n",
       "</table>\n",
       "</div>"
      ],
      "text/plain": [
       "           _unit_id  _trusted_judgments  airline_sentiment:confidence  \\\n",
       "count  1.464000e+04  14640.000000        14640.000000                   \n",
       "mean   6.814957e+08  3.618648            0.900169                       \n",
       "std    8.504314e+04  11.858704           0.162830                       \n",
       "min    6.814482e+08  2.000000            0.335000                       \n",
       "25%    6.814536e+08  3.000000            0.692300                       \n",
       "50%    6.814578e+08  3.000000            1.000000                       \n",
       "75%    6.814623e+08  3.000000            1.000000                       \n",
       "max    6.816798e+08  248.000000          1.000000                       \n",
       "\n",
       "       negativereason:confidence  retweet_count      tweet_id  \n",
       "count  10522.000000               14640.000000   1.464000e+04  \n",
       "mean   0.638298                   0.082650       5.692184e+17  \n",
       "std    0.330440                   0.745778       7.791092e+14  \n",
       "min    0.000000                   0.000000       5.675880e+17  \n",
       "25%    0.360600                   0.000000       5.685590e+17  \n",
       "50%    0.670600                   0.000000       5.694780e+17  \n",
       "75%    1.000000                   0.000000       5.698902e+17  \n",
       "max    1.000000                   44.000000      5.703110e+17  "
      ]
     },
     "execution_count": 5,
     "metadata": {},
     "output_type": "execute_result"
    }
   ],
   "source": [
    "df.describe()"
   ]
  },
  {
   "cell_type": "markdown",
   "metadata": {},
   "source": [
    "# Exploratory Data Analysis"
   ]
  },
  {
   "cell_type": "code",
   "execution_count": 6,
   "metadata": {},
   "outputs": [
    {
     "data": {
      "text/plain": [
       "negative    9178\n",
       "neutral     3099\n",
       "positive    2363\n",
       "Name: airline_sentiment, dtype: int64"
      ]
     },
     "execution_count": 6,
     "metadata": {},
     "output_type": "execute_result"
    },
    {
     "data": {
      "image/png": "[encoded data removed]",
      "text/plain": [
       "<matplotlib.figure.Figure at 0x2ae1a5ab4a8>"
      ]
     },
     "metadata": {},
     "output_type": "display_data"
    }
   ],
   "source": [
    "# inspect sentiment\n",
    "sns.countplot(df['airline_sentiment'])\n",
    "df['airline_sentiment'].value_counts() #imbalanced"
   ]
  },
  {
   "cell_type": "code",
   "execution_count": 7,
   "metadata": {},
   "outputs": [
    {
     "data": {
      "image/png": "[encoded data removed]",
      "text/plain": [
       "<matplotlib.figure.Figure at 0x2ae1e7da1d0>"
      ]
     },
     "metadata": {},
     "output_type": "display_data"
    }
   ],
   "source": [
    "# numetic features\n",
    "num_cols = ['airline_sentiment:confidence','negativereason:confidence','retweet_count']\n",
    "df[num_cols].hist(layout=(1,3),figsize=(9,3))\n",
    "plt.tight_layout()"
   ]
  },
  {
   "cell_type": "code",
   "execution_count": 8,
   "metadata": {},
   "outputs": [
    {
     "data": {
      "image/png": "[encoded data removed]",
      "text/plain": [
       "<matplotlib.figure.Figure at 0x2ae1e933d30>"
      ]
     },
     "metadata": {},
     "output_type": "display_data"
    }
   ],
   "source": [
    "plt.figure(figsize=(9,3))\n",
    "for i,name in enumerate(num_cols):\n",
    "    plt.subplot(1,3,i+1)\n",
    "    _ = df[num_cols[i]].plot(kind='box',title=name)\n",
    "plt.tight_layout()"
   ]
  },
  {
   "cell_type": "code",
   "execution_count": 9,
   "metadata": {},
   "outputs": [
    {
     "data": {
      "text/html": [
       "<div>\n",
       "<style>\n",
       "    .dataframe thead tr:only-child th {\n",
       "        text-align: right;\n",
       "    }\n",
       "\n",
       "    .dataframe thead th {\n",
       "        text-align: left;\n",
       "    }\n",
       "\n",
       "    .dataframe tbody tr th {\n",
       "        vertical-align: top;\n",
       "    }\n",
       "</style>\n",
       "<table border=\"1\" class=\"dataframe\">\n",
       "  <thead>\n",
       "    <tr style=\"text-align: right;\">\n",
       "      <th></th>\n",
       "      <th>airline_sentiment</th>\n",
       "      <th>text_length</th>\n",
       "      <th>text</th>\n",
       "    </tr>\n",
       "  </thead>\n",
       "  <tbody>\n",
       "    <tr>\n",
       "      <th>0</th>\n",
       "      <td>neutral</td>\n",
       "      <td>35</td>\n",
       "      <td>@VirginAmerica What @dhepburn said.</td>\n",
       "    </tr>\n",
       "    <tr>\n",
       "      <th>1</th>\n",
       "      <td>positive</td>\n",
       "      <td>72</td>\n",
       "      <td>@VirginAmerica plus you've added commercials to the experience... tacky.</td>\n",
       "    </tr>\n",
       "    <tr>\n",
       "      <th>2</th>\n",
       "      <td>neutral</td>\n",
       "      <td>71</td>\n",
       "      <td>@VirginAmerica I didn't today... Must mean I need to take another trip!</td>\n",
       "    </tr>\n",
       "    <tr>\n",
       "      <th>3</th>\n",
       "      <td>negative</td>\n",
       "      <td>126</td>\n",
       "      <td>@VirginAmerica it's really aggressive to blast obnoxious \"entertainment\" in your guests' faces &amp;amp; they have little recourse</td>\n",
       "    </tr>\n",
       "    <tr>\n",
       "      <th>4</th>\n",
       "      <td>negative</td>\n",
       "      <td>55</td>\n",
       "      <td>@VirginAmerica and it's a really big bad thing about it</td>\n",
       "    </tr>\n",
       "  </tbody>\n",
       "</table>\n",
       "</div>"
      ],
      "text/plain": [
       "  airline_sentiment  text_length  \\\n",
       "0  neutral           35            \n",
       "1  positive          72            \n",
       "2  neutral           71            \n",
       "3  negative          126           \n",
       "4  negative          55            \n",
       "\n",
       "                                                                                                                             text  \n",
       "0  @VirginAmerica What @dhepburn said.                                                                                             \n",
       "1  @VirginAmerica plus you've added commercials to the experience... tacky.                                                        \n",
       "2  @VirginAmerica I didn't today... Must mean I need to take another trip!                                                         \n",
       "3  @VirginAmerica it's really aggressive to blast obnoxious \"entertainment\" in your guests' faces &amp; they have little recourse  \n",
       "4  @VirginAmerica and it's a really big bad thing about it                                                                         "
      ]
     },
     "execution_count": 9,
     "metadata": {},
     "output_type": "execute_result"
    }
   ],
   "source": [
    "# text length\n",
    "df['text_length'] = df['text'].apply(len)\n",
    "df[['airline_sentiment','text_length','text']].head()"
   ]
  },
  {
   "cell_type": "code",
   "execution_count": 10,
   "metadata": {},
   "outputs": [
    {
     "data": {
      "text/plain": [
       "count    14640.000000\n",
       "mean     104.118511  \n",
       "std      36.256550   \n",
       "min      12.000000   \n",
       "25%      77.000000   \n",
       "50%      115.000000  \n",
       "75%      136.000000  \n",
       "max      229.000000  \n",
       "Name: text_length, dtype: float64"
      ]
     },
     "execution_count": 10,
     "metadata": {},
     "output_type": "execute_result"
    }
   ],
   "source": [
    "df['text_length'].describe()"
   ]
  },
  {
   "cell_type": "code",
   "execution_count": 11,
   "metadata": {},
   "outputs": [
    {
     "data": {
      "text/plain": [
       "<matplotlib.axes._subplots.AxesSubplot at 0x2ae1e94add8>"
      ]
     },
     "execution_count": 11,
     "metadata": {},
     "output_type": "execute_result"
    },
    {
     "data": {
      "image/png": "[encoded data removed]",
      "text/plain": [
       "<matplotlib.figure.Figure at 0x2ae1e97c278>"
      ]
     },
     "metadata": {},
     "output_type": "display_data"
    }
   ],
   "source": [
    "df['text_length'].hist(bins=50)"
   ]
  },
  {
   "cell_type": "code",
   "execution_count": 12,
   "metadata": {},
   "outputs": [
    {
     "data": {
      "text/plain": [
       "<seaborn.axisgrid.FacetGrid at 0x2ae1e7da2e8>"
      ]
     },
     "execution_count": 12,
     "metadata": {},
     "output_type": "execute_result"
    },
    {
     "data": {
      "image/png": "[encoded data removed]",
      "text/plain": [
       "<matplotlib.figure.Figure at 0x2ae1e820eb8>"
      ]
     },
     "metadata": {},
     "output_type": "display_data"
    }
   ],
   "source": [
    "g = sns.FacetGrid(df,col='airline_sentiment')\n",
    "g.map(plt.hist,'text_length')"
   ]
  },
  {
   "cell_type": "code",
   "execution_count": 13,
   "metadata": {},
   "outputs": [
    {
     "data": {
      "text/plain": [
       "<matplotlib.axes._subplots.AxesSubplot at 0x2ae1eb05dd8>"
      ]
     },
     "execution_count": 13,
     "metadata": {},
     "output_type": "execute_result"
    },
    {
     "data": {
      "image/png": "[encoded data removed]",
      "text/plain": [
       "<matplotlib.figure.Figure at 0x2ae1ea61e10>"
      ]
     },
     "metadata": {},
     "output_type": "display_data"
    }
   ],
   "source": [
    "sns.boxplot(x='airline_sentiment',y='text_length',data=df,palette='rainbow')"
   ]
  },
  {
   "cell_type": "code",
   "execution_count": 14,
   "metadata": {},
   "outputs": [
    {
     "data": {
      "text/html": [
       "<div>\n",
       "<style>\n",
       "    .dataframe thead tr:only-child th {\n",
       "        text-align: right;\n",
       "    }\n",
       "\n",
       "    .dataframe thead th {\n",
       "        text-align: left;\n",
       "    }\n",
       "\n",
       "    .dataframe tbody tr th {\n",
       "        vertical-align: top;\n",
       "    }\n",
       "</style>\n",
       "<table border=\"1\" class=\"dataframe\">\n",
       "  <thead>\n",
       "    <tr style=\"text-align: right;\">\n",
       "      <th></th>\n",
       "      <th>_unit_id</th>\n",
       "      <th>_golden</th>\n",
       "      <th>_trusted_judgments</th>\n",
       "      <th>airline_sentiment:confidence</th>\n",
       "      <th>negativereason:confidence</th>\n",
       "      <th>retweet_count</th>\n",
       "      <th>tweet_id</th>\n",
       "      <th>text_length</th>\n",
       "    </tr>\n",
       "    <tr>\n",
       "      <th>airline_sentiment</th>\n",
       "      <th></th>\n",
       "      <th></th>\n",
       "      <th></th>\n",
       "      <th></th>\n",
       "      <th></th>\n",
       "      <th></th>\n",
       "      <th></th>\n",
       "      <th></th>\n",
       "    </tr>\n",
       "  </thead>\n",
       "  <tbody>\n",
       "    <tr>\n",
       "      <th>negative</th>\n",
       "      <td>6.815016e+08</td>\n",
       "      <td>0.003487</td>\n",
       "      <td>3.789823</td>\n",
       "      <td>0.933365</td>\n",
       "      <td>0.731769</td>\n",
       "      <td>0.093375</td>\n",
       "      <td>5.692602e+17</td>\n",
       "      <td>114.093702</td>\n",
       "    </tr>\n",
       "    <tr>\n",
       "      <th>neutral</th>\n",
       "      <td>6.814867e+08</td>\n",
       "      <td>0.000968</td>\n",
       "      <td>3.221362</td>\n",
       "      <td>0.823303</td>\n",
       "      <td>0.000000</td>\n",
       "      <td>0.060987</td>\n",
       "      <td>5.691841e+17</td>\n",
       "      <td>87.785737</td>\n",
       "    </tr>\n",
       "    <tr>\n",
       "      <th>positive</th>\n",
       "      <td>6.814846e+08</td>\n",
       "      <td>0.002116</td>\n",
       "      <td>3.474820</td>\n",
       "      <td>0.872039</td>\n",
       "      <td>0.000000</td>\n",
       "      <td>0.069403</td>\n",
       "      <td>5.691006e+17</td>\n",
       "      <td>86.794329</td>\n",
       "    </tr>\n",
       "  </tbody>\n",
       "</table>\n",
       "</div>"
      ],
      "text/plain": [
       "                       _unit_id   _golden  _trusted_judgments  \\\n",
       "airline_sentiment                                               \n",
       "negative           6.815016e+08  0.003487  3.789823             \n",
       "neutral            6.814867e+08  0.000968  3.221362             \n",
       "positive           6.814846e+08  0.002116  3.474820             \n",
       "\n",
       "                   airline_sentiment:confidence  negativereason:confidence  \\\n",
       "airline_sentiment                                                            \n",
       "negative           0.933365                      0.731769                    \n",
       "neutral            0.823303                      0.000000                    \n",
       "positive           0.872039                      0.000000                    \n",
       "\n",
       "                   retweet_count      tweet_id  text_length  \n",
       "airline_sentiment                                            \n",
       "negative           0.093375       5.692602e+17  114.093702   \n",
       "neutral            0.060987       5.691841e+17  87.785737    \n",
       "positive           0.069403       5.691006e+17  86.794329    "
      ]
     },
     "execution_count": 14,
     "metadata": {},
     "output_type": "execute_result"
    }
   ],
   "source": [
    "sentiment = df.groupby('airline_sentiment').mean()\n",
    "sentiment"
   ]
  },
  {
   "cell_type": "code",
   "execution_count": 15,
   "metadata": {},
   "outputs": [
    {
     "data": {
      "text/plain": [
       "<matplotlib.axes._subplots.AxesSubplot at 0x2ae1eb890f0>"
      ]
     },
     "execution_count": 15,
     "metadata": {},
     "output_type": "execute_result"
    },
    {
     "data": {
      "image/png": "[encoded data removed]",
      "text/plain": [
       "<matplotlib.figure.Figure at 0x2ae1eb8feb8>"
      ]
     },
     "metadata": {},
     "output_type": "display_data"
    }
   ],
   "source": [
    "num_cols = num_cols + ['airline_sentiment','text_length']\n",
    "sns.heatmap(df[num_cols].corr(), annot = True, cmap='coolwarm')"
   ]
  },
  {
   "cell_type": "code",
   "execution_count": 16,
   "metadata": {},
   "outputs": [
    {
     "data": {
      "image/png": "[encoded data removed]",
      "text/plain": [
       "<matplotlib.figure.Figure at 0x2ae1ebfa780>"
      ]
     },
     "metadata": {},
     "output_type": "display_data"
    }
   ],
   "source": [
    "# negative reason\n",
    "df['negativereason'].value_counts().plot(kind='bar', title='Negative Reasons')\n",
    "plt.ylabel('Count')\n",
    "plt.xticks(rotation=75)\n",
    "plt.show()"
   ]
  },
  {
   "cell_type": "markdown",
   "metadata": {},
   "source": [
    "# Data Preprocessing"
   ]
  },
  {
   "cell_type": "markdown",
   "metadata": {},
   "source": [
    "#### Clean Text"
   ]
  },
  {
   "cell_type": "code",
   "execution_count": 17,
   "metadata": {
    "collapsed": true
   },
   "outputs": [],
   "source": [
    "df = df[['text','airline_sentiment']]"
   ]
  },
  {
   "cell_type": "code",
   "execution_count": 18,
   "metadata": {
    "collapsed": true
   },
   "outputs": [],
   "source": [
    "from nltk.corpus import stopwords\n",
    "import re\n",
    "# remove urls & stopwords\n",
    "def clean_text(s):\n",
    "    s = re.sub(r'http\\S+', '', s)\n",
    "    return ' '.join(filter(lambda word: word not in set(stopwords.words('english')+['rt','via']), s.split()))\n",
    "    \n",
    "X = df['text'].apply(clean_text)"
   ]
  },
  {
   "cell_type": "markdown",
   "metadata": {},
   "source": [
    "#### Encode Categorical to Dummy var"
   ]
  },
  {
   "cell_type": "code",
   "execution_count": 19,
   "metadata": {},
   "outputs": [
    {
     "data": {
      "text/plain": [
       "array([[0, 1, 0],\n",
       "       [0, 0, 1],\n",
       "       [0, 1, 0],\n",
       "       ..., \n",
       "       [0, 1, 0],\n",
       "       [1, 0, 0],\n",
       "       [0, 1, 0]], dtype=uint8)"
      ]
     },
     "execution_count": 19,
     "metadata": {},
     "output_type": "execute_result"
    }
   ],
   "source": [
    "y = pd.get_dummies(df['airline_sentiment']).values\n",
    "y"
   ]
  },
  {
   "cell_type": "markdown",
   "metadata": {},
   "source": [
    "#### Spilt Train Test sets"
   ]
  },
  {
   "cell_type": "code",
   "execution_count": 20,
   "metadata": {
    "collapsed": true
   },
   "outputs": [],
   "source": [
    "seed = 101 # fix random seed for reproducibility\n",
    "np.random.seed(seed)"
   ]
  },
  {
   "cell_type": "code",
   "execution_count": 21,
   "metadata": {},
   "outputs": [
    {
     "name": "stdout",
     "output_type": "stream",
     "text": [
      "(11712,) (2928,) (11712, 3) (2928, 3)\n"
     ]
    }
   ],
   "source": [
    "from sklearn.model_selection import train_test_split\n",
    "X_train, X_test, y_train, y_test = train_test_split(X, y, \n",
    "                                                    test_size=0.2,\n",
    "                                                    stratify=y,\n",
    "                                                    random_state=seed)\n",
    "print(X_train.shape, X_test.shape, y_train.shape, y_test.shape)"
   ]
  },
  {
   "cell_type": "markdown",
   "metadata": {},
   "source": [
    "#### Tokenize text"
   ]
  },
  {
   "cell_type": "code",
   "execution_count": 22,
   "metadata": {},
   "outputs": [
    {
     "name": "stderr",
     "output_type": "stream",
     "text": [
      "Using TensorFlow backend.\n"
     ]
    }
   ],
   "source": [
    "from keras.preprocessing.text import Tokenizer\n",
    "max_features = 10000\n",
    "tokenizer = Tokenizer(num_words=max_features)\n",
    "tokenizer.fit_on_texts(list(X_train))\n",
    "X_train = tokenizer.texts_to_sequences(X_train)\n",
    "X_test = tokenizer.texts_to_sequences(X_test)"
   ]
  },
  {
   "cell_type": "code",
   "execution_count": 23,
   "metadata": {},
   "outputs": [
    {
     "data": {
      "text/plain": [
       "11712"
      ]
     },
     "execution_count": 23,
     "metadata": {},
     "output_type": "execute_result"
    }
   ],
   "source": [
    "len(X_train)\n",
    "#X_train[:10]\n",
    "#tokenizer.word_counts\n",
    "#tokenizer.word_index"
   ]
  },
  {
   "cell_type": "code",
   "execution_count": 24,
   "metadata": {
    "scrolled": true
   },
   "outputs": [
    {
     "data": {
      "image/png": "[encoded data removed]",
      "text/plain": [
       "<matplotlib.figure.Figure at 0x2ae245e0b70>"
      ]
     },
     "metadata": {},
     "output_type": "display_data"
    }
   ],
   "source": [
    "totalNumWords = [len(one_comment) for one_comment in X_train]\n",
    "plt.hist(totalNumWords,bins = 30)\n",
    "plt.show()"
   ]
  },
  {
   "cell_type": "code",
   "execution_count": 25,
   "metadata": {},
   "outputs": [
    {
     "name": "stdout",
     "output_type": "stream",
     "text": [
      "(11712, 25) (2928, 25)\n"
     ]
    }
   ],
   "source": [
    "from keras.preprocessing import sequence\n",
    "max_words = 25 #max(totalNumWords)\n",
    "X_train = sequence.pad_sequences(X_train, maxlen=max_words)\n",
    "X_test = sequence.pad_sequences(X_test, maxlen=max_words)\n",
    "print(X_train.shape,X_test.shape)\n",
    "#X_train[np.argmax(totalNumWords)]"
   ]
  },
  {
   "cell_type": "markdown",
   "metadata": {},
   "source": [
    "# 1. MLP"
   ]
  },
  {
   "cell_type": "code",
   "execution_count": 26,
   "metadata": {
    "collapsed": true
   },
   "outputs": [],
   "source": [
    "import keras.backend as K\n",
    "from IPython.display import SVG\n",
    "from keras.models import Sequential\n",
    "from keras.layers import Dense,Flatten,Embedding,Dropout,Conv1D,MaxPooling1D,LSTM\n",
    "from keras.utils.vis_utils import model_to_dot\n",
    "from sklearn.metrics import accuracy_score,confusion_matrix,classification_report\n",
    "\n",
    "batch_size = 128\n",
    "epochs = 25"
   ]
  },
  {
   "cell_type": "code",
   "execution_count": 27,
   "metadata": {
    "collapsed": true
   },
   "outputs": [],
   "source": [
    "def create_nn():\n",
    "    np.random.seed(seed)\n",
    "    K.clear_session()\n",
    "    model = Sequential()\n",
    "    model.add(Embedding(max_features, 128, input_length=X_train.shape[1]))\n",
    "    model.add(Flatten())\n",
    "    model.add(Dense(200, activation='relu'))\n",
    "    model.add(Dropout(0.2, seed=seed))\n",
    "    model.add(Dense(100, activation='relu'))\n",
    "    model.add(Dropout(0.2, seed=seed))\n",
    "    model.add(Dense(50, activation='relu'))\n",
    "    model.add(Dropout(0.2, seed=seed))\n",
    "    model.add(Dense(3, activation='softmax'))\n",
    "    model.compile(loss='categorical_crossentropy', optimizer='adam', metrics=['accuracy'])\n",
    "    SVG(model_to_dot(model).create(prog='dot', format='svg'))\n",
    "    print(model.summary())    \n",
    "    return model"
   ]
  },
  {
   "cell_type": "code",
   "execution_count": 28,
   "metadata": {
    "collapsed": true
   },
   "outputs": [],
   "source": [
    "def plot_model_history(model_history):\n",
    "    fig, axs = plt.subplots(1,2,figsize=(15,5))\n",
    "    # summarize history for accuracy\n",
    "    axs[0].plot(range(1,len(model_history.history['acc'])+1),model_history.history['acc'])\n",
    "    axs[0].plot(range(1,len(model_history.history['val_acc'])+1),model_history.history['val_acc'])\n",
    "    axs[0].set_title('Model Accuracy')\n",
    "    axs[0].set_ylabel('Accuracy')\n",
    "    axs[0].set_xlabel('Epoch')\n",
    "    axs[0].set_xticks(np.arange(1,len(model_history.history['acc'])+1),len(model_history.history['acc'])/10)\n",
    "    axs[0].legend(['train', 'val'], loc='best')\n",
    "    # summarize history for loss\n",
    "    axs[1].plot(range(1,len(model_history.history['loss'])+1),model_history.history['loss'])\n",
    "    axs[1].plot(range(1,len(model_history.history['val_loss'])+1),model_history.history['val_loss'])\n",
    "    axs[1].set_title('Model Loss')\n",
    "    axs[1].set_ylabel('Loss')\n",
    "    axs[1].set_xlabel('Epoch')\n",
    "    axs[1].set_xticks(np.arange(1,len(model_history.history['loss'])+1),len(model_history.history['loss'])/10)\n",
    "    axs[1].legend(['train', 'val'], loc='best')\n",
    "    plt.show()"
   ]
  },
  {
   "cell_type": "code",
   "execution_count": 29,
   "metadata": {
    "collapsed": true
   },
   "outputs": [],
   "source": [
    "def model_evaluate(): \n",
    "    # predict class with test set\n",
    "    y_pred_test =  model.predict_classes(X_test, batch_size=batch_size, verbose=0)\n",
    "    print('Accuracy:\\t{:0.1f}%'.format(accuracy_score(np.argmax(y_test,axis=1),y_pred_test)*100))\n",
    "    \n",
    "    #classification report\n",
    "    print('\\n')\n",
    "    print(classification_report(np.argmax(y_test,axis=1), y_pred_test))\n",
    "\n",
    "    #confusion matrix\n",
    "    confmat = confusion_matrix(np.argmax(y_test,axis=1), y_pred_test)\n",
    "\n",
    "    fig, ax = plt.subplots(figsize=(2.5, 2.5))\n",
    "    ax.matshow(confmat, cmap=plt.cm.Blues, alpha=0.3)\n",
    "    for i in range(confmat.shape[0]):\n",
    "        for j in range(confmat.shape[1]):\n",
    "            ax.text(x=j, y=i, s=confmat[i, j], va='center', ha='center')\n",
    "    plt.xlabel('Predicted label')\n",
    "    plt.ylabel('True label')\n",
    "    plt.tight_layout()"
   ]
  },
  {
   "cell_type": "code",
   "execution_count": 30,
   "metadata": {},
   "outputs": [
    {
     "name": "stdout",
     "output_type": "stream",
     "text": [
      "_________________________________________________________________\n",
      "Layer (type)                 Output Shape              Param #   \n",
      "=================================================================\n",
      "embedding_1 (Embedding)      (None, 25, 128)           1280000   \n",
      "_________________________________________________________________\n",
      "flatten_1 (Flatten)          (None, 3200)              0         \n",
      "_________________________________________________________________\n",
      "dense_1 (Dense)              (None, 200)               640200    \n",
      "_________________________________________________________________\n",
      "dropout_1 (Dropout)          (None, 200)               0         \n",
      "_________________________________________________________________\n",
      "dense_2 (Dense)              (None, 100)               20100     \n",
      "_________________________________________________________________\n",
      "dropout_2 (Dropout)          (None, 100)               0         \n",
      "_________________________________________________________________\n",
      "dense_3 (Dense)              (None, 50)                5050      \n",
      "_________________________________________________________________\n",
      "dropout_3 (Dropout)          (None, 50)                0         \n",
      "_________________________________________________________________\n",
      "dense_4 (Dense)              (None, 3)                 153       \n",
      "=================================================================\n",
      "Total params: 1,945,503\n",
      "Trainable params: 1,945,503\n",
      "Non-trainable params: 0\n",
      "_________________________________________________________________\n",
      "None\n"
     ]
    },
    {
     "data": {
      "image/svg+xml": [
       "<svg height=\"702pt\" viewBox=\"0.00 0.00 203.00 702.00\" width=\"203pt\" xmlns=\"http://www.w3.org/2000/svg\" xmlns:xlink=\"http://www.w3.org/1999/xlink\">\n",
       "<g class=\"graph\" id=\"graph0\" transform=\"scale(1 1) rotate(0) translate(4 698)\">\n",
       "<title>G</title>\n",
       "<polygon fill=\"white\" points=\"-4,4 -4,-698 199,-698 199,4 -4,4\" stroke=\"none\"/>\n",
       "<!-- 2946961393928 -->\n",
       "<g class=\"node\" id=\"node1\"><title>2946961393928</title>\n",
       "<polygon fill=\"none\" points=\"0,-657.5 0,-693.5 195,-693.5 195,-657.5 0,-657.5\" stroke=\"black\"/>\n",
       "<text font-family=\"Times New Roman,serif\" font-size=\"14.00\" text-anchor=\"middle\" x=\"97.5\" y=\"-671.8\">embedding_1_input: InputLayer</text>\n",
       "</g>\n",
       "<!-- 2946961392136 -->\n",
       "<g class=\"node\" id=\"node2\"><title>2946961392136</title>\n",
       "<polygon fill=\"none\" points=\"16,-584.5 16,-620.5 179,-620.5 179,-584.5 16,-584.5\" stroke=\"black\"/>\n",
       "<text font-family=\"Times New Roman,serif\" font-size=\"14.00\" text-anchor=\"middle\" x=\"97.5\" y=\"-598.8\">embedding_1: Embedding</text>\n",
       "</g>\n",
       "<!-- 2946961393928&#45;&gt;2946961392136 -->\n",
       "<g class=\"edge\" id=\"edge1\"><title>2946961393928-&gt;2946961392136</title>\n",
       "<path d=\"M97.5,-657.313C97.5,-649.289 97.5,-639.547 97.5,-630.569\" fill=\"none\" stroke=\"black\"/>\n",
       "<polygon fill=\"black\" points=\"101,-630.529 97.5,-620.529 94.0001,-630.529 101,-630.529\" stroke=\"black\"/>\n",
       "</g>\n",
       "<!-- 2946961078872 -->\n",
       "<g class=\"node\" id=\"node3\"><title>2946961078872</title>\n",
       "<polygon fill=\"none\" points=\"43,-511.5 43,-547.5 152,-547.5 152,-511.5 43,-511.5\" stroke=\"black\"/>\n",
       "<text font-family=\"Times New Roman,serif\" font-size=\"14.00\" text-anchor=\"middle\" x=\"97.5\" y=\"-525.8\">flatten_1: Flatten</text>\n",
       "</g>\n",
       "<!-- 2946961392136&#45;&gt;2946961078872 -->\n",
       "<g class=\"edge\" id=\"edge2\"><title>2946961392136-&gt;2946961078872</title>\n",
       "<path d=\"M97.5,-584.313C97.5,-576.289 97.5,-566.547 97.5,-557.569\" fill=\"none\" stroke=\"black\"/>\n",
       "<polygon fill=\"black\" points=\"101,-557.529 97.5,-547.529 94.0001,-557.529 101,-557.529\" stroke=\"black\"/>\n",
       "</g>\n",
       "<!-- 2946961563600 -->\n",
       "<g class=\"node\" id=\"node4\"><title>2946961563600</title>\n",
       "<polygon fill=\"none\" points=\"45.5,-438.5 45.5,-474.5 149.5,-474.5 149.5,-438.5 45.5,-438.5\" stroke=\"black\"/>\n",
       "<text font-family=\"Times New Roman,serif\" font-size=\"14.00\" text-anchor=\"middle\" x=\"97.5\" y=\"-452.8\">dense_1: Dense</text>\n",
       "</g>\n",
       "<!-- 2946961078872&#45;&gt;2946961563600 -->\n",
       "<g class=\"edge\" id=\"edge3\"><title>2946961078872-&gt;2946961563600</title>\n",
       "<path d=\"M97.5,-511.313C97.5,-503.289 97.5,-493.547 97.5,-484.569\" fill=\"none\" stroke=\"black\"/>\n",
       "<polygon fill=\"black\" points=\"101,-484.529 97.5,-474.529 94.0001,-484.529 101,-484.529\" stroke=\"black\"/>\n",
       "</g>\n",
       "<!-- 2946957745792 -->\n",
       "<g class=\"node\" id=\"node5\"><title>2946957745792</title>\n",
       "<polygon fill=\"none\" points=\"32.5,-365.5 32.5,-401.5 162.5,-401.5 162.5,-365.5 32.5,-365.5\" stroke=\"black\"/>\n",
       "<text font-family=\"Times New Roman,serif\" font-size=\"14.00\" text-anchor=\"middle\" x=\"97.5\" y=\"-379.8\">dropout_1: Dropout</text>\n",
       "</g>\n",
       "<!-- 2946961563600&#45;&gt;2946957745792 -->\n",
       "<g class=\"edge\" id=\"edge4\"><title>2946961563600-&gt;2946957745792</title>\n",
       "<path d=\"M97.5,-438.313C97.5,-430.289 97.5,-420.547 97.5,-411.569\" fill=\"none\" stroke=\"black\"/>\n",
       "<polygon fill=\"black\" points=\"101,-411.529 97.5,-401.529 94.0001,-411.529 101,-411.529\" stroke=\"black\"/>\n",
       "</g>\n",
       "<!-- 2946959350248 -->\n",
       "<g class=\"node\" id=\"node6\"><title>2946959350248</title>\n",
       "<polygon fill=\"none\" points=\"45.5,-292.5 45.5,-328.5 149.5,-328.5 149.5,-292.5 45.5,-292.5\" stroke=\"black\"/>\n",
       "<text font-family=\"Times New Roman,serif\" font-size=\"14.00\" text-anchor=\"middle\" x=\"97.5\" y=\"-306.8\">dense_2: Dense</text>\n",
       "</g>\n",
       "<!-- 2946957745792&#45;&gt;2946959350248 -->\n",
       "<g class=\"edge\" id=\"edge5\"><title>2946957745792-&gt;2946959350248</title>\n",
       "<path d=\"M97.5,-365.313C97.5,-357.289 97.5,-347.547 97.5,-338.569\" fill=\"none\" stroke=\"black\"/>\n",
       "<polygon fill=\"black\" points=\"101,-338.529 97.5,-328.529 94.0001,-338.529 101,-338.529\" stroke=\"black\"/>\n",
       "</g>\n",
       "<!-- 2946961927640 -->\n",
       "<g class=\"node\" id=\"node7\"><title>2946961927640</title>\n",
       "<polygon fill=\"none\" points=\"32.5,-219.5 32.5,-255.5 162.5,-255.5 162.5,-219.5 32.5,-219.5\" stroke=\"black\"/>\n",
       "<text font-family=\"Times New Roman,serif\" font-size=\"14.00\" text-anchor=\"middle\" x=\"97.5\" y=\"-233.8\">dropout_2: Dropout</text>\n",
       "</g>\n",
       "<!-- 2946959350248&#45;&gt;2946961927640 -->\n",
       "<g class=\"edge\" id=\"edge6\"><title>2946959350248-&gt;2946961927640</title>\n",
       "<path d=\"M97.5,-292.313C97.5,-284.289 97.5,-274.547 97.5,-265.569\" fill=\"none\" stroke=\"black\"/>\n",
       "<polygon fill=\"black\" points=\"101,-265.529 97.5,-255.529 94.0001,-265.529 101,-265.529\" stroke=\"black\"/>\n",
       "</g>\n",
       "<!-- 2946959784088 -->\n",
       "<g class=\"node\" id=\"node8\"><title>2946959784088</title>\n",
       "<polygon fill=\"none\" points=\"45.5,-146.5 45.5,-182.5 149.5,-182.5 149.5,-146.5 45.5,-146.5\" stroke=\"black\"/>\n",
       "<text font-family=\"Times New Roman,serif\" font-size=\"14.00\" text-anchor=\"middle\" x=\"97.5\" y=\"-160.8\">dense_3: Dense</text>\n",
       "</g>\n",
       "<!-- 2946961927640&#45;&gt;2946959784088 -->\n",
       "<g class=\"edge\" id=\"edge7\"><title>2946961927640-&gt;2946959784088</title>\n",
       "<path d=\"M97.5,-219.313C97.5,-211.289 97.5,-201.547 97.5,-192.569\" fill=\"none\" stroke=\"black\"/>\n",
       "<polygon fill=\"black\" points=\"101,-192.529 97.5,-182.529 94.0001,-192.529 101,-192.529\" stroke=\"black\"/>\n",
       "</g>\n",
       "<!-- 2946958300720 -->\n",
       "<g class=\"node\" id=\"node9\"><title>2946958300720</title>\n",
       "<polygon fill=\"none\" points=\"32.5,-73.5 32.5,-109.5 162.5,-109.5 162.5,-73.5 32.5,-73.5\" stroke=\"black\"/>\n",
       "<text font-family=\"Times New Roman,serif\" font-size=\"14.00\" text-anchor=\"middle\" x=\"97.5\" y=\"-87.8\">dropout_3: Dropout</text>\n",
       "</g>\n",
       "<!-- 2946959784088&#45;&gt;2946958300720 -->\n",
       "<g class=\"edge\" id=\"edge8\"><title>2946959784088-&gt;2946958300720</title>\n",
       "<path d=\"M97.5,-146.313C97.5,-138.289 97.5,-128.547 97.5,-119.569\" fill=\"none\" stroke=\"black\"/>\n",
       "<polygon fill=\"black\" points=\"101,-119.529 97.5,-109.529 94.0001,-119.529 101,-119.529\" stroke=\"black\"/>\n",
       "</g>\n",
       "<!-- 2946958302456 -->\n",
       "<g class=\"node\" id=\"node10\"><title>2946958302456</title>\n",
       "<polygon fill=\"none\" points=\"45.5,-0.5 45.5,-36.5 149.5,-36.5 149.5,-0.5 45.5,-0.5\" stroke=\"black\"/>\n",
       "<text font-family=\"Times New Roman,serif\" font-size=\"14.00\" text-anchor=\"middle\" x=\"97.5\" y=\"-14.8\">dense_4: Dense</text>\n",
       "</g>\n",
       "<!-- 2946958300720&#45;&gt;2946958302456 -->\n",
       "<g class=\"edge\" id=\"edge9\"><title>2946958300720-&gt;2946958302456</title>\n",
       "<path d=\"M97.5,-73.3129C97.5,-65.2895 97.5,-55.5475 97.5,-46.5691\" fill=\"none\" stroke=\"black\"/>\n",
       "<polygon fill=\"black\" points=\"101,-46.5288 97.5,-36.5288 94.0001,-46.5289 101,-46.5288\" stroke=\"black\"/>\n",
       "</g>\n",
       "</g>\n",
       "</svg>"
      ],
      "text/plain": [
       "<IPython.core.display.SVG object>"
      ]
     },
     "execution_count": 30,
     "metadata": {},
     "output_type": "execute_result"
    }
   ],
   "source": [
    "# create the model\n",
    "model = create_nn()\n",
    "SVG(model_to_dot(model).create(prog='dot', format='svg'))"
   ]
  },
  {
   "cell_type": "code",
   "execution_count": 31,
   "metadata": {},
   "outputs": [
    {
     "name": "stdout",
     "output_type": "stream",
     "text": [
      "Train on 11712 samples, validate on 2928 samples\n",
      "Epoch 1/25\n",
      " - 7s - loss: 0.7655 - acc: 0.6697 - val_loss: 0.6122 - val_acc: 0.7432\n",
      "Epoch 2/25\n",
      " - 6s - loss: 0.4192 - acc: 0.8303 - val_loss: 0.5846 - val_acc: 0.7770\n",
      "Epoch 3/25\n",
      " - 6s - loss: 0.1681 - acc: 0.9420 - val_loss: 0.7417 - val_acc: 0.7480\n",
      "Epoch 4/25\n",
      " - 6s - loss: 0.0737 - acc: 0.9781 - val_loss: 0.9681 - val_acc: 0.7637\n",
      "Epoch 5/25\n",
      " - 6s - loss: 0.0433 - acc: 0.9873 - val_loss: 1.0907 - val_acc: 0.7592\n",
      "Epoch 6/25\n",
      " - 6s - loss: 0.0311 - acc: 0.9912 - val_loss: 1.2363 - val_acc: 0.7493\n",
      "Epoch 7/25\n",
      " - 6s - loss: 0.0225 - acc: 0.9924 - val_loss: 1.3226 - val_acc: 0.7551\n",
      "Epoch 8/25\n",
      " - 6s - loss: 0.0194 - acc: 0.9933 - val_loss: 1.4463 - val_acc: 0.7602\n",
      "Epoch 9/25\n",
      " - 6s - loss: 0.0162 - acc: 0.9939 - val_loss: 1.5486 - val_acc: 0.7517\n",
      "Epoch 10/25\n",
      " - 6s - loss: 0.0148 - acc: 0.9949 - val_loss: 1.6709 - val_acc: 0.7531\n",
      "Epoch 11/25\n",
      " - 6s - loss: 0.0122 - acc: 0.9947 - val_loss: 1.7084 - val_acc: 0.7534\n",
      "Epoch 12/25\n",
      " - 6s - loss: 0.0120 - acc: 0.9950 - val_loss: 1.7563 - val_acc: 0.7524\n",
      "Epoch 13/25\n",
      " - 6s - loss: 0.0114 - acc: 0.9950 - val_loss: 1.8522 - val_acc: 0.7428\n",
      "Epoch 14/25\n",
      " - 6s - loss: 0.0128 - acc: 0.9950 - val_loss: 1.8407 - val_acc: 0.7480\n",
      "Epoch 15/25\n",
      " - 7s - loss: 0.0165 - acc: 0.9939 - val_loss: 1.8986 - val_acc: 0.7497\n",
      "Epoch 16/25\n",
      " - 6s - loss: 0.0289 - acc: 0.9898 - val_loss: 1.6864 - val_acc: 0.7452\n",
      "Epoch 17/25\n",
      " - 6s - loss: 0.0290 - acc: 0.9897 - val_loss: 1.6434 - val_acc: 0.7432\n",
      "Epoch 18/25\n",
      " - 6s - loss: 0.0302 - acc: 0.9891 - val_loss: 1.5244 - val_acc: 0.7326\n",
      "Epoch 19/25\n",
      " - 6s - loss: 0.0182 - acc: 0.9926 - val_loss: 1.7976 - val_acc: 0.7394\n",
      "Epoch 20/25\n",
      " - 6s - loss: 0.0162 - acc: 0.9940 - val_loss: 1.7699 - val_acc: 0.7387\n",
      "Epoch 21/25\n",
      " - 6s - loss: 0.0146 - acc: 0.9943 - val_loss: 1.9774 - val_acc: 0.7398\n",
      "Epoch 22/25\n",
      " - 6s - loss: 0.0145 - acc: 0.9939 - val_loss: 1.9844 - val_acc: 0.7421\n",
      "Epoch 23/25\n",
      " - 6s - loss: 0.0119 - acc: 0.9945 - val_loss: 2.0553 - val_acc: 0.7319\n",
      "Epoch 24/25\n",
      " - 6s - loss: 0.0130 - acc: 0.9945 - val_loss: 2.1644 - val_acc: 0.7462\n",
      "Epoch 25/25\n",
      " - 6s - loss: 0.0129 - acc: 0.9945 - val_loss: 2.0227 - val_acc: 0.7380\n"
     ]
    },
    {
     "data": {
      "image/png": "[encoded data removed]",
      "text/plain": [
       "<matplotlib.figure.Figure at 0x2ae24c03a20>"
      ]
     },
     "metadata": {},
     "output_type": "display_data"
    }
   ],
   "source": [
    "# train the model\n",
    "model_history = model.fit(X_train, y_train, validation_data=(X_test, y_test), \n",
    "                          epochs=epochs, batch_size=batch_size,\n",
    "                          verbose=2)\n",
    "# plot train history\n",
    "plot_model_history(model_history)"
   ]
  },
  {
   "cell_type": "code",
   "execution_count": 32,
   "metadata": {},
   "outputs": [
    {
     "name": "stdout",
     "output_type": "stream",
     "text": [
      "Accuracy:\t73.8%\n",
      "\n",
      "\n",
      "             precision    recall  f1-score   support\n",
      "\n",
      "          0       0.83      0.86      0.84      1836\n",
      "          1       0.54      0.47      0.50       620\n",
      "          2       0.60      0.63      0.62       472\n",
      "\n",
      "avg / total       0.73      0.74      0.73      2928\n",
      "\n"
     ]
    },
    {
     "data": {
      "image/png": "[encoded data removed]",
      "text/plain": [
       "<matplotlib.figure.Figure at 0x2ae24c03b00>"
      ]
     },
     "metadata": {},
     "output_type": "display_data"
    }
   ],
   "source": [
    "# evaluate model with test set\n",
    "model_evaluate()"
   ]
  },
  {
   "cell_type": "markdown",
   "metadata": {},
   "source": [
    "# 2. 1D CNN"
   ]
  },
  {
   "cell_type": "code",
   "execution_count": 33,
   "metadata": {
    "collapsed": true
   },
   "outputs": [],
   "source": [
    "def create_cnn():\n",
    "    np.random.seed(seed)\n",
    "    K.clear_session()\n",
    "    model = Sequential()\n",
    "    model.add(Embedding(max_features, 128, input_length=X_train.shape[1]))\n",
    "    model.add(Conv1D(filters=32, kernel_size=3, padding='same', activation='relu'))\n",
    "    model.add(MaxPooling1D(pool_size=2))\n",
    "    model.add(Conv1D(filters=32, kernel_size=3, padding='same', activation='relu'))\n",
    "    model.add(MaxPooling1D(pool_size=2))\n",
    "    model.add(Flatten())\n",
    "    model.add(Dense(30, activation='relu'))\n",
    "    model.add(Dropout(0.2, seed=seed))\n",
    "    model.add(Dense(3, activation='softmax'))\n",
    "    model.compile(loss='categorical_crossentropy', optimizer='adam', metrics=['accuracy'])\n",
    "    print(model.summary())\n",
    "    return model"
   ]
  },
  {
   "cell_type": "code",
   "execution_count": 39,
   "metadata": {},
   "outputs": [
    {
     "name": "stdout",
     "output_type": "stream",
     "text": [
      "_________________________________________________________________\n",
      "Layer (type)                 Output Shape              Param #   \n",
      "=================================================================\n",
      "embedding_1 (Embedding)      (None, 25, 128)           1280000   \n",
      "_________________________________________________________________\n",
      "conv1d_1 (Conv1D)            (None, 25, 32)            12320     \n",
      "_________________________________________________________________\n",
      "max_pooling1d_1 (MaxPooling1 (None, 12, 32)            0         \n",
      "_________________________________________________________________\n",
      "conv1d_2 (Conv1D)            (None, 12, 32)            3104      \n",
      "_________________________________________________________________\n",
      "max_pooling1d_2 (MaxPooling1 (None, 6, 32)             0         \n",
      "_________________________________________________________________\n",
      "flatten_1 (Flatten)          (None, 192)               0         \n",
      "_________________________________________________________________\n",
      "dense_1 (Dense)              (None, 30)                5790      \n",
      "_________________________________________________________________\n",
      "dropout_1 (Dropout)          (None, 30)                0         \n",
      "_________________________________________________________________\n",
      "dense_2 (Dense)              (None, 3)                 93        \n",
      "=================================================================\n",
      "Total params: 1,301,307\n",
      "Trainable params: 1,301,307\n",
      "Non-trainable params: 0\n",
      "_________________________________________________________________\n",
      "None\n",
      "Train on 11712 samples, validate on 2928 samples\n",
      "Epoch 1/25\n",
      " - 6s - loss: 0.8340 - acc: 0.6336 - val_loss: 0.6833 - val_acc: 0.7005\n",
      "Epoch 2/25\n",
      " - 5s - loss: 0.5437 - acc: 0.7673 - val_loss: 0.5717 - val_acc: 0.7640\n",
      "Epoch 3/25\n",
      " - 5s - loss: 0.3582 - acc: 0.8631 - val_loss: 0.6001 - val_acc: 0.7883\n",
      "Epoch 4/25\n",
      " - 5s - loss: 0.2235 - acc: 0.9248 - val_loss: 0.6585 - val_acc: 0.7688\n",
      "Epoch 5/25\n",
      " - 5s - loss: 0.1353 - acc: 0.9560 - val_loss: 0.7512 - val_acc: 0.7736\n",
      "Epoch 6/25\n",
      " - 5s - loss: 0.0821 - acc: 0.9767 - val_loss: 0.8550 - val_acc: 0.7766\n",
      "Epoch 7/25\n",
      " - 5s - loss: 0.0554 - acc: 0.9840 - val_loss: 0.9906 - val_acc: 0.7729\n",
      "Epoch 8/25\n",
      " - 6s - loss: 0.0416 - acc: 0.9872 - val_loss: 1.0721 - val_acc: 0.7691\n",
      "Epoch 9/25\n",
      " - 5s - loss: 0.0335 - acc: 0.9913 - val_loss: 1.1717 - val_acc: 0.7650\n",
      "Epoch 10/25\n",
      " - 5s - loss: 0.0282 - acc: 0.9915 - val_loss: 1.2019 - val_acc: 0.7674\n",
      "Epoch 11/25\n",
      " - 6s - loss: 0.0252 - acc: 0.9939 - val_loss: 1.2207 - val_acc: 0.7606\n",
      "Epoch 12/25\n",
      " - 6s - loss: 0.0219 - acc: 0.9943 - val_loss: 1.2853 - val_acc: 0.7691\n",
      "Epoch 13/25\n",
      " - 5s - loss: 0.0195 - acc: 0.9945 - val_loss: 1.3138 - val_acc: 0.7637\n",
      "Epoch 14/25\n",
      " - 5s - loss: 0.0196 - acc: 0.9940 - val_loss: 1.3776 - val_acc: 0.7702\n",
      "Epoch 15/25\n",
      " - 5s - loss: 0.0181 - acc: 0.9947 - val_loss: 1.3990 - val_acc: 0.7575\n",
      "Epoch 16/25\n",
      " - 5s - loss: 0.0184 - acc: 0.9945 - val_loss: 1.4042 - val_acc: 0.7698\n",
      "Epoch 17/25\n",
      " - 5s - loss: 0.0172 - acc: 0.9947 - val_loss: 1.4030 - val_acc: 0.7609\n",
      "Epoch 18/25\n",
      " - 5s - loss: 0.0145 - acc: 0.9952 - val_loss: 1.4389 - val_acc: 0.7534\n",
      "Epoch 19/25\n",
      " - 5s - loss: 0.0157 - acc: 0.9949 - val_loss: 1.4655 - val_acc: 0.7678\n",
      "Epoch 20/25\n",
      " - 5s - loss: 0.0169 - acc: 0.9956 - val_loss: 1.4282 - val_acc: 0.7671\n",
      "Epoch 21/25\n",
      " - 5s - loss: 0.0133 - acc: 0.9960 - val_loss: 1.4909 - val_acc: 0.7678\n",
      "Epoch 22/25\n",
      " - 5s - loss: 0.0134 - acc: 0.9951 - val_loss: 1.4815 - val_acc: 0.7647\n",
      "Epoch 23/25\n",
      " - 5s - loss: 0.0132 - acc: 0.9950 - val_loss: 1.5526 - val_acc: 0.7657\n",
      "Epoch 24/25\n",
      " - 5s - loss: 0.0132 - acc: 0.9951 - val_loss: 1.4988 - val_acc: 0.7575\n",
      "Epoch 25/25\n",
      " - 5s - loss: 0.0130 - acc: 0.9950 - val_loss: 1.4930 - val_acc: 0.7596\n"
     ]
    },
    {
     "data": {
      "image/png": "[encoded data removed]",
      "text/plain": [
       "<matplotlib.figure.Figure at 0x2ae25d1beb8>"
      ]
     },
     "metadata": {},
     "output_type": "display_data"
    }
   ],
   "source": [
    "# create the model\n",
    "model = create_cnn()\n",
    "# train the model\n",
    "model_history = model.fit(X_train, y_train, validation_data=(X_test, y_test), \n",
    "                          epochs=epochs, batch_size=batch_size, \n",
    "                          verbose=2)\n",
    "# plot train history\n",
    "plot_model_history(model_history)"
   ]
  },
  {
   "cell_type": "code",
   "execution_count": 40,
   "metadata": {},
   "outputs": [
    {
     "name": "stdout",
     "output_type": "stream",
     "text": [
      "Accuracy:\t76.0%\n",
      "\n",
      "\n",
      "             precision    recall  f1-score   support\n",
      "\n",
      "          0       0.85      0.85      0.85      1836\n",
      "          1       0.55      0.58      0.57       620\n",
      "          2       0.67      0.63      0.65       472\n",
      "\n",
      "avg / total       0.76      0.76      0.76      2928\n",
      "\n"
     ]
    },
    {
     "data": {
      "image/png": "[encoded data removed]",
      "text/plain": [
       "<matplotlib.figure.Figure at 0x2ae25ce8be0>"
      ]
     },
     "metadata": {},
     "output_type": "display_data"
    }
   ],
   "source": [
    "# evaluate model with test set\n",
    "model_evaluate()"
   ]
  },
  {
   "cell_type": "markdown",
   "metadata": {},
   "source": [
    "# 3. RNN"
   ]
  },
  {
   "cell_type": "code",
   "execution_count": 41,
   "metadata": {
    "collapsed": true
   },
   "outputs": [],
   "source": [
    "def create_rnn():\n",
    "    np.random.seed(seed)\n",
    "    K.clear_session()\n",
    "    model = Sequential()\n",
    "    model.add(Embedding(max_features, 128, input_length=X_train.shape[1]))\n",
    "    model.add(LSTM(100, dropout=0.2, recurrent_dropout=0.2))\n",
    "    model.add(Dense(30, activation='relu'))\n",
    "    model.add(Dropout(0.2, seed=seed))\n",
    "    model.add(Dense(3, activation='softmax'))\n",
    "    model.compile(loss='categorical_crossentropy', optimizer='adam', metrics=['accuracy'])\n",
    "    print(model.summary())\n",
    "    return model"
   ]
  },
  {
   "cell_type": "code",
   "execution_count": 42,
   "metadata": {},
   "outputs": [
    {
     "name": "stdout",
     "output_type": "stream",
     "text": [
      "_________________________________________________________________\n",
      "Layer (type)                 Output Shape              Param #   \n",
      "=================================================================\n",
      "embedding_1 (Embedding)      (None, 25, 128)           1280000   \n",
      "_________________________________________________________________\n",
      "lstm_1 (LSTM)                (None, 100)               91600     \n",
      "_________________________________________________________________\n",
      "dense_1 (Dense)              (None, 30)                3030      \n",
      "_________________________________________________________________\n",
      "dropout_1 (Dropout)          (None, 30)                0         \n",
      "_________________________________________________________________\n",
      "dense_2 (Dense)              (None, 3)                 93        \n",
      "=================================================================\n",
      "Total params: 1,374,723\n",
      "Trainable params: 1,374,723\n",
      "Non-trainable params: 0\n",
      "_________________________________________________________________\n",
      "None\n",
      "Train on 11712 samples, validate on 2928 samples\n",
      "Epoch 1/25\n",
      " - 16s - loss: 0.8000 - acc: 0.6673 - val_loss: 0.6142 - val_acc: 0.7449\n",
      "Epoch 2/25\n",
      " - 14s - loss: 0.4913 - acc: 0.8059 - val_loss: 0.5253 - val_acc: 0.7910\n",
      "Epoch 3/25\n",
      " - 13s - loss: 0.3481 - acc: 0.8707 - val_loss: 0.5611 - val_acc: 0.7944\n",
      "Epoch 4/25\n",
      " - 13s - loss: 0.2589 - acc: 0.9085 - val_loss: 0.6361 - val_acc: 0.7893\n",
      "Epoch 5/25\n",
      " - 13s - loss: 0.2062 - acc: 0.9296 - val_loss: 0.6965 - val_acc: 0.7869\n",
      "Epoch 6/25\n",
      " - 14s - loss: 0.1708 - acc: 0.9414 - val_loss: 0.8690 - val_acc: 0.7661\n",
      "Epoch 7/25\n",
      " - 14s - loss: 0.1462 - acc: 0.9501 - val_loss: 0.9119 - val_acc: 0.7681\n",
      "Epoch 8/25\n",
      " - 14s - loss: 0.1246 - acc: 0.9577 - val_loss: 0.9778 - val_acc: 0.7702\n",
      "Epoch 9/25\n",
      " - 13s - loss: 0.1161 - acc: 0.9595 - val_loss: 0.9924 - val_acc: 0.7585\n",
      "Epoch 10/25\n",
      " - 14s - loss: 0.1021 - acc: 0.9640 - val_loss: 1.0936 - val_acc: 0.7558\n",
      "Epoch 11/25\n",
      " - 13s - loss: 0.0864 - acc: 0.9699 - val_loss: 1.2487 - val_acc: 0.7606\n",
      "Epoch 12/25\n",
      " - 13s - loss: 0.0785 - acc: 0.9728 - val_loss: 1.3060 - val_acc: 0.7520\n",
      "Epoch 13/25\n",
      " - 14s - loss: 0.0699 - acc: 0.9749 - val_loss: 1.3298 - val_acc: 0.7568\n",
      "Epoch 14/25\n",
      " - 13s - loss: 0.0720 - acc: 0.9748 - val_loss: 1.4341 - val_acc: 0.7582\n",
      "Epoch 15/25\n",
      " - 14s - loss: 0.0685 - acc: 0.9759 - val_loss: 1.3353 - val_acc: 0.7503\n",
      "Epoch 16/25\n",
      " - 14s - loss: 0.0616 - acc: 0.9780 - val_loss: 1.5676 - val_acc: 0.7517\n",
      "Epoch 17/25\n",
      " - 14s - loss: 0.0550 - acc: 0.9794 - val_loss: 1.6077 - val_acc: 0.7462\n",
      "Epoch 18/25\n",
      " - 15s - loss: 0.0494 - acc: 0.9824 - val_loss: 1.6300 - val_acc: 0.7480\n",
      "Epoch 19/25\n",
      " - 15s - loss: 0.0462 - acc: 0.9835 - val_loss: 1.7059 - val_acc: 0.7497\n",
      "Epoch 20/25\n",
      " - 13s - loss: 0.0452 - acc: 0.9850 - val_loss: 1.7888 - val_acc: 0.7490\n",
      "Epoch 21/25\n",
      " - 14s - loss: 0.0506 - acc: 0.9811 - val_loss: 1.6968 - val_acc: 0.7398\n",
      "Epoch 22/25\n",
      " - 14s - loss: 0.0476 - acc: 0.9824 - val_loss: 1.6965 - val_acc: 0.7490\n",
      "Epoch 23/25\n",
      " - 14s - loss: 0.0419 - acc: 0.9853 - val_loss: 1.8362 - val_acc: 0.7435\n",
      "Epoch 24/25\n",
      " - 13s - loss: 0.0428 - acc: 0.9841 - val_loss: 1.8687 - val_acc: 0.7380\n",
      "Epoch 25/25\n",
      " - 14s - loss: 0.0427 - acc: 0.9845 - val_loss: 1.8426 - val_acc: 0.7411\n"
     ]
    },
    {
     "data": {
      "image/png": "[encoded data removed]",
      "text/plain": [
       "<matplotlib.figure.Figure at 0x2ae28dd16a0>"
      ]
     },
     "metadata": {},
     "output_type": "display_data"
    }
   ],
   "source": [
    "# create the model\n",
    "model = create_rnn()\n",
    "# train the model\n",
    "model_history = model.fit(X_train, y_train, validation_data=(X_test, y_test), \n",
    "                          epochs=epochs, batch_size=batch_size,\n",
    "                          verbose=2)\n",
    "# plot train history\n",
    "plot_model_history(model_history)"
   ]
  },
  {
   "cell_type": "code",
   "execution_count": 43,
   "metadata": {},
   "outputs": [
    {
     "name": "stdout",
     "output_type": "stream",
     "text": [
      "Accuracy:\t74.1%\n",
      "\n",
      "\n",
      "             precision    recall  f1-score   support\n",
      "\n",
      "          0       0.84      0.85      0.84      1836\n",
      "          1       0.54      0.51      0.53       620\n",
      "          2       0.61      0.61      0.61       472\n",
      "\n",
      "avg / total       0.74      0.74      0.74      2928\n",
      "\n"
     ]
    },
    {
     "data": {
      "image/png": "[encoded data removed]",
      "text/plain": [
       "<matplotlib.figure.Figure at 0x2ae28dd1550>"
      ]
     },
     "metadata": {},
     "output_type": "display_data"
    }
   ],
   "source": [
    "# evaluate model with test set\n",
    "model_evaluate()"
   ]
  },
  {
   "cell_type": "markdown",
   "metadata": {},
   "source": [
    "# 4. CNN + RNN"
   ]
  },
  {
   "cell_type": "code",
   "execution_count": 44,
   "metadata": {
    "collapsed": true
   },
   "outputs": [],
   "source": [
    "def create_cnn_rnn():\n",
    "    np.random.seed(seed)\n",
    "    K.clear_session()\n",
    "    model = Sequential()\n",
    "    model.add(Embedding(max_features, 128, input_length=X_train.shape[1]))\n",
    "    model.add(Conv1D(filters=32, kernel_size=3, padding='same', activation='relu'))\n",
    "    model.add(MaxPooling1D(pool_size=2))\n",
    "    model.add(Conv1D(filters=32, kernel_size=3, padding='same', activation='relu'))\n",
    "    model.add(MaxPooling1D(pool_size=2))    \n",
    "    model.add(LSTM(100, dropout=0.2, recurrent_dropout=0.2))\n",
    "    model.add(Dense(30, activation='relu'))\n",
    "    model.add(Dropout(0.2, seed=seed))\n",
    "    model.add(Dense(3, activation='softmax'))\n",
    "    model.compile(loss='categorical_crossentropy', optimizer='adam', metrics=['accuracy'])\n",
    "    print(model.summary())\n",
    "    return model"
   ]
  },
  {
   "cell_type": "code",
   "execution_count": 45,
   "metadata": {},
   "outputs": [
    {
     "name": "stdout",
     "output_type": "stream",
     "text": [
      "_________________________________________________________________\n",
      "Layer (type)                 Output Shape              Param #   \n",
      "=================================================================\n",
      "embedding_1 (Embedding)      (None, 25, 128)           1280000   \n",
      "_________________________________________________________________\n",
      "conv1d_1 (Conv1D)            (None, 25, 32)            12320     \n",
      "_________________________________________________________________\n",
      "max_pooling1d_1 (MaxPooling1 (None, 12, 32)            0         \n",
      "_________________________________________________________________\n",
      "conv1d_2 (Conv1D)            (None, 12, 32)            3104      \n",
      "_________________________________________________________________\n",
      "max_pooling1d_2 (MaxPooling1 (None, 6, 32)             0         \n",
      "_________________________________________________________________\n",
      "lstm_1 (LSTM)                (None, 100)               53200     \n",
      "_________________________________________________________________\n",
      "dense_1 (Dense)              (None, 30)                3030      \n",
      "_________________________________________________________________\n",
      "dropout_1 (Dropout)          (None, 30)                0         \n",
      "_________________________________________________________________\n",
      "dense_2 (Dense)              (None, 3)                 93        \n",
      "=================================================================\n",
      "Total params: 1,351,747\n",
      "Trainable params: 1,351,747\n",
      "Non-trainable params: 0\n",
      "_________________________________________________________________\n",
      "None\n",
      "Train on 11712 samples, validate on 2928 samples\n",
      "Epoch 1/25\n",
      " - 9s - loss: 0.8364 - acc: 0.6349 - val_loss: 0.6899 - val_acc: 0.7032\n",
      "Epoch 2/25\n",
      " - 8s - loss: 0.5819 - acc: 0.7398 - val_loss: 0.6108 - val_acc: 0.7418\n",
      "Epoch 3/25\n",
      " - 7s - loss: 0.4062 - acc: 0.8396 - val_loss: 0.5927 - val_acc: 0.7777\n",
      "Epoch 4/25\n",
      " - 7s - loss: 0.2664 - acc: 0.9048 - val_loss: 0.6979 - val_acc: 0.7770\n",
      "Epoch 5/25\n",
      " - 7s - loss: 0.1645 - acc: 0.9432 - val_loss: 0.7852 - val_acc: 0.7760\n",
      "Epoch 6/25\n",
      " - 7s - loss: 0.1122 - acc: 0.9654 - val_loss: 0.9235 - val_acc: 0.7852\n",
      "Epoch 7/25\n",
      " - 7s - loss: 0.0821 - acc: 0.9758 - val_loss: 1.0049 - val_acc: 0.7753\n",
      "Epoch 8/25\n",
      " - 7s - loss: 0.0605 - acc: 0.9815 - val_loss: 1.0979 - val_acc: 0.7811\n",
      "Epoch 9/25\n",
      " - 7s - loss: 0.0467 - acc: 0.9855 - val_loss: 1.1952 - val_acc: 0.7620\n",
      "Epoch 10/25\n",
      " - 7s - loss: 0.0378 - acc: 0.9892 - val_loss: 1.3349 - val_acc: 0.7541\n",
      "Epoch 11/25\n",
      " - 7s - loss: 0.0388 - acc: 0.9881 - val_loss: 1.2897 - val_acc: 0.7766\n",
      "Epoch 12/25\n",
      " - 7s - loss: 0.0345 - acc: 0.9898 - val_loss: 1.3081 - val_acc: 0.7661\n",
      "Epoch 13/25\n",
      " - 7s - loss: 0.0331 - acc: 0.9910 - val_loss: 1.3052 - val_acc: 0.7524\n",
      "Epoch 14/25\n",
      " - 7s - loss: 0.0261 - acc: 0.9930 - val_loss: 1.3687 - val_acc: 0.7561\n",
      "Epoch 15/25\n",
      " - 7s - loss: 0.0242 - acc: 0.9938 - val_loss: 1.4503 - val_acc: 0.7695\n",
      "Epoch 16/25\n",
      " - 7s - loss: 0.0220 - acc: 0.9935 - val_loss: 1.4547 - val_acc: 0.7630\n",
      "Epoch 17/25\n",
      " - 7s - loss: 0.0193 - acc: 0.9950 - val_loss: 1.5279 - val_acc: 0.7589\n",
      "Epoch 18/25\n",
      " - 7s - loss: 0.0185 - acc: 0.9949 - val_loss: 1.5748 - val_acc: 0.7630\n",
      "Epoch 19/25\n",
      " - 7s - loss: 0.0167 - acc: 0.9950 - val_loss: 1.5463 - val_acc: 0.7657\n",
      "Epoch 20/25\n",
      " - 7s - loss: 0.0176 - acc: 0.9953 - val_loss: 1.5433 - val_acc: 0.7637\n",
      "Epoch 21/25\n",
      " - 7s - loss: 0.0164 - acc: 0.9953 - val_loss: 1.5541 - val_acc: 0.7599\n",
      "Epoch 22/25\n",
      " - 7s - loss: 0.0178 - acc: 0.9949 - val_loss: 1.5234 - val_acc: 0.7650\n",
      "Epoch 23/25\n",
      " - 7s - loss: 0.0161 - acc: 0.9942 - val_loss: 1.6894 - val_acc: 0.7555\n",
      "Epoch 24/25\n",
      " - 7s - loss: 0.0162 - acc: 0.9952 - val_loss: 1.5841 - val_acc: 0.7602\n",
      "Epoch 25/25\n",
      " - 7s - loss: 0.0140 - acc: 0.9949 - val_loss: 1.7051 - val_acc: 0.7613\n"
     ]
    },
    {
     "data": {
      "image/png": "[encoded data removed]",
      "text/plain": [
       "<matplotlib.figure.Figure at 0x2ae2b224c88>"
      ]
     },
     "metadata": {},
     "output_type": "display_data"
    }
   ],
   "source": [
    "# create the model\n",
    "model = create_cnn_rnn()\n",
    "# train the model\n",
    "model_history = model.fit(X_train, y_train, validation_data=(X_test, y_test), \n",
    "                          epochs=epochs, batch_size=batch_size,\n",
    "                          verbose=2)\n",
    "# plot train history\n",
    "plot_model_history(model_history)"
   ]
  },
  {
   "cell_type": "code",
   "execution_count": 46,
   "metadata": {},
   "outputs": [
    {
     "name": "stdout",
     "output_type": "stream",
     "text": [
      "Accuracy:\t76.1%\n",
      "\n",
      "\n",
      "             precision    recall  f1-score   support\n",
      "\n",
      "          0       0.83      0.89      0.86      1836\n",
      "          1       0.55      0.56      0.56       620\n",
      "          2       0.75      0.54      0.63       472\n",
      "\n",
      "avg / total       0.76      0.76      0.76      2928\n",
      "\n"
     ]
    },
    {
     "data": {
      "image/png": "[encoded data removed]",
      "text/plain": [
       "<matplotlib.figure.Figure at 0x2ae2b5336a0>"
      ]
     },
     "metadata": {},
     "output_type": "display_data"
    }
   ],
   "source": [
    "# evaluate model with test set\n",
    "model_evaluate()"
   ]
  }
 ],
 "metadata": {
  "kernelspec": {
   "display_name": "Python 3",
   "language": "python",
   "name": "python3"
  },
  "language_info": {
   "codemirror_mode": {
    "name": "ipython",
    "version": 3
   },
   "file_extension": ".py",
   "mimetype": "text/x-python",
   "name": "python",
   "nbconvert_exporter": "python",
   "pygments_lexer": "ipython3",
   "version": "3.6.3"
  }
 },
 "nbformat": 4,
 "nbformat_minor": 2
}
