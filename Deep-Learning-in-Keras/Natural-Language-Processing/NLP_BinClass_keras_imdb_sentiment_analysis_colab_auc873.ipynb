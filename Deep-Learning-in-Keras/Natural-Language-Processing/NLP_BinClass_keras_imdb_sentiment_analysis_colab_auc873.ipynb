{
 "cells": [
  {
   "cell_type": "markdown",
   "metadata": {
    "colab_type": "text",
    "id": "z8t61sYPbY6c"
   },
   "source": [
    "# NLP & Binary Classification: IMDB sentiment analysis data\n",
    "https://keras.io/datasets/\n",
    "\n",
    "\n",
    "** Dataset Information: **\n",
    "\n",
    "Dataset of 25,000 movies reviews from IMDB, labeled by sentiment (positive/negative)\n",
    "\n",
    "** Attribute Information: (1 features and 1 class) **\n",
    "\n",
    "- review: preprocessed, a sequence of word indexes\n",
    "- sentiment: positive/negative\n",
    "\n",
    "** Objective of this project **\n",
    "\n",
    "predict whether a review is thumbs-up or thumbs-down"
   ]
  },
  {
   "cell_type": "markdown",
   "metadata": {
    "colab_type": "text",
    "id": "_nzH03AGbY6e"
   },
   "source": [
    "# Data"
   ]
  },
  {
   "cell_type": "code",
   "execution_count": 1,
   "metadata": {
    "colab": {
     "autoexec": {
      "startup": false,
      "wait_interval": 0
     },
     "base_uri": "https://localhost:8080/",
     "height": 68,
     "output_extras": [
      {
       "item_id": 1
      },
      {
       "item_id": 5
      }
     ]
    },
    "colab_type": "code",
    "executionInfo": {
     "elapsed": 11818,
     "status": "ok",
     "timestamp": 1521763814569,
     "user": {
      "displayName": "Houk Paek",
      "photoUrl": "https://lh3.googleusercontent.com/a/default-user=s128",
      "userId": "113855001944690852319"
     },
     "user_tz": 420
    },
    "id": "p_pHup05bY6g",
    "outputId": "5c269e16-39ef-4e45-aa5c-e61b82cc18f7"
   },
   "outputs": [
    {
     "name": "stderr",
     "output_type": "stream",
     "text": [
      "Using TensorFlow backend.\n"
     ]
    },
    {
     "name": "stdout",
     "output_type": "stream",
     "text": [
      "Downloading data from https://s3.amazonaws.com/text-datasets/imdb.npz\n",
      "17465344/17464789 [==============================] - 1s 0us/step\n"
     ]
    }
   ],
   "source": [
    "import numpy as np\n",
    "from keras.datasets import imdb\n",
    "from matplotlib import pyplot as plt\n",
    "%matplotlib inline\n",
    "\n",
    "# load Data\n",
    "(X_train, y_train), (X_test, y_test) = imdb.load_data()\n",
    "X = np.concatenate((X_train, X_test), axis=0)\n",
    "y = np.concatenate((y_train, y_test), axis=0)"
   ]
  },
  {
   "cell_type": "code",
   "execution_count": 0,
   "metadata": {
    "colab": {
     "autoexec": {
      "startup": false,
      "wait_interval": 0
     },
     "output_extras": [
      {}
     ]
    },
    "colab_type": "code",
    "id": "arB24H2KbY6s",
    "outputId": "045bff08-b8b8-41cd-b4a0-647537468378"
   },
   "outputs": [
    {
     "name": "stdout",
     "output_type": "stream",
     "text": [
      "(50000,) (50000,)\n"
     ]
    }
   ],
   "source": [
    "# feature (review)\n",
    "print(X.shape,y.shape)\n",
    "#X[0]"
   ]
  },
  {
   "cell_type": "code",
   "execution_count": 0,
   "metadata": {
    "colab": {
     "autoexec": {
      "startup": false,
      "wait_interval": 0
     },
     "output_extras": [
      {}
     ]
    },
    "colab_type": "code",
    "id": "rPLpHB5IbY6y",
    "outputId": "59267195-3039-4453-f54d-92750f32e6ee"
   },
   "outputs": [
    {
     "name": "stdout",
     "output_type": "stream",
     "text": [
      "(array([0, 1]), array([12500, 12500]))\n"
     ]
    }
   ],
   "source": [
    "# class (setiment)\n",
    "print(np.unique(y_train,return_counts=True))"
   ]
  },
  {
   "cell_type": "code",
   "execution_count": 0,
   "metadata": {
    "colab": {
     "autoexec": {
      "startup": false,
      "wait_interval": 0
     },
     "output_extras": [
      {}
     ]
    },
    "colab_type": "code",
    "id": "m3cmqUSebY65",
    "outputId": "9a859a60-c31c-4198-a5bd-b9a4886e67a3"
   },
   "outputs": [
    {
     "name": "stdout",
     "output_type": "stream",
     "text": [
      "88585\n"
     ]
    }
   ],
   "source": [
    "# total unique words\n",
    "print(len(np.unique(np.hstack(X))))"
   ]
  },
  {
   "cell_type": "code",
   "execution_count": 0,
   "metadata": {
    "colab": {
     "autoexec": {
      "startup": false,
      "wait_interval": 0
     },
     "output_extras": [
      {},
      {}
     ]
    },
    "colab_type": "code",
    "id": "nKzCage0bY69",
    "outputId": "eedcc818-8e3c-410d-b1b3-885e82e2c934"
   },
   "outputs": [
    {
     "name": "stdout",
     "output_type": "stream",
     "text": [
      "Review length: Mean 234.8 words (172.9)\n"
     ]
    },
    {
     "data": {
      "image/png": "[encoded data removed]",
      "text/plain": [
       "<matplotlib.figure.Figure at 0x7f864de14048>"
      ]
     },
     "metadata": {
      "tags": []
     },
     "output_type": "display_data"
    }
   ],
   "source": [
    "# review length\n",
    "result = [len(x) for x in X]\n",
    "print(\"Review length: Mean %.1f words (%.1f)\" % (np.mean(result), np.std(result)))\n",
    "\n",
    "plt.figure(figsize=(12,4))\n",
    "plt.subplot(1, 2, 1)\n",
    "plt.boxplot(result)\n",
    "plt.subplot(1, 2, 2)\n",
    "plt.hist(result,bins=50)\n",
    "plt.show()"
   ]
  },
  {
   "cell_type": "markdown",
   "metadata": {
    "colab_type": "text",
    "id": "r8W6i3ctbY7A"
   },
   "source": [
    "# Data Preprocessing"
   ]
  },
  {
   "cell_type": "code",
   "execution_count": 0,
   "metadata": {
    "colab": {
     "autoexec": {
      "startup": false,
      "wait_interval": 0
     }
    },
    "colab_type": "code",
    "collapsed": true,
    "id": "Jz4N6IvKbY7B"
   },
   "outputs": [],
   "source": [
    "# fix random seed for reproducibility\n",
    "seed = 101\n",
    "np.random.seed(seed)"
   ]
  },
  {
   "cell_type": "code",
   "execution_count": 3,
   "metadata": {
    "colab": {
     "autoexec": {
      "startup": false,
      "wait_interval": 0
     },
     "base_uri": "https://localhost:8080/",
     "height": 34,
     "output_extras": [
      {
       "item_id": 1
      }
     ]
    },
    "colab_type": "code",
    "executionInfo": {
     "elapsed": 4850,
     "status": "ok",
     "timestamp": 1521763820705,
     "user": {
      "displayName": "Houk Paek",
      "photoUrl": "https://lh3.googleusercontent.com/a/default-user=s128",
      "userId": "113855001944690852319"
     },
     "user_tz": 420
    },
    "id": "q5k3meOubY7D",
    "outputId": "9672d04e-9428-40b6-d921-5c0ffd2c1b21"
   },
   "outputs": [
    {
     "name": "stdout",
     "output_type": "stream",
     "text": [
      "(25000,) (25000,) (25000,) (25000,)\n"
     ]
    }
   ],
   "source": [
    "# load the top 20000 words (vocabulary)\n",
    "top_words = 20000\n",
    "(X_train, y_train), (X_test, y_test) = imdb.load_data(num_words=top_words)\n",
    "print(X_train.shape,y_train.shape,X_test.shape,y_test.shape)\n",
    "#X_train[0]"
   ]
  },
  {
   "cell_type": "code",
   "execution_count": 4,
   "metadata": {
    "colab": {
     "autoexec": {
      "startup": false,
      "wait_interval": 0
     },
     "base_uri": "https://localhost:8080/",
     "height": 34,
     "output_extras": [
      {
       "item_id": 1
      }
     ]
    },
    "colab_type": "code",
    "executionInfo": {
     "elapsed": 1572,
     "status": "ok",
     "timestamp": 1521763822331,
     "user": {
      "displayName": "Houk Paek",
      "photoUrl": "https://lh3.googleusercontent.com/a/default-user=s128",
      "userId": "113855001944690852319"
     },
     "user_tz": 420
    },
    "id": "NvidPgHtbY7G",
    "outputId": "0dea18b1-0f65-4558-b26e-05efead72a8e"
   },
   "outputs": [
    {
     "name": "stdout",
     "output_type": "stream",
     "text": [
      "(25000, 500) (25000, 500)\n"
     ]
    }
   ],
   "source": [
    "# truncate reviews at 500 words and zero padding for shorter one\n",
    "from keras.preprocessing import sequence\n",
    "max_words = 500\n",
    "X_train = sequence.pad_sequences(X_train, maxlen=max_words)\n",
    "X_test = sequence.pad_sequences(X_test, maxlen=max_words)\n",
    "print(X_train.shape,X_test.shape)\n",
    "#X_train[0]"
   ]
  },
  {
   "cell_type": "markdown",
   "metadata": {
    "colab_type": "text",
    "id": "REjY5XO5bY7K"
   },
   "source": [
    "# 1. MLP"
   ]
  },
  {
   "cell_type": "code",
   "execution_count": 0,
   "metadata": {
    "colab": {
     "autoexec": {
      "startup": false,
      "wait_interval": 0
     }
    },
    "colab_type": "code",
    "collapsed": true,
    "id": "a9n9jfrcdZl_"
   },
   "outputs": [],
   "source": [
    "import keras.backend as K\n",
    "from keras.models import Sequential\n",
    "from keras.layers import Dense,Flatten,Embedding,Conv1D,MaxPooling1D,LSTM,Bidirectional,Dropout\n",
    "from keras.callbacks import EarlyStopping\n",
    "from sklearn.metrics import roc_auc_score,accuracy_score,confusion_matrix,classification_report"
   ]
  },
  {
   "cell_type": "markdown",
   "metadata": {
    "colab_type": "text",
    "id": "rK0fd_l_bY7K"
   },
   "source": [
    "### Model Train"
   ]
  },
  {
   "cell_type": "code",
   "execution_count": 28,
   "metadata": {
    "colab": {
     "autoexec": {
      "startup": false,
      "wait_interval": 0
     },
     "base_uri": "https://localhost:8080/",
     "height": 561,
     "output_extras": [
      {
       "item_id": 13
      },
      {
       "item_id": 14
      }
     ]
    },
    "colab_type": "code",
    "executionInfo": {
     "elapsed": 53096,
     "status": "ok",
     "timestamp": 1521752369674,
     "user": {
      "displayName": "Houk Paek",
      "photoUrl": "https://lh3.googleusercontent.com/a/default-user=s128",
      "userId": "113855001944690852319"
     },
     "user_tz": 420
    },
    "id": "4BCdITAcbY7L",
    "outputId": "80253848-fb62-48cc-8587-0d9f6390e442"
   },
   "outputs": [
    {
     "name": "stdout",
     "output_type": "stream",
     "text": [
      "_________________________________________________________________\n",
      "Layer (type)                 Output Shape              Param #   \n",
      "=================================================================\n",
      "embedding_1 (Embedding)      (None, 500, 128)          2560000   \n",
      "_________________________________________________________________\n",
      "flatten_1 (Flatten)          (None, 64000)             0         \n",
      "_________________________________________________________________\n",
      "dense_1 (Dense)              (None, 250)               16000250  \n",
      "_________________________________________________________________\n",
      "dropout_1 (Dropout)          (None, 250)               0         \n",
      "_________________________________________________________________\n",
      "dense_2 (Dense)              (None, 1)                 251       \n",
      "=================================================================\n",
      "Total params: 18,560,501\n",
      "Trainable params: 18,560,501\n",
      "Non-trainable params: 0\n",
      "_________________________________________________________________\n",
      "None\n",
      "Train on 25000 samples, validate on 25000 samples\n",
      "Epoch 1/50\n",
      " - 9s - loss: 0.5019 - acc: 0.7406 - val_loss: 0.2844 - val_acc: 0.8801\n",
      "Epoch 2/50\n",
      " - 9s - loss: 0.1235 - acc: 0.9553 - val_loss: 0.3125 - val_acc: 0.8741\n",
      "Epoch 3/50\n",
      " - 9s - loss: 0.0151 - acc: 0.9972 - val_loss: 0.3971 - val_acc: 0.8716\n",
      "Epoch 4/50\n",
      " - 9s - loss: 0.0020 - acc: 0.9999 - val_loss: 0.4666 - val_acc: 0.8719\n",
      "Epoch 5/50\n",
      " - 9s - loss: 3.4306e-04 - acc: 1.0000 - val_loss: 0.4921 - val_acc: 0.8722\n",
      "Epoch 6/50\n",
      " - 9s - loss: 1.8762e-04 - acc: 1.0000 - val_loss: 0.5075 - val_acc: 0.8734\n"
     ]
    },
    {
     "data": {
      "text/plain": [
       "<keras.callbacks.History at 0x7ff7e569f470>"
      ]
     },
     "execution_count": 28,
     "metadata": {
      "tags": []
     },
     "output_type": "execute_result"
    }
   ],
   "source": [
    "np.random.seed(seed)\n",
    "K.clear_session()\n",
    "\n",
    "# create the model\n",
    "model = Sequential()\n",
    "model.add(Embedding(top_words, 128, input_length=X_train.shape[1]))\n",
    "model.add(Flatten())\n",
    "model.add(Dense(250, activation='relu'))\n",
    "model.add(Dropout(0.2))\n",
    "model.add(Dense(1, activation='sigmoid'))\n",
    "model.compile(loss='binary_crossentropy', optimizer='adam', metrics=['accuracy'])\n",
    "print(model.summary())\n",
    "\n",
    "# callback\n",
    "early_stop = EarlyStopping(monitor='val_loss', patience=5, verbose=0, mode='min')\n",
    "\n",
    "# train the model\n",
    "model.fit(X_train, y_train, validation_data=(X_test, y_test), epochs=50, \n",
    "          batch_size=128, verbose=2, callbacks=[early_stop])"
   ]
  },
  {
   "cell_type": "markdown",
   "metadata": {
    "colab_type": "text",
    "id": "g62c82bgbY7P"
   },
   "source": [
    "### Model Evaluation with Test Set"
   ]
  },
  {
   "cell_type": "code",
   "execution_count": 0,
   "metadata": {
    "colab": {
     "autoexec": {
      "startup": false,
      "wait_interval": 0
     }
    },
    "colab_type": "code",
    "collapsed": true,
    "id": "KNDZa-ZSbY7Q"
   },
   "outputs": [],
   "source": [
    "def model_eval():\n",
    "  # predict class with test set\n",
    "  y_pred_test =  model.predict_classes(X_test, batch_size=128, verbose=0)\n",
    "  print('Accuracy: {:0.1f}%'.format(accuracy_score(y_test,y_pred_test)*100))\n",
    "  print('roc auc: {:0.3f}'.format(roc_auc_score(y_test,y_pred_test)))\n",
    "  \n",
    "  #classification report\n",
    "  print('\\n')\n",
    "  print(classification_report(y_test, y_pred_test))\n",
    "\n",
    "  #confusion matrix\n",
    "  confmat = confusion_matrix(y_test, y_pred_test)\n",
    "\n",
    "  fig, ax = plt.subplots(figsize=(2.5, 2.5))\n",
    "  ax.matshow(confmat, cmap=plt.cm.Blues, alpha=0.3)\n",
    "  for i in range(confmat.shape[0]):\n",
    "      for j in range(confmat.shape[1]):\n",
    "        ax.text(x=j, y=i, s=confmat[i, j], va='center', ha='center')\n",
    "  plt.xlabel('Predicted label')\n",
    "  plt.ylabel('True label')\n",
    "  plt.tight_layout()"
   ]
  },
  {
   "cell_type": "code",
   "execution_count": 29,
   "metadata": {
    "colab": {
     "autoexec": {
      "startup": false,
      "wait_interval": 0
     },
     "base_uri": "https://localhost:8080/",
     "height": 376,
     "output_extras": [
      {
       "item_id": 1
      },
      {
       "item_id": 2
      }
     ]
    },
    "colab_type": "code",
    "executionInfo": {
     "elapsed": 2048,
     "status": "ok",
     "timestamp": 1521752438520,
     "user": {
      "displayName": "Houk Paek",
      "photoUrl": "https://lh3.googleusercontent.com/a/default-user=s128",
      "userId": "113855001944690852319"
     },
     "user_tz": 420
    },
    "id": "-pgttoBsdG5f",
    "outputId": "acf044e2-f046-428d-c1f0-31e7d4667560"
   },
   "outputs": [
    {
     "name": "stdout",
     "output_type": "stream",
     "text": [
      "Accuracy: 87.3%\n",
      "roc auc: 0.873\n",
      "\n",
      "\n",
      "             precision    recall  f1-score   support\n",
      "\n",
      "          0       0.87      0.87      0.87     12500\n",
      "          1       0.87      0.87      0.87     12500\n",
      "\n",
      "avg / total       0.87      0.87      0.87     25000\n",
      "\n"
     ]
    },
    {
     "data": {
      "image/png": "[encoded data removed]",
      "text/plain": [
       "<matplotlib.figure.Figure at 0x7ff7e9741588>"
      ]
     },
     "metadata": {
      "tags": []
     },
     "output_type": "display_data"
    }
   ],
   "source": [
    "model_eval()"
   ]
  },
  {
   "cell_type": "markdown",
   "metadata": {
    "colab_type": "text",
    "id": "LShCrfkGbY7Y"
   },
   "source": [
    "# 2. CNN"
   ]
  },
  {
   "cell_type": "markdown",
   "metadata": {
    "colab_type": "text",
    "id": "CtHKze8RbY7a"
   },
   "source": [
    "### Model Train"
   ]
  },
  {
   "cell_type": "code",
   "execution_count": 37,
   "metadata": {
    "colab": {
     "autoexec": {
      "startup": false,
      "wait_interval": 0
     },
     "base_uri": "https://localhost:8080/",
     "height": 663,
     "output_extras": [
      {
       "item_id": 13
      },
      {
       "item_id": 14
      }
     ]
    },
    "colab_type": "code",
    "executionInfo": {
     "elapsed": 122441,
     "status": "ok",
     "timestamp": 1521753093969,
     "user": {
      "displayName": "Houk Paek",
      "photoUrl": "https://lh3.googleusercontent.com/a/default-user=s128",
      "userId": "113855001944690852319"
     },
     "user_tz": 420
    },
    "id": "vMxMzwxBbY7a",
    "outputId": "6402ce28-6c29-42ef-f745-b6da0ec5a692"
   },
   "outputs": [
    {
     "name": "stdout",
     "output_type": "stream",
     "text": [
      "_________________________________________________________________\n",
      "Layer (type)                 Output Shape              Param #   \n",
      "=================================================================\n",
      "embedding_1 (Embedding)      (None, 500, 128)          2560000   \n",
      "_________________________________________________________________\n",
      "dropout_1 (Dropout)          (None, 500, 128)          0         \n",
      "_________________________________________________________________\n",
      "conv1d_1 (Conv1D)            (None, 500, 250)          96250     \n",
      "_________________________________________________________________\n",
      "max_pooling1d_1 (MaxPooling1 (None, 250, 250)          0         \n",
      "_________________________________________________________________\n",
      "flatten_1 (Flatten)          (None, 62500)             0         \n",
      "_________________________________________________________________\n",
      "dense_1 (Dense)              (None, 250)               15625250  \n",
      "_________________________________________________________________\n",
      "dropout_2 (Dropout)          (None, 250)               0         \n",
      "_________________________________________________________________\n",
      "dense_2 (Dense)              (None, 1)                 251       \n",
      "=================================================================\n",
      "Total params: 18,281,751\n",
      "Trainable params: 18,281,751\n",
      "Non-trainable params: 0\n",
      "_________________________________________________________________\n",
      "None\n",
      "Train on 25000 samples, validate on 25000 samples\n",
      "Epoch 1/50\n",
      " - 21s - loss: 0.5348 - acc: 0.6912 - val_loss: 0.2724 - val_acc: 0.8863\n",
      "Epoch 2/50\n",
      " - 20s - loss: 0.1894 - acc: 0.9304 - val_loss: 0.2731 - val_acc: 0.8881\n",
      "Epoch 3/50\n",
      " - 20s - loss: 0.0926 - acc: 0.9696 - val_loss: 0.3383 - val_acc: 0.8794\n",
      "Epoch 4/50\n",
      " - 20s - loss: 0.0465 - acc: 0.9853 - val_loss: 0.4450 - val_acc: 0.8735\n",
      "Epoch 5/50\n",
      " - 20s - loss: 0.0246 - acc: 0.9922 - val_loss: 0.6064 - val_acc: 0.8698\n",
      "Epoch 6/50\n",
      " - 20s - loss: 0.0204 - acc: 0.9932 - val_loss: 0.6137 - val_acc: 0.8687\n"
     ]
    },
    {
     "data": {
      "text/plain": [
       "<keras.callbacks.History at 0x7ff7e4d7ad30>"
      ]
     },
     "execution_count": 37,
     "metadata": {
      "tags": []
     },
     "output_type": "execute_result"
    }
   ],
   "source": [
    "np.random.seed(seed)\n",
    "K.clear_session()\n",
    "\n",
    "# create the model\n",
    "model = Sequential()\n",
    "model.add(Embedding(top_words, 128, input_length=X_train.shape[1]))\n",
    "model.add(Dropout(0.2))\n",
    "model.add(Conv1D(filters=250, kernel_size=3, padding='same', activation='relu'))\n",
    "model.add(MaxPooling1D(pool_size=2))\n",
    "model.add(Flatten())\n",
    "model.add(Dense(250, activation='relu'))\n",
    "model.add(Dropout(0.2))\n",
    "model.add(Dense(1, activation='sigmoid'))\n",
    "model.compile(loss='binary_crossentropy', optimizer='adam', metrics=['accuracy'])\n",
    "print(model.summary())\n",
    "\n",
    "# callback\n",
    "early_stop = EarlyStopping(monitor='val_loss', patience=5, verbose=0, mode='min')\n",
    "\n",
    "# train the model\n",
    "model.fit(X_train, y_train, validation_data=(X_test, y_test), epochs=50, \n",
    "          batch_size=128, verbose=2, callbacks=[early_stop])\n"
   ]
  },
  {
   "cell_type": "markdown",
   "metadata": {
    "colab_type": "text",
    "id": "LHzQfaZnbY7d"
   },
   "source": [
    "### Model Evaluation with Test Set"
   ]
  },
  {
   "cell_type": "code",
   "execution_count": 38,
   "metadata": {
    "colab": {
     "autoexec": {
      "startup": false,
      "wait_interval": 0
     },
     "base_uri": "https://localhost:8080/",
     "height": 376,
     "output_extras": [
      {
       "item_id": 1
      },
      {
       "item_id": 2
      }
     ]
    },
    "colab_type": "code",
    "executionInfo": {
     "elapsed": 4369,
     "status": "ok",
     "timestamp": 1521753161343,
     "user": {
      "displayName": "Houk Paek",
      "photoUrl": "https://lh3.googleusercontent.com/a/default-user=s128",
      "userId": "113855001944690852319"
     },
     "user_tz": 420
    },
    "id": "BQoNlUwldPXj",
    "outputId": "3a163186-c749-43bc-d8e8-fe0be194fb46"
   },
   "outputs": [
    {
     "name": "stdout",
     "output_type": "stream",
     "text": [
      "Accuracy: 86.9%\n",
      "roc auc: 0.869\n",
      "\n",
      "\n",
      "             precision    recall  f1-score   support\n",
      "\n",
      "          0       0.85      0.89      0.87     12500\n",
      "          1       0.89      0.85      0.87     12500\n",
      "\n",
      "avg / total       0.87      0.87      0.87     25000\n",
      "\n"
     ]
    },
    {
     "data": {
      "image/png": "[encoded data removed]",
      "text/plain": [
       "<matplotlib.figure.Figure at 0x7ff7d5798c88>"
      ]
     },
     "metadata": {
      "tags": []
     },
     "output_type": "display_data"
    }
   ],
   "source": [
    "model_eval()"
   ]
  },
  {
   "cell_type": "markdown",
   "metadata": {
    "colab_type": "text",
    "id": "VXa-FTuEbY7i"
   },
   "source": [
    "# 3. RNN (lstm)"
   ]
  },
  {
   "cell_type": "markdown",
   "metadata": {
    "colab_type": "text",
    "id": "tsdeefrDbY7j"
   },
   "source": [
    "### Model Train"
   ]
  },
  {
   "cell_type": "code",
   "execution_count": 13,
   "metadata": {
    "colab": {
     "autoexec": {
      "startup": false,
      "wait_interval": 0
     },
     "base_uri": "https://localhost:8080/",
     "height": 527,
     "output_extras": [
      {
       "item_id": 10
      },
      {
       "item_id": 11
      }
     ]
    },
    "colab_type": "code",
    "executionInfo": {
     "elapsed": 1659381,
     "status": "ok",
     "timestamp": 1521775622990,
     "user": {
      "displayName": "Houk Paek",
      "photoUrl": "https://lh3.googleusercontent.com/a/default-user=s128",
      "userId": "113855001944690852319"
     },
     "user_tz": 420
    },
    "id": "RWOkGqLibY7k",
    "outputId": "00d9772e-f20a-4d4e-ed68-f15724f1d69e"
   },
   "outputs": [
    {
     "name": "stdout",
     "output_type": "stream",
     "text": [
      "_________________________________________________________________\n",
      "Layer (type)                 Output Shape              Param #   \n",
      "=================================================================\n",
      "embedding_1 (Embedding)      (None, 500, 128)          2560000   \n",
      "_________________________________________________________________\n",
      "lstm_1 (LSTM)                (None, 64)                49408     \n",
      "_________________________________________________________________\n",
      "dense_1 (Dense)              (None, 1)                 65        \n",
      "=================================================================\n",
      "Total params: 2,609,473\n",
      "Trainable params: 2,609,473\n",
      "Non-trainable params: 0\n",
      "_________________________________________________________________\n",
      "None\n",
      "Train on 25000 samples, validate on 25000 samples\n",
      "Epoch 1/50\n",
      " - 240s - loss: 0.4944 - acc: 0.7574 - val_loss: 0.4027 - val_acc: 0.8306\n",
      "Epoch 2/50\n",
      " - 237s - loss: 0.3282 - acc: 0.8675 - val_loss: 0.3648 - val_acc: 0.8434\n",
      "Epoch 3/50\n",
      " - 238s - loss: 0.2599 - acc: 0.8997 - val_loss: 0.3978 - val_acc: 0.8368\n",
      "Epoch 4/50\n",
      " - 236s - loss: 0.2195 - acc: 0.9170 - val_loss: 0.3867 - val_acc: 0.8462\n",
      "Epoch 5/50\n",
      " - 236s - loss: 0.1695 - acc: 0.9372 - val_loss: 0.4816 - val_acc: 0.8539\n",
      "Epoch 6/50\n",
      " - 235s - loss: 0.1483 - acc: 0.9467 - val_loss: 0.4488 - val_acc: 0.8352\n",
      "Epoch 7/50\n",
      " - 235s - loss: 0.1205 - acc: 0.9574 - val_loss: 0.4840 - val_acc: 0.8497\n"
     ]
    },
    {
     "data": {
      "text/plain": [
       "<keras.callbacks.History at 0x7f6c8ea52f60>"
      ]
     },
     "execution_count": 13,
     "metadata": {
      "tags": []
     },
     "output_type": "execute_result"
    }
   ],
   "source": [
    "np.random.seed(seed)\n",
    "K.clear_session()\n",
    "\n",
    "# create the model\n",
    "model = Sequential()\n",
    "model.add(Embedding(top_words, 128, input_length=X_train.shape[1]))\n",
    "model.add(LSTM(64, dropout=0.2, recurrent_dropout=0.2))\n",
    "model.add(Dense(1, activation='sigmoid'))\n",
    "model.compile(loss='binary_crossentropy', optimizer='adam', metrics=['accuracy'])\n",
    "print(model.summary())\n",
    "\n",
    "# callback\n",
    "early_stop = EarlyStopping(monitor='val_loss', patience=5, verbose=0, mode='min')\n",
    "\n",
    "# train the model\n",
    "model.fit(X_train, y_train, validation_data=(X_test, y_test), epochs=50, \n",
    "          batch_size=128, verbose=2, callbacks=[early_stop])"
   ]
  },
  {
   "cell_type": "markdown",
   "metadata": {
    "colab_type": "text",
    "id": "KOxGaHM1bY7o"
   },
   "source": [
    "### Model Evaluation with Test Set"
   ]
  },
  {
   "cell_type": "code",
   "execution_count": 17,
   "metadata": {
    "colab": {
     "autoexec": {
      "startup": false,
      "wait_interval": 0
     },
     "base_uri": "https://localhost:8080/",
     "height": 376,
     "output_extras": [
      {
       "item_id": 1
      },
      {
       "item_id": 2
      }
     ]
    },
    "colab_type": "code",
    "executionInfo": {
     "elapsed": 42525,
     "status": "ok",
     "timestamp": 1521775863283,
     "user": {
      "displayName": "Houk Paek",
      "photoUrl": "https://lh3.googleusercontent.com/a/default-user=s128",
      "userId": "113855001944690852319"
     },
     "user_tz": 420
    },
    "id": "KCGNkkUKdx8m",
    "outputId": "ea93eb90-3d33-4055-ca01-1acb93219651"
   },
   "outputs": [
    {
     "name": "stdout",
     "output_type": "stream",
     "text": [
      "Accuracy: 85.0%\n",
      "roc auc: 0.850\n",
      "\n",
      "\n",
      "             precision    recall  f1-score   support\n",
      "\n",
      "          0       0.84      0.87      0.85     12500\n",
      "          1       0.86      0.83      0.85     12500\n",
      "\n",
      "avg / total       0.85      0.85      0.85     25000\n",
      "\n"
     ]
    },
    {
     "data": {
      "image/png": "[encoded data removed]",
      "text/plain": [
       "<matplotlib.figure.Figure at 0x7f6c8fe17c18>"
      ]
     },
     "metadata": {
      "tags": []
     },
     "output_type": "display_data"
    }
   ],
   "source": [
    "model_eval()"
   ]
  },
  {
   "cell_type": "markdown",
   "metadata": {
    "colab_type": "text",
    "id": "4mGCUsdfbq5I"
   },
   "source": [
    "# 4. RNN (bidirectional lstm)"
   ]
  },
  {
   "cell_type": "markdown",
   "metadata": {},
   "source": [
    "### Model Train"
   ]
  },
  {
   "cell_type": "code",
   "execution_count": 10,
   "metadata": {
    "colab": {
     "autoexec": {
      "startup": false,
      "wait_interval": 0
     },
     "base_uri": "https://localhost:8080/",
     "height": 527,
     "output_extras": [
      {
       "item_id": 10
      },
      {
       "item_id": 11
      }
     ]
    },
    "colab_type": "code",
    "executionInfo": {
     "elapsed": 2293447,
     "status": "ok",
     "timestamp": 1521767735870,
     "user": {
      "displayName": "Houk Paek",
      "photoUrl": "https://lh3.googleusercontent.com/a/default-user=s128",
      "userId": "113855001944690852319"
     },
     "user_tz": 420
    },
    "id": "z8F-DoX8bY7u",
    "outputId": "45dd617f-8b11-4ace-d1d4-430387e88035"
   },
   "outputs": [
    {
     "name": "stdout",
     "output_type": "stream",
     "text": [
      "_________________________________________________________________\n",
      "Layer (type)                 Output Shape              Param #   \n",
      "=================================================================\n",
      "embedding_1 (Embedding)      (None, 500, 128)          2560000   \n",
      "_________________________________________________________________\n",
      "bidirectional_1 (Bidirection (None, 128)               98816     \n",
      "_________________________________________________________________\n",
      "dropout_1 (Dropout)          (None, 128)               0         \n",
      "_________________________________________________________________\n",
      "dense_1 (Dense)              (None, 1)                 129       \n",
      "=================================================================\n",
      "Total params: 2,658,945\n",
      "Trainable params: 2,658,945\n",
      "Non-trainable params: 0\n",
      "_________________________________________________________________\n",
      "None\n",
      "Train on 25000 samples, validate on 25000 samples\n",
      "Epoch 1/50\n",
      " - 384s - loss: 0.4608 - acc: 0.7748 - val_loss: 0.3450 - val_acc: 0.8566\n",
      "Epoch 2/50\n",
      " - 381s - loss: 0.3057 - acc: 0.8729 - val_loss: 0.4019 - val_acc: 0.8422\n",
      "Epoch 3/50\n",
      " - 381s - loss: 0.2352 - acc: 0.9146 - val_loss: 0.3888 - val_acc: 0.8609\n",
      "Epoch 4/50\n",
      " - 381s - loss: 0.1504 - acc: 0.9483 - val_loss: 0.3905 - val_acc: 0.8650\n",
      "Epoch 5/50\n",
      " - 380s - loss: 0.0929 - acc: 0.9724 - val_loss: 0.4341 - val_acc: 0.8608\n",
      "Epoch 6/50\n",
      " - 383s - loss: 0.0685 - acc: 0.9795 - val_loss: 0.4946 - val_acc: 0.8589\n"
     ]
    },
    {
     "data": {
      "text/plain": [
       "<keras.callbacks.History at 0x7f6ca17f8828>"
      ]
     },
     "execution_count": 10,
     "metadata": {
      "tags": []
     },
     "output_type": "execute_result"
    }
   ],
   "source": [
    "np.random.seed(seed)\n",
    "K.clear_session()\n",
    "\n",
    "# create the model\n",
    "model = Sequential()\n",
    "model.add(Embedding(top_words, 128, input_length=X_train.shape[1]))\n",
    "model.add(Bidirectional(LSTM(64)))\n",
    "model.add(Dropout(0.5))\n",
    "model.add(Dense(1, activation='sigmoid'))\n",
    "model.compile(loss='binary_crossentropy', optimizer='adam', metrics=['accuracy'])\n",
    "print(model.summary())\n",
    "\n",
    "# callback\n",
    "early_stop = EarlyStopping(monitor='val_loss', patience=5, verbose=0, mode='min')\n",
    "\n",
    "# train the model\n",
    "model.fit(X_train, y_train, validation_data=(X_test, y_test), epochs=50, \n",
    "          batch_size=128, verbose=2, callbacks=[early_stop])"
   ]
  },
  {
   "cell_type": "markdown",
   "metadata": {},
   "source": [
    "### Model Evaluation with Test Set"
   ]
  },
  {
   "cell_type": "code",
   "execution_count": 11,
   "metadata": {
    "colab": {
     "autoexec": {
      "startup": false,
      "wait_interval": 0
     },
     "base_uri": "https://localhost:8080/",
     "height": 376,
     "output_extras": [
      {
       "item_id": 1
      },
      {
       "item_id": 2
      }
     ]
    },
    "colab_type": "code",
    "executionInfo": {
     "elapsed": 73086,
     "status": "ok",
     "timestamp": 1521769717880,
     "user": {
      "displayName": "Houk Paek",
      "photoUrl": "https://lh3.googleusercontent.com/a/default-user=s128",
      "userId": "113855001944690852319"
     },
     "user_tz": 420
    },
    "id": "xF6T5p40fds9",
    "outputId": "91ecf5d0-fcc3-4b3b-b902-6ad0243639bd"
   },
   "outputs": [
    {
     "name": "stdout",
     "output_type": "stream",
     "text": [
      "Accuracy: 85.9%\n",
      "roc auc: 0.859\n",
      "\n",
      "\n",
      "             precision    recall  f1-score   support\n",
      "\n",
      "          0       0.87      0.84      0.86     12500\n",
      "          1       0.85      0.87      0.86     12500\n",
      "\n",
      "avg / total       0.86      0.86      0.86     25000\n",
      "\n"
     ]
    },
    {
     "data": {
      "image/png": "[encoded data removed]",
      "text/plain": [
       "<matplotlib.figure.Figure at 0x7f6c9d8ffe10>"
      ]
     },
     "metadata": {
      "tags": []
     },
     "output_type": "display_data"
    }
   ],
   "source": [
    "model_eval()"
   ]
  },
  {
   "cell_type": "markdown",
   "metadata": {
    "colab_type": "text",
    "id": "GEDV07vnjxZD"
   },
   "source": [
    "# 5. CNN + LSTM"
   ]
  },
  {
   "cell_type": "markdown",
   "metadata": {},
   "source": [
    "### Model Train"
   ]
  },
  {
   "cell_type": "code",
   "execution_count": 6,
   "metadata": {
    "colab": {
     "autoexec": {
      "startup": false,
      "wait_interval": 0
     },
     "base_uri": "https://localhost:8080/",
     "height": 700,
     "output_extras": [
      {
       "item_id": 11
      },
      {
       "item_id": 12
      }
     ]
    },
    "colab_type": "code",
    "executionInfo": {
     "elapsed": 868937,
     "status": "ok",
     "timestamp": 1521764717284,
     "user": {
      "displayName": "Houk Paek",
      "photoUrl": "https://lh3.googleusercontent.com/a/default-user=s128",
      "userId": "113855001944690852319"
     },
     "user_tz": 420
    },
    "id": "cpfFgI0Bjxsx",
    "outputId": "83dc361c-3690-4eae-e356-20a47a616337"
   },
   "outputs": [
    {
     "name": "stdout",
     "output_type": "stream",
     "text": [
      "WARNING:tensorflow:From /usr/local/lib/python3.6/dist-packages/tensorflow/python/util/deprecation.py:497: calling conv1d (from tensorflow.python.ops.nn_ops) with data_format=NHWC is deprecated and will be removed in a future version.\n",
      "Instructions for updating:\n",
      "`NHWC` for data_format is deprecated, use `NWC` instead\n",
      "_________________________________________________________________\n",
      "Layer (type)                 Output Shape              Param #   \n",
      "=================================================================\n",
      "embedding_1 (Embedding)      (None, 500, 128)          2560000   \n",
      "_________________________________________________________________\n",
      "dropout_1 (Dropout)          (None, 500, 128)          0         \n",
      "_________________________________________________________________\n",
      "conv1d_1 (Conv1D)            (None, 500, 250)          96250     \n",
      "_________________________________________________________________\n",
      "max_pooling1d_1 (MaxPooling1 (None, 250, 250)          0         \n",
      "_________________________________________________________________\n",
      "lstm_1 (LSTM)                (None, 64)                80640     \n",
      "_________________________________________________________________\n",
      "dense_1 (Dense)              (None, 1)                 65        \n",
      "=================================================================\n",
      "Total params: 2,736,955\n",
      "Trainable params: 2,736,955\n",
      "Non-trainable params: 0\n",
      "_________________________________________________________________\n",
      "None\n",
      "Train on 25000 samples, validate on 25000 samples\n",
      "Epoch 1/50\n",
      " - 125s - loss: 0.4482 - acc: 0.7766 - val_loss: 0.3444 - val_acc: 0.8568\n",
      "Epoch 2/50\n",
      " - 123s - loss: 0.2662 - acc: 0.8959 - val_loss: 0.3235 - val_acc: 0.8674\n",
      "Epoch 3/50\n",
      " - 123s - loss: 0.1716 - acc: 0.9392 - val_loss: 0.3320 - val_acc: 0.8711\n",
      "Epoch 4/50\n",
      " - 123s - loss: 0.1109 - acc: 0.9624 - val_loss: 0.3718 - val_acc: 0.8604\n",
      "Epoch 5/50\n",
      " - 123s - loss: 0.0759 - acc: 0.9751 - val_loss: 0.4438 - val_acc: 0.8636\n",
      "Epoch 6/50\n",
      " - 124s - loss: 0.0611 - acc: 0.9809 - val_loss: 0.5067 - val_acc: 0.8607\n",
      "Epoch 7/50\n",
      " - 125s - loss: 0.0416 - acc: 0.9878 - val_loss: 0.5255 - val_acc: 0.8578\n"
     ]
    },
    {
     "data": {
      "text/plain": [
       "<keras.callbacks.History at 0x7f6ca4a2be10>"
      ]
     },
     "execution_count": 6,
     "metadata": {
      "tags": []
     },
     "output_type": "execute_result"
    }
   ],
   "source": [
    "np.random.seed(seed)\n",
    "K.clear_session()\n",
    "\n",
    "# create the model\n",
    "model = Sequential()\n",
    "model.add(Embedding(top_words, 128, input_length=X_train.shape[1]))\n",
    "model.add(Dropout(0.2))\n",
    "model.add(Conv1D(filters=250, kernel_size=3, padding='same', activation='relu'))\n",
    "model.add(MaxPooling1D(pool_size=2))\n",
    "model.add(LSTM(64, dropout=0.2, recurrent_dropout=0.2))\n",
    "model.add(Dense(1, activation='sigmoid'))\n",
    "model.compile(loss='binary_crossentropy', optimizer='adam', metrics=['accuracy'])\n",
    "print(model.summary())\n",
    "\n",
    "# callback\n",
    "early_stop = EarlyStopping(monitor='val_loss', patience=5, verbose=0, mode='min')\n",
    "\n",
    "# train the model\n",
    "model.fit(X_train, y_train, validation_data=(X_test, y_test), epochs=50, \n",
    "          batch_size=128, verbose=2, callbacks=[early_stop])"
   ]
  },
  {
   "cell_type": "markdown",
   "metadata": {},
   "source": [
    "### Model Evaluation with Test Set"
   ]
  },
  {
   "cell_type": "code",
   "execution_count": 9,
   "metadata": {
    "colab": {
     "autoexec": {
      "startup": false,
      "wait_interval": 0
     },
     "base_uri": "https://localhost:8080/",
     "height": 376,
     "output_extras": [
      {
       "item_id": 1
      },
      {
       "item_id": 2
      }
     ]
    },
    "colab_type": "code",
    "executionInfo": {
     "elapsed": 26230,
     "status": "ok",
     "timestamp": 1521765424885,
     "user": {
      "displayName": "Houk Paek",
      "photoUrl": "https://lh3.googleusercontent.com/a/default-user=s128",
      "userId": "113855001944690852319"
     },
     "user_tz": 420
    },
    "id": "CgiVpol1jyIV",
    "outputId": "05a9359f-6917-40e1-d397-a947b09da46d"
   },
   "outputs": [
    {
     "name": "stdout",
     "output_type": "stream",
     "text": [
      "Accuracy: 85.8%\n",
      "roc auc: 0.858\n",
      "\n",
      "\n",
      "             precision    recall  f1-score   support\n",
      "\n",
      "          0       0.86      0.86      0.86     12500\n",
      "          1       0.86      0.86      0.86     12500\n",
      "\n",
      "avg / total       0.86      0.86      0.86     25000\n",
      "\n"
     ]
    },
    {
     "data": {
      "image/png": "[encoded data removed]",
      "text/plain": [
       "<matplotlib.figure.Figure at 0x7f6d059c41d0>"
      ]
     },
     "metadata": {
      "tags": []
     },
     "output_type": "display_data"
    }
   ],
   "source": [
    "model_eval()"
   ]
  }
 ],
 "metadata": {
  "accelerator": "GPU",
  "colab": {
   "default_view": {},
   "name": "NLP_BinClass_keras_imdb_sentiment_analysis_colab_auc877.ipynb",
   "provenance": [],
   "version": "0.3.2",
   "views": {}
  },
  "kernelspec": {
   "display_name": "Python 3",
   "language": "python",
   "name": "python3"
  },
  "language_info": {
   "codemirror_mode": {
    "name": "ipython",
    "version": 3
   },
   "file_extension": ".py",
   "mimetype": "text/x-python",
   "name": "python",
   "nbconvert_exporter": "python",
   "pygments_lexer": "ipython3",
   "version": "3.6.3"
  }
 },
 "nbformat": 4,
 "nbformat_minor": 1
}
