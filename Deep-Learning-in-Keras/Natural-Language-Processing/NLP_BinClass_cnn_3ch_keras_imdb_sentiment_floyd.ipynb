{
 "cells": [
  {
   "cell_type": "markdown",
   "metadata": {},
   "source": [
    "# NLP & Binary Classification: IMDB sentiment data\n",
    "https://keras.io/datasets/\n",
    "\n",
    "\n",
    "** Dataset Information: **\n",
    "\n",
    "- Dataset of 25,000 movies reviews from IMDB, labeled by sentiment (positive/negative)\n",
    "\n",
    "** Attribute Information: (1 features and 1 class) **\n",
    "\n",
    "- review: preprocessed, a sequence of word indexes\n",
    "- sentiment: positive/negative\n",
    "\n",
    "** Objective of this project **\n",
    "\n",
    "- predict whether a review is thumbs-up or thumbs-down"
   ]
  },
  {
   "cell_type": "markdown",
   "metadata": {},
   "source": [
    "# Data"
   ]
  },
  {
   "cell_type": "code",
   "execution_count": 2,
   "metadata": {},
   "outputs": [],
   "source": [
    "import numpy as np\n",
    "from keras.datasets import imdb\n",
    "from matplotlib import pyplot as plt\n",
    "%matplotlib inline\n",
    "\n",
    "# load Data\n",
    "(X_train, y_train), (X_test, y_test) = imdb.load_data()\n",
    "X = np.concatenate((X_train, X_test), axis=0)\n",
    "y = np.concatenate((y_train, y_test), axis=0)"
   ]
  },
  {
   "cell_type": "code",
   "execution_count": 2,
   "metadata": {},
   "outputs": [
    {
     "name": "stdout",
     "output_type": "stream",
     "text": [
      "(50000,) (50000,)\n"
     ]
    }
   ],
   "source": [
    "# feature (review)\n",
    "print(X.shape,y.shape)\n",
    "#X[0]"
   ]
  },
  {
   "cell_type": "code",
   "execution_count": 3,
   "metadata": {},
   "outputs": [
    {
     "name": "stdout",
     "output_type": "stream",
     "text": [
      "(array([0, 1]), array([12500, 12500]))\n"
     ]
    }
   ],
   "source": [
    "# class (setiment)\n",
    "print(np.unique(y_train,return_counts=True))"
   ]
  },
  {
   "cell_type": "code",
   "execution_count": 4,
   "metadata": {},
   "outputs": [
    {
     "name": "stdout",
     "output_type": "stream",
     "text": [
      "88585\n"
     ]
    }
   ],
   "source": [
    "# total unique words\n",
    "print(len(np.unique(np.hstack(X))))"
   ]
  },
  {
   "cell_type": "code",
   "execution_count": 5,
   "metadata": {},
   "outputs": [
    {
     "name": "stdout",
     "output_type": "stream",
     "text": [
      "Review length: Mean 234.8 words (172.9)\n"
     ]
    },
    {
     "data": {
      "image/png": "[encoded data removed]",
      "text/plain": [
       "<matplotlib.figure.Figure at 0x7f5eac3a9240>"
      ]
     },
     "metadata": {},
     "output_type": "display_data"
    }
   ],
   "source": [
    "# review length\n",
    "result = [len(x) for x in X]\n",
    "print(\"Review length: Mean %.1f words (%.1f)\" % (np.mean(result), np.std(result)))\n",
    "\n",
    "plt.figure(figsize=(12,4))\n",
    "plt.subplot(1, 2, 1)\n",
    "plt.boxplot(result)\n",
    "plt.subplot(1, 2, 2)\n",
    "plt.hist(result,bins=50)\n",
    "plt.show()"
   ]
  },
  {
   "cell_type": "markdown",
   "metadata": {},
   "source": [
    "# Data Preprocessing"
   ]
  },
  {
   "cell_type": "code",
   "execution_count": 3,
   "metadata": {
    "collapsed": true
   },
   "outputs": [],
   "source": [
    "# fix random seed for reproducibility\n",
    "seed = 113\n",
    "np.random.seed(seed)"
   ]
  },
  {
   "cell_type": "code",
   "execution_count": 4,
   "metadata": {},
   "outputs": [
    {
     "name": "stdout",
     "output_type": "stream",
     "text": [
      "(25000,) (25000,) (25000,) (25000,)\n"
     ]
    }
   ],
   "source": [
    "# load the top 5000 words (vocabulary)\n",
    "vocab_size = 5000\n",
    "(X_train, y_train), (X_test, y_test) = imdb.load_data(num_words=vocab_size,\n",
    "                                                      seed=seed)\n",
    "print(X_train.shape,y_train.shape,X_test.shape,y_test.shape)\n",
    "#X_train[0]"
   ]
  },
  {
   "cell_type": "code",
   "execution_count": 5,
   "metadata": {},
   "outputs": [
    {
     "name": "stdout",
     "output_type": "stream",
     "text": [
      "(25000, 500) (25000, 500)\n"
     ]
    }
   ],
   "source": [
    "# truncate reviews at 500 words and zero padding for shorter one\n",
    "from keras.preprocessing.sequence import pad_sequences\n",
    "length = 500\n",
    "X_train = pad_sequences(X_train, maxlen=length, padding='post')\n",
    "X_test = pad_sequences(X_test, maxlen=length, padding='post')\n",
    "print(X_train.shape,X_test.shape)\n",
    "#X_train[0]"
   ]
  },
  {
   "cell_type": "markdown",
   "metadata": {},
   "source": [
    "# 3 channel CNN"
   ]
  },
  {
   "cell_type": "markdown",
   "metadata": {},
   "source": [
    "### Model Train"
   ]
  },
  {
   "cell_type": "code",
   "execution_count": 6,
   "metadata": {},
   "outputs": [
    {
     "name": "stdout",
     "output_type": "stream",
     "text": [
      "__________________________________________________________________________________________________\n",
      "Layer (type)                    Output Shape         Param #     Connected to                     \n",
      "==================================================================================================\n",
      "input_1 (InputLayer)            (None, 500)          0                                            \n",
      "__________________________________________________________________________________________________\n",
      "input_2 (InputLayer)            (None, 500)          0                                            \n",
      "__________________________________________________________________________________________________\n",
      "input_3 (InputLayer)            (None, 500)          0                                            \n",
      "__________________________________________________________________________________________________\n",
      "embedding_1 (Embedding)         (None, 500, 100)     500000      input_1[0][0]                    \n",
      "__________________________________________________________________________________________________\n",
      "embedding_2 (Embedding)         (None, 500, 100)     500000      input_2[0][0]                    \n",
      "__________________________________________________________________________________________________\n",
      "embedding_3 (Embedding)         (None, 500, 100)     500000      input_3[0][0]                    \n",
      "__________________________________________________________________________________________________\n",
      "conv1d_1 (Conv1D)               (None, 497, 32)      12832       embedding_1[0][0]                \n",
      "__________________________________________________________________________________________________\n",
      "conv1d_2 (Conv1D)               (None, 495, 32)      19232       embedding_2[0][0]                \n",
      "__________________________________________________________________________________________________\n",
      "conv1d_3 (Conv1D)               (None, 493, 32)      25632       embedding_3[0][0]                \n",
      "__________________________________________________________________________________________________\n",
      "dropout_1 (Dropout)             (None, 497, 32)      0           conv1d_1[0][0]                   \n",
      "__________________________________________________________________________________________________\n",
      "dropout_2 (Dropout)             (None, 495, 32)      0           conv1d_2[0][0]                   \n",
      "__________________________________________________________________________________________________\n",
      "dropout_3 (Dropout)             (None, 493, 32)      0           conv1d_3[0][0]                   \n",
      "__________________________________________________________________________________________________\n",
      "max_pooling1d_1 (MaxPooling1D)  (None, 248, 32)      0           dropout_1[0][0]                  \n",
      "__________________________________________________________________________________________________\n",
      "max_pooling1d_2 (MaxPooling1D)  (None, 247, 32)      0           dropout_2[0][0]                  \n",
      "__________________________________________________________________________________________________\n",
      "max_pooling1d_3 (MaxPooling1D)  (None, 246, 32)      0           dropout_3[0][0]                  \n",
      "__________________________________________________________________________________________________\n",
      "flatten_1 (Flatten)             (None, 7936)         0           max_pooling1d_1[0][0]            \n",
      "__________________________________________________________________________________________________\n",
      "flatten_2 (Flatten)             (None, 7904)         0           max_pooling1d_2[0][0]            \n",
      "__________________________________________________________________________________________________\n",
      "flatten_3 (Flatten)             (None, 7872)         0           max_pooling1d_3[0][0]            \n",
      "__________________________________________________________________________________________________\n",
      "concatenate_1 (Concatenate)     (None, 23712)        0           flatten_1[0][0]                  \n",
      "                                                                 flatten_2[0][0]                  \n",
      "                                                                 flatten_3[0][0]                  \n",
      "__________________________________________________________________________________________________\n",
      "dense_1 (Dense)                 (None, 10)           237130      concatenate_1[0][0]              \n",
      "__________________________________________________________________________________________________\n",
      "dense_2 (Dense)                 (None, 1)            11          dense_1[0][0]                    \n",
      "==================================================================================================\n",
      "Total params: 1,794,837\n",
      "Trainable params: 1,794,837\n",
      "Non-trainable params: 0\n",
      "__________________________________________________________________________________________________\n",
      "None\n"
     ]
    }
   ],
   "source": [
    "from keras.preprocessing.sequence import pad_sequences\n",
    "from keras.utils.vis_utils import plot_model\n",
    "from keras.models import Model\n",
    "from keras.layers import Input,Dense,Dropout,Embedding,Flatten\n",
    "from keras.layers.convolutional import Conv1D,MaxPooling1D\n",
    "from keras.layers.merge import concatenate\n",
    "from keras.callbacks import EarlyStopping\n",
    "\n",
    "# channel 1\n",
    "inputs1 = Input(shape=(length,))\n",
    "embedding1 = Embedding(vocab_size, 100)(inputs1)\n",
    "conv1 = Conv1D(filters=32, kernel_size=4, activation='relu')(embedding1)\n",
    "drop1 = Dropout(0.5)(conv1)\n",
    "pool1 = MaxPooling1D(pool_size=2)(drop1)\n",
    "flat1 = Flatten()(pool1)\n",
    "# channel 2\n",
    "inputs2 = Input(shape=(length,))\n",
    "embedding2 = Embedding(vocab_size, 100)(inputs2)\n",
    "conv2 = Conv1D(filters=32, kernel_size=6, activation='relu')(embedding2)\n",
    "drop2 = Dropout(0.5)(conv2)\n",
    "pool2 = MaxPooling1D(pool_size=2)(drop2)\n",
    "flat2 = Flatten()(pool2)\n",
    "# channel 3\n",
    "inputs3 = Input(shape=(length,))\n",
    "embedding3 = Embedding(vocab_size, 100)(inputs3)\n",
    "conv3 = Conv1D(filters=32, kernel_size=8, activation='relu')(embedding3)\n",
    "drop3 = Dropout(0.5)(conv3)\n",
    "pool3 = MaxPooling1D(pool_size=2)(drop3)\n",
    "flat3 = Flatten()(pool3)\n",
    "# merge\n",
    "merged = concatenate([flat1, flat2, flat3])\n",
    "# interpretation\n",
    "dense1 = Dense(10, activation='relu')(merged)\n",
    "outputs = Dense(1, activation='sigmoid')(dense1)\n",
    "model = Model(inputs=[inputs1, inputs2, inputs3], outputs=outputs)\n",
    "# compile\n",
    "model.compile(loss='binary_crossentropy', optimizer='adam', metrics=['accuracy'])\n",
    "# summarize\n",
    "print(model.summary())"
   ]
  },
  {
   "cell_type": "code",
   "execution_count": 7,
   "metadata": {},
   "outputs": [
    {
     "data": {
      "image/svg+xml": [
       "<svg height=\"629pt\" viewBox=\"0.00 0.00 671.00 629.00\" width=\"671pt\" xmlns=\"http://www.w3.org/2000/svg\" xmlns:xlink=\"http://www.w3.org/1999/xlink\">\n",
       "<g class=\"graph\" id=\"graph0\" transform=\"scale(1 1) rotate(0) translate(4 625)\">\n",
       "<title>G</title>\n",
       "<polygon fill=\"white\" points=\"-4,4 -4,-625 667,-625 667,4 -4,4\" stroke=\"none\"/>\n",
       "<!-- 1704459992648 -->\n",
       "<g class=\"node\" id=\"node1\"><title>1704459992648</title>\n",
       "<polygon fill=\"none\" points=\"41.5,-584.5 41.5,-620.5 167.5,-620.5 167.5,-584.5 41.5,-584.5\" stroke=\"black\"/>\n",
       "<text font-family=\"Times New Roman,serif\" font-size=\"14.00\" text-anchor=\"middle\" x=\"104.5\" y=\"-598.8\">input_1: InputLayer</text>\n",
       "</g>\n",
       "<!-- 1704459992816 -->\n",
       "<g class=\"node\" id=\"node4\"><title>1704459992816</title>\n",
       "<polygon fill=\"none\" points=\"23,-511.5 23,-547.5 186,-547.5 186,-511.5 23,-511.5\" stroke=\"black\"/>\n",
       "<text font-family=\"Times New Roman,serif\" font-size=\"14.00\" text-anchor=\"middle\" x=\"104.5\" y=\"-525.8\">embedding_1: Embedding</text>\n",
       "</g>\n",
       "<!-- 1704459992648&#45;&gt;1704459992816 -->\n",
       "<g class=\"edge\" id=\"edge1\"><title>1704459992648-&gt;1704459992816</title>\n",
       "<path d=\"M104.5,-584.313C104.5,-576.289 104.5,-566.547 104.5,-557.569\" fill=\"none\" stroke=\"black\"/>\n",
       "<polygon fill=\"black\" points=\"108,-557.529 104.5,-547.529 101,-557.529 108,-557.529\" stroke=\"black\"/>\n",
       "</g>\n",
       "<!-- 1704024715784 -->\n",
       "<g class=\"node\" id=\"node2\"><title>1704024715784</title>\n",
       "<polygon fill=\"none\" points=\"268.5,-584.5 268.5,-620.5 394.5,-620.5 394.5,-584.5 268.5,-584.5\" stroke=\"black\"/>\n",
       "<text font-family=\"Times New Roman,serif\" font-size=\"14.00\" text-anchor=\"middle\" x=\"331.5\" y=\"-598.8\">input_2: InputLayer</text>\n",
       "</g>\n",
       "<!-- 1704506144416 -->\n",
       "<g class=\"node\" id=\"node5\"><title>1704506144416</title>\n",
       "<polygon fill=\"none\" points=\"250,-511.5 250,-547.5 413,-547.5 413,-511.5 250,-511.5\" stroke=\"black\"/>\n",
       "<text font-family=\"Times New Roman,serif\" font-size=\"14.00\" text-anchor=\"middle\" x=\"331.5\" y=\"-525.8\">embedding_2: Embedding</text>\n",
       "</g>\n",
       "<!-- 1704024715784&#45;&gt;1704506144416 -->\n",
       "<g class=\"edge\" id=\"edge2\"><title>1704024715784-&gt;1704506144416</title>\n",
       "<path d=\"M331.5,-584.313C331.5,-576.289 331.5,-566.547 331.5,-557.569\" fill=\"none\" stroke=\"black\"/>\n",
       "<polygon fill=\"black\" points=\"335,-557.529 331.5,-547.529 328,-557.529 335,-557.529\" stroke=\"black\"/>\n",
       "</g>\n",
       "<!-- 1704592895784 -->\n",
       "<g class=\"node\" id=\"node3\"><title>1704592895784</title>\n",
       "<polygon fill=\"none\" points=\"495.5,-584.5 495.5,-620.5 621.5,-620.5 621.5,-584.5 495.5,-584.5\" stroke=\"black\"/>\n",
       "<text font-family=\"Times New Roman,serif\" font-size=\"14.00\" text-anchor=\"middle\" x=\"558.5\" y=\"-598.8\">input_3: InputLayer</text>\n",
       "</g>\n",
       "<!-- 1704572801432 -->\n",
       "<g class=\"node\" id=\"node6\"><title>1704572801432</title>\n",
       "<polygon fill=\"none\" points=\"477,-511.5 477,-547.5 640,-547.5 640,-511.5 477,-511.5\" stroke=\"black\"/>\n",
       "<text font-family=\"Times New Roman,serif\" font-size=\"14.00\" text-anchor=\"middle\" x=\"558.5\" y=\"-525.8\">embedding_3: Embedding</text>\n",
       "</g>\n",
       "<!-- 1704592895784&#45;&gt;1704572801432 -->\n",
       "<g class=\"edge\" id=\"edge3\"><title>1704592895784-&gt;1704572801432</title>\n",
       "<path d=\"M558.5,-584.313C558.5,-576.289 558.5,-566.547 558.5,-557.569\" fill=\"none\" stroke=\"black\"/>\n",
       "<polygon fill=\"black\" points=\"562,-557.529 558.5,-547.529 555,-557.529 562,-557.529\" stroke=\"black\"/>\n",
       "</g>\n",
       "<!-- 1704157846160 -->\n",
       "<g class=\"node\" id=\"node7\"><title>1704157846160</title>\n",
       "<polygon fill=\"none\" points=\"41,-438.5 41,-474.5 168,-474.5 168,-438.5 41,-438.5\" stroke=\"black\"/>\n",
       "<text font-family=\"Times New Roman,serif\" font-size=\"14.00\" text-anchor=\"middle\" x=\"104.5\" y=\"-452.8\">conv1d_1: Conv1D</text>\n",
       "</g>\n",
       "<!-- 1704459992816&#45;&gt;1704157846160 -->\n",
       "<g class=\"edge\" id=\"edge4\"><title>1704459992816-&gt;1704157846160</title>\n",
       "<path d=\"M104.5,-511.313C104.5,-503.289 104.5,-493.547 104.5,-484.569\" fill=\"none\" stroke=\"black\"/>\n",
       "<polygon fill=\"black\" points=\"108,-484.529 104.5,-474.529 101,-484.529 108,-484.529\" stroke=\"black\"/>\n",
       "</g>\n",
       "<!-- 1704529600920 -->\n",
       "<g class=\"node\" id=\"node8\"><title>1704529600920</title>\n",
       "<polygon fill=\"none\" points=\"268,-438.5 268,-474.5 395,-474.5 395,-438.5 268,-438.5\" stroke=\"black\"/>\n",
       "<text font-family=\"Times New Roman,serif\" font-size=\"14.00\" text-anchor=\"middle\" x=\"331.5\" y=\"-452.8\">conv1d_2: Conv1D</text>\n",
       "</g>\n",
       "<!-- 1704506144416&#45;&gt;1704529600920 -->\n",
       "<g class=\"edge\" id=\"edge5\"><title>1704506144416-&gt;1704529600920</title>\n",
       "<path d=\"M331.5,-511.313C331.5,-503.289 331.5,-493.547 331.5,-484.569\" fill=\"none\" stroke=\"black\"/>\n",
       "<polygon fill=\"black\" points=\"335,-484.529 331.5,-474.529 328,-484.529 335,-484.529\" stroke=\"black\"/>\n",
       "</g>\n",
       "<!-- 1704468533088 -->\n",
       "<g class=\"node\" id=\"node9\"><title>1704468533088</title>\n",
       "<polygon fill=\"none\" points=\"495,-438.5 495,-474.5 622,-474.5 622,-438.5 495,-438.5\" stroke=\"black\"/>\n",
       "<text font-family=\"Times New Roman,serif\" font-size=\"14.00\" text-anchor=\"middle\" x=\"558.5\" y=\"-452.8\">conv1d_3: Conv1D</text>\n",
       "</g>\n",
       "<!-- 1704572801432&#45;&gt;1704468533088 -->\n",
       "<g class=\"edge\" id=\"edge6\"><title>1704572801432-&gt;1704468533088</title>\n",
       "<path d=\"M558.5,-511.313C558.5,-503.289 558.5,-493.547 558.5,-484.569\" fill=\"none\" stroke=\"black\"/>\n",
       "<polygon fill=\"black\" points=\"562,-484.529 558.5,-474.529 555,-484.529 562,-484.529\" stroke=\"black\"/>\n",
       "</g>\n",
       "<!-- 1704452801312 -->\n",
       "<g class=\"node\" id=\"node10\"><title>1704452801312</title>\n",
       "<polygon fill=\"none\" points=\"39.5,-365.5 39.5,-401.5 169.5,-401.5 169.5,-365.5 39.5,-365.5\" stroke=\"black\"/>\n",
       "<text font-family=\"Times New Roman,serif\" font-size=\"14.00\" text-anchor=\"middle\" x=\"104.5\" y=\"-379.8\">dropout_1: Dropout</text>\n",
       "</g>\n",
       "<!-- 1704157846160&#45;&gt;1704452801312 -->\n",
       "<g class=\"edge\" id=\"edge7\"><title>1704157846160-&gt;1704452801312</title>\n",
       "<path d=\"M104.5,-438.313C104.5,-430.289 104.5,-420.547 104.5,-411.569\" fill=\"none\" stroke=\"black\"/>\n",
       "<polygon fill=\"black\" points=\"108,-411.529 104.5,-401.529 101,-411.529 108,-411.529\" stroke=\"black\"/>\n",
       "</g>\n",
       "<!-- 1704529604504 -->\n",
       "<g class=\"node\" id=\"node11\"><title>1704529604504</title>\n",
       "<polygon fill=\"none\" points=\"266.5,-365.5 266.5,-401.5 396.5,-401.5 396.5,-365.5 266.5,-365.5\" stroke=\"black\"/>\n",
       "<text font-family=\"Times New Roman,serif\" font-size=\"14.00\" text-anchor=\"middle\" x=\"331.5\" y=\"-379.8\">dropout_2: Dropout</text>\n",
       "</g>\n",
       "<!-- 1704529600920&#45;&gt;1704529604504 -->\n",
       "<g class=\"edge\" id=\"edge8\"><title>1704529600920-&gt;1704529604504</title>\n",
       "<path d=\"M331.5,-438.313C331.5,-430.289 331.5,-420.547 331.5,-411.569\" fill=\"none\" stroke=\"black\"/>\n",
       "<polygon fill=\"black\" points=\"335,-411.529 331.5,-401.529 328,-411.529 335,-411.529\" stroke=\"black\"/>\n",
       "</g>\n",
       "<!-- 1704468530064 -->\n",
       "<g class=\"node\" id=\"node12\"><title>1704468530064</title>\n",
       "<polygon fill=\"none\" points=\"493.5,-365.5 493.5,-401.5 623.5,-401.5 623.5,-365.5 493.5,-365.5\" stroke=\"black\"/>\n",
       "<text font-family=\"Times New Roman,serif\" font-size=\"14.00\" text-anchor=\"middle\" x=\"558.5\" y=\"-379.8\">dropout_3: Dropout</text>\n",
       "</g>\n",
       "<!-- 1704468533088&#45;&gt;1704468530064 -->\n",
       "<g class=\"edge\" id=\"edge9\"><title>1704468533088-&gt;1704468530064</title>\n",
       "<path d=\"M558.5,-438.313C558.5,-430.289 558.5,-420.547 558.5,-411.569\" fill=\"none\" stroke=\"black\"/>\n",
       "<polygon fill=\"black\" points=\"562,-411.529 558.5,-401.529 555,-411.529 562,-411.529\" stroke=\"black\"/>\n",
       "</g>\n",
       "<!-- 1704452801480 -->\n",
       "<g class=\"node\" id=\"node13\"><title>1704452801480</title>\n",
       "<polygon fill=\"none\" points=\"0,-292.5 0,-328.5 209,-328.5 209,-292.5 0,-292.5\" stroke=\"black\"/>\n",
       "<text font-family=\"Times New Roman,serif\" font-size=\"14.00\" text-anchor=\"middle\" x=\"104.5\" y=\"-306.8\">max_pooling1d_1: MaxPooling1D</text>\n",
       "</g>\n",
       "<!-- 1704452801312&#45;&gt;1704452801480 -->\n",
       "<g class=\"edge\" id=\"edge10\"><title>1704452801312-&gt;1704452801480</title>\n",
       "<path d=\"M104.5,-365.313C104.5,-357.289 104.5,-347.547 104.5,-338.569\" fill=\"none\" stroke=\"black\"/>\n",
       "<polygon fill=\"black\" points=\"108,-338.529 104.5,-328.529 101,-338.529 108,-338.529\" stroke=\"black\"/>\n",
       "</g>\n",
       "<!-- 1704501281456 -->\n",
       "<g class=\"node\" id=\"node14\"><title>1704501281456</title>\n",
       "<polygon fill=\"none\" points=\"227,-292.5 227,-328.5 436,-328.5 436,-292.5 227,-292.5\" stroke=\"black\"/>\n",
       "<text font-family=\"Times New Roman,serif\" font-size=\"14.00\" text-anchor=\"middle\" x=\"331.5\" y=\"-306.8\">max_pooling1d_2: MaxPooling1D</text>\n",
       "</g>\n",
       "<!-- 1704529604504&#45;&gt;1704501281456 -->\n",
       "<g class=\"edge\" id=\"edge11\"><title>1704529604504-&gt;1704501281456</title>\n",
       "<path d=\"M331.5,-365.313C331.5,-357.289 331.5,-347.547 331.5,-338.569\" fill=\"none\" stroke=\"black\"/>\n",
       "<polygon fill=\"black\" points=\"335,-338.529 331.5,-328.529 328,-338.529 335,-338.529\" stroke=\"black\"/>\n",
       "</g>\n",
       "<!-- 1704469352288 -->\n",
       "<g class=\"node\" id=\"node15\"><title>1704469352288</title>\n",
       "<polygon fill=\"none\" points=\"454,-292.5 454,-328.5 663,-328.5 663,-292.5 454,-292.5\" stroke=\"black\"/>\n",
       "<text font-family=\"Times New Roman,serif\" font-size=\"14.00\" text-anchor=\"middle\" x=\"558.5\" y=\"-306.8\">max_pooling1d_3: MaxPooling1D</text>\n",
       "</g>\n",
       "<!-- 1704468530064&#45;&gt;1704469352288 -->\n",
       "<g class=\"edge\" id=\"edge12\"><title>1704468530064-&gt;1704469352288</title>\n",
       "<path d=\"M558.5,-365.313C558.5,-357.289 558.5,-347.547 558.5,-338.569\" fill=\"none\" stroke=\"black\"/>\n",
       "<polygon fill=\"black\" points=\"562,-338.529 558.5,-328.529 555,-338.529 562,-338.529\" stroke=\"black\"/>\n",
       "</g>\n",
       "<!-- 1704635354136 -->\n",
       "<g class=\"node\" id=\"node16\"><title>1704635354136</title>\n",
       "<polygon fill=\"none\" points=\"100,-219.5 100,-255.5 209,-255.5 209,-219.5 100,-219.5\" stroke=\"black\"/>\n",
       "<text font-family=\"Times New Roman,serif\" font-size=\"14.00\" text-anchor=\"middle\" x=\"154.5\" y=\"-233.8\">flatten_1: Flatten</text>\n",
       "</g>\n",
       "<!-- 1704452801480&#45;&gt;1704635354136 -->\n",
       "<g class=\"edge\" id=\"edge13\"><title>1704452801480-&gt;1704635354136</title>\n",
       "<path d=\"M116.604,-292.313C122.622,-283.766 130.014,-273.269 136.667,-263.823\" fill=\"none\" stroke=\"black\"/>\n",
       "<polygon fill=\"black\" points=\"139.612,-265.72 142.508,-255.529 133.888,-261.69 139.612,-265.72\" stroke=\"black\"/>\n",
       "</g>\n",
       "<!-- 1704547331880 -->\n",
       "<g class=\"node\" id=\"node17\"><title>1704547331880</title>\n",
       "<polygon fill=\"none\" points=\"277,-219.5 277,-255.5 386,-255.5 386,-219.5 277,-219.5\" stroke=\"black\"/>\n",
       "<text font-family=\"Times New Roman,serif\" font-size=\"14.00\" text-anchor=\"middle\" x=\"331.5\" y=\"-233.8\">flatten_2: Flatten</text>\n",
       "</g>\n",
       "<!-- 1704501281456&#45;&gt;1704547331880 -->\n",
       "<g class=\"edge\" id=\"edge14\"><title>1704501281456-&gt;1704547331880</title>\n",
       "<path d=\"M331.5,-292.313C331.5,-284.289 331.5,-274.547 331.5,-265.569\" fill=\"none\" stroke=\"black\"/>\n",
       "<polygon fill=\"black\" points=\"335,-265.529 331.5,-255.529 328,-265.529 335,-265.529\" stroke=\"black\"/>\n",
       "</g>\n",
       "<!-- 1704469352008 -->\n",
       "<g class=\"node\" id=\"node18\"><title>1704469352008</title>\n",
       "<polygon fill=\"none\" points=\"454,-219.5 454,-255.5 563,-255.5 563,-219.5 454,-219.5\" stroke=\"black\"/>\n",
       "<text font-family=\"Times New Roman,serif\" font-size=\"14.00\" text-anchor=\"middle\" x=\"508.5\" y=\"-233.8\">flatten_3: Flatten</text>\n",
       "</g>\n",
       "<!-- 1704469352288&#45;&gt;1704469352008 -->\n",
       "<g class=\"edge\" id=\"edge15\"><title>1704469352288-&gt;1704469352008</title>\n",
       "<path d=\"M546.396,-292.313C540.378,-283.766 532.986,-273.269 526.333,-263.823\" fill=\"none\" stroke=\"black\"/>\n",
       "<polygon fill=\"black\" points=\"529.112,-261.69 520.492,-255.529 523.388,-265.72 529.112,-261.69\" stroke=\"black\"/>\n",
       "</g>\n",
       "<!-- 1704507101704 -->\n",
       "<g class=\"node\" id=\"node19\"><title>1704507101704</title>\n",
       "<polygon fill=\"none\" points=\"245,-146.5 245,-182.5 418,-182.5 418,-146.5 245,-146.5\" stroke=\"black\"/>\n",
       "<text font-family=\"Times New Roman,serif\" font-size=\"14.00\" text-anchor=\"middle\" x=\"331.5\" y=\"-160.8\">concatenate_1: Concatenate</text>\n",
       "</g>\n",
       "<!-- 1704635354136&#45;&gt;1704507101704 -->\n",
       "<g class=\"edge\" id=\"edge16\"><title>1704635354136-&gt;1704507101704</title>\n",
       "<path d=\"M196.896,-219.494C221.672,-209.555 253.136,-196.934 279.412,-186.394\" fill=\"none\" stroke=\"black\"/>\n",
       "<polygon fill=\"black\" points=\"280.858,-189.585 288.837,-182.614 278.252,-183.088 280.858,-189.585\" stroke=\"black\"/>\n",
       "</g>\n",
       "<!-- 1704547331880&#45;&gt;1704507101704 -->\n",
       "<g class=\"edge\" id=\"edge17\"><title>1704547331880-&gt;1704507101704</title>\n",
       "<path d=\"M331.5,-219.313C331.5,-211.289 331.5,-201.547 331.5,-192.569\" fill=\"none\" stroke=\"black\"/>\n",
       "<polygon fill=\"black\" points=\"335,-192.529 331.5,-182.529 328,-192.529 335,-192.529\" stroke=\"black\"/>\n",
       "</g>\n",
       "<!-- 1704469352008&#45;&gt;1704507101704 -->\n",
       "<g class=\"edge\" id=\"edge18\"><title>1704469352008-&gt;1704507101704</title>\n",
       "<path d=\"M466.104,-219.494C441.328,-209.555 409.864,-196.934 383.588,-186.394\" fill=\"none\" stroke=\"black\"/>\n",
       "<polygon fill=\"black\" points=\"384.748,-183.088 374.163,-182.614 382.142,-189.585 384.748,-183.088\" stroke=\"black\"/>\n",
       "</g>\n",
       "<!-- 1704581404096 -->\n",
       "<g class=\"node\" id=\"node20\"><title>1704581404096</title>\n",
       "<polygon fill=\"none\" points=\"279.5,-73.5 279.5,-109.5 383.5,-109.5 383.5,-73.5 279.5,-73.5\" stroke=\"black\"/>\n",
       "<text font-family=\"Times New Roman,serif\" font-size=\"14.00\" text-anchor=\"middle\" x=\"331.5\" y=\"-87.8\">dense_1: Dense</text>\n",
       "</g>\n",
       "<!-- 1704507101704&#45;&gt;1704581404096 -->\n",
       "<g class=\"edge\" id=\"edge19\"><title>1704507101704-&gt;1704581404096</title>\n",
       "<path d=\"M331.5,-146.313C331.5,-138.289 331.5,-128.547 331.5,-119.569\" fill=\"none\" stroke=\"black\"/>\n",
       "<polygon fill=\"black\" points=\"335,-119.529 331.5,-109.529 328,-119.529 335,-119.529\" stroke=\"black\"/>\n",
       "</g>\n",
       "<!-- 1704539274376 -->\n",
       "<g class=\"node\" id=\"node21\"><title>1704539274376</title>\n",
       "<polygon fill=\"none\" points=\"279.5,-0.5 279.5,-36.5 383.5,-36.5 383.5,-0.5 279.5,-0.5\" stroke=\"black\"/>\n",
       "<text font-family=\"Times New Roman,serif\" font-size=\"14.00\" text-anchor=\"middle\" x=\"331.5\" y=\"-14.8\">dense_2: Dense</text>\n",
       "</g>\n",
       "<!-- 1704581404096&#45;&gt;1704539274376 -->\n",
       "<g class=\"edge\" id=\"edge20\"><title>1704581404096-&gt;1704539274376</title>\n",
       "<path d=\"M331.5,-73.3129C331.5,-65.2895 331.5,-55.5475 331.5,-46.5691\" fill=\"none\" stroke=\"black\"/>\n",
       "<polygon fill=\"black\" points=\"335,-46.5288 331.5,-36.5288 328,-46.5289 335,-46.5288\" stroke=\"black\"/>\n",
       "</g>\n",
       "</g>\n",
       "</svg>"
      ],
      "text/plain": [
       "<IPython.core.display.SVG object>"
      ]
     },
     "execution_count": 7,
     "metadata": {},
     "output_type": "execute_result"
    }
   ],
   "source": [
    "from IPython.display import SVG\n",
    "from keras.utils.vis_utils import model_to_dot\n",
    "SVG(model_to_dot(model).create(prog='dot', format='svg'))"
   ]
  },
  {
   "cell_type": "code",
   "execution_count": 12,
   "metadata": {},
   "outputs": [
    {
     "name": "stdout",
     "output_type": "stream",
     "text": [
      "Train on 25000 samples, validate on 25000 samples\n",
      "Epoch 1/50\n",
      "12s - loss: 0.0036 - acc: 0.9991 - val_loss: 0.5383 - val_acc: 0.8757\n",
      "Epoch 2/50\n",
      "12s - loss: 0.0032 - acc: 0.9991 - val_loss: 0.6037 - val_acc: 0.8707\n",
      "Epoch 3/50\n",
      "12s - loss: 0.0080 - acc: 0.9974 - val_loss: 0.5730 - val_acc: 0.8724\n",
      "Epoch 4/50\n",
      "12s - loss: 0.0301 - acc: 0.9891 - val_loss: 0.5687 - val_acc: 0.8632\n",
      "Epoch 5/50\n",
      "12s - loss: 0.0163 - acc: 0.9946 - val_loss: 0.5856 - val_acc: 0.8704\n",
      "Epoch 6/50\n",
      "12s - loss: 0.0082 - acc: 0.9972 - val_loss: 0.6796 - val_acc: 0.8662\n",
      "Epoch 7/50\n",
      "12s - loss: 0.0076 - acc: 0.9975 - val_loss: 0.6218 - val_acc: 0.8719\n"
     ]
    },
    {
     "data": {
      "text/plain": [
       "<keras.callbacks.History at 0x7f5e4f54abe0>"
      ]
     },
     "execution_count": 12,
     "metadata": {},
     "output_type": "execute_result"
    }
   ],
   "source": [
    "# callback\n",
    "early_stop = EarlyStopping(monitor='val_loss', patience=5, verbose=0, mode='min')\n",
    "\n",
    "# train the model\n",
    "model.fit([X_train,X_train,X_train], y_train,\n",
    "          validation_data=([X_test,X_test,X_test], y_test),\n",
    "          epochs=50, batch_size=128, verbose=2,\n",
    "          callbacks=[early_stop])"
   ]
  },
  {
   "cell_type": "markdown",
   "metadata": {},
   "source": [
    "### Model Evaluation with Test set"
   ]
  },
  {
   "cell_type": "code",
   "execution_count": 13,
   "metadata": {},
   "outputs": [
    {
     "name": "stdout",
     "output_type": "stream",
     "text": [
      "Accuracy: 87.2%\n"
     ]
    }
   ],
   "source": [
    "from sklearn.metrics import accuracy_score,confusion_matrix,classification_report\n",
    "\n",
    "# predict class with test set\n",
    "y_pred_test =  model.predict([X_test,X_test,X_test], batch_size=128, verbose=0)\n",
    "print('Accuracy: {:0.1f}%'.format(accuracy_score(y_test,y_pred_test>0.5)*100))"
   ]
  },
  {
   "cell_type": "code",
   "execution_count": 14,
   "metadata": {},
   "outputs": [
    {
     "name": "stdout",
     "output_type": "stream",
     "text": [
      "\n",
      "\n",
      "             precision    recall  f1-score   support\n",
      "\n",
      "          0       0.86      0.89      0.87     12500\n",
      "          1       0.89      0.85      0.87     12500\n",
      "\n",
      "avg / total       0.87      0.87      0.87     25000\n",
      "\n"
     ]
    },
    {
     "data": {
      "image/png": "[encoded data removed]",
      "text/plain": [
       "<matplotlib.figure.Figure at 0x7f5e4e38b4e0>"
      ]
     },
     "metadata": {},
     "output_type": "display_data"
    }
   ],
   "source": [
    "#classification report\n",
    "print('\\n')\n",
    "print(classification_report(y_test, y_pred_test>0.5))\n",
    "\n",
    "#confusion matrix\n",
    "confmat = confusion_matrix(y_test, y_pred_test>0.5)\n",
    "\n",
    "fig, ax = plt.subplots(figsize=(2.5, 2.5))\n",
    "ax.matshow(confmat, cmap=plt.cm.Blues, alpha=0.3)\n",
    "for i in range(confmat.shape[0]):\n",
    "    for j in range(confmat.shape[1]):\n",
    "        ax.text(x=j, y=i, s=confmat[i, j], va='center', ha='center')\n",
    "plt.xlabel('Predicted label')\n",
    "plt.ylabel('True label')\n",
    "plt.tight_layout()"
   ]
  }
 ],
 "metadata": {
  "kernelspec": {
   "display_name": "Python 3",
   "language": "python",
   "name": "python3"
  },
  "language_info": {
   "codemirror_mode": {
    "name": "ipython",
    "version": 3
   },
   "file_extension": ".py",
   "mimetype": "text/x-python",
   "name": "python",
   "nbconvert_exporter": "python",
   "pygments_lexer": "ipython3",
   "version": "3.6.3"
  }
 },
 "nbformat": 4,
 "nbformat_minor": 2
}
