{
 "cells": [
  {
   "cell_type": "markdown",
   "metadata": {
    "colab_type": "text",
    "id": "6EiZMXDqGoPH"
   },
   "source": [
    "## NLP & Binary Classification: Toxic Comment Classification Challenge\n",
    "https://www.kaggle.com/c/jigsaw-toxic-comment-classification-challenge\n",
    "\n",
    "** Dataset Information: **\n",
    "\n",
    "- a large number of Wikipedia comments which have been labeled by human raters for toxic behavior \n",
    "\n",
    "** Attribute Information:**\n",
    "\n",
    "- id\t\n",
    "- comment_text\n",
    "- toxic\n",
    "- severe_toxic\n",
    "- obscene\n",
    "- threat\n",
    "- insult\n",
    "- identity_hate                \n",
    "\n",
    "** Objective of this project **\n",
    "\n",
    "- Identify and classify toxic online comments\n"
   ]
  },
  {
   "cell_type": "markdown",
   "metadata": {
    "colab_type": "text",
    "id": "cFO7rl7BGoPJ"
   },
   "source": [
    "# Data"
   ]
  },
  {
   "cell_type": "code",
   "execution_count": 0,
   "metadata": {
    "colab": {
     "autoexec": {
      "startup": false,
      "wait_interval": 0
     }
    },
    "colab_type": "code",
    "collapsed": true,
    "id": "VphCYiKlGoPL"
   },
   "outputs": [],
   "source": [
    "# Load libraries\n",
    "import numpy as np\n",
    "import pandas as pd\n",
    "import matplotlib.pyplot as plt\n",
    "import seaborn as sns\n",
    "%matplotlib inline\n",
    "\n",
    "import warnings\n",
    "warnings.filterwarnings(\"ignore\")"
   ]
  },
  {
   "cell_type": "code",
   "execution_count": 9,
   "metadata": {
    "colab": {
     "autoexec": {
      "startup": false,
      "wait_interval": 0
     },
     "base_uri": "https://localhost:8080/",
     "height": 683,
     "output_extras": [
      {
       "item_id": 1
      }
     ]
    },
    "colab_type": "code",
    "executionInfo": {
     "elapsed": 4056,
     "status": "ok",
     "timestamp": 1521840392917,
     "user": {
      "displayName": "Houk Paek",
      "photoUrl": "https://lh3.googleusercontent.com/a/default-user=s128",
      "userId": "113855001944690852319"
     },
     "user_tz": 420
    },
    "id": "kJlOMxU3GoPV",
    "outputId": "0ac15ed5-5b4d-4f50-d16d-b6ab6b698ae3"
   },
   "outputs": [
    {
     "data": {
      "text/html": [
       "<div>\n",
       "<style scoped>\n",
       "    .dataframe tbody tr th:only-of-type {\n",
       "        vertical-align: middle;\n",
       "    }\n",
       "\n",
       "    .dataframe tbody tr th {\n",
       "        vertical-align: top;\n",
       "    }\n",
       "\n",
       "    .dataframe thead th {\n",
       "        text-align: right;\n",
       "    }\n",
       "</style>\n",
       "<table border=\"1\" class=\"dataframe\">\n",
       "  <thead>\n",
       "    <tr style=\"text-align: right;\">\n",
       "      <th></th>\n",
       "      <th>id</th>\n",
       "      <th>comment_text</th>\n",
       "      <th>toxic</th>\n",
       "      <th>severe_toxic</th>\n",
       "      <th>obscene</th>\n",
       "      <th>threat</th>\n",
       "      <th>insult</th>\n",
       "      <th>identity_hate</th>\n",
       "    </tr>\n",
       "  </thead>\n",
       "  <tbody>\n",
       "    <tr>\n",
       "      <th>0</th>\n",
       "      <td>0000997932d777bf</td>\n",
       "      <td>Explanation\\nWhy the edits made under my username Hardcore Metallica Fan were reverted? They weren't vandalisms, just closure on some GAs after I voted at New York Dolls FAC. And please don't remove the template from the talk page since I'm retired now.89.205.38.27</td>\n",
       "      <td>0</td>\n",
       "      <td>0</td>\n",
       "      <td>0</td>\n",
       "      <td>0</td>\n",
       "      <td>0</td>\n",
       "      <td>0</td>\n",
       "    </tr>\n",
       "    <tr>\n",
       "      <th>1</th>\n",
       "      <td>000103f0d9cfb60f</td>\n",
       "      <td>D'aww! He matches this background colour I'm seemingly stuck with. Thanks.  (talk) 21:51, January 11, 2016 (UTC)</td>\n",
       "      <td>0</td>\n",
       "      <td>0</td>\n",
       "      <td>0</td>\n",
       "      <td>0</td>\n",
       "      <td>0</td>\n",
       "      <td>0</td>\n",
       "    </tr>\n",
       "    <tr>\n",
       "      <th>2</th>\n",
       "      <td>000113f07ec002fd</td>\n",
       "      <td>Hey man, I'm really not trying to edit war. It's just that this guy is constantly removing relevant information and talking to me through edits instead of my talk page. He seems to care more about the formatting than the actual info.</td>\n",
       "      <td>0</td>\n",
       "      <td>0</td>\n",
       "      <td>0</td>\n",
       "      <td>0</td>\n",
       "      <td>0</td>\n",
       "      <td>0</td>\n",
       "    </tr>\n",
       "    <tr>\n",
       "      <th>3</th>\n",
       "      <td>0001b41b1c6bb37e</td>\n",
       "      <td>\"\\nMore\\nI can't make any real suggestions on improvement - I wondered if the section statistics should be later on, or a subsection of \"\"types of accidents\"\"  -I think the references may need tidying so that they are all in the exact same format ie date format etc. I can do that later on, if no-one else does first - if you have any preferences for formatting style on references or want to do it yourself please let me know.\\n\\nThere appears to be a backlog on articles for review so I guess there may be a delay until a reviewer turns up. It's listed in the relevant form eg Wikipedia:Good_article_nominations#Transport  \"</td>\n",
       "      <td>0</td>\n",
       "      <td>0</td>\n",
       "      <td>0</td>\n",
       "      <td>0</td>\n",
       "      <td>0</td>\n",
       "      <td>0</td>\n",
       "    </tr>\n",
       "    <tr>\n",
       "      <th>4</th>\n",
       "      <td>0001d958c54c6e35</td>\n",
       "      <td>You, sir, are my hero. Any chance you remember what page that's on?</td>\n",
       "      <td>0</td>\n",
       "      <td>0</td>\n",
       "      <td>0</td>\n",
       "      <td>0</td>\n",
       "      <td>0</td>\n",
       "      <td>0</td>\n",
       "    </tr>\n",
       "  </tbody>\n",
       "</table>\n",
       "</div>"
      ],
      "text/plain": [
       "                 id  \\\n",
       "0  0000997932d777bf   \n",
       "1  000103f0d9cfb60f   \n",
       "2  000113f07ec002fd   \n",
       "3  0001b41b1c6bb37e   \n",
       "4  0001d958c54c6e35   \n",
       "\n",
       "                                                                                                                                                                                                                                                                                                                                                                                                                                                                                                                                                                                                                                         comment_text  \\\n",
       "0  Explanation\\nWhy the edits made under my username Hardcore Metallica Fan were reverted? They weren't vandalisms, just closure on some GAs after I voted at New York Dolls FAC. And please don't remove the template from the talk page since I'm retired now.89.205.38.27                                                                                                                                                                                                                                                                                                                                                                            \n",
       "1  D'aww! He matches this background colour I'm seemingly stuck with. Thanks.  (talk) 21:51, January 11, 2016 (UTC)                                                                                                                                                                                                                                                                                                                                                                                                                                                                                                                                     \n",
       "2  Hey man, I'm really not trying to edit war. It's just that this guy is constantly removing relevant information and talking to me through edits instead of my talk page. He seems to care more about the formatting than the actual info.                                                                                                                                                                                                                                                                                                                                                                                                            \n",
       "3  \"\\nMore\\nI can't make any real suggestions on improvement - I wondered if the section statistics should be later on, or a subsection of \"\"types of accidents\"\"  -I think the references may need tidying so that they are all in the exact same format ie date format etc. I can do that later on, if no-one else does first - if you have any preferences for formatting style on references or want to do it yourself please let me know.\\n\\nThere appears to be a backlog on articles for review so I guess there may be a delay until a reviewer turns up. It's listed in the relevant form eg Wikipedia:Good_article_nominations#Transport  \"   \n",
       "4  You, sir, are my hero. Any chance you remember what page that's on?                                                                                                                                                                                                                                                                                                                                                                                                                                                                                                                                                                                  \n",
       "\n",
       "   toxic  severe_toxic  obscene  threat  insult  identity_hate  \n",
       "0  0      0             0        0       0       0              \n",
       "1  0      0             0        0       0       0              \n",
       "2  0      0             0        0       0       0              \n",
       "3  0      0             0        0       0       0              \n",
       "4  0      0             0        0       0       0              "
      ]
     },
     "execution_count": 9,
     "metadata": {
      "tags": []
     },
     "output_type": "execute_result"
    }
   ],
   "source": [
    "# Load Data\n",
    "filepath = 'drive/app/toxic/'\n",
    "df = pd.read_csv(filepath+'train.csv')\n",
    "pd.set_option('display.max_colwidth', -1)\n",
    "df.head()"
   ]
  },
  {
   "cell_type": "markdown",
   "metadata": {
    "colab_type": "text",
    "id": "fGeqYYrBGoQH"
   },
   "source": [
    "# Data Preprocessing"
   ]
  },
  {
   "cell_type": "markdown",
   "metadata": {
    "colab_type": "text",
    "id": "mf6i88Z6GoQH"
   },
   "source": [
    "#### Spilt Train Test sets"
   ]
  },
  {
   "cell_type": "code",
   "execution_count": 0,
   "metadata": {
    "colab": {
     "autoexec": {
      "startup": false,
      "wait_interval": 0
     }
    },
    "colab_type": "code",
    "collapsed": true,
    "id": "e78UJxdeGoQJ"
   },
   "outputs": [],
   "source": [
    "X = df['comment_text']\n",
    "y = df['toxic'].values\n",
    "\n",
    "seed = 101\n",
    "np.random.seed(seed)"
   ]
  },
  {
   "cell_type": "code",
   "execution_count": 41,
   "metadata": {
    "colab": {
     "autoexec": {
      "startup": false,
      "wait_interval": 0
     },
     "base_uri": "https://localhost:8080/",
     "height": 34,
     "output_extras": [
      {
       "item_id": 1
      }
     ]
    },
    "colab_type": "code",
    "executionInfo": {
     "elapsed": 326,
     "status": "ok",
     "timestamp": 1521841612594,
     "user": {
      "displayName": "Houk Paek",
      "photoUrl": "https://lh3.googleusercontent.com/a/default-user=s128",
      "userId": "113855001944690852319"
     },
     "user_tz": 420
    },
    "id": "_XlpRf4CGoQM",
    "outputId": "7cf6173a-7eae-433b-9964-78f350243df4"
   },
   "outputs": [
    {
     "name": "stdout",
     "output_type": "stream",
     "text": [
      "(127656,) (31915,) (127656,) (31915,)\n"
     ]
    }
   ],
   "source": [
    "from sklearn.model_selection import train_test_split\n",
    "X_train, X_test, y_train, y_test = train_test_split(X, y, \n",
    "                                                    test_size=0.2,\n",
    "                                                    stratify=y,\n",
    "                                                    random_state=seed)\n",
    "print(X_train.shape, X_test.shape, y_train.shape, y_test.shape)"
   ]
  },
  {
   "cell_type": "markdown",
   "metadata": {
    "colab_type": "text",
    "id": "WRfHA2vVGoQP"
   },
   "source": [
    "#### Tokenize text"
   ]
  },
  {
   "cell_type": "code",
   "execution_count": 42,
   "metadata": {
    "colab": {
     "autoexec": {
      "startup": false,
      "wait_interval": 0
     },
     "base_uri": "https://localhost:8080/",
     "height": 34,
     "output_extras": [
      {
       "item_id": 1
      }
     ]
    },
    "colab_type": "code",
    "executionInfo": {
     "elapsed": 17736,
     "status": "ok",
     "timestamp": 1521841633238,
     "user": {
      "displayName": "Houk Paek",
      "photoUrl": "https://lh3.googleusercontent.com/a/default-user=s128",
      "userId": "113855001944690852319"
     },
     "user_tz": 420
    },
    "id": "0X_om3iklYGS",
    "outputId": "02328dd4-84ca-4b48-c38d-8e17b58fb464"
   },
   "outputs": [
    {
     "name": "stdout",
     "output_type": "stream",
     "text": [
      "Found 183444 unique tokens.\n"
     ]
    }
   ],
   "source": [
    "from keras.preprocessing.text import Tokenizer\n",
    "from keras.preprocessing import sequence\n",
    "\n",
    "max_features = 20000\n",
    "tokenizer = Tokenizer(num_words=max_features)\n",
    "tokenizer.fit_on_texts(list(X_train))\n",
    "print('Found %s unique tokens.' % len(tokenizer.word_index))\n",
    "\n",
    "X_train = tokenizer.texts_to_sequences(X_train)\n",
    "X_test = tokenizer.texts_to_sequences(X_test)"
   ]
  },
  {
   "cell_type": "code",
   "execution_count": 43,
   "metadata": {
    "colab": {
     "autoexec": {
      "startup": false,
      "wait_interval": 0
     },
     "base_uri": "https://localhost:8080/",
     "height": 34,
     "output_extras": [
      {
       "item_id": 1
      }
     ]
    },
    "colab_type": "code",
    "executionInfo": {
     "elapsed": 289,
     "status": "ok",
     "timestamp": 1521841635852,
     "user": {
      "displayName": "Houk Paek",
      "photoUrl": "https://lh3.googleusercontent.com/a/default-user=s128",
      "userId": "113855001944690852319"
     },
     "user_tz": 420
    },
    "id": "x7KrMQSbGoQS",
    "outputId": "89282b63-a245-4485-8921-a6e1fc6674ea"
   },
   "outputs": [
    {
     "data": {
      "text/plain": [
       "127656"
      ]
     },
     "execution_count": 43,
     "metadata": {
      "tags": []
     },
     "output_type": "execute_result"
    }
   ],
   "source": [
    "len(X_train)\n",
    "#X_train[:10]\n",
    "#tokenizer.word_counts\n",
    "#tokenizer.word_index"
   ]
  },
  {
   "cell_type": "code",
   "execution_count": 44,
   "metadata": {
    "colab": {
     "autoexec": {
      "startup": false,
      "wait_interval": 0
     },
     "base_uri": "https://localhost:8080/",
     "height": 265,
     "output_extras": [
      {
       "item_id": 1
      }
     ]
    },
    "colab_type": "code",
    "executionInfo": {
     "elapsed": 638,
     "status": "ok",
     "timestamp": 1521841636681,
     "user": {
      "displayName": "Houk Paek",
      "photoUrl": "https://lh3.googleusercontent.com/a/default-user=s128",
      "userId": "113855001944690852319"
     },
     "user_tz": 420
    },
    "id": "ZTUZT1SlGoQW",
    "outputId": "ce195d79-dda4-4237-bbe4-5803bfb3d2a6"
   },
   "outputs": [
    {
     "data": {
      "image/png": "[encoded data removed]",
      "text/plain": [
       "<matplotlib.figure.Figure at 0x7f0fd6b24c18>"
      ]
     },
     "metadata": {
      "tags": []
     },
     "output_type": "display_data"
    }
   ],
   "source": [
    "totalNumWords = [len(one_comment) for one_comment in X_train]\n",
    "plt.hist(totalNumWords,bins = 50)\n",
    "plt.show()"
   ]
  },
  {
   "cell_type": "code",
   "execution_count": 45,
   "metadata": {
    "colab": {
     "autoexec": {
      "startup": false,
      "wait_interval": 0
     },
     "base_uri": "https://localhost:8080/",
     "height": 34,
     "output_extras": [
      {
       "item_id": 1
      }
     ]
    },
    "colab_type": "code",
    "executionInfo": {
     "elapsed": 2009,
     "status": "ok",
     "timestamp": 1521841640005,
     "user": {
      "displayName": "Houk Paek",
      "photoUrl": "https://lh3.googleusercontent.com/a/default-user=s128",
      "userId": "113855001944690852319"
     },
     "user_tz": 420
    },
    "id": "LPxrWv0uGoQY",
    "outputId": "d2a0cd72-d9d3-463e-8bd5-26ae8074987a"
   },
   "outputs": [
    {
     "name": "stdout",
     "output_type": "stream",
     "text": [
      "(127656, 200) (31915, 200)\n"
     ]
    }
   ],
   "source": [
    "maxlen = 200\n",
    "X_train = sequence.pad_sequences(X_train, maxlen=maxlen)\n",
    "X_test = sequence.pad_sequences(X_test, maxlen=maxlen)\n",
    "print(X_train.shape,X_test.shape)\n",
    "#X_train[np.argmax(totalNumWords)]"
   ]
  },
  {
   "cell_type": "markdown",
   "metadata": {
    "colab_type": "text",
    "id": "YVJMeOU8xhE5"
   },
   "source": [
    "# 1. Baseline Model: "
   ]
  },
  {
   "cell_type": "code",
   "execution_count": 0,
   "metadata": {
    "colab": {
     "autoexec": {
      "startup": false,
      "wait_interval": 0
     }
    },
    "colab_type": "code",
    "collapsed": true,
    "id": "4mFSlC4sxnC1"
   },
   "outputs": [],
   "source": [
    "import keras.backend as K\n",
    "from keras.models import Sequential\n",
    "from keras.layers import Dense,Embedding,Dropout,LSTM,Bidirectional,Conv1D,MaxPooling1D\n",
    "from sklearn.metrics import roc_auc_score,accuracy_score,confusion_matrix,classification_report\n",
    "from keras.callbacks import ModelCheckpoint,EarlyStopping\n",
    "\n",
    "batch_size = 128\n",
    "epochs = 25\n",
    "file_path = filepath+'weights_best_model.hdf5'"
   ]
  },
  {
   "cell_type": "code",
   "execution_count": 0,
   "metadata": {
    "colab": {
     "autoexec": {
      "startup": false,
      "wait_interval": 0
     }
    },
    "colab_type": "code",
    "collapsed": true,
    "id": "2NuDiHjlxdJ5"
   },
   "outputs": [],
   "source": [
    "def get_model(max_features, embed_dim):\n",
    "    np.random.seed(seed)\n",
    "    K.clear_session()\n",
    "    model = Sequential()\n",
    "    model.add(Embedding(max_features, embed_dim, input_length=X_train.shape[1]))\n",
    "    model.add(Dropout(0.2))\n",
    "    model.add(Conv1D(filters=32, kernel_size=3, padding='same', activation='relu'))\n",
    "    model.add(MaxPooling1D(pool_size=2))\n",
    "    model.add(Conv1D(filters=32, kernel_size=3, padding='same', activation='relu'))\n",
    "    model.add(MaxPooling1D(pool_size=2))\n",
    "    model.add(LSTM(50, dropout=0.2, recurrent_dropout=0.2))\n",
    "    model.add(Dense(50, activation='relu'))\n",
    "    model.add(Dropout(0.2))\n",
    "    model.add(Dense(1, activation='sigmoid'))\n",
    "    model.compile(loss='binary_crossentropy', optimizer='adam', metrics=['accuracy'])\n",
    "    print(model.summary())\n",
    "    return model"
   ]
  },
  {
   "cell_type": "code",
   "execution_count": 0,
   "metadata": {
    "colab": {
     "autoexec": {
      "startup": false,
      "wait_interval": 0
     }
    },
    "colab_type": "code",
    "collapsed": true,
    "id": "P56kIR_sxdRg"
   },
   "outputs": [],
   "source": [
    "def model_train(model):\n",
    "    # callbacks\n",
    "    early_stop = EarlyStopping(monitor='val_acc', patience=5, verbose=0, mode='max') \n",
    "    checkpoint = ModelCheckpoint(file_path, monitor='val_acc', verbose=1, save_best_only=True, mode='max')\n",
    "    callbacks_list = [checkpoint, early_stop]\n",
    "    # train the model\n",
    "    model_history = model.fit(X_train, y_train, validation_data=(X_test, y_test), \n",
    "                          epochs=epochs, batch_size=batch_size,\n",
    "                          verbose=2, callbacks=callbacks_list)\n",
    "    # plot train history\n",
    "    plot_model_history(model_history)"
   ]
  },
  {
   "cell_type": "code",
   "execution_count": 0,
   "metadata": {
    "colab": {
     "autoexec": {
      "startup": false,
      "wait_interval": 0
     }
    },
    "colab_type": "code",
    "collapsed": true,
    "id": "y1gQOUdPyISm"
   },
   "outputs": [],
   "source": [
    "def plot_model_history(model_history):\n",
    "    fig, axs = plt.subplots(1,2,figsize=(15,5))\n",
    "    # summarize history for accuracy\n",
    "    axs[0].plot(range(1,len(model_history.history['acc'])+1),model_history.history['acc'])\n",
    "    axs[0].plot(range(1,len(model_history.history['val_acc'])+1),model_history.history['val_acc'])\n",
    "    axs[0].set_title('Model Accuracy')\n",
    "    axs[0].set_ylabel('Accuracy')\n",
    "    axs[0].set_xlabel('Epoch')\n",
    "    axs[0].set_xticks(np.arange(1,len(model_history.history['acc'])+1),len(model_history.history['acc'])/10)\n",
    "    axs[0].legend(['train', 'val'], loc='best')\n",
    "    # summarize history for loss\n",
    "    axs[1].plot(range(1,len(model_history.history['loss'])+1),model_history.history['loss'])\n",
    "    axs[1].plot(range(1,len(model_history.history['val_loss'])+1),model_history.history['val_loss'])\n",
    "    axs[1].set_title('Model Loss')\n",
    "    axs[1].set_ylabel('Loss')\n",
    "    axs[1].set_xlabel('Epoch')\n",
    "    axs[1].set_xticks(np.arange(1,len(model_history.history['loss'])+1),len(model_history.history['loss'])/10)\n",
    "    axs[1].legend(['train', 'val'], loc='best')\n",
    "    plt.show()"
   ]
  },
  {
   "cell_type": "code",
   "execution_count": 0,
   "metadata": {
    "colab": {
     "autoexec": {
      "startup": false,
      "wait_interval": 0
     }
    },
    "colab_type": "code",
    "collapsed": true,
    "id": "jiUsbLbGyIgO"
   },
   "outputs": [],
   "source": [
    "def model_evaluate():\n",
    "    # predict class with test set\n",
    "    y_pred_test =  model.predict_classes(X_test, batch_size=batch_size, verbose=0)\n",
    "    print('Accuracy:\\t{:0.1f}%'.format(accuracy_score(y_test,y_pred_test)*100))\n",
    "    print('roc auc:\\t{:0.3f}'.format(roc_auc_score(y_test,y_pred_test)))\n",
    "\n",
    "    #classification report\n",
    "    print('\\n')\n",
    "    print(classification_report(y_test, y_pred_test))\n",
    "\n",
    "    #confusion matrix\n",
    "    confmat = confusion_matrix(y_test, y_pred_test)\n",
    "\n",
    "    fig, ax = plt.subplots(figsize=(2.5, 2.5))\n",
    "    ax.matshow(confmat, cmap=plt.cm.Blues, alpha=0.3)\n",
    "    for i in range(confmat.shape[0]):\n",
    "        for j in range(confmat.shape[1]):\n",
    "            ax.text(x=j, y=i, s=confmat[i, j], va='center', ha='center')\n",
    "    plt.xlabel('Predicted label')\n",
    "    plt.ylabel('True label')\n",
    "    plt.tight_layout()"
   ]
  },
  {
   "cell_type": "code",
   "execution_count": 51,
   "metadata": {
    "colab": {
     "autoexec": {
      "startup": false,
      "wait_interval": 0
     },
     "base_uri": "https://localhost:8080/",
     "height": 1270,
     "output_extras": [
      {
       "item_id": 10
      },
      {
       "item_id": 11
      }
     ]
    },
    "colab_type": "code",
    "executionInfo": {
     "elapsed": 687845,
     "status": "ok",
     "timestamp": 1521842352061,
     "user": {
      "displayName": "Houk Paek",
      "photoUrl": "https://lh3.googleusercontent.com/a/default-user=s128",
      "userId": "113855001944690852319"
     },
     "user_tz": 420
    },
    "id": "0nucaRuLyORV",
    "outputId": "fef4c5b3-c2d8-4803-dd5a-b2d48aeed77c"
   },
   "outputs": [
    {
     "name": "stdout",
     "output_type": "stream",
     "text": [
      "_________________________________________________________________\n",
      "Layer (type)                 Output Shape              Param #   \n",
      "=================================================================\n",
      "embedding_1 (Embedding)      (None, 200, 100)          2000000   \n",
      "_________________________________________________________________\n",
      "dropout_1 (Dropout)          (None, 200, 100)          0         \n",
      "_________________________________________________________________\n",
      "conv1d_1 (Conv1D)            (None, 200, 32)           9632      \n",
      "_________________________________________________________________\n",
      "max_pooling1d_1 (MaxPooling1 (None, 100, 32)           0         \n",
      "_________________________________________________________________\n",
      "conv1d_2 (Conv1D)            (None, 100, 32)           3104      \n",
      "_________________________________________________________________\n",
      "max_pooling1d_2 (MaxPooling1 (None, 50, 32)            0         \n",
      "_________________________________________________________________\n",
      "lstm_1 (LSTM)                (None, 50)                16600     \n",
      "_________________________________________________________________\n",
      "dense_1 (Dense)              (None, 50)                2550      \n",
      "_________________________________________________________________\n",
      "dropout_2 (Dropout)          (None, 50)                0         \n",
      "_________________________________________________________________\n",
      "dense_2 (Dense)              (None, 1)                 51        \n",
      "=================================================================\n",
      "Total params: 2,031,937\n",
      "Trainable params: 2,031,937\n",
      "Non-trainable params: 0\n",
      "_________________________________________________________________\n",
      "None\n",
      "Train on 127656 samples, validate on 31915 samples\n",
      "Epoch 1/25\n",
      " - 117s - loss: 0.1578 - acc: 0.9464 - val_loss: 0.0982 - val_acc: 0.9645\n",
      "\n",
      "Epoch 00001: val_acc improved from -inf to 0.96450, saving model to drive/app/toxic/weights_best_model.hdf5\n",
      "Epoch 2/25\n",
      " - 112s - loss: 0.0901 - acc: 0.9668 - val_loss: 0.0993 - val_acc: 0.9645\n",
      "\n",
      "Epoch 00002: val_acc did not improve\n",
      "Epoch 3/25\n",
      " - 112s - loss: 0.0706 - acc: 0.9733 - val_loss: 0.1113 - val_acc: 0.9642\n",
      "\n",
      "Epoch 00003: val_acc did not improve\n",
      "Epoch 4/25\n",
      " - 115s - loss: 0.0523 - acc: 0.9800 - val_loss: 0.1462 - val_acc: 0.9626\n",
      "\n",
      "Epoch 00004: val_acc did not improve\n",
      "Epoch 5/25\n",
      " - 112s - loss: 0.0378 - acc: 0.9863 - val_loss: 0.1404 - val_acc: 0.9559\n",
      "\n",
      "Epoch 00005: val_acc did not improve\n",
      "Epoch 6/25\n",
      " - 113s - loss: 0.0286 - acc: 0.9896 - val_loss: 0.1820 - val_acc: 0.9594\n",
      "\n",
      "Epoch 00006: val_acc did not improve\n"
     ]
    },
    {
     "data": {
      "image/png": "[encoded data removed]",
      "text/plain": [
       "<matplotlib.figure.Figure at 0x7f0fdf7fff60>"
      ]
     },
     "metadata": {
      "tags": []
     },
     "output_type": "display_data"
    }
   ],
   "source": [
    "# train the model\n",
    "max_features = 20000\n",
    "embed_dim = 100\n",
    "model = get_model(max_features, embed_dim)\n",
    "model_train(model)"
   ]
  },
  {
   "cell_type": "code",
   "execution_count": 60,
   "metadata": {
    "colab": {
     "autoexec": {
      "startup": false,
      "wait_interval": 0
     },
     "base_uri": "https://localhost:8080/",
     "height": 376,
     "output_extras": [
      {
       "item_id": 1
      },
      {
       "item_id": 2
      }
     ]
    },
    "colab_type": "code",
    "executionInfo": {
     "elapsed": 6007,
     "status": "ok",
     "timestamp": 1521843588494,
     "user": {
      "displayName": "Houk Paek",
      "photoUrl": "https://lh3.googleusercontent.com/a/default-user=s128",
      "userId": "113855001944690852319"
     },
     "user_tz": 420
    },
    "id": "e_87YU8xyOcH",
    "outputId": "38185290-2d8c-47ec-de7a-6f979204b95b"
   },
   "outputs": [
    {
     "name": "stdout",
     "output_type": "stream",
     "text": [
      "Accuracy:\t96.4%\n",
      "roc auc:\t0.854\n",
      "\n",
      "\n",
      "             precision    recall  f1-score   support\n",
      "\n",
      "          0       0.97      0.99      0.98     28856\n",
      "          1       0.89      0.72      0.79      3059\n",
      "\n",
      "avg / total       0.96      0.96      0.96     31915\n",
      "\n"
     ]
    },
    {
     "data": {
      "image/png": "[encoded data removed]",
      "text/plain": [
       "<matplotlib.figure.Figure at 0x7f0fd838fef0>"
      ]
     },
     "metadata": {
      "tags": []
     },
     "output_type": "display_data"
    }
   ],
   "source": [
    "# evaluate model with test set\n",
    "model_evaluate()"
   ]
  },
  {
   "cell_type": "markdown",
   "metadata": {
    "colab_type": "text",
    "id": "344u5h2DGFDa"
   },
   "source": [
    "# 2. GloVe.6B.50d"
   ]
  },
  {
   "cell_type": "code",
   "execution_count": 0,
   "metadata": {
    "colab": {
     "autoexec": {
      "startup": false,
      "wait_interval": 0
     }
    },
    "colab_type": "code",
    "collapsed": true,
    "id": "0k2qk85yxdjT"
   },
   "outputs": [],
   "source": [
    "def get_coefs(word, *arr):\n",
    "    return word, np.asarray(arr, dtype='float32')\n",
    "    \n",
    "def get_embed_mat(EMBEDDING_FILE, max_features=20000):\n",
    "    # word vectors\n",
    "    embeddings_index = dict(get_coefs(*o.rstrip().rsplit(' ')) for o in open(EMBEDDING_FILE, encoding='utf8'))\n",
    "    print('Found %s word vectors.' % len(embeddings_index))\n",
    "\n",
    "    # embedding matrix\n",
    "    word_index = tokenizer.word_index\n",
    "    num_words = min(max_features, len(word_index) + 1)\n",
    "    all_embs = np.stack(embeddings_index.values()) #for random init\n",
    "    embedding_matrix = np.random.normal(all_embs.mean(), all_embs.std(), \n",
    "                                        (num_words, embed_dim))\n",
    "    for word, i in word_index.items():\n",
    "        if i >= max_features:\n",
    "            continue\n",
    "        embedding_vector = embeddings_index.get(word)\n",
    "        if embedding_vector is not None:\n",
    "            embedding_matrix[i] = embedding_vector\n",
    "    max_features = embedding_matrix.shape[0]\n",
    "    \n",
    "    return max_features, embedding_matrix"
   ]
  },
  {
   "cell_type": "code",
   "execution_count": 0,
   "metadata": {
    "colab": {
     "autoexec": {
      "startup": false,
      "wait_interval": 0
     }
    },
    "colab_type": "code",
    "collapsed": true,
    "id": "--7lsKbjzOCV"
   },
   "outputs": [],
   "source": [
    "def get_model(max_features, embed_dim, embedding_matrix):\n",
    "    np.random.seed(seed)\n",
    "    K.clear_session()\n",
    "    model = Sequential()\n",
    "    model.add(Embedding(max_features, embed_dim, input_length=X_train.shape[1],\n",
    "                       weights=[embedding_matrix]))#,trainable=Fa\n",
    "    model.add(Dropout(0.2))\n",
    "    model.add(Conv1D(filters=32, kernel_size=3, padding='same', activation='relu'))\n",
    "    model.add(MaxPooling1D(pool_size=2))\n",
    "    model.add(Conv1D(filters=32, kernel_size=3, padding='same', activation='relu'))\n",
    "    model.add(MaxPooling1D(pool_size=2))\n",
    "    model.add(LSTM(50, dropout=0.2, recurrent_dropout=0.2))\n",
    "    model.add(Dense(50, activation='relu'))\n",
    "    model.add(Dropout(0.2))\n",
    "    model.add(Dense(1, activation='sigmoid'))\n",
    "    model.compile(loss='binary_crossentropy', optimizer='adam', metrics=['accuracy'])\n",
    "    print(model.summary())\n",
    "    return model"
   ]
  },
  {
   "cell_type": "code",
   "execution_count": 65,
   "metadata": {
    "colab": {
     "autoexec": {
      "startup": false,
      "wait_interval": 0
     },
     "base_uri": "https://localhost:8080/",
     "height": 1491,
     "output_extras": [
      {
       "item_id": 21
      },
      {
       "item_id": 22
      }
     ]
    },
    "colab_type": "code",
    "executionInfo": {
     "elapsed": 1025182,
     "status": "ok",
     "timestamp": 1521845983577,
     "user": {
      "displayName": "Houk Paek",
      "photoUrl": "https://lh3.googleusercontent.com/a/default-user=s128",
      "userId": "113855001944690852319"
     },
     "user_tz": 420
    },
    "id": "aBqf6EBgBtfB",
    "outputId": "c19f2972-ed3a-41b0-9f7e-969183060cac"
   },
   "outputs": [
    {
     "name": "stdout",
     "output_type": "stream",
     "text": [
      "Found 400000 word vectors.\n",
      "_________________________________________________________________\n",
      "Layer (type)                 Output Shape              Param #   \n",
      "=================================================================\n",
      "embedding_1 (Embedding)      (None, 200, 50)           1000000   \n",
      "_________________________________________________________________\n",
      "dropout_1 (Dropout)          (None, 200, 50)           0         \n",
      "_________________________________________________________________\n",
      "conv1d_1 (Conv1D)            (None, 200, 32)           4832      \n",
      "_________________________________________________________________\n",
      "max_pooling1d_1 (MaxPooling1 (None, 100, 32)           0         \n",
      "_________________________________________________________________\n",
      "conv1d_2 (Conv1D)            (None, 100, 32)           3104      \n",
      "_________________________________________________________________\n",
      "max_pooling1d_2 (MaxPooling1 (None, 50, 32)            0         \n",
      "_________________________________________________________________\n",
      "lstm_1 (LSTM)                (None, 50)                16600     \n",
      "_________________________________________________________________\n",
      "dense_1 (Dense)              (None, 50)                2550      \n",
      "_________________________________________________________________\n",
      "dropout_2 (Dropout)          (None, 50)                0         \n",
      "_________________________________________________________________\n",
      "dense_2 (Dense)              (None, 1)                 51        \n",
      "=================================================================\n",
      "Total params: 1,027,137\n",
      "Trainable params: 1,027,137\n",
      "Non-trainable params: 0\n",
      "_________________________________________________________________\n",
      "None\n",
      "Train on 127656 samples, validate on 31915 samples\n",
      "Epoch 1/25\n",
      " - 112s - loss: 0.1657 - acc: 0.9413 - val_loss: 0.1015 - val_acc: 0.9621\n",
      "\n",
      "Epoch 00001: val_acc improved from -inf to 0.96206, saving model to drive/app/toxic/weights_best_model.hdf5\n",
      "Epoch 2/25\n",
      " - 112s - loss: 0.1063 - acc: 0.9612 - val_loss: 0.0954 - val_acc: 0.9657\n",
      "\n",
      "Epoch 00002: val_acc improved from 0.96206 to 0.96569, saving model to drive/app/toxic/weights_best_model.hdf5\n",
      "Epoch 3/25\n",
      " - 112s - loss: 0.0947 - acc: 0.9646 - val_loss: 0.0919 - val_acc: 0.9656\n",
      "\n",
      "Epoch 00003: val_acc did not improve\n",
      "Epoch 4/25\n",
      " - 110s - loss: 0.0859 - acc: 0.9675 - val_loss: 0.0935 - val_acc: 0.9665\n",
      "\n",
      "Epoch 00004: val_acc improved from 0.96569 to 0.96650, saving model to drive/app/toxic/weights_best_model.hdf5\n",
      "Epoch 5/25\n",
      " - 112s - loss: 0.0794 - acc: 0.9692 - val_loss: 0.0980 - val_acc: 0.9660\n",
      "\n",
      "Epoch 00005: val_acc did not improve\n",
      "Epoch 6/25\n",
      " - 112s - loss: 0.0738 - acc: 0.9709 - val_loss: 0.0983 - val_acc: 0.9651\n",
      "\n",
      "Epoch 00006: val_acc did not improve\n",
      "Epoch 7/25\n",
      " - 110s - loss: 0.0687 - acc: 0.9731 - val_loss: 0.1003 - val_acc: 0.9645\n",
      "\n",
      "Epoch 00007: val_acc did not improve\n",
      "Epoch 8/25\n",
      " - 110s - loss: 0.0639 - acc: 0.9755 - val_loss: 0.1028 - val_acc: 0.9643\n",
      "\n",
      "Epoch 00008: val_acc did not improve\n",
      "Epoch 9/25\n",
      " - 112s - loss: 0.0593 - acc: 0.9766 - val_loss: 0.1106 - val_acc: 0.9626\n",
      "\n",
      "Epoch 00009: val_acc did not improve\n"
     ]
    },
    {
     "data": {
      "image/png": "[encoded data removed]",
      "text/plain": [
       "<matplotlib.figure.Figure at 0x7f0fe0e4ab00>"
      ]
     },
     "metadata": {
      "tags": []
     },
     "output_type": "display_data"
    }
   ],
   "source": [
    "# embedding matrix\n",
    "EMBEDDING_FILE = filepath+'glove.6B/glove.6B.50d.txt'\n",
    "embed_dim = 50 #word vector dim\n",
    "max_features, embedding_matrix = get_embed_mat(EMBEDDING_FILE)\n",
    "\n",
    "# train the model\n",
    "model = get_model(max_features, embed_dim, embedding_matrix)\n",
    "model_train(model)"
   ]
  },
  {
   "cell_type": "code",
   "execution_count": 66,
   "metadata": {
    "colab": {
     "autoexec": {
      "startup": false,
      "wait_interval": 0
     },
     "base_uri": "https://localhost:8080/",
     "height": 376,
     "output_extras": [
      {
       "item_id": 1
      },
      {
       "item_id": 2
      }
     ]
    },
    "colab_type": "code",
    "executionInfo": {
     "elapsed": 6059,
     "status": "ok",
     "timestamp": 1521846058564,
     "user": {
      "displayName": "Houk Paek",
      "photoUrl": "https://lh3.googleusercontent.com/a/default-user=s128",
      "userId": "113855001944690852319"
     },
     "user_tz": 420
    },
    "id": "C2wC-0ujBtqy",
    "outputId": "4411c850-9c23-4338-8de4-d5fbd1451890"
   },
   "outputs": [
    {
     "name": "stdout",
     "output_type": "stream",
     "text": [
      "Accuracy:\t96.3%\n",
      "roc auc:\t0.888\n",
      "\n",
      "\n",
      "             precision    recall  f1-score   support\n",
      "\n",
      "          0       0.98      0.98      0.98     28856\n",
      "          1       0.81      0.80      0.80      3059\n",
      "\n",
      "avg / total       0.96      0.96      0.96     31915\n",
      "\n"
     ]
    },
    {
     "data": {
      "image/png": "[encoded data removed]",
      "text/plain": [
       "<matplotlib.figure.Figure at 0x7f0fe0001b38>"
      ]
     },
     "metadata": {
      "tags": []
     },
     "output_type": "display_data"
    }
   ],
   "source": [
    "# evaluate model with test set\n",
    "model_evaluate()"
   ]
  },
  {
   "cell_type": "markdown",
   "metadata": {
    "colab_type": "text",
    "id": "3lE-qMXTzHzO"
   },
   "source": [
    "# 3. GloVe.6B.100d"
   ]
  },
  {
   "cell_type": "code",
   "execution_count": 63,
   "metadata": {
    "colab": {
     "autoexec": {
      "startup": false,
      "wait_interval": 0
     },
     "base_uri": "https://localhost:8080/",
     "height": 1355,
     "output_extras": [
      {
       "item_id": 15
      },
      {
       "item_id": 16
      }
     ]
    },
    "colab_type": "code",
    "executionInfo": {
     "elapsed": 815322,
     "status": "ok",
     "timestamp": 1521844538679,
     "user": {
      "displayName": "Houk Paek",
      "photoUrl": "https://lh3.googleusercontent.com/a/default-user=s128",
      "userId": "113855001944690852319"
     },
     "user_tz": 420
    },
    "id": "o9jtsaHgzOMK",
    "outputId": "d38737a3-89de-49f9-fc87-802b91220ee9"
   },
   "outputs": [
    {
     "name": "stdout",
     "output_type": "stream",
     "text": [
      "Found 400000 word vectors.\n",
      "_________________________________________________________________\n",
      "Layer (type)                 Output Shape              Param #   \n",
      "=================================================================\n",
      "embedding_1 (Embedding)      (None, 200, 100)          2000000   \n",
      "_________________________________________________________________\n",
      "dropout_1 (Dropout)          (None, 200, 100)          0         \n",
      "_________________________________________________________________\n",
      "conv1d_1 (Conv1D)            (None, 200, 32)           9632      \n",
      "_________________________________________________________________\n",
      "max_pooling1d_1 (MaxPooling1 (None, 100, 32)           0         \n",
      "_________________________________________________________________\n",
      "conv1d_2 (Conv1D)            (None, 100, 32)           3104      \n",
      "_________________________________________________________________\n",
      "max_pooling1d_2 (MaxPooling1 (None, 50, 32)            0         \n",
      "_________________________________________________________________\n",
      "lstm_1 (LSTM)                (None, 50)                16600     \n",
      "_________________________________________________________________\n",
      "dense_1 (Dense)              (None, 50)                2550      \n",
      "_________________________________________________________________\n",
      "dropout_2 (Dropout)          (None, 50)                0         \n",
      "_________________________________________________________________\n",
      "dense_2 (Dense)              (None, 1)                 51        \n",
      "=================================================================\n",
      "Total params: 2,031,937\n",
      "Trainable params: 2,031,937\n",
      "Non-trainable params: 0\n",
      "_________________________________________________________________\n",
      "None\n",
      "Train on 127656 samples, validate on 31915 samples\n",
      "Epoch 1/25\n",
      " - 115s - loss: 0.1540 - acc: 0.9453 - val_loss: 0.0988 - val_acc: 0.9616\n",
      "\n",
      "Epoch 00001: val_acc improved from -inf to 0.96155, saving model to drive/app/toxic/weights_best_model.hdf5\n",
      "Epoch 2/25\n",
      " - 112s - loss: 0.0983 - acc: 0.9636 - val_loss: 0.0924 - val_acc: 0.9666\n",
      "\n",
      "Epoch 00002: val_acc improved from 0.96155 to 0.96657, saving model to drive/app/toxic/weights_best_model.hdf5\n",
      "Epoch 3/25\n",
      " - 112s - loss: 0.0866 - acc: 0.9674 - val_loss: 0.0924 - val_acc: 0.9663\n",
      "\n",
      "Epoch 00003: val_acc did not improve\n",
      "Epoch 4/25\n",
      " - 113s - loss: 0.0774 - acc: 0.9700 - val_loss: 0.0975 - val_acc: 0.9656\n",
      "\n",
      "Epoch 00004: val_acc did not improve\n",
      "Epoch 5/25\n",
      " - 111s - loss: 0.0692 - acc: 0.9728 - val_loss: 0.1019 - val_acc: 0.9630\n",
      "\n",
      "Epoch 00005: val_acc did not improve\n",
      "Epoch 6/25\n",
      " - 111s - loss: 0.0617 - acc: 0.9756 - val_loss: 0.1059 - val_acc: 0.9642\n",
      "\n",
      "Epoch 00006: val_acc did not improve\n",
      "Epoch 7/25\n",
      " - 112s - loss: 0.0557 - acc: 0.9784 - val_loss: 0.1127 - val_acc: 0.9604\n",
      "\n",
      "Epoch 00007: val_acc did not improve\n"
     ]
    },
    {
     "data": {
      "image/png": "[encoded data removed]",
      "text/plain": [
       "<matplotlib.figure.Figure at 0x7f1020a46cc0>"
      ]
     },
     "metadata": {
      "tags": []
     },
     "output_type": "display_data"
    }
   ],
   "source": [
    "# embedding matrix\n",
    "EMBEDDING_FILE = filepath+'glove.6B/glove.6B.100d.txt'\n",
    "embed_dim = 100 #word vector dim\n",
    "max_features, embedding_matrix = get_embed_mat(EMBEDDING_FILE)\n",
    "\n",
    "# train the model\n",
    "model = get_model(max_features, embed_dim, embedding_matrix)\n",
    "model_train(model)"
   ]
  },
  {
   "cell_type": "code",
   "execution_count": 64,
   "metadata": {
    "colab": {
     "autoexec": {
      "startup": false,
      "wait_interval": 0
     },
     "base_uri": "https://localhost:8080/",
     "height": 376,
     "output_extras": [
      {
       "item_id": 1
      },
      {
       "item_id": 2
      }
     ]
    },
    "colab_type": "code",
    "executionInfo": {
     "elapsed": 6174,
     "status": "ok",
     "timestamp": 1521844544869,
     "user": {
      "displayName": "Houk Paek",
      "photoUrl": "https://lh3.googleusercontent.com/a/default-user=s128",
      "userId": "113855001944690852319"
     },
     "user_tz": 420
    },
    "id": "baoLv04nzOU6",
    "outputId": "47ba1858-c989-4be8-f697-9b37f8db012a"
   },
   "outputs": [
    {
     "name": "stdout",
     "output_type": "stream",
     "text": [
      "Accuracy:\t96.0%\n",
      "roc auc:\t0.895\n",
      "\n",
      "\n",
      "             precision    recall  f1-score   support\n",
      "\n",
      "          0       0.98      0.98      0.98     28856\n",
      "          1       0.78      0.81      0.80      3059\n",
      "\n",
      "avg / total       0.96      0.96      0.96     31915\n",
      "\n"
     ]
    },
    {
     "data": {
      "image/png": "[encoded data removed]",
      "text/plain": [
       "<matplotlib.figure.Figure at 0x7f0fd579d940>"
      ]
     },
     "metadata": {
      "tags": []
     },
     "output_type": "display_data"
    }
   ],
   "source": [
    "# evaluate model with test set\n",
    "model_evaluate()"
   ]
  }
 ],
 "metadata": {
  "accelerator": "GPU",
  "colab": {
   "default_view": {},
   "name": "Copy of NLP_BinClass_keras_kaggle_toxic_comments_colab_GloVe_auc895_GloVe.ipynb",
   "provenance": [],
   "version": "0.3.2",
   "views": {}
  },
  "kernelspec": {
   "display_name": "Python 3",
   "language": "python",
   "name": "python3"
  },
  "language_info": {
   "codemirror_mode": {
    "name": "ipython",
    "version": 3
   },
   "file_extension": ".py",
   "mimetype": "text/x-python",
   "name": "python",
   "nbconvert_exporter": "python",
   "pygments_lexer": "ipython3",
   "version": "3.6.3"
  }
 },
 "nbformat": 4,
 "nbformat_minor": 1
}
