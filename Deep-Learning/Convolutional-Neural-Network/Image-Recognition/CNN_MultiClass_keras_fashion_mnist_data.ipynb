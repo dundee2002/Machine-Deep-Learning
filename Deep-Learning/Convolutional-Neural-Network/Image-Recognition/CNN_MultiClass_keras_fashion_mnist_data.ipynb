{
 "cells": [
  {
   "cell_type": "markdown",
   "metadata": {},
   "source": [
    "## Multiclass Classification: Fashion-MNIST database of fashion articles\n",
    "https://keras.io/datasets/\n",
    "\n",
    "** Dataset Information: **\n",
    "\n",
    "Dataset of 60,000 28x28 grayscale images of 10 fashion categories, along with a test set of 10,000 images\n",
    "\n",
    "** Attribute Information: (784 features and 1 class) **\n",
    "\n",
    "- 28x28 grayscale images\n",
    "- 10 fashion categories (\n",
    "0\tT-shirt/top\n",
    "1\tTrouser\n",
    "2\tPullover\n",
    "3\tDress\n",
    "4\tCoat\n",
    "5\tSandal\n",
    "6\tShirt\n",
    "7\tSneaker\n",
    "8\tBag\n",
    "9\tAnkle boot\n",
    ")\n",
    "\n",
    "** Objective of this project **\n",
    "\n",
    "predict the fashion categories from images"
   ]
  },
  {
   "cell_type": "markdown",
   "metadata": {},
   "source": [
    "## Data"
   ]
  },
  {
   "cell_type": "code",
   "execution_count": 1,
   "metadata": {},
   "outputs": [
    {
     "name": "stderr",
     "output_type": "stream",
     "text": [
      "Using TensorFlow backend.\n"
     ]
    }
   ],
   "source": [
    "# Load libraries\n",
    "import numpy as np\n",
    "import matplotlib.pyplot as plt\n",
    "from keras.datasets import fashion_mnist\n",
    "%matplotlib inline  "
   ]
  },
  {
   "cell_type": "code",
   "execution_count": 3,
   "metadata": {},
   "outputs": [
    {
     "name": "stdout",
     "output_type": "stream",
     "text": [
      "(60000, 28, 28) (60000,) (10000, 28, 28) (10000,)\n"
     ]
    }
   ],
   "source": [
    "# Load Data\n",
    "(X_train, y_train), (X_test, y_test) = fashion_mnist.load_data()\n",
    "print(X_train.shape, y_train.shape, X_test.shape, y_test.shape)"
   ]
  },
  {
   "cell_type": "code",
   "execution_count": 5,
   "metadata": {},
   "outputs": [
    {
     "data": {
      "image/png": "[encoded data removed]",
      "text/plain": [
       "<matplotlib.figure.Figure at 0x2113258fe48>"
      ]
     },
     "metadata": {},
     "output_type": "display_data"
    }
   ],
   "source": [
    "# plot tje first 9 images\n",
    "plt.figure(figsize=(12,6))\n",
    "for i in range(0, 9):\n",
    "    plt.subplot(190 + (i+1))\n",
    "    plt.imshow(X_train[i], cmap=plt.get_cmap('gray'))\n",
    "    plt.title(y_train[i]);"
   ]
  },
  {
   "cell_type": "code",
   "execution_count": 6,
   "metadata": {},
   "outputs": [
    {
     "data": {
      "text/plain": [
       "(array([0, 1, 2, 3, 4, 5, 6, 7, 8, 9], dtype=uint8),\n",
       " array([6000, 6000, 6000, 6000, 6000, 6000, 6000, 6000, 6000, 6000], dtype=int64))"
      ]
     },
     "execution_count": 6,
     "metadata": {},
     "output_type": "execute_result"
    }
   ],
   "source": [
    "# 10 digits\n",
    "np.unique(y_train,return_counts=True)"
   ]
  },
  {
   "cell_type": "markdown",
   "metadata": {},
   "source": [
    "## Baseline MLP model"
   ]
  },
  {
   "cell_type": "code",
   "execution_count": 7,
   "metadata": {},
   "outputs": [
    {
     "name": "stdout",
     "output_type": "stream",
     "text": [
      "(60000, 784) (60000, 10) (10000, 784) (10000, 10)\n"
     ]
    }
   ],
   "source": [
    "# Data preprocessing\n",
    "from keras.utils.np_utils import to_categorical\n",
    "seed = 101 #random seed for reproducibility\n",
    "np.random.seed(seed)\n",
    "\n",
    "# flatten 28*28 images to a 784 vector\n",
    "num_pixels = X_train.shape[1] * X_train.shape[2]\n",
    "X_train = X_train.reshape(X_train.shape[0], num_pixels).astype('float32')\n",
    "X_test = X_test.reshape(X_test.shape[0], num_pixels).astype('float32')\n",
    "\n",
    "# normalize inputs from 0-255 to 0-1\n",
    "X_train = X_train / 255\n",
    "X_test = X_test / 255\n",
    "\n",
    "# one hot encode outputs\n",
    "y_train = to_categorical(y_train)\n",
    "y_test = to_categorical(y_test)\n",
    "num_classes = y_test.shape[1]\n",
    "\n",
    "print(X_train.shape, y_train.shape, X_test.shape, y_test.shape)"
   ]
  },
  {
   "cell_type": "code",
   "execution_count": 8,
   "metadata": {},
   "outputs": [
    {
     "name": "stdout",
     "output_type": "stream",
     "text": [
      "_________________________________________________________________\n",
      "Layer (type)                 Output Shape              Param #   \n",
      "=================================================================\n",
      "dense_1 (Dense)              (None, 784)               615440    \n",
      "_________________________________________________________________\n",
      "dense_2 (Dense)              (None, 10)                7850      \n",
      "=================================================================\n",
      "Total params: 623,290\n",
      "Trainable params: 623,290\n",
      "Non-trainable params: 0\n",
      "_________________________________________________________________\n",
      "None\n",
      "Train on 60000 samples, validate on 10000 samples\n",
      "Epoch 1/10\n",
      " - 10s - loss: 0.5105 - acc: 0.8212 - val_loss: 0.4386 - val_acc: 0.8450\n",
      "Epoch 2/10\n",
      " - 10s - loss: 0.3764 - acc: 0.8666 - val_loss: 0.3875 - val_acc: 0.8630\n",
      "Epoch 3/10\n",
      " - 10s - loss: 0.3399 - acc: 0.8763 - val_loss: 0.3660 - val_acc: 0.8663\n",
      "Epoch 4/10\n",
      " - 10s - loss: 0.3106 - acc: 0.8870 - val_loss: 0.3495 - val_acc: 0.8755\n",
      "Epoch 5/10\n",
      " - 10s - loss: 0.2884 - acc: 0.8940 - val_loss: 0.3404 - val_acc: 0.8789\n",
      "Epoch 6/10\n",
      " - 10s - loss: 0.2725 - acc: 0.9003 - val_loss: 0.3653 - val_acc: 0.8657\n",
      "Epoch 7/10\n",
      " - 10s - loss: 0.2608 - acc: 0.9048 - val_loss: 0.3529 - val_acc: 0.8744\n",
      "Epoch 8/10\n",
      " - 10s - loss: 0.2498 - acc: 0.9078 - val_loss: 0.3351 - val_acc: 0.8784\n",
      "Epoch 9/10\n",
      " - 10s - loss: 0.2374 - acc: 0.9119 - val_loss: 0.3201 - val_acc: 0.8825\n",
      "Epoch 10/10\n",
      " - 10s - loss: 0.2280 - acc: 0.9157 - val_loss: 0.3260 - val_acc: 0.8845\n",
      "loss of train set: 0.219\n",
      "accuracy of train set: 92.0%\n",
      "loss of test set: 0.326\n",
      "accuracy of test set: 88.4%\n"
     ]
    }
   ],
   "source": [
    "# Import libraries\n",
    "import keras.backend as K\n",
    "from keras.models import Sequential\n",
    "from keras.layers import Dense\n",
    "\n",
    "# define the model\n",
    "def create_model():   \n",
    "    # create model\n",
    "    model = Sequential()\n",
    "    model.add(Dense(num_pixels, input_dim=num_pixels, activation='relu'))\n",
    "    model.add(Dense(num_classes, activation='softmax'))\n",
    "    # Compile model\n",
    "    model.compile(loss='categorical_crossentropy', optimizer='adam', metrics=['accuracy'])\n",
    "    print(model.summary())\n",
    "    return model\n",
    "# build the model\n",
    "model = create_model()\n",
    "# train the model\n",
    "model.fit(X_train, y_train, validation_data=(X_test, y_test), \n",
    "          epochs=10, batch_size=200, verbose=2)\n",
    "\n",
    "# evaluate model on train set\n",
    "scores = model.evaluate(X_train,y_train,verbose=0)\n",
    "print('loss of train set: {:0.3f}'.format(scores[0]))\n",
    "print('accuracy of train set: {:0.1f}%'.format(scores[1]*100))\n",
    "# evaluate model on test data\n",
    "scores = model.evaluate(X_test,y_test,verbose=0)\n",
    "print('loss of test set: {:0.3f}'.format(scores[0]))\n",
    "print('accuracy of test set: {:0.1f}%'.format(scores[1]*100))"
   ]
  },
  {
   "cell_type": "markdown",
   "metadata": {},
   "source": [
    "## CNN"
   ]
  },
  {
   "cell_type": "code",
   "execution_count": 10,
   "metadata": {},
   "outputs": [
    {
     "name": "stdout",
     "output_type": "stream",
     "text": [
      "(60000, 28, 28, 1) (60000, 10) (10000, 28, 28, 1) (10000, 10)\n"
     ]
    }
   ],
   "source": [
    "from keras.utils.np_utils import to_categorical\n",
    "\n",
    "# load data\n",
    "(X_train, y_train), (X_test, y_test) = fashion_mnist.load_data()\n",
    "\n",
    "# Data preprocessing\n",
    "# reshape to [samples][width][height][pixels]\n",
    "X_train = X_train.reshape(-1, 28, 28, 1).astype('float32')\n",
    "X_test = X_test.reshape(-1, 28, 28, 1).astype('float32')\n",
    "\n",
    "# normalize inputs from 0-255 to 0-1\n",
    "X_train = X_train / 255\n",
    "X_test = X_test / 255\n",
    "\n",
    "# one hot encode outputs\n",
    "y_train = to_categorical(y_train)\n",
    "y_test = to_categorical(y_test)\n",
    "num_classes = y_test.shape[1]\n",
    "\n",
    "print(X_train.shape, y_train.shape, X_test.shape, y_test.shape)"
   ]
  },
  {
   "cell_type": "code",
   "execution_count": 11,
   "metadata": {},
   "outputs": [
    {
     "name": "stdout",
     "output_type": "stream",
     "text": [
      "_________________________________________________________________\n",
      "Layer (type)                 Output Shape              Param #   \n",
      "=================================================================\n",
      "conv2d_1 (Conv2D)            (None, 26, 26, 32)        320       \n",
      "_________________________________________________________________\n",
      "max_pooling2d_1 (MaxPooling2 (None, 13, 13, 32)        0         \n",
      "_________________________________________________________________\n",
      "conv2d_2 (Conv2D)            (None, 11, 11, 64)        18496     \n",
      "_________________________________________________________________\n",
      "max_pooling2d_2 (MaxPooling2 (None, 5, 5, 64)          0         \n",
      "_________________________________________________________________\n",
      "dropout_1 (Dropout)          (None, 5, 5, 64)          0         \n",
      "_________________________________________________________________\n",
      "flatten_1 (Flatten)          (None, 1600)              0         \n",
      "_________________________________________________________________\n",
      "dense_1 (Dense)              (None, 128)               204928    \n",
      "_________________________________________________________________\n",
      "dense_2 (Dense)              (None, 50)                6450      \n",
      "_________________________________________________________________\n",
      "dense_3 (Dense)              (None, 10)                510       \n",
      "=================================================================\n",
      "Total params: 230,704\n",
      "Trainable params: 230,704\n",
      "Non-trainable params: 0\n",
      "_________________________________________________________________\n",
      "None\n",
      "Train on 60000 samples, validate on 10000 samples\n",
      "Epoch 1/10\n",
      " - 78s - loss: 0.6247 - acc: 0.7703 - val_loss: 0.4616 - val_acc: 0.8396\n",
      "Epoch 2/10\n",
      " - 78s - loss: 0.3952 - acc: 0.8574 - val_loss: 0.3733 - val_acc: 0.8673\n",
      "Epoch 3/10\n",
      " - 79s - loss: 0.3426 - acc: 0.8750 - val_loss: 0.3435 - val_acc: 0.8782\n",
      "Epoch 4/10\n",
      " - 79s - loss: 0.3088 - acc: 0.8874 - val_loss: 0.3017 - val_acc: 0.8912\n",
      "Epoch 5/10\n",
      " - 81s - loss: 0.2863 - acc: 0.8959 - val_loss: 0.3085 - val_acc: 0.8858\n",
      "Epoch 6/10\n",
      " - 80s - loss: 0.2671 - acc: 0.9025 - val_loss: 0.2825 - val_acc: 0.8992\n",
      "Epoch 7/10\n",
      " - 87s - loss: 0.2520 - acc: 0.9066 - val_loss: 0.2717 - val_acc: 0.9006\n",
      "Epoch 8/10\n",
      " - 81s - loss: 0.2403 - acc: 0.9111 - val_loss: 0.2684 - val_acc: 0.9040\n",
      "Epoch 9/10\n",
      " - 87s - loss: 0.2256 - acc: 0.9157 - val_loss: 0.2564 - val_acc: 0.9052\n",
      "Epoch 10/10\n",
      " - 88s - loss: 0.2133 - acc: 0.9201 - val_loss: 0.2621 - val_acc: 0.9054\n",
      "loss of train set: 0.189\n",
      "accuracy of train set: 93.0%\n",
      "loss of test set: 0.262\n",
      "accuracy of test set: 90.5%\n"
     ]
    }
   ],
   "source": [
    "# Import libraries\n",
    "from keras.layers import Dropout,Flatten\n",
    "from keras.layers.convolutional import Conv2D,MaxPooling2D\n",
    "\n",
    "K.clear_session()\n",
    "np.random.seed(seed)\n",
    "\n",
    "# define the model\n",
    "def create_model():\n",
    "    # create model\n",
    "    model = Sequential()\n",
    "    model.add(Conv2D(32, (3, 3), input_shape=(28, 28,1), activation='relu'))\n",
    "    model.add(MaxPooling2D(pool_size=(2, 2)))\n",
    "    model.add(Conv2D(64, (3, 3), activation='relu'))\n",
    "    model.add(MaxPooling2D(pool_size=(2, 2)))\n",
    "    model.add(Dropout(0.2))\n",
    "    model.add(Flatten())\n",
    "    model.add(Dense(128, activation='relu'))\n",
    "    model.add(Dense(50, activation='relu'))\n",
    "    model.add(Dense(num_classes, activation='softmax'))\n",
    "    # Compile model\n",
    "    model.compile(loss='categorical_crossentropy', optimizer='adam', metrics=['accuracy'])\n",
    "    print(model.summary())\n",
    "    return model\n",
    "# build the model\n",
    "model = create_model()\n",
    "\n",
    "# train the model\n",
    "model.fit(X_train, y_train, validation_data=(X_test, y_test), \n",
    "          epochs=10, batch_size=200, verbose=2)\n",
    "\n",
    "# evaluate model on train set\n",
    "scores = model.evaluate(X_train,y_train,verbose=0)\n",
    "print('loss of train set: {:0.3f}'.format(scores[0]))\n",
    "print('accuracy of train set: {:0.1f}%'.format(scores[1]*100))\n",
    "# evaluate model on test data\n",
    "scores = model.evaluate(X_test,y_test,verbose=0)\n",
    "print('loss of test set: {:0.3f}'.format(scores[0]))\n",
    "print('accuracy of test set: {:0.1f}%'.format(scores[1]*100))"
   ]
  }
 ],
 "metadata": {
  "kernelspec": {
   "display_name": "Python 3",
   "language": "python",
   "name": "python3"
  },
  "language_info": {
   "codemirror_mode": {
    "name": "ipython",
    "version": 3
   },
   "file_extension": ".py",
   "mimetype": "text/x-python",
   "name": "python",
   "nbconvert_exporter": "python",
   "pygments_lexer": "ipython3",
   "version": "3.6.3"
  }
 },
 "nbformat": 4,
 "nbformat_minor": 2
}
