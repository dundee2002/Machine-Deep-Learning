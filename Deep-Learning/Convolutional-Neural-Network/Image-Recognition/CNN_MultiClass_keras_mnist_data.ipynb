{
 "cells": [
  {
   "cell_type": "markdown",
   "metadata": {},
   "source": [
    "## Multiclass Classification: MNIST database of handwritten digits\n",
    "https://keras.io/datasets/\n",
    "\n",
    "** Dataset Information: **\n",
    "\n",
    "Dataset of 60,000 28x28 grayscale images of the 10 digits, along with a test set of 10,000 images.\n",
    "\n",
    "** Attribute Information: (784 features and 1 class) **\n",
    "\n",
    "- 28x28 grayscale images\n",
    "- 10 digits\n",
    "\n",
    "** Objective of this project **\n",
    "\n",
    "recognizing the digits from images\n",
    "\n",
    "## Data"
   ]
  },
  {
   "cell_type": "code",
   "execution_count": 2,
   "metadata": {},
   "outputs": [
    {
     "name": "stderr",
     "output_type": "stream",
     "text": [
      "Using TensorFlow backend.\n"
     ]
    }
   ],
   "source": [
    "# Load libraries\n",
    "import numpy as np\n",
    "import matplotlib.pyplot as plt\n",
    "from keras.datasets import mnist\n",
    "%matplotlib inline  "
   ]
  },
  {
   "cell_type": "code",
   "execution_count": 49,
   "metadata": {},
   "outputs": [
    {
     "name": "stdout",
     "output_type": "stream",
     "text": [
      "(60000, 28, 28) (60000,) (10000, 28, 28) (10000,)\n"
     ]
    }
   ],
   "source": [
    "# Load Data\n",
    "(X_train, y_train), (X_test, y_test) = mnist.load_data()\n",
    "print(X_train.shape, y_train.shape, X_test.shape, y_test.shape)"
   ]
  },
  {
   "cell_type": "code",
   "execution_count": 55,
   "metadata": {},
   "outputs": [
    {
     "data": {
      "image/png": "[encoded data removed]",
      "text/plain": [
       "<matplotlib.figure.Figure at 0x1ba11028a20>"
      ]
     },
     "metadata": {},
     "output_type": "display_data"
    }
   ],
   "source": [
    "# plot first 9 images\n",
    "for i in range(0, 9):\n",
    "    plt.subplot(190 + (i+1))\n",
    "    plt.imshow(X_train[i], cmap=plt.get_cmap('gray'))\n",
    "    plt.title(y_train[i]);"
   ]
  },
  {
   "cell_type": "code",
   "execution_count": 16,
   "metadata": {},
   "outputs": [
    {
     "data": {
      "text/plain": [
       "(array([0, 1, 2, 3, 4, 5, 6, 7, 8, 9], dtype=uint8),\n",
       " array([5923, 6742, 5958, 6131, 5842, 5421, 5918, 6265, 5851, 5949], dtype=int64))"
      ]
     },
     "execution_count": 16,
     "metadata": {},
     "output_type": "execute_result"
    }
   ],
   "source": [
    "# 10 digits\n",
    "np.unique(y_train,return_counts=True)"
   ]
  },
  {
   "cell_type": "markdown",
   "metadata": {},
   "source": [
    "## Baseline MLP model"
   ]
  },
  {
   "cell_type": "code",
   "execution_count": 28,
   "metadata": {},
   "outputs": [
    {
     "name": "stdout",
     "output_type": "stream",
     "text": [
      "(60000, 784) (60000, 10) (10000, 784) (10000, 10)\n"
     ]
    }
   ],
   "source": [
    "# Data preprocessing\n",
    "from keras.utils.np_utils import to_categorical\n",
    "seed = 101 #random seed for reproducibility\n",
    "np.random.seed(seed)\n",
    "\n",
    "# flatten 28*28 images to a 784 vector\n",
    "num_pixels = X_train.shape[1] * X_train.shape[2]\n",
    "X_train = X_train.reshape(X_train.shape[0], num_pixels).astype('float32')\n",
    "X_test = X_test.reshape(X_test.shape[0], num_pixels).astype('float32')\n",
    "\n",
    "# normalize inputs from 0-255 to 0-1\n",
    "X_train = X_train / 255\n",
    "X_test = X_test / 255\n",
    "\n",
    "# one hot encode outputs\n",
    "y_train = to_categorical(y_train)\n",
    "y_test = to_categorical(y_test)\n",
    "num_classes = y_test.shape[1]\n",
    "\n",
    "print(X_train.shape, y_train.shape, X_test.shape, y_test.shape)"
   ]
  },
  {
   "cell_type": "code",
   "execution_count": 23,
   "metadata": {},
   "outputs": [
    {
     "name": "stdout",
     "output_type": "stream",
     "text": [
      "_________________________________________________________________\n",
      "Layer (type)                 Output Shape              Param #   \n",
      "=================================================================\n",
      "dense_1 (Dense)              (None, 784)               615440    \n",
      "_________________________________________________________________\n",
      "dense_2 (Dense)              (None, 10)                7850      \n",
      "=================================================================\n",
      "Total params: 623,290\n",
      "Trainable params: 623,290\n",
      "Non-trainable params: 0\n",
      "_________________________________________________________________\n",
      "None\n",
      "Train on 60000 samples, validate on 10000 samples\n",
      "Epoch 1/10\n",
      " - 10s - loss: 0.2776 - acc: 0.9208 - val_loss: 0.1401 - val_acc: 0.9592\n",
      "Epoch 2/10\n",
      " - 10s - loss: 0.1110 - acc: 0.9682 - val_loss: 0.0965 - val_acc: 0.9721\n",
      "Epoch 3/10\n",
      " - 10s - loss: 0.0700 - acc: 0.9800 - val_loss: 0.0785 - val_acc: 0.9763\n",
      "Epoch 4/10\n",
      " - 10s - loss: 0.0494 - acc: 0.9859 - val_loss: 0.0675 - val_acc: 0.9795\n",
      "Epoch 5/10\n",
      " - 10s - loss: 0.0365 - acc: 0.9899 - val_loss: 0.0626 - val_acc: 0.9812\n",
      "Epoch 6/10\n",
      " - 10s - loss: 0.0260 - acc: 0.9932 - val_loss: 0.0603 - val_acc: 0.9808\n",
      "Epoch 7/10\n",
      " - 10s - loss: 0.0192 - acc: 0.9952 - val_loss: 0.0594 - val_acc: 0.9815\n",
      "Epoch 8/10\n",
      " - 10s - loss: 0.0146 - acc: 0.9967 - val_loss: 0.0618 - val_acc: 0.9814\n",
      "Epoch 9/10\n",
      " - 10s - loss: 0.0115 - acc: 0.9974 - val_loss: 0.0584 - val_acc: 0.9828\n",
      "Epoch 10/10\n",
      " - 10s - loss: 0.0076 - acc: 0.9988 - val_loss: 0.0620 - val_acc: 0.9816\n",
      "loss of train set: 0.007\n",
      "accuracy of train set: 99.9%\n",
      "loss of test set: 0.062\n",
      "accuracy of test set: 98.2%\n"
     ]
    }
   ],
   "source": [
    "# Import libraries\n",
    "import keras.backend as K\n",
    "from keras.models import Sequential\n",
    "from keras.layers import Dense\n",
    "\n",
    "# define the model\n",
    "def create_model():   \n",
    "    # create model\n",
    "    model = Sequential()\n",
    "    model.add(Dense(num_pixels, input_dim=num_pixels, activation='relu'))\n",
    "    model.add(Dense(num_classes, activation='softmax'))\n",
    "    # Compile model\n",
    "    model.compile(loss='categorical_crossentropy', optimizer='adam', metrics=['accuracy'])\n",
    "    print(model.summary())\n",
    "    return model\n",
    "# build the model\n",
    "model = create_model()\n",
    "# train the model\n",
    "model.fit(X_train, y_train, validation_data=(X_test, y_test), \n",
    "          epochs=10, batch_size=200, verbose=2)\n",
    "\n",
    "# evaluate model on train set\n",
    "scores = model.evaluate(X_train,y_train,verbose=0)\n",
    "print('loss of train set: {:0.3f}'.format(scores[0]))\n",
    "print('accuracy of train set: {:0.1f}%'.format(scores[1]*100))\n",
    "# evaluate model on test data\n",
    "scores = model.evaluate(X_test,y_test,verbose=0)\n",
    "print('loss of test set: {:0.3f}'.format(scores[0]))\n",
    "print('accuracy of test set: {:0.1f}%'.format(scores[1]*100))"
   ]
  },
  {
   "cell_type": "markdown",
   "metadata": {},
   "source": [
    "## CNN"
   ]
  },
  {
   "cell_type": "code",
   "execution_count": 44,
   "metadata": {},
   "outputs": [
    {
     "name": "stdout",
     "output_type": "stream",
     "text": [
      "(60000, 28, 28, 1) (60000, 10) (10000, 28, 28, 1) (10000, 10)\n"
     ]
    }
   ],
   "source": [
    "from keras.utils.np_utils import to_categorical\n",
    "\n",
    "# load data\n",
    "(X_train, y_train), (X_test, y_test) = mnist.load_data()\n",
    "\n",
    "# Data preprocessing\n",
    "# reshape to [samples][width][height][pixels]\n",
    "X_train = X_train.reshape(-1, 28, 28, 1).astype('float32')\n",
    "X_test = X_test.reshape(-1, 28, 28, 1).astype('float32')\n",
    "\n",
    "# normalize inputs from 0-255 to 0-1\n",
    "X_train = X_train / 255\n",
    "X_test = X_test / 255\n",
    "\n",
    "# one hot encode outputs\n",
    "y_train = to_categorical(y_train)\n",
    "y_test = to_categorical(y_test)\n",
    "num_classes = y_test.shape[1]\n",
    "\n",
    "print(X_train.shape, y_train.shape, X_test.shape, y_test.shape)"
   ]
  },
  {
   "cell_type": "code",
   "execution_count": 47,
   "metadata": {},
   "outputs": [
    {
     "name": "stdout",
     "output_type": "stream",
     "text": [
      "_________________________________________________________________\n",
      "Layer (type)                 Output Shape              Param #   \n",
      "=================================================================\n",
      "conv2d_1 (Conv2D)            (None, 26, 26, 32)        320       \n",
      "_________________________________________________________________\n",
      "max_pooling2d_1 (MaxPooling2 (None, 13, 13, 32)        0         \n",
      "_________________________________________________________________\n",
      "conv2d_2 (Conv2D)            (None, 11, 11, 64)        18496     \n",
      "_________________________________________________________________\n",
      "max_pooling2d_2 (MaxPooling2 (None, 5, 5, 64)          0         \n",
      "_________________________________________________________________\n",
      "dropout_1 (Dropout)          (None, 5, 5, 64)          0         \n",
      "_________________________________________________________________\n",
      "flatten_1 (Flatten)          (None, 1600)              0         \n",
      "_________________________________________________________________\n",
      "dense_1 (Dense)              (None, 128)               204928    \n",
      "_________________________________________________________________\n",
      "dense_2 (Dense)              (None, 50)                6450      \n",
      "_________________________________________________________________\n",
      "dense_3 (Dense)              (None, 10)                510       \n",
      "=================================================================\n",
      "Total params: 230,704\n",
      "Trainable params: 230,704\n",
      "Non-trainable params: 0\n",
      "_________________________________________________________________\n",
      "None\n",
      "Train on 60000 samples, validate on 10000 samples\n",
      "Epoch 1/10\n",
      " - 81s - loss: 0.2797 - acc: 0.9152 - val_loss: 0.0767 - val_acc: 0.9746\n",
      "Epoch 2/10\n",
      " - 85s - loss: 0.0702 - acc: 0.9783 - val_loss: 0.0415 - val_acc: 0.9853\n",
      "Epoch 3/10\n",
      " - 87s - loss: 0.0472 - acc: 0.9851 - val_loss: 0.0358 - val_acc: 0.9878\n",
      "Epoch 4/10\n",
      " - 88s - loss: 0.0374 - acc: 0.9885 - val_loss: 0.0282 - val_acc: 0.9904\n",
      "Epoch 5/10\n",
      " - 80s - loss: 0.0314 - acc: 0.9899 - val_loss: 0.0292 - val_acc: 0.9895\n",
      "Epoch 6/10\n",
      " - 80s - loss: 0.0282 - acc: 0.9910 - val_loss: 0.0267 - val_acc: 0.9908\n",
      "Epoch 7/10\n",
      " - 86s - loss: 0.0230 - acc: 0.9922 - val_loss: 0.0280 - val_acc: 0.9910\n",
      "Epoch 8/10\n",
      " - 80s - loss: 0.0197 - acc: 0.9931 - val_loss: 0.0246 - val_acc: 0.9920\n",
      "Epoch 9/10\n",
      " - 76s - loss: 0.0175 - acc: 0.9945 - val_loss: 0.0244 - val_acc: 0.9924\n",
      "Epoch 10/10\n",
      " - 76s - loss: 0.0164 - acc: 0.9946 - val_loss: 0.0291 - val_acc: 0.9904\n",
      "loss of train set: 0.011\n",
      "accuracy of train set: 99.7%\n",
      "loss of test set: 0.029\n",
      "accuracy of test set: 99.0%\n"
     ]
    }
   ],
   "source": [
    "# Import libraries\n",
    "from keras.layers import Dropout,Flatten\n",
    "from keras.layers.convolutional import Conv2D,MaxPooling2D\n",
    "\n",
    "K.clear_session()\n",
    "np.random.seed(seed)\n",
    "\n",
    "# define the model\n",
    "def create_model():\n",
    "    # create model\n",
    "    model = Sequential()\n",
    "    model.add(Conv2D(32, (3, 3), input_shape=(28, 28,1), activation='relu'))\n",
    "    model.add(MaxPooling2D(pool_size=(2, 2)))\n",
    "    model.add(Conv2D(64, (3, 3), activation='relu'))\n",
    "    model.add(MaxPooling2D(pool_size=(2, 2)))\n",
    "    model.add(Dropout(0.2))\n",
    "    model.add(Flatten())\n",
    "    model.add(Dense(128, activation='relu'))\n",
    "    model.add(Dense(50, activation='relu'))\n",
    "    model.add(Dense(num_classes, activation='softmax'))\n",
    "    # Compile model\n",
    "    model.compile(loss='categorical_crossentropy', optimizer='adam', metrics=['accuracy'])\n",
    "    print(model.summary())\n",
    "    return model\n",
    "# build the model\n",
    "model = create_model()\n",
    "\n",
    "# train the model\n",
    "model.fit(X_train, y_train, validation_data=(X_test, y_test), \n",
    "          epochs=10, batch_size=200, verbose=2)\n",
    "\n",
    "# evaluate model on train set\n",
    "scores = model.evaluate(X_train,y_train,verbose=0)\n",
    "print('loss of train set: {:0.3f}'.format(scores[0]))\n",
    "print('accuracy of train set: {:0.1f}%'.format(scores[1]*100))\n",
    "# evaluate model on test data\n",
    "scores = model.evaluate(X_test,y_test,verbose=0)\n",
    "print('loss of test set: {:0.3f}'.format(scores[0]))\n",
    "print('accuracy of test set: {:0.1f}%'.format(scores[1]*100))"
   ]
  }
 ],
 "metadata": {
  "kernelspec": {
   "display_name": "Python 3",
   "language": "python",
   "name": "python3"
  },
  "language_info": {
   "codemirror_mode": {
    "name": "ipython",
    "version": 3
   },
   "file_extension": ".py",
   "mimetype": "text/x-python",
   "name": "python",
   "nbconvert_exporter": "python",
   "pygments_lexer": "ipython3",
   "version": "3.6.3"
  }
 },
 "nbformat": 4,
 "nbformat_minor": 2
}
