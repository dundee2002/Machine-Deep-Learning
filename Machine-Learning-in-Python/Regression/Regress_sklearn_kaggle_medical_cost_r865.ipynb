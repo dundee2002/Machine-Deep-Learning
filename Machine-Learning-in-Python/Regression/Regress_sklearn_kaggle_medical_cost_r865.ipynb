{
 "cells": [
  {
   "cell_type": "markdown",
   "metadata": {},
   "source": [
    "## Regression: Medical Cost Personal Datasets\n",
    "https://www.kaggle.com/mirichoi0218/insurance\n",
    "\n",
    "** Dataset Information: **\n",
    "\n",
    "1338 Health Insurance information\n",
    "\n",
    "** Attribute Information: **\n",
    "\n",
    "- age: age of primary beneficiary \n",
    "- sex: insurance contractor gender, female, male \n",
    "- bmi: Body mass index, providing an understanding of body, weights that are relatively high or low relative to height, objective index of body weight (kg / m ^ 2) using the ratio of height to weight, ideally 18.5 to 24.9 \n",
    "- children: Number of children covered by health insurance / Number of dependents \n",
    "- smoker: Smoking \n",
    "- region: the beneficiary's residential area in the US, northeast, southeast, southwest, northwest. \n",
    "- charges: Individual medical costs billed by health insurance\n",
    "\n",
    "** Objective of this project **\n",
    "\n",
    "predict insurance costs"
   ]
  },
  {
   "cell_type": "markdown",
   "metadata": {},
   "source": [
    "## Data"
   ]
  },
  {
   "cell_type": "code",
   "execution_count": 1,
   "metadata": {
    "collapsed": true
   },
   "outputs": [],
   "source": [
    "# Load libraries\n",
    "import numpy as np\n",
    "import pandas as pd\n",
    "import matplotlib.pyplot as plt\n",
    "import seaborn as sns\n",
    "%matplotlib inline  "
   ]
  },
  {
   "cell_type": "code",
   "execution_count": 2,
   "metadata": {
    "collapsed": true
   },
   "outputs": [],
   "source": [
    "# Load Data\n",
    "df = pd.read_csv('insurance.csv')"
   ]
  },
  {
   "cell_type": "code",
   "execution_count": 3,
   "metadata": {},
   "outputs": [
    {
     "data": {
      "text/html": [
       "<div>\n",
       "<style>\n",
       "    .dataframe thead tr:only-child th {\n",
       "        text-align: right;\n",
       "    }\n",
       "\n",
       "    .dataframe thead th {\n",
       "        text-align: left;\n",
       "    }\n",
       "\n",
       "    .dataframe tbody tr th {\n",
       "        vertical-align: top;\n",
       "    }\n",
       "</style>\n",
       "<table border=\"1\" class=\"dataframe\">\n",
       "  <thead>\n",
       "    <tr style=\"text-align: right;\">\n",
       "      <th></th>\n",
       "      <th>age</th>\n",
       "      <th>sex</th>\n",
       "      <th>bmi</th>\n",
       "      <th>children</th>\n",
       "      <th>smoker</th>\n",
       "      <th>region</th>\n",
       "      <th>charges</th>\n",
       "    </tr>\n",
       "  </thead>\n",
       "  <tbody>\n",
       "    <tr>\n",
       "      <th>0</th>\n",
       "      <td>19</td>\n",
       "      <td>female</td>\n",
       "      <td>27.900</td>\n",
       "      <td>0</td>\n",
       "      <td>yes</td>\n",
       "      <td>southwest</td>\n",
       "      <td>16884.92400</td>\n",
       "    </tr>\n",
       "    <tr>\n",
       "      <th>1</th>\n",
       "      <td>18</td>\n",
       "      <td>male</td>\n",
       "      <td>33.770</td>\n",
       "      <td>1</td>\n",
       "      <td>no</td>\n",
       "      <td>southeast</td>\n",
       "      <td>1725.55230</td>\n",
       "    </tr>\n",
       "    <tr>\n",
       "      <th>2</th>\n",
       "      <td>28</td>\n",
       "      <td>male</td>\n",
       "      <td>33.000</td>\n",
       "      <td>3</td>\n",
       "      <td>no</td>\n",
       "      <td>southeast</td>\n",
       "      <td>4449.46200</td>\n",
       "    </tr>\n",
       "    <tr>\n",
       "      <th>3</th>\n",
       "      <td>33</td>\n",
       "      <td>male</td>\n",
       "      <td>22.705</td>\n",
       "      <td>0</td>\n",
       "      <td>no</td>\n",
       "      <td>northwest</td>\n",
       "      <td>21984.47061</td>\n",
       "    </tr>\n",
       "    <tr>\n",
       "      <th>4</th>\n",
       "      <td>32</td>\n",
       "      <td>male</td>\n",
       "      <td>28.880</td>\n",
       "      <td>0</td>\n",
       "      <td>no</td>\n",
       "      <td>northwest</td>\n",
       "      <td>3866.85520</td>\n",
       "    </tr>\n",
       "  </tbody>\n",
       "</table>\n",
       "</div>"
      ],
      "text/plain": [
       "   age     sex     bmi  children smoker     region      charges\n",
       "0   19  female  27.900         0    yes  southwest  16884.92400\n",
       "1   18    male  33.770         1     no  southeast   1725.55230\n",
       "2   28    male  33.000         3     no  southeast   4449.46200\n",
       "3   33    male  22.705         0     no  northwest  21984.47061\n",
       "4   32    male  28.880         0     no  northwest   3866.85520"
      ]
     },
     "execution_count": 3,
     "metadata": {},
     "output_type": "execute_result"
    }
   ],
   "source": [
    "# Inspect Data\n",
    "df.head()"
   ]
  },
  {
   "cell_type": "code",
   "execution_count": 4,
   "metadata": {},
   "outputs": [
    {
     "data": {
      "text/plain": [
       "(1338, 7)"
      ]
     },
     "execution_count": 4,
     "metadata": {},
     "output_type": "execute_result"
    }
   ],
   "source": [
    "df.shape"
   ]
  },
  {
   "cell_type": "code",
   "execution_count": 5,
   "metadata": {},
   "outputs": [
    {
     "name": "stdout",
     "output_type": "stream",
     "text": [
      "<class 'pandas.core.frame.DataFrame'>\n",
      "RangeIndex: 1338 entries, 0 to 1337\n",
      "Data columns (total 7 columns):\n",
      "age         1338 non-null int64\n",
      "sex         1338 non-null object\n",
      "bmi         1338 non-null float64\n",
      "children    1338 non-null int64\n",
      "smoker      1338 non-null object\n",
      "region      1338 non-null object\n",
      "charges     1338 non-null float64\n",
      "dtypes: float64(2), int64(2), object(3)\n",
      "memory usage: 73.2+ KB\n"
     ]
    }
   ],
   "source": [
    "df.info()"
   ]
  },
  {
   "cell_type": "code",
   "execution_count": 6,
   "metadata": {},
   "outputs": [
    {
     "data": {
      "text/html": [
       "<div>\n",
       "<style>\n",
       "    .dataframe thead tr:only-child th {\n",
       "        text-align: right;\n",
       "    }\n",
       "\n",
       "    .dataframe thead th {\n",
       "        text-align: left;\n",
       "    }\n",
       "\n",
       "    .dataframe tbody tr th {\n",
       "        vertical-align: top;\n",
       "    }\n",
       "</style>\n",
       "<table border=\"1\" class=\"dataframe\">\n",
       "  <thead>\n",
       "    <tr style=\"text-align: right;\">\n",
       "      <th></th>\n",
       "      <th>age</th>\n",
       "      <th>bmi</th>\n",
       "      <th>children</th>\n",
       "      <th>charges</th>\n",
       "    </tr>\n",
       "  </thead>\n",
       "  <tbody>\n",
       "    <tr>\n",
       "      <th>count</th>\n",
       "      <td>1338.000000</td>\n",
       "      <td>1338.000000</td>\n",
       "      <td>1338.000000</td>\n",
       "      <td>1338.000000</td>\n",
       "    </tr>\n",
       "    <tr>\n",
       "      <th>mean</th>\n",
       "      <td>39.207025</td>\n",
       "      <td>30.663397</td>\n",
       "      <td>1.094918</td>\n",
       "      <td>13270.422265</td>\n",
       "    </tr>\n",
       "    <tr>\n",
       "      <th>std</th>\n",
       "      <td>14.049960</td>\n",
       "      <td>6.098187</td>\n",
       "      <td>1.205493</td>\n",
       "      <td>12110.011237</td>\n",
       "    </tr>\n",
       "    <tr>\n",
       "      <th>min</th>\n",
       "      <td>18.000000</td>\n",
       "      <td>15.960000</td>\n",
       "      <td>0.000000</td>\n",
       "      <td>1121.873900</td>\n",
       "    </tr>\n",
       "    <tr>\n",
       "      <th>25%</th>\n",
       "      <td>27.000000</td>\n",
       "      <td>26.296250</td>\n",
       "      <td>0.000000</td>\n",
       "      <td>4740.287150</td>\n",
       "    </tr>\n",
       "    <tr>\n",
       "      <th>50%</th>\n",
       "      <td>39.000000</td>\n",
       "      <td>30.400000</td>\n",
       "      <td>1.000000</td>\n",
       "      <td>9382.033000</td>\n",
       "    </tr>\n",
       "    <tr>\n",
       "      <th>75%</th>\n",
       "      <td>51.000000</td>\n",
       "      <td>34.693750</td>\n",
       "      <td>2.000000</td>\n",
       "      <td>16639.912515</td>\n",
       "    </tr>\n",
       "    <tr>\n",
       "      <th>max</th>\n",
       "      <td>64.000000</td>\n",
       "      <td>53.130000</td>\n",
       "      <td>5.000000</td>\n",
       "      <td>63770.428010</td>\n",
       "    </tr>\n",
       "  </tbody>\n",
       "</table>\n",
       "</div>"
      ],
      "text/plain": [
       "               age          bmi     children       charges\n",
       "count  1338.000000  1338.000000  1338.000000   1338.000000\n",
       "mean     39.207025    30.663397     1.094918  13270.422265\n",
       "std      14.049960     6.098187     1.205493  12110.011237\n",
       "min      18.000000    15.960000     0.000000   1121.873900\n",
       "25%      27.000000    26.296250     0.000000   4740.287150\n",
       "50%      39.000000    30.400000     1.000000   9382.033000\n",
       "75%      51.000000    34.693750     2.000000  16639.912515\n",
       "max      64.000000    53.130000     5.000000  63770.428010"
      ]
     },
     "execution_count": 6,
     "metadata": {},
     "output_type": "execute_result"
    }
   ],
   "source": [
    "df.describe()"
   ]
  },
  {
   "cell_type": "markdown",
   "metadata": {},
   "source": [
    "## Exploratory Data Analysis"
   ]
  },
  {
   "cell_type": "code",
   "execution_count": 7,
   "metadata": {},
   "outputs": [
    {
     "data": {
      "text/html": [
       "<div>\n",
       "<style>\n",
       "    .dataframe thead tr:only-child th {\n",
       "        text-align: right;\n",
       "    }\n",
       "\n",
       "    .dataframe thead th {\n",
       "        text-align: left;\n",
       "    }\n",
       "\n",
       "    .dataframe tbody tr th {\n",
       "        vertical-align: top;\n",
       "    }\n",
       "</style>\n",
       "<table border=\"1\" class=\"dataframe\">\n",
       "  <thead>\n",
       "    <tr style=\"text-align: right;\">\n",
       "      <th></th>\n",
       "      <th>age</th>\n",
       "      <th>bmi</th>\n",
       "      <th>children</th>\n",
       "      <th>charges</th>\n",
       "      <th>sex_male</th>\n",
       "      <th>smoker_yes</th>\n",
       "      <th>region_northwest</th>\n",
       "      <th>region_southeast</th>\n",
       "      <th>region_southwest</th>\n",
       "    </tr>\n",
       "  </thead>\n",
       "  <tbody>\n",
       "    <tr>\n",
       "      <th>0</th>\n",
       "      <td>19</td>\n",
       "      <td>27.900</td>\n",
       "      <td>0</td>\n",
       "      <td>16884.92400</td>\n",
       "      <td>0</td>\n",
       "      <td>1</td>\n",
       "      <td>0</td>\n",
       "      <td>0</td>\n",
       "      <td>1</td>\n",
       "    </tr>\n",
       "    <tr>\n",
       "      <th>1</th>\n",
       "      <td>18</td>\n",
       "      <td>33.770</td>\n",
       "      <td>1</td>\n",
       "      <td>1725.55230</td>\n",
       "      <td>1</td>\n",
       "      <td>0</td>\n",
       "      <td>0</td>\n",
       "      <td>1</td>\n",
       "      <td>0</td>\n",
       "    </tr>\n",
       "    <tr>\n",
       "      <th>2</th>\n",
       "      <td>28</td>\n",
       "      <td>33.000</td>\n",
       "      <td>3</td>\n",
       "      <td>4449.46200</td>\n",
       "      <td>1</td>\n",
       "      <td>0</td>\n",
       "      <td>0</td>\n",
       "      <td>1</td>\n",
       "      <td>0</td>\n",
       "    </tr>\n",
       "    <tr>\n",
       "      <th>3</th>\n",
       "      <td>33</td>\n",
       "      <td>22.705</td>\n",
       "      <td>0</td>\n",
       "      <td>21984.47061</td>\n",
       "      <td>1</td>\n",
       "      <td>0</td>\n",
       "      <td>1</td>\n",
       "      <td>0</td>\n",
       "      <td>0</td>\n",
       "    </tr>\n",
       "    <tr>\n",
       "      <th>4</th>\n",
       "      <td>32</td>\n",
       "      <td>28.880</td>\n",
       "      <td>0</td>\n",
       "      <td>3866.85520</td>\n",
       "      <td>1</td>\n",
       "      <td>0</td>\n",
       "      <td>1</td>\n",
       "      <td>0</td>\n",
       "      <td>0</td>\n",
       "    </tr>\n",
       "  </tbody>\n",
       "</table>\n",
       "</div>"
      ],
      "text/plain": [
       "   age     bmi  children      charges  sex_male  smoker_yes  region_northwest  \\\n",
       "0   19  27.900         0  16884.92400         0           1                 0   \n",
       "1   18  33.770         1   1725.55230         1           0                 0   \n",
       "2   28  33.000         3   4449.46200         1           0                 0   \n",
       "3   33  22.705         0  21984.47061         1           0                 1   \n",
       "4   32  28.880         0   3866.85520         1           0                 1   \n",
       "\n",
       "   region_southeast  region_southwest  \n",
       "0                 0                 1  \n",
       "1                 1                 0  \n",
       "2                 1                 0  \n",
       "3                 0                 0  \n",
       "4                 0                 0  "
      ]
     },
     "execution_count": 7,
     "metadata": {},
     "output_type": "execute_result"
    }
   ],
   "source": [
    "# Encode Categorical to Dummy variables\n",
    "df = pd.get_dummies(df, drop_first=True)\n",
    "df.head()"
   ]
  },
  {
   "cell_type": "code",
   "execution_count": 8,
   "metadata": {},
   "outputs": [
    {
     "data": {
      "image/png": "[encoded data removed]",
      "text/plain": [
       "<matplotlib.figure.Figure at 0x1c4fcaaae10>"
      ]
     },
     "metadata": {},
     "output_type": "display_data"
    }
   ],
   "source": [
    "_ = df.hist(figsize=(12,10))\n",
    "plt.tight_layout()"
   ]
  },
  {
   "cell_type": "code",
   "execution_count": 9,
   "metadata": {
    "collapsed": true
   },
   "outputs": [],
   "source": [
    "#sns.pairplot(df, size=2.5)\n",
    "#plt.tight_layout()"
   ]
  },
  {
   "cell_type": "code",
   "execution_count": 10,
   "metadata": {
    "scrolled": true
   },
   "outputs": [
    {
     "data": {
      "text/plain": [
       "<matplotlib.axes._subplots.AxesSubplot at 0x1c4fd073c18>"
      ]
     },
     "execution_count": 10,
     "metadata": {},
     "output_type": "execute_result"
    },
    {
     "data": {
      "image/png": "[encoded data removed]",
      "text/plain": [
       "<matplotlib.figure.Figure at 0x1c4fcf0e2b0>"
      ]
     },
     "metadata": {},
     "output_type": "display_data"
    }
   ],
   "source": [
    "plt.figure(figsize=(8,8))\n",
    "sns.heatmap(df.corr(), annot = True, cmap='coolwarm')"
   ]
  },
  {
   "cell_type": "code",
   "execution_count": 11,
   "metadata": {},
   "outputs": [
    {
     "data": {
      "text/plain": [
       "age                 False\n",
       "bmi                 False\n",
       "children            False\n",
       "charges             False\n",
       "sex_male            False\n",
       "smoker_yes          False\n",
       "region_northwest    False\n",
       "region_southeast    False\n",
       "region_southwest    False\n",
       "dtype: bool"
      ]
     },
     "execution_count": 11,
     "metadata": {},
     "output_type": "execute_result"
    }
   ],
   "source": [
    "df.isnull().any()"
   ]
  },
  {
   "cell_type": "markdown",
   "metadata": {},
   "source": [
    "## Data preprocessing"
   ]
  },
  {
   "cell_type": "code",
   "execution_count": 12,
   "metadata": {
    "collapsed": true
   },
   "outputs": [],
   "source": [
    "seed = 101 #random seed for reproducibility\n",
    "np.random.seed(seed)"
   ]
  },
  {
   "cell_type": "markdown",
   "metadata": {},
   "source": [
    "** Split Features & Class (or target) **"
   ]
  },
  {
   "cell_type": "code",
   "execution_count": 13,
   "metadata": {},
   "outputs": [
    {
     "name": "stdout",
     "output_type": "stream",
     "text": [
      "(1338, 8) (1338,)\n"
     ]
    }
   ],
   "source": [
    "X = df.drop('charges', axis=1).values\n",
    "y = df['charges'].values\n",
    "print(X.shape,y.shape)"
   ]
  },
  {
   "cell_type": "markdown",
   "metadata": {},
   "source": [
    "** Split Train Test Sets **"
   ]
  },
  {
   "cell_type": "code",
   "execution_count": 14,
   "metadata": {},
   "outputs": [
    {
     "name": "stdout",
     "output_type": "stream",
     "text": [
      "(1070, 8) (268, 8) (1070,) (268,)\n"
     ]
    }
   ],
   "source": [
    "from sklearn.model_selection import train_test_split\n",
    "X_train, X_test, y_train, y_test = train_test_split(X, y, test_size=0.2, \n",
    "                                                    random_state=seed)\n",
    "print(X_train.shape, X_test.shape, y_train.shape, y_test.shape)"
   ]
  },
  {
   "cell_type": "markdown",
   "metadata": {},
   "source": [
    "** Scale Features **"
   ]
  },
  {
   "cell_type": "code",
   "execution_count": 15,
   "metadata": {},
   "outputs": [
    {
     "name": "stdout",
     "output_type": "stream",
     "text": [
      "(1070, 8) (268, 8) (1070,) (268,)\n"
     ]
    }
   ],
   "source": [
    "from sklearn.preprocessing import StandardScaler\n",
    "sc_X = StandardScaler()\n",
    "X_train = sc_X.fit_transform(X_train)\n",
    "X_test = sc_X.transform(X_test)\n",
    "\n",
    "sc_y = StandardScaler()\n",
    "y_train = sc_y.fit_transform(y_train.reshape(-1,1)).ravel()\n",
    "y_test = sc_y.transform(y_test.reshape(-1,1)).ravel()\n",
    "print(X_train.shape, X_test.shape, y_train.shape, y_test.shape)"
   ]
  },
  {
   "cell_type": "markdown",
   "metadata": {},
   "source": [
    "## Baseline Models"
   ]
  },
  {
   "cell_type": "code",
   "execution_count": 16,
   "metadata": {
    "collapsed": true
   },
   "outputs": [],
   "source": [
    "# Import libraries\n",
    "from sklearn.model_selection import KFold,cross_val_score,GridSearchCV\n",
    "from sklearn.metrics import mean_squared_error,r2_score\n",
    "from sklearn.linear_model import LinearRegression,Ridge,Lasso\n",
    "from sklearn.neighbors import KNeighborsRegressor\n",
    "from sklearn.tree import DecisionTreeRegressor\n",
    "from sklearn.svm import SVR\n",
    "from sklearn.ensemble import RandomForestRegressor\n",
    "from xgboost import XGBRegressor"
   ]
  },
  {
   "cell_type": "code",
   "execution_count": 17,
   "metadata": {
    "collapsed": true
   },
   "outputs": [],
   "source": [
    "models = []\n",
    "#linear\n",
    "models.append(('LR', LinearRegression()))\n",
    "models.append(('RG', Ridge(random_state=seed)))\n",
    "models.append(('LS', Lasso(random_state=seed)))\n",
    "#non-linear\n",
    "models.append(('KNN', KNeighborsRegressor()))\n",
    "models.append(('DT', DecisionTreeRegressor(random_state=seed)))\n",
    "models.append(('SVM', SVR()))\n",
    "#ensemble\n",
    "models.append(('RF', RandomForestRegressor(n_estimators=100,random_state=seed)))\n",
    "models.append(('XGB', XGBRegressor(random_state=seed)))"
   ]
  },
  {
   "cell_type": "code",
   "execution_count": 18,
   "metadata": {},
   "outputs": [
    {
     "name": "stdout",
     "output_type": "stream",
     "text": [
      "Model\tMSE: mean (std)\n",
      "LR\t-0.256 (0.041)\n",
      "RG\t-0.256 (0.041)\n",
      "LS\t-1.002 (0.128)\n",
      "KNN\t-0.217 (0.031)\n",
      "DT\t-0.317 (0.064)\n",
      "SVM\t-0.160 (0.036)\n",
      "RF\t-0.168 (0.033)\n",
      "XGB\t-0.144 (0.030)\n"
     ]
    },
    {
     "data": {
      "text/plain": [
       "Text(0,0.5,'MSE')"
      ]
     },
     "execution_count": 18,
     "metadata": {},
     "output_type": "execute_result"
    },
    {
     "data": {
      "image/png": "[encoded data removed]",
      "text/plain": [
       "<matplotlib.figure.Figure at 0x1c4fddb19b0>"
      ]
     },
     "metadata": {},
     "output_type": "display_data"
    }
   ],
   "source": [
    "# cross validation\n",
    "np.random.seed(seed)\n",
    "kfold = KFold(n_splits=10, random_state=seed)\n",
    "scoring='neg_mean_squared_error'\n",
    "names = []\n",
    "results = []\n",
    "print('Model\\tMSE: mean (std)')\n",
    "for name,model in models:\n",
    "    cv_results = cross_val_score(model, X_train, y_train, cv=kfold, scoring=scoring)  \n",
    "    results.append(cv_results)\n",
    "    names.append(name)    \n",
    "    print('{}\\t{:0.3f} ({:0.3f})'.format(name, cv_results.mean(), cv_results.std()))\n",
    "\n",
    "# visualize results\n",
    "ax = sns.boxplot(data=results)\n",
    "ax.set_xticklabels(names)\n",
    "plt.title('Model Comparison')\n",
    "plt.ylabel('MSE')"
   ]
  },
  {
   "cell_type": "markdown",
   "metadata": {},
   "source": [
    "## Parameter Tuning\n",
    "Top 4 algorithms: XGB, SVM, RF, KNN"
   ]
  },
  {
   "cell_type": "code",
   "execution_count": 19,
   "metadata": {
    "collapsed": true
   },
   "outputs": [],
   "source": [
    "# define functions for grid search\n",
    "def default_model_perfomance(model):\n",
    "    cv = cross_val_score(model, X_train, y_train,cv=kfold, scoring=scoring)\n",
    "    print(model.get_params())\n",
    "    print('\\nMSE of train set: {:0.3f} ({:0.3f})'.format(cv.mean(), cv.std()))\n",
    "\n",
    "def best_model_performance(model,param_grid):\n",
    "    # grid search\n",
    "    np.random.seed(seed)\n",
    "    scoring='neg_mean_squared_error'\n",
    "    kfold = KFold(n_splits=10, random_state=seed)\n",
    "    grid_search = GridSearchCV(model, param_grid=param_grid,cv=kfold, verbose=1, scoring=scoring)\n",
    "    grid_result = grid_search.fit(X_train,y_train)\n",
    "\n",
    "    # results\n",
    "    means = grid_result.cv_results_['mean_test_score']\n",
    "    stds = grid_result.cv_results_['std_test_score']\n",
    "    params = grid_result.cv_results_['params']\n",
    "    for mean, stdev, param in zip(means, stds, params):\n",
    "        print(\"%.3f (%.3f) with: %r\" % (mean, stdev, param))\n",
    "\n",
    "    # best\n",
    "    print(\"\\nBest MSE of train set: {:0.3f} using {}\".format(grid_result.best_score_,grid_result.best_params_))\n",
    "    \n",
    "    # evaluate test set\n",
    "    #y_true, y_pred = y_test, grid_search.predict(X_test)\n",
    "    #print(mean_squared_error(y_true, y_pred))\n",
    "    #print(r2_score(y_true, y_pred))"
   ]
  },
  {
   "cell_type": "markdown",
   "metadata": {},
   "source": [
    "#### Model 1: XGBoost"
   ]
  },
  {
   "cell_type": "code",
   "execution_count": 20,
   "metadata": {},
   "outputs": [
    {
     "name": "stdout",
     "output_type": "stream",
     "text": [
      "{'base_score': 0.5, 'booster': 'gbtree', 'colsample_bylevel': 1, 'colsample_bytree': 1, 'gamma': 0, 'learning_rate': 0.1, 'max_delta_step': 0, 'max_depth': 3, 'min_child_weight': 1, 'missing': None, 'n_estimators': 100, 'n_jobs': 1, 'nthread': None, 'objective': 'reg:linear', 'random_state': 101, 'reg_alpha': 0, 'reg_lambda': 1, 'scale_pos_weight': 1, 'seed': None, 'silent': True, 'subsample': 1}\n",
      "\n",
      "MSE of train set: -0.144 (0.030)\n"
     ]
    }
   ],
   "source": [
    "# Default\n",
    "model = XGBRegressor(n_estimators=100,random_state=seed)\n",
    "default_model_perfomance(model)"
   ]
  },
  {
   "cell_type": "code",
   "execution_count": 21,
   "metadata": {},
   "outputs": [
    {
     "name": "stdout",
     "output_type": "stream",
     "text": [
      "Fitting 10 folds for each of 12 candidates, totalling 120 fits\n",
      "-0.140 (0.034) with: {'max_depth': 3, 'n_estimators': 50}\n",
      "-0.144 (0.030) with: {'max_depth': 3, 'n_estimators': 100}\n",
      "-0.155 (0.026) with: {'max_depth': 3, 'n_estimators': 200}\n",
      "-0.162 (0.026) with: {'max_depth': 3, 'n_estimators': 300}\n",
      "-0.151 (0.033) with: {'max_depth': 5, 'n_estimators': 50}\n",
      "-0.164 (0.026) with: {'max_depth': 5, 'n_estimators': 100}\n",
      "-0.181 (0.027) with: {'max_depth': 5, 'n_estimators': 200}\n",
      "-0.191 (0.029) with: {'max_depth': 5, 'n_estimators': 300}\n",
      "-0.171 (0.033) with: {'max_depth': 7, 'n_estimators': 50}\n",
      "-0.186 (0.034) with: {'max_depth': 7, 'n_estimators': 100}\n",
      "-0.202 (0.036) with: {'max_depth': 7, 'n_estimators': 200}\n",
      "-0.206 (0.035) with: {'max_depth': 7, 'n_estimators': 300}\n",
      "\n",
      "Best MSE of train set: -0.140 using {'max_depth': 3, 'n_estimators': 50}\n"
     ]
    },
    {
     "name": "stderr",
     "output_type": "stream",
     "text": [
      "[Parallel(n_jobs=1)]: Done 120 out of 120 | elapsed:   16.7s finished\n"
     ]
    }
   ],
   "source": [
    "# Grid Search\n",
    "model = XGBRegressor(random_state=seed)\n",
    "n_estimators = [50, 100, 200, 300]\n",
    "max_depth = [3, 5, 7]\n",
    "param_grid = dict(n_estimators=n_estimators, max_depth=max_depth)\n",
    "best_model_performance(model,param_grid)"
   ]
  },
  {
   "cell_type": "code",
   "execution_count": 22,
   "metadata": {},
   "outputs": [
    {
     "name": "stdout",
     "output_type": "stream",
     "text": [
      "[ 0.38550726  0.30724639  0.11884058  0.0057971   0.12463768  0.0057971\n",
      "  0.01449275  0.03768116]\n"
     ]
    },
    {
     "data": {
      "text/plain": [
       "<matplotlib.axes._subplots.AxesSubplot at 0x1c4fdda6908>"
      ]
     },
     "execution_count": 22,
     "metadata": {},
     "output_type": "execute_result"
    },
    {
     "data": {
      "image/png": "[encoded data removed]",
      "text/plain": [
       "<matplotlib.figure.Figure at 0x1c4ff5e56a0>"
      ]
     },
     "metadata": {},
     "output_type": "display_data"
    }
   ],
   "source": [
    "# Feature Importance\n",
    "from xgboost import plot_importance  \n",
    "model = XGBRegressor(max_depth=3, n_estimators=50, random_state=seed)                      \n",
    "model.fit(X_train,y_train)\n",
    "print(model.feature_importances_)\n",
    "plot_importance(model)"
   ]
  },
  {
   "cell_type": "markdown",
   "metadata": {},
   "source": [
    "#### Model 2: SVM"
   ]
  },
  {
   "cell_type": "code",
   "execution_count": 23,
   "metadata": {},
   "outputs": [
    {
     "name": "stdout",
     "output_type": "stream",
     "text": [
      "{'C': 1.0, 'cache_size': 200, 'coef0': 0.0, 'degree': 3, 'epsilon': 0.1, 'gamma': 'auto', 'kernel': 'rbf', 'max_iter': -1, 'shrinking': True, 'tol': 0.001, 'verbose': False}\n",
      "\n",
      "MSE of train set: -0.160 (0.036)\n"
     ]
    }
   ],
   "source": [
    "# Default\n",
    "model = SVR()\n",
    "default_model_perfomance(model)"
   ]
  },
  {
   "cell_type": "code",
   "execution_count": 24,
   "metadata": {
    "scrolled": true
   },
   "outputs": [
    {
     "name": "stdout",
     "output_type": "stream",
     "text": [
      "Fitting 10 folds for each of 25 candidates, totalling 250 fits\n",
      "-1.106 (0.170) with: {'C': 0.001, 'gamma': 0.001}\n",
      "-1.091 (0.169) with: {'C': 0.001, 'gamma': 0.01}\n",
      "-1.061 (0.167) with: {'C': 0.001, 'gamma': 0.1}\n",
      "-1.103 (0.170) with: {'C': 0.001, 'gamma': 1}\n",
      "-1.108 (0.170) with: {'C': 0.001, 'gamma': 10}\n",
      "-1.088 (0.169) with: {'C': 0.01, 'gamma': 0.001}\n",
      "-0.949 (0.159) with: {'C': 0.01, 'gamma': 0.01}\n",
      "-0.729 (0.132) with: {'C': 0.01, 'gamma': 0.1}\n",
      "-1.064 (0.170) with: {'C': 0.01, 'gamma': 1}\n",
      "-1.104 (0.171) with: {'C': 0.01, 'gamma': 10}\n",
      "-0.924 (0.157) with: {'C': 0.1, 'gamma': 0.001}\n",
      "-0.447 (0.087) with: {'C': 0.1, 'gamma': 0.01}\n",
      "-0.236 (0.042) with: {'C': 0.1, 'gamma': 0.1}\n",
      "-0.770 (0.129) with: {'C': 0.1, 'gamma': 1}\n",
      "-1.076 (0.173) with: {'C': 0.1, 'gamma': 10}\n",
      "-0.442 (0.088) with: {'C': 1, 'gamma': 0.001}\n",
      "-0.211 (0.046) with: {'C': 1, 'gamma': 0.01}\n",
      "-0.160 (0.036) with: {'C': 1, 'gamma': 0.1}\n",
      "-0.304 (0.036) with: {'C': 1, 'gamma': 1}\n",
      "-0.819 (0.142) with: {'C': 1, 'gamma': 10}\n",
      "-0.291 (0.070) with: {'C': 10, 'gamma': 0.001}\n",
      "-0.161 (0.035) with: {'C': 10, 'gamma': 0.01}\n",
      "-0.166 (0.040) with: {'C': 10, 'gamma': 0.1}\n",
      "-0.330 (0.052) with: {'C': 10, 'gamma': 1}\n",
      "-0.748 (0.122) with: {'C': 10, 'gamma': 10}\n",
      "\n",
      "Best MSE of train set: -0.160 using {'C': 1, 'gamma': 0.1}\n"
     ]
    },
    {
     "name": "stderr",
     "output_type": "stream",
     "text": [
      "[Parallel(n_jobs=1)]: Done 250 out of 250 | elapsed:   17.8s finished\n"
     ]
    }
   ],
   "source": [
    "# Grid Search\n",
    "model = SVR()\n",
    "C = [0.001, 0.01, 0.1, 1, 10]\n",
    "gamma = [0.001, 0.01, 0.1, 1, 10]\n",
    "param_grid = dict(C=C,gamma=gamma)\n",
    "best_model_performance(model,param_grid)"
   ]
  },
  {
   "cell_type": "markdown",
   "metadata": {},
   "source": [
    "#### Model 3: RandomForest"
   ]
  },
  {
   "cell_type": "code",
   "execution_count": 25,
   "metadata": {},
   "outputs": [
    {
     "name": "stdout",
     "output_type": "stream",
     "text": [
      "{'bootstrap': True, 'criterion': 'mse', 'max_depth': None, 'max_features': 'auto', 'max_leaf_nodes': None, 'min_impurity_decrease': 0.0, 'min_impurity_split': None, 'min_samples_leaf': 1, 'min_samples_split': 2, 'min_weight_fraction_leaf': 0.0, 'n_estimators': 100, 'n_jobs': 1, 'oob_score': False, 'random_state': 101, 'verbose': 0, 'warm_start': False}\n",
      "\n",
      "MSE of train set: -0.168 (0.033)\n"
     ]
    }
   ],
   "source": [
    "# Default\n",
    "model = RandomForestRegressor(n_estimators=100,random_state=seed)\n",
    "default_model_perfomance(model)"
   ]
  },
  {
   "cell_type": "code",
   "execution_count": 26,
   "metadata": {},
   "outputs": [
    {
     "name": "stdout",
     "output_type": "stream",
     "text": [
      "Fitting 10 folds for each of 3 candidates, totalling 30 fits\n"
     ]
    },
    {
     "name": "stderr",
     "output_type": "stream",
     "text": [
      "[Parallel(n_jobs=1)]: Done  30 out of  30 | elapsed:   23.8s finished\n"
     ]
    },
    {
     "name": "stdout",
     "output_type": "stream",
     "text": [
      "-0.168 (0.033) with: {'n_estimators': 100}\n",
      "-0.167 (0.033) with: {'n_estimators': 200}\n",
      "-0.166 (0.033) with: {'n_estimators': 500}\n",
      "\n",
      "Best MSE of train set: -0.166 using {'n_estimators': 500}\n"
     ]
    }
   ],
   "source": [
    "# Grid Search\n",
    "model = RandomForestRegressor(random_state=seed)\n",
    "n_estimators = [100,200,500]\n",
    "param_grid = dict(n_estimators=n_estimators)\n",
    "best_model_performance(model,param_grid)"
   ]
  },
  {
   "cell_type": "code",
   "execution_count": 27,
   "metadata": {},
   "outputs": [
    {
     "data": {
      "text/plain": [
       "<matplotlib.axes._subplots.AxesSubplot at 0x1c4ffd736d8>"
      ]
     },
     "execution_count": 27,
     "metadata": {},
     "output_type": "execute_result"
    },
    {
     "data": {
      "image/png": "[encoded data removed]",
      "text/plain": [
       "<matplotlib.figure.Figure at 0x1c4ffd73e80>"
      ]
     },
     "metadata": {},
     "output_type": "display_data"
    }
   ],
   "source": [
    "# Feature Importance\n",
    "model = RandomForestRegressor(n_estimators=500,random_state=seed)\n",
    "model.fit(X_train, y_train)\n",
    "pd.DataFrame(data=model.feature_importances_,\n",
    "             index=df.drop('charges',axis=1).columns).plot(kind='bar',legend=False,\n",
    "                                                        title='Feature Importances')"
   ]
  },
  {
   "cell_type": "markdown",
   "metadata": {},
   "source": [
    "#### Model 4: KNN"
   ]
  },
  {
   "cell_type": "code",
   "execution_count": 28,
   "metadata": {},
   "outputs": [
    {
     "name": "stdout",
     "output_type": "stream",
     "text": [
      "{'algorithm': 'auto', 'leaf_size': 30, 'metric': 'minkowski', 'metric_params': None, 'n_jobs': 1, 'n_neighbors': 5, 'p': 2, 'weights': 'uniform'}\n",
      "\n",
      "MSE of train set: -0.217 (0.031)\n"
     ]
    }
   ],
   "source": [
    "# Default\n",
    "model = KNeighborsRegressor()\n",
    "default_model_perfomance(model)"
   ]
  },
  {
   "cell_type": "code",
   "execution_count": 29,
   "metadata": {},
   "outputs": [
    {
     "name": "stdout",
     "output_type": "stream",
     "text": [
      "Fitting 10 folds for each of 5 candidates, totalling 50 fits\n",
      "-0.217 (0.028) with: {'n_neighbors': 3}\n",
      "-0.217 (0.031) with: {'n_neighbors': 5}\n",
      "-0.207 (0.036) with: {'n_neighbors': 7}\n",
      "-0.212 (0.034) with: {'n_neighbors': 9}\n",
      "-0.221 (0.035) with: {'n_neighbors': 15}\n",
      "\n",
      "Best MSE of train set: -0.207 using {'n_neighbors': 7}\n"
     ]
    },
    {
     "name": "stderr",
     "output_type": "stream",
     "text": [
      "[Parallel(n_jobs=1)]: Done  50 out of  50 | elapsed:    0.8s finished\n"
     ]
    }
   ],
   "source": [
    "# Grid Search\n",
    "model = KNeighborsRegressor()\n",
    "n_neighbors = [3,5,7,9,15]\n",
    "param_grid = dict(n_neighbors=n_neighbors)\n",
    "best_model_performance(model,param_grid)"
   ]
  },
  {
   "cell_type": "markdown",
   "metadata": {},
   "source": [
    "## Final Model: XGBoost"
   ]
  },
  {
   "cell_type": "markdown",
   "metadata": {},
   "source": [
    "** Params: n_estimators=50 **"
   ]
  },
  {
   "cell_type": "code",
   "execution_count": 30,
   "metadata": {},
   "outputs": [
    {
     "name": "stdout",
     "output_type": "stream",
     "text": [
      "MSE of train set: 0.116\n",
      "R^2 of train set: 0.884\n"
     ]
    }
   ],
   "source": [
    "final_model = XGBRegressor(n_estimators=50,random_state=seed)\n",
    "final_model.fit(X_train, y_train)\n",
    "print('MSE of train set: {:0.3f}'.format(mean_squared_error(y_train, final_model.predict(X_train))))\n",
    "print('R^2 of train set: {:0.3f}'.format(r2_score(y_train, final_model.predict(X_train))))"
   ]
  },
  {
   "cell_type": "markdown",
   "metadata": {},
   "source": [
    "** Save and load the final model **"
   ]
  },
  {
   "cell_type": "code",
   "execution_count": 31,
   "metadata": {
    "collapsed": true
   },
   "outputs": [],
   "source": [
    "#save model to disk\n",
    "import pickle\n",
    "filename='model.sav'\n",
    "pickle.dump(final_model, open(filename, 'wb'))"
   ]
  },
  {
   "cell_type": "code",
   "execution_count": 32,
   "metadata": {},
   "outputs": [
    {
     "name": "stdout",
     "output_type": "stream",
     "text": [
      "MSE of train set: 0.116\n",
      "R^2 of train set: 0.884\n"
     ]
    }
   ],
   "source": [
    "#load the model from disk\n",
    "final_model = pickle.load(open(filename,'rb'))\n",
    "print('MSE of train set: {:0.3f}'.format(mean_squared_error(y_train, final_model.predict(X_train))))\n",
    "print('R^2 of train set: {:0.3f}'.format(r2_score(y_train, final_model.predict(X_train))))"
   ]
  },
  {
   "cell_type": "markdown",
   "metadata": {},
   "source": [
    "## Model Evaluation with Test set"
   ]
  },
  {
   "cell_type": "code",
   "execution_count": 33,
   "metadata": {},
   "outputs": [
    {
     "name": "stdout",
     "output_type": "stream",
     "text": [
      "MSE of test set: 0.129\n",
      "R^2 of test set: 0.865\n"
     ]
    }
   ],
   "source": [
    "# predict class with test set (new, unseen)\n",
    "y_pred = final_model.predict(X_test)\n",
    "print('MSE of test set: {:0.3f}'.format(mean_squared_error(y_test, final_model.predict(X_test))))\n",
    "print('R^2 of test set: {:0.3f}'.format(r2_score(y_test, final_model.predict(X_test))))"
   ]
  },
  {
   "cell_type": "code",
   "execution_count": 34,
   "metadata": {},
   "outputs": [
    {
     "name": "stdout",
     "output_type": "stream",
     "text": [
      "MSE of test set: 19014394.720\n",
      "R^2 of test set: 0.865\n"
     ]
    }
   ],
   "source": [
    "# to original scale \n",
    "print('MSE of test set: {:0.3f}'\n",
    "      .format(mean_squared_error(sc_y.inverse_transform(y_test),\n",
    "                                 sc_y.inverse_transform(final_model.predict(X_test)))))\n",
    "print('R^2 of test set: {:0.3f}'.format(r2_score(y_test,final_model.predict(X_test))))"
   ]
  },
  {
   "cell_type": "code",
   "execution_count": 35,
   "metadata": {},
   "outputs": [
    {
     "data": {
      "text/plain": [
       "(0, 65000)"
      ]
     },
     "execution_count": 35,
     "metadata": {},
     "output_type": "execute_result"
    },
    {
     "data": {
      "image/png": "[encoded data removed]",
      "text/plain": [
       "<matplotlib.figure.Figure at 0x1c4fcf7c390>"
      ]
     },
     "metadata": {},
     "output_type": "display_data"
    }
   ],
   "source": [
    "maxVal = 65000\n",
    "plt.figure(figsize=(5,5))\n",
    "plt.scatter(sc_y.inverse_transform(y_test),sc_y.inverse_transform(y_pred))\n",
    "plt.plot([0,maxVal], [0,maxVal], '--')\n",
    "plt.title('charges: True vs Predicted')\n",
    "plt.xlabel('True')\n",
    "plt.ylabel('Predicted')\n",
    "plt.xlim([0,maxVal])\n",
    "plt.ylim([0,maxVal])"
   ]
  },
  {
   "cell_type": "code",
   "execution_count": 36,
   "metadata": {},
   "outputs": [
    {
     "data": {
      "text/plain": [
       "(0, 70)"
      ]
     },
     "execution_count": 36,
     "metadata": {},
     "output_type": "execute_result"
    },
    {
     "data": {
      "image/png": "[encoded data removed]",
      "text/plain": [
       "<matplotlib.figure.Figure at 0x1c4ffdf1cc0>"
      ]
     },
     "metadata": {},
     "output_type": "display_data"
    }
   ],
   "source": [
    "sns.distplot((y_test-y_pred.ravel()), bins=50, kde=False, axlabel='Error (True - Pred)')\n",
    "plt.title('charges: Error Distribution')\n",
    "plt.xlim([-3,3])\n",
    "plt.ylim([0,70])"
   ]
  },
  {
   "cell_type": "markdown",
   "metadata": {
    "collapsed": true
   },
   "source": [
    "## Summary"
   ]
  },
  {
   "cell_type": "markdown",
   "metadata": {
    "collapsed": true
   },
   "source": [
    "- Best model: ** XGBoost ** w/ n_estimators=50\n",
    "\n",
    "\n",
    "- RMSE / R2 score of test set: ** $4360 / 0.865 **"
   ]
  }
 ],
 "metadata": {
  "kernelspec": {
   "display_name": "Python 3",
   "language": "python",
   "name": "python3"
  },
  "language_info": {
   "codemirror_mode": {
    "name": "ipython",
    "version": 3
   },
   "file_extension": ".py",
   "mimetype": "text/x-python",
   "name": "python",
   "nbconvert_exporter": "python",
   "pygments_lexer": "ipython3",
   "version": "3.6.3"
  }
 },
 "nbformat": 4,
 "nbformat_minor": 2
}
