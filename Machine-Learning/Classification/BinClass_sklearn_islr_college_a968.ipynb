{
 "cells": [
  {
   "cell_type": "markdown",
   "metadata": {},
   "source": [
    "## Binary Classification: ISLR college data\n",
    "https://cran.r-project.org/web/packages/ISLR/ISLR.pdf\n",
    "https://www.kaggle.com/ishaanv/ISLR-Auto/data\n",
    "\n",
    "** Dataset Information: **\n",
    "\n",
    "777 College information including a flag indicating private or public school\n",
    "\n",
    "** Attribute Information: (17 features and 1 class)**\n",
    "\n",
    "- Private A factor with levels No and Yes indicating private or public university\n",
    "- Apps Number of applications received\n",
    "- Accept Number of applications accepted\n",
    "- Enroll Number of new students enrolled\n",
    "- Top10perc Pct. new students from top 10% of H.S. class\n",
    "- Top25perc Pct. new students from top 25% of H.S. class\n",
    "- F.Undergrad Number of fulltime undergraduates\n",
    "- P.Undergrad Number of parttime undergraduates\n",
    "- Outstate Out-of-state tuition\n",
    "- Room.Board Room and board costs\n",
    "- Books Estimated book costs\n",
    "- Personal Estimated personal spending\n",
    "- PhD Pct. of faculty with Ph.D.’s\n",
    "- Terminal Pct. of faculty with terminal degree\n",
    "- S.F.Ratio Student/faculty ratio\n",
    "- perc.alumni Pct. alumni who donate\n",
    "- Expend Instructional expenditure per student\n",
    "- Grad.Rate Graduation rate\n",
    "\n",
    "** Objective of this project **\n",
    "\n",
    "classify schools as Private or Public based off their features"
   ]
  },
  {
   "cell_type": "markdown",
   "metadata": {},
   "source": [
    "## Data"
   ]
  },
  {
   "cell_type": "code",
   "execution_count": 1,
   "metadata": {
    "collapsed": true
   },
   "outputs": [],
   "source": [
    "# Load libraries\n",
    "import numpy as np\n",
    "import pandas as pd\n",
    "import matplotlib.pyplot as plt\n",
    "import seaborn as sns\n",
    "%matplotlib inline  "
   ]
  },
  {
   "cell_type": "code",
   "execution_count": 2,
   "metadata": {
    "collapsed": true
   },
   "outputs": [],
   "source": [
    "# Load Data\n",
    "df = pd.read_csv('College.csv',index_col=0)"
   ]
  },
  {
   "cell_type": "code",
   "execution_count": 3,
   "metadata": {},
   "outputs": [
    {
     "data": {
      "text/html": [
       "<div>\n",
       "<style>\n",
       "    .dataframe thead tr:only-child th {\n",
       "        text-align: right;\n",
       "    }\n",
       "\n",
       "    .dataframe thead th {\n",
       "        text-align: left;\n",
       "    }\n",
       "\n",
       "    .dataframe tbody tr th {\n",
       "        vertical-align: top;\n",
       "    }\n",
       "</style>\n",
       "<table border=\"1\" class=\"dataframe\">\n",
       "  <thead>\n",
       "    <tr style=\"text-align: right;\">\n",
       "      <th></th>\n",
       "      <th>Private</th>\n",
       "      <th>Apps</th>\n",
       "      <th>Accept</th>\n",
       "      <th>Enroll</th>\n",
       "      <th>Top10perc</th>\n",
       "      <th>Top25perc</th>\n",
       "      <th>F.Undergrad</th>\n",
       "      <th>P.Undergrad</th>\n",
       "      <th>Outstate</th>\n",
       "      <th>Room.Board</th>\n",
       "      <th>Books</th>\n",
       "      <th>Personal</th>\n",
       "      <th>PhD</th>\n",
       "      <th>Terminal</th>\n",
       "      <th>S.F.Ratio</th>\n",
       "      <th>perc.alumni</th>\n",
       "      <th>Expend</th>\n",
       "      <th>Grad.Rate</th>\n",
       "    </tr>\n",
       "  </thead>\n",
       "  <tbody>\n",
       "    <tr>\n",
       "      <th>Abilene Christian University</th>\n",
       "      <td>Yes</td>\n",
       "      <td>1660</td>\n",
       "      <td>1232</td>\n",
       "      <td>721</td>\n",
       "      <td>23</td>\n",
       "      <td>52</td>\n",
       "      <td>2885</td>\n",
       "      <td>537</td>\n",
       "      <td>7440</td>\n",
       "      <td>3300</td>\n",
       "      <td>450</td>\n",
       "      <td>2200</td>\n",
       "      <td>70</td>\n",
       "      <td>78</td>\n",
       "      <td>18.1</td>\n",
       "      <td>12</td>\n",
       "      <td>7041</td>\n",
       "      <td>60</td>\n",
       "    </tr>\n",
       "    <tr>\n",
       "      <th>Adelphi University</th>\n",
       "      <td>Yes</td>\n",
       "      <td>2186</td>\n",
       "      <td>1924</td>\n",
       "      <td>512</td>\n",
       "      <td>16</td>\n",
       "      <td>29</td>\n",
       "      <td>2683</td>\n",
       "      <td>1227</td>\n",
       "      <td>12280</td>\n",
       "      <td>6450</td>\n",
       "      <td>750</td>\n",
       "      <td>1500</td>\n",
       "      <td>29</td>\n",
       "      <td>30</td>\n",
       "      <td>12.2</td>\n",
       "      <td>16</td>\n",
       "      <td>10527</td>\n",
       "      <td>56</td>\n",
       "    </tr>\n",
       "    <tr>\n",
       "      <th>Adrian College</th>\n",
       "      <td>Yes</td>\n",
       "      <td>1428</td>\n",
       "      <td>1097</td>\n",
       "      <td>336</td>\n",
       "      <td>22</td>\n",
       "      <td>50</td>\n",
       "      <td>1036</td>\n",
       "      <td>99</td>\n",
       "      <td>11250</td>\n",
       "      <td>3750</td>\n",
       "      <td>400</td>\n",
       "      <td>1165</td>\n",
       "      <td>53</td>\n",
       "      <td>66</td>\n",
       "      <td>12.9</td>\n",
       "      <td>30</td>\n",
       "      <td>8735</td>\n",
       "      <td>54</td>\n",
       "    </tr>\n",
       "    <tr>\n",
       "      <th>Agnes Scott College</th>\n",
       "      <td>Yes</td>\n",
       "      <td>417</td>\n",
       "      <td>349</td>\n",
       "      <td>137</td>\n",
       "      <td>60</td>\n",
       "      <td>89</td>\n",
       "      <td>510</td>\n",
       "      <td>63</td>\n",
       "      <td>12960</td>\n",
       "      <td>5450</td>\n",
       "      <td>450</td>\n",
       "      <td>875</td>\n",
       "      <td>92</td>\n",
       "      <td>97</td>\n",
       "      <td>7.7</td>\n",
       "      <td>37</td>\n",
       "      <td>19016</td>\n",
       "      <td>59</td>\n",
       "    </tr>\n",
       "    <tr>\n",
       "      <th>Alaska Pacific University</th>\n",
       "      <td>Yes</td>\n",
       "      <td>193</td>\n",
       "      <td>146</td>\n",
       "      <td>55</td>\n",
       "      <td>16</td>\n",
       "      <td>44</td>\n",
       "      <td>249</td>\n",
       "      <td>869</td>\n",
       "      <td>7560</td>\n",
       "      <td>4120</td>\n",
       "      <td>800</td>\n",
       "      <td>1500</td>\n",
       "      <td>76</td>\n",
       "      <td>72</td>\n",
       "      <td>11.9</td>\n",
       "      <td>2</td>\n",
       "      <td>10922</td>\n",
       "      <td>15</td>\n",
       "    </tr>\n",
       "  </tbody>\n",
       "</table>\n",
       "</div>"
      ],
      "text/plain": [
       "                             Private  Apps  Accept  Enroll  Top10perc  \\\n",
       "Abilene Christian University     Yes  1660    1232     721         23   \n",
       "Adelphi University               Yes  2186    1924     512         16   \n",
       "Adrian College                   Yes  1428    1097     336         22   \n",
       "Agnes Scott College              Yes   417     349     137         60   \n",
       "Alaska Pacific University        Yes   193     146      55         16   \n",
       "\n",
       "                              Top25perc  F.Undergrad  P.Undergrad  Outstate  \\\n",
       "Abilene Christian University         52         2885          537      7440   \n",
       "Adelphi University                   29         2683         1227     12280   \n",
       "Adrian College                       50         1036           99     11250   \n",
       "Agnes Scott College                  89          510           63     12960   \n",
       "Alaska Pacific University            44          249          869      7560   \n",
       "\n",
       "                              Room.Board  Books  Personal  PhD  Terminal  \\\n",
       "Abilene Christian University        3300    450      2200   70        78   \n",
       "Adelphi University                  6450    750      1500   29        30   \n",
       "Adrian College                      3750    400      1165   53        66   \n",
       "Agnes Scott College                 5450    450       875   92        97   \n",
       "Alaska Pacific University           4120    800      1500   76        72   \n",
       "\n",
       "                              S.F.Ratio  perc.alumni  Expend  Grad.Rate  \n",
       "Abilene Christian University       18.1           12    7041         60  \n",
       "Adelphi University                 12.2           16   10527         56  \n",
       "Adrian College                     12.9           30    8735         54  \n",
       "Agnes Scott College                 7.7           37   19016         59  \n",
       "Alaska Pacific University          11.9            2   10922         15  "
      ]
     },
     "execution_count": 3,
     "metadata": {},
     "output_type": "execute_result"
    }
   ],
   "source": [
    "# Inspect Data\n",
    "df.head()"
   ]
  },
  {
   "cell_type": "code",
   "execution_count": 7,
   "metadata": {},
   "outputs": [
    {
     "data": {
      "text/plain": [
       "(777, 18)"
      ]
     },
     "execution_count": 7,
     "metadata": {},
     "output_type": "execute_result"
    }
   ],
   "source": [
    "df.shape"
   ]
  },
  {
   "cell_type": "code",
   "execution_count": 9,
   "metadata": {},
   "outputs": [
    {
     "data": {
      "image/png": "[encoded data removed]",
      "text/plain": [
       "<matplotlib.figure.Figure at 0x20510ae4ef0>"
      ]
     },
     "metadata": {},
     "output_type": "display_data"
    }
   ],
   "source": [
    "_ = df.hist(figsize=(12,10))\n",
    "plt.tight_layout()"
   ]
  },
  {
   "cell_type": "code",
   "execution_count": 12,
   "metadata": {},
   "outputs": [
    {
     "name": "stdout",
     "output_type": "stream",
     "text": [
      "<class 'pandas.core.frame.DataFrame'>\n",
      "Index: 777 entries, Abilene Christian University to York College of Pennsylvania\n",
      "Data columns (total 18 columns):\n",
      "Private        777 non-null object\n",
      "Apps           777 non-null int64\n",
      "Accept         777 non-null int64\n",
      "Enroll         777 non-null int64\n",
      "Top10perc      777 non-null int64\n",
      "Top25perc      777 non-null int64\n",
      "F.Undergrad    777 non-null int64\n",
      "P.Undergrad    777 non-null int64\n",
      "Outstate       777 non-null int64\n",
      "Room.Board     777 non-null int64\n",
      "Books          777 non-null int64\n",
      "Personal       777 non-null int64\n",
      "PhD            777 non-null int64\n",
      "Terminal       777 non-null int64\n",
      "S.F.Ratio      777 non-null float64\n",
      "perc.alumni    777 non-null int64\n",
      "Expend         777 non-null int64\n",
      "Grad.Rate      777 non-null int64\n",
      "dtypes: float64(1), int64(16), object(1)\n",
      "memory usage: 135.3+ KB\n"
     ]
    }
   ],
   "source": [
    "df.info()"
   ]
  },
  {
   "cell_type": "code",
   "execution_count": 13,
   "metadata": {},
   "outputs": [
    {
     "data": {
      "text/html": [
       "<div>\n",
       "<style>\n",
       "    .dataframe thead tr:only-child th {\n",
       "        text-align: right;\n",
       "    }\n",
       "\n",
       "    .dataframe thead th {\n",
       "        text-align: left;\n",
       "    }\n",
       "\n",
       "    .dataframe tbody tr th {\n",
       "        vertical-align: top;\n",
       "    }\n",
       "</style>\n",
       "<table border=\"1\" class=\"dataframe\">\n",
       "  <thead>\n",
       "    <tr style=\"text-align: right;\">\n",
       "      <th></th>\n",
       "      <th>Apps</th>\n",
       "      <th>Accept</th>\n",
       "      <th>Enroll</th>\n",
       "      <th>Top10perc</th>\n",
       "      <th>Top25perc</th>\n",
       "      <th>F.Undergrad</th>\n",
       "      <th>P.Undergrad</th>\n",
       "      <th>Outstate</th>\n",
       "      <th>Room.Board</th>\n",
       "      <th>Books</th>\n",
       "      <th>Personal</th>\n",
       "      <th>PhD</th>\n",
       "      <th>Terminal</th>\n",
       "      <th>S.F.Ratio</th>\n",
       "      <th>perc.alumni</th>\n",
       "      <th>Expend</th>\n",
       "      <th>Grad.Rate</th>\n",
       "    </tr>\n",
       "  </thead>\n",
       "  <tbody>\n",
       "    <tr>\n",
       "      <th>count</th>\n",
       "      <td>777.000000</td>\n",
       "      <td>777.000000</td>\n",
       "      <td>777.000000</td>\n",
       "      <td>777.000000</td>\n",
       "      <td>777.000000</td>\n",
       "      <td>777.000000</td>\n",
       "      <td>777.000000</td>\n",
       "      <td>777.000000</td>\n",
       "      <td>777.000000</td>\n",
       "      <td>777.000000</td>\n",
       "      <td>777.000000</td>\n",
       "      <td>777.000000</td>\n",
       "      <td>777.000000</td>\n",
       "      <td>777.000000</td>\n",
       "      <td>777.000000</td>\n",
       "      <td>777.000000</td>\n",
       "      <td>777.00000</td>\n",
       "    </tr>\n",
       "    <tr>\n",
       "      <th>mean</th>\n",
       "      <td>3001.638353</td>\n",
       "      <td>2018.804376</td>\n",
       "      <td>779.972973</td>\n",
       "      <td>27.558559</td>\n",
       "      <td>55.796654</td>\n",
       "      <td>3699.907336</td>\n",
       "      <td>855.298584</td>\n",
       "      <td>10440.669241</td>\n",
       "      <td>4357.526384</td>\n",
       "      <td>549.380952</td>\n",
       "      <td>1340.642214</td>\n",
       "      <td>72.660232</td>\n",
       "      <td>79.702703</td>\n",
       "      <td>14.089704</td>\n",
       "      <td>22.743887</td>\n",
       "      <td>9660.171171</td>\n",
       "      <td>65.46332</td>\n",
       "    </tr>\n",
       "    <tr>\n",
       "      <th>std</th>\n",
       "      <td>3870.201484</td>\n",
       "      <td>2451.113971</td>\n",
       "      <td>929.176190</td>\n",
       "      <td>17.640364</td>\n",
       "      <td>19.804778</td>\n",
       "      <td>4850.420531</td>\n",
       "      <td>1522.431887</td>\n",
       "      <td>4023.016484</td>\n",
       "      <td>1096.696416</td>\n",
       "      <td>165.105360</td>\n",
       "      <td>677.071454</td>\n",
       "      <td>16.328155</td>\n",
       "      <td>14.722359</td>\n",
       "      <td>3.958349</td>\n",
       "      <td>12.391801</td>\n",
       "      <td>5221.768440</td>\n",
       "      <td>17.17771</td>\n",
       "    </tr>\n",
       "    <tr>\n",
       "      <th>min</th>\n",
       "      <td>81.000000</td>\n",
       "      <td>72.000000</td>\n",
       "      <td>35.000000</td>\n",
       "      <td>1.000000</td>\n",
       "      <td>9.000000</td>\n",
       "      <td>139.000000</td>\n",
       "      <td>1.000000</td>\n",
       "      <td>2340.000000</td>\n",
       "      <td>1780.000000</td>\n",
       "      <td>96.000000</td>\n",
       "      <td>250.000000</td>\n",
       "      <td>8.000000</td>\n",
       "      <td>24.000000</td>\n",
       "      <td>2.500000</td>\n",
       "      <td>0.000000</td>\n",
       "      <td>3186.000000</td>\n",
       "      <td>10.00000</td>\n",
       "    </tr>\n",
       "    <tr>\n",
       "      <th>25%</th>\n",
       "      <td>776.000000</td>\n",
       "      <td>604.000000</td>\n",
       "      <td>242.000000</td>\n",
       "      <td>15.000000</td>\n",
       "      <td>41.000000</td>\n",
       "      <td>992.000000</td>\n",
       "      <td>95.000000</td>\n",
       "      <td>7320.000000</td>\n",
       "      <td>3597.000000</td>\n",
       "      <td>470.000000</td>\n",
       "      <td>850.000000</td>\n",
       "      <td>62.000000</td>\n",
       "      <td>71.000000</td>\n",
       "      <td>11.500000</td>\n",
       "      <td>13.000000</td>\n",
       "      <td>6751.000000</td>\n",
       "      <td>53.00000</td>\n",
       "    </tr>\n",
       "    <tr>\n",
       "      <th>50%</th>\n",
       "      <td>1558.000000</td>\n",
       "      <td>1110.000000</td>\n",
       "      <td>434.000000</td>\n",
       "      <td>23.000000</td>\n",
       "      <td>54.000000</td>\n",
       "      <td>1707.000000</td>\n",
       "      <td>353.000000</td>\n",
       "      <td>9990.000000</td>\n",
       "      <td>4200.000000</td>\n",
       "      <td>500.000000</td>\n",
       "      <td>1200.000000</td>\n",
       "      <td>75.000000</td>\n",
       "      <td>82.000000</td>\n",
       "      <td>13.600000</td>\n",
       "      <td>21.000000</td>\n",
       "      <td>8377.000000</td>\n",
       "      <td>65.00000</td>\n",
       "    </tr>\n",
       "    <tr>\n",
       "      <th>75%</th>\n",
       "      <td>3624.000000</td>\n",
       "      <td>2424.000000</td>\n",
       "      <td>902.000000</td>\n",
       "      <td>35.000000</td>\n",
       "      <td>69.000000</td>\n",
       "      <td>4005.000000</td>\n",
       "      <td>967.000000</td>\n",
       "      <td>12925.000000</td>\n",
       "      <td>5050.000000</td>\n",
       "      <td>600.000000</td>\n",
       "      <td>1700.000000</td>\n",
       "      <td>85.000000</td>\n",
       "      <td>92.000000</td>\n",
       "      <td>16.500000</td>\n",
       "      <td>31.000000</td>\n",
       "      <td>10830.000000</td>\n",
       "      <td>78.00000</td>\n",
       "    </tr>\n",
       "    <tr>\n",
       "      <th>max</th>\n",
       "      <td>48094.000000</td>\n",
       "      <td>26330.000000</td>\n",
       "      <td>6392.000000</td>\n",
       "      <td>96.000000</td>\n",
       "      <td>100.000000</td>\n",
       "      <td>31643.000000</td>\n",
       "      <td>21836.000000</td>\n",
       "      <td>21700.000000</td>\n",
       "      <td>8124.000000</td>\n",
       "      <td>2340.000000</td>\n",
       "      <td>6800.000000</td>\n",
       "      <td>103.000000</td>\n",
       "      <td>100.000000</td>\n",
       "      <td>39.800000</td>\n",
       "      <td>64.000000</td>\n",
       "      <td>56233.000000</td>\n",
       "      <td>118.00000</td>\n",
       "    </tr>\n",
       "  </tbody>\n",
       "</table>\n",
       "</div>"
      ],
      "text/plain": [
       "               Apps        Accept       Enroll   Top10perc   Top25perc  \\\n",
       "count    777.000000    777.000000   777.000000  777.000000  777.000000   \n",
       "mean    3001.638353   2018.804376   779.972973   27.558559   55.796654   \n",
       "std     3870.201484   2451.113971   929.176190   17.640364   19.804778   \n",
       "min       81.000000     72.000000    35.000000    1.000000    9.000000   \n",
       "25%      776.000000    604.000000   242.000000   15.000000   41.000000   \n",
       "50%     1558.000000   1110.000000   434.000000   23.000000   54.000000   \n",
       "75%     3624.000000   2424.000000   902.000000   35.000000   69.000000   \n",
       "max    48094.000000  26330.000000  6392.000000   96.000000  100.000000   \n",
       "\n",
       "        F.Undergrad   P.Undergrad      Outstate   Room.Board        Books  \\\n",
       "count    777.000000    777.000000    777.000000   777.000000   777.000000   \n",
       "mean    3699.907336    855.298584  10440.669241  4357.526384   549.380952   \n",
       "std     4850.420531   1522.431887   4023.016484  1096.696416   165.105360   \n",
       "min      139.000000      1.000000   2340.000000  1780.000000    96.000000   \n",
       "25%      992.000000     95.000000   7320.000000  3597.000000   470.000000   \n",
       "50%     1707.000000    353.000000   9990.000000  4200.000000   500.000000   \n",
       "75%     4005.000000    967.000000  12925.000000  5050.000000   600.000000   \n",
       "max    31643.000000  21836.000000  21700.000000  8124.000000  2340.000000   \n",
       "\n",
       "          Personal         PhD    Terminal   S.F.Ratio  perc.alumni  \\\n",
       "count   777.000000  777.000000  777.000000  777.000000   777.000000   \n",
       "mean   1340.642214   72.660232   79.702703   14.089704    22.743887   \n",
       "std     677.071454   16.328155   14.722359    3.958349    12.391801   \n",
       "min     250.000000    8.000000   24.000000    2.500000     0.000000   \n",
       "25%     850.000000   62.000000   71.000000   11.500000    13.000000   \n",
       "50%    1200.000000   75.000000   82.000000   13.600000    21.000000   \n",
       "75%    1700.000000   85.000000   92.000000   16.500000    31.000000   \n",
       "max    6800.000000  103.000000  100.000000   39.800000    64.000000   \n",
       "\n",
       "             Expend  Grad.Rate  \n",
       "count    777.000000  777.00000  \n",
       "mean    9660.171171   65.46332  \n",
       "std     5221.768440   17.17771  \n",
       "min     3186.000000   10.00000  \n",
       "25%     6751.000000   53.00000  \n",
       "50%     8377.000000   65.00000  \n",
       "75%    10830.000000   78.00000  \n",
       "max    56233.000000  118.00000  "
      ]
     },
     "execution_count": 13,
     "metadata": {},
     "output_type": "execute_result"
    }
   ],
   "source": [
    "df.describe()"
   ]
  },
  {
   "cell_type": "code",
   "execution_count": 4,
   "metadata": {},
   "outputs": [
    {
     "data": {
      "text/plain": [
       "Yes    565\n",
       "No     212\n",
       "Name: Private, dtype: int64"
      ]
     },
     "execution_count": 4,
     "metadata": {},
     "output_type": "execute_result"
    }
   ],
   "source": [
    "df['Private'].value_counts() #imbalanced classes-->stratify"
   ]
  },
  {
   "cell_type": "code",
   "execution_count": 16,
   "metadata": {},
   "outputs": [
    {
     "data": {
      "text/plain": [
       "Private        False\n",
       "Apps           False\n",
       "Accept         False\n",
       "Enroll         False\n",
       "Top10perc      False\n",
       "Top25perc      False\n",
       "F.Undergrad    False\n",
       "P.Undergrad    False\n",
       "Outstate       False\n",
       "Room.Board     False\n",
       "Books          False\n",
       "Personal       False\n",
       "PhD            False\n",
       "Terminal       False\n",
       "S.F.Ratio      False\n",
       "perc.alumni    False\n",
       "Expend         False\n",
       "Grad.Rate      False\n",
       "dtype: bool"
      ]
     },
     "execution_count": 16,
     "metadata": {},
     "output_type": "execute_result"
    }
   ],
   "source": [
    "df.isnull().any()"
   ]
  },
  {
   "cell_type": "markdown",
   "metadata": {},
   "source": [
    "## Data preprocessing"
   ]
  },
  {
   "cell_type": "code",
   "execution_count": 5,
   "metadata": {
    "collapsed": true
   },
   "outputs": [],
   "source": [
    "seed = 101 #random seed for reproducibility\n",
    "np.random.seed(seed)"
   ]
  },
  {
   "cell_type": "markdown",
   "metadata": {},
   "source": [
    "** Split Features & Class **"
   ]
  },
  {
   "cell_type": "code",
   "execution_count": 6,
   "metadata": {},
   "outputs": [
    {
     "name": "stdout",
     "output_type": "stream",
     "text": [
      "(777, 17) (777,)\n"
     ]
    }
   ],
   "source": [
    "X = df.drop('Private',axis=1).values\n",
    "y = df['Private'].values\n",
    "print(X.shape,y.shape)"
   ]
  },
  {
   "cell_type": "markdown",
   "metadata": {},
   "source": [
    "** Split Train Test Sets **"
   ]
  },
  {
   "cell_type": "code",
   "execution_count": 7,
   "metadata": {},
   "outputs": [
    {
     "name": "stdout",
     "output_type": "stream",
     "text": [
      "(621, 17) (156, 17) (621,) (156,)\n"
     ]
    }
   ],
   "source": [
    "from sklearn.model_selection import train_test_split\n",
    "X_train, X_test, y_train, y_test = train_test_split(X, y, test_size=0.2, \n",
    "                                                    stratify=y,random_state=seed)\n",
    "print(X_train.shape, X_test.shape, y_train.shape, y_test.shape)"
   ]
  },
  {
   "cell_type": "code",
   "execution_count": 8,
   "metadata": {},
   "outputs": [
    {
     "data": {
      "text/plain": [
       "(array(['No', 'Yes'], dtype=object), array([169, 452], dtype=int64))"
      ]
     },
     "execution_count": 8,
     "metadata": {},
     "output_type": "execute_result"
    }
   ],
   "source": [
    "np.unique(y_train,return_counts=True) #similar ratio to original class"
   ]
  },
  {
   "cell_type": "markdown",
   "metadata": {},
   "source": [
    "** Scale features **"
   ]
  },
  {
   "cell_type": "code",
   "execution_count": 9,
   "metadata": {
    "collapsed": true
   },
   "outputs": [],
   "source": [
    "from sklearn.preprocessing import StandardScaler\n",
    "sc = StandardScaler()\n",
    "X_train = sc.fit_transform(X_train)\n",
    "X_test = sc.transform(X_test)"
   ]
  },
  {
   "cell_type": "markdown",
   "metadata": {},
   "source": [
    "## Baseline Models"
   ]
  },
  {
   "cell_type": "code",
   "execution_count": 10,
   "metadata": {
    "collapsed": true
   },
   "outputs": [],
   "source": [
    "# Import libraries\n",
    "from sklearn.model_selection import StratifiedKFold,cross_val_score,GridSearchCV\n",
    "from sklearn.linear_model import LogisticRegression\n",
    "from sklearn.discriminant_analysis import LinearDiscriminantAnalysis\n",
    "from sklearn.neighbors import KNeighborsClassifier\n",
    "from sklearn.naive_bayes import GaussianNB\n",
    "from sklearn.tree import DecisionTreeClassifier\n",
    "from sklearn.svm import SVC\n",
    "from sklearn.ensemble import RandomForestClassifier\n",
    "from xgboost import XGBClassifier"
   ]
  },
  {
   "cell_type": "code",
   "execution_count": 11,
   "metadata": {
    "collapsed": true
   },
   "outputs": [],
   "source": [
    "models = []\n",
    "#linear\n",
    "models.append(('LR', LogisticRegression()))\n",
    "models.append(('LDA', LinearDiscriminantAnalysis()))\n",
    "#non-linear\n",
    "models.append(('KNN', KNeighborsClassifier()))\n",
    "models.append(('NB', GaussianNB()))\n",
    "models.append(('DT', DecisionTreeClassifier()))\n",
    "models.append(('SVM', SVC()))\n",
    "#ensemble\n",
    "models.append(('RF', RandomForestClassifier(n_estimators=100,random_state=seed)))\n",
    "models.append(('XGB', XGBClassifier(random_state=seed)))"
   ]
  },
  {
   "cell_type": "code",
   "execution_count": 12,
   "metadata": {},
   "outputs": [
    {
     "name": "stdout",
     "output_type": "stream",
     "text": [
      "Accuracy: mean +/- std\n",
      "LR: 93.4% +/- 3.2%\n",
      "LDA: 93.2% +/- 2.2%\n",
      "KNN: 92.3% +/- 3.9%\n",
      "NB: 90.7% +/- 2.7%\n",
      "DT: 90.7% +/- 2.7%\n",
      "SVM: 92.6% +/- 2.1%\n",
      "RF: 93.7% +/- 2.5%\n",
      "XGB: 94.2% +/- 2.3%\n"
     ]
    },
    {
     "data": {
      "text/plain": [
       "Text(0,0.5,'Accuracy')"
      ]
     },
     "execution_count": 12,
     "metadata": {},
     "output_type": "execute_result"
    },
    {
     "data": {
      "image/png": "[encoded data removed]",
      "text/plain": [
       "<matplotlib.figure.Figure at 0x27ed3d38518>"
      ]
     },
     "metadata": {},
     "output_type": "display_data"
    }
   ],
   "source": [
    "# cross validation\n",
    "np.random.seed(seed)\n",
    "kfold = StratifiedKFold(n_splits=10, random_state=seed)\n",
    "scoring = 'accuracy'\n",
    "names = []\n",
    "results = []\n",
    "print('Accuracy: mean +/- std')\n",
    "for name,model in models:\n",
    "    cv_results = cross_val_score(model, X_train, y_train, \n",
    "                                 cv=kfold, scoring=scoring)\n",
    "    results.append(cv_results)\n",
    "    names.append(name)    \n",
    "    print('{}: {:0.1f}% +/- {:0.1f}%'.format(name, cv_results.mean()*100, \n",
    "                                             cv_results.std()*100))\n",
    "\n",
    "# visualize results\n",
    "ax = sns.boxplot(data=results)\n",
    "ax.set_xticklabels(names)\n",
    "plt.title('Model Comparison')\n",
    "plt.ylabel('Accuracy')"
   ]
  },
  {
   "cell_type": "markdown",
   "metadata": {},
   "source": [
    "## Parameter Tuning\n",
    "try to improve 4 top algorithms: XGB, RF, LR, LDA"
   ]
  },
  {
   "cell_type": "markdown",
   "metadata": {},
   "source": [
    "#### Model 1: XGBoost"
   ]
  },
  {
   "cell_type": "code",
   "execution_count": 15,
   "metadata": {},
   "outputs": [
    {
     "name": "stdout",
     "output_type": "stream",
     "text": [
      "{'base_score': 0.5, 'booster': 'gbtree', 'colsample_bylevel': 1, 'colsample_bytree': 1, 'gamma': 0, 'learning_rate': 0.1, 'max_delta_step': 0, 'max_depth': 3, 'min_child_weight': 1, 'missing': None, 'n_estimators': 100, 'n_jobs': 1, 'nthread': None, 'objective': 'binary:logistic', 'random_state': 101, 'reg_alpha': 0, 'reg_lambda': 1, 'scale_pos_weight': 1, 'seed': None, 'silent': True, 'subsample': 1}\n",
      "\n",
      "\n",
      "Accuracy of test set: 94.9%\n"
     ]
    }
   ],
   "source": [
    "# Default\n",
    "model = XGBClassifier(n_estimators=100,random_state=seed)\n",
    "model.fit(X_train,y_train)\n",
    "print(model.get_params())\n",
    "print('\\n')\n",
    "print('Accuracy of test set: {:0.1f}%'.format(model.score(X_test,y_test)*100))"
   ]
  },
  {
   "cell_type": "code",
   "execution_count": 28,
   "metadata": {},
   "outputs": [
    {
     "name": "stdout",
     "output_type": "stream",
     "text": [
      "Fitting 10 folds for each of 12 candidates, totalling 120 fits\n",
      "0.942029 (0.030038) with: {'learning_rate': 1, 'max_depth': 3, 'n_estimators': 200}\n",
      "0.942029 (0.030038) with: {'learning_rate': 1, 'max_depth': 3, 'n_estimators': 250}\n",
      "0.943639 (0.026339) with: {'learning_rate': 1, 'max_depth': 4, 'n_estimators': 200}\n",
      "0.945250 (0.027254) with: {'learning_rate': 1, 'max_depth': 4, 'n_estimators': 250}\n",
      "0.948470 (0.024945) with: {'learning_rate': 0.5, 'max_depth': 3, 'n_estimators': 200}\n",
      "0.946860 (0.026220) with: {'learning_rate': 0.5, 'max_depth': 3, 'n_estimators': 250}\n",
      "0.942029 (0.034019) with: {'learning_rate': 0.5, 'max_depth': 4, 'n_estimators': 200}\n",
      "0.943639 (0.032492) with: {'learning_rate': 0.5, 'max_depth': 4, 'n_estimators': 250}\n",
      "0.948470 (0.023705) with: {'learning_rate': 0.3, 'max_depth': 3, 'n_estimators': 200}\n",
      "0.946860 (0.022874) with: {'learning_rate': 0.3, 'max_depth': 3, 'n_estimators': 250}\n",
      "0.948470 (0.023783) with: {'learning_rate': 0.3, 'max_depth': 4, 'n_estimators': 200}\n",
      "0.948470 (0.023783) with: {'learning_rate': 0.3, 'max_depth': 4, 'n_estimators': 250}\n",
      "\n",
      "\n",
      "Best accuracy of training set: 94.8% using {'learning_rate': 0.5, 'max_depth': 3, 'n_estimators': 200}\n",
      "Accuracy of test set: 94.2%\n"
     ]
    },
    {
     "name": "stderr",
     "output_type": "stream",
     "text": [
      "[Parallel(n_jobs=1)]: Done 120 out of 120 | elapsed:   14.3s finished\n"
     ]
    }
   ],
   "source": [
    "# Grid Search\n",
    "model = XGBClassifier(random_state=seed)\n",
    "\n",
    "# parameters\n",
    "n_estimators = [200,250]\n",
    "max_depth = [3,4]\n",
    "learning_rate = [1, 0.5,0.3]\n",
    "param_grid = dict(n_estimators=n_estimators, max_depth=max_depth, \n",
    "                  learning_rate=learning_rate)\n",
    "param_grid\n",
    "\n",
    "# grid search\n",
    "kfold = StratifiedKFold(n_splits=10, random_state=seed)\n",
    "grid_search = GridSearchCV(model, param_grid=param_grid, \n",
    "                          cv=kfold, verbose=0)\n",
    "grid_result = grid_search.fit(X_train,y_train)\n",
    "\n",
    "# results\n",
    "means = grid_result.cv_results_['mean_test_score']\n",
    "stds = grid_result.cv_results_['std_test_score']\n",
    "params = grid_result.cv_results_['params']\n",
    "for mean, stdev, param in zip(means, stds, params):\n",
    "    print(\"%f (%f) with: %r\" % (mean, stdev, param))\n",
    "# best\n",
    "print('\\n')\n",
    "print(\"Best accuracy of training set: %.1f%% using %s\" % (grid_result.best_score_*100, grid_result.best_params_))\n",
    "# test set\n",
    "print('Accuracy of test set: {:0.1f}%'.format(grid_result.score(X_test,y_test)*100))"
   ]
  },
  {
   "cell_type": "code",
   "execution_count": 29,
   "metadata": {},
   "outputs": [
    {
     "name": "stdout",
     "output_type": "stream",
     "text": [
      "[ 0.02991453  0.03418804  0.01923077  0.03418804  0.0534188   0.11752137\n",
      "  0.02777778  0.11752137  0.07692308  0.04273504  0.09615385  0.06623932\n",
      "  0.05555556  0.06837607  0.05769231  0.04700855  0.05555556]\n"
     ]
    },
    {
     "data": {
      "text/plain": [
       "<matplotlib.axes._subplots.AxesSubplot at 0x20523677978>"
      ]
     },
     "execution_count": 29,
     "metadata": {},
     "output_type": "execute_result"
    },
    {
     "data": {
      "image/png": "[encoded data removed]",
      "text/plain": [
       "<matplotlib.figure.Figure at 0x20522fd36d8>"
      ]
     },
     "metadata": {},
     "output_type": "display_data"
    }
   ],
   "source": [
    "# Feature Importance\n",
    "from xgboost import plot_importance  \n",
    "model = XGBClassifier(learning_rate=0.5, max_depth=3, n_estimators=200, \n",
    "                      random_state=seed)\n",
    "model.fit(X_train,y_train)\n",
    "print(model.feature_importances_)\n",
    "plot_importance(model)"
   ]
  },
  {
   "cell_type": "markdown",
   "metadata": {},
   "source": [
    "#### Model 2: RandomForest"
   ]
  },
  {
   "cell_type": "code",
   "execution_count": 16,
   "metadata": {},
   "outputs": [
    {
     "name": "stdout",
     "output_type": "stream",
     "text": [
      "{'bootstrap': True, 'class_weight': None, 'criterion': 'gini', 'max_depth': None, 'max_features': 'auto', 'max_leaf_nodes': None, 'min_impurity_decrease': 0.0, 'min_impurity_split': None, 'min_samples_leaf': 1, 'min_samples_split': 2, 'min_weight_fraction_leaf': 0.0, 'n_estimators': 100, 'n_jobs': 1, 'oob_score': False, 'random_state': 101, 'verbose': 0, 'warm_start': False}\n",
      "\n",
      "\n",
      "Accuracy of test set: 96.2%\n"
     ]
    }
   ],
   "source": [
    "# Default\n",
    "model = RandomForestClassifier(n_estimators=100,random_state=seed)\n",
    "model.fit(X_train,y_train)\n",
    "print(model.get_params())\n",
    "print('\\n')\n",
    "print('Accuracy of test set: {:0.1f}%'.format(model.score(X_test,y_test)*100))"
   ]
  },
  {
   "cell_type": "code",
   "execution_count": 44,
   "metadata": {},
   "outputs": [
    {
     "name": "stdout",
     "output_type": "stream",
     "text": [
      "Fitting 10 folds for each of 4 candidates, totalling 40 fits\n"
     ]
    },
    {
     "name": "stderr",
     "output_type": "stream",
     "text": [
      "[Parallel(n_jobs=1)]: Done  40 out of  40 | elapsed:   12.7s finished\n"
     ]
    },
    {
     "name": "stdout",
     "output_type": "stream",
     "text": [
      "0.937198 (0.025160) with: {'n_estimators': 100}\n",
      "0.938808 (0.025570) with: {'n_estimators': 150}\n",
      "0.938808 (0.025570) with: {'n_estimators': 200}\n",
      "0.938808 (0.026567) with: {'n_estimators': 250}\n",
      "\n",
      "\n",
      "Best accuracy of training set: 93.9% using {'n_estimators': 150}\n",
      "Accuracy of test set: 96.8%\n"
     ]
    }
   ],
   "source": [
    "# Grid Search\n",
    "model = RandomForestClassifier(random_state=seed)\n",
    "\n",
    "# parameters\n",
    "n_estimators = [100,150,200,250]\n",
    "param_grid = dict(n_estimators=n_estimators)\n",
    "param_grid\n",
    "\n",
    "# grid search\n",
    "np.random.seed(seed)\n",
    "kfold = StratifiedKFold(n_splits=10, random_state=seed)\n",
    "grid_search = GridSearchCV(model, param_grid=param_grid, \n",
    "                          cv=kfold, verbose=1)\n",
    "grid_result = grid_search.fit(X_train,y_train)\n",
    "\n",
    "# results\n",
    "means = grid_result.cv_results_['mean_test_score']\n",
    "stds = grid_result.cv_results_['std_test_score']\n",
    "params = grid_result.cv_results_['params']\n",
    "for mean, stdev, param in zip(means, stds, params):\n",
    "    print(\"%f (%f) with: %r\" % (mean, stdev, param))\n",
    "# best\n",
    "print('\\n')\n",
    "print(\"Best accuracy of training set: %.1f%% using %s\" % (grid_result.best_score_*100, grid_result.best_params_))\n",
    "# test set\n",
    "print('Accuracy of test set: {:0.1f}%'.format(grid_result.score(X_test,y_test)*100))"
   ]
  },
  {
   "cell_type": "code",
   "execution_count": 38,
   "metadata": {},
   "outputs": [
    {
     "data": {
      "text/plain": [
       "<matplotlib.axes._subplots.AxesSubplot at 0x20524f194a8>"
      ]
     },
     "execution_count": 38,
     "metadata": {},
     "output_type": "execute_result"
    },
    {
     "data": {
      "image/png": "[encoded data removed]",
      "text/plain": [
       "<matplotlib.figure.Figure at 0x20524f519e8>"
      ]
     },
     "metadata": {},
     "output_type": "display_data"
    }
   ],
   "source": [
    "# Feature Importance\n",
    "model = RandomForestClassifier(max_depth=4,n_estimators=100,random_state=seed)\n",
    "model.fit(X_train, y_train)\n",
    "pd.DataFrame(data=model.feature_importances_,\n",
    "             index=df.drop('Private',axis=1).columns).plot(kind='bar',legend=False,\n",
    "                                                        title='Feature Importances')"
   ]
  },
  {
   "cell_type": "markdown",
   "metadata": {},
   "source": [
    "#### Model 3: Logistic Regression"
   ]
  },
  {
   "cell_type": "code",
   "execution_count": 39,
   "metadata": {},
   "outputs": [
    {
     "name": "stdout",
     "output_type": "stream",
     "text": [
      "{'C': 1.0, 'class_weight': None, 'dual': False, 'fit_intercept': True, 'intercept_scaling': 1, 'max_iter': 100, 'multi_class': 'ovr', 'n_jobs': 1, 'penalty': 'l2', 'random_state': None, 'solver': 'liblinear', 'tol': 0.0001, 'verbose': 0, 'warm_start': False}\n",
      "\n",
      "\n",
      "Accuracy of test set: 94.9%\n"
     ]
    }
   ],
   "source": [
    "# Default\n",
    "model = LogisticRegression()\n",
    "model.fit(X_train,y_train)\n",
    "print(model.get_params())\n",
    "print('\\n')\n",
    "print('Accuracy of test set: {:0.1f}%'.format(model.score(X_test,y_test)*100))"
   ]
  },
  {
   "cell_type": "code",
   "execution_count": 40,
   "metadata": {},
   "outputs": [
    {
     "name": "stdout",
     "output_type": "stream",
     "text": [
      "Fitting 10 folds for each of 12 candidates, totalling 120 fits\n",
      "0.932367 (0.029006) with: {'C': 1.0, 'penalty': 'l1'}\n",
      "0.933977 (0.032216) with: {'C': 1.0, 'penalty': 'l2'}\n",
      "0.933977 (0.023498) with: {'C': 0.5, 'penalty': 'l1'}\n",
      "0.932367 (0.025171) with: {'C': 0.5, 'penalty': 'l2'}\n",
      "0.929147 (0.020889) with: {'C': 0.2, 'penalty': 'l1'}\n",
      "0.925926 (0.027694) with: {'C': 0.2, 'penalty': 'l2'}\n",
      "0.938808 (0.025715) with: {'C': 0.1, 'penalty': 'l1'}\n",
      "0.925926 (0.027694) with: {'C': 0.1, 'penalty': 'l2'}\n",
      "0.933977 (0.027311) with: {'C': 0.05, 'penalty': 'l1'}\n",
      "0.925926 (0.024574) with: {'C': 0.05, 'penalty': 'l2'}\n",
      "0.911433 (0.041125) with: {'C': 0.01, 'penalty': 'l1'}\n",
      "0.929147 (0.025438) with: {'C': 0.01, 'penalty': 'l2'}\n",
      "\n",
      "\n",
      "Best accuracy of training set: 93.9% using {'C': 0.1, 'penalty': 'l1'}\n",
      "Accuracy of test set: 94.9%\n"
     ]
    },
    {
     "name": "stderr",
     "output_type": "stream",
     "text": [
      "[Parallel(n_jobs=1)]: Done 120 out of 120 | elapsed:    0.4s finished\n"
     ]
    }
   ],
   "source": [
    "# Grid Search\n",
    "model = LogisticRegression()\n",
    "\n",
    "# parameters\n",
    "penalty = ['l1','l2'] \n",
    "C = [1.0, 0.5, 0.2, 0.1, 0.05, 0.01]\n",
    "param_grid = dict(penalty=penalty, C=C)\n",
    "param_grid\n",
    "\n",
    "# grid search\n",
    "np.random.seed(seed)\n",
    "kfold = StratifiedKFold(n_splits=10, random_state=seed)\n",
    "grid_search = GridSearchCV(model, param_grid=param_grid, \n",
    "                          cv=kfold, verbose=1)\n",
    "grid_result = grid_search.fit(X_train,y_train)\n",
    "\n",
    "# results\n",
    "means = grid_result.cv_results_['mean_test_score']\n",
    "stds = grid_result.cv_results_['std_test_score']\n",
    "params = grid_result.cv_results_['params']\n",
    "for mean, stdev, param in zip(means, stds, params):\n",
    "    print(\"%f (%f) with: %r\" % (mean, stdev, param))\n",
    "# best\n",
    "print('\\n')\n",
    "print(\"Best accuracy of training set: %.1f%% using %s\" % (grid_result.best_score_*100, grid_result.best_params_))\n",
    "# test set\n",
    "print('Accuracy of test set: {:0.1f}%'.format(grid_result.score(X_test,y_test)*100))"
   ]
  },
  {
   "cell_type": "markdown",
   "metadata": {},
   "source": [
    "#### Model 4: Linear Discriminant Analysis"
   ]
  },
  {
   "cell_type": "code",
   "execution_count": 41,
   "metadata": {},
   "outputs": [
    {
     "name": "stdout",
     "output_type": "stream",
     "text": [
      "{'n_components': None, 'priors': None, 'shrinkage': None, 'solver': 'svd', 'store_covariance': False, 'tol': 0.0001}\n",
      "\n",
      "\n",
      "Accuracy of test set: 94.9%\n"
     ]
    }
   ],
   "source": [
    "# Default\n",
    "model = LinearDiscriminantAnalysis()\n",
    "model.fit(X_train,y_train)\n",
    "print(model.get_params())\n",
    "print('\\n')\n",
    "print('Accuracy of test set: {:0.1f}%'.format(model.score(X_test,y_test)*100))"
   ]
  },
  {
   "cell_type": "code",
   "execution_count": 42,
   "metadata": {},
   "outputs": [
    {
     "name": "stdout",
     "output_type": "stream",
     "text": [
      "Fitting 10 folds for each of 8 candidates, totalling 80 fits\n",
      "0.932367 (0.021525) with: {'solver': 'svd'}\n",
      "0.930757 (0.024210) with: {'shrinkage': 0, 'solver': 'lsqr'}\n",
      "0.924316 (0.023144) with: {'shrinkage': 0.2, 'solver': 'lsqr'}\n",
      "0.925926 (0.023259) with: {'shrinkage': 0.4, 'solver': 'lsqr'}\n",
      "0.924316 (0.025032) with: {'shrinkage': 0.6, 'solver': 'lsqr'}\n",
      "0.916264 (0.026825) with: {'shrinkage': 0.8, 'solver': 'lsqr'}\n",
      "0.914654 (0.026097) with: {'shrinkage': 0.9, 'solver': 'lsqr'}\n",
      "0.909823 (0.023351) with: {'shrinkage': 1.0, 'solver': 'lsqr'}\n",
      "\n",
      "\n",
      "Best accuracy of training set: 93.2% using {'solver': 'svd'}\n",
      "Accuracy of test set: 94.9%\n"
     ]
    },
    {
     "name": "stderr",
     "output_type": "stream",
     "text": [
      "[Parallel(n_jobs=1)]: Done  80 out of  80 | elapsed:    0.3s finished\n"
     ]
    }
   ],
   "source": [
    "# Grid Search\n",
    "model = LinearDiscriminantAnalysis()\n",
    "\n",
    "# parameters\n",
    "shrinkage = [0, 0.2, 0.4, 0.6, 0.8, 0.9, 1.0]\n",
    "param_grid = [dict(solver=['svd']),dict(solver=['lsqr'], shrinkage=shrinkage)]\n",
    "param_grid\n",
    "\n",
    "# grid search\n",
    "np.random.seed(seed)\n",
    "kfold = StratifiedKFold(n_splits=10, random_state=seed)\n",
    "grid_search = GridSearchCV(model, param_grid=param_grid, \n",
    "                          cv=kfold, verbose=1)\n",
    "grid_result = grid_search.fit(X_train,y_train)\n",
    "\n",
    "# results\n",
    "means = grid_result.cv_results_['mean_test_score']\n",
    "stds = grid_result.cv_results_['std_test_score']\n",
    "params = grid_result.cv_results_['params']\n",
    "for mean, stdev, param in zip(means, stds, params):\n",
    "    print(\"%f (%f) with: %r\" % (mean, stdev, param))\n",
    "# best\n",
    "print('\\n')\n",
    "print(\"Best accuracy of training set: %.1f%% using %s\" % (grid_result.best_score_*100, grid_result.best_params_))\n",
    "# test set\n",
    "print('Accuracy of test set: {:0.1f}%'.format(grid_result.score(X_test,y_test)*100))"
   ]
  },
  {
   "cell_type": "markdown",
   "metadata": {},
   "source": [
    "## Final Model: RandomForest(n_estimators=150)"
   ]
  },
  {
   "cell_type": "markdown",
   "metadata": {},
   "source": [
    "** Final Model **"
   ]
  },
  {
   "cell_type": "code",
   "execution_count": 17,
   "metadata": {},
   "outputs": [
    {
     "name": "stdout",
     "output_type": "stream",
     "text": [
      "Accuracy of training set: 100.0%\n"
     ]
    }
   ],
   "source": [
    "model = RandomForestClassifier(n_estimators=150,random_state=seed)\n",
    "model.fit(X_train, y_train)\n",
    "accuracy = model.score(X_train, y_train)\n",
    "print('Accuracy of training set: {:0.1f}%'.format(accuracy*100))"
   ]
  },
  {
   "cell_type": "markdown",
   "metadata": {},
   "source": [
    "** Save and load the final model **"
   ]
  },
  {
   "cell_type": "code",
   "execution_count": 19,
   "metadata": {
    "collapsed": true
   },
   "outputs": [],
   "source": [
    "#save model to disk\n",
    "import pickle\n",
    "filename='model.sav'\n",
    "pickle.dump(model, open(filename, 'wb'))"
   ]
  },
  {
   "cell_type": "code",
   "execution_count": 20,
   "metadata": {},
   "outputs": [
    {
     "name": "stdout",
     "output_type": "stream",
     "text": [
      "Accuracy of training set: 100.0%\n"
     ]
    }
   ],
   "source": [
    "#load the model from disk\n",
    "model = pickle.load(open(filename,'rb'))\n",
    "accuracy = model.score(X_train, y_train)\n",
    "print('Accuracy of training set: {:0.1f}%'.format(accuracy*100))"
   ]
  },
  {
   "cell_type": "markdown",
   "metadata": {},
   "source": [
    "** Classification report & Confusion Matrix **"
   ]
  },
  {
   "cell_type": "code",
   "execution_count": 21,
   "metadata": {},
   "outputs": [
    {
     "name": "stdout",
     "output_type": "stream",
     "text": [
      "             precision    recall  f1-score   support\n",
      "\n",
      "         No       1.00      1.00      1.00       169\n",
      "        Yes       1.00      1.00      1.00       452\n",
      "\n",
      "avg / total       1.00      1.00      1.00       621\n",
      "\n"
     ]
    },
    {
     "data": {
      "image/png": "[encoded data removed]",
      "text/plain": [
       "<matplotlib.figure.Figure at 0x27ed36ea240>"
      ]
     },
     "metadata": {},
     "output_type": "display_data"
    }
   ],
   "source": [
    "from sklearn.metrics import confusion_matrix,classification_report,accuracy_score\n",
    "#classification report\n",
    "print(classification_report(y_train, model.predict(X_train)))\n",
    "\n",
    "#confusion matrix\n",
    "confmat = confusion_matrix(y_train, model.predict(X_train))\n",
    "\n",
    "fig, ax = plt.subplots(figsize=(2.5, 2.5))\n",
    "ax.matshow(confmat, cmap=plt.cm.Blues, alpha=0.3)\n",
    "for i in range(confmat.shape[0]):\n",
    "    for j in range(confmat.shape[1]):\n",
    "        ax.text(x=j, y=i, s=confmat[i, j], va='center', ha='center')\n",
    "plt.xlabel('Predicted label')\n",
    "plt.ylabel('True label')\n",
    "plt.tight_layout()"
   ]
  },
  {
   "cell_type": "markdown",
   "metadata": {},
   "source": [
    "## Model Evaluation with Test set"
   ]
  },
  {
   "cell_type": "code",
   "execution_count": 23,
   "metadata": {},
   "outputs": [
    {
     "name": "stdout",
     "output_type": "stream",
     "text": [
      "Accuracy of test set: 96.8%\n"
     ]
    }
   ],
   "source": [
    "# predict class with test set (new, unseen)\n",
    "y_pred = model.predict(X_test)\n",
    "print('Accuracy of test set: {:0.1f}%'.format(accuracy_score(y_test,y_pred)*100))"
   ]
  },
  {
   "cell_type": "code",
   "execution_count": 24,
   "metadata": {},
   "outputs": [
    {
     "name": "stdout",
     "output_type": "stream",
     "text": [
      "             precision    recall  f1-score   support\n",
      "\n",
      "         No       0.97      0.91      0.94        43\n",
      "        Yes       0.97      0.99      0.98       113\n",
      "\n",
      "avg / total       0.97      0.97      0.97       156\n",
      "\n"
     ]
    },
    {
     "data": {
      "image/png": "[encoded data removed]",
      "text/plain": [
       "<matplotlib.figure.Figure at 0x27ed3913240>"
      ]
     },
     "metadata": {},
     "output_type": "display_data"
    }
   ],
   "source": [
    "#classification report\n",
    "print(classification_report(y_test, model.predict(X_test)))\n",
    "\n",
    "#confusion matrix\n",
    "confmat = confusion_matrix(y_test, model.predict(X_test))\n",
    "\n",
    "fig, ax = plt.subplots(figsize=(2.5, 2.5))\n",
    "ax.matshow(confmat, cmap=plt.cm.Blues, alpha=0.3)\n",
    "for i in range(confmat.shape[0]):\n",
    "    for j in range(confmat.shape[1]):\n",
    "        ax.text(x=j, y=i, s=confmat[i, j], va='center', ha='center')\n",
    "plt.xlabel('Predicted label')\n",
    "plt.ylabel('True label')\n",
    "plt.tight_layout()"
   ]
  },
  {
   "cell_type": "markdown",
   "metadata": {
    "collapsed": true
   },
   "source": [
    "## Summary"
   ]
  },
  {
   "cell_type": "markdown",
   "metadata": {
    "collapsed": true
   },
   "source": [
    "Best model: ** RandomForest ** w/param: n_estimators=150\n",
    "\n",
    "Accuracy of test set: ** 96.8% **"
   ]
  },
  {
   "cell_type": "code",
   "execution_count": null,
   "metadata": {
    "collapsed": true
   },
   "outputs": [],
   "source": []
  }
 ],
 "metadata": {
  "kernelspec": {
   "display_name": "Python 3",
   "language": "python",
   "name": "python3"
  },
  "language_info": {
   "codemirror_mode": {
    "name": "ipython",
    "version": 3
   },
   "file_extension": ".py",
   "mimetype": "text/x-python",
   "name": "python",
   "nbconvert_exporter": "python",
   "pygments_lexer": "ipython3",
   "version": "3.6.3"
  }
 },
 "nbformat": 4,
 "nbformat_minor": 2
}
