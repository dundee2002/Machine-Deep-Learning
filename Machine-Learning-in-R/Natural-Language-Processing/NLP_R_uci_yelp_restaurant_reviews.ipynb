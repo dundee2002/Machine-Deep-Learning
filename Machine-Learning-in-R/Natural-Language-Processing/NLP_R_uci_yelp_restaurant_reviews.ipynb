{
 "cells": [
  {
   "cell_type": "markdown",
   "metadata": {},
   "source": [
    "## NLP & Binary Classification: Yelp Reviews\n",
    "https://archive.ics.uci.edu/ml/datasets/Sentiment+Labelled+Sentences#\n",
    "\n",
    "** Dataset Information: **\n",
    "\n",
    "1000 sentences labelled with positive or negative sentiment from yelp.com \n",
    "\n",
    "** Attribute Information: (1 features and 1 class)**\n",
    "\n",
    "- Sentences\t\n",
    "- Score : 1 (for positive) or 0 (for negative)\t\n",
    "\n",
    "** Objective of this project **\n",
    "\n",
    "predict sentiment (positive or negative) from sentences"
   ]
  },
  {
   "cell_type": "markdown",
   "metadata": {},
   "source": [
    "## Data"
   ]
  },
  {
   "cell_type": "code",
   "execution_count": 18,
   "metadata": {},
   "outputs": [],
   "source": [
    "options(warn=-1)\n",
    "# Load Data\n",
    "df_original  <- read.delim('yelp_labelled.txt', quote = '',\n",
    "                           stringsAsFactors = FALSE,header=FALSE)\n",
    "colnames(df_original) = c('text','label')"
   ]
  },
  {
   "cell_type": "code",
   "execution_count": 19,
   "metadata": {
    "scrolled": true
   },
   "outputs": [
    {
     "data": {
      "text/html": [
       "<table>\n",
       "<thead><tr><th scope=col>text</th><th scope=col>label</th></tr></thead>\n",
       "<tbody>\n",
       "\t<tr><td>Wow... Loved this place.                                                               </td><td>1                                                                                      </td></tr>\n",
       "\t<tr><td>Crust is not good.                                                                     </td><td>0                                                                                      </td></tr>\n",
       "\t<tr><td>Not tasty and the texture was just nasty.                                              </td><td>0                                                                                      </td></tr>\n",
       "\t<tr><td>Stopped by during the late May bank holiday off Rick Steve recommendation and loved it.</td><td>1                                                                                      </td></tr>\n",
       "\t<tr><td>The selection on the menu was great and so were the prices.                            </td><td>1                                                                                      </td></tr>\n",
       "\t<tr><td>Now I am getting angry and I want my damn pho.                                         </td><td>0                                                                                      </td></tr>\n",
       "</tbody>\n",
       "</table>\n"
      ],
      "text/latex": [
       "\\begin{tabular}{r|ll}\n",
       " text & label\\\\\n",
       "\\hline\n",
       "\t Wow... Loved this place.                                                                & 1                                                                                      \\\\\n",
       "\t Crust is not good.                                                                      & 0                                                                                      \\\\\n",
       "\t Not tasty and the texture was just nasty.                                               & 0                                                                                      \\\\\n",
       "\t Stopped by during the late May bank holiday off Rick Steve recommendation and loved it. & 1                                                                                      \\\\\n",
       "\t The selection on the menu was great and so were the prices.                             & 1                                                                                      \\\\\n",
       "\t Now I am getting angry and I want my damn pho.                                          & 0                                                                                      \\\\\n",
       "\\end{tabular}\n"
      ],
      "text/markdown": [
       "\n",
       "text | label | \n",
       "|---|---|---|---|---|---|\n",
       "| Wow... Loved this place.                                                                | 1                                                                                       | \n",
       "| Crust is not good.                                                                      | 0                                                                                       | \n",
       "| Not tasty and the texture was just nasty.                                               | 0                                                                                       | \n",
       "| Stopped by during the late May bank holiday off Rick Steve recommendation and loved it. | 1                                                                                       | \n",
       "| The selection on the menu was great and so were the prices.                             | 1                                                                                       | \n",
       "| Now I am getting angry and I want my damn pho.                                          | 0                                                                                       | \n",
       "\n",
       "\n"
      ],
      "text/plain": [
       "  text                                                                                   \n",
       "1 Wow... Loved this place.                                                               \n",
       "2 Crust is not good.                                                                     \n",
       "3 Not tasty and the texture was just nasty.                                              \n",
       "4 Stopped by during the late May bank holiday off Rick Steve recommendation and loved it.\n",
       "5 The selection on the menu was great and so were the prices.                            \n",
       "6 Now I am getting angry and I want my damn pho.                                         \n",
       "  label\n",
       "1 1    \n",
       "2 0    \n",
       "3 0    \n",
       "4 1    \n",
       "5 1    \n",
       "6 0    "
      ]
     },
     "metadata": {},
     "output_type": "display_data"
    }
   ],
   "source": [
    "# Inspect Data\n",
    "head(df_original)"
   ]
  },
  {
   "cell_type": "code",
   "execution_count": 20,
   "metadata": {},
   "outputs": [
    {
     "data": {
      "text/html": [
       "<ol class=list-inline>\n",
       "\t<li>1000</li>\n",
       "\t<li>2</li>\n",
       "</ol>\n"
      ],
      "text/latex": [
       "\\begin{enumerate*}\n",
       "\\item 1000\n",
       "\\item 2\n",
       "\\end{enumerate*}\n"
      ],
      "text/markdown": [
       "1. 1000\n",
       "2. 2\n",
       "\n",
       "\n"
      ],
      "text/plain": [
       "[1] 1000    2"
      ]
     },
     "metadata": {},
     "output_type": "display_data"
    }
   ],
   "source": [
    "dim(df_original)"
   ]
  },
  {
   "cell_type": "code",
   "execution_count": 21,
   "metadata": {},
   "outputs": [
    {
     "name": "stdout",
     "output_type": "stream",
     "text": [
      "'data.frame':\t1000 obs. of  2 variables:\n",
      " $ text : chr  \"Wow... Loved this place.\" \"Crust is not good.\" \"Not tasty and the texture was just nasty.\" \"Stopped by during the late May bank holiday off Rick Steve recommendation and loved it.\" ...\n",
      " $ label: int  1 0 0 1 1 0 0 0 1 1 ...\n"
     ]
    }
   ],
   "source": [
    "str(df_original)"
   ]
  },
  {
   "cell_type": "code",
   "execution_count": 22,
   "metadata": {},
   "outputs": [
    {
     "data": {
      "text/plain": [
       "     text               label    \n",
       " Length:1000        Min.   :0.0  \n",
       " Class :character   1st Qu.:0.0  \n",
       " Mode  :character   Median :0.5  \n",
       "                    Mean   :0.5  \n",
       "                    3rd Qu.:1.0  \n",
       "                    Max.   :1.0  "
      ]
     },
     "metadata": {},
     "output_type": "display_data"
    }
   ],
   "source": [
    "summary(df_original)"
   ]
  },
  {
   "cell_type": "code",
   "execution_count": 23,
   "metadata": {},
   "outputs": [
    {
     "data": {
      "text/plain": [
       "\n",
       "  0   1 \n",
       "500 500 "
      ]
     },
     "metadata": {},
     "output_type": "display_data"
    }
   ],
   "source": [
    "table(df_original$label)"
   ]
  },
  {
   "cell_type": "markdown",
   "metadata": {},
   "source": [
    "## Data preprocessing"
   ]
  },
  {
   "cell_type": "markdown",
   "metadata": {},
   "source": [
    "** Clean Text **"
   ]
  },
  {
   "cell_type": "code",
   "execution_count": 24,
   "metadata": {},
   "outputs": [],
   "source": [
    "library(tm)\n",
    "library(SnowballC)\n",
    "corpus = VCorpus(VectorSource(df_original$text))\n",
    "corpus = tm_map(corpus, content_transformer(tolower))\n",
    "corpus = tm_map(corpus, removeNumbers)\n",
    "corpus = tm_map(corpus, removePunctuation)\n",
    "corpus = tm_map(corpus, removeWords, stopwords())\n",
    "corpus = tm_map(corpus, stemDocument)\n",
    "corpus = tm_map(corpus, stripWhitespace)"
   ]
  },
  {
   "cell_type": "markdown",
   "metadata": {},
   "source": [
    "** Creat Bag-Of-Words model **"
   ]
  },
  {
   "cell_type": "code",
   "execution_count": 25,
   "metadata": {},
   "outputs": [
    {
     "data": {
      "text/html": [
       "<ol class=list-inline>\n",
       "\t<li>1000</li>\n",
       "\t<li>691</li>\n",
       "</ol>\n"
      ],
      "text/latex": [
       "\\begin{enumerate*}\n",
       "\\item 1000\n",
       "\\item 691\n",
       "\\end{enumerate*}\n"
      ],
      "text/markdown": [
       "1. 1000\n",
       "2. 691\n",
       "\n",
       "\n"
      ],
      "text/plain": [
       "[1] 1000  691"
      ]
     },
     "metadata": {},
     "output_type": "display_data"
    },
    {
     "data": {
      "text/html": [
       "<ol class=list-inline>\n",
       "\t<li>1000</li>\n",
       "\t<li>692</li>\n",
       "</ol>\n"
      ],
      "text/latex": [
       "\\begin{enumerate*}\n",
       "\\item 1000\n",
       "\\item 692\n",
       "\\end{enumerate*}\n"
      ],
      "text/markdown": [
       "1. 1000\n",
       "2. 692\n",
       "\n",
       "\n"
      ],
      "text/plain": [
       "[1] 1000  692"
      ]
     },
     "metadata": {},
     "output_type": "display_data"
    }
   ],
   "source": [
    "dtm = DocumentTermMatrix(corpus)\n",
    "dtm = removeSparseTerms(dtm, 0.999)\n",
    "df = as.data.frame(as.matrix(dtm))\n",
    "dim(df)\n",
    "df$label = df_original$label\n",
    "dim(df)"
   ]
  },
  {
   "cell_type": "markdown",
   "metadata": {},
   "source": [
    "** Encode label **"
   ]
  },
  {
   "cell_type": "code",
   "execution_count": 26,
   "metadata": {},
   "outputs": [],
   "source": [
    "df$label = factor(df$label, levels = c(0, 1))\n",
    "label_col = 692"
   ]
  },
  {
   "cell_type": "code",
   "execution_count": 27,
   "metadata": {},
   "outputs": [],
   "source": [
    "library(caTools)\n",
    "library(caret)\n",
    "seed = 101 #random seed for reproducibility\n",
    "set.seed(seed) "
   ]
  },
  {
   "cell_type": "markdown",
   "metadata": {},
   "source": [
    "** Split Train Test Sets **"
   ]
  },
  {
   "cell_type": "code",
   "execution_count": 28,
   "metadata": {
    "collapsed": true
   },
   "outputs": [],
   "source": [
    "split = sample.split(df$label, SplitRatio = 0.80)\n",
    "train_set = subset(df, split == TRUE)\n",
    "test_set = subset(df, split == FALSE)"
   ]
  },
  {
   "cell_type": "markdown",
   "metadata": {},
   "source": [
    "## Model Train /  Evaluation"
   ]
  },
  {
   "cell_type": "code",
   "execution_count": 29,
   "metadata": {},
   "outputs": [],
   "source": [
    "# Fit randomForest to the Test set\n",
    "library(randomForest)\n",
    "model = randomForest(x = train_set[-label_col],\n",
    "                     y = train_set$label,\n",
    "                     ntree = 200)"
   ]
  },
  {
   "cell_type": "code",
   "execution_count": 30,
   "metadata": {},
   "outputs": [
    {
     "data": {
      "text/plain": [
       "Confusion Matrix and Statistics\n",
       "\n",
       "          Reference\n",
       "Prediction  0  1\n",
       "         0 77 24\n",
       "         1 23 76\n",
       "                                       \n",
       "               Accuracy : 0.765        \n",
       "                 95% CI : (0.7, 0.8219)\n",
       "    No Information Rate : 0.5          \n",
       "    P-Value [Acc > NIR] : 1.354e-14    \n",
       "                                       \n",
       "                  Kappa : 0.53         \n",
       " Mcnemar's Test P-Value : 1            \n",
       "                                       \n",
       "            Sensitivity : 0.7700       \n",
       "            Specificity : 0.7600       \n",
       "         Pos Pred Value : 0.7624       \n",
       "         Neg Pred Value : 0.7677       \n",
       "             Prevalence : 0.5000       \n",
       "         Detection Rate : 0.3850       \n",
       "   Detection Prevalence : 0.5050       \n",
       "      Balanced Accuracy : 0.7650       \n",
       "                                       \n",
       "       'Positive' Class : 0            \n",
       "                                       "
      ]
     },
     "metadata": {},
     "output_type": "display_data"
    }
   ],
   "source": [
    "# Make predictions\n",
    "predictions = predict(model, newdata = test_set[-label_col])\n",
    "# Evaluate the results\n",
    "confusionMatrix(predictions, test_set$label)"
   ]
  }
 ],
 "metadata": {
  "kernelspec": {
   "display_name": "R",
   "language": "R",
   "name": "ir"
  },
  "language_info": {
   "codemirror_mode": "r",
   "file_extension": ".r",
   "mimetype": "text/x-r-source",
   "name": "R",
   "pygments_lexer": "r",
   "version": "3.4.3"
  }
 },
 "nbformat": 4,
 "nbformat_minor": 2
}
