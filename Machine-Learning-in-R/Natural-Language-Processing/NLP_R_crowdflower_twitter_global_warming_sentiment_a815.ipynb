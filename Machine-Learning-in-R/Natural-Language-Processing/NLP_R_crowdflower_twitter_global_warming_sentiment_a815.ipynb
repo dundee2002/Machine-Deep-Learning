{
 "cells": [
  {
   "cell_type": "markdown",
   "metadata": {},
   "source": [
    "## NLP & Binary Classification: Twitter Global Warming sentiment data\n",
    "https://www.crowdflower.com/data-for-everyone/\n",
    "\n",
    "** Dataset Information: **\n",
    "\n",
    "- 6090 tweets for belief in the existence of global warming or climate change. “Yes” if the tweet suggests global warming is occurring, “No” if not occurring, \n",
    "\n",
    "** Attribute Information:**\n",
    "\n",
    "- tweet                   \n",
    "- existence             \n",
    "- existence.confidence                   \n",
    "\n",
    "** Objective of this project **\n",
    "\n",
    "- predict global warming sentiment (Yes or no) from tweets"
   ]
  },
  {
   "cell_type": "markdown",
   "metadata": {},
   "source": [
    "## Data"
   ]
  },
  {
   "cell_type": "code",
   "execution_count": 1,
   "metadata": {
    "collapsed": true
   },
   "outputs": [],
   "source": [
    "options(warn=-1)\n",
    "# Load Data\n",
    "df_original <- read.csv('1377884570_tweet_global_warming.csv', stringsAsFactors = FALSE)"
   ]
  },
  {
   "cell_type": "code",
   "execution_count": 2,
   "metadata": {
    "scrolled": true
   },
   "outputs": [
    {
     "data": {
      "text/html": [
       "<table>\n",
       "<thead><tr><th scope=col>tweet</th><th scope=col>existence</th><th scope=col>existence.confidence</th></tr></thead>\n",
       "<tbody>\n",
       "\t<tr><td>Global warming report urges governments to act|BRUSSELS, Belgium (AP) - The world faces increased hunger and .. [link]     </td><td>Yes                                                                                                                        </td><td>1.0000                                                                                                                     </td></tr>\n",
       "\t<tr><td>Fighting poverty and global warming in Africa [link]                                                                       </td><td>Yes                                                                                                                        </td><td>1.0000                                                                                                                     </td></tr>\n",
       "\t<tr><td>Carbon offsets: How a Vatican forest failed to reduce global warming [link]                                                </td><td>Yes                                                                                                                        </td><td>0.8786                                                                                                                     </td></tr>\n",
       "\t<tr><td>Carbon offsets: How a Vatican forest failed to reduce global warming [link]                                                </td><td>Yes                                                                                                                        </td><td>1.0000                                                                                                                     </td></tr>\n",
       "\t<tr><td>URUGUAY: Tools Needed for Those Most Vulnerable to Climate Change [link]                                                   </td><td>Yes                                                                                                                        </td><td>0.8087                                                                                                                     </td></tr>\n",
       "\t<tr><td>RT @sejorg: RT @JaymiHeimbuch: Ocean Saltiness Shows Global Warming Is Intensifying Our Water Cycle [link]                 </td><td>Yes                                                                                                                        </td><td>1.0000                                                                                                                     </td></tr>\n",
       "\t<tr><td>Global warming evidence all around us|A message to global warming deniers and doubters: Just look around our .. [link]     </td><td>Yes                                                                                                                        </td><td>1.0000                                                                                                                     </td></tr>\n",
       "\t<tr><td>Migratory Birds' New Climate Change Strategy: Stay Home [link]                                                             </td><td>Yes                                                                                                                        </td><td>1.0000                                                                                                                     </td></tr>\n",
       "\t<tr><td>Southern Africa: Competing for Limpopo Water: Climate change will bring higher temperatures to Southe... [link]            </td><td>Yes                                                                                                                        </td><td>1.0000                                                                                                                     </td></tr>\n",
       "\t<tr><td>Global warming to impact wheat, rice production in India|Ludhiana, Apr 18 : Scarcity of water will have a serious .. [link]</td><td>Yes                                                                                                                        </td><td>1.0000                                                                                                                     </td></tr>\n",
       "</tbody>\n",
       "</table>\n"
      ],
      "text/latex": [
       "\\begin{tabular}{r|lll}\n",
       " tweet & existence & existence.confidence\\\\\n",
       "\\hline\n",
       "\t Global warming report urges governments to act\\textbar{}BRUSSELS, Belgium (AP) - The world faces increased hunger and .. {[}link{]}      & Yes                                                                                                                                       & 1.0000                                                                                                                                   \\\\\n",
       "\t Fighting poverty and global warming in Africa {[}link{]}                                                                        & Yes                                                                                                                             & 1.0000                                                                                                                         \\\\\n",
       "\t Carbon offsets: How a Vatican forest failed to reduce global warming {[}link{]}                                                 & Yes                                                                                                                             & 0.8786                                                                                                                         \\\\\n",
       "\t Carbon offsets: How a Vatican forest failed to reduce global warming {[}link{]}                                                 & Yes                                                                                                                             & 1.0000                                                                                                                         \\\\\n",
       "\t URUGUAY: Tools Needed for Those Most Vulnerable to Climate Change {[}link{]}                                                    & Yes                                                                                                                             & 0.8087                                                                                                                         \\\\\n",
       "\t RT @sejorg: RT @JaymiHeimbuch: Ocean Saltiness Shows Global Warming Is Intensifying Our Water Cycle {[}link{]}                  & Yes                                                                                                                             & 1.0000                                                                                                                         \\\\\n",
       "\t Global warming evidence all around us\\textbar{}A message to global warming deniers and doubters: Just look around our .. {[}link{]}      & Yes                                                                                                                                       & 1.0000                                                                                                                                   \\\\\n",
       "\t Migratory Birds' New Climate Change Strategy: Stay Home {[}link{]}                                                              & Yes                                                                                                                             & 1.0000                                                                                                                         \\\\\n",
       "\t Southern Africa: Competing for Limpopo Water: Climate change will bring higher temperatures to Southe... {[}link{]}             & Yes                                                                                                                             & 1.0000                                                                                                                         \\\\\n",
       "\t Global warming to impact wheat, rice production in India\\textbar{}Ludhiana, Apr 18 : Scarcity of water will have a serious .. {[}link{]} & Yes                                                                                                                                       & 1.0000                                                                                                                                   \\\\\n",
       "\\end{tabular}\n"
      ],
      "text/markdown": [
       "\n",
       "tweet | existence | existence.confidence | \n",
       "|---|---|---|---|---|---|---|---|---|---|\n",
       "| Global warming report urges governments to act|BRUSSELS, Belgium (AP) - The world faces increased hunger and .. [link]      | Yes                                                                                                                         | 1.0000                                                                                                                      | \n",
       "| Fighting poverty and global warming in Africa [link]                                                                        | Yes                                                                                                                         | 1.0000                                                                                                                      | \n",
       "| Carbon offsets: How a Vatican forest failed to reduce global warming [link]                                                 | Yes                                                                                                                         | 0.8786                                                                                                                      | \n",
       "| Carbon offsets: How a Vatican forest failed to reduce global warming [link]                                                 | Yes                                                                                                                         | 1.0000                                                                                                                      | \n",
       "| URUGUAY: Tools Needed for Those Most Vulnerable to Climate Change [link]                                                    | Yes                                                                                                                         | 0.8087                                                                                                                      | \n",
       "| RT @sejorg: RT @JaymiHeimbuch: Ocean Saltiness Shows Global Warming Is Intensifying Our Water Cycle [link]                  | Yes                                                                                                                         | 1.0000                                                                                                                      | \n",
       "| Global warming evidence all around us|A message to global warming deniers and doubters: Just look around our .. [link]      | Yes                                                                                                                         | 1.0000                                                                                                                      | \n",
       "| Migratory Birds' New Climate Change Strategy: Stay Home [link]                                                              | Yes                                                                                                                         | 1.0000                                                                                                                      | \n",
       "| Southern Africa: Competing for Limpopo Water: Climate change will bring higher temperatures to Southe... [link]             | Yes                                                                                                                         | 1.0000                                                                                                                      | \n",
       "| Global warming to impact wheat, rice production in India|Ludhiana, Apr 18 : Scarcity of water will have a serious .. [link] | Yes                                                                                                                         | 1.0000                                                                                                                      | \n",
       "\n",
       "\n"
      ],
      "text/plain": [
       "   tweet                                                                                                                      \n",
       "1  Global warming report urges governments to act|BRUSSELS, Belgium (AP) - The world faces increased hunger and .. [link]     \n",
       "2  Fighting poverty and global warming in Africa [link]                                                                       \n",
       "3  Carbon offsets: How a Vatican forest failed to reduce global warming [link]                                                \n",
       "4  Carbon offsets: How a Vatican forest failed to reduce global warming [link]                                                \n",
       "5  URUGUAY: Tools Needed for Those Most Vulnerable to Climate Change [link]                                                   \n",
       "6  RT @sejorg: RT @JaymiHeimbuch: Ocean Saltiness Shows Global Warming Is Intensifying Our Water Cycle [link]                 \n",
       "7  Global warming evidence all around us|A message to global warming deniers and doubters: Just look around our .. [link]     \n",
       "8  Migratory Birds' New Climate Change Strategy: Stay Home [link]                                                             \n",
       "9  Southern Africa: Competing for Limpopo Water: Climate change will bring higher temperatures to Southe... [link]            \n",
       "10 Global warming to impact wheat, rice production in India|Ludhiana, Apr 18 : Scarcity of water will have a serious .. [link]\n",
       "   existence existence.confidence\n",
       "1  Yes       1.0000              \n",
       "2  Yes       1.0000              \n",
       "3  Yes       0.8786              \n",
       "4  Yes       1.0000              \n",
       "5  Yes       0.8087              \n",
       "6  Yes       1.0000              \n",
       "7  Yes       1.0000              \n",
       "8  Yes       1.0000              \n",
       "9  Yes       1.0000              \n",
       "10 Yes       1.0000              "
      ]
     },
     "metadata": {},
     "output_type": "display_data"
    }
   ],
   "source": [
    "# Inspect Data\n",
    "head(df_original,10)"
   ]
  },
  {
   "cell_type": "code",
   "execution_count": 3,
   "metadata": {},
   "outputs": [
    {
     "data": {
      "text/html": [
       "<ol class=list-inline>\n",
       "\t<li>6090</li>\n",
       "\t<li>3</li>\n",
       "</ol>\n"
      ],
      "text/latex": [
       "\\begin{enumerate*}\n",
       "\\item 6090\n",
       "\\item 3\n",
       "\\end{enumerate*}\n"
      ],
      "text/markdown": [
       "1. 6090\n",
       "2. 3\n",
       "\n",
       "\n"
      ],
      "text/plain": [
       "[1] 6090    3"
      ]
     },
     "metadata": {},
     "output_type": "display_data"
    }
   ],
   "source": [
    "dim(df_original)"
   ]
  },
  {
   "cell_type": "code",
   "execution_count": 4,
   "metadata": {},
   "outputs": [
    {
     "name": "stdout",
     "output_type": "stream",
     "text": [
      "'data.frame':\t6090 obs. of  3 variables:\n",
      " $ tweet               : chr  \"Global warming report urges governments to act|BRUSSELS, Belgium (AP) - The world faces increased hunger and .. [link]\" \"Fighting poverty and global warming in Africa [link]\" \"Carbon offsets: How a Vatican forest failed to reduce global warming [link]\" \"Carbon offsets: How a Vatican forest failed to reduce global warming [link]\" ...\n",
      " $ existence           : chr  \"Yes\" \"Yes\" \"Yes\" \"Yes\" ...\n",
      " $ existence.confidence: num  1 1 0.879 1 0.809 ...\n"
     ]
    }
   ],
   "source": [
    "str(df_original)"
   ]
  },
  {
   "cell_type": "code",
   "execution_count": 5,
   "metadata": {},
   "outputs": [
    {
     "data": {
      "text/plain": [
       "    tweet            existence         existence.confidence\n",
       " Length:6090        Length:6090        Min.   :0.3346      \n",
       " Class :character   Class :character   1st Qu.:0.6585      \n",
       " Mode  :character   Mode  :character   Median :0.7076      \n",
       "                                       Mean   :0.7945      \n",
       "                                       3rd Qu.:1.0000      \n",
       "                                       Max.   :1.0000      \n",
       "                                       NA's   :3           "
      ]
     },
     "metadata": {},
     "output_type": "display_data"
    }
   ],
   "source": [
    "summary(df_original)"
   ]
  },
  {
   "cell_type": "code",
   "execution_count": 6,
   "metadata": {},
   "outputs": [
    {
     "data": {
      "text/plain": [
       "\n",
       "        N  N/A   No    Y  Yes \n",
       "   3 1053  469   61 2554  557 "
      ]
     },
     "metadata": {},
     "output_type": "display_data"
    }
   ],
   "source": [
    "table(df_original$existence)"
   ]
  },
  {
   "cell_type": "markdown",
   "metadata": {},
   "source": [
    "## Exploratory Data Analysis"
   ]
  },
  {
   "cell_type": "code",
   "execution_count": 7,
   "metadata": {
    "scrolled": false
   },
   "outputs": [
    {
     "name": "stderr",
     "output_type": "stream",
     "text": [
      "Loading required package: Rcpp\n",
      "## \n",
      "## Amelia II: Multiple Imputation\n",
      "## (Version 1.7.4, built: 2015-12-05)\n",
      "## Copyright (C) 2005-2018 James Honaker, Gary King and Matthew Blackwell\n",
      "## Refer to http://gking.harvard.edu/amelia/ for more information\n",
      "## \n"
     ]
    },
    {
     "data": {
      "image/png": "[encoded data removed]",
      "text/plain": [
       "Plot with title \"Missings Map\""
      ]
     },
     "metadata": {},
     "output_type": "display_data"
    }
   ],
   "source": [
    "library(Amelia)\n",
    "missmap(df_original, main='Missings Map', col=c(\"yellow\", \"black\"), legend=FALSE)"
   ]
  },
  {
   "cell_type": "code",
   "execution_count": 8,
   "metadata": {
    "collapsed": true
   },
   "outputs": [],
   "source": [
    "# drop na\n",
    "df_original[df_original == 'N/A']  <- NA\n",
    "df_original <- df_original[complete.cases(df_original), ]"
   ]
  },
  {
   "cell_type": "code",
   "execution_count": 9,
   "metadata": {},
   "outputs": [
    {
     "data": {
      "text/plain": [
       "\n",
       "   1    0 \n",
       "3111 1114 "
      ]
     },
     "metadata": {},
     "output_type": "display_data"
    }
   ],
   "source": [
    "# Encoding categorical data\n",
    "df_original[df_original == 'Yes']  <- 'Y'\n",
    "df_original[df_original == 'No']  <- 'N'\n",
    "df_original$label = factor(df_original$existence,\n",
    "                         levels = c('Y', 'N'),\n",
    "                         labels = c(1, 0))\n",
    "table(df_original$label)"
   ]
  },
  {
   "cell_type": "code",
   "execution_count": 10,
   "metadata": {},
   "outputs": [
    {
     "data": {
      "text/plain": [
       "    tweet            existence         existence.confidence label   \n",
       " Length:4225        Length:4225        Min.   :0.3434       1:3111  \n",
       " Class :character   Class :character   1st Qu.:0.6597       0:1114  \n",
       " Mode  :character   Mode  :character   Median :0.7242               \n",
       "                                       Mean   :0.8060               \n",
       "                                       3rd Qu.:1.0000               \n",
       "                                       Max.   :1.0000               "
      ]
     },
     "metadata": {},
     "output_type": "display_data"
    }
   ],
   "source": [
    "summary(df_original)"
   ]
  },
  {
   "cell_type": "code",
   "execution_count": 11,
   "metadata": {},
   "outputs": [
    {
     "name": "stderr",
     "output_type": "stream",
     "text": [
      "Loading required package: NLP\n"
     ]
    }
   ],
   "source": [
    "# text mining\n",
    "library(tm)\n",
    "library(SnowballC)\n",
    "\n",
    "clean_tweet = gsub(\"&amp\", \" \", df_original$tweet)\n",
    "clean_tweet = gsub(\"\\\\[link]\", \" \", clean_tweet)\n",
    "clean_tweet = gsub(\"(f|ht)tp(s?)://\\\\S+\", \" \", clean_tweet)\n",
    "clean_tweet = gsub(\"(RT|via)((?:\\\\b\\\\W*@\\\\w+)+)\", \" \", clean_tweet)\n",
    "clean_tweet = gsub(\"@\\\\w+\", \" \", clean_tweet)\n",
    "clean_tweet = gsub(\"#\\\\w+\", \" \", clean_tweet)\n",
    "clean_tweet = gsub(\"[^a-zA-Z]\", \" \", clean_tweet)\n",
    "\n",
    "corpus = VCorpus(VectorSource(clean_tweet))\n",
    "corpus = tm_map(corpus, content_transformer(tolower))\n",
    "corpus = tm_map(corpus, removeWords, c(stopwords(\"english\"),\"will\",\"can\"))\n",
    "\n",
    "dtm = TermDocumentMatrix(corpus)\n",
    "m <- as.matrix(dtm)\n",
    "v <- sort(rowSums(m),decreasing=TRUE)\n",
    "d <- data.frame(word = names(v),freq=v)"
   ]
  },
  {
   "cell_type": "code",
   "execution_count": 12,
   "metadata": {},
   "outputs": [
    {
     "data": {
      "image/png": "[encoded data removed]",
      "text/plain": [
       "Plot with title \"Most frequent words\""
      ]
     },
     "metadata": {},
     "output_type": "display_data"
    }
   ],
   "source": [
    "# top 10 spam words\n",
    "barplot(d[1:10,]$freq, las = 2, names.arg = d[1:10,]$word,\n",
    "        col =\"lightblue\", main =\"Most frequent words\",\n",
    "        ylab = \"Word frequencies\")"
   ]
  },
  {
   "cell_type": "code",
   "execution_count": 13,
   "metadata": {},
   "outputs": [
    {
     "name": "stderr",
     "output_type": "stream",
     "text": [
      "Loading required package: RColorBrewer\n"
     ]
    },
    {
     "data": {
      "image/png": "[encoded data removed]",
      "text/plain": [
       "plot without title"
      ]
     },
     "metadata": {},
     "output_type": "display_data"
    }
   ],
   "source": [
    "# wordcloud\n",
    "library(wordcloud)\n",
    "library(RColorBrewer)\n",
    "wordcloud(words = d$word, freq = d$freq, scale=c(3,.9), min.freq = 3,\n",
    "          max.words=200, random.order=FALSE, rot.per=0.35, \n",
    "          colors=brewer.pal(8, \"Dark2\"))"
   ]
  },
  {
   "cell_type": "markdown",
   "metadata": {},
   "source": [
    "## Data preprocessing"
   ]
  },
  {
   "cell_type": "markdown",
   "metadata": {},
   "source": [
    "** Create Bag-Of-Words model **"
   ]
  },
  {
   "cell_type": "code",
   "execution_count": 14,
   "metadata": {},
   "outputs": [
    {
     "data": {
      "text/html": [
       "<ol class=list-inline>\n",
       "\t<li>4225</li>\n",
       "\t<li>1331</li>\n",
       "</ol>\n"
      ],
      "text/latex": [
       "\\begin{enumerate*}\n",
       "\\item 4225\n",
       "\\item 1331\n",
       "\\end{enumerate*}\n"
      ],
      "text/markdown": [
       "1. 4225\n",
       "2. 1331\n",
       "\n",
       "\n"
      ],
      "text/plain": [
       "[1] 4225 1331"
      ]
     },
     "metadata": {},
     "output_type": "display_data"
    },
    {
     "data": {
      "text/html": [
       "<ol class=list-inline>\n",
       "\t<li>4225</li>\n",
       "\t<li>1332</li>\n",
       "</ol>\n"
      ],
      "text/latex": [
       "\\begin{enumerate*}\n",
       "\\item 4225\n",
       "\\item 1332\n",
       "\\end{enumerate*}\n"
      ],
      "text/markdown": [
       "1. 4225\n",
       "2. 1332\n",
       "\n",
       "\n"
      ],
      "text/plain": [
       "[1] 4225 1332"
      ]
     },
     "metadata": {},
     "output_type": "display_data"
    }
   ],
   "source": [
    "corpus = tm_map(corpus, stemDocument)\n",
    "corpus = tm_map(corpus, stripWhitespace)\n",
    "\n",
    "dtm = DocumentTermMatrix(corpus)\n",
    "dtm = removeSparseTerms(dtm, 0.999)\n",
    "df = as.data.frame(as.matrix(dtm))\n",
    "dim(df)\n",
    "df$label = df_original$label\n",
    "dim(df)"
   ]
  },
  {
   "cell_type": "markdown",
   "metadata": {},
   "source": [
    "** Encode label **"
   ]
  },
  {
   "cell_type": "code",
   "execution_count": 15,
   "metadata": {
    "collapsed": true
   },
   "outputs": [],
   "source": [
    "df$label = factor(df$label, levels = c(0, 1))\n",
    "label_col = dim(df)[2]"
   ]
  },
  {
   "cell_type": "code",
   "execution_count": 16,
   "metadata": {},
   "outputs": [
    {
     "name": "stderr",
     "output_type": "stream",
     "text": [
      "Loading required package: lattice\n",
      "Loading required package: ggplot2\n",
      "\n",
      "Attaching package: 'ggplot2'\n",
      "\n",
      "The following object is masked from 'package:NLP':\n",
      "\n",
      "    annotate\n",
      "\n"
     ]
    }
   ],
   "source": [
    "library(caTools)\n",
    "library(caret)\n",
    "seed = 101 #random seed for reproducibility\n",
    "set.seed(seed) "
   ]
  },
  {
   "cell_type": "markdown",
   "metadata": {},
   "source": [
    "** Split Train Test Sets **"
   ]
  },
  {
   "cell_type": "code",
   "execution_count": 17,
   "metadata": {
    "collapsed": true
   },
   "outputs": [],
   "source": [
    "split = sample.split(df$label, SplitRatio = 0.80)\n",
    "train_set = subset(df, split == TRUE)\n",
    "test_set = subset(df, split == FALSE)"
   ]
  },
  {
   "cell_type": "markdown",
   "metadata": {},
   "source": [
    "## Model Train /  Evaluation"
   ]
  },
  {
   "cell_type": "code",
   "execution_count": null,
   "metadata": {
    "collapsed": true
   },
   "outputs": [],
   "source": [
    "# Fit randomForest to the Train set\n",
    "library(randomForest)\n",
    "model = randomForest(x = train_set[-label_col],\n",
    "                     y = train_set$label,\n",
    "                     ntree = 100)"
   ]
  },
  {
   "cell_type": "code",
   "execution_count": 19,
   "metadata": {},
   "outputs": [
    {
     "data": {
      "text/plain": [
       "Confusion Matrix and Statistics\n",
       "\n",
       "          Reference\n",
       "Prediction   0   1\n",
       "         0 121  54\n",
       "         1 102 568\n",
       "                                         \n",
       "               Accuracy : 0.8154         \n",
       "                 95% CI : (0.7875, 0.841)\n",
       "    No Information Rate : 0.7361         \n",
       "    P-Value [Acc > NIR] : 3.702e-08      \n",
       "                                         \n",
       "                  Kappa : 0.4896         \n",
       " Mcnemar's Test P-Value : 0.0001679      \n",
       "                                         \n",
       "            Sensitivity : 0.5426         \n",
       "            Specificity : 0.9132         \n",
       "         Pos Pred Value : 0.6914         \n",
       "         Neg Pred Value : 0.8478         \n",
       "             Prevalence : 0.2639         \n",
       "         Detection Rate : 0.1432         \n",
       "   Detection Prevalence : 0.2071         \n",
       "      Balanced Accuracy : 0.7279         \n",
       "                                         \n",
       "       'Positive' Class : 0              \n",
       "                                         "
      ]
     },
     "metadata": {},
     "output_type": "display_data"
    }
   ],
   "source": [
    "# Make predictions\n",
    "predictions = predict(model, newdata = test_set[-label_col])\n",
    "# Evaluate the results\n",
    "confusionMatrix(predictions, test_set$label)"
   ]
  }
 ],
 "metadata": {
  "kernelspec": {
   "display_name": "R",
   "language": "R",
   "name": "ir"
  },
  "language_info": {
   "codemirror_mode": "r",
   "file_extension": ".r",
   "mimetype": "text/x-r-source",
   "name": "R",
   "pygments_lexer": "r",
   "version": "3.4.3"
  }
 },
 "nbformat": 4,
 "nbformat_minor": 2
}
