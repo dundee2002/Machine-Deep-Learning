{
 "cells": [
  {
   "cell_type": "markdown",
   "metadata": {},
   "source": [
    "## NLP & Binary Classification: Spam Collection Data\n",
    "https://archive.ics.uci.edu/ml/datasets/SMS+Spam+Collection\n",
    "\n",
    "** Dataset Information: **\n",
    "\n",
    "- a collection of more than 5 thousand SMS phone messages \n",
    "\n",
    "** Attribute Information: **\n",
    "\n",
    "- each line has the correct class followed by the raw message. We offer some examples bellow:\n",
    "\n",
    "- ham What you doing?how are you?\n",
    "\n",
    "- ham Ok lar... Joking wif u oni...\n",
    "\n",
    "- spam FreeMsg: Txt: CALL to No: 86888 & claim your reward of 3 hours talk time to use from your phone now! ubscribe6GBP/ mnth inc 3hrs 16 stop?txtStop\n",
    "\n",
    "** Objective of this project **\n",
    "\n",
    "- predict whether a message is spam or ham"
   ]
  },
  {
   "cell_type": "markdown",
   "metadata": {},
   "source": [
    "## Data"
   ]
  },
  {
   "cell_type": "code",
   "execution_count": 21,
   "metadata": {
    "collapsed": true
   },
   "outputs": [],
   "source": [
    "options(warn=-1)\n",
    "# Load Data\n",
    "df_original  <- read.delim('smsspamcollection/SMSSpamCollection', quote = '',\n",
    "                           stringsAsFactors = FALSE,header=FALSE)\n",
    "colnames(df_original) = c('label','text')"
   ]
  },
  {
   "cell_type": "code",
   "execution_count": 22,
   "metadata": {
    "scrolled": true
   },
   "outputs": [
    {
     "data": {
      "text/html": [
       "<table>\n",
       "<thead><tr><th scope=col>label</th><th scope=col>text</th></tr></thead>\n",
       "<tbody>\n",
       "\t<tr><td>ham                                                                                                                                                        </td><td>Go until jurong point, crazy.. Available only in bugis n great world la e buffet... Cine there got amore wat...                                            </td></tr>\n",
       "\t<tr><td>ham                                                                                                                                                        </td><td>Ok lar... Joking wif u oni...                                                                                                                              </td></tr>\n",
       "\t<tr><td>spam                                                                                                                                                           </td><td>Free entry in 2 a wkly comp to win FA Cup final tkts 21st May 2005. Text FA to 87121 to receive entry question(std txt rate)T&amp;C's apply 08452810075over18's</td></tr>\n",
       "\t<tr><td>ham                                                                                                                                                        </td><td>U dun say so early hor... U c already then say...                                                                                                          </td></tr>\n",
       "\t<tr><td>ham                                                                                                                                                        </td><td>Nah I don't think he goes to usf, he lives around here though                                                                                              </td></tr>\n",
       "\t<tr><td>spam                                                                                                                                                       </td><td>FreeMsg Hey there darling it's been 3 week's now and no word back! I'd like some fun you up for it still? Tb ok! XxX std chgs to send, Â£1.50 to rcv       </td></tr>\n",
       "</tbody>\n",
       "</table>\n"
      ],
      "text/latex": [
       "\\begin{tabular}{r|ll}\n",
       " label & text\\\\\n",
       "\\hline\n",
       "\t ham                                                                                                                                                         & Go until jurong point, crazy.. Available only in bugis n great world la e buffet... Cine there got amore wat...                                            \\\\\n",
       "\t ham                                                                                                                                                         & Ok lar... Joking wif u oni...                                                                                                                              \\\\\n",
       "\t spam                                                                                                                                                          & Free entry in 2 a wkly comp to win FA Cup final tkts 21st May 2005. Text FA to 87121 to receive entry question(std txt rate)T\\&C's apply 08452810075over18's\\\\\n",
       "\t ham                                                                                                                                                         & U dun say so early hor... U c already then say...                                                                                                          \\\\\n",
       "\t ham                                                                                                                                                         & Nah I don't think he goes to usf, he lives around here though                                                                                              \\\\\n",
       "\t spam                                                                                                                                                        & FreeMsg Hey there darling it's been 3 week's now and no word back! I'd like some fun you up for it still? Tb ok! XxX std chgs to send, Â£1.50 to rcv       \\\\\n",
       "\\end{tabular}\n"
      ],
      "text/markdown": [
       "\n",
       "label | text | \n",
       "|---|---|---|---|---|---|\n",
       "| ham                                                                                                                                                         | Go until jurong point, crazy.. Available only in bugis n great world la e buffet... Cine there got amore wat...                                             | \n",
       "| ham                                                                                                                                                         | Ok lar... Joking wif u oni...                                                                                                                               | \n",
       "| spam                                                                                                                                                        | Free entry in 2 a wkly comp to win FA Cup final tkts 21st May 2005. Text FA to 87121 to receive entry question(std txt rate)T&C's apply 08452810075over18's | \n",
       "| ham                                                                                                                                                         | U dun say so early hor... U c already then say...                                                                                                           | \n",
       "| ham                                                                                                                                                         | Nah I don't think he goes to usf, he lives around here though                                                                                               | \n",
       "| spam                                                                                                                                                        | FreeMsg Hey there darling it's been 3 week's now and no word back! I'd like some fun you up for it still? Tb ok! XxX std chgs to send, Â£1.50 to rcv        | \n",
       "\n",
       "\n"
      ],
      "text/plain": [
       "  label\n",
       "1 ham  \n",
       "2 ham  \n",
       "3 spam \n",
       "4 ham  \n",
       "5 ham  \n",
       "6 spam \n",
       "  text                                                                                                                                                       \n",
       "1 Go until jurong point, crazy.. Available only in bugis n great world la e buffet... Cine there got amore wat...                                            \n",
       "2 Ok lar... Joking wif u oni...                                                                                                                              \n",
       "3 Free entry in 2 a wkly comp to win FA Cup final tkts 21st May 2005. Text FA to 87121 to receive entry question(std txt rate)T&C's apply 08452810075over18's\n",
       "4 U dun say so early hor... U c already then say...                                                                                                          \n",
       "5 Nah I don't think he goes to usf, he lives around here though                                                                                              \n",
       "6 FreeMsg Hey there darling it's been 3 week's now and no word back! I'd like some fun you up for it still? Tb ok! XxX std chgs to send, Â£1.50 to rcv       "
      ]
     },
     "metadata": {},
     "output_type": "display_data"
    }
   ],
   "source": [
    "# Inspect Data\n",
    "head(df_original)"
   ]
  },
  {
   "cell_type": "code",
   "execution_count": 23,
   "metadata": {},
   "outputs": [
    {
     "data": {
      "text/html": [
       "<ol class=list-inline>\n",
       "\t<li>5574</li>\n",
       "\t<li>2</li>\n",
       "</ol>\n"
      ],
      "text/latex": [
       "\\begin{enumerate*}\n",
       "\\item 5574\n",
       "\\item 2\n",
       "\\end{enumerate*}\n"
      ],
      "text/markdown": [
       "1. 5574\n",
       "2. 2\n",
       "\n",
       "\n"
      ],
      "text/plain": [
       "[1] 5574    2"
      ]
     },
     "metadata": {},
     "output_type": "display_data"
    }
   ],
   "source": [
    "dim(df_original)"
   ]
  },
  {
   "cell_type": "code",
   "execution_count": 24,
   "metadata": {},
   "outputs": [
    {
     "name": "stdout",
     "output_type": "stream",
     "text": [
      "'data.frame':\t5574 obs. of  2 variables:\n",
      " $ label: chr  \"ham\" \"ham\" \"spam\" \"ham\" ...\n",
      " $ text : chr  \"Go until jurong point, crazy.. Available only in bugis n great world la e buffet... Cine there got amore wat...\" \"Ok lar... Joking wif u oni...\" \"Free entry in 2 a wkly comp to win FA Cup final tkts 21st May 2005. Text FA to 87121 to receive entry question(\"| __truncated__ \"U dun say so early hor... U c already then say...\" ...\n"
     ]
    }
   ],
   "source": [
    "str(df_original)"
   ]
  },
  {
   "cell_type": "code",
   "execution_count": 25,
   "metadata": {},
   "outputs": [
    {
     "data": {
      "text/plain": [
       "    label               text          \n",
       " Length:5574        Length:5574       \n",
       " Class :character   Class :character  \n",
       " Mode  :character   Mode  :character  "
      ]
     },
     "metadata": {},
     "output_type": "display_data"
    }
   ],
   "source": [
    "summary(df_original)"
   ]
  },
  {
   "cell_type": "code",
   "execution_count": 26,
   "metadata": {},
   "outputs": [
    {
     "data": {
      "text/plain": [
       "\n",
       " ham spam \n",
       "4827  747 "
      ]
     },
     "metadata": {},
     "output_type": "display_data"
    }
   ],
   "source": [
    "table(df_original$label)"
   ]
  },
  {
   "cell_type": "markdown",
   "metadata": {},
   "source": [
    "## Data preprocessing"
   ]
  },
  {
   "cell_type": "code",
   "execution_count": 52,
   "metadata": {},
   "outputs": [],
   "source": [
    "library(caTools)\n",
    "library(caret)\n",
    "seed = 101 #random seed for reproducibility\n",
    "set.seed(seed) "
   ]
  },
  {
   "cell_type": "markdown",
   "metadata": {},
   "source": [
    "** Clean Text **"
   ]
  },
  {
   "cell_type": "code",
   "execution_count": 63,
   "metadata": {},
   "outputs": [],
   "source": [
    "library(tm)\n",
    "library(SnowballC)\n",
    "corpus = VCorpus(VectorSource(df_original$text))\n",
    "corpus = tm_map(corpus, content_transformer(tolower))\n",
    "corpus = tm_map(corpus, removeNumbers)\n",
    "corpus = tm_map(corpus, removePunctuation)\n",
    "corpus = tm_map(corpus, removeWords, stopwords())\n",
    "corpus = tm_map(corpus, stemDocument)\n",
    "corpus = tm_map(corpus, stripWhitespace)"
   ]
  },
  {
   "cell_type": "markdown",
   "metadata": {},
   "source": [
    "** Creat Bag-Of-Words model **"
   ]
  },
  {
   "cell_type": "code",
   "execution_count": 64,
   "metadata": {},
   "outputs": [
    {
     "data": {
      "text/html": [
       "<ol class=list-inline>\n",
       "\t<li>5574</li>\n",
       "\t<li>1209</li>\n",
       "</ol>\n"
      ],
      "text/latex": [
       "\\begin{enumerate*}\n",
       "\\item 5574\n",
       "\\item 1209\n",
       "\\end{enumerate*}\n"
      ],
      "text/markdown": [
       "1. 5574\n",
       "2. 1209\n",
       "\n",
       "\n"
      ],
      "text/plain": [
       "[1] 5574 1209"
      ]
     },
     "metadata": {},
     "output_type": "display_data"
    },
    {
     "data": {
      "text/html": [
       "<ol class=list-inline>\n",
       "\t<li>5574</li>\n",
       "\t<li>1210</li>\n",
       "</ol>\n"
      ],
      "text/latex": [
       "\\begin{enumerate*}\n",
       "\\item 5574\n",
       "\\item 1210\n",
       "\\end{enumerate*}\n"
      ],
      "text/markdown": [
       "1. 5574\n",
       "2. 1210\n",
       "\n",
       "\n"
      ],
      "text/plain": [
       "[1] 5574 1210"
      ]
     },
     "metadata": {},
     "output_type": "display_data"
    }
   ],
   "source": [
    "dtm = DocumentTermMatrix(corpus)\n",
    "dtm = removeSparseTerms(dtm, 0.999)\n",
    "df = as.data.frame(as.matrix(dtm))\n",
    "dim(df)\n",
    "df$label = df_original$label\n",
    "dim(df)"
   ]
  },
  {
   "cell_type": "markdown",
   "metadata": {},
   "source": [
    "** Encode label **"
   ]
  },
  {
   "cell_type": "code",
   "execution_count": 51,
   "metadata": {
    "collapsed": true
   },
   "outputs": [],
   "source": [
    "df$label = factor(df$label,\n",
    "                  levels = c('spam', 'ham'),\n",
    "                  labels = c(0, 1))\n",
    "label_col = 1210                          "
   ]
  },
  {
   "cell_type": "markdown",
   "metadata": {},
   "source": [
    "** Split Train Test Sets **"
   ]
  },
  {
   "cell_type": "code",
   "execution_count": 53,
   "metadata": {
    "collapsed": true
   },
   "outputs": [],
   "source": [
    "split = sample.split(df$label, SplitRatio = 0.80)\n",
    "train_set = subset(df, split == TRUE)\n",
    "test_set = subset(df, split == FALSE)"
   ]
  },
  {
   "cell_type": "markdown",
   "metadata": {},
   "source": [
    "## Model Train /  Evaluation"
   ]
  },
  {
   "cell_type": "code",
   "execution_count": 59,
   "metadata": {},
   "outputs": [],
   "source": [
    "# Fit randomForest to the Test set\n",
    "library(randomForest)\n",
    "model = randomForest(x = train_set[-label_col],\n",
    "                     y = train_set$label,\n",
    "                     ntree = 100)"
   ]
  },
  {
   "cell_type": "code",
   "execution_count": 62,
   "metadata": {},
   "outputs": [
    {
     "data": {
      "text/plain": [
       "Confusion Matrix and Statistics\n",
       "\n",
       "          Reference\n",
       "Prediction   0   1\n",
       "         0 120   6\n",
       "         1  29 959\n",
       "                                         \n",
       "               Accuracy : 0.9686         \n",
       "                 95% CI : (0.9566, 0.978)\n",
       "    No Information Rate : 0.8662         \n",
       "    P-Value [Acc > NIR] : < 2.2e-16      \n",
       "                                         \n",
       "                  Kappa : 0.8549         \n",
       " Mcnemar's Test P-Value : 0.0002003      \n",
       "                                         \n",
       "            Sensitivity : 0.8054         \n",
       "            Specificity : 0.9938         \n",
       "         Pos Pred Value : 0.9524         \n",
       "         Neg Pred Value : 0.9706         \n",
       "             Prevalence : 0.1338         \n",
       "         Detection Rate : 0.1077         \n",
       "   Detection Prevalence : 0.1131         \n",
       "      Balanced Accuracy : 0.8996         \n",
       "                                         \n",
       "       'Positive' Class : 0              \n",
       "                                         "
      ]
     },
     "metadata": {},
     "output_type": "display_data"
    }
   ],
   "source": [
    "# Make predictions\n",
    "predictions = predict(model, newdata = test_set[-label_col])\n",
    "# Evaluate the results\n",
    "confusionMatrix(predictions, test_set$label)"
   ]
  }
 ],
 "metadata": {
  "kernelspec": {
   "display_name": "R",
   "language": "R",
   "name": "ir"
  },
  "language_info": {
   "codemirror_mode": "r",
   "file_extension": ".r",
   "mimetype": "text/x-r-source",
   "name": "R",
   "pygments_lexer": "r",
   "version": "3.4.3"
  }
 },
 "nbformat": 4,
 "nbformat_minor": 2
}
