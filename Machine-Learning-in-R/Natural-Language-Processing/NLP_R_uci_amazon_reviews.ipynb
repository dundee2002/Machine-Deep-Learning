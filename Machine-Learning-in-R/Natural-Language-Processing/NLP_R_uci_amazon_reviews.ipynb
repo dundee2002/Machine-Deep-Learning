{
 "cells": [
  {
   "cell_type": "markdown",
   "metadata": {},
   "source": [
    "## NLP & Binary Classification: Amazon Product Reviews\n",
    "https://archive.ics.uci.edu/ml/datasets/Sentiment+Labelled+Sentences#\n",
    "\n",
    "** Dataset Information: **\n",
    "\n",
    "1000 sentences labelled with positive or negative sentiment from amazon.com\n",
    "\n",
    "** Attribute Information: (1 features and 1 class)**\n",
    "\n",
    "- Sentences\t\n",
    "- Score : 1 (for positive) or 0 (for negative)\t\n",
    "\n",
    "** Objective of this project **\n",
    "\n",
    "predict sentiment (positive or negative) from sentences"
   ]
  },
  {
   "cell_type": "markdown",
   "metadata": {},
   "source": [
    "## Data"
   ]
  },
  {
   "cell_type": "code",
   "execution_count": 15,
   "metadata": {
    "collapsed": true
   },
   "outputs": [],
   "source": [
    "options(warn=-1)\n",
    "# Load Data\n",
    "df_original  <- read.delim('amazon_cells_labelled.txt', quote = '',\n",
    "                           stringsAsFactors = FALSE,header=FALSE)\n",
    "colnames(df_original) = c('text','label')"
   ]
  },
  {
   "cell_type": "code",
   "execution_count": 16,
   "metadata": {
    "scrolled": true
   },
   "outputs": [
    {
     "data": {
      "text/html": [
       "<table>\n",
       "<thead><tr><th scope=col>text</th><th scope=col>label</th></tr></thead>\n",
       "<tbody>\n",
       "\t<tr><td>So there is no way for me to plug it in here in the US unless I go by a converter.</td><td>0                                                                                 </td></tr>\n",
       "\t<tr><td>Good case, Excellent value.                                                       </td><td>1                                                                                 </td></tr>\n",
       "\t<tr><td>Great for the jawbone.                                                            </td><td>1                                                                                 </td></tr>\n",
       "\t<tr><td>Tied to charger for conversations lasting more than 45 minutes.MAJOR PROBLEMS!!   </td><td>0                                                                                 </td></tr>\n",
       "\t<tr><td>The mic is great.                                                                 </td><td>1                                                                                 </td></tr>\n",
       "\t<tr><td>I have to jiggle the plug to get it to line up right to get decent volume.        </td><td>0                                                                                 </td></tr>\n",
       "</tbody>\n",
       "</table>\n"
      ],
      "text/latex": [
       "\\begin{tabular}{r|ll}\n",
       " text & label\\\\\n",
       "\\hline\n",
       "\t So there is no way for me to plug it in here in the US unless I go by a converter. & 0                                                                                 \\\\\n",
       "\t Good case, Excellent value.                                                        & 1                                                                                 \\\\\n",
       "\t Great for the jawbone.                                                             & 1                                                                                 \\\\\n",
       "\t Tied to charger for conversations lasting more than 45 minutes.MAJOR PROBLEMS!!    & 0                                                                                 \\\\\n",
       "\t The mic is great.                                                                  & 1                                                                                 \\\\\n",
       "\t I have to jiggle the plug to get it to line up right to get decent volume.         & 0                                                                                 \\\\\n",
       "\\end{tabular}\n"
      ],
      "text/markdown": [
       "\n",
       "text | label | \n",
       "|---|---|---|---|---|---|\n",
       "| So there is no way for me to plug it in here in the US unless I go by a converter. | 0                                                                                  | \n",
       "| Good case, Excellent value.                                                        | 1                                                                                  | \n",
       "| Great for the jawbone.                                                             | 1                                                                                  | \n",
       "| Tied to charger for conversations lasting more than 45 minutes.MAJOR PROBLEMS!!    | 0                                                                                  | \n",
       "| The mic is great.                                                                  | 1                                                                                  | \n",
       "| I have to jiggle the plug to get it to line up right to get decent volume.         | 0                                                                                  | \n",
       "\n",
       "\n"
      ],
      "text/plain": [
       "  text                                                                              \n",
       "1 So there is no way for me to plug it in here in the US unless I go by a converter.\n",
       "2 Good case, Excellent value.                                                       \n",
       "3 Great for the jawbone.                                                            \n",
       "4 Tied to charger for conversations lasting more than 45 minutes.MAJOR PROBLEMS!!   \n",
       "5 The mic is great.                                                                 \n",
       "6 I have to jiggle the plug to get it to line up right to get decent volume.        \n",
       "  label\n",
       "1 0    \n",
       "2 1    \n",
       "3 1    \n",
       "4 0    \n",
       "5 1    \n",
       "6 0    "
      ]
     },
     "metadata": {},
     "output_type": "display_data"
    }
   ],
   "source": [
    "# Inspect Data\n",
    "head(df_original)"
   ]
  },
  {
   "cell_type": "code",
   "execution_count": 17,
   "metadata": {},
   "outputs": [
    {
     "data": {
      "text/html": [
       "<ol class=list-inline>\n",
       "\t<li>1000</li>\n",
       "\t<li>2</li>\n",
       "</ol>\n"
      ],
      "text/latex": [
       "\\begin{enumerate*}\n",
       "\\item 1000\n",
       "\\item 2\n",
       "\\end{enumerate*}\n"
      ],
      "text/markdown": [
       "1. 1000\n",
       "2. 2\n",
       "\n",
       "\n"
      ],
      "text/plain": [
       "[1] 1000    2"
      ]
     },
     "metadata": {},
     "output_type": "display_data"
    }
   ],
   "source": [
    "dim(df_original)"
   ]
  },
  {
   "cell_type": "code",
   "execution_count": 18,
   "metadata": {},
   "outputs": [
    {
     "name": "stdout",
     "output_type": "stream",
     "text": [
      "'data.frame':\t1000 obs. of  2 variables:\n",
      " $ text : chr  \"So there is no way for me to plug it in here in the US unless I go by a converter.\" \"Good case, Excellent value.\" \"Great for the jawbone.\" \"Tied to charger for conversations lasting more than 45 minutes.MAJOR PROBLEMS!!\" ...\n",
      " $ label: int  0 1 1 0 1 0 0 1 0 0 ...\n"
     ]
    }
   ],
   "source": [
    "str(df_original)"
   ]
  },
  {
   "cell_type": "code",
   "execution_count": 19,
   "metadata": {},
   "outputs": [
    {
     "data": {
      "text/plain": [
       "     text               label    \n",
       " Length:1000        Min.   :0.0  \n",
       " Class :character   1st Qu.:0.0  \n",
       " Mode  :character   Median :0.5  \n",
       "                    Mean   :0.5  \n",
       "                    3rd Qu.:1.0  \n",
       "                    Max.   :1.0  "
      ]
     },
     "metadata": {},
     "output_type": "display_data"
    }
   ],
   "source": [
    "summary(df_original)"
   ]
  },
  {
   "cell_type": "code",
   "execution_count": 20,
   "metadata": {},
   "outputs": [
    {
     "data": {
      "text/plain": [
       "\n",
       "  0   1 \n",
       "500 500 "
      ]
     },
     "metadata": {},
     "output_type": "display_data"
    }
   ],
   "source": [
    "table(df_original$label)"
   ]
  },
  {
   "cell_type": "markdown",
   "metadata": {},
   "source": [
    "## Data preprocessing"
   ]
  },
  {
   "cell_type": "markdown",
   "metadata": {},
   "source": [
    "** Clean Text **"
   ]
  },
  {
   "cell_type": "code",
   "execution_count": 21,
   "metadata": {},
   "outputs": [],
   "source": [
    "library(tm)\n",
    "library(SnowballC)\n",
    "corpus = VCorpus(VectorSource(df_original$text))\n",
    "corpus = tm_map(corpus, content_transformer(tolower))\n",
    "corpus = tm_map(corpus, removeNumbers)\n",
    "corpus = tm_map(corpus, removePunctuation)\n",
    "corpus = tm_map(corpus, removeWords, stopwords())\n",
    "corpus = tm_map(corpus, stemDocument)\n",
    "corpus = tm_map(corpus, stripWhitespace)"
   ]
  },
  {
   "cell_type": "markdown",
   "metadata": {},
   "source": [
    "** Creat Bag-Of-Words model **"
   ]
  },
  {
   "cell_type": "code",
   "execution_count": 22,
   "metadata": {},
   "outputs": [
    {
     "data": {
      "text/html": [
       "<ol class=list-inline>\n",
       "\t<li>1000</li>\n",
       "\t<li>619</li>\n",
       "</ol>\n"
      ],
      "text/latex": [
       "\\begin{enumerate*}\n",
       "\\item 1000\n",
       "\\item 619\n",
       "\\end{enumerate*}\n"
      ],
      "text/markdown": [
       "1. 1000\n",
       "2. 619\n",
       "\n",
       "\n"
      ],
      "text/plain": [
       "[1] 1000  619"
      ]
     },
     "metadata": {},
     "output_type": "display_data"
    },
    {
     "data": {
      "text/html": [
       "<ol class=list-inline>\n",
       "\t<li>1000</li>\n",
       "\t<li>620</li>\n",
       "</ol>\n"
      ],
      "text/latex": [
       "\\begin{enumerate*}\n",
       "\\item 1000\n",
       "\\item 620\n",
       "\\end{enumerate*}\n"
      ],
      "text/markdown": [
       "1. 1000\n",
       "2. 620\n",
       "\n",
       "\n"
      ],
      "text/plain": [
       "[1] 1000  620"
      ]
     },
     "metadata": {},
     "output_type": "display_data"
    }
   ],
   "source": [
    "dtm = DocumentTermMatrix(corpus)\n",
    "dtm = removeSparseTerms(dtm, 0.999)\n",
    "df = as.data.frame(as.matrix(dtm))\n",
    "dim(df)\n",
    "df$label = df_original$label\n",
    "dim(df)"
   ]
  },
  {
   "cell_type": "markdown",
   "metadata": {},
   "source": [
    "** Encode label **"
   ]
  },
  {
   "cell_type": "code",
   "execution_count": 23,
   "metadata": {
    "collapsed": true
   },
   "outputs": [],
   "source": [
    "df$label = factor(df$label, levels = c(0, 1))\n",
    "label_col = 620"
   ]
  },
  {
   "cell_type": "code",
   "execution_count": 24,
   "metadata": {},
   "outputs": [],
   "source": [
    "library(caTools)\n",
    "library(caret)\n",
    "seed = 101 #random seed for reproducibility\n",
    "set.seed(seed) "
   ]
  },
  {
   "cell_type": "markdown",
   "metadata": {},
   "source": [
    "** Split Train Test Sets **"
   ]
  },
  {
   "cell_type": "code",
   "execution_count": 25,
   "metadata": {
    "collapsed": true
   },
   "outputs": [],
   "source": [
    "split = sample.split(df$label, SplitRatio = 0.80)\n",
    "train_set = subset(df, split == TRUE)\n",
    "test_set = subset(df, split == FALSE)"
   ]
  },
  {
   "cell_type": "markdown",
   "metadata": {},
   "source": [
    "## Model Train /  Evaluation"
   ]
  },
  {
   "cell_type": "code",
   "execution_count": 26,
   "metadata": {},
   "outputs": [],
   "source": [
    "# Fit randomForest to the Test set\n",
    "library(randomForest)\n",
    "model = randomForest(x = train_set[-label_col],\n",
    "                     y = train_set$label,\n",
    "                     ntree = 200)"
   ]
  },
  {
   "cell_type": "code",
   "execution_count": 27,
   "metadata": {},
   "outputs": [
    {
     "data": {
      "text/plain": [
       "Confusion Matrix and Statistics\n",
       "\n",
       "          Reference\n",
       "Prediction  0  1\n",
       "         0 80 21\n",
       "         1 20 79\n",
       "                                          \n",
       "               Accuracy : 0.795           \n",
       "                 95% CI : (0.7323, 0.8487)\n",
       "    No Information Rate : 0.5             \n",
       "    P-Value [Acc > NIR] : <2e-16          \n",
       "                                          \n",
       "                  Kappa : 0.59            \n",
       " Mcnemar's Test P-Value : 1               \n",
       "                                          \n",
       "            Sensitivity : 0.8000          \n",
       "            Specificity : 0.7900          \n",
       "         Pos Pred Value : 0.7921          \n",
       "         Neg Pred Value : 0.7980          \n",
       "             Prevalence : 0.5000          \n",
       "         Detection Rate : 0.4000          \n",
       "   Detection Prevalence : 0.5050          \n",
       "      Balanced Accuracy : 0.7950          \n",
       "                                          \n",
       "       'Positive' Class : 0               \n",
       "                                          "
      ]
     },
     "metadata": {},
     "output_type": "display_data"
    }
   ],
   "source": [
    "# Make predictions\n",
    "predictions = predict(model, newdata = test_set[-label_col])\n",
    "# Evaluate the results\n",
    "confusionMatrix(predictions, test_set$label)"
   ]
  }
 ],
 "metadata": {
  "kernelspec": {
   "display_name": "R",
   "language": "R",
   "name": "ir"
  },
  "language_info": {
   "codemirror_mode": "r",
   "file_extension": ".r",
   "mimetype": "text/x-r-source",
   "name": "R",
   "pygments_lexer": "r",
   "version": "3.4.3"
  }
 },
 "nbformat": 4,
 "nbformat_minor": 2
}
