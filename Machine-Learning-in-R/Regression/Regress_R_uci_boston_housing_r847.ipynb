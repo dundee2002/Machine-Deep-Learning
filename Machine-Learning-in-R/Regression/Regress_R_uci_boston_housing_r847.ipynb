{
 "cells": [
  {
   "cell_type": "markdown",
   "metadata": {},
   "source": [
    "## Regression: Boston Housing Data\n",
    "https://archive.ics.uci.edu/ml/machine-learning-databases/housing/\n",
    "\n",
    "** Dataset Information: **\n",
    "\n",
    "506 Boston housing information including value of houses\n",
    "\n",
    "** Attribute Information: (13 features and 1 class)**\n",
    "\n",
    "1. CRIM      per capita crime rate by town\n",
    "2. ZN        proportion of residential land zoned for lots over 25,000 sq.ft.\n",
    "                 \n",
    "3. INDUS     proportion of non-retail business acres per town\n",
    "4. CHAS      Charles River dummy variable (= 1 if tract bounds river; 0 otherwise)\n",
    "                 \n",
    "5. NOX       nitric oxides concentration (parts per 10 million)\n",
    "6. RM        average number of rooms per dwelling\n",
    "7. AGE       proportion of owner-occupied units built prior to 1940\n",
    "8. DIS       weighted distances to five Boston employment centres\n",
    "9. RAD       index of accessibility to radial highways\n",
    "10. TAX      full-value property-tax rate per $10,000\n",
    "11. PTRATIO  pupil-teacher ratio by town\n",
    "12. B        1000(Bk - 0.63)^2 where Bk is the proportion of blacks by town\n",
    "                 \n",
    "13. LSTAT    % lower status of the population\n",
    "14. MEDV     Median value of owner-occupied homes in $1000's\n",
    "\n",
    "** Objective of this project **\n",
    "\n",
    "predict value of house (MEDV) based on the other features"
   ]
  },
  {
   "cell_type": "markdown",
   "metadata": {},
   "source": [
    "## Data"
   ]
  },
  {
   "cell_type": "code",
   "execution_count": 124,
   "metadata": {
    "collapsed": true
   },
   "outputs": [],
   "source": [
    "options(warn=-1)\n",
    "# Load Data\n",
    "df  <- read.csv('housing.data',sep='',,header=FALSE)\n",
    "colnames(df) = c('CRIM', 'ZN', 'INDUS', 'CHAS', 'NOX', 'RM', 'AGE', 'DIS',\n",
    "                  'RAD', 'TAX', 'PTRATIO', 'B', 'LSTAT', 'label')"
   ]
  },
  {
   "cell_type": "code",
   "execution_count": 125,
   "metadata": {
    "scrolled": true
   },
   "outputs": [
    {
     "data": {
      "text/html": [
       "<table>\n",
       "<thead><tr><th scope=col>CRIM</th><th scope=col>ZN</th><th scope=col>INDUS</th><th scope=col>CHAS</th><th scope=col>NOX</th><th scope=col>RM</th><th scope=col>AGE</th><th scope=col>DIS</th><th scope=col>RAD</th><th scope=col>TAX</th><th scope=col>PTRATIO</th><th scope=col>B</th><th scope=col>LSTAT</th><th scope=col>label</th></tr></thead>\n",
       "<tbody>\n",
       "\t<tr><td>0.00632</td><td>18     </td><td>2.31   </td><td>0      </td><td>0.538  </td><td>6.575  </td><td>65.2   </td><td>4.0900 </td><td>1      </td><td>296    </td><td>15.3   </td><td>396.90 </td><td>4.98   </td><td>24.0   </td></tr>\n",
       "\t<tr><td>0.02731</td><td> 0     </td><td>7.07   </td><td>0      </td><td>0.469  </td><td>6.421  </td><td>78.9   </td><td>4.9671 </td><td>2      </td><td>242    </td><td>17.8   </td><td>396.90 </td><td>9.14   </td><td>21.6   </td></tr>\n",
       "\t<tr><td>0.02729</td><td> 0     </td><td>7.07   </td><td>0      </td><td>0.469  </td><td>7.185  </td><td>61.1   </td><td>4.9671 </td><td>2      </td><td>242    </td><td>17.8   </td><td>392.83 </td><td>4.03   </td><td>34.7   </td></tr>\n",
       "</tbody>\n",
       "</table>\n"
      ],
      "text/latex": [
       "\\begin{tabular}{r|llllllllllllll}\n",
       " CRIM & ZN & INDUS & CHAS & NOX & RM & AGE & DIS & RAD & TAX & PTRATIO & B & LSTAT & label\\\\\n",
       "\\hline\n",
       "\t 0.00632 & 18      & 2.31    & 0       & 0.538   & 6.575   & 65.2    & 4.0900  & 1       & 296     & 15.3    & 396.90  & 4.98    & 24.0   \\\\\n",
       "\t 0.02731 &  0      & 7.07    & 0       & 0.469   & 6.421   & 78.9    & 4.9671  & 2       & 242     & 17.8    & 396.90  & 9.14    & 21.6   \\\\\n",
       "\t 0.02729 &  0      & 7.07    & 0       & 0.469   & 7.185   & 61.1    & 4.9671  & 2       & 242     & 17.8    & 392.83  & 4.03    & 34.7   \\\\\n",
       "\\end{tabular}\n"
      ],
      "text/markdown": [
       "\n",
       "CRIM | ZN | INDUS | CHAS | NOX | RM | AGE | DIS | RAD | TAX | PTRATIO | B | LSTAT | label | \n",
       "|---|---|---|\n",
       "| 0.00632 | 18      | 2.31    | 0       | 0.538   | 6.575   | 65.2    | 4.0900  | 1       | 296     | 15.3    | 396.90  | 4.98    | 24.0    | \n",
       "| 0.02731 |  0      | 7.07    | 0       | 0.469   | 6.421   | 78.9    | 4.9671  | 2       | 242     | 17.8    | 396.90  | 9.14    | 21.6    | \n",
       "| 0.02729 |  0      | 7.07    | 0       | 0.469   | 7.185   | 61.1    | 4.9671  | 2       | 242     | 17.8    | 392.83  | 4.03    | 34.7    | \n",
       "\n",
       "\n"
      ],
      "text/plain": [
       "  CRIM    ZN INDUS CHAS NOX   RM    AGE  DIS    RAD TAX PTRATIO B      LSTAT\n",
       "1 0.00632 18 2.31  0    0.538 6.575 65.2 4.0900 1   296 15.3    396.90 4.98 \n",
       "2 0.02731  0 7.07  0    0.469 6.421 78.9 4.9671 2   242 17.8    396.90 9.14 \n",
       "3 0.02729  0 7.07  0    0.469 7.185 61.1 4.9671 2   242 17.8    392.83 4.03 \n",
       "  label\n",
       "1 24.0 \n",
       "2 21.6 \n",
       "3 34.7 "
      ]
     },
     "metadata": {},
     "output_type": "display_data"
    }
   ],
   "source": [
    "# Inspect Data\n",
    "head(df,3)"
   ]
  },
  {
   "cell_type": "code",
   "execution_count": 126,
   "metadata": {},
   "outputs": [
    {
     "data": {
      "text/html": [
       "<ol class=list-inline>\n",
       "\t<li>506</li>\n",
       "\t<li>14</li>\n",
       "</ol>\n"
      ],
      "text/latex": [
       "\\begin{enumerate*}\n",
       "\\item 506\n",
       "\\item 14\n",
       "\\end{enumerate*}\n"
      ],
      "text/markdown": [
       "1. 506\n",
       "2. 14\n",
       "\n",
       "\n"
      ],
      "text/plain": [
       "[1] 506  14"
      ]
     },
     "metadata": {},
     "output_type": "display_data"
    }
   ],
   "source": [
    "dim(df)"
   ]
  },
  {
   "cell_type": "code",
   "execution_count": 127,
   "metadata": {
    "scrolled": true
   },
   "outputs": [
    {
     "data": {
      "image/png": "[encoded data removed]",
      "text/plain": [
       "Plot with title \"label\""
      ]
     },
     "metadata": {},
     "output_type": "display_data"
    }
   ],
   "source": [
    "par(mfrow=c(4,4))\n",
    "for(i in 1:14) {\n",
    "    hist(df[,i], main=names(df)[i], col = 'lightblue')\n",
    "}"
   ]
  },
  {
   "cell_type": "code",
   "execution_count": 128,
   "metadata": {},
   "outputs": [
    {
     "data": {
      "image/png": "[encoded data removed]",
      "text/plain": [
       "plot without title"
      ]
     },
     "metadata": {},
     "output_type": "display_data"
    }
   ],
   "source": [
    "pairs(df[c('LSTAT', 'INDUS', 'NOX', 'RM', 'label')], col = 'blue')"
   ]
  },
  {
   "cell_type": "code",
   "execution_count": 129,
   "metadata": {},
   "outputs": [
    {
     "data": {
      "image/png": "[encoded data removed]",
      "text/plain": [
       "Plot with title \"\""
      ]
     },
     "metadata": {},
     "output_type": "display_data"
    }
   ],
   "source": [
    "library(corrplot)\n",
    "corrplot(cor(df), method=\"circle\")"
   ]
  },
  {
   "cell_type": "code",
   "execution_count": 130,
   "metadata": {},
   "outputs": [
    {
     "name": "stdout",
     "output_type": "stream",
     "text": [
      "'data.frame':\t506 obs. of  14 variables:\n",
      " $ CRIM   : num  0.00632 0.02731 0.02729 0.03237 0.06905 ...\n",
      " $ ZN     : num  18 0 0 0 0 0 12.5 12.5 12.5 12.5 ...\n",
      " $ INDUS  : num  2.31 7.07 7.07 2.18 2.18 2.18 7.87 7.87 7.87 7.87 ...\n",
      " $ CHAS   : int  0 0 0 0 0 0 0 0 0 0 ...\n",
      " $ NOX    : num  0.538 0.469 0.469 0.458 0.458 0.458 0.524 0.524 0.524 0.524 ...\n",
      " $ RM     : num  6.58 6.42 7.18 7 7.15 ...\n",
      " $ AGE    : num  65.2 78.9 61.1 45.8 54.2 58.7 66.6 96.1 100 85.9 ...\n",
      " $ DIS    : num  4.09 4.97 4.97 6.06 6.06 ...\n",
      " $ RAD    : int  1 2 2 3 3 3 5 5 5 5 ...\n",
      " $ TAX    : num  296 242 242 222 222 222 311 311 311 311 ...\n",
      " $ PTRATIO: num  15.3 17.8 17.8 18.7 18.7 18.7 15.2 15.2 15.2 15.2 ...\n",
      " $ B      : num  397 397 393 395 397 ...\n",
      " $ LSTAT  : num  4.98 9.14 4.03 2.94 5.33 ...\n",
      " $ label  : num  24 21.6 34.7 33.4 36.2 28.7 22.9 27.1 16.5 18.9 ...\n"
     ]
    }
   ],
   "source": [
    "str(df)"
   ]
  },
  {
   "cell_type": "code",
   "execution_count": 131,
   "metadata": {},
   "outputs": [
    {
     "data": {
      "text/plain": [
       "      CRIM                ZN             INDUS            CHAS        \n",
       " Min.   : 0.00632   Min.   :  0.00   Min.   : 0.46   Min.   :0.00000  \n",
       " 1st Qu.: 0.08204   1st Qu.:  0.00   1st Qu.: 5.19   1st Qu.:0.00000  \n",
       " Median : 0.25651   Median :  0.00   Median : 9.69   Median :0.00000  \n",
       " Mean   : 3.61352   Mean   : 11.36   Mean   :11.14   Mean   :0.06917  \n",
       " 3rd Qu.: 3.67708   3rd Qu.: 12.50   3rd Qu.:18.10   3rd Qu.:0.00000  \n",
       " Max.   :88.97620   Max.   :100.00   Max.   :27.74   Max.   :1.00000  \n",
       "      NOX               RM             AGE              DIS        \n",
       " Min.   :0.3850   Min.   :3.561   Min.   :  2.90   Min.   : 1.130  \n",
       " 1st Qu.:0.4490   1st Qu.:5.886   1st Qu.: 45.02   1st Qu.: 2.100  \n",
       " Median :0.5380   Median :6.208   Median : 77.50   Median : 3.207  \n",
       " Mean   :0.5547   Mean   :6.285   Mean   : 68.57   Mean   : 3.795  \n",
       " 3rd Qu.:0.6240   3rd Qu.:6.623   3rd Qu.: 94.08   3rd Qu.: 5.188  \n",
       " Max.   :0.8710   Max.   :8.780   Max.   :100.00   Max.   :12.127  \n",
       "      RAD              TAX           PTRATIO            B         \n",
       " Min.   : 1.000   Min.   :187.0   Min.   :12.60   Min.   :  0.32  \n",
       " 1st Qu.: 4.000   1st Qu.:279.0   1st Qu.:17.40   1st Qu.:375.38  \n",
       " Median : 5.000   Median :330.0   Median :19.05   Median :391.44  \n",
       " Mean   : 9.549   Mean   :408.2   Mean   :18.46   Mean   :356.67  \n",
       " 3rd Qu.:24.000   3rd Qu.:666.0   3rd Qu.:20.20   3rd Qu.:396.23  \n",
       " Max.   :24.000   Max.   :711.0   Max.   :22.00   Max.   :396.90  \n",
       "     LSTAT           label      \n",
       " Min.   : 1.73   Min.   : 5.00  \n",
       " 1st Qu.: 6.95   1st Qu.:17.02  \n",
       " Median :11.36   Median :21.20  \n",
       " Mean   :12.65   Mean   :22.53  \n",
       " 3rd Qu.:16.95   3rd Qu.:25.00  \n",
       " Max.   :37.97   Max.   :50.00  "
      ]
     },
     "metadata": {},
     "output_type": "display_data"
    }
   ],
   "source": [
    "summary(df)"
   ]
  },
  {
   "cell_type": "code",
   "execution_count": 132,
   "metadata": {},
   "outputs": [
    {
     "data": {
      "text/html": [
       "FALSE"
      ],
      "text/latex": [
       "FALSE"
      ],
      "text/markdown": [
       "FALSE"
      ],
      "text/plain": [
       "[1] FALSE"
      ]
     },
     "metadata": {},
     "output_type": "display_data"
    }
   ],
   "source": [
    "any(is.na(df))"
   ]
  },
  {
   "cell_type": "markdown",
   "metadata": {},
   "source": [
    "## Data preprocessing"
   ]
  },
  {
   "cell_type": "code",
   "execution_count": 133,
   "metadata": {
    "collapsed": true
   },
   "outputs": [],
   "source": [
    "library(caTools)\n",
    "library(caret)\n",
    "seed = 101 #random seed for reproducibility\n",
    "set.seed(seed) "
   ]
  },
  {
   "cell_type": "markdown",
   "metadata": {},
   "source": [
    "** Split Train Test Sets **"
   ]
  },
  {
   "cell_type": "code",
   "execution_count": 134,
   "metadata": {
    "collapsed": true
   },
   "outputs": [],
   "source": [
    "split = sample.split(df$label, SplitRatio = 0.80)\n",
    "train_set = subset(df, split == TRUE)\n",
    "test_set = subset(df, split == FALSE)"
   ]
  },
  {
   "cell_type": "markdown",
   "metadata": {},
   "source": [
    "** Scale features **"
   ]
  },
  {
   "cell_type": "code",
   "execution_count": 135,
   "metadata": {},
   "outputs": [
    {
     "data": {
      "text/plain": [
       "      CRIM                ZN              INDUS              CHAS        \n",
       " Min.   :-0.41194   Min.   :-0.4958   Min.   :-1.5280   Min.   :-0.2722  \n",
       " 1st Qu.:-0.40388   1st Qu.:-0.4958   1st Qu.:-0.8543   1st Qu.:-0.2722  \n",
       " Median :-0.38512   Median :-0.4958   Median :-0.2820   Median :-0.2722  \n",
       " Mean   : 0.00000   Mean   : 0.0000   Mean   : 0.0000   Mean   : 0.0000  \n",
       " 3rd Qu.:-0.05279   3rd Qu.: 0.2658   3rd Qu.: 1.0085   3rd Qu.:-0.2722  \n",
       " Max.   : 9.34391   Max.   : 3.7649   Max.   : 2.3946   Max.   : 3.6655  \n",
       "      NOX                RM               AGE               DIS         \n",
       " Min.   :-1.4538   Min.   :-3.8222   Min.   :-2.2686   Min.   :-1.2576  \n",
       " 1st Qu.:-0.9151   1st Qu.:-0.5626   1st Qu.:-0.9019   1st Qu.:-0.8100  \n",
       " Median :-0.1455   Median :-0.1150   Median : 0.3376   Median :-0.2876  \n",
       " Mean   : 0.0000   Mean   : 0.0000   Mean   : 0.0000   Mean   : 0.0000  \n",
       " 3rd Qu.: 0.6498   3rd Qu.: 0.4879   3rd Qu.: 0.9070   3rd Qu.: 0.6647  \n",
       " Max.   : 2.7022   Max.   : 3.4183   Max.   : 1.1124   Max.   : 3.9174  \n",
       "      RAD               TAX             PTRATIO              B          \n",
       " Min.   :-0.9684   Min.   :-1.2921   Min.   :-2.6623   Min.   :-3.7592  \n",
       " 1st Qu.:-0.6203   1st Qu.:-0.7575   1st Qu.:-0.6443   1st Qu.: 0.2125  \n",
       " Median :-0.5043   Median :-0.4427   Median : 0.2500   Median : 0.3899  \n",
       " Mean   : 0.0000   Mean   : 0.0000   Mean   : 0.0000   Mean   : 0.0000  \n",
       " 3rd Qu.: 1.2363   3rd Qu.: 1.5530   3rd Qu.: 0.8233   3rd Qu.: 0.4438  \n",
       " Max.   : 1.7005   Max.   : 1.8203   Max.   : 1.6489   Max.   : 0.4493  \n",
       "     LSTAT             label      \n",
       " Min.   :-1.4858   Min.   : 5.00  \n",
       " 1st Qu.:-0.8050   1st Qu.:16.70  \n",
       " Median :-0.2060   Median :21.40  \n",
       " Mean   : 0.0000   Mean   :22.70  \n",
       " 3rd Qu.: 0.6109   3rd Qu.:26.57  \n",
       " Max.   : 3.4586   Max.   :50.00  "
      ]
     },
     "metadata": {},
     "output_type": "display_data"
    }
   ],
   "source": [
    "# standardize data\n",
    "label_col = 14\n",
    "train_set[-label_col] = scale(train_set[-label_col])\n",
    "test_set[-label_col] = scale(test_set[-label_col])\n",
    "summary(train_set)"
   ]
  },
  {
   "cell_type": "markdown",
   "metadata": {},
   "source": [
    "## Baseline Model"
   ]
  },
  {
   "cell_type": "code",
   "execution_count": 137,
   "metadata": {},
   "outputs": [
    {
     "data": {
      "text/plain": [
       "\n",
       "Call:\n",
       "summary.resamples(object = results)\n",
       "\n",
       "Models: linear, pls, ridge, glmnet, svm, knn, mars, cart, bagging, rf, gbm \n",
       "Number of resamples: 5 \n",
       "\n",
       "MAE \n",
       "            Min.  1st Qu.   Median     Mean  3rd Qu.     Max. NA's\n",
       "linear  3.284182 3.316990 3.640569 3.647454 3.965956 4.029573    0\n",
       "pls     3.084014 3.209868 3.704499 3.575770 3.868848 4.011622    0\n",
       "ridge   3.283826 3.316736 3.640370 3.647252 3.966028 4.029301    0\n",
       "glmnet  3.209062 3.285294 3.614952 3.612800 3.959078 3.995616    0\n",
       "svm     1.938133 2.085016 2.694835 2.510127 2.894062 2.938592    0\n",
       "knn     2.435172 2.686207 3.328276 3.119670 3.532414 3.616279    0\n",
       "mars    2.088555 2.642949 2.776317 2.639835 2.776523 2.914829    0\n",
       "cart    4.121511 4.183407 4.436826 4.405705 4.608870 4.677909    0\n",
       "bagging 2.581716 2.634850 2.743199 2.773750 2.865715 3.043271    0\n",
       "rf      2.028527 2.050997 2.385090 2.304422 2.440392 2.617104    0\n",
       "gbm     2.108539 2.180904 2.472179 2.375547 2.485710 2.630403    0\n",
       "\n",
       "RMSE \n",
       "            Min.  1st Qu.   Median     Mean  3rd Qu.     Max. NA's\n",
       "linear  4.226989 4.260048 5.496977 5.176120 5.684611 6.211977    0\n",
       "pls     4.247738 4.303807 5.209629 5.217464 5.983808 6.342341    0\n",
       "ridge   4.226834 4.259754 5.496612 5.176034 5.684774 6.212195    0\n",
       "glmnet  4.186502 4.194711 5.473840 5.164292 5.742400 6.224007    0\n",
       "svm     2.697992 2.698525 4.591387 4.098933 4.691004 5.815756    0\n",
       "knn     3.339696 3.385738 5.285791 4.769084 5.783226 6.050967    0\n",
       "mars    2.728129 3.573842 3.689784 3.889870 4.529382 4.928215    0\n",
       "cart    5.442721 5.562588 5.579910 5.886059 6.372324 6.472751    0\n",
       "bagging 3.286885 3.591484 3.838995 4.130903 4.407500 5.529650    0\n",
       "rf      2.497588 2.947061 3.399817 3.440852 3.455767 4.904028    0\n",
       "gbm     2.784820 2.845789 3.253986 3.431735 3.569586 4.704495    0\n",
       "\n",
       "Rsquared \n",
       "             Min.   1st Qu.    Median      Mean   3rd Qu.      Max. NA's\n",
       "linear  0.6075330 0.6939683 0.7307042 0.7153466 0.7656126 0.7789151    0\n",
       "pls     0.5888443 0.6580329 0.7629908 0.7096053 0.7659784 0.7721801    0\n",
       "ridge   0.6075140 0.6939471 0.7307464 0.7153580 0.7656317 0.7789510    0\n",
       "glmnet  0.6042045 0.6884305 0.7372886 0.7160897 0.7671700 0.7833552    0\n",
       "svm     0.6889516 0.8055569 0.8267026 0.8255942 0.8976239 0.9091359    0\n",
       "knn     0.6709888 0.6713268 0.7585842 0.7591758 0.8396926 0.8552866    0\n",
       "mars    0.7459014 0.7667735 0.8649206 0.8319626 0.8823699 0.8998477    0\n",
       "cart    0.5698607 0.5879575 0.5896638 0.6127507 0.6011949 0.7150764    0\n",
       "bagging 0.7081890 0.8022021 0.8230928 0.8158132 0.8727338 0.8728483    0\n",
       "rf      0.7712728 0.8825917 0.8857811 0.8753467 0.9116054 0.9254824    0\n",
       "gbm     0.7854840 0.8650520 0.8909523 0.8704167 0.9006263 0.9099688    0\n"
      ]
     },
     "metadata": {},
     "output_type": "display_data"
    },
    {
     "data": {},
     "metadata": {},
     "output_type": "display_data"
    },
    {
     "data": {
      "image/png": "[encoded data removed]",
      "text/plain": [
       "plot without title"
      ]
     },
     "metadata": {},
     "output_type": "display_data"
    }
   ],
   "source": [
    "# cross validation\n",
    "trControl <- trainControl(method=\"cv\", number=5)\n",
    "metric <- 'RMSE'\n",
    "\n",
    "# train multiple models\n",
    "# Linear Regression (Ordinary Least Squares;OLS) \n",
    "set.seed(seed)\n",
    "fit.lm <- train(label~., data=train_set, method=\"lm\", \n",
    "                 metric=metric, trControl=trControl)\n",
    "# Partial Least Squares (PLS) Regression\n",
    "set.seed(seed)\n",
    "fit.pls <- train(label~., data=train_set, method=\"pls\", \n",
    "                 metric=metric, trControl=trControl)\n",
    "# Ridge\n",
    "set.seed(seed)\n",
    "fit.ridge <- train(label~., data=train_set, method=\"ridge\", \n",
    "                 metric=metric, trControl=trControl)\n",
    "# GLMNET (lasso, default alpha=1); Least Absolute Shrinkage and Selection Operator (LASSO)\n",
    "set.seed(seed)\n",
    "fit.glmnet <- train(label~., data=train_set, method=\"glmnet\", \n",
    "                    metric=metric, trControl=trControl)\n",
    "# SVM Radial (Support Vector Machine)\n",
    "set.seed(seed)\n",
    "fit.svmRadial <- train(label~., data=train_set, method=\"svmRadial\", \n",
    "                       metric=metric, trControl=trControl, fit=FALSE)\n",
    "# kNN\n",
    "set.seed(seed)\n",
    "fit.knn <- train(label~., data=train_set, method=\"knn\", \n",
    "                 metric=metric, trControl=trControl)\n",
    "# Bagged MARS (Multivariate Adaptive Regression Splines) \n",
    "set.seed(seed)\n",
    "fit.bagEarth <- train(label~., data=train_set, method=\"bagEarth\", \n",
    "                metric=metric, trControl=trControl)\n",
    "# CART\n",
    "set.seed(seed)\n",
    "fit.cart <- train(label~., data=train_set, method=\"rpart\", \n",
    "                  metric=metric, trControl=trControl)\n",
    "# Bagged CART\n",
    "set.seed(seed)\n",
    "fit.treebag <- train(label~., data=train_set, method=\"treebag\", \n",
    "                     metric=metric, trControl=trControl)\n",
    "# Random Forest\n",
    "set.seed(seed)\n",
    "fit.rf <- train(label~., data=train_set, method=\"rf\", \n",
    "                metric=metric, trControl=trControl)\n",
    "# Stochastic Gradient Boosting\n",
    "set.seed(seed)\n",
    "fit.gbm <- train(label~., data=train_set, method=\"gbm\", \n",
    "                 metric=metric, trControl=trControl, verbose=FALSE)\n",
    "\n",
    "# summarise results\n",
    "results <- resamples(list(linear=fit.lm, pls=fit.pls, ridge=fit.ridge,\n",
    "                          glmnet=fit.glmnet, svm=fit.svmRadial, knn=fit.knn,\n",
    "                          mars=fit.bagEarth, cart=fit.cart, bagging=fit.treebag,\n",
    "                          rf=fit.rf, gbm=fit.gbm))\n",
    "summary(results)\n",
    "bwplot(results)"
   ]
  },
  {
   "cell_type": "markdown",
   "metadata": {},
   "source": [
    "## Parameter Tuning\n",
    "4 best algorithms by mean RMSE: gbm, rf, mars, svm\n",
    "\n",
    "tuning parameters: http://topepo.github.io/caret/available-models.html"
   ]
  },
  {
   "cell_type": "code",
   "execution_count": 138,
   "metadata": {
    "collapsed": true
   },
   "outputs": [],
   "source": [
    "trControl <- trainControl(method='cv', number=5)\n",
    "metric <- 'RMSE'"
   ]
  },
  {
   "cell_type": "markdown",
   "metadata": {},
   "source": [
    "#### Model 1: Stochastic Gradient Boosting"
   ]
  },
  {
   "cell_type": "code",
   "execution_count": 139,
   "metadata": {},
   "outputs": [
    {
     "name": "stdout",
     "output_type": "stream",
     "text": [
      "Stochastic Gradient Boosting \n",
      "\n",
      "434 samples\n",
      " 13 predictor\n",
      "\n",
      "No pre-processing\n",
      "Resampling: Cross-Validated (5 fold) \n",
      "Summary of sample sizes: 348, 347, 347, 347, 347 \n",
      "Resampling results across tuning parameters:\n",
      "\n",
      "  shrinkage  interaction.depth  n.minobsinnode  n.trees  RMSE      Rsquared \n",
      "  0.01       1                  10              200      5.359307  0.7696202\n",
      "  0.01       1                  10              300      4.726106  0.7885187\n",
      "  0.01       1                  10              400      4.434403  0.7991643\n",
      "  0.01       1                  10              500      4.287041  0.8048921\n",
      "  0.01       1                  20              200      5.413631  0.7526840\n",
      "  0.01       1                  20              300      4.847864  0.7688898\n",
      "  0.01       1                  20              400      4.596316  0.7768948\n",
      "  0.01       1                  20              500      4.485420  0.7828139\n",
      "  0.01       3                  10              200      4.469233  0.8134602\n",
      "  0.01       3                  10              300      4.031965  0.8303099\n",
      "  0.01       3                  10              400      3.826641  0.8418136\n",
      "  0.01       3                  10              500      3.706284  0.8493049\n",
      "  0.01       3                  20              200      4.648727  0.7921872\n",
      "  0.01       3                  20              300      4.301526  0.8046332\n",
      "  0.01       3                  20              400      4.138669  0.8141055\n",
      "  0.01       3                  20              500      4.038107  0.8217742\n",
      "  0.01       5                  10              200      4.222085  0.8304941\n",
      "  0.01       5                  10              300      3.806398  0.8476142\n",
      "  0.01       5                  10              400      3.608886  0.8586664\n",
      "  0.01       5                  10              500      3.506886  0.8655742\n",
      "  0.01       5                  20              200      4.505618  0.8026426\n",
      "  0.01       5                  20              300      4.182300  0.8146023\n",
      "  0.01       5                  20              400      4.014569  0.8247500\n",
      "  0.01       5                  20              500      3.921653  0.8312186\n",
      "  0.10       1                  10              200      3.785597  0.8392322\n",
      "  0.10       1                  10              300      3.744885  0.8432146\n",
      "  0.10       1                  10              400      3.720203  0.8452918\n",
      "  0.10       1                  10              500      3.742526  0.8442020\n",
      "  0.10       1                  20              200      4.091727  0.8156662\n",
      "  0.10       1                  20              300      4.037264  0.8202932\n",
      "  0.10       1                  20              400      4.044854  0.8209213\n",
      "  0.10       1                  20              500      4.010927  0.8236934\n",
      "  0.10       3                  10              200      3.270438  0.8816451\n",
      "  0.10       3                  10              300      3.240276  0.8845025\n",
      "  0.10       3                  10              400      3.215955  0.8859596\n",
      "  0.10       3                  10              500      3.197334  0.8868399\n",
      "  0.10       3                  20              200      3.724739  0.8481648\n",
      "  0.10       3                  20              300      3.674970  0.8541184\n",
      "  0.10       3                  20              400      3.657192  0.8552096\n",
      "  0.10       3                  20              500      3.647270  0.8562863\n",
      "  0.10       5                  10              200      3.233649  0.8833061\n",
      "  0.10       5                  10              300      3.234349  0.8837413\n",
      "  0.10       5                  10              400      3.241009  0.8836066\n",
      "  0.10       5                  10              500      3.243811  0.8833876\n",
      "  0.10       5                  20              200      3.850467  0.8368450\n",
      "  0.10       5                  20              300      3.762483  0.8446897\n",
      "  0.10       5                  20              400      3.772684  0.8442329\n",
      "  0.10       5                  20              500      3.758196  0.8455735\n",
      "  MAE     \n",
      "  3.783069\n",
      "  3.303899\n",
      "  3.069056\n",
      "  2.954082\n",
      "  3.766457\n",
      "  3.340165\n",
      "  3.140067\n",
      "  3.043132\n",
      "  3.082042\n",
      "  2.712584\n",
      "  2.556255\n",
      "  2.478789\n",
      "  3.117707\n",
      "  2.860161\n",
      "  2.748197\n",
      "  2.696283\n",
      "  2.890630\n",
      "  2.556465\n",
      "  2.410321\n",
      "  2.340211\n",
      "  2.993326\n",
      "  2.761137\n",
      "  2.656863\n",
      "  2.617994\n",
      "  2.656951\n",
      "  2.649070\n",
      "  2.647852\n",
      "  2.666017\n",
      "  2.835078\n",
      "  2.830108\n",
      "  2.865371\n",
      "  2.857423\n",
      "  2.301515\n",
      "  2.295520\n",
      "  2.290990\n",
      "  2.282030\n",
      "  2.597805\n",
      "  2.589010\n",
      "  2.575795\n",
      "  2.590066\n",
      "  2.197729\n",
      "  2.222118\n",
      "  2.234530\n",
      "  2.242576\n",
      "  2.650946\n",
      "  2.619091\n",
      "  2.648599\n",
      "  2.643821\n",
      "\n",
      "RMSE was used to select the optimal model using the smallest value.\n",
      "The final values used for the model were n.trees = 500, interaction.depth =\n",
      " 3, shrinkage = 0.1 and n.minobsinnode = 10.\n"
     ]
    },
    {
     "data": {},
     "metadata": {},
     "output_type": "display_data"
    },
    {
     "data": {
      "image/png": "[encoded data removed]",
      "text/plain": [
       "plot without title"
      ]
     },
     "metadata": {},
     "output_type": "display_data"
    }
   ],
   "source": [
    "# grid search\n",
    "set.seed(seed)\n",
    "tuneGrid <- expand.grid(n.trees = c(200,300,400,500),\n",
    "                       interaction.depth = c(1, 3, 5),\n",
    "                       shrinkage = c(0.01,0.1),\n",
    "                       n.minobsinnode = c(10,20))\n",
    "gridSearch <- train(label~., data=train_set, method='gbm',\n",
    "                 metric=metric, trControl=trControl,\n",
    "                 tuneGrid=tuneGrid, verbose=FALSE)\n",
    "print(gridSearch)\n",
    "plot(gridSearch)"
   ]
  },
  {
   "cell_type": "markdown",
   "metadata": {},
   "source": [
    "#### Model 2: Random Forest"
   ]
  },
  {
   "cell_type": "code",
   "execution_count": 140,
   "metadata": {},
   "outputs": [
    {
     "name": "stdout",
     "output_type": "stream",
     "text": [
      "Random Forest \n",
      "\n",
      "434 samples\n",
      " 13 predictor\n",
      "\n",
      "No pre-processing\n",
      "Resampling: Cross-Validated (5 fold) \n",
      "Summary of sample sizes: 348, 347, 347, 347, 347 \n",
      "Resampling results across tuning parameters:\n",
      "\n",
      "  mtry  RMSE      Rsquared   MAE     \n",
      "   1    4.862830  0.7909096  3.251527\n",
      "   2    3.924936  0.8541663  2.600564\n",
      "   3    3.636428  0.8686553  2.409238\n",
      "   4    3.566729  0.8707955  2.386662\n",
      "   5    3.503051  0.8726121  2.343453\n",
      "   6    3.482354  0.8726453  2.329927\n",
      "   7    3.478671  0.8719330  2.325887\n",
      "   8    3.442557  0.8731856  2.310122\n",
      "   9    3.444368  0.8724609  2.302181\n",
      "  10    3.492104  0.8677418  2.319514\n",
      "\n",
      "RMSE was used to select the optimal model using the smallest value.\n",
      "The final value used for the model was mtry = 8.\n"
     ]
    },
    {
     "data": {},
     "metadata": {},
     "output_type": "display_data"
    },
    {
     "data": {
      "image/png": "[encoded data removed]",
      "text/plain": [
       "plot without title"
      ]
     },
     "metadata": {},
     "output_type": "display_data"
    }
   ],
   "source": [
    "# grid search\n",
    "set.seed(seed)\n",
    "tuneGrid = expand.grid(.mtry=c(1:10))\n",
    "gridSearch <- train(label~., data=train_set, method='rf',\n",
    "                 metric=metric, trControl=trControl,\n",
    "                 tuneGrid=tuneGrid)\n",
    "print(gridSearch)\n",
    "plot(gridSearch)"
   ]
  },
  {
   "cell_type": "markdown",
   "metadata": {},
   "source": [
    "#### Model 3: Bagged MARS"
   ]
  },
  {
   "cell_type": "code",
   "execution_count": 141,
   "metadata": {},
   "outputs": [
    {
     "name": "stdout",
     "output_type": "stream",
     "text": [
      "Bagged MARS \n",
      "\n",
      "434 samples\n",
      " 13 predictor\n",
      "\n",
      "No pre-processing\n",
      "Resampling: Cross-Validated (5 fold) \n",
      "Summary of sample sizes: 348, 347, 347, 347, 347 \n",
      "Resampling results across tuning parameters:\n",
      "\n",
      "  degree  nprune  RMSE      Rsquared   MAE     \n",
      "  1        50     3.891192  0.8322563  2.642727\n",
      "  1       100     3.950606  0.8266021  2.640467\n",
      "  1       150     3.908123  0.8315600  2.636031\n",
      "  1       200     3.856844  0.8345303  2.608027\n",
      "  2        50     3.897647  0.8317647  2.409547\n",
      "  2       100     3.927103  0.8300542  2.440979\n",
      "  2       150     3.734122  0.8470921  2.375616\n",
      "  2       200     3.732893  0.8453991  2.369411\n",
      "\n",
      "RMSE was used to select the optimal model using the smallest value.\n",
      "The final values used for the model were nprune = 200 and degree = 2.\n"
     ]
    },
    {
     "data": {},
     "metadata": {},
     "output_type": "display_data"
    },
    {
     "data": {
      "image/png": "[encoded data removed]",
      "text/plain": [
       "plot without title"
      ]
     },
     "metadata": {},
     "output_type": "display_data"
    }
   ],
   "source": [
    "# grid search\n",
    "set.seed(seed)\n",
    "tuneGrid = expand.grid(nprune = c(50,100,150,200), degree = c(1,2))                       \n",
    "gridSearch <- train(label~., data=train_set, method='bagEarth',\n",
    "                 metric=metric, trControl=trControl,\n",
    "                 tuneGrid=tuneGrid)\n",
    "print(gridSearch)\n",
    "plot(gridSearch)"
   ]
  },
  {
   "cell_type": "markdown",
   "metadata": {},
   "source": [
    "#### Model 4. Support Vector Machine "
   ]
  },
  {
   "cell_type": "code",
   "execution_count": 142,
   "metadata": {},
   "outputs": [
    {
     "name": "stdout",
     "output_type": "stream",
     "text": [
      "Support Vector Machines with Radial Basis Function Kernel \n",
      "\n",
      "434 samples\n",
      " 13 predictor\n",
      "\n",
      "No pre-processing\n",
      "Resampling: Cross-Validated (5 fold) \n",
      "Summary of sample sizes: 348, 347, 347, 347, 347 \n",
      "Resampling results across tuning parameters:\n",
      "\n",
      "  sigma  C   RMSE      Rsquared   MAE     \n",
      "  0.01    1  4.439429  0.7973035  2.762596\n",
      "  0.01   10  3.731121  0.8515498  2.398836\n",
      "  0.01   30  3.514878  0.8664138  2.312276\n",
      "  0.01   50  3.450706  0.8705541  2.300963\n",
      "  0.05    1  3.975035  0.8341742  2.510641\n",
      "  0.05   10  3.255503  0.8847322  2.191573\n",
      "  0.05   30  3.199073  0.8880637  2.176488\n",
      "  0.05   50  3.168718  0.8903486  2.172912\n",
      "  0.10    1  4.041270  0.8309150  2.504496\n",
      "  0.10   10  3.379738  0.8771915  2.232780\n",
      "  0.10   30  3.423098  0.8731768  2.319785\n",
      "  0.10   50  3.481153  0.8680204  2.407471\n",
      "\n",
      "RMSE was used to select the optimal model using the smallest value.\n",
      "The final values used for the model were sigma = 0.05 and C = 50.\n"
     ]
    },
    {
     "data": {},
     "metadata": {},
     "output_type": "display_data"
    },
    {
     "data": {
      "image/png": "[encoded data removed]",
      "text/plain": [
       "plot without title"
      ]
     },
     "metadata": {},
     "output_type": "display_data"
    }
   ],
   "source": [
    "# grid search\n",
    "set.seed(seed)\n",
    "tuneGrid = expand.grid(.sigma=c(0.05,0.01,0.1), .C=c(1,10,30,50))\n",
    "gridSearch <- train(label~., data=train_set, method='svmRadial',\n",
    "                 metric=metric, trControl=trControl,\n",
    "                 tuneGrid=tuneGrid)\n",
    "print(gridSearch)\n",
    "plot(gridSearch)"
   ]
  },
  {
   "cell_type": "markdown",
   "metadata": {},
   "source": [
    "## Final Model: Support Vector Machine (SVM)"
   ]
  },
  {
   "cell_type": "markdown",
   "metadata": {},
   "source": [
    "#### Params: sigma = 0.05 and C = 50"
   ]
  },
  {
   "cell_type": "code",
   "execution_count": 143,
   "metadata": {},
   "outputs": [
    {
     "name": "stdout",
     "output_type": "stream",
     "text": [
      "Support Vector Machine object of class \"ksvm\" \n",
      "\n",
      "SV type: eps-svr  (regression) \n",
      " parameter : epsilon = 0.1  cost C = 50 \n",
      "\n",
      "Gaussian Radial Basis kernel function. \n",
      " Hyperparameter : sigma =  0.05 \n",
      "\n",
      "Number of Support Vectors : 285 \n",
      "\n",
      "Objective Function Value : -1191.169 \n",
      "Training error : 0.034304 \n",
      "Cross validation error : 10.41532 \n"
     ]
    }
   ],
   "source": [
    "library(kernlab)\n",
    "set.seed(seed)\n",
    "final.model <- ksvm(label~., data=train_set, kernel=\"rbfdot\",\n",
    "                    kpar=list(sigma=0.05), C=50, cross=5)\n",
    "print(final.model)"
   ]
  },
  {
   "cell_type": "markdown",
   "metadata": {},
   "source": [
    "#### Save and load the final model"
   ]
  },
  {
   "cell_type": "code",
   "execution_count": 144,
   "metadata": {
    "collapsed": true
   },
   "outputs": [],
   "source": [
    "# save the model to disk\n",
    "saveRDS(final.model, 'final_model.rds')\n",
    "#rm(final.model)"
   ]
  },
  {
   "cell_type": "code",
   "execution_count": 145,
   "metadata": {},
   "outputs": [
    {
     "name": "stdout",
     "output_type": "stream",
     "text": [
      "Support Vector Machine object of class \"ksvm\" \n",
      "\n",
      "SV type: eps-svr  (regression) \n",
      " parameter : epsilon = 0.1  cost C = 50 \n",
      "\n",
      "Gaussian Radial Basis kernel function. \n",
      " Hyperparameter : sigma =  0.05 \n",
      "\n",
      "Number of Support Vectors : 285 \n",
      "\n",
      "Objective Function Value : -1191.169 \n",
      "Training error : 0.034304 \n",
      "Cross validation error : 10.41532 \n"
     ]
    }
   ],
   "source": [
    "# load the model\n",
    "final.model <- readRDS('final_model.rds')\n",
    "print(final.model)"
   ]
  },
  {
   "cell_type": "markdown",
   "metadata": {},
   "source": [
    "#### Final Model Evaluation with Test set"
   ]
  },
  {
   "cell_type": "code",
   "execution_count": 146,
   "metadata": {},
   "outputs": [
    {
     "data": {
      "text/html": [
       "<dl class=dl-horizontal>\n",
       "\t<dt>RMSE</dt>\n",
       "\t\t<dd>3.87979718732503</dd>\n",
       "\t<dt>Rsquared</dt>\n",
       "\t\t<dd>0.846822865295135</dd>\n",
       "\t<dt>MAE</dt>\n",
       "\t\t<dd>2.78297072776341</dd>\n",
       "</dl>\n"
      ],
      "text/latex": [
       "\\begin{description*}\n",
       "\\item[RMSE] 3.87979718732503\n",
       "\\item[Rsquared] 0.846822865295135\n",
       "\\item[MAE] 2.78297072776341\n",
       "\\end{description*}\n"
      ],
      "text/markdown": [
       "RMSE\n",
       ":   3.87979718732503Rsquared\n",
       ":   0.846822865295135MAE\n",
       ":   2.78297072776341\n",
       "\n"
      ],
      "text/plain": [
       "     RMSE  Rsquared       MAE \n",
       "3.8797972 0.8468229 2.7829707 "
      ]
     },
     "metadata": {},
     "output_type": "display_data"
    }
   ],
   "source": [
    "# make predictions\n",
    "predictions <- predict(final.model, test_set[-label_col])\n",
    "# evaluate the model\n",
    "postResample(pred = predictions, obs = test_set$label)"
   ]
  },
  {
   "cell_type": "code",
   "execution_count": 147,
   "metadata": {},
   "outputs": [
    {
     "data": {
      "image/png": "[encoded data removed]",
      "text/plain": [
       "Plot with title \"MEDV: True vs Predicted\""
      ]
     },
     "metadata": {},
     "output_type": "display_data"
    }
   ],
   "source": [
    "plot(x=test_set$label, y=predictions, col = 'blue',  \n",
    "     xlab = 'True', ylab = 'Predicted',\n",
    "     main='MEDV: True vs Predicted')"
   ]
  },
  {
   "cell_type": "code",
   "execution_count": 148,
   "metadata": {},
   "outputs": [
    {
     "data": {
      "image/png": "[encoded data removed]",
      "text/plain": [
       "Plot with title \"MEDV: Error Distribution\""
      ]
     },
     "metadata": {},
     "output_type": "display_data"
    }
   ],
   "source": [
    "hist((predictions-test_set$label), breaks = 50,\n",
    "     col = 'lightblue', border = 'pink',\n",
    "     xlab = 'Error (True - Pred)',\n",
    "     main='MEDV: Error Distribution',\n",
    "     xlim = c(-20, 20))"
   ]
  },
  {
   "cell_type": "markdown",
   "metadata": {},
   "source": [
    "## Summary"
   ]
  },
  {
   "cell_type": "markdown",
   "metadata": {},
   "source": [
    "- Best model: **SVM** w/ param: sigma=0.05, C=50\n",
    "\n",
    "\n",
    "- RMSE / R2 score of test set: ** 3.88 / 0.85 **"
   ]
  }
 ],
 "metadata": {
  "kernelspec": {
   "display_name": "R",
   "language": "R",
   "name": "ir"
  },
  "language_info": {
   "codemirror_mode": "r",
   "file_extension": ".r",
   "mimetype": "text/x-r-source",
   "name": "R",
   "pygments_lexer": "r",
   "version": "3.4.3"
  }
 },
 "nbformat": 4,
 "nbformat_minor": 2
}
