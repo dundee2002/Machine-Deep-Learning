{
 "cells": [
  {
   "cell_type": "markdown",
   "metadata": {},
   "source": [
    "## Binary Classification: Titanic Dataset\n",
    "https://www.kaggle.com/c/titanic\n",
    "\n",
    "** Dataset Information: **\n",
    "\n",
    "891 passenger information aboard the Titanic\n",
    "\n",
    "** Attribute Information: (9 features and 1 class)**\n",
    "\n",
    "\n",
    "Variable\tDefinition\t     Key\n",
    "1. survival\tSurvival\t     0 = No, 1 = Yes\n",
    "2. pclass\tTicket class\t 1 = 1st, 2 = 2nd, 3 = 3rd\n",
    "3. sex\t    Sex\t\n",
    "4. Age\t    Age in years\t\n",
    "5. sibsp\t# of siblings / spouses aboard the Titanic\t\n",
    "6. parch\t# of parents / children aboard the Titanic\t\n",
    "7. ticket\tTicket number\t\n",
    "8. fare\t    Passenger fare\t\n",
    "9. cabin\tCabin number\t\n",
    "10. embarked Port of Embarkation\tC = Cherbourg, Q = Queenstown, S = Southampton\n",
    "\n",
    "** Objective of this project **\n",
    "\n",
    "predict whether a passenger survived the sinking of the Titanic or not"
   ]
  },
  {
   "cell_type": "markdown",
   "metadata": {},
   "source": [
    "## Data"
   ]
  },
  {
   "cell_type": "code",
   "execution_count": 137,
   "metadata": {
    "collapsed": true
   },
   "outputs": [],
   "source": [
    "options(warn=-1)\n",
    "# Load Data\n",
    "df  <- read.csv('train.csv')"
   ]
  },
  {
   "cell_type": "code",
   "execution_count": 138,
   "metadata": {},
   "outputs": [
    {
     "data": {
      "text/html": [
       "<table>\n",
       "<thead><tr><th scope=col>PassengerId</th><th scope=col>Survived</th><th scope=col>Pclass</th><th scope=col>Name</th><th scope=col>Sex</th><th scope=col>Age</th><th scope=col>SibSp</th><th scope=col>Parch</th><th scope=col>Ticket</th><th scope=col>Fare</th><th scope=col>Cabin</th><th scope=col>Embarked</th></tr></thead>\n",
       "<tbody>\n",
       "\t<tr><td>1                                                  </td><td>0                                                  </td><td>3                                                  </td><td>Braund, Mr. Owen Harris                            </td><td>male                                               </td><td>22                                                 </td><td>1                                                  </td><td>0                                                  </td><td>A/5 21171                                          </td><td> 7.2500                                            </td><td>                                                   </td><td>S                                                  </td></tr>\n",
       "\t<tr><td>2                                                  </td><td>1                                                  </td><td>1                                                  </td><td>Cumings, Mrs. John Bradley (Florence Briggs Thayer)</td><td>female                                             </td><td>38                                                 </td><td>1                                                  </td><td>0                                                  </td><td>PC 17599                                           </td><td>71.2833                                            </td><td>C85                                                </td><td>C                                                  </td></tr>\n",
       "\t<tr><td>3                                                  </td><td>1                                                  </td><td>3                                                  </td><td>Heikkinen, Miss. Laina                             </td><td>female                                             </td><td>26                                                 </td><td>0                                                  </td><td>0                                                  </td><td>STON/O2. 3101282                                   </td><td> 7.9250                                            </td><td>                                                   </td><td>S                                                  </td></tr>\n",
       "</tbody>\n",
       "</table>\n"
      ],
      "text/latex": [
       "\\begin{tabular}{r|llllllllllll}\n",
       " PassengerId & Survived & Pclass & Name & Sex & Age & SibSp & Parch & Ticket & Fare & Cabin & Embarked\\\\\n",
       "\\hline\n",
       "\t 1                                                   & 0                                                   & 3                                                   & Braund, Mr. Owen Harris                             & male                                                & 22                                                  & 1                                                   & 0                                                   & A/5 21171                                           &  7.2500                                             &                                                     & S                                                  \\\\\n",
       "\t 2                                                   & 1                                                   & 1                                                   & Cumings, Mrs. John Bradley (Florence Briggs Thayer) & female                                              & 38                                                  & 1                                                   & 0                                                   & PC 17599                                            & 71.2833                                             & C85                                                 & C                                                  \\\\\n",
       "\t 3                                                   & 1                                                   & 3                                                   & Heikkinen, Miss. Laina                              & female                                              & 26                                                  & 0                                                   & 0                                                   & STON/O2. 3101282                                    &  7.9250                                             &                                                     & S                                                  \\\\\n",
       "\\end{tabular}\n"
      ],
      "text/markdown": [
       "\n",
       "PassengerId | Survived | Pclass | Name | Sex | Age | SibSp | Parch | Ticket | Fare | Cabin | Embarked | \n",
       "|---|---|---|\n",
       "| 1                                                   | 0                                                   | 3                                                   | Braund, Mr. Owen Harris                             | male                                                | 22                                                  | 1                                                   | 0                                                   | A/5 21171                                           |  7.2500                                             |                                                     | S                                                   | \n",
       "| 2                                                   | 1                                                   | 1                                                   | Cumings, Mrs. John Bradley (Florence Briggs Thayer) | female                                              | 38                                                  | 1                                                   | 0                                                   | PC 17599                                            | 71.2833                                             | C85                                                 | C                                                   | \n",
       "| 3                                                   | 1                                                   | 3                                                   | Heikkinen, Miss. Laina                              | female                                              | 26                                                  | 0                                                   | 0                                                   | STON/O2. 3101282                                    |  7.9250                                             |                                                     | S                                                   | \n",
       "\n",
       "\n"
      ],
      "text/plain": [
       "  PassengerId Survived Pclass\n",
       "1 1           0        3     \n",
       "2 2           1        1     \n",
       "3 3           1        3     \n",
       "  Name                                                Sex    Age SibSp Parch\n",
       "1 Braund, Mr. Owen Harris                             male   22  1     0    \n",
       "2 Cumings, Mrs. John Bradley (Florence Briggs Thayer) female 38  1     0    \n",
       "3 Heikkinen, Miss. Laina                              female 26  0     0    \n",
       "  Ticket           Fare    Cabin Embarked\n",
       "1 A/5 21171         7.2500       S       \n",
       "2 PC 17599         71.2833 C85   C       \n",
       "3 STON/O2. 3101282  7.9250       S       "
      ]
     },
     "metadata": {},
     "output_type": "display_data"
    }
   ],
   "source": [
    "# Inspect Data\n",
    "head(df,3)\n",
    "colnames(df)[2] <- 'label' #'Survived' class -> label"
   ]
  },
  {
   "cell_type": "code",
   "execution_count": 139,
   "metadata": {},
   "outputs": [
    {
     "data": {
      "text/html": [
       "<ol class=list-inline>\n",
       "\t<li>891</li>\n",
       "\t<li>12</li>\n",
       "</ol>\n"
      ],
      "text/latex": [
       "\\begin{enumerate*}\n",
       "\\item 891\n",
       "\\item 12\n",
       "\\end{enumerate*}\n"
      ],
      "text/markdown": [
       "1. 891\n",
       "2. 12\n",
       "\n",
       "\n"
      ],
      "text/plain": [
       "[1] 891  12"
      ]
     },
     "metadata": {},
     "output_type": "display_data"
    }
   ],
   "source": [
    "dim(df)"
   ]
  },
  {
   "cell_type": "code",
   "execution_count": 140,
   "metadata": {},
   "outputs": [
    {
     "name": "stdout",
     "output_type": "stream",
     "text": [
      "'data.frame':\t891 obs. of  12 variables:\n",
      " $ PassengerId: int  1 2 3 4 5 6 7 8 9 10 ...\n",
      " $ label      : int  0 1 1 1 0 0 0 0 1 1 ...\n",
      " $ Pclass     : int  3 1 3 1 3 3 1 3 3 2 ...\n",
      " $ Name       : Factor w/ 891 levels \"Abbing, Mr. Anthony\",..: 109 191 358 277 16 559 520 629 417 581 ...\n",
      " $ Sex        : Factor w/ 2 levels \"female\",\"male\": 2 1 1 1 2 2 2 2 1 1 ...\n",
      " $ Age        : num  22 38 26 35 35 NA 54 2 27 14 ...\n",
      " $ SibSp      : int  1 1 0 1 0 0 0 3 0 1 ...\n",
      " $ Parch      : int  0 0 0 0 0 0 0 1 2 0 ...\n",
      " $ Ticket     : Factor w/ 681 levels \"110152\",\"110413\",..: 524 597 670 50 473 276 86 396 345 133 ...\n",
      " $ Fare       : num  7.25 71.28 7.92 53.1 8.05 ...\n",
      " $ Cabin      : Factor w/ 148 levels \"\",\"A10\",\"A14\",..: 1 83 1 57 1 1 131 1 1 1 ...\n",
      " $ Embarked   : Factor w/ 4 levels \"\",\"C\",\"Q\",\"S\": 4 2 4 4 4 3 4 4 4 2 ...\n"
     ]
    }
   ],
   "source": [
    "str(df)"
   ]
  },
  {
   "cell_type": "code",
   "execution_count": 141,
   "metadata": {},
   "outputs": [
    {
     "data": {
      "text/plain": [
       "  PassengerId        label            Pclass     \n",
       " Min.   :  1.0   Min.   :0.0000   Min.   :1.000  \n",
       " 1st Qu.:223.5   1st Qu.:0.0000   1st Qu.:2.000  \n",
       " Median :446.0   Median :0.0000   Median :3.000  \n",
       " Mean   :446.0   Mean   :0.3838   Mean   :2.309  \n",
       " 3rd Qu.:668.5   3rd Qu.:1.0000   3rd Qu.:3.000  \n",
       " Max.   :891.0   Max.   :1.0000   Max.   :3.000  \n",
       "                                                 \n",
       "                                    Name         Sex           Age       \n",
       " Abbing, Mr. Anthony                  :  1   female:314   Min.   : 0.42  \n",
       " Abbott, Mr. Rossmore Edward          :  1   male  :577   1st Qu.:20.12  \n",
       " Abbott, Mrs. Stanton (Rosa Hunt)     :  1                Median :28.00  \n",
       " Abelson, Mr. Samuel                  :  1                Mean   :29.70  \n",
       " Abelson, Mrs. Samuel (Hannah Wizosky):  1                3rd Qu.:38.00  \n",
       " Adahl, Mr. Mauritz Nils Martin       :  1                Max.   :80.00  \n",
       " (Other)                              :885                NA's   :177    \n",
       "     SibSp           Parch             Ticket         Fare       \n",
       " Min.   :0.000   Min.   :0.0000   1601    :  7   Min.   :  0.00  \n",
       " 1st Qu.:0.000   1st Qu.:0.0000   347082  :  7   1st Qu.:  7.91  \n",
       " Median :0.000   Median :0.0000   CA. 2343:  7   Median : 14.45  \n",
       " Mean   :0.523   Mean   :0.3816   3101295 :  6   Mean   : 32.20  \n",
       " 3rd Qu.:1.000   3rd Qu.:0.0000   347088  :  6   3rd Qu.: 31.00  \n",
       " Max.   :8.000   Max.   :6.0000   CA 2144 :  6   Max.   :512.33  \n",
       "                                  (Other) :852                   \n",
       "         Cabin     Embarked\n",
       "            :687    :  2   \n",
       " B96 B98    :  4   C:168   \n",
       " C23 C25 C27:  4   Q: 77   \n",
       " G6         :  4   S:644   \n",
       " C22 C26    :  3           \n",
       " D          :  3           \n",
       " (Other)    :186           "
      ]
     },
     "metadata": {},
     "output_type": "display_data"
    }
   ],
   "source": [
    "summary(df)"
   ]
  },
  {
   "cell_type": "code",
   "execution_count": 142,
   "metadata": {},
   "outputs": [
    {
     "data": {
      "text/plain": [
       "\n",
       "  0   1 \n",
       "549 342 "
      ]
     },
     "metadata": {},
     "output_type": "display_data"
    }
   ],
   "source": [
    "table(df$label) #imbalanced labels"
   ]
  },
  {
   "cell_type": "code",
   "execution_count": 143,
   "metadata": {},
   "outputs": [
    {
     "data": {
      "text/html": [
       "TRUE"
      ],
      "text/latex": [
       "TRUE"
      ],
      "text/markdown": [
       "TRUE"
      ],
      "text/plain": [
       "[1] TRUE"
      ]
     },
     "metadata": {},
     "output_type": "display_data"
    }
   ],
   "source": [
    "any(is.na(df))"
   ]
  },
  {
   "cell_type": "markdown",
   "metadata": {},
   "source": [
    "## Data preprocessing"
   ]
  },
  {
   "cell_type": "markdown",
   "metadata": {},
   "source": [
    "** Missing Data **"
   ]
  },
  {
   "cell_type": "code",
   "execution_count": 144,
   "metadata": {},
   "outputs": [
    {
     "data": {
      "image/png": "[encoded data removed]",
      "text/plain": [
       "Plot with title \"Titanic Training Data - Missings Map\""
      ]
     },
     "metadata": {},
     "output_type": "display_data"
    }
   ],
   "source": [
    "library(Amelia)\n",
    "missmap(df, main=\"Titanic Training Data - Missings Map\", \n",
    "        col=c(\"yellow\", \"black\"), legend=FALSE)"
   ]
  },
  {
   "cell_type": "markdown",
   "metadata": {},
   "source": [
    "** Clean Data **"
   ]
  },
  {
   "cell_type": "code",
   "execution_count": 145,
   "metadata": {},
   "outputs": [
    {
     "data": {},
     "metadata": {},
     "output_type": "display_data"
    },
    {
     "data": {
      "image/png": "[encoded data removed]",
      "text/plain": [
       "plot without title"
      ]
     },
     "metadata": {},
     "output_type": "display_data"
    }
   ],
   "source": [
    "# Passenger: imputed with the average age by Pclass\n",
    "library(ggplot2)\n",
    "ggplot(df,aes(Pclass,Age)) + \n",
    "    geom_boxplot(aes(group=Pclass, fill=factor(Pclass)), alpha=0.4) +\n",
    "    scale_y_continuous(breaks = seq(min(0), max(80), by = 2))"
   ]
  },
  {
   "cell_type": "code",
   "execution_count": 146,
   "metadata": {
    "collapsed": true
   },
   "outputs": [],
   "source": [
    "impute_age <- function(age,class){\n",
    "    out <- age\n",
    "    for (i in 1:length(age)){\n",
    "        \n",
    "        if (is.na(age[i])){\n",
    "\n",
    "            if (class[i] == 1){\n",
    "                out[i] <- 38\n",
    "\n",
    "            }else if (class[i] == 2){\n",
    "                out[i] <- 30\n",
    "\n",
    "            }else{\n",
    "                out[i] <- 25\n",
    "            }\n",
    "        }else{\n",
    "            out[i]<-age[i]\n",
    "        }\n",
    "    }\n",
    "    return(out)\n",
    "}\n",
    "\n",
    "df$Age <- impute_age(df$Age,df$Pclass)"
   ]
  },
  {
   "cell_type": "code",
   "execution_count": 147,
   "metadata": {},
   "outputs": [
    {
     "data": {
      "text/html": [
       "FALSE"
      ],
      "text/latex": [
       "FALSE"
      ],
      "text/markdown": [
       "FALSE"
      ],
      "text/plain": [
       "[1] FALSE"
      ]
     },
     "metadata": {},
     "output_type": "display_data"
    }
   ],
   "source": [
    "# drop columns\n",
    "library(dplyr)\n",
    "df <- select(df, -PassengerId, -Name, -Ticket, -Cabin)\n",
    "any(is.na(df))"
   ]
  },
  {
   "cell_type": "markdown",
   "metadata": {},
   "source": [
    "** Encode Categorical Variables **"
   ]
  },
  {
   "cell_type": "code",
   "execution_count": 148,
   "metadata": {},
   "outputs": [
    {
     "name": "stdout",
     "output_type": "stream",
     "text": [
      "'data.frame':\t891 obs. of  8 variables:\n",
      " $ label   : int  0 1 1 1 0 0 0 0 1 1 ...\n",
      " $ Pclass  : int  3 1 3 1 3 3 1 3 3 2 ...\n",
      " $ Sex     : Factor w/ 2 levels \"female\",\"male\": 2 1 1 1 2 2 2 2 1 1 ...\n",
      " $ Age     : num  22 38 26 35 35 25 54 2 27 14 ...\n",
      " $ SibSp   : int  1 1 0 1 0 0 0 3 0 1 ...\n",
      " $ Parch   : int  0 0 0 0 0 0 0 1 2 0 ...\n",
      " $ Fare    : num  7.25 71.28 7.92 53.1 8.05 ...\n",
      " $ Embarked: Factor w/ 4 levels \"\",\"C\",\"Q\",\"S\": 4 2 4 4 4 3 4 4 4 2 ...\n"
     ]
    }
   ],
   "source": [
    "str(df)"
   ]
  },
  {
   "cell_type": "code",
   "execution_count": 149,
   "metadata": {},
   "outputs": [
    {
     "name": "stdout",
     "output_type": "stream",
     "text": [
      "'data.frame':\t891 obs. of  8 variables:\n",
      " $ label   : Factor w/ 2 levels \"0\",\"1\": 1 2 2 2 1 1 1 1 2 2 ...\n",
      " $ Pclass  : Factor w/ 3 levels \"1\",\"2\",\"3\": 3 1 3 1 3 3 1 3 3 2 ...\n",
      " $ Sex     : Factor w/ 2 levels \"female\",\"male\": 2 1 1 1 2 2 2 2 1 1 ...\n",
      " $ Age     : num  22 38 26 35 35 25 54 2 27 14 ...\n",
      " $ SibSp   : Factor w/ 7 levels \"0\",\"1\",\"2\",\"3\",..: 2 2 1 2 1 1 1 4 1 2 ...\n",
      " $ Parch   : Factor w/ 7 levels \"0\",\"1\",\"2\",\"3\",..: 1 1 1 1 1 1 1 2 3 1 ...\n",
      " $ Fare    : num  7.25 71.28 7.92 53.1 8.05 ...\n",
      " $ Embarked: Factor w/ 4 levels \"\",\"C\",\"Q\",\"S\": 4 2 4 4 4 3 4 4 4 2 ...\n"
     ]
    }
   ],
   "source": [
    "df$label <- factor(df$label)\n",
    "df$Pclass <- factor(df$Pclass)\n",
    "df$Parch <- factor(df$Parch)\n",
    "df$SibSp <- factor(df$SibSp)\n",
    "str(df)"
   ]
  },
  {
   "cell_type": "markdown",
   "metadata": {},
   "source": [
    "** Split Train Test Sets **"
   ]
  },
  {
   "cell_type": "code",
   "execution_count": 150,
   "metadata": {
    "collapsed": true
   },
   "outputs": [],
   "source": [
    "library(caTools)\n",
    "library(caret)\n",
    "seed = 101 #random seed for reproducibility\n",
    "set.seed(seed) "
   ]
  },
  {
   "cell_type": "code",
   "execution_count": 151,
   "metadata": {
    "collapsed": true
   },
   "outputs": [],
   "source": [
    "split = sample.split(df$label, SplitRatio = 0.80)\n",
    "train_set = subset(df, split == TRUE)\n",
    "test_set = subset(df, split == FALSE)"
   ]
  },
  {
   "cell_type": "markdown",
   "metadata": {},
   "source": [
    "** Scale features **"
   ]
  },
  {
   "cell_type": "code",
   "execution_count": 152,
   "metadata": {},
   "outputs": [
    {
     "data": {
      "text/plain": [
       " label   Pclass      Sex           Age          SibSp   Parch  \n",
       " 0:439   1:171   female:254   Min.   :-2.1363   0:488   0:538  \n",
       " 1:274   2:141   male  :459   1st Qu.:-0.5321   1:163   1: 97  \n",
       "         3:401                Median :-0.3090   2: 23   2: 67  \n",
       "                              Mean   : 0.0000   3: 13   3:  5  \n",
       "                              3rd Qu.: 0.5830   4: 14   4:  2  \n",
       "                              Max.   : 3.7797   5:  5   5:  3  \n",
       "                                                8:  7   6:  1  \n",
       "      Fare          Embarked\n",
       " Min.   :-0.66129    :  2   \n",
       " 1st Qu.:-0.49823   C:136   \n",
       " Median :-0.36279   Q: 60   \n",
       " Mean   : 0.00000   S:515   \n",
       " 3rd Qu.:-0.02108           \n",
       " Max.   : 9.91921           \n",
       "                            "
      ]
     },
     "metadata": {},
     "output_type": "display_data"
    }
   ],
   "source": [
    "# standardize data\n",
    "label_col  = 1\n",
    "train_set[c(4,7)] = scale(train_set[c(4,7)])\n",
    "test_set[c(4,7)] = scale(test_set[c(4,7)])\n",
    "summary(train_set)"
   ]
  },
  {
   "cell_type": "markdown",
   "metadata": {},
   "source": [
    "## Baseline Model"
   ]
  },
  {
   "cell_type": "code",
   "execution_count": 153,
   "metadata": {
    "collapsed": true
   },
   "outputs": [],
   "source": [
    "# cross validation\n",
    "trControl <- trainControl(method=\"cv\", number=5)\n",
    "metric <- \"Accuracy\""
   ]
  },
  {
   "cell_type": "code",
   "execution_count": 154,
   "metadata": {},
   "outputs": [
    {
     "data": {
      "text/plain": [
       "\n",
       "Call:\n",
       "summary.resamples(object = results)\n",
       "\n",
       "Models: lda, logistic, glmnet, svm, knn, nb, cart, c50, bagging, rf, gbm \n",
       "Number of resamples: 5 \n",
       "\n",
       "Accuracy \n",
       "              Min.   1st Qu.    Median      Mean   3rd Qu.      Max. NA's\n",
       "lda      0.7535211 0.7757929 0.8111888 0.8055131 0.8409091 0.8461538    1\n",
       "logistic 0.7676056 0.7832168 0.8321678 0.8148528 0.8391608 0.8521127    0\n",
       "glmnet   0.7746479 0.7832168 0.8321678 0.8162612 0.8391608 0.8521127    0\n",
       "svm      0.7412587 0.7676056 0.8028169 0.7938048 0.8251748 0.8321678    0\n",
       "knn      0.7342657 0.7762238 0.8028169 0.7967399 0.8041958 0.8661972    0\n",
       "nb       0.6126761 0.6153846 0.6197183 0.6199054 0.6223776 0.6293706    0\n",
       "cart     0.7394366 0.7692308 0.8251748 0.8022062 0.8380282 0.8391608    0\n",
       "c50      0.7816901 0.7902098 0.8251748 0.8204964 0.8321678 0.8732394    0\n",
       "bagging  0.7342657 0.7605634 0.7902098 0.7994681 0.8531469 0.8591549    0\n",
       "rf       0.7622378 0.7746479 0.8251748 0.8190880 0.8601399 0.8732394    0\n",
       "gbm      0.7832168 0.7887324 0.8391608 0.8275190 0.8391608 0.8873239    0\n",
       "\n",
       "Kappa \n",
       "              Min.   1st Qu.    Median       Mean    3rd Qu.      Max. NA's\n",
       "lda      0.4754064 0.5120039 0.5916340 0.58172197 0.66135211 0.6682135    1\n",
       "logistic 0.5087020 0.5242031 0.6380510 0.60347540 0.65906499 0.6873558    0\n",
       "glmnet   0.5219861 0.5242031 0.6380510 0.60613221 0.65906499 0.6873558    0\n",
       "svm      0.4439306 0.5053832 0.5846218 0.55803372 0.61077844 0.6454545    0\n",
       "knn      0.4308756 0.5035800 0.5777262 0.56139187 0.58173785 0.7130398    0\n",
       "nb       0.0000000 0.0000000 0.0000000 0.01333338 0.02228412 0.0443828    0\n",
       "cart     0.4528223 0.4862275 0.6189918 0.57542550 0.65433526 0.6647506    0\n",
       "c50      0.5191173 0.5379147 0.6276850 0.60785935 0.62941847 0.7251613    0\n",
       "bagging  0.4308756 0.4921102 0.5411765 0.57078991 0.68439306 0.7053942    0\n",
       "rf       0.4872390 0.5283371 0.6162928 0.61264319 0.69837587 0.7329712    0\n",
       "gbm      0.5208086 0.5457454 0.6469894 0.62624050 0.65671642 0.7609428    0\n"
      ]
     },
     "metadata": {},
     "output_type": "display_data"
    },
    {
     "data": {},
     "metadata": {},
     "output_type": "display_data"
    },
    {
     "data": {
      "image/png": "[encoded data removed]",
      "text/plain": [
       "plot without title"
      ]
     },
     "metadata": {},
     "output_type": "display_data"
    }
   ],
   "source": [
    "# train multiple models\n",
    "# Linear Discriminant Analysis\n",
    "set.seed(seed)\n",
    "fit.lda <- train(label~., data=train_set, method=\"lda\", \n",
    "                 metric=metric, trControl=trControl)\n",
    "# Logistic Regression\n",
    "set.seed(seed)\n",
    "fit.glm <- train(label~., data=train_set, method=\"glm\", \n",
    "                 metric=metric, trControl=trControl)\n",
    "# GLMNET\n",
    "set.seed(seed)\n",
    "fit.glmnet <- train(label~., data=train_set, method=\"glmnet\", \n",
    "                    metric=metric, trControl=trControl)\n",
    "# SVM Radial\n",
    "set.seed(seed)\n",
    "fit.svmRadial <- train(label~., data=train_set, method=\"svmRadial\", \n",
    "                       metric=metric, trControl=trControl, fit=FALSE)\n",
    "# kNN\n",
    "set.seed(seed)\n",
    "fit.knn <- train(label~., data=train_set, method=\"knn\", \n",
    "                 metric=metric, trControl=trControl)\n",
    "# Naive Bayes\n",
    "set.seed(seed)\n",
    "fit.nb <- train(label~., data=train_set, method=\"nb\", \n",
    "                metric=metric, trControl=trControl)\n",
    "# CART\n",
    "set.seed(seed)\n",
    "fit.cart <- train(label~., data=train_set, method=\"rpart\", \n",
    "                  metric=metric, trControl=trControl)\n",
    "# C5.0\n",
    "set.seed(seed)\n",
    "fit.c50 <- train(label~., data=train_set, method=\"C5.0\", \n",
    "                 metric=metric, trControl=trControl)\n",
    "# Bagged CART\n",
    "set.seed(seed)\n",
    "fit.treebag <- train(label~., data=train_set, method=\"treebag\", \n",
    "                     metric=metric, trControl=trControl)\n",
    "# Random Forest\n",
    "set.seed(seed)\n",
    "fit.rf <- train(label~., data=train_set, method=\"rf\", \n",
    "                metric=metric, trControl=trControl)\n",
    "# Stochastic Gradient Boosting\n",
    "set.seed(seed)\n",
    "fit.gbm <- train(label~., data=train_set, method=\"gbm\", \n",
    "                 metric=metric, trControl=trControl, verbose=FALSE)\n",
    "\n",
    "# summarise results\n",
    "results <- resamples(list(lda=fit.lda, logistic=fit.glm, glmnet=fit.glmnet,\n",
    "    svm=fit.svmRadial, knn=fit.knn, nb=fit.nb, cart=fit.cart, c50=fit.c50,\n",
    "    bagging=fit.treebag, rf=fit.rf, gbm=fit.gbm))\n",
    "summary(results)\n",
    "bwplot(results)"
   ]
  },
  {
   "cell_type": "markdown",
   "metadata": {},
   "source": [
    "## Parameter Tuning\n",
    "4 best algorithms by mean accuracy: gbm, C50, rf, glmnet\n",
    "\n",
    "tuning parameters: http://topepo.github.io/caret/available-models.html\n",
    "https://github.com/topepo/caret/tree/master/models/files"
   ]
  },
  {
   "cell_type": "code",
   "execution_count": 155,
   "metadata": {
    "collapsed": true
   },
   "outputs": [],
   "source": [
    "trControl <- trainControl(method='cv', number=5)\n",
    "metric <- 'Accuracy'"
   ]
  },
  {
   "cell_type": "markdown",
   "metadata": {},
   "source": [
    "#### Model 1: Stochastic Gradient Boosting "
   ]
  },
  {
   "cell_type": "code",
   "execution_count": 156,
   "metadata": {},
   "outputs": [
    {
     "data": {
      "text/plain": [
       "Stochastic Gradient Boosting \n",
       "\n",
       "713 samples\n",
       "  7 predictor\n",
       "  2 classes: '0', '1' \n",
       "\n",
       "No pre-processing\n",
       "Resampling: Cross-Validated (5 fold) \n",
       "Summary of sample sizes: 570, 570, 570, 571, 571 \n",
       "Resampling results across tuning parameters:\n",
       "\n",
       "  interaction.depth  n.trees  Accuracy   Kappa    \n",
       "  1                   50      0.7909682  0.5530525\n",
       "  1                  100      0.7993696  0.5729695\n",
       "  1                  150      0.8022161  0.5767160\n",
       "  2                   50      0.7994090  0.5675012\n",
       "  2                  100      0.8064611  0.5829609\n",
       "  2                  150      0.8134443  0.5968237\n",
       "  3                   50      0.8275190  0.6262405\n",
       "  3                  100      0.8162514  0.6023848\n",
       "  3                  150      0.8204767  0.6111332\n",
       "\n",
       "Tuning parameter 'shrinkage' was held constant at a value of 0.1\n",
       "\n",
       "Tuning parameter 'n.minobsinnode' was held constant at a value of 10\n",
       "Accuracy was used to select the optimal model using the largest value.\n",
       "The final values used for the model were n.trees = 50, interaction.depth =\n",
       " 3, shrinkage = 0.1 and n.minobsinnode = 10."
      ]
     },
     "metadata": {},
     "output_type": "display_data"
    }
   ],
   "source": [
    "# default\n",
    "fit.gbm"
   ]
  },
  {
   "cell_type": "code",
   "execution_count": 157,
   "metadata": {},
   "outputs": [
    {
     "name": "stdout",
     "output_type": "stream",
     "text": [
      "Stochastic Gradient Boosting \n",
      "\n",
      "713 samples\n",
      "  7 predictor\n",
      "  2 classes: '0', '1' \n",
      "\n",
      "No pre-processing\n",
      "Resampling: Cross-Validated (5 fold) \n",
      "Summary of sample sizes: 570, 570, 570, 571, 571 \n",
      "Resampling results across tuning parameters:\n",
      "\n",
      "  shrinkage  interaction.depth  n.minobsinnode  n.trees  Accuracy   Kappa    \n",
      "  0.01       1                  10               50      0.7895597  0.5489558\n",
      "  0.01       1                  10              100      0.7895597  0.5489558\n",
      "  0.01       1                  10              200      0.7895597  0.5489558\n",
      "  0.01       1                  20               50      0.7895597  0.5489558\n",
      "  0.01       1                  20              100      0.7895597  0.5489558\n",
      "  0.01       1                  20              200      0.7895597  0.5489558\n",
      "  0.01       3                  10               50      0.7798483  0.4851190\n",
      "  0.01       3                  10              100      0.7910568  0.5312351\n",
      "  0.01       3                  10              200      0.8036245  0.5707099\n",
      "  0.01       3                  20               50      0.7798483  0.4851190\n",
      "  0.01       3                  20              100      0.7896582  0.5227776\n",
      "  0.01       3                  20              200      0.8008175  0.5625332\n",
      "  0.01       5                  10               50      0.7854624  0.5046701\n",
      "  0.01       5                  10              100      0.8036639  0.5619485\n",
      "  0.01       5                  10              200      0.8134640  0.5911195\n",
      "  0.01       5                  20               50      0.7826652  0.4938298\n",
      "  0.01       5                  20              100      0.7980400  0.5452977\n",
      "  0.01       5                  20              200      0.8106471  0.5812578\n",
      "  0.10       1                  10               50      0.7951738  0.5646098\n",
      "  0.10       1                  10              100      0.7909682  0.5550257\n",
      "  0.10       1                  10              200      0.8036147  0.5803129\n",
      "  0.10       1                  20               50      0.7783709  0.5250913\n",
      "  0.10       1                  20              100      0.7923668  0.5570239\n",
      "  0.10       1                  20              200      0.7979907  0.5677724\n",
      "  0.10       3                  10               50      0.8092682  0.5862923\n",
      "  0.10       3                  10              100      0.8148725  0.6004523\n",
      "  0.10       3                  10              200      0.8218655  0.6160661\n",
      "  0.10       3                  20               50      0.8218852  0.6135024\n",
      "  0.10       3                  20              100      0.8120359  0.5931940\n",
      "  0.10       3                  20              200      0.8162317  0.6023087\n",
      "  0.10       5                  10               50      0.8120457  0.5915743\n",
      "  0.10       5                  10              100      0.8204767  0.6132301\n",
      "  0.10       5                  10              200      0.8204767  0.6150249\n",
      "  0.10       5                  20               50      0.8176106  0.6042846\n",
      "  0.10       5                  20              100      0.8190584  0.6074129\n",
      "  0.10       5                  20              200      0.8134345  0.5953475\n",
      "\n",
      "Accuracy was used to select the optimal model using the largest value.\n",
      "The final values used for the model were n.trees = 50, interaction.depth =\n",
      " 3, shrinkage = 0.1 and n.minobsinnode = 20.\n"
     ]
    },
    {
     "data": {},
     "metadata": {},
     "output_type": "display_data"
    },
    {
     "data": {
      "image/png": "[encoded data removed]",
      "text/plain": [
       "plot without title"
      ]
     },
     "metadata": {},
     "output_type": "display_data"
    }
   ],
   "source": [
    "# grid search\n",
    "set.seed(seed)\n",
    "tuneGrid <- expand.grid(n.trees = c(50,100,200),\n",
    "                       interaction.depth = c(1, 3, 5),\n",
    "                       shrinkage = c(0.01,0.1),\n",
    "                       n.minobsinnode = c(10,20))\n",
    "gridSearch <- train(label~., data=train_set, method='gbm',\n",
    "                 metric=metric, trControl=trControl,\n",
    "                 tuneGrid=tuneGrid, verbose=FALSE)\n",
    "print(gridSearch)\n",
    "plot(gridSearch)"
   ]
  },
  {
   "cell_type": "markdown",
   "metadata": {},
   "source": [
    "#### Model 2: C50"
   ]
  },
  {
   "cell_type": "code",
   "execution_count": 158,
   "metadata": {},
   "outputs": [
    {
     "data": {
      "text/plain": [
       "C5.0 \n",
       "\n",
       "713 samples\n",
       "  7 predictor\n",
       "  2 classes: '0', '1' \n",
       "\n",
       "No pre-processing\n",
       "Resampling: Cross-Validated (5 fold) \n",
       "Summary of sample sizes: 570, 570, 570, 571, 571 \n",
       "Resampling results across tuning parameters:\n",
       "\n",
       "  model  winnow  trials  Accuracy   Kappa    \n",
       "  rules  FALSE    1      0.8148626  0.5944900\n",
       "  rules  FALSE   10      0.8036245  0.5798934\n",
       "  rules  FALSE   20      0.8120752  0.5947672\n",
       "  rules   TRUE    1      0.8204964  0.6078593\n",
       "  rules   TRUE   10      0.8036639  0.5738890\n",
       "  rules   TRUE   20      0.8036147  0.5757224\n",
       "  tree   FALSE    1      0.8134837  0.5941661\n",
       "  tree   FALSE   10      0.8106766  0.5920650\n",
       "  tree   FALSE   20      0.8134640  0.5963474\n",
       "  tree    TRUE    1      0.8134739  0.5935113\n",
       "  tree    TRUE   10      0.8022062  0.5729251\n",
       "  tree    TRUE   20      0.8106668  0.5912036\n",
       "\n",
       "Accuracy was used to select the optimal model using the largest value.\n",
       "The final values used for the model were trials = 1, model = rules and winnow\n",
       " = TRUE."
      ]
     },
     "metadata": {},
     "output_type": "display_data"
    }
   ],
   "source": [
    "# default\n",
    "fit.c50"
   ]
  },
  {
   "cell_type": "markdown",
   "metadata": {},
   "source": [
    "#### Model 3: Random Forest "
   ]
  },
  {
   "cell_type": "code",
   "execution_count": 159,
   "metadata": {},
   "outputs": [
    {
     "data": {
      "text/plain": [
       "Random Forest \n",
       "\n",
       "713 samples\n",
       "  7 predictor\n",
       "  2 classes: '0', '1' \n",
       "\n",
       "No pre-processing\n",
       "Resampling: Cross-Validated (5 fold) \n",
       "Summary of sample sizes: 570, 570, 570, 571, 571 \n",
       "Resampling results across tuning parameters:\n",
       "\n",
       "  mtry  Accuracy   Kappa    \n",
       "   2    0.8008667  0.5526501\n",
       "  11    0.8190880  0.6126432\n",
       "  20    0.7980597  0.5710094\n",
       "\n",
       "Accuracy was used to select the optimal model using the largest value.\n",
       "The final value used for the model was mtry = 11."
      ]
     },
     "metadata": {},
     "output_type": "display_data"
    }
   ],
   "source": [
    "# default\n",
    "fit.rf"
   ]
  },
  {
   "cell_type": "code",
   "execution_count": 160,
   "metadata": {},
   "outputs": [
    {
     "name": "stdout",
     "output_type": "stream",
     "text": [
      "Random Forest \n",
      "\n",
      "713 samples\n",
      "  7 predictor\n",
      "  2 classes: '0', '1' \n",
      "\n",
      "No pre-processing\n",
      "Resampling: Cross-Validated (5 fold) \n",
      "Summary of sample sizes: 570, 570, 570, 571, 571 \n",
      "Resampling results across tuning parameters:\n",
      "\n",
      "  mtry  Accuracy   Kappa    \n",
      "   6    0.8232838  0.6157712\n",
      "   7    0.8246922  0.6211760\n",
      "   8    0.8317148  0.6363191\n",
      "   9    0.8303063  0.6348397\n",
      "  10    0.8204767  0.6149950\n",
      "  11    0.8148626  0.6033378\n",
      "\n",
      "Accuracy was used to select the optimal model using the largest value.\n",
      "The final value used for the model was mtry = 8.\n"
     ]
    },
    {
     "data": {},
     "metadata": {},
     "output_type": "display_data"
    },
    {
     "data": {
      "image/png": "[encoded data removed]",
      "text/plain": [
       "plot without title"
      ]
     },
     "metadata": {},
     "output_type": "display_data"
    }
   ],
   "source": [
    "# grid search\n",
    "set.seed(seed)\n",
    "tuneGrid = expand.grid(.mtry=c(6,7,8,9,10,11))\n",
    "gridSearch <- train(label~., data=train_set, method='rf',\n",
    "                 metric=metric, trControl=trControl,\n",
    "                 tuneGrid=tuneGrid)\n",
    "print(gridSearch)\n",
    "plot(gridSearch)"
   ]
  },
  {
   "cell_type": "markdown",
   "metadata": {},
   "source": [
    "#### Model 4: GLMNET"
   ]
  },
  {
   "cell_type": "code",
   "execution_count": 161,
   "metadata": {},
   "outputs": [
    {
     "data": {
      "text/plain": [
       "glmnet \n",
       "\n",
       "713 samples\n",
       "  7 predictor\n",
       "  2 classes: '0', '1' \n",
       "\n",
       "No pre-processing\n",
       "Resampling: Cross-Validated (5 fold) \n",
       "Summary of sample sizes: 570, 570, 570, 571, 571 \n",
       "Resampling results across tuning parameters:\n",
       "\n",
       "  alpha  lambda        Accuracy   Kappa    \n",
       "  0.10   0.0005353096  0.8148528  0.6034754\n",
       "  0.10   0.0053530957  0.8162612  0.6061322\n",
       "  0.10   0.0535309567  0.8050034  0.5790111\n",
       "  0.55   0.0005353096  0.8148528  0.6034754\n",
       "  0.55   0.0053530957  0.8148429  0.6030374\n",
       "  0.55   0.0535309567  0.7895597  0.5489558\n",
       "  1.00   0.0005353096  0.8148528  0.6034754\n",
       "  1.00   0.0053530957  0.8120359  0.5965211\n",
       "  1.00   0.0535309567  0.7895597  0.5489558\n",
       "\n",
       "Accuracy was used to select the optimal model using the largest value.\n",
       "The final values used for the model were alpha = 0.1 and lambda = 0.005353096."
      ]
     },
     "metadata": {},
     "output_type": "display_data"
    }
   ],
   "source": [
    "# default\n",
    "fit.glmnet"
   ]
  },
  {
   "cell_type": "code",
   "execution_count": 162,
   "metadata": {},
   "outputs": [
    {
     "name": "stdout",
     "output_type": "stream",
     "text": [
      "glmnet \n",
      "\n",
      "713 samples\n",
      "  7 predictor\n",
      "  2 classes: '0', '1' \n",
      "\n",
      "No pre-processing\n",
      "Resampling: Cross-Validated (5 fold) \n",
      "Summary of sample sizes: 570, 570, 570, 571, 571 \n",
      "Resampling results across tuning parameters:\n",
      "\n",
      "  alpha  lambda       Accuracy   Kappa    \n",
      "  0.0    0.000000000  0.8134443  0.5998473\n",
      "  0.0    0.003000000  0.8134443  0.5998473\n",
      "  0.0    0.004000000  0.8134443  0.5998473\n",
      "  0.0    0.005353096  0.8134443  0.5998473\n",
      "  0.0    0.006000000  0.8134443  0.5998473\n",
      "  0.0    0.007000000  0.8134443  0.5998473\n",
      "  0.0    0.100000000  0.8162415  0.6016056\n",
      "  0.1    0.000000000  0.8148528  0.6034754\n",
      "  0.1    0.003000000  0.8148528  0.6034754\n",
      "  0.1    0.004000000  0.8148528  0.6034754\n",
      "  0.1    0.005353096  0.8162612  0.6061322\n",
      "  0.1    0.006000000  0.8148528  0.6029203\n",
      "  0.1    0.007000000  0.8162514  0.6056943\n",
      "  0.1    0.100000000  0.8007978  0.5649705\n",
      "  0.5    0.000000000  0.8148528  0.6034754\n",
      "  0.5    0.003000000  0.8134443  0.6002635\n",
      "  0.5    0.004000000  0.8148528  0.6029203\n",
      "  0.5    0.005353096  0.8134443  0.6002635\n",
      "  0.5    0.006000000  0.8148429  0.6030374\n",
      "  0.5    0.007000000  0.8134443  0.5997561\n",
      "  0.5    0.100000000  0.7923569  0.5554426\n",
      "  1.0    0.000000000  0.8148528  0.6034754\n",
      "  1.0    0.003000000  0.8134443  0.6002635\n",
      "  1.0    0.004000000  0.8120457  0.5969839\n",
      "  1.0    0.005353096  0.8120359  0.5965211\n",
      "  1.0    0.006000000  0.8120359  0.5965211\n",
      "  1.0    0.007000000  0.8106274  0.5932628\n",
      "  1.0    0.100000000  0.7895597  0.5489558\n",
      "\n",
      "Accuracy was used to select the optimal model using the largest value.\n",
      "The final values used for the model were alpha = 0.1 and lambda = 0.005353096.\n"
     ]
    },
    {
     "data": {},
     "metadata": {},
     "output_type": "display_data"
    },
    {
     "data": {
      "image/png": "[encoded data removed]",
      "text/plain": [
       "plot without title"
      ]
     },
     "metadata": {},
     "output_type": "display_data"
    }
   ],
   "source": [
    "# grid search\n",
    "set.seed(seed)\n",
    "tuneGrid = expand.grid(alpha = c(0,0.1,0.5,1),\n",
    "                       lambda = c(0,0.003,0.004,0.005353096,0.006,0.007,0.1))                       \n",
    "gridSearch <- train(label~., data=train_set, method='glmnet',\n",
    "                 metric=metric, trControl=trControl,\n",
    "                 tuneGrid=tuneGrid)\n",
    "print(gridSearch)\n",
    "plot(gridSearch)"
   ]
  },
  {
   "cell_type": "markdown",
   "metadata": {},
   "source": [
    "## Final Model: Random Forest"
   ]
  },
  {
   "cell_type": "markdown",
   "metadata": {},
   "source": [
    "#### Params: mtry=8"
   ]
  },
  {
   "cell_type": "code",
   "execution_count": 168,
   "metadata": {},
   "outputs": [
    {
     "name": "stdout",
     "output_type": "stream",
     "text": [
      "\n",
      "Call:\n",
      " randomForest(formula = label ~ ., data = train_set, mtry = 8,      importance = TRUE) \n",
      "               Type of random forest: classification\n",
      "                     Number of trees: 500\n",
      "No. of variables tried at each split: 7\n",
      "\n",
      "        OOB estimate of  error rate: 18.65%\n",
      "Confusion matrix:\n",
      "    0   1 class.error\n",
      "0 376  63   0.1435080\n",
      "1  70 204   0.2554745\n"
     ]
    }
   ],
   "source": [
    "library(randomForest)\n",
    "final.model <- randomForest(label~., data=train_set, mtry=8,\n",
    "                           importance=TRUE)\n",
    "print(final.model)"
   ]
  },
  {
   "cell_type": "code",
   "execution_count": 175,
   "metadata": {},
   "outputs": [
    {
     "data": {
      "image/png": "[encoded data removed]",
      "text/plain": [
       "Plot with title \"final.model\""
      ]
     },
     "metadata": {},
     "output_type": "display_data"
    }
   ],
   "source": [
    "# Feature Importance\n",
    "varImpPlot(final.model,type=2)"
   ]
  },
  {
   "cell_type": "markdown",
   "metadata": {},
   "source": [
    "#### Save and load the final model"
   ]
  },
  {
   "cell_type": "code",
   "execution_count": 164,
   "metadata": {
    "collapsed": true
   },
   "outputs": [],
   "source": [
    "# save the model to disk\n",
    "saveRDS(final.model, 'final_model.rds')\n",
    "#rm(final.model)"
   ]
  },
  {
   "cell_type": "code",
   "execution_count": 165,
   "metadata": {},
   "outputs": [
    {
     "name": "stdout",
     "output_type": "stream",
     "text": [
      "\n",
      "Call:\n",
      " randomForest(formula = label ~ ., data = train_set, mtry = 8) \n",
      "               Type of random forest: classification\n",
      "                     Number of trees: 500\n",
      "No. of variables tried at each split: 7\n",
      "\n",
      "        OOB estimate of  error rate: 18.37%\n",
      "Confusion matrix:\n",
      "    0   1 class.error\n",
      "0 377  62   0.1412301\n",
      "1  69 205   0.2518248\n"
     ]
    }
   ],
   "source": [
    "# load the model\n",
    "final.model <- readRDS('final_model.rds')\n",
    "print(final.model)"
   ]
  },
  {
   "cell_type": "markdown",
   "metadata": {},
   "source": [
    "** Final Model Evaluation with Test set **"
   ]
  },
  {
   "cell_type": "code",
   "execution_count": 166,
   "metadata": {},
   "outputs": [
    {
     "data": {
      "text/plain": [
       "Confusion Matrix and Statistics\n",
       "\n",
       "          Reference\n",
       "Prediction  0  1\n",
       "         0 97 23\n",
       "         1 13 45\n",
       "                                          \n",
       "               Accuracy : 0.7978          \n",
       "                 95% CI : (0.7312, 0.8541)\n",
       "    No Information Rate : 0.618           \n",
       "    P-Value [Acc > NIR] : 1.939e-07       \n",
       "                                          \n",
       "                  Kappa : 0.5593          \n",
       " Mcnemar's Test P-Value : 0.1336          \n",
       "                                          \n",
       "            Sensitivity : 0.8818          \n",
       "            Specificity : 0.6618          \n",
       "         Pos Pred Value : 0.8083          \n",
       "         Neg Pred Value : 0.7759          \n",
       "             Prevalence : 0.6180          \n",
       "         Detection Rate : 0.5449          \n",
       "   Detection Prevalence : 0.6742          \n",
       "      Balanced Accuracy : 0.7718          \n",
       "                                          \n",
       "       'Positive' Class : 0               \n",
       "                                          "
      ]
     },
     "metadata": {},
     "output_type": "display_data"
    }
   ],
   "source": [
    "predictions = predict(final.model, newdata = test_set[-label_col])\n",
    "confusionMatrix(predictions, test_set$label)"
   ]
  },
  {
   "cell_type": "markdown",
   "metadata": {},
   "source": [
    "## Summary"
   ]
  },
  {
   "cell_type": "markdown",
   "metadata": {
    "collapsed": true
   },
   "source": [
    "- Best model: **RandomForest** w/ param: mtry=8\n",
    "\n",
    "- Accuracy of test set: **79.8%**"
   ]
  }
 ],
 "metadata": {
  "kernelspec": {
   "display_name": "R",
   "language": "R",
   "name": "ir"
  },
  "language_info": {
   "codemirror_mode": "r",
   "file_extension": ".r",
   "mimetype": "text/x-r-source",
   "name": "R",
   "pygments_lexer": "r",
   "version": "3.4.3"
  }
 },
 "nbformat": 4,
 "nbformat_minor": 2
}
