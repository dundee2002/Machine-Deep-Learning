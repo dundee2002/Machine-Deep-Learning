{
 "cells": [
  {
   "cell_type": "markdown",
   "metadata": {},
   "source": [
    "## Binary Classification: Breast Cancer Wisconsin Dataset\n",
    "https://archive.ics.uci.edu/ml/datasets/Breast+Cancer+Wisconsin+(Diagnostic)\n",
    "\n",
    "** Dataset Information: **\n",
    "\n",
    "characteristics of the cell nuclei from a digitized image of a fine needle aspirate (FNA) of a breast mass (total 569 instances). \n",
    "\n",
    "** Attribute Information: (31 features and 1 class)**\n",
    "\n",
    "1. ID number \n",
    "2. Diagnosis (M = malignant, B = benign) \n",
    "3-32) \n",
    "\n",
    "Ten real-valued features are computed for each cell nucleus: \n",
    "\n",
    "a) radius (mean of distances from center to points on the perimeter) \n",
    "b) texture (standard deviation of gray-scale values) \n",
    "c) perimeter \n",
    "d) area \n",
    "e) smoothness (local variation in radius lengths) \n",
    "f) compactness (perimeter^2 / area - 1.0) \n",
    "g) concavity (severity of concave portions of the contour) \n",
    "h) concave points (number of concave portions of the contour) \n",
    "i) symmetry \n",
    "j) fractal dimension (\"coastline approximation\" - 1)\n",
    "\n",
    "** Objective of this project **\n",
    "\n",
    "predict whether a patient's breast tumor is malignant or benign (class; M or B) based on cell nuclei characteristics (features)"
   ]
  },
  {
   "cell_type": "markdown",
   "metadata": {},
   "source": [
    "## Data"
   ]
  },
  {
   "cell_type": "code",
   "execution_count": 1,
   "metadata": {
    "collapsed": true
   },
   "outputs": [],
   "source": [
    "options(warn=-1)\n",
    "# Load Data\n",
    "df  <- read.csv('wdbc.data',header=FALSE)"
   ]
  },
  {
   "cell_type": "code",
   "execution_count": 2,
   "metadata": {
    "scrolled": true
   },
   "outputs": [
    {
     "data": {
      "text/html": [
       "<table>\n",
       "<thead><tr><th scope=col>V1</th><th scope=col>V2</th><th scope=col>V3</th><th scope=col>V4</th><th scope=col>V5</th><th scope=col>V6</th><th scope=col>V7</th><th scope=col>V8</th><th scope=col>V9</th><th scope=col>V10</th><th scope=col>...</th><th scope=col>V23</th><th scope=col>V24</th><th scope=col>V25</th><th scope=col>V26</th><th scope=col>V27</th><th scope=col>V28</th><th scope=col>V29</th><th scope=col>V30</th><th scope=col>V31</th><th scope=col>V32</th></tr></thead>\n",
       "<tbody>\n",
       "\t<tr><td>  842302</td><td>M       </td><td>17.99   </td><td>10.38   </td><td>122.8   </td><td>1001    </td><td>0.11840 </td><td>0.27760 </td><td>0.3001  </td><td>0.14710 </td><td>...     </td><td>25.38   </td><td>17.33   </td><td>184.6   </td><td>2019    </td><td>0.1622  </td><td>0.6656  </td><td>0.7119  </td><td>0.2654  </td><td>0.4601  </td><td>0.11890 </td></tr>\n",
       "\t<tr><td>  842517</td><td>M       </td><td>20.57   </td><td>17.77   </td><td>132.9   </td><td>1326    </td><td>0.08474 </td><td>0.07864 </td><td>0.0869  </td><td>0.07017 </td><td>...     </td><td>24.99   </td><td>23.41   </td><td>158.8   </td><td>1956    </td><td>0.1238  </td><td>0.1866  </td><td>0.2416  </td><td>0.1860  </td><td>0.2750  </td><td>0.08902 </td></tr>\n",
       "\t<tr><td>84300903</td><td>M       </td><td>19.69   </td><td>21.25   </td><td>130.0   </td><td>1203    </td><td>0.10960 </td><td>0.15990 </td><td>0.1974  </td><td>0.12790 </td><td>...     </td><td>23.57   </td><td>25.53   </td><td>152.5   </td><td>1709    </td><td>0.1444  </td><td>0.4245  </td><td>0.4504  </td><td>0.2430  </td><td>0.3613  </td><td>0.08758 </td></tr>\n",
       "</tbody>\n",
       "</table>\n"
      ],
      "text/latex": [
       "\\begin{tabular}{r|llllllllllllllllllllllllllllllll}\n",
       " V1 & V2 & V3 & V4 & V5 & V6 & V7 & V8 & V9 & V10 & ... & V23 & V24 & V25 & V26 & V27 & V28 & V29 & V30 & V31 & V32\\\\\n",
       "\\hline\n",
       "\t   842302 & M        & 17.99    & 10.38    & 122.8    & 1001     & 0.11840  & 0.27760  & 0.3001   & 0.14710  & ...      & 25.38    & 17.33    & 184.6    & 2019     & 0.1622   & 0.6656   & 0.7119   & 0.2654   & 0.4601   & 0.11890 \\\\\n",
       "\t   842517 & M        & 20.57    & 17.77    & 132.9    & 1326     & 0.08474  & 0.07864  & 0.0869   & 0.07017  & ...      & 24.99    & 23.41    & 158.8    & 1956     & 0.1238   & 0.1866   & 0.2416   & 0.1860   & 0.2750   & 0.08902 \\\\\n",
       "\t 84300903 & M        & 19.69    & 21.25    & 130.0    & 1203     & 0.10960  & 0.15990  & 0.1974   & 0.12790  & ...      & 23.57    & 25.53    & 152.5    & 1709     & 0.1444   & 0.4245   & 0.4504   & 0.2430   & 0.3613   & 0.08758 \\\\\n",
       "\\end{tabular}\n"
      ],
      "text/markdown": [
       "\n",
       "V1 | V2 | V3 | V4 | V5 | V6 | V7 | V8 | V9 | V10 | ... | V23 | V24 | V25 | V26 | V27 | V28 | V29 | V30 | V31 | V32 | \n",
       "|---|---|---|\n",
       "|   842302 | M        | 17.99    | 10.38    | 122.8    | 1001     | 0.11840  | 0.27760  | 0.3001   | 0.14710  | ...      | 25.38    | 17.33    | 184.6    | 2019     | 0.1622   | 0.6656   | 0.7119   | 0.2654   | 0.4601   | 0.11890  | \n",
       "|   842517 | M        | 20.57    | 17.77    | 132.9    | 1326     | 0.08474  | 0.07864  | 0.0869   | 0.07017  | ...      | 24.99    | 23.41    | 158.8    | 1956     | 0.1238   | 0.1866   | 0.2416   | 0.1860   | 0.2750   | 0.08902  | \n",
       "| 84300903 | M        | 19.69    | 21.25    | 130.0    | 1203     | 0.10960  | 0.15990  | 0.1974   | 0.12790  | ...      | 23.57    | 25.53    | 152.5    | 1709     | 0.1444   | 0.4245   | 0.4504   | 0.2430   | 0.3613   | 0.08758  | \n",
       "\n",
       "\n"
      ],
      "text/plain": [
       "  V1       V2 V3    V4    V5    V6   V7      V8      V9     V10     ... V23  \n",
       "1   842302 M  17.99 10.38 122.8 1001 0.11840 0.27760 0.3001 0.14710 ... 25.38\n",
       "2   842517 M  20.57 17.77 132.9 1326 0.08474 0.07864 0.0869 0.07017 ... 24.99\n",
       "3 84300903 M  19.69 21.25 130.0 1203 0.10960 0.15990 0.1974 0.12790 ... 23.57\n",
       "  V24   V25   V26  V27    V28    V29    V30    V31    V32    \n",
       "1 17.33 184.6 2019 0.1622 0.6656 0.7119 0.2654 0.4601 0.11890\n",
       "2 23.41 158.8 1956 0.1238 0.1866 0.2416 0.1860 0.2750 0.08902\n",
       "3 25.53 152.5 1709 0.1444 0.4245 0.4504 0.2430 0.3613 0.08758"
      ]
     },
     "metadata": {},
     "output_type": "display_data"
    }
   ],
   "source": [
    "# Inspect Data\n",
    "head(df,3)\n",
    "colnames(df)[2] <- 'label' #class -> label"
   ]
  },
  {
   "cell_type": "code",
   "execution_count": 3,
   "metadata": {},
   "outputs": [
    {
     "data": {
      "text/html": [
       "<ol class=list-inline>\n",
       "\t<li>569</li>\n",
       "\t<li>32</li>\n",
       "</ol>\n"
      ],
      "text/latex": [
       "\\begin{enumerate*}\n",
       "\\item 569\n",
       "\\item 32\n",
       "\\end{enumerate*}\n"
      ],
      "text/markdown": [
       "1. 569\n",
       "2. 32\n",
       "\n",
       "\n"
      ],
      "text/plain": [
       "[1] 569  32"
      ]
     },
     "metadata": {},
     "output_type": "display_data"
    }
   ],
   "source": [
    "dim(df)"
   ]
  },
  {
   "cell_type": "code",
   "execution_count": 4,
   "metadata": {},
   "outputs": [
    {
     "name": "stdout",
     "output_type": "stream",
     "text": [
      "'data.frame':\t569 obs. of  32 variables:\n",
      " $ V1   : int  842302 842517 84300903 84348301 84358402 843786 844359 84458202 844981 84501001 ...\n",
      " $ label: Factor w/ 2 levels \"B\",\"M\": 2 2 2 2 2 2 2 2 2 2 ...\n",
      " $ V3   : num  18 20.6 19.7 11.4 20.3 ...\n",
      " $ V4   : num  10.4 17.8 21.2 20.4 14.3 ...\n",
      " $ V5   : num  122.8 132.9 130 77.6 135.1 ...\n",
      " $ V6   : num  1001 1326 1203 386 1297 ...\n",
      " $ V7   : num  0.1184 0.0847 0.1096 0.1425 0.1003 ...\n",
      " $ V8   : num  0.2776 0.0786 0.1599 0.2839 0.1328 ...\n",
      " $ V9   : num  0.3001 0.0869 0.1974 0.2414 0.198 ...\n",
      " $ V10  : num  0.1471 0.0702 0.1279 0.1052 0.1043 ...\n",
      " $ V11  : num  0.242 0.181 0.207 0.26 0.181 ...\n",
      " $ V12  : num  0.0787 0.0567 0.06 0.0974 0.0588 ...\n",
      " $ V13  : num  1.095 0.543 0.746 0.496 0.757 ...\n",
      " $ V14  : num  0.905 0.734 0.787 1.156 0.781 ...\n",
      " $ V15  : num  8.59 3.4 4.58 3.44 5.44 ...\n",
      " $ V16  : num  153.4 74.1 94 27.2 94.4 ...\n",
      " $ V17  : num  0.0064 0.00522 0.00615 0.00911 0.01149 ...\n",
      " $ V18  : num  0.049 0.0131 0.0401 0.0746 0.0246 ...\n",
      " $ V19  : num  0.0537 0.0186 0.0383 0.0566 0.0569 ...\n",
      " $ V20  : num  0.0159 0.0134 0.0206 0.0187 0.0188 ...\n",
      " $ V21  : num  0.03 0.0139 0.0225 0.0596 0.0176 ...\n",
      " $ V22  : num  0.00619 0.00353 0.00457 0.00921 0.00511 ...\n",
      " $ V23  : num  25.4 25 23.6 14.9 22.5 ...\n",
      " $ V24  : num  17.3 23.4 25.5 26.5 16.7 ...\n",
      " $ V25  : num  184.6 158.8 152.5 98.9 152.2 ...\n",
      " $ V26  : num  2019 1956 1709 568 1575 ...\n",
      " $ V27  : num  0.162 0.124 0.144 0.21 0.137 ...\n",
      " $ V28  : num  0.666 0.187 0.424 0.866 0.205 ...\n",
      " $ V29  : num  0.712 0.242 0.45 0.687 0.4 ...\n",
      " $ V30  : num  0.265 0.186 0.243 0.258 0.163 ...\n",
      " $ V31  : num  0.46 0.275 0.361 0.664 0.236 ...\n",
      " $ V32  : num  0.1189 0.089 0.0876 0.173 0.0768 ...\n"
     ]
    }
   ],
   "source": [
    "str(df)"
   ]
  },
  {
   "cell_type": "code",
   "execution_count": 5,
   "metadata": {},
   "outputs": [
    {
     "data": {
      "text/plain": [
       "       V1            label         V3               V4              V5        \n",
       " Min.   :     8670   B:357   Min.   : 6.981   Min.   : 9.71   Min.   : 43.79  \n",
       " 1st Qu.:   869218   M:212   1st Qu.:11.700   1st Qu.:16.17   1st Qu.: 75.17  \n",
       " Median :   906024           Median :13.370   Median :18.84   Median : 86.24  \n",
       " Mean   : 30371831           Mean   :14.127   Mean   :19.29   Mean   : 91.97  \n",
       " 3rd Qu.:  8813129           3rd Qu.:15.780   3rd Qu.:21.80   3rd Qu.:104.10  \n",
       " Max.   :911320502           Max.   :28.110   Max.   :39.28   Max.   :188.50  \n",
       "       V6               V7                V8                V9         \n",
       " Min.   : 143.5   Min.   :0.05263   Min.   :0.01938   Min.   :0.00000  \n",
       " 1st Qu.: 420.3   1st Qu.:0.08637   1st Qu.:0.06492   1st Qu.:0.02956  \n",
       " Median : 551.1   Median :0.09587   Median :0.09263   Median :0.06154  \n",
       " Mean   : 654.9   Mean   :0.09636   Mean   :0.10434   Mean   :0.08880  \n",
       " 3rd Qu.: 782.7   3rd Qu.:0.10530   3rd Qu.:0.13040   3rd Qu.:0.13070  \n",
       " Max.   :2501.0   Max.   :0.16340   Max.   :0.34540   Max.   :0.42680  \n",
       "      V10               V11              V12               V13        \n",
       " Min.   :0.00000   Min.   :0.1060   Min.   :0.04996   Min.   :0.1115  \n",
       " 1st Qu.:0.02031   1st Qu.:0.1619   1st Qu.:0.05770   1st Qu.:0.2324  \n",
       " Median :0.03350   Median :0.1792   Median :0.06154   Median :0.3242  \n",
       " Mean   :0.04892   Mean   :0.1812   Mean   :0.06280   Mean   :0.4052  \n",
       " 3rd Qu.:0.07400   3rd Qu.:0.1957   3rd Qu.:0.06612   3rd Qu.:0.4789  \n",
       " Max.   :0.20120   Max.   :0.3040   Max.   :0.09744   Max.   :2.8730  \n",
       "      V14              V15              V16               V17          \n",
       " Min.   :0.3602   Min.   : 0.757   Min.   :  6.802   Min.   :0.001713  \n",
       " 1st Qu.:0.8339   1st Qu.: 1.606   1st Qu.: 17.850   1st Qu.:0.005169  \n",
       " Median :1.1080   Median : 2.287   Median : 24.530   Median :0.006380  \n",
       " Mean   :1.2169   Mean   : 2.866   Mean   : 40.337   Mean   :0.007041  \n",
       " 3rd Qu.:1.4740   3rd Qu.: 3.357   3rd Qu.: 45.190   3rd Qu.:0.008146  \n",
       " Max.   :4.8850   Max.   :21.980   Max.   :542.200   Max.   :0.031130  \n",
       "      V18                V19               V20                V21          \n",
       " Min.   :0.002252   Min.   :0.00000   Min.   :0.000000   Min.   :0.007882  \n",
       " 1st Qu.:0.013080   1st Qu.:0.01509   1st Qu.:0.007638   1st Qu.:0.015160  \n",
       " Median :0.020450   Median :0.02589   Median :0.010930   Median :0.018730  \n",
       " Mean   :0.025478   Mean   :0.03189   Mean   :0.011796   Mean   :0.020542  \n",
       " 3rd Qu.:0.032450   3rd Qu.:0.04205   3rd Qu.:0.014710   3rd Qu.:0.023480  \n",
       " Max.   :0.135400   Max.   :0.39600   Max.   :0.052790   Max.   :0.078950  \n",
       "      V22                 V23             V24             V25        \n",
       " Min.   :0.0008948   Min.   : 7.93   Min.   :12.02   Min.   : 50.41  \n",
       " 1st Qu.:0.0022480   1st Qu.:13.01   1st Qu.:21.08   1st Qu.: 84.11  \n",
       " Median :0.0031870   Median :14.97   Median :25.41   Median : 97.66  \n",
       " Mean   :0.0037949   Mean   :16.27   Mean   :25.68   Mean   :107.26  \n",
       " 3rd Qu.:0.0045580   3rd Qu.:18.79   3rd Qu.:29.72   3rd Qu.:125.40  \n",
       " Max.   :0.0298400   Max.   :36.04   Max.   :49.54   Max.   :251.20  \n",
       "      V26              V27               V28               V29        \n",
       " Min.   : 185.2   Min.   :0.07117   Min.   :0.02729   Min.   :0.0000  \n",
       " 1st Qu.: 515.3   1st Qu.:0.11660   1st Qu.:0.14720   1st Qu.:0.1145  \n",
       " Median : 686.5   Median :0.13130   Median :0.21190   Median :0.2267  \n",
       " Mean   : 880.6   Mean   :0.13237   Mean   :0.25427   Mean   :0.2722  \n",
       " 3rd Qu.:1084.0   3rd Qu.:0.14600   3rd Qu.:0.33910   3rd Qu.:0.3829  \n",
       " Max.   :4254.0   Max.   :0.22260   Max.   :1.05800   Max.   :1.2520  \n",
       "      V30               V31              V32         \n",
       " Min.   :0.00000   Min.   :0.1565   Min.   :0.05504  \n",
       " 1st Qu.:0.06493   1st Qu.:0.2504   1st Qu.:0.07146  \n",
       " Median :0.09993   Median :0.2822   Median :0.08004  \n",
       " Mean   :0.11461   Mean   :0.2901   Mean   :0.08395  \n",
       " 3rd Qu.:0.16140   3rd Qu.:0.3179   3rd Qu.:0.09208  \n",
       " Max.   :0.29100   Max.   :0.6638   Max.   :0.20750  "
      ]
     },
     "metadata": {},
     "output_type": "display_data"
    }
   ],
   "source": [
    "summary(df)"
   ]
  },
  {
   "cell_type": "code",
   "execution_count": 6,
   "metadata": {},
   "outputs": [
    {
     "data": {
      "text/plain": [
       "\n",
       "  B   M \n",
       "357 212 "
      ]
     },
     "metadata": {},
     "output_type": "display_data"
    }
   ],
   "source": [
    "table(df$label) #imbalanced labels"
   ]
  },
  {
   "cell_type": "code",
   "execution_count": 7,
   "metadata": {},
   "outputs": [
    {
     "data": {
      "text/html": [
       "FALSE"
      ],
      "text/latex": [
       "FALSE"
      ],
      "text/markdown": [
       "FALSE"
      ],
      "text/plain": [
       "[1] FALSE"
      ]
     },
     "metadata": {},
     "output_type": "display_data"
    }
   ],
   "source": [
    "any(is.na(df))"
   ]
  },
  {
   "cell_type": "markdown",
   "metadata": {},
   "source": [
    "## Data preprocessing"
   ]
  },
  {
   "cell_type": "code",
   "execution_count": 8,
   "metadata": {},
   "outputs": [
    {
     "name": "stderr",
     "output_type": "stream",
     "text": [
      "Loading required package: lattice\n",
      "Loading required package: ggplot2\n"
     ]
    }
   ],
   "source": [
    "library(caTools)\n",
    "library(caret)\n",
    "seed = 101 #random seed for reproducibility\n",
    "set.seed(seed) "
   ]
  },
  {
   "cell_type": "markdown",
   "metadata": {},
   "source": [
    "** Drop ID column **"
   ]
  },
  {
   "cell_type": "code",
   "execution_count": 9,
   "metadata": {},
   "outputs": [
    {
     "data": {
      "text/html": [
       "<table>\n",
       "<thead><tr><th scope=col>label</th><th scope=col>V3</th><th scope=col>V4</th><th scope=col>V5</th><th scope=col>V6</th><th scope=col>V7</th><th scope=col>V8</th><th scope=col>V9</th><th scope=col>V10</th><th scope=col>V11</th><th scope=col>...</th><th scope=col>V23</th><th scope=col>V24</th><th scope=col>V25</th><th scope=col>V26</th><th scope=col>V27</th><th scope=col>V28</th><th scope=col>V29</th><th scope=col>V30</th><th scope=col>V31</th><th scope=col>V32</th></tr></thead>\n",
       "<tbody>\n",
       "\t<tr><td>M      </td><td>17.99  </td><td>10.38  </td><td>122.8  </td><td>1001   </td><td>0.11840</td><td>0.27760</td><td>0.3001 </td><td>0.14710</td><td>0.2419 </td><td>...    </td><td>25.38  </td><td>17.33  </td><td>184.6  </td><td>2019   </td><td>0.1622 </td><td>0.6656 </td><td>0.7119 </td><td>0.2654 </td><td>0.4601 </td><td>0.11890</td></tr>\n",
       "\t<tr><td>M      </td><td>20.57  </td><td>17.77  </td><td>132.9  </td><td>1326   </td><td>0.08474</td><td>0.07864</td><td>0.0869 </td><td>0.07017</td><td>0.1812 </td><td>...    </td><td>24.99  </td><td>23.41  </td><td>158.8  </td><td>1956   </td><td>0.1238 </td><td>0.1866 </td><td>0.2416 </td><td>0.1860 </td><td>0.2750 </td><td>0.08902</td></tr>\n",
       "\t<tr><td>M      </td><td>19.69  </td><td>21.25  </td><td>130.0  </td><td>1203   </td><td>0.10960</td><td>0.15990</td><td>0.1974 </td><td>0.12790</td><td>0.2069 </td><td>...    </td><td>23.57  </td><td>25.53  </td><td>152.5  </td><td>1709   </td><td>0.1444 </td><td>0.4245 </td><td>0.4504 </td><td>0.2430 </td><td>0.3613 </td><td>0.08758</td></tr>\n",
       "</tbody>\n",
       "</table>\n"
      ],
      "text/latex": [
       "\\begin{tabular}{r|lllllllllllllllllllllllllllllll}\n",
       " label & V3 & V4 & V5 & V6 & V7 & V8 & V9 & V10 & V11 & ... & V23 & V24 & V25 & V26 & V27 & V28 & V29 & V30 & V31 & V32\\\\\n",
       "\\hline\n",
       "\t M       & 17.99   & 10.38   & 122.8   & 1001    & 0.11840 & 0.27760 & 0.3001  & 0.14710 & 0.2419  & ...     & 25.38   & 17.33   & 184.6   & 2019    & 0.1622  & 0.6656  & 0.7119  & 0.2654  & 0.4601  & 0.11890\\\\\n",
       "\t M       & 20.57   & 17.77   & 132.9   & 1326    & 0.08474 & 0.07864 & 0.0869  & 0.07017 & 0.1812  & ...     & 24.99   & 23.41   & 158.8   & 1956    & 0.1238  & 0.1866  & 0.2416  & 0.1860  & 0.2750  & 0.08902\\\\\n",
       "\t M       & 19.69   & 21.25   & 130.0   & 1203    & 0.10960 & 0.15990 & 0.1974  & 0.12790 & 0.2069  & ...     & 23.57   & 25.53   & 152.5   & 1709    & 0.1444  & 0.4245  & 0.4504  & 0.2430  & 0.3613  & 0.08758\\\\\n",
       "\\end{tabular}\n"
      ],
      "text/markdown": [
       "\n",
       "label | V3 | V4 | V5 | V6 | V7 | V8 | V9 | V10 | V11 | ... | V23 | V24 | V25 | V26 | V27 | V28 | V29 | V30 | V31 | V32 | \n",
       "|---|---|---|\n",
       "| M       | 17.99   | 10.38   | 122.8   | 1001    | 0.11840 | 0.27760 | 0.3001  | 0.14710 | 0.2419  | ...     | 25.38   | 17.33   | 184.6   | 2019    | 0.1622  | 0.6656  | 0.7119  | 0.2654  | 0.4601  | 0.11890 | \n",
       "| M       | 20.57   | 17.77   | 132.9   | 1326    | 0.08474 | 0.07864 | 0.0869  | 0.07017 | 0.1812  | ...     | 24.99   | 23.41   | 158.8   | 1956    | 0.1238  | 0.1866  | 0.2416  | 0.1860  | 0.2750  | 0.08902 | \n",
       "| M       | 19.69   | 21.25   | 130.0   | 1203    | 0.10960 | 0.15990 | 0.1974  | 0.12790 | 0.2069  | ...     | 23.57   | 25.53   | 152.5   | 1709    | 0.1444  | 0.4245  | 0.4504  | 0.2430  | 0.3613  | 0.08758 | \n",
       "\n",
       "\n"
      ],
      "text/plain": [
       "  label V3    V4    V5    V6   V7      V8      V9     V10     V11    ... V23  \n",
       "1 M     17.99 10.38 122.8 1001 0.11840 0.27760 0.3001 0.14710 0.2419 ... 25.38\n",
       "2 M     20.57 17.77 132.9 1326 0.08474 0.07864 0.0869 0.07017 0.1812 ... 24.99\n",
       "3 M     19.69 21.25 130.0 1203 0.10960 0.15990 0.1974 0.12790 0.2069 ... 23.57\n",
       "  V24   V25   V26  V27    V28    V29    V30    V31    V32    \n",
       "1 17.33 184.6 2019 0.1622 0.6656 0.7119 0.2654 0.4601 0.11890\n",
       "2 23.41 158.8 1956 0.1238 0.1866 0.2416 0.1860 0.2750 0.08902\n",
       "3 25.53 152.5 1709 0.1444 0.4245 0.4504 0.2430 0.3613 0.08758"
      ]
     },
     "metadata": {},
     "output_type": "display_data"
    }
   ],
   "source": [
    "df = df[-1]\n",
    "head(df,3)"
   ]
  },
  {
   "cell_type": "markdown",
   "metadata": {},
   "source": [
    "** Split Train Test Sets **"
   ]
  },
  {
   "cell_type": "code",
   "execution_count": 10,
   "metadata": {
    "collapsed": true
   },
   "outputs": [],
   "source": [
    "split = sample.split(df$label, SplitRatio = 0.80)\n",
    "train_set = subset(df, split == TRUE)\n",
    "test_set = subset(df, split == FALSE)"
   ]
  },
  {
   "cell_type": "markdown",
   "metadata": {},
   "source": [
    "** Scale features **"
   ]
  },
  {
   "cell_type": "code",
   "execution_count": 11,
   "metadata": {},
   "outputs": [
    {
     "data": {
      "text/plain": [
       " label         V3                V4                V5         \n",
       " B:286   Min.   :-2.0170   Min.   :-2.0516   Min.   :-1.9716  \n",
       " M:170   1st Qu.:-0.6976   1st Qu.:-0.7307   1st Qu.:-0.6960  \n",
       "         Median :-0.2438   Median :-0.1031   Median :-0.2542  \n",
       "         Mean   : 0.0000   Mean   : 0.0000   Mean   : 0.0000  \n",
       "         3rd Qu.: 0.5423   3rd Qu.: 0.5808   3rd Qu.: 0.5604  \n",
       "         Max.   : 3.8934   Max.   : 4.7167   Max.   : 3.8970  \n",
       "       V6                V7                 V8                V9         \n",
       " Min.   :-1.4372   Min.   :-2.39119   Min.   :-1.5674   Min.   :-1.0987  \n",
       " 1st Qu.:-0.6699   1st Qu.:-0.73665   1st Qu.:-0.7328   1st Qu.:-0.7443  \n",
       " Median :-0.3134   Median :-0.03992   Median :-0.2238   Median :-0.3301  \n",
       " Mean   : 0.0000   Mean   : 0.00000   Mean   : 0.0000   Mean   : 0.0000  \n",
       " 3rd Qu.: 0.3948   3rd Qu.: 0.63377   3rd Qu.: 0.4614   3rd Qu.: 0.5247  \n",
       " Max.   : 5.1006   Max.   : 4.70374   Max.   : 4.4214   Max.   : 4.1372  \n",
       "      V10               V11                V12               V13         \n",
       " Min.   :-1.2481   Min.   :-2.63638   Min.   :-1.7662   Min.   :-1.0141  \n",
       " 1st Qu.:-0.7300   1st Qu.:-0.68500   1st Qu.:-0.7086   1st Qu.:-0.6158  \n",
       " Median :-0.3988   Median :-0.08525   Median :-0.1836   Median :-0.2970  \n",
       " Mean   : 0.0000   Mean   : 0.00000   Mean   : 0.0000   Mean   : 0.0000  \n",
       " 3rd Qu.: 0.6233   3rd Qu.: 0.48653   3rd Qu.: 0.4882   3rd Qu.: 0.2859  \n",
       " Max.   : 3.8375   Max.   : 4.28787   Max.   : 4.7595   Max.   : 8.3994  \n",
       "      V14               V15               V16               V17         \n",
       " Min.   :-1.5116   Min.   :-0.9966   Min.   :-0.7123   Min.   :-1.7607  \n",
       " 1st Qu.:-0.6829   1st Qu.:-0.6240   1st Qu.:-0.4857   1st Qu.:-0.6422  \n",
       " Median :-0.2339   Median :-0.2958   Median :-0.3480   Median :-0.2105  \n",
       " Mean   : 0.0000   Mean   : 0.0000   Mean   : 0.0000   Mean   : 0.0000  \n",
       " 3rd Qu.: 0.4647   3rd Qu.: 0.2414   3rd Qu.: 0.1069   3rd Qu.: 0.3848  \n",
       " Max.   : 6.5992   Max.   : 8.8662   Max.   :10.2678   Max.   : 7.9710  \n",
       "      V18               V19               V20               V21         \n",
       " Min.   :-1.2566   Min.   :-1.0166   Min.   :-1.8643   Min.   :-1.4936  \n",
       " 1st Qu.:-0.6992   1st Qu.:-0.5524   1st Qu.:-0.6676   1st Qu.:-0.6308  \n",
       " Median :-0.2943   Median :-0.1882   Median :-0.1174   Median :-0.2053  \n",
       " Mean   : 0.0000   Mean   : 0.0000   Mean   : 0.0000   Mean   : 0.0000  \n",
       " 3rd Qu.: 0.3788   3rd Qu.: 0.3278   3rd Qu.: 0.4462   3rd Qu.: 0.3166  \n",
       " Max.   : 5.9466   Max.   :11.6083   Max.   : 6.4814   Max.   : 6.9699  \n",
       "      V22               V23               V24                V25         \n",
       " Min.   :-1.0446   Min.   :-1.7176   Min.   :-2.09846   Min.   :-1.6819  \n",
       " 1st Qu.:-0.5877   1st Qu.:-0.6716   1st Qu.:-0.74595   1st Qu.:-0.6836  \n",
       " Median :-0.2148   Median :-0.2790   Median :-0.04696   Median :-0.2963  \n",
       " Mean   : 0.0000   Mean   : 0.0000   Mean   : 0.00000   Mean   : 0.0000  \n",
       " 3rd Qu.: 0.2697   3rd Qu.: 0.5840   3rd Qu.: 0.63052   3rd Qu.: 0.5584  \n",
       " Max.   : 9.5749   Max.   : 4.0307   Max.   : 3.91722   Max.   : 4.2068  \n",
       "      V26               V27                V28               V29         \n",
       " Min.   :-1.2124   Min.   :-2.65582   Min.   :-1.3980   Min.   :-1.2895  \n",
       " 1st Qu.:-0.6428   1st Qu.:-0.67270   1st Qu.:-0.6772   1st Qu.:-0.7374  \n",
       " Median :-0.3482   Median :-0.03974   Median :-0.2667   Median :-0.2122  \n",
       " Mean   : 0.0000   Mean   : 0.00000   Mean   : 0.0000   Mean   : 0.0000  \n",
       " 3rd Qu.: 0.4118   3rd Qu.: 0.57685   3rd Qu.: 0.4905   3rd Qu.: 0.5163  \n",
       " Max.   : 5.8006   Max.   : 3.95444   Max.   : 4.9596   Max.   : 4.6732  \n",
       "      V30               V31               V32         \n",
       " Min.   :-1.7217   Min.   :-2.0571   Min.   :-1.5396  \n",
       " 1st Qu.:-0.7634   1st Qu.:-0.6485   1st Qu.:-0.6751  \n",
       " Median :-0.2180   Median :-0.1409   Median :-0.2292  \n",
       " Mean   : 0.0000   Mean   : 0.0000   Mean   : 0.0000  \n",
       " 3rd Qu.: 0.7038   3rd Qu.: 0.4293   3rd Qu.: 0.4286  \n",
       " Max.   : 2.6535   Max.   : 5.8299   Max.   : 6.6113  "
      ]
     },
     "metadata": {},
     "output_type": "display_data"
    }
   ],
   "source": [
    "# standardize data\n",
    "label_col  = 1\n",
    "train_set[-label_col] = scale(train_set[-label_col])\n",
    "test_set[-label_col] = scale(test_set[-label_col])\n",
    "summary(train_set)"
   ]
  },
  {
   "cell_type": "markdown",
   "metadata": {},
   "source": [
    "## Baseline Model"
   ]
  },
  {
   "cell_type": "code",
   "execution_count": 12,
   "metadata": {
    "collapsed": true
   },
   "outputs": [],
   "source": [
    "# cross validation\n",
    "trControl <- trainControl(method=\"cv\", number=5)\n",
    "metric <- \"Accuracy\""
   ]
  },
  {
   "cell_type": "code",
   "execution_count": 13,
   "metadata": {},
   "outputs": [
    {
     "data": {
      "text/plain": [
       "\n",
       "Call:\n",
       "summary.resamples(object = results)\n",
       "\n",
       "Models: lda, logistic, glmnet, svm, knn, nb, cart, c50, bagging, rf, gbm \n",
       "Number of resamples: 5 \n",
       "\n",
       "Accuracy \n",
       "              Min.   1st Qu.    Median      Mean   3rd Qu.      Max. NA's\n",
       "lda      0.9239130 0.9450549 0.9450549 0.9452222 0.9560440 0.9560440    0\n",
       "logistic 0.9340659 0.9340659 0.9450549 0.9517200 0.9673913 0.9780220    0\n",
       "glmnet   0.9670330 0.9670330 0.9673913 0.9758958 0.9780220 1.0000000    0\n",
       "svm      0.9450549 0.9560440 0.9673913 0.9649068 0.9780220 0.9780220    0\n",
       "knn      0.9450549 0.9560440 0.9670330 0.9692785 0.9782609 1.0000000    0\n",
       "nb       0.9230769 0.9340659 0.9340659 0.9363832 0.9450549 0.9456522    0\n",
       "cart     0.8791209 0.9120879 0.9230769 0.9144529 0.9239130 0.9340659    0\n",
       "c50      0.9340659 0.9560440 0.9560440 0.9561156 0.9670330 0.9673913    0\n",
       "bagging  0.8791209 0.9230769 0.9340659 0.9319398 0.9560440 0.9673913    0\n",
       "rf       0.9340659 0.9560440 0.9560440 0.9561395 0.9565217 0.9780220    0\n",
       "gbm      0.9450549 0.9560440 0.9565217 0.9583373 0.9670330 0.9670330    0\n",
       "\n",
       "Kappa \n",
       "              Min.   1st Qu.    Median      Mean   3rd Qu.      Max. NA's\n",
       "lda      0.8336777 0.8790215 0.8804833 0.8803898 0.9038055 0.9049608    0\n",
       "logistic 0.8574413 0.8607853 0.8846641 0.8972757 0.9304435 0.9530444    0\n",
       "glmnet   0.9282900 0.9287190 0.9299820 0.9478943 0.9524804 1.0000000    0\n",
       "svm      0.8819102 0.9082661 0.9295918 0.9250586 0.9524804 0.9530444    0\n",
       "knn      0.8819102 0.9049608 0.9282900 0.9335866 0.9527721 1.0000000    0\n",
       "nb       0.8366248 0.8574413 0.8591331 0.8638123 0.8811983 0.8846641    0\n",
       "cart     0.7462611 0.8099217 0.8366248 0.8179285 0.8377016 0.8591331    0\n",
       "c50      0.8623992 0.9049608 0.9049608 0.9062044 0.9287190 0.9299820    0\n",
       "bagging  0.7432675 0.8346743 0.8591331 0.8543765 0.9060888 0.9287190    0\n",
       "rf       0.8607853 0.9043659 0.9060888 0.9059618 0.9060888 0.9524804    0\n",
       "gbm      0.8833034 0.9043659 0.9049608 0.9101804 0.9282900 0.9299820    0\n"
      ]
     },
     "metadata": {},
     "output_type": "display_data"
    },
    {
     "data": {},
     "metadata": {},
     "output_type": "display_data"
    },
    {
     "data": {
      "image/png": "[encoded data removed]",
      "text/plain": [
       "plot without title"
      ]
     },
     "metadata": {},
     "output_type": "display_data"
    }
   ],
   "source": [
    "# train multiple models\n",
    "# Linear Discriminant Analysis\n",
    "set.seed(seed)\n",
    "fit.lda <- train(label~., data=train_set, method=\"lda\", \n",
    "                 metric=metric, trControl=trControl)\n",
    "# Logistic Regression\n",
    "set.seed(seed)\n",
    "fit.glm <- train(label~., data=train_set, method=\"glm\", \n",
    "                 metric=metric, trControl=trControl)\n",
    "# GLMNET\n",
    "set.seed(seed)\n",
    "fit.glmnet <- train(label~., data=train_set, method=\"glmnet\", \n",
    "                    metric=metric, trControl=trControl)\n",
    "# SVM Radial\n",
    "set.seed(seed)\n",
    "fit.svmRadial <- train(label~., data=train_set, method=\"svmRadial\", \n",
    "                       metric=metric, trControl=trControl, fit=FALSE)\n",
    "# kNN\n",
    "set.seed(seed)\n",
    "fit.knn <- train(label~., data=train_set, method=\"knn\", \n",
    "                 metric=metric, trControl=trControl)\n",
    "# Naive Bayes\n",
    "set.seed(seed)\n",
    "fit.nb <- train(label~., data=train_set, method=\"nb\", \n",
    "                metric=metric, trControl=trControl)\n",
    "# CART\n",
    "set.seed(seed)\n",
    "fit.cart <- train(label~., data=train_set, method=\"rpart\", \n",
    "                  metric=metric, trControl=trControl)\n",
    "# C5.0\n",
    "set.seed(seed)\n",
    "fit.c50 <- train(label~., data=train_set, method=\"C5.0\", \n",
    "                 metric=metric, trControl=trControl)\n",
    "# Bagged CART\n",
    "set.seed(seed)\n",
    "fit.treebag <- train(label~., data=train_set, method=\"treebag\", \n",
    "                     metric=metric, trControl=trControl)\n",
    "# Random Forest\n",
    "set.seed(seed)\n",
    "fit.rf <- train(label~., data=train_set, method=\"rf\", \n",
    "                metric=metric, trControl=trControl)\n",
    "# Stochastic Gradient Boosting\n",
    "set.seed(seed)\n",
    "fit.gbm <- train(label~., data=train_set, method=\"gbm\", \n",
    "                 metric=metric, trControl=trControl, verbose=FALSE)\n",
    "\n",
    "# summarise results\n",
    "results <- resamples(list(lda=fit.lda, logistic=fit.glm, glmnet=fit.glmnet,\n",
    "    svm=fit.svmRadial, knn=fit.knn, nb=fit.nb, cart=fit.cart, c50=fit.c50,\n",
    "    bagging=fit.treebag, rf=fit.rf, gbm=fit.gbm))\n",
    "summary(results)\n",
    "bwplot(results)"
   ]
  },
  {
   "cell_type": "markdown",
   "metadata": {},
   "source": [
    "## Parameter Tuning\n",
    "4 best algorithms by mean accuracy: glmnet, knn, svm, gbm\n",
    "\n",
    "tuning parameters: http://topepo.github.io/caret/available-models.html"
   ]
  },
  {
   "cell_type": "code",
   "execution_count": 48,
   "metadata": {
    "collapsed": true
   },
   "outputs": [],
   "source": [
    "trControl <- trainControl(method='cv', number=5)\n",
    "metric <- 'Accuracy'"
   ]
  },
  {
   "cell_type": "markdown",
   "metadata": {},
   "source": [
    "#### Model 1: GLMNET"
   ]
  },
  {
   "cell_type": "code",
   "execution_count": 14,
   "metadata": {},
   "outputs": [
    {
     "data": {
      "text/plain": [
       "glmnet \n",
       "\n",
       "456 samples\n",
       " 30 predictor\n",
       "  2 classes: 'B', 'M' \n",
       "\n",
       "No pre-processing\n",
       "Resampling: Cross-Validated (5 fold) \n",
       "Summary of sample sizes: 365, 365, 364, 365, 365 \n",
       "Resampling results across tuning parameters:\n",
       "\n",
       "  alpha  lambda        Accuracy   Kappa    \n",
       "  0.10   0.0007666851  0.9693024  0.9339475\n",
       "  0.10   0.0076668506  0.9758958  0.9478943\n",
       "  0.10   0.0766685063  0.9649546  0.9234115\n",
       "  0.55   0.0007666851  0.9715002  0.9385559\n",
       "  0.55   0.0076668506  0.9715241  0.9383001\n",
       "  0.55   0.0766685063  0.9539656  0.8989259\n",
       "  1.00   0.0007666851  0.9649307  0.9244590\n",
       "  1.00   0.0076668506  0.9671285  0.9288529\n",
       "  1.00   0.0766685063  0.9407788  0.8692389\n",
       "\n",
       "Accuracy was used to select the optimal model using the largest value.\n",
       "The final values used for the model were alpha = 0.1 and lambda = 0.007666851."
      ]
     },
     "metadata": {},
     "output_type": "display_data"
    }
   ],
   "source": [
    "# default\n",
    "fit.glmnet"
   ]
  },
  {
   "cell_type": "code",
   "execution_count": 15,
   "metadata": {},
   "outputs": [
    {
     "name": "stdout",
     "output_type": "stream",
     "text": [
      "glmnet \n",
      "\n",
      "456 samples\n",
      " 30 predictor\n",
      "  2 classes: 'B', 'M' \n",
      "\n",
      "No pre-processing\n",
      "Resampling: Cross-Validated (5 fold) \n",
      "Summary of sample sizes: 365, 365, 364, 365, 365 \n",
      "Resampling results across tuning parameters:\n",
      "\n",
      "  alpha  lambda       Accuracy   Kappa    \n",
      "  0.0    0.000000000  0.9627568  0.9186858\n",
      "  0.0    0.001000000  0.9627568  0.9186858\n",
      "  0.0    0.005000000  0.9627568  0.9186858\n",
      "  0.0    0.007666851  0.9627568  0.9186858\n",
      "  0.0    0.100000000  0.9627568  0.9185146\n",
      "  0.1    0.000000000  0.9692785  0.9340902\n",
      "  0.1    0.001000000  0.9715002  0.9385559\n",
      "  0.1    0.005000000  0.9758958  0.9478359\n",
      "  0.1    0.007666851  0.9758958  0.9478943\n",
      "  0.1    0.100000000  0.9605590  0.9136765\n",
      "  0.5    0.000000000  0.9626851  0.9200860\n",
      "  0.5    0.001000000  0.9715002  0.9385559\n",
      "  0.5    0.005000000  0.9759197  0.9477463\n",
      "  0.5    0.007666851  0.9715241  0.9383001\n",
      "  0.5    0.100000000  0.9495700  0.8890722\n",
      "  1.0    0.000000000  0.9517200  0.8971507\n",
      "  1.0    0.001000000  0.9693263  0.9336818\n",
      "  1.0    0.005000000  0.9671285  0.9288529\n",
      "  1.0    0.007666851  0.9671285  0.9288529\n",
      "  1.0    0.100000000  0.9385810  0.8643420\n",
      "\n",
      "Accuracy was used to select the optimal model using the largest value.\n",
      "The final values used for the model were alpha = 0.5 and lambda = 0.005.\n"
     ]
    },
    {
     "data": {},
     "metadata": {},
     "output_type": "display_data"
    },
    {
     "data": {
      "image/png": "[encoded data removed]",
      "text/plain": [
       "plot without title"
      ]
     },
     "metadata": {},
     "output_type": "display_data"
    }
   ],
   "source": [
    "# grid search\n",
    "set.seed(seed)\n",
    "tuneGrid = expand.grid(alpha = c(0,0.1,0.5,1),\n",
    "                       lambda = c(0,0.001,0.005,0.0076668506,0.1))#seq(0,0.05,by = 0.001))                       \n",
    "gridSearch <- train(label~., data=train_set, method='glmnet',\n",
    "                 metric=metric, trControl=trControl,\n",
    "                 tuneGrid=tuneGrid)\n",
    "print(gridSearch)\n",
    "plot(gridSearch)"
   ]
  },
  {
   "cell_type": "markdown",
   "metadata": {},
   "source": [
    "#### Model 2. K-Nearest Neighbors"
   ]
  },
  {
   "cell_type": "code",
   "execution_count": 16,
   "metadata": {},
   "outputs": [
    {
     "data": {
      "text/plain": [
       "k-Nearest Neighbors \n",
       "\n",
       "456 samples\n",
       " 30 predictor\n",
       "  2 classes: 'B', 'M' \n",
       "\n",
       "No pre-processing\n",
       "Resampling: Cross-Validated (5 fold) \n",
       "Summary of sample sizes: 365, 365, 364, 365, 365 \n",
       "Resampling results across tuning parameters:\n",
       "\n",
       "  k  Accuracy   Kappa    \n",
       "  5  0.9604873  0.9150317\n",
       "  7  0.9692785  0.9335866\n",
       "  9  0.9648829  0.9239105\n",
       "\n",
       "Accuracy was used to select the optimal model using the largest value.\n",
       "The final value used for the model was k = 7."
      ]
     },
     "metadata": {},
     "output_type": "display_data"
    }
   ],
   "source": [
    "# default\n",
    "fit.knn"
   ]
  },
  {
   "cell_type": "code",
   "execution_count": 17,
   "metadata": {},
   "outputs": [
    {
     "name": "stdout",
     "output_type": "stream",
     "text": [
      "k-Nearest Neighbors \n",
      "\n",
      "456 samples\n",
      " 30 predictor\n",
      "  2 classes: 'B', 'M' \n",
      "\n",
      "No pre-processing\n",
      "Resampling: Cross-Validated (5 fold) \n",
      "Summary of sample sizes: 365, 365, 364, 365, 365 \n",
      "Resampling results across tuning parameters:\n",
      "\n",
      "  k   Accuracy   Kappa    \n",
      "   1  0.9539417  0.9010717\n",
      "   2  0.9561156  0.9059409\n",
      "   3  0.9692785  0.9337011\n",
      "   4  0.9560917  0.9050749\n",
      "   5  0.9604873  0.9150317\n",
      "   6  0.9626851  0.9196414\n",
      "   7  0.9692785  0.9335866\n",
      "   8  0.9670807  0.9289208\n",
      "   9  0.9648829  0.9239105\n",
      "  10  0.9648829  0.9238547\n",
      "  11  0.9583134  0.9089594\n",
      "  12  0.9605112  0.9136252\n",
      "  13  0.9583134  0.9089625\n",
      "  14  0.9539417  0.8994261\n",
      "  15  0.9517200  0.8943856\n",
      "\n",
      "Accuracy was used to select the optimal model using the largest value.\n",
      "The final value used for the model was k = 7.\n"
     ]
    },
    {
     "data": {},
     "metadata": {},
     "output_type": "display_data"
    },
    {
     "data": {
      "image/png": "[encoded data removed]",
      "text/plain": [
       "plot without title"
      ]
     },
     "metadata": {},
     "output_type": "display_data"
    }
   ],
   "source": [
    "# grid search\n",
    "set.seed(seed)\n",
    "tuneGrid = expand.grid(.k=c(1:15))\n",
    "gridSearch <- train(label~., data=train_set, method='knn',\n",
    "                 metric=metric, trControl=trControl,\n",
    "                 tuneGrid=tuneGrid)\n",
    "print(gridSearch)\n",
    "plot(gridSearch)"
   ]
  },
  {
   "cell_type": "markdown",
   "metadata": {},
   "source": [
    "#### Model 3. Support Vector Machine "
   ]
  },
  {
   "cell_type": "code",
   "execution_count": 18,
   "metadata": {},
   "outputs": [
    {
     "data": {
      "text/plain": [
       "Support Vector Machines with Radial Basis Function Kernel \n",
       "\n",
       "456 samples\n",
       " 30 predictor\n",
       "  2 classes: 'B', 'M' \n",
       "\n",
       "No pre-processing\n",
       "Resampling: Cross-Validated (5 fold) \n",
       "Summary of sample sizes: 365, 365, 364, 365, 365 \n",
       "Resampling results across tuning parameters:\n",
       "\n",
       "  C     Accuracy   Kappa    \n",
       "  0.25  0.9539417  0.9011362\n",
       "  0.50  0.9627090  0.9206601\n",
       "  1.00  0.9649068  0.9250586\n",
       "\n",
       "Tuning parameter 'sigma' was held constant at a value of 0.04690903\n",
       "Accuracy was used to select the optimal model using the largest value.\n",
       "The final values used for the model were sigma = 0.04690903 and C = 1."
      ]
     },
     "metadata": {},
     "output_type": "display_data"
    }
   ],
   "source": [
    "# default\n",
    "fit.svmRadial"
   ]
  },
  {
   "cell_type": "code",
   "execution_count": 19,
   "metadata": {},
   "outputs": [
    {
     "name": "stdout",
     "output_type": "stream",
     "text": [
      "Support Vector Machines with Radial Basis Function Kernel \n",
      "\n",
      "456 samples\n",
      " 30 predictor\n",
      "  2 classes: 'B', 'M' \n",
      "\n",
      "No pre-processing\n",
      "Resampling: Cross-Validated (5 fold) \n",
      "Summary of sample sizes: 365, 365, 364, 365, 365 \n",
      "Resampling results across tuning parameters:\n",
      "\n",
      "  sigma       C     Accuracy   Kappa     \n",
      "  0.01000000   0.1  0.9495461  0.88963369\n",
      "  0.01000000   1.0  0.9649307  0.92344636\n",
      "  0.01000000   2.0  0.9736742  0.94297537\n",
      "  0.01000000   4.0  0.9758720  0.94787089\n",
      "  0.01000000   8.0  0.9758958  0.94784060\n",
      "  0.01000000  10.0  0.9759197  0.94775030\n",
      "  0.01000000  12.0  0.9781175  0.95247389\n",
      "  0.01000000  16.0  0.9781175  0.95241816\n",
      "  0.04690903   0.1  0.9341854  0.85853990\n",
      "  0.04690903   1.0  0.9649068  0.92505859\n",
      "  0.04690903   2.0  0.9715002  0.93912894\n",
      "  0.04690903   4.0  0.9715002  0.93912894\n",
      "  0.04690903   8.0  0.9649068  0.92551468\n",
      "  0.04690903  10.0  0.9627090  0.92051408\n",
      "  0.04690903  12.0  0.9605112  0.91584686\n",
      "  0.04690903  16.0  0.9605112  0.91584686\n",
      "  0.10000000   0.1  0.9364071  0.86481150\n",
      "  0.10000000   1.0  0.9539417  0.90262703\n",
      "  0.10000000   2.0  0.9539417  0.90247395\n",
      "  0.10000000   4.0  0.9539178  0.90272030\n",
      "  0.10000000   8.0  0.9517200  0.89826731\n",
      "  0.10000000  10.0  0.9517200  0.89826731\n",
      "  0.10000000  12.0  0.9517200  0.89826731\n",
      "  0.10000000  16.0  0.9517200  0.89826731\n",
      "  1.00000000   0.1  0.6271859  0.00000000\n",
      "  1.00000000   1.0  0.6315815  0.01462945\n",
      "  1.00000000   2.0  0.6381749  0.03635931\n",
      "  1.00000000   4.0  0.6381749  0.03635931\n",
      "  1.00000000   8.0  0.6381749  0.03635931\n",
      "  1.00000000  10.0  0.6381749  0.03635931\n",
      "  1.00000000  12.0  0.6381749  0.03635931\n",
      "  1.00000000  16.0  0.6381749  0.03635931\n",
      "\n",
      "Accuracy was used to select the optimal model using the largest value.\n",
      "The final values used for the model were sigma = 0.01 and C = 12.\n"
     ]
    },
    {
     "data": {},
     "metadata": {},
     "output_type": "display_data"
    },
    {
     "data": {
      "image/png": "[encoded data removed]",
      "text/plain": [
       "plot without title"
      ]
     },
     "metadata": {},
     "output_type": "display_data"
    }
   ],
   "source": [
    "# grid search\n",
    "set.seed(seed)\n",
    "tuneGrid = expand.grid(.sigma=c(0.01,0.04690903,0.1,1), .C=c(0.1,1,2,4,8,10,12,16))\n",
    "gridSearch <- train(label~., data=train_set, method='svmRadial',\n",
    "                 metric=metric, trControl=trControl,\n",
    "                 tuneGrid=tuneGrid)\n",
    "print(gridSearch)\n",
    "plot(gridSearch)"
   ]
  },
  {
   "cell_type": "markdown",
   "metadata": {},
   "source": [
    "#### Model 4: Stochastic Gradient Boosting"
   ]
  },
  {
   "cell_type": "code",
   "execution_count": 20,
   "metadata": {},
   "outputs": [
    {
     "data": {
      "text/plain": [
       "Stochastic Gradient Boosting \n",
       "\n",
       "456 samples\n",
       " 30 predictor\n",
       "  2 classes: 'B', 'M' \n",
       "\n",
       "No pre-processing\n",
       "Resampling: Cross-Validated (5 fold) \n",
       "Summary of sample sizes: 365, 365, 364, 365, 365 \n",
       "Resampling results across tuning parameters:\n",
       "\n",
       "  interaction.depth  n.trees  Accuracy   Kappa    \n",
       "  1                   50      0.9473722  0.8869137\n",
       "  1                  100      0.9517439  0.8966248\n",
       "  1                  150      0.9539417  0.9012933\n",
       "  2                   50      0.9539417  0.9007363\n",
       "  2                  100      0.9517439  0.8960607\n",
       "  2                  150      0.9561395  0.9056221\n",
       "  3                   50      0.9495700  0.8916918\n",
       "  3                  100      0.9495461  0.8919529\n",
       "  3                  150      0.9583373  0.9101804\n",
       "\n",
       "Tuning parameter 'shrinkage' was held constant at a value of 0.1\n",
       "\n",
       "Tuning parameter 'n.minobsinnode' was held constant at a value of 10\n",
       "Accuracy was used to select the optimal model using the largest value.\n",
       "The final values used for the model were n.trees = 150, interaction.depth =\n",
       " 3, shrinkage = 0.1 and n.minobsinnode = 10."
      ]
     },
     "metadata": {},
     "output_type": "display_data"
    }
   ],
   "source": [
    "# default\n",
    "fit.gbm"
   ]
  },
  {
   "cell_type": "code",
   "execution_count": 21,
   "metadata": {},
   "outputs": [
    {
     "name": "stdout",
     "output_type": "stream",
     "text": [
      "Stochastic Gradient Boosting \n",
      "\n",
      "456 samples\n",
      " 30 predictor\n",
      "  2 classes: 'B', 'M' \n",
      "\n",
      "No pre-processing\n",
      "Resampling: Cross-Validated (5 fold) \n",
      "Summary of sample sizes: 365, 365, 364, 365, 365 \n",
      "Resampling results across tuning parameters:\n",
      "\n",
      "  shrinkage  interaction.depth  n.minobsinnode  n.trees  Accuracy   Kappa    \n",
      "  0.01       1                  10              150      0.9298137  0.8477348\n",
      "  0.01       1                  10              200      0.9320115  0.8526854\n",
      "  0.01       1                  10              300      0.9407788  0.8724135\n",
      "  0.01       1                  10              400      0.9473722  0.8862469\n",
      "  0.01       1                  20              150      0.9276159  0.8428393\n",
      "  0.01       1                  20              200      0.9364071  0.8625276\n",
      "  0.01       1                  20              300      0.9430005  0.8763023\n",
      "  0.01       1                  20              400      0.9451983  0.8812528\n",
      "  0.01       3                  10              150      0.9407549  0.8727328\n",
      "  0.01       3                  10              200      0.9429527  0.8775114\n",
      "  0.01       3                  10              300      0.9495461  0.8915094\n",
      "  0.01       3                  10              400      0.9495461  0.8915094\n",
      "  0.01       3                  20              150      0.9451505  0.8815062\n",
      "  0.01       3                  20              200      0.9451505  0.8821216\n",
      "  0.01       3                  20              300      0.9429766  0.8777452\n",
      "  0.01       3                  20              400      0.9517439  0.8966264\n",
      "  0.01       5                  10              150      0.9473483  0.8866732\n",
      "  0.01       5                  10              200      0.9473483  0.8869586\n",
      "  0.01       5                  10              300      0.9561395  0.9058504\n",
      "  0.01       5                  10              400      0.9561156  0.9058839\n",
      "  0.01       5                  20              150      0.9473722  0.8860746\n",
      "  0.01       5                  20              200      0.9473483  0.8866750\n",
      "  0.01       5                  20              300      0.9495461  0.8917907\n",
      "  0.01       5                  20              400      0.9539417  0.9012379\n",
      "  0.10       1                  10              150      0.9539417  0.9011848\n",
      "  0.10       1                  10              200      0.9517439  0.8962931\n",
      "  0.10       1                  10              300      0.9539417  0.9010717\n",
      "  0.10       1                  10              400      0.9473483  0.8870662\n",
      "  0.10       1                  20              150      0.9605590  0.9148694\n",
      "  0.10       1                  20              200      0.9561634  0.9051983\n",
      "  0.10       1                  20              300      0.9649307  0.9243008\n",
      "  0.10       1                  20              400      0.9649307  0.9243008\n",
      "  0.10       3                  10              150      0.9473483  0.8872360\n",
      "  0.10       3                  10              200      0.9495461  0.8920681\n",
      "  0.10       3                  10              300      0.9495461  0.8916205\n",
      "  0.10       3                  10              400      0.9473483  0.8872324\n",
      "  0.10       3                  20              150      0.9517439  0.8964576\n",
      "  0.10       3                  20              200      0.9539656  0.9012712\n",
      "  0.10       3                  20              300      0.9561395  0.9059048\n",
      "  0.10       3                  20              400      0.9539417  0.9011244\n",
      "  0.10       5                  10              150      0.9517200  0.8966066\n",
      "  0.10       5                  10              200      0.9560917  0.9060273\n",
      "  0.10       5                  10              300      0.9560917  0.9060273\n",
      "  0.10       5                  10              400      0.9538939  0.9014172\n",
      "  0.10       5                  20              150      0.9495700  0.8916528\n",
      "  0.10       5                  20              200      0.9517439  0.8962863\n",
      "  0.10       5                  20              300      0.9539417  0.9010159\n",
      "  0.10       5                  20              400      0.9583134  0.9104990\n",
      "\n",
      "Accuracy was used to select the optimal model using the largest value.\n",
      "The final values used for the model were n.trees = 300, interaction.depth =\n",
      " 1, shrinkage = 0.1 and n.minobsinnode = 20.\n"
     ]
    },
    {
     "data": {},
     "metadata": {},
     "output_type": "display_data"
    },
    {
     "data": {
      "image/png": "[encoded data removed]",
      "text/plain": [
       "plot without title"
      ]
     },
     "metadata": {},
     "output_type": "display_data"
    }
   ],
   "source": [
    "# grid search\n",
    "set.seed(seed)\n",
    "tuneGrid <- expand.grid(n.trees = c(150,200,300,400),\n",
    "                       interaction.depth = c(1, 3, 5),\n",
    "                       shrinkage = c(0.01,0.1),\n",
    "                       n.minobsinnode = c(10,20))\n",
    "gridSearch <- train(label~., data=train_set, method='gbm',\n",
    "                 metric=metric, trControl=trControl,\n",
    "                 tuneGrid=tuneGrid, verbose=FALSE)\n",
    "print(gridSearch)\n",
    "plot(gridSearch)"
   ]
  },
  {
   "cell_type": "markdown",
   "metadata": {},
   "source": [
    "## Final Model: Support Vector Machine (SVM)"
   ]
  },
  {
   "cell_type": "markdown",
   "metadata": {},
   "source": [
    "#### Params: sigma = 0.01 and C = 12"
   ]
  },
  {
   "cell_type": "code",
   "execution_count": 27,
   "metadata": {},
   "outputs": [
    {
     "name": "stdout",
     "output_type": "stream",
     "text": [
      "Support Vector Machine object of class \"ksvm\" \n",
      "\n",
      "SV type: C-svc  (classification) \n",
      " parameter : cost C = 12 \n",
      "\n",
      "Gaussian Radial Basis kernel function. \n",
      " Hyperparameter : sigma =  0.01 \n",
      "\n",
      "Number of Support Vectors : 51 \n",
      "\n",
      "Objective Function Value : -306.621 \n",
      "Training error : 0.010965 \n"
     ]
    }
   ],
   "source": [
    "library(kernlab)\n",
    "final.model <- ksvm(label~., data=train_set, kernel=\"rbfdot\",\n",
    "                    kpar=list(sigma=0.01), C=12)\n",
    "print(final.model)"
   ]
  },
  {
   "cell_type": "markdown",
   "metadata": {},
   "source": [
    "#### Save and load the final model"
   ]
  },
  {
   "cell_type": "code",
   "execution_count": 24,
   "metadata": {
    "collapsed": true
   },
   "outputs": [],
   "source": [
    "# save the model to disk\n",
    "saveRDS(final.model, 'final_model.rds')\n",
    "#rm(final.model)"
   ]
  },
  {
   "cell_type": "code",
   "execution_count": 25,
   "metadata": {},
   "outputs": [
    {
     "name": "stdout",
     "output_type": "stream",
     "text": [
      "Support Vector Machine object of class \"ksvm\" \n",
      "\n",
      "SV type: C-svc  (classification) \n",
      " parameter : cost C = 12 \n",
      "\n",
      "Gaussian Radial Basis kernel function. \n",
      " Hyperparameter : sigma =  0.01 \n",
      "\n",
      "Number of Support Vectors : 51 \n",
      "\n",
      "Objective Function Value : -306.621 \n",
      "Training error : 0.010965 \n",
      "Cross validation error : 0.026377 \n"
     ]
    }
   ],
   "source": [
    "# load the model\n",
    "final.model <- readRDS('final_model.rds')\n",
    "print(final.model)"
   ]
  },
  {
   "cell_type": "markdown",
   "metadata": {},
   "source": [
    "#### Final Model Evaluation with Test set"
   ]
  },
  {
   "cell_type": "code",
   "execution_count": 28,
   "metadata": {},
   "outputs": [
    {
     "data": {
      "text/plain": [
       "Confusion Matrix and Statistics\n",
       "\n",
       "          Reference\n",
       "Prediction  B  M\n",
       "         B 70  3\n",
       "         M  1 39\n",
       "                                          \n",
       "               Accuracy : 0.9646          \n",
       "                 95% CI : (0.9118, 0.9903)\n",
       "    No Information Rate : 0.6283          \n",
       "    P-Value [Acc > NIR] : <2e-16          \n",
       "                                          \n",
       "                  Kappa : 0.9235          \n",
       " Mcnemar's Test P-Value : 0.6171          \n",
       "                                          \n",
       "            Sensitivity : 0.9859          \n",
       "            Specificity : 0.9286          \n",
       "         Pos Pred Value : 0.9589          \n",
       "         Neg Pred Value : 0.9750          \n",
       "             Prevalence : 0.6283          \n",
       "         Detection Rate : 0.6195          \n",
       "   Detection Prevalence : 0.6460          \n",
       "      Balanced Accuracy : 0.9572          \n",
       "                                          \n",
       "       'Positive' Class : B               \n",
       "                                          "
      ]
     },
     "metadata": {},
     "output_type": "display_data"
    }
   ],
   "source": [
    "predictions = predict(final.model, newdata = test_set[-label_col])\n",
    "confusionMatrix(predictions, test_set$label)"
   ]
  },
  {
   "cell_type": "markdown",
   "metadata": {},
   "source": [
    "## Summary"
   ]
  },
  {
   "cell_type": "markdown",
   "metadata": {},
   "source": [
    "- Best model: **SVM** w/ param: sigma=0.01, C=12\n",
    "\n",
    "\n",
    "- Accuracy of test set: **96.5%**"
   ]
  }
 ],
 "metadata": {
  "kernelspec": {
   "display_name": "R",
   "language": "R",
   "name": "ir"
  },
  "language_info": {
   "codemirror_mode": "r",
   "file_extension": ".r",
   "mimetype": "text/x-r-source",
   "name": "R",
   "pygments_lexer": "r",
   "version": "3.4.3"
  }
 },
 "nbformat": 4,
 "nbformat_minor": 2
}
