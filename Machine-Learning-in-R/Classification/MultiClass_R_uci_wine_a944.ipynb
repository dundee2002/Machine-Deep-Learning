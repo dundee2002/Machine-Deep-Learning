{
 "cells": [
  {
   "cell_type": "markdown",
   "metadata": {},
   "source": [
    "## Multiclass Classification: Wine Dataset\n",
    "https://archive.ics.uci.edu/ml/datasets/wine\n",
    "\n",
    "** Dataset Information: **\n",
    "\n",
    "These data are the results of a chemical analysis of wines grown in the same region in Italy but derived from three different cultivars. The analysis determined the quantities of 13 constituents found in each of the three types of wines\n",
    "\n",
    "** Attribute Information: (13 features and 1 class)**\n",
    "\n",
    "Class: class 1 (59), class 2 (71), class 3 (48)\n",
    "\n",
    "1. Alcohol (class)\n",
    "2. Malic acid \n",
    "3. Ash \n",
    "4. Alcalinity of ash \n",
    "5. Magnesium \n",
    "6. Total phenols \n",
    "7. Flavanoids \n",
    "8. Nonflavanoid phenols \n",
    "9. Proanthocyanins \n",
    "10. Color intensity \n",
    "11. Hue \n",
    "12. OD280/OD315 of diluted wines \n",
    "13. Proline \n",
    "\n",
    "** Objective of this project **\n",
    "\n",
    "Using chemical analysis (features) determine the origin of wines (class, 1-3)"
   ]
  },
  {
   "cell_type": "markdown",
   "metadata": {},
   "source": [
    "## Data"
   ]
  },
  {
   "cell_type": "code",
   "execution_count": 1,
   "metadata": {
    "collapsed": true
   },
   "outputs": [],
   "source": [
    "options(warn=-1)\n",
    "# Load Data\n",
    "df  <- read.csv('Wine_data.csv')"
   ]
  },
  {
   "cell_type": "code",
   "execution_count": 2,
   "metadata": {
    "scrolled": true
   },
   "outputs": [
    {
     "data": {
      "text/html": [
       "<table>\n",
       "<thead><tr><th scope=col>Class</th><th scope=col>Alcohol</th><th scope=col>Malic_Acid</th><th scope=col>Ash</th><th scope=col>Ash_Alcanity</th><th scope=col>Magnesium</th><th scope=col>Total_Phenols</th><th scope=col>Flavanoids</th><th scope=col>Nonflavanoid_Phenols</th><th scope=col>Proanthocyanins</th><th scope=col>Color_Intensity</th><th scope=col>Hue</th><th scope=col>OD280</th><th scope=col>Proline</th></tr></thead>\n",
       "<tbody>\n",
       "\t<tr><td>1    </td><td>14.23</td><td>1.71 </td><td>2.43 </td><td>15.6 </td><td>127  </td><td>2.80 </td><td>3.06 </td><td>0.28 </td><td>2.29 </td><td>5.64 </td><td>1.04 </td><td>3.92 </td><td>1065 </td></tr>\n",
       "\t<tr><td>1    </td><td>13.20</td><td>1.78 </td><td>2.14 </td><td>11.2 </td><td>100  </td><td>2.65 </td><td>2.76 </td><td>0.26 </td><td>1.28 </td><td>4.38 </td><td>1.05 </td><td>3.40 </td><td>1050 </td></tr>\n",
       "\t<tr><td>1    </td><td>13.16</td><td>2.36 </td><td>2.67 </td><td>18.6 </td><td>101  </td><td>2.80 </td><td>3.24 </td><td>0.30 </td><td>2.81 </td><td>5.68 </td><td>1.03 </td><td>3.17 </td><td>1185 </td></tr>\n",
       "</tbody>\n",
       "</table>\n"
      ],
      "text/latex": [
       "\\begin{tabular}{r|llllllllllllll}\n",
       " Class & Alcohol & Malic\\_Acid & Ash & Ash\\_Alcanity & Magnesium & Total\\_Phenols & Flavanoids & Nonflavanoid\\_Phenols & Proanthocyanins & Color\\_Intensity & Hue & OD280 & Proline\\\\\n",
       "\\hline\n",
       "\t 1     & 14.23 & 1.71  & 2.43  & 15.6  & 127   & 2.80  & 3.06  & 0.28  & 2.29  & 5.64  & 1.04  & 3.92  & 1065 \\\\\n",
       "\t 1     & 13.20 & 1.78  & 2.14  & 11.2  & 100   & 2.65  & 2.76  & 0.26  & 1.28  & 4.38  & 1.05  & 3.40  & 1050 \\\\\n",
       "\t 1     & 13.16 & 2.36  & 2.67  & 18.6  & 101   & 2.80  & 3.24  & 0.30  & 2.81  & 5.68  & 1.03  & 3.17  & 1185 \\\\\n",
       "\\end{tabular}\n"
      ],
      "text/markdown": [
       "\n",
       "Class | Alcohol | Malic_Acid | Ash | Ash_Alcanity | Magnesium | Total_Phenols | Flavanoids | Nonflavanoid_Phenols | Proanthocyanins | Color_Intensity | Hue | OD280 | Proline | \n",
       "|---|---|---|\n",
       "| 1     | 14.23 | 1.71  | 2.43  | 15.6  | 127   | 2.80  | 3.06  | 0.28  | 2.29  | 5.64  | 1.04  | 3.92  | 1065  | \n",
       "| 1     | 13.20 | 1.78  | 2.14  | 11.2  | 100   | 2.65  | 2.76  | 0.26  | 1.28  | 4.38  | 1.05  | 3.40  | 1050  | \n",
       "| 1     | 13.16 | 2.36  | 2.67  | 18.6  | 101   | 2.80  | 3.24  | 0.30  | 2.81  | 5.68  | 1.03  | 3.17  | 1185  | \n",
       "\n",
       "\n"
      ],
      "text/plain": [
       "  Class Alcohol Malic_Acid Ash  Ash_Alcanity Magnesium Total_Phenols Flavanoids\n",
       "1 1     14.23   1.71       2.43 15.6         127       2.80          3.06      \n",
       "2 1     13.20   1.78       2.14 11.2         100       2.65          2.76      \n",
       "3 1     13.16   2.36       2.67 18.6         101       2.80          3.24      \n",
       "  Nonflavanoid_Phenols Proanthocyanins Color_Intensity Hue  OD280 Proline\n",
       "1 0.28                 2.29            5.64            1.04 3.92  1065   \n",
       "2 0.26                 1.28            4.38            1.05 3.40  1050   \n",
       "3 0.30                 2.81            5.68            1.03 3.17  1185   "
      ]
     },
     "metadata": {},
     "output_type": "display_data"
    }
   ],
   "source": [
    "# Inspect Data\n",
    "head(df,3)\n",
    "colnames(df)[1] <- 'label' #class -> label"
   ]
  },
  {
   "cell_type": "code",
   "execution_count": 3,
   "metadata": {},
   "outputs": [
    {
     "data": {
      "text/html": [
       "<ol class=list-inline>\n",
       "\t<li>178</li>\n",
       "\t<li>14</li>\n",
       "</ol>\n"
      ],
      "text/latex": [
       "\\begin{enumerate*}\n",
       "\\item 178\n",
       "\\item 14\n",
       "\\end{enumerate*}\n"
      ],
      "text/markdown": [
       "1. 178\n",
       "2. 14\n",
       "\n",
       "\n"
      ],
      "text/plain": [
       "[1] 178  14"
      ]
     },
     "metadata": {},
     "output_type": "display_data"
    }
   ],
   "source": [
    "dim(df)"
   ]
  },
  {
   "cell_type": "code",
   "execution_count": 4,
   "metadata": {},
   "outputs": [
    {
     "data": {
      "image/png": "[encoded data removed]",
      "text/plain": [
       "Plot with title \"Proline\""
      ]
     },
     "metadata": {},
     "output_type": "display_data"
    }
   ],
   "source": [
    "par(mfrow=c(4,4))\n",
    "for(i in 1:14) {\n",
    "    hist(df[,i], main=names(df)[i], col='lightblue')\n",
    "}"
   ]
  },
  {
   "cell_type": "code",
   "execution_count": 6,
   "metadata": {},
   "outputs": [
    {
     "data": {
      "image/png": "[encoded data removed]",
      "text/plain": [
       "Plot with title \"\""
      ]
     },
     "metadata": {},
     "output_type": "display_data"
    }
   ],
   "source": [
    "library(corrplot)\n",
    "corrplot(cor(df), method=\"circle\")"
   ]
  },
  {
   "cell_type": "code",
   "execution_count": 7,
   "metadata": {},
   "outputs": [
    {
     "name": "stdout",
     "output_type": "stream",
     "text": [
      "'data.frame':\t178 obs. of  14 variables:\n",
      " $ label               : int  1 1 1 1 1 1 1 1 1 1 ...\n",
      " $ Alcohol             : num  14.2 13.2 13.2 14.4 13.2 ...\n",
      " $ Malic_Acid          : num  1.71 1.78 2.36 1.95 2.59 1.76 1.87 2.15 1.64 1.35 ...\n",
      " $ Ash                 : num  2.43 2.14 2.67 2.5 2.87 2.45 2.45 2.61 2.17 2.27 ...\n",
      " $ Ash_Alcanity        : num  15.6 11.2 18.6 16.8 21 15.2 14.6 17.6 14 16 ...\n",
      " $ Magnesium           : int  127 100 101 113 118 112 96 121 97 98 ...\n",
      " $ Total_Phenols       : num  2.8 2.65 2.8 3.85 2.8 3.27 2.5 2.6 2.8 2.98 ...\n",
      " $ Flavanoids          : num  3.06 2.76 3.24 3.49 2.69 3.39 2.52 2.51 2.98 3.15 ...\n",
      " $ Nonflavanoid_Phenols: num  0.28 0.26 0.3 0.24 0.39 0.34 0.3 0.31 0.29 0.22 ...\n",
      " $ Proanthocyanins     : num  2.29 1.28 2.81 2.18 1.82 1.97 1.98 1.25 1.98 1.85 ...\n",
      " $ Color_Intensity     : num  5.64 4.38 5.68 7.8 4.32 6.75 5.25 5.05 5.2 7.22 ...\n",
      " $ Hue                 : num  1.04 1.05 1.03 0.86 1.04 1.05 1.02 1.06 1.08 1.01 ...\n",
      " $ OD280               : num  3.92 3.4 3.17 3.45 2.93 2.85 3.58 3.58 2.85 3.55 ...\n",
      " $ Proline             : int  1065 1050 1185 1480 735 1450 1290 1295 1045 1045 ...\n"
     ]
    }
   ],
   "source": [
    "str(df)"
   ]
  },
  {
   "cell_type": "code",
   "execution_count": 8,
   "metadata": {},
   "outputs": [
    {
     "data": {
      "text/plain": [
       "     label          Alcohol        Malic_Acid         Ash       \n",
       " Min.   :1.000   Min.   :11.03   Min.   :0.740   Min.   :1.360  \n",
       " 1st Qu.:1.000   1st Qu.:12.36   1st Qu.:1.603   1st Qu.:2.210  \n",
       " Median :2.000   Median :13.05   Median :1.865   Median :2.360  \n",
       " Mean   :1.938   Mean   :13.00   Mean   :2.336   Mean   :2.367  \n",
       " 3rd Qu.:3.000   3rd Qu.:13.68   3rd Qu.:3.083   3rd Qu.:2.558  \n",
       " Max.   :3.000   Max.   :14.83   Max.   :5.800   Max.   :3.230  \n",
       "  Ash_Alcanity     Magnesium      Total_Phenols     Flavanoids   \n",
       " Min.   :10.60   Min.   : 70.00   Min.   :0.980   Min.   :0.340  \n",
       " 1st Qu.:17.20   1st Qu.: 88.00   1st Qu.:1.742   1st Qu.:1.205  \n",
       " Median :19.50   Median : 98.00   Median :2.355   Median :2.135  \n",
       " Mean   :19.49   Mean   : 99.74   Mean   :2.295   Mean   :2.029  \n",
       " 3rd Qu.:21.50   3rd Qu.:107.00   3rd Qu.:2.800   3rd Qu.:2.875  \n",
       " Max.   :30.00   Max.   :162.00   Max.   :3.880   Max.   :5.080  \n",
       " Nonflavanoid_Phenols Proanthocyanins Color_Intensity       Hue        \n",
       " Min.   :0.1300       Min.   :0.410   Min.   : 1.280   Min.   :0.4800  \n",
       " 1st Qu.:0.2700       1st Qu.:1.250   1st Qu.: 3.220   1st Qu.:0.7825  \n",
       " Median :0.3400       Median :1.555   Median : 4.690   Median :0.9650  \n",
       " Mean   :0.3619       Mean   :1.591   Mean   : 5.058   Mean   :0.9574  \n",
       " 3rd Qu.:0.4375       3rd Qu.:1.950   3rd Qu.: 6.200   3rd Qu.:1.1200  \n",
       " Max.   :0.6600       Max.   :3.580   Max.   :13.000   Max.   :1.7100  \n",
       "     OD280          Proline      \n",
       " Min.   :1.270   Min.   : 278.0  \n",
       " 1st Qu.:1.938   1st Qu.: 500.5  \n",
       " Median :2.780   Median : 673.5  \n",
       " Mean   :2.612   Mean   : 746.9  \n",
       " 3rd Qu.:3.170   3rd Qu.: 985.0  \n",
       " Max.   :4.000   Max.   :1680.0  "
      ]
     },
     "metadata": {},
     "output_type": "display_data"
    }
   ],
   "source": [
    "summary(df)"
   ]
  },
  {
   "cell_type": "code",
   "execution_count": 9,
   "metadata": {},
   "outputs": [
    {
     "data": {
      "text/plain": [
       "\n",
       " 1  2  3 \n",
       "59 71 48 "
      ]
     },
     "metadata": {},
     "output_type": "display_data"
    }
   ],
   "source": [
    "table(df$label) #imbalanced labels"
   ]
  },
  {
   "cell_type": "code",
   "execution_count": 10,
   "metadata": {},
   "outputs": [
    {
     "data": {
      "text/html": [
       "FALSE"
      ],
      "text/latex": [
       "FALSE"
      ],
      "text/markdown": [
       "FALSE"
      ],
      "text/plain": [
       "[1] FALSE"
      ]
     },
     "metadata": {},
     "output_type": "display_data"
    }
   ],
   "source": [
    "any(is.na(df))"
   ]
  },
  {
   "cell_type": "markdown",
   "metadata": {},
   "source": [
    "## Data preprocessing"
   ]
  },
  {
   "cell_type": "code",
   "execution_count": 12,
   "metadata": {
    "collapsed": true
   },
   "outputs": [],
   "source": [
    "library(caTools)\n",
    "library(caret)\n",
    "seed = 101 #random seed for reproducibility\n",
    "set.seed(seed) "
   ]
  },
  {
   "cell_type": "markdown",
   "metadata": {},
   "source": [
    "** Encode Label **"
   ]
  },
  {
   "cell_type": "code",
   "execution_count": 13,
   "metadata": {},
   "outputs": [
    {
     "data": {
      "text/plain": [
       "\n",
       " 1  2  3 \n",
       "59 71 48 "
      ]
     },
     "metadata": {},
     "output_type": "display_data"
    },
    {
     "name": "stdout",
     "output_type": "stream",
     "text": [
      "'data.frame':\t178 obs. of  14 variables:\n",
      " $ label               : Factor w/ 3 levels \"1\",\"2\",\"3\": 1 1 1 1 1 1 1 1 1 1 ...\n",
      " $ Alcohol             : num  14.2 13.2 13.2 14.4 13.2 ...\n",
      " $ Malic_Acid          : num  1.71 1.78 2.36 1.95 2.59 1.76 1.87 2.15 1.64 1.35 ...\n",
      " $ Ash                 : num  2.43 2.14 2.67 2.5 2.87 2.45 2.45 2.61 2.17 2.27 ...\n",
      " $ Ash_Alcanity        : num  15.6 11.2 18.6 16.8 21 15.2 14.6 17.6 14 16 ...\n",
      " $ Magnesium           : int  127 100 101 113 118 112 96 121 97 98 ...\n",
      " $ Total_Phenols       : num  2.8 2.65 2.8 3.85 2.8 3.27 2.5 2.6 2.8 2.98 ...\n",
      " $ Flavanoids          : num  3.06 2.76 3.24 3.49 2.69 3.39 2.52 2.51 2.98 3.15 ...\n",
      " $ Nonflavanoid_Phenols: num  0.28 0.26 0.3 0.24 0.39 0.34 0.3 0.31 0.29 0.22 ...\n",
      " $ Proanthocyanins     : num  2.29 1.28 2.81 2.18 1.82 1.97 1.98 1.25 1.98 1.85 ...\n",
      " $ Color_Intensity     : num  5.64 4.38 5.68 7.8 4.32 6.75 5.25 5.05 5.2 7.22 ...\n",
      " $ Hue                 : num  1.04 1.05 1.03 0.86 1.04 1.05 1.02 1.06 1.08 1.01 ...\n",
      " $ OD280               : num  3.92 3.4 3.17 3.45 2.93 2.85 3.58 3.58 2.85 3.55 ...\n",
      " $ Proline             : int  1065 1050 1185 1480 735 1450 1290 1295 1045 1045 ...\n"
     ]
    }
   ],
   "source": [
    "df$label = factor(df$label, labels=c(1,2,3))\n",
    "table(df$label)\n",
    "str(df)"
   ]
  },
  {
   "cell_type": "markdown",
   "metadata": {},
   "source": [
    "** Split Train Test Sets **"
   ]
  },
  {
   "cell_type": "code",
   "execution_count": 14,
   "metadata": {
    "collapsed": true
   },
   "outputs": [],
   "source": [
    "split = sample.split(df$label, SplitRatio = 0.80)\n",
    "train_set = subset(df, split == TRUE)\n",
    "test_set = subset(df, split == FALSE)"
   ]
  },
  {
   "cell_type": "markdown",
   "metadata": {},
   "source": [
    "** Scale features **"
   ]
  },
  {
   "cell_type": "code",
   "execution_count": 15,
   "metadata": {},
   "outputs": [
    {
     "data": {
      "text/plain": [
       " label     Alcohol          Malic_Acid           Ash          \n",
       " 1:47   Min.   :-1.9510   Min.   :-1.3060   Min.   :-3.61040  \n",
       " 2:57   1st Qu.:-0.8246   1st Qu.:-0.6484   1st Qu.:-0.56458  \n",
       " 3:38   Median : 0.0571   Median :-0.4155   Median :-0.02068  \n",
       "        Mean   : 0.0000   Mean   : 0.0000   Mean   : 0.00000  \n",
       "        3rd Qu.: 0.8572   3rd Qu.: 0.6053   3rd Qu.: 0.72264  \n",
       "        Max.   : 2.2911   Max.   : 3.1787   Max.   : 3.17018  \n",
       "  Ash_Alcanity       Magnesium       Total_Phenols        Flavanoids     \n",
       " Min.   :-2.5580   Min.   :-2.1076   Min.   :-2.05932   Min.   :-1.7139  \n",
       " 1st Qu.:-0.7313   1st Qu.:-0.7674   1st Qu.:-0.88673   1st Qu.:-0.8236  \n",
       " Median :-0.1029   Median :-0.1326   Median :-0.09976   Median : 0.0869  \n",
       " Mean   : 0.0000   Mean   : 0.0000   Mean   : 0.00000   Mean   : 0.0000  \n",
       " 3rd Qu.: 0.6278   3rd Qu.: 0.5727   3rd Qu.: 0.80526   3rd Qu.: 0.8118  \n",
       " Max.   : 3.1121   Max.   : 4.3816   Max.   : 2.50513   Max.   : 3.0415  \n",
       " Nonflavanoid_Phenols Proanthocyanins    Color_Intensity        Hue          \n",
       " Min.   :-1.8714      Min.   :-2.05300   Min.   :-1.6442   Min.   :-2.09978  \n",
       " 1st Qu.:-0.7160      1st Qu.:-0.57612   1st Qu.:-0.7897   1st Qu.:-0.82510  \n",
       " Median :-0.2208      Median :-0.06624   Median :-0.1390   Median : 0.04706  \n",
       " Mean   : 0.0000      Mean   : 0.00000   Mean   : 0.0000   Mean   : 0.00000  \n",
       " 3rd Qu.: 0.6044      3rd Qu.: 0.55352   3rd Qu.: 0.5149   3rd Qu.: 0.75149  \n",
       " Max.   : 2.5025      Max.   : 3.52046   Max.   : 3.4395   Max.   : 2.23862  \n",
       "     OD280            Proline       \n",
       " Min.   :-1.8684   Min.   :-1.4862  \n",
       " 1st Qu.:-0.9471   1st Qu.:-0.7668  \n",
       " Median : 0.2396   Median :-0.2830  \n",
       " Mean   : 0.0000   Mean   : 0.0000  \n",
       " 3rd Qu.: 0.7840   3rd Qu.: 0.8109  \n",
       " Max.   : 1.9428   Max.   : 2.8616  "
      ]
     },
     "metadata": {},
     "output_type": "display_data"
    }
   ],
   "source": [
    "# standardize data\n",
    "label_col  = 1\n",
    "train_set[-label_col] = scale(train_set[-label_col])\n",
    "test_set[-label_col] = scale(test_set[-label_col])\n",
    "summary(train_set)"
   ]
  },
  {
   "cell_type": "markdown",
   "metadata": {},
   "source": [
    "## Baseline Model"
   ]
  },
  {
   "cell_type": "code",
   "execution_count": 16,
   "metadata": {
    "collapsed": true
   },
   "outputs": [],
   "source": [
    "# cross validation\n",
    "trControl <- trainControl(method=\"cv\", number=5)\n",
    "metric <- \"Accuracy\""
   ]
  },
  {
   "cell_type": "code",
   "execution_count": 17,
   "metadata": {},
   "outputs": [
    {
     "data": {
      "text/plain": [
       "\n",
       "Call:\n",
       "summary.resamples(object = results)\n",
       "\n",
       "Models: lda, glmnet, svm, knn, nb, cart, c50, bagging, rf, gbm \n",
       "Number of resamples: 5 \n",
       "\n",
       "Accuracy \n",
       "             Min.   1st Qu.    Median      Mean   3rd Qu.      Max. NA's\n",
       "lda     0.9310345 0.9629630 0.9666667 0.9721328 1.0000000 1.0000000    0\n",
       "glmnet  1.0000000 1.0000000 1.0000000 1.0000000 1.0000000 1.0000000    0\n",
       "svm     1.0000000 1.0000000 1.0000000 1.0000000 1.0000000 1.0000000    0\n",
       "knn     0.9333333 0.9629630 0.9642857 0.9580770 0.9642857 0.9655172    0\n",
       "nb      0.9259259 1.0000000 1.0000000 0.9851852 1.0000000 1.0000000    0\n",
       "cart    0.7857143 0.8214286 0.9259259 0.8928207 0.9310345 1.0000000    0\n",
       "c50     0.8965517 0.9259259 0.9285714 0.9502098 1.0000000 1.0000000    0\n",
       "bagging 0.9285714 0.9310345 0.9629630 0.9573709 0.9642857 1.0000000    0\n",
       "rf      0.9310345 1.0000000 1.0000000 0.9862069 1.0000000 1.0000000    0\n",
       "gbm     0.9310345 1.0000000 1.0000000 0.9862069 1.0000000 1.0000000    0\n",
       "\n",
       "Kappa \n",
       "             Min.   1st Qu.    Median      Mean   3rd Qu.      Max. NA's\n",
       "lda     0.8935780 0.9432773 0.9496644 0.9573039 1.0000000 1.0000000    0\n",
       "glmnet  1.0000000 1.0000000 1.0000000 1.0000000 1.0000000 1.0000000    0\n",
       "svm     1.0000000 1.0000000 1.0000000 1.0000000 1.0000000 1.0000000    0\n",
       "knn     0.8996656 0.9439834 0.9461538 0.9366665 0.9462572 0.9472727    0\n",
       "nb      0.8875000 1.0000000 1.0000000 0.9775000 1.0000000 1.0000000    0\n",
       "cart    0.6705882 0.7343454 0.8865546 0.8372450 0.8947368 1.0000000    0\n",
       "c50     0.8438061 0.8860759 0.8908382 0.9241441 1.0000000 1.0000000    0\n",
       "bagging 0.8918919 0.8954955 0.9430380 0.9353365 0.9462572 1.0000000    0\n",
       "rf      0.8954955 1.0000000 1.0000000 0.9790991 1.0000000 1.0000000    0\n",
       "gbm     0.8949275 1.0000000 1.0000000 0.9789855 1.0000000 1.0000000    0\n"
      ]
     },
     "metadata": {},
     "output_type": "display_data"
    },
    {
     "data": {},
     "metadata": {},
     "output_type": "display_data"
    },
    {
     "data": {
      "image/png": "[encoded data removed]",
      "text/plain": [
       "plot without title"
      ]
     },
     "metadata": {},
     "output_type": "display_data"
    }
   ],
   "source": [
    "# train multiple models\n",
    "# Linear Discriminant Analysis\n",
    "set.seed(seed)\n",
    "fit.lda <- train(label~., data=train_set, method=\"lda\", \n",
    "                 metric=metric, trControl=trControl)\n",
    "# GLMNET\n",
    "set.seed(seed)\n",
    "fit.glmnet <- train(label~., data=train_set, method=\"glmnet\", \n",
    "                    metric=metric, trControl=trControl)\n",
    "# SVM Radial\n",
    "set.seed(seed)\n",
    "fit.svmRadial <- train(label~., data=train_set, method=\"svmRadial\", \n",
    "                       metric=metric, trControl=trControl, fit=FALSE)\n",
    "# kNN\n",
    "set.seed(seed)\n",
    "fit.knn <- train(label~., data=train_set, method=\"knn\", \n",
    "                 metric=metric, trControl=trControl)\n",
    "# Naive Bayes\n",
    "set.seed(seed)\n",
    "fit.nb <- train(label~., data=train_set, method=\"nb\", \n",
    "                metric=metric, trControl=trControl)\n",
    "# CART\n",
    "set.seed(seed)\n",
    "fit.cart <- train(label~., data=train_set, method=\"rpart\", \n",
    "                  metric=metric, trControl=trControl)\n",
    "# C5.0\n",
    "set.seed(seed)\n",
    "fit.c50 <- train(label~., data=train_set, method=\"C5.0\", \n",
    "                 metric=metric, trControl=trControl)\n",
    "# Bagged CART\n",
    "set.seed(seed)\n",
    "fit.treebag <- train(label~., data=train_set, method=\"treebag\", \n",
    "                     metric=metric, trControl=trControl)\n",
    "# Random Forest\n",
    "set.seed(seed)\n",
    "fit.rf <- train(label~., data=train_set, method=\"rf\", \n",
    "                metric=metric, trControl=trControl)\n",
    "# Stochastic Gradient Boosting\n",
    "set.seed(seed)\n",
    "fit.gbm <- train(label~., data=train_set, method=\"gbm\", \n",
    "                 metric=metric, trControl=trControl, verbose=FALSE)\n",
    "\n",
    "# summarise results\n",
    "results <- resamples(list(lda=fit.lda, glmnet=fit.glmnet,\n",
    "    svm=fit.svmRadial, knn=fit.knn, nb=fit.nb, cart=fit.cart, c50=fit.c50,\n",
    "    bagging=fit.treebag, rf=fit.rf, gbm=fit.gbm))\n",
    "summary(results)\n",
    "bwplot(results)"
   ]
  },
  {
   "cell_type": "markdown",
   "metadata": {},
   "source": [
    "## Parameter Tuning\n",
    "4 best algorithms by mean accuracy: glmnet, svm, rf, gbm\n",
    "\n",
    "tuning parameters: http://topepo.github.io/caret/available-models.html"
   ]
  },
  {
   "cell_type": "code",
   "execution_count": 18,
   "metadata": {
    "collapsed": true
   },
   "outputs": [],
   "source": [
    "trControl <- trainControl(method='cv', number=5)\n",
    "metric <- 'Accuracy'"
   ]
  },
  {
   "cell_type": "markdown",
   "metadata": {},
   "source": [
    "#### Model 1: GLMNET"
   ]
  },
  {
   "cell_type": "code",
   "execution_count": 19,
   "metadata": {},
   "outputs": [
    {
     "data": {
      "text/plain": [
       "glmnet \n",
       "\n",
       "142 samples\n",
       " 13 predictor\n",
       "  3 classes: '1', '2', '3' \n",
       "\n",
       "No pre-processing\n",
       "Resampling: Cross-Validated (5 fold) \n",
       "Summary of sample sizes: 114, 114, 112, 113, 115 \n",
       "Resampling results across tuning parameters:\n",
       "\n",
       "  alpha  lambda        Accuracy   Kappa    \n",
       "  0.10   0.0007846558  0.9933333  0.9897959\n",
       "  0.10   0.0078465578  1.0000000  1.0000000\n",
       "  0.10   0.0784655783  0.9859606  0.9787060\n",
       "  0.55   0.0007846558  1.0000000  1.0000000\n",
       "  0.55   0.0078465578  1.0000000  1.0000000\n",
       "  0.55   0.0784655783  0.9856960  0.9781100\n",
       "  1.00   0.0007846558  0.9790640  0.9679670\n",
       "  1.00   0.0078465578  0.9856960  0.9781100\n",
       "  1.00   0.0784655783  0.9571064  0.9347965\n",
       "\n",
       "Accuracy was used to select the optimal model using the largest value.\n",
       "The final values used for the model were alpha = 0.1 and lambda = 0.007846558."
      ]
     },
     "metadata": {},
     "output_type": "display_data"
    }
   ],
   "source": [
    "# default\n",
    "fit.glmnet"
   ]
  },
  {
   "cell_type": "code",
   "execution_count": 20,
   "metadata": {},
   "outputs": [
    {
     "name": "stdout",
     "output_type": "stream",
     "text": [
      "glmnet \n",
      "\n",
      "142 samples\n",
      " 13 predictor\n",
      "  3 classes: '1', '2', '3' \n",
      "\n",
      "No pre-processing\n",
      "Resampling: Cross-Validated (5 fold) \n",
      "Summary of sample sizes: 114, 114, 112, 113, 115 \n",
      "Resampling results across tuning parameters:\n",
      "\n",
      "  alpha  lambda       Accuracy   Kappa    \n",
      "  0.0    0.000000000  0.9928571  0.9892514\n",
      "  0.0    0.001000000  0.9928571  0.9892514\n",
      "  0.0    0.005000000  0.9928571  0.9892514\n",
      "  0.0    0.007846558  0.9928571  0.9892514\n",
      "  0.0    0.010000000  0.9928571  0.9892514\n",
      "  0.0    0.100000000  0.9859606  0.9787060\n",
      "  0.0    1.000000000  0.9575826  0.9349575\n",
      "  0.1    0.000000000  0.9933333  0.9897959\n",
      "  0.1    0.001000000  0.9933333  0.9897959\n",
      "  0.1    0.005000000  1.0000000  1.0000000\n",
      "  0.1    0.007846558  1.0000000  1.0000000\n",
      "  0.1    0.010000000  1.0000000  1.0000000\n",
      "  0.1    0.100000000  0.9931034  0.9894545\n",
      "  0.1    1.000000000  0.9575479  0.9344486\n",
      "  0.5    0.000000000  0.9933333  0.9897959\n",
      "  0.5    0.001000000  1.0000000  1.0000000\n",
      "  0.5    0.005000000  1.0000000  1.0000000\n",
      "  0.5    0.007846558  1.0000000  1.0000000\n",
      "  0.5    0.010000000  1.0000000  1.0000000\n",
      "  0.5    0.100000000  0.9856960  0.9781100\n",
      "  0.5    1.000000000  0.4013830  0.0000000\n",
      "  1.0    0.000000000  0.9716566  0.9567637\n",
      "  1.0    0.001000000  0.9790640  0.9679670\n",
      "  1.0    0.005000000  0.9931034  0.9894545\n",
      "  1.0    0.007846558  0.9856960  0.9781100\n",
      "  1.0    0.010000000  0.9856960  0.9781100\n",
      "  1.0    0.100000000  0.9571064  0.9347965\n",
      "  1.0    1.000000000  0.4013830  0.0000000\n",
      "\n",
      "Accuracy was used to select the optimal model using the largest value.\n",
      "The final values used for the model were alpha = 0.1 and lambda = 0.01.\n"
     ]
    },
    {
     "data": {},
     "metadata": {},
     "output_type": "display_data"
    },
    {
     "data": {
      "image/png": "[encoded data removed]",
      "text/plain": [
       "plot without title"
      ]
     },
     "metadata": {},
     "output_type": "display_data"
    }
   ],
   "source": [
    "# grid search\n",
    "set.seed(seed)\n",
    "tuneGrid = expand.grid(alpha = c(0,0.1,0.5,1),\n",
    "                       lambda = c(0,0.001,0.005,0.007846558,0.01,0.1,1))                    \n",
    "gridSearch <- train(label~., data=train_set, method='glmnet',\n",
    "                 metric=metric, trControl=trControl,\n",
    "                 tuneGrid=tuneGrid)\n",
    "print(gridSearch)\n",
    "plot(gridSearch)"
   ]
  },
  {
   "cell_type": "markdown",
   "metadata": {},
   "source": [
    "#### Model 2. Support Vector Machine "
   ]
  },
  {
   "cell_type": "code",
   "execution_count": 21,
   "metadata": {},
   "outputs": [
    {
     "data": {
      "text/plain": [
       "Support Vector Machines with Radial Basis Function Kernel \n",
       "\n",
       "142 samples\n",
       " 13 predictor\n",
       "  3 classes: '1', '2', '3' \n",
       "\n",
       "No pre-processing\n",
       "Resampling: Cross-Validated (5 fold) \n",
       "Summary of sample sizes: 114, 114, 112, 113, 115 \n",
       "Resampling results across tuning parameters:\n",
       "\n",
       "  C     Accuracy   Kappa    \n",
       "  0.25  0.9928571  0.9892514\n",
       "  0.50  1.0000000  1.0000000\n",
       "  1.00  1.0000000  1.0000000\n",
       "\n",
       "Tuning parameter 'sigma' was held constant at a value of 0.06496203\n",
       "Accuracy was used to select the optimal model using the largest value.\n",
       "The final values used for the model were sigma = 0.06496203 and C = 0.5."
      ]
     },
     "metadata": {},
     "output_type": "display_data"
    }
   ],
   "source": [
    "# default\n",
    "fit.svmRadial"
   ]
  },
  {
   "cell_type": "code",
   "execution_count": 22,
   "metadata": {},
   "outputs": [
    {
     "name": "stdout",
     "output_type": "stream",
     "text": [
      "Support Vector Machines with Radial Basis Function Kernel \n",
      "\n",
      "142 samples\n",
      " 13 predictor\n",
      "  3 classes: '1', '2', '3' \n",
      "\n",
      "No pre-processing\n",
      "Resampling: Cross-Validated (5 fold) \n",
      "Summary of sample sizes: 114, 114, 112, 113, 115 \n",
      "Resampling results across tuning parameters:\n",
      "\n",
      "  sigma       C    Accuracy   Kappa    \n",
      "  0.01000000  0.1  0.4911202  0.1578008\n",
      "  0.01000000  0.5  0.9790294  0.9679059\n",
      "  0.01000000  1.0  0.9928571  0.9892514\n",
      "  0.01000000  2.0  0.9928571  0.9892514\n",
      "  0.01000000  4.0  0.9928571  0.9892514\n",
      "  0.06496203  0.1  0.9718865  0.9568962\n",
      "  0.06496203  0.5  1.0000000  1.0000000\n",
      "  0.06496203  1.0  1.0000000  1.0000000\n",
      "  0.06496203  2.0  0.9931034  0.9893186\n",
      "  0.06496203  4.0  0.9864368  0.9791145\n",
      "  0.10000000  0.1  0.9514103  0.9251920\n",
      "  0.10000000  0.5  0.9931034  0.9893186\n",
      "  0.10000000  1.0  0.9931034  0.9893186\n",
      "  0.10000000  2.0  0.9864368  0.9791145\n",
      "  0.10000000  4.0  0.9864368  0.9791145\n",
      "  1.00000000  0.1  0.4013830  0.0000000\n",
      "  1.00000000  0.5  0.4013830  0.0000000\n",
      "  1.00000000  1.0  0.5611585  0.2814123\n",
      "  1.00000000  2.0  0.6251980  0.3905297\n",
      "  1.00000000  4.0  0.6251980  0.3905297\n",
      "\n",
      "Accuracy was used to select the optimal model using the largest value.\n",
      "The final values used for the model were sigma = 0.06496203 and C = 0.5.\n"
     ]
    },
    {
     "data": {},
     "metadata": {},
     "output_type": "display_data"
    },
    {
     "data": {
      "image/png": "[encoded data removed]",
      "text/plain": [
       "plot without title"
      ]
     },
     "metadata": {},
     "output_type": "display_data"
    }
   ],
   "source": [
    "# grid search\n",
    "set.seed(seed)\n",
    "tuneGrid = expand.grid(.sigma=c(0.01,0.06496203,0.1,1), \n",
    "                       .C=c(0.1,0.5,1,2,4))\n",
    "gridSearch <- train(label~., data=train_set, method='svmRadial',\n",
    "                 metric=metric, trControl=trControl,\n",
    "                 tuneGrid=tuneGrid)\n",
    "print(gridSearch)\n",
    "plot(gridSearch)"
   ]
  },
  {
   "cell_type": "markdown",
   "metadata": {},
   "source": [
    "#### Model 3: Random Forest"
   ]
  },
  {
   "cell_type": "code",
   "execution_count": 23,
   "metadata": {},
   "outputs": [
    {
     "data": {
      "text/plain": [
       "Random Forest \n",
       "\n",
       "142 samples\n",
       " 13 predictor\n",
       "  3 classes: '1', '2', '3' \n",
       "\n",
       "No pre-processing\n",
       "Resampling: Cross-Validated (5 fold) \n",
       "Summary of sample sizes: 114, 114, 112, 113, 115 \n",
       "Resampling results across tuning parameters:\n",
       "\n",
       "  mtry  Accuracy   Kappa    \n",
       "   2    0.9862069  0.9790991\n",
       "   7    0.9787995  0.9677546\n",
       "  13    0.9713921  0.9563143\n",
       "\n",
       "Accuracy was used to select the optimal model using the largest value.\n",
       "The final value used for the model was mtry = 2."
      ]
     },
     "metadata": {},
     "output_type": "display_data"
    }
   ],
   "source": [
    "# default\n",
    "fit.rf"
   ]
  },
  {
   "cell_type": "code",
   "execution_count": 24,
   "metadata": {},
   "outputs": [
    {
     "name": "stdout",
     "output_type": "stream",
     "text": [
      "Random Forest \n",
      "\n",
      "142 samples\n",
      " 13 predictor\n",
      "  3 classes: '1', '2', '3' \n",
      "\n",
      "No pre-processing\n",
      "Resampling: Cross-Validated (5 fold) \n",
      "Summary of sample sizes: 114, 114, 112, 113, 115 \n",
      "Resampling results across tuning parameters:\n",
      "\n",
      "  mtry  Accuracy   Kappa    \n",
      "   1    0.9931034  0.9894545\n",
      "   2    0.9862069  0.9790991\n",
      "   3    0.9862069  0.9790991\n",
      "   4    0.9787995  0.9677546\n",
      "   5    0.9787995  0.9677546\n",
      "   6    0.9787995  0.9677546\n",
      "   7    0.9787995  0.9677546\n",
      "   8    0.9787995  0.9677546\n",
      "   9    0.9713921  0.9563143\n",
      "  10    0.9713921  0.9563143\n",
      "\n",
      "Accuracy was used to select the optimal model using the largest value.\n",
      "The final value used for the model was mtry = 1.\n"
     ]
    },
    {
     "data": {},
     "metadata": {},
     "output_type": "display_data"
    },
    {
     "data": {
      "image/png": "[encoded data removed]",
      "text/plain": [
       "plot without title"
      ]
     },
     "metadata": {},
     "output_type": "display_data"
    }
   ],
   "source": [
    "# grid search\n",
    "set.seed(seed)\n",
    "tuneGrid <- expand.grid(.mtry=c(1:10))\n",
    "gridSearch <- train(label~., data=train_set, method='rf',\n",
    "                 metric=metric, trControl=trControl,\n",
    "                 tuneGrid=tuneGrid, verbose=FALSE)\n",
    "print(gridSearch)\n",
    "plot(gridSearch)"
   ]
  },
  {
   "cell_type": "markdown",
   "metadata": {},
   "source": [
    "#### Model 4: Stochastic Gradient Boosting"
   ]
  },
  {
   "cell_type": "code",
   "execution_count": 25,
   "metadata": {},
   "outputs": [
    {
     "data": {
      "text/plain": [
       "Stochastic Gradient Boosting \n",
       "\n",
       "142 samples\n",
       " 13 predictor\n",
       "  3 classes: '1', '2', '3' \n",
       "\n",
       "No pre-processing\n",
       "Resampling: Cross-Validated (5 fold) \n",
       "Summary of sample sizes: 114, 114, 112, 113, 115 \n",
       "Resampling results across tuning parameters:\n",
       "\n",
       "  interaction.depth  n.trees  Accuracy   Kappa    \n",
       "  1                   50      0.9785532  0.9674353\n",
       "  1                  100      0.9790640  0.9682163\n",
       "  1                  150      0.9790640  0.9682163\n",
       "  2                   50      0.9790640  0.9682163\n",
       "  2                  100      0.9721675  0.9579920\n",
       "  2                  150      0.9721675  0.9579920\n",
       "  3                   50      0.9862069  0.9789855\n",
       "  3                  100      0.9862069  0.9789855\n",
       "  3                  150      0.9721675  0.9579920\n",
       "\n",
       "Tuning parameter 'shrinkage' was held constant at a value of 0.1\n",
       "\n",
       "Tuning parameter 'n.minobsinnode' was held constant at a value of 10\n",
       "Accuracy was used to select the optimal model using the largest value.\n",
       "The final values used for the model were n.trees = 50, interaction.depth =\n",
       " 3, shrinkage = 0.1 and n.minobsinnode = 10."
      ]
     },
     "metadata": {},
     "output_type": "display_data"
    }
   ],
   "source": [
    "# default\n",
    "fit.gbm"
   ]
  },
  {
   "cell_type": "code",
   "execution_count": 26,
   "metadata": {},
   "outputs": [
    {
     "name": "stdout",
     "output_type": "stream",
     "text": [
      "Stochastic Gradient Boosting \n",
      "\n",
      "142 samples\n",
      " 13 predictor\n",
      "  3 classes: '1', '2', '3' \n",
      "\n",
      "No pre-processing\n",
      "Resampling: Cross-Validated (5 fold) \n",
      "Summary of sample sizes: 114, 114, 112, 113, 115 \n",
      "Resampling results across tuning parameters:\n",
      "\n",
      "  shrinkage  interaction.depth  n.minobsinnode  n.trees  Accuracy   Kappa    \n",
      "  0.01       1                  10               50      0.9502098  0.9245615\n",
      "  0.01       1                  10              100      0.9571064  0.9348994\n",
      "  0.01       1                  10              200      0.9642492  0.9455451\n",
      "  0.01       1                  10              300      0.9785532  0.9673408\n",
      "  0.01       1                  20               50      0.9435431  0.9145562\n",
      "  0.01       1                  20              100      0.9502098  0.9246572\n",
      "  0.01       1                  20              200      0.9719212  0.9576842\n",
      "  0.01       1                  20              300      0.9719212  0.9576842\n",
      "  0.01       3                  10               50      0.9719029  0.9574167\n",
      "  0.01       3                  10              100      0.9719029  0.9574167\n",
      "  0.01       3                  10              200      0.9790640  0.9683299\n",
      "  0.01       3                  10              300      0.9721675  0.9579920\n",
      "  0.01       3                  20               50      0.9368765  0.9045230\n",
      "  0.01       3                  20              100      0.9502098  0.9246572\n",
      "  0.01       3                  20              200      0.9645138  0.9462918\n",
      "  0.01       3                  20              300      0.9719212  0.9576842\n",
      "  0.01       5                  10               50      0.9588342  0.9378784\n",
      "  0.01       5                  10              100      0.9721675  0.9580127\n",
      "  0.01       5                  10              200      0.9862069  0.9790991\n",
      "  0.01       5                  10              300      0.9790640  0.9683299\n",
      "  0.01       5                  20               50      0.9368765  0.9045230\n",
      "  0.01       5                  20              100      0.9571064  0.9350900\n",
      "  0.01       5                  20              200      0.9645138  0.9462918\n",
      "  0.01       5                  20              300      0.9645138  0.9463396\n",
      "  0.10       1                  10               50      0.9640029  0.9452548\n",
      "  0.10       1                  10              100      0.9719212  0.9575706\n",
      "  0.10       1                  10              200      0.9790640  0.9682163\n",
      "  0.10       1                  10              300      0.9716566  0.9569663\n",
      "  0.10       1                  20               50      0.9642675  0.9459215\n",
      "  0.10       1                  20              100      0.9573709  0.9355089\n",
      "  0.10       1                  20              200      0.9645138  0.9461746\n",
      "  0.10       1                  20              300      0.9645138  0.9461746\n",
      "  0.10       3                  10               50      0.9721675  0.9579920\n",
      "  0.10       3                  10              100      0.9721675  0.9579920\n",
      "  0.10       3                  10              200      0.9793103  0.9687612\n",
      "  0.10       3                  10              300      0.9719029  0.9574167\n",
      "  0.10       3                  20               50      0.9716566  0.9569853\n",
      "  0.10       3                  20              100      0.9787995  0.9677546\n",
      "  0.10       3                  20              200      0.9642492  0.9456522\n",
      "  0.10       3                  20              300      0.9787995  0.9677546\n",
      "  0.10       5                  10               50      0.9716566  0.9568717\n",
      "  0.10       5                  10              100      0.9642492  0.9454315\n",
      "  0.10       5                  10              200      0.9716566  0.9568717\n",
      "  0.10       5                  10              300      0.9785532  0.9673408\n",
      "  0.10       5                  20               50      0.9645138  0.9463396\n",
      "  0.10       5                  20              100      0.9859606  0.9787060\n",
      "  0.10       5                  20              200      0.9716566  0.9569018\n",
      "  0.10       5                  20              300      0.9649900  0.9468008\n",
      "\n",
      "Accuracy was used to select the optimal model using the largest value.\n",
      "The final values used for the model were n.trees = 200, interaction.depth =\n",
      " 5, shrinkage = 0.01 and n.minobsinnode = 10.\n"
     ]
    },
    {
     "data": {},
     "metadata": {},
     "output_type": "display_data"
    },
    {
     "data": {
      "image/png": "[encoded data removed]",
      "text/plain": [
       "plot without title"
      ]
     },
     "metadata": {},
     "output_type": "display_data"
    }
   ],
   "source": [
    "# grid search\n",
    "set.seed(seed)\n",
    "tuneGrid <- expand.grid(n.trees = c(50,100,200,300),\n",
    "                       interaction.depth = c(1, 3, 5),\n",
    "                       shrinkage = c(0.01,0.1),\n",
    "                       n.minobsinnode = c(10,20))\n",
    "gridSearch <- train(label~., data=train_set, method='gbm',\n",
    "                 metric=metric, trControl=trControl,\n",
    "                 tuneGrid=tuneGrid, verbose=FALSE)\n",
    "print(gridSearch)\n",
    "plot(gridSearch)"
   ]
  },
  {
   "cell_type": "markdown",
   "metadata": {},
   "source": [
    "## Final Model: Support Vector Machine (SVM)"
   ]
  },
  {
   "cell_type": "markdown",
   "metadata": {},
   "source": [
    "#### Params: sigma = 0.06496203, C = 0.5"
   ]
  },
  {
   "cell_type": "code",
   "execution_count": 36,
   "metadata": {},
   "outputs": [
    {
     "name": "stdout",
     "output_type": "stream",
     "text": [
      "Support Vector Machine object of class \"ksvm\" \n",
      "\n",
      "SV type: C-svc  (classification) \n",
      " parameter : cost C = 0.5 \n",
      "\n",
      "Gaussian Radial Basis kernel function. \n",
      " Hyperparameter : sigma =  0.06496203 \n",
      "\n",
      "Number of Support Vectors : 70 \n",
      "\n",
      "Objective Function Value : -8.914 -4.0751 -9.0917 \n",
      "Training error : 0 \n"
     ]
    }
   ],
   "source": [
    "library(kernlab)\n",
    "final.model <- ksvm(label~., data=train_set, kernel=\"rbfdot\",\n",
    "                    kpar=list(sigma=0.06496203), C=0.5)\n",
    "print(final.model)"
   ]
  },
  {
   "cell_type": "code",
   "execution_count": 37,
   "metadata": {},
   "outputs": [
    {
     "data": {
      "text/plain": [
       "Confusion Matrix and Statistics\n",
       "\n",
       "          Reference\n",
       "Prediction  1  2  3\n",
       "         1 47  0  0\n",
       "         2  0 57  0\n",
       "         3  0  0 38\n",
       "\n",
       "Overall Statistics\n",
       "                                     \n",
       "               Accuracy : 1          \n",
       "                 95% CI : (0.9744, 1)\n",
       "    No Information Rate : 0.4014     \n",
       "    P-Value [Acc > NIR] : < 2.2e-16  \n",
       "                                     \n",
       "                  Kappa : 1          \n",
       " Mcnemar's Test P-Value : NA         \n",
       "\n",
       "Statistics by Class:\n",
       "\n",
       "                     Class: 1 Class: 2 Class: 3\n",
       "Sensitivity             1.000   1.0000   1.0000\n",
       "Specificity             1.000   1.0000   1.0000\n",
       "Pos Pred Value          1.000   1.0000   1.0000\n",
       "Neg Pred Value          1.000   1.0000   1.0000\n",
       "Prevalence              0.331   0.4014   0.2676\n",
       "Detection Rate          0.331   0.4014   0.2676\n",
       "Detection Prevalence    0.331   0.4014   0.2676\n",
       "Balanced Accuracy       1.000   1.0000   1.0000"
      ]
     },
     "metadata": {},
     "output_type": "display_data"
    }
   ],
   "source": [
    "predictions = predict(final.model, newdata = train_set[-label_col])\n",
    "confusionMatrix(predictions, train_set$label)"
   ]
  },
  {
   "cell_type": "markdown",
   "metadata": {},
   "source": [
    "#### Save and load the final model"
   ]
  },
  {
   "cell_type": "code",
   "execution_count": 38,
   "metadata": {
    "collapsed": true
   },
   "outputs": [],
   "source": [
    "# save the model to disk\n",
    "saveRDS(final.model, 'final_model.rds')\n",
    "#rm(final.model)"
   ]
  },
  {
   "cell_type": "code",
   "execution_count": 39,
   "metadata": {},
   "outputs": [
    {
     "name": "stdout",
     "output_type": "stream",
     "text": [
      "Support Vector Machine object of class \"ksvm\" \n",
      "\n",
      "SV type: C-svc  (classification) \n",
      " parameter : cost C = 0.5 \n",
      "\n",
      "Gaussian Radial Basis kernel function. \n",
      " Hyperparameter : sigma =  0.06496203 \n",
      "\n",
      "Number of Support Vectors : 70 \n",
      "\n",
      "Objective Function Value : -8.914 -4.0751 -9.0917 \n",
      "Training error : 0 \n"
     ]
    }
   ],
   "source": [
    "# load the model\n",
    "final.model <- readRDS('final_model.rds')\n",
    "print(final.model)"
   ]
  },
  {
   "cell_type": "markdown",
   "metadata": {},
   "source": [
    "#### Final Model Evaluation with Test set"
   ]
  },
  {
   "cell_type": "code",
   "execution_count": 40,
   "metadata": {},
   "outputs": [
    {
     "data": {
      "text/plain": [
       "Confusion Matrix and Statistics\n",
       "\n",
       "          Reference\n",
       "Prediction  1  2  3\n",
       "         1 11  0  0\n",
       "         2  1 13  0\n",
       "         3  0  1 10\n",
       "\n",
       "Overall Statistics\n",
       "                                          \n",
       "               Accuracy : 0.9444          \n",
       "                 95% CI : (0.8134, 0.9932)\n",
       "    No Information Rate : 0.3889          \n",
       "    P-Value [Acc > NIR] : 2.763e-12       \n",
       "                                          \n",
       "                  Kappa : 0.9161          \n",
       " Mcnemar's Test P-Value : NA              \n",
       "\n",
       "Statistics by Class:\n",
       "\n",
       "                     Class: 1 Class: 2 Class: 3\n",
       "Sensitivity            0.9167   0.9286   1.0000\n",
       "Specificity            1.0000   0.9545   0.9615\n",
       "Pos Pred Value         1.0000   0.9286   0.9091\n",
       "Neg Pred Value         0.9600   0.9545   1.0000\n",
       "Prevalence             0.3333   0.3889   0.2778\n",
       "Detection Rate         0.3056   0.3611   0.2778\n",
       "Detection Prevalence   0.3056   0.3889   0.3056\n",
       "Balanced Accuracy      0.9583   0.9416   0.9808"
      ]
     },
     "metadata": {},
     "output_type": "display_data"
    }
   ],
   "source": [
    "predictions = predict(final.model, newdata = test_set[-label_col])\n",
    "confusionMatrix(predictions, test_set$label)"
   ]
  },
  {
   "cell_type": "markdown",
   "metadata": {},
   "source": [
    "## Summary"
   ]
  },
  {
   "cell_type": "markdown",
   "metadata": {},
   "source": [
    "- Best model: **SVM** w/ param: sigma=0.06496203, C = 0.5\n",
    "\n",
    "\n",
    "- Accuracy of test set: **94.4%**"
   ]
  }
 ],
 "metadata": {
  "kernelspec": {
   "display_name": "R",
   "language": "R",
   "name": "ir"
  },
  "language_info": {
   "codemirror_mode": "r",
   "file_extension": ".r",
   "mimetype": "text/x-r-source",
   "name": "R",
   "pygments_lexer": "r",
   "version": "3.4.3"
  }
 },
 "nbformat": 4,
 "nbformat_minor": 2
}
