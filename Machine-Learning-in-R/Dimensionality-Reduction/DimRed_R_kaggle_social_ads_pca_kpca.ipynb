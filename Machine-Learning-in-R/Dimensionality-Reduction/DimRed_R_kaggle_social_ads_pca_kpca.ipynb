{
 "cells": [
  {
   "cell_type": "markdown",
   "metadata": {},
   "source": [
    "## Dimensionality Reduction: kaggle Social Network Ads Dataset\n",
    "https://www.kaggle.com/rakeshrau/social-network-ads\n",
    "\n",
    "** Dataset Information: **\n",
    "\n",
    "400 users purchased/not purchased a particular product\n",
    "\n",
    "** Attribute Information: (4 features and 1 class) **\n",
    "\n",
    "- User ID\n",
    "- Gender\n",
    "- Age\n",
    "- EstimatedSalary\n",
    "- Purchased\n",
    "\n",
    "** Objective of this project **\n",
    "\n",
    "Predict whether users purchased or not based on two features (Age and Salary) with PCA & Kernel PCA applied"
   ]
  },
  {
   "cell_type": "markdown",
   "metadata": {},
   "source": [
    "## Data"
   ]
  },
  {
   "cell_type": "code",
   "execution_count": 13,
   "metadata": {
    "collapsed": true
   },
   "outputs": [],
   "source": [
    "#options(warn=-1)\n",
    "# Load Data\n",
    "df  <- read.csv('Social_Network_Ads.csv')"
   ]
  },
  {
   "cell_type": "code",
   "execution_count": 14,
   "metadata": {},
   "outputs": [
    {
     "data": {
      "text/html": [
       "<table>\n",
       "<thead><tr><th scope=col>User.ID</th><th scope=col>Gender</th><th scope=col>Age</th><th scope=col>EstimatedSalary</th><th scope=col>Purchased</th></tr></thead>\n",
       "<tbody>\n",
       "\t<tr><td>15624510</td><td>Male    </td><td>19      </td><td>19000   </td><td>0       </td></tr>\n",
       "\t<tr><td>15810944</td><td>Male    </td><td>35      </td><td>20000   </td><td>0       </td></tr>\n",
       "\t<tr><td>15668575</td><td>Female  </td><td>26      </td><td>43000   </td><td>0       </td></tr>\n",
       "</tbody>\n",
       "</table>\n"
      ],
      "text/latex": [
       "\\begin{tabular}{r|lllll}\n",
       " User.ID & Gender & Age & EstimatedSalary & Purchased\\\\\n",
       "\\hline\n",
       "\t 15624510 & Male     & 19       & 19000    & 0       \\\\\n",
       "\t 15810944 & Male     & 35       & 20000    & 0       \\\\\n",
       "\t 15668575 & Female   & 26       & 43000    & 0       \\\\\n",
       "\\end{tabular}\n"
      ],
      "text/markdown": [
       "\n",
       "User.ID | Gender | Age | EstimatedSalary | Purchased | \n",
       "|---|---|---|\n",
       "| 15624510 | Male     | 19       | 19000    | 0        | \n",
       "| 15810944 | Male     | 35       | 20000    | 0        | \n",
       "| 15668575 | Female   | 26       | 43000    | 0        | \n",
       "\n",
       "\n"
      ],
      "text/plain": [
       "  User.ID  Gender Age EstimatedSalary Purchased\n",
       "1 15624510 Male   19  19000           0        \n",
       "2 15810944 Male   35  20000           0        \n",
       "3 15668575 Female 26  43000           0        "
      ]
     },
     "metadata": {},
     "output_type": "display_data"
    }
   ],
   "source": [
    "# Inspect Data\n",
    "head(df,3)\n",
    "colnames(df)[5] <- 'label'"
   ]
  },
  {
   "cell_type": "code",
   "execution_count": 15,
   "metadata": {},
   "outputs": [
    {
     "data": {
      "text/html": [
       "<ol class=list-inline>\n",
       "\t<li>400</li>\n",
       "\t<li>5</li>\n",
       "</ol>\n"
      ],
      "text/latex": [
       "\\begin{enumerate*}\n",
       "\\item 400\n",
       "\\item 5\n",
       "\\end{enumerate*}\n"
      ],
      "text/markdown": [
       "1. 400\n",
       "2. 5\n",
       "\n",
       "\n"
      ],
      "text/plain": [
       "[1] 400   5"
      ]
     },
     "metadata": {},
     "output_type": "display_data"
    }
   ],
   "source": [
    "dim(df)"
   ]
  },
  {
   "cell_type": "code",
   "execution_count": 18,
   "metadata": {},
   "outputs": [
    {
     "data": {
      "image/png": "[encoded data removed]",
      "text/plain": [
       "Plot with title \"label\""
      ]
     },
     "metadata": {},
     "output_type": "display_data"
    }
   ],
   "source": [
    "par(mfrow=c(1,3))\n",
    "for(i in 3:5) {\n",
    "    hist(df[,i], main=names(df)[i], col='lightblue')\n",
    "}"
   ]
  },
  {
   "cell_type": "code",
   "execution_count": 20,
   "metadata": {},
   "outputs": [
    {
     "data": {
      "image/png": "[encoded data removed]",
      "text/plain": [
       "Plot with title \"\""
      ]
     },
     "metadata": {},
     "output_type": "display_data"
    }
   ],
   "source": [
    "library(corrplot)\n",
    "corrplot(cor(df[-2]), method=\"circle\")"
   ]
  },
  {
   "cell_type": "code",
   "execution_count": 21,
   "metadata": {},
   "outputs": [
    {
     "name": "stdout",
     "output_type": "stream",
     "text": [
      "'data.frame':\t400 obs. of  5 variables:\n",
      " $ User.ID        : int  15624510 15810944 15668575 15603246 15804002 15728773 15598044 15694829 15600575 15727311 ...\n",
      " $ Gender         : Factor w/ 2 levels \"Female\",\"Male\": 2 2 1 1 2 2 1 1 2 1 ...\n",
      " $ Age            : int  19 35 26 27 19 27 27 32 25 35 ...\n",
      " $ EstimatedSalary: int  19000 20000 43000 57000 76000 58000 84000 150000 33000 65000 ...\n",
      " $ label          : int  0 0 0 0 0 0 0 1 0 0 ...\n"
     ]
    }
   ],
   "source": [
    "str(df)"
   ]
  },
  {
   "cell_type": "code",
   "execution_count": 22,
   "metadata": {},
   "outputs": [
    {
     "data": {
      "text/plain": [
       "    User.ID            Gender         Age        EstimatedSalary \n",
       " Min.   :15566689   Female:204   Min.   :18.00   Min.   : 15000  \n",
       " 1st Qu.:15626764   Male  :196   1st Qu.:29.75   1st Qu.: 43000  \n",
       " Median :15694342                Median :37.00   Median : 70000  \n",
       " Mean   :15691540                Mean   :37.66   Mean   : 69743  \n",
       " 3rd Qu.:15750363                3rd Qu.:46.00   3rd Qu.: 88000  \n",
       " Max.   :15815236                Max.   :60.00   Max.   :150000  \n",
       "     label       \n",
       " Min.   :0.0000  \n",
       " 1st Qu.:0.0000  \n",
       " Median :0.0000  \n",
       " Mean   :0.3575  \n",
       " 3rd Qu.:1.0000  \n",
       " Max.   :1.0000  "
      ]
     },
     "metadata": {},
     "output_type": "display_data"
    }
   ],
   "source": [
    "summary(df)"
   ]
  },
  {
   "cell_type": "code",
   "execution_count": 23,
   "metadata": {},
   "outputs": [
    {
     "data": {
      "text/plain": [
       "\n",
       "  0   1 \n",
       "257 143 "
      ]
     },
     "metadata": {},
     "output_type": "display_data"
    }
   ],
   "source": [
    "table(df$label) #imbalanced labels"
   ]
  },
  {
   "cell_type": "code",
   "execution_count": 24,
   "metadata": {},
   "outputs": [
    {
     "data": {
      "text/html": [
       "FALSE"
      ],
      "text/latex": [
       "FALSE"
      ],
      "text/markdown": [
       "FALSE"
      ],
      "text/plain": [
       "[1] FALSE"
      ]
     },
     "metadata": {},
     "output_type": "display_data"
    }
   ],
   "source": [
    "any(is.na(df))"
   ]
  },
  {
   "cell_type": "code",
   "execution_count": 33,
   "metadata": {
    "scrolled": true
   },
   "outputs": [
    {
     "data": {},
     "metadata": {},
     "output_type": "display_data"
    },
    {
     "data": {
      "image/png": "[encoded data removed]",
      "text/plain": [
       "plot without title"
      ]
     },
     "metadata": {},
     "output_type": "display_data"
    }
   ],
   "source": [
    "library(ggplot2)\n",
    "ggplot(df,aes(Age,EstimatedSalary)) +\n",
    "    geom_point(aes(color=label)) + theme_bw()"
   ]
  },
  {
   "cell_type": "markdown",
   "metadata": {},
   "source": [
    "## Data preprocessing"
   ]
  },
  {
   "cell_type": "code",
   "execution_count": 29,
   "metadata": {},
   "outputs": [
    {
     "name": "stderr",
     "output_type": "stream",
     "text": [
      "Loading required package: lattice\n"
     ]
    }
   ],
   "source": [
    "library(caTools)\n",
    "library(caret)\n",
    "seed = 101 #random seed for reproducibility\n",
    "set.seed(seed) "
   ]
  },
  {
   "cell_type": "markdown",
   "metadata": {},
   "source": [
    "** Encode Label **"
   ]
  },
  {
   "cell_type": "code",
   "execution_count": 30,
   "metadata": {},
   "outputs": [
    {
     "data": {
      "text/plain": [
       "\n",
       "  0   1 \n",
       "257 143 "
      ]
     },
     "metadata": {},
     "output_type": "display_data"
    },
    {
     "name": "stdout",
     "output_type": "stream",
     "text": [
      "'data.frame':\t400 obs. of  3 variables:\n",
      " $ Age            : int  19 35 26 27 19 27 27 32 25 35 ...\n",
      " $ EstimatedSalary: int  19000 20000 43000 57000 76000 58000 84000 150000 33000 65000 ...\n",
      " $ label          : Factor w/ 2 levels \"0\",\"1\": 1 1 1 1 1 1 1 2 1 1 ...\n"
     ]
    }
   ],
   "source": [
    "df = df[,3:5]\n",
    "df$label = factor(df$label, labels=c(0,1))\n",
    "table(df$label)\n",
    "str(df)"
   ]
  },
  {
   "cell_type": "markdown",
   "metadata": {},
   "source": [
    "** Split Train Test Sets **"
   ]
  },
  {
   "cell_type": "code",
   "execution_count": 34,
   "metadata": {
    "collapsed": true
   },
   "outputs": [],
   "source": [
    "split = sample.split(df$label, SplitRatio = 0.80)\n",
    "train_set = subset(df, split == TRUE)\n",
    "test_set = subset(df, split == FALSE)"
   ]
  },
  {
   "cell_type": "code",
   "execution_count": 35,
   "metadata": {},
   "outputs": [
    {
     "data": {
      "text/plain": [
       "      Age           EstimatedSalary   label  \n",
       " Min.   :-1.94642   Min.   :-1.5703   0:206  \n",
       " 1st Qu.:-0.77362   1st Qu.:-0.7644   1:114  \n",
       " Median :-0.08949   Median :-0.0161          \n",
       " Mean   : 0.00000   Mean   : 0.0000          \n",
       " 3rd Qu.: 0.79011   3rd Qu.: 0.5307          \n",
       " Max.   : 2.15838   Max.   : 2.3152          "
      ]
     },
     "metadata": {},
     "output_type": "display_data"
    }
   ],
   "source": [
    "# standardize data\n",
    "label_col  = 3\n",
    "train_set[-label_col] = scale(train_set[-label_col])\n",
    "test_set[-label_col] = scale(test_set[-label_col])\n",
    "summary(train_set)"
   ]
  },
  {
   "cell_type": "markdown",
   "metadata": {},
   "source": [
    "## Baseline Model"
   ]
  },
  {
   "cell_type": "code",
   "execution_count": 37,
   "metadata": {},
   "outputs": [
    {
     "data": {
      "text/plain": [
       "Confusion Matrix and Statistics\n",
       "\n",
       "          Reference\n",
       "Prediction  0  1\n",
       "         0 46 12\n",
       "         1  5 17\n",
       "                                          \n",
       "               Accuracy : 0.7875          \n",
       "                 95% CI : (0.6817, 0.8711)\n",
       "    No Information Rate : 0.6375          \n",
       "    P-Value [Acc > NIR] : 0.002823        \n",
       "                                          \n",
       "                  Kappa : 0.515           \n",
       " Mcnemar's Test P-Value : 0.145610        \n",
       "                                          \n",
       "            Sensitivity : 0.9020          \n",
       "            Specificity : 0.5862          \n",
       "         Pos Pred Value : 0.7931          \n",
       "         Neg Pred Value : 0.7727          \n",
       "             Prevalence : 0.6375          \n",
       "         Detection Rate : 0.5750          \n",
       "   Detection Prevalence : 0.7250          \n",
       "      Balanced Accuracy : 0.7441          \n",
       "                                          \n",
       "       'Positive' Class : 0               \n",
       "                                          "
      ]
     },
     "metadata": {},
     "output_type": "display_data"
    }
   ],
   "source": [
    "# Train/Evaluate Logistic Regression \n",
    "model = glm(formula = label ~ ., data = train_set,\n",
    "            family = binomial)\n",
    "prob_pred = predict(model, type = 'response', newdata = test_set[-label_col])\n",
    "predictions = ifelse(prob_pred > 0.5, 1, 0)\n",
    "confusionMatrix(predictions, test_set$label)"
   ]
  },
  {
   "cell_type": "markdown",
   "metadata": {},
   "source": [
    "## 1. Principal Component Analysis (PCA)"
   ]
  },
  {
   "cell_type": "code",
   "execution_count": 38,
   "metadata": {
    "collapsed": true
   },
   "outputs": [],
   "source": [
    "# Apply PCA\n",
    "library(e1071)\n",
    "pca = preProcess(x = train_set[-label_col], method = 'pca', pcaComp = 2)\n",
    "train_pca = predict(pca, train_set)\n",
    "train_pca = train_pca[c(2, 3, 1)]\n",
    "test_pca = predict(pca, test_set)\n",
    "test_pca = test_pca[c(2, 3, 1)]"
   ]
  },
  {
   "cell_type": "code",
   "execution_count": 39,
   "metadata": {},
   "outputs": [
    {
     "data": {
      "text/plain": [
       "Confusion Matrix and Statistics\n",
       "\n",
       "          Reference\n",
       "Prediction  0  1\n",
       "         0 46 12\n",
       "         1  5 17\n",
       "                                          \n",
       "               Accuracy : 0.7875          \n",
       "                 95% CI : (0.6817, 0.8711)\n",
       "    No Information Rate : 0.6375          \n",
       "    P-Value [Acc > NIR] : 0.002823        \n",
       "                                          \n",
       "                  Kappa : 0.515           \n",
       " Mcnemar's Test P-Value : 0.145610        \n",
       "                                          \n",
       "            Sensitivity : 0.9020          \n",
       "            Specificity : 0.5862          \n",
       "         Pos Pred Value : 0.7931          \n",
       "         Neg Pred Value : 0.7727          \n",
       "             Prevalence : 0.6375          \n",
       "         Detection Rate : 0.5750          \n",
       "   Detection Prevalence : 0.7250          \n",
       "      Balanced Accuracy : 0.7441          \n",
       "                                          \n",
       "       'Positive' Class : 0               \n",
       "                                          "
      ]
     },
     "metadata": {},
     "output_type": "display_data"
    }
   ],
   "source": [
    "# Train/Evaluate Logistic Regression \n",
    "model = glm(formula = label ~ ., data = train_pca,\n",
    "            family = binomial)\n",
    "prob_pred = predict(model, type = 'response', newdata = test_pca[-3])\n",
    "predictions = ifelse(prob_pred > 0.5, 1, 0)\n",
    "confusionMatrix(predictions, test_pca$label)"
   ]
  },
  {
   "cell_type": "code",
   "execution_count": 42,
   "metadata": {},
   "outputs": [
    {
     "data": {
      "image/png": "[encoded data removed]",
      "text/plain": [
       "Plot with title \"Logistic Regression (Test set)\""
      ]
     },
     "metadata": {},
     "output_type": "display_data"
    }
   ],
   "source": [
    "# Visualize the results\n",
    "library(ElemStatLearn)\n",
    "set = test_pca\n",
    "X1 = seq(min(set[, 1]) - 1, max(set[, 1]) + 1, by = 0.01)\n",
    "X2 = seq(min(set[, 2]) - 1, max(set[, 2]) + 1, by = 0.01)\n",
    "grid_set = expand.grid(X1, X2)\n",
    "colnames(grid_set) = c('PC1', 'PC2')\n",
    "prob_set = predict(model, type = 'response', newdata = grid_set)\n",
    "y_grid = ifelse(prob_set > 0.5, 1, 0)\n",
    "plot(set[, -3], \n",
    "     main = 'Logistic Regression (Test set)',\n",
    "     xlab = 'PC1', ylab = 'PC2',\n",
    "     xlim = range(X1), ylim = range(X2))\n",
    "contour(X1, X2, matrix(as.numeric(y_grid), length(X1), length(X2)), add = TRUE)\n",
    "points(grid_set, pch = '.', col = ifelse(y_grid == 2, 'deepskyblue', ifelse(y_grid == 1, 'springgreen3', 'tomato')))\n",
    "points(set, pch = 21, bg = ifelse(set[, 3] == 2, 'blue3', ifelse(set[, 3] == 1, 'green4', 'red3')))"
   ]
  },
  {
   "cell_type": "markdown",
   "metadata": {},
   "source": [
    "## 2. Kernel PCA"
   ]
  },
  {
   "cell_type": "code",
   "execution_count": 45,
   "metadata": {
    "collapsed": true
   },
   "outputs": [],
   "source": [
    "## Apply Kernel PCA\n",
    "library(kernlab)\n",
    "kpca = kpca(~., data = train_set[-label_col], kernel = 'rbfdot', features = 2)\n",
    "train_kpca = as.data.frame(predict(kpca, train_set))\n",
    "train_kpca$label = train_set$label\n",
    "test_kpca = as.data.frame(predict(kpca, test_set))\n",
    "test_kpca$label = test_set$label"
   ]
  },
  {
   "cell_type": "code",
   "execution_count": 48,
   "metadata": {},
   "outputs": [
    {
     "data": {
      "text/plain": [
       "Confusion Matrix and Statistics\n",
       "\n",
       "          Reference\n",
       "Prediction  0  1\n",
       "         0 46 11\n",
       "         1  5 18\n",
       "                                          \n",
       "               Accuracy : 0.8             \n",
       "                 95% CI : (0.6956, 0.8811)\n",
       "    No Information Rate : 0.6375          \n",
       "    P-Value [Acc > NIR] : 0.00125         \n",
       "                                          \n",
       "                  Kappa : 0.5471          \n",
       " Mcnemar's Test P-Value : 0.21130         \n",
       "                                          \n",
       "            Sensitivity : 0.9020          \n",
       "            Specificity : 0.6207          \n",
       "         Pos Pred Value : 0.8070          \n",
       "         Neg Pred Value : 0.7826          \n",
       "             Prevalence : 0.6375          \n",
       "         Detection Rate : 0.5750          \n",
       "   Detection Prevalence : 0.7125          \n",
       "      Balanced Accuracy : 0.7613          \n",
       "                                          \n",
       "       'Positive' Class : 0               \n",
       "                                          "
      ]
     },
     "metadata": {},
     "output_type": "display_data"
    }
   ],
   "source": [
    "# Train/Evaluate Logistic Regression \n",
    "model = glm(formula = label ~ ., data = train_kpca, \n",
    "            family = binomial)\n",
    "prob_pred = predict(model, type = 'response', newdata = test_kpca[-3])\n",
    "predictions = ifelse(prob_pred > 0.5, 1, 0)\n",
    "confusionMatrix(predictions, test_kpca$label)"
   ]
  },
  {
   "cell_type": "code",
   "execution_count": 49,
   "metadata": {},
   "outputs": [
    {
     "data": {
      "image/png": "[encoded data removed]",
      "text/plain": [
       "Plot with title \"Logistic Regression (Test set)\""
      ]
     },
     "metadata": {},
     "output_type": "display_data"
    }
   ],
   "source": [
    "# Visualize the results\n",
    "library(ElemStatLearn)\n",
    "set = test_kpca\n",
    "X1 = seq(min(set[, 1]) - 1, max(set[, 1]) + 1, by = 0.01)\n",
    "X2 = seq(min(set[, 2]) - 1, max(set[, 2]) + 1, by = 0.01)\n",
    "grid_set = expand.grid(X1, X2)\n",
    "colnames(grid_set) = c('V1', 'V2')\n",
    "prob_set = predict(model, type = 'response', newdata = grid_set)\n",
    "y_grid = ifelse(prob_set > 0.5, 1, 0)\n",
    "plot(set[, -3], main = 'Logistic Regression (Test set)',\n",
    "     xlab = 'PC1', ylab = 'PC2',\n",
    "     xlim = range(X1), ylim = range(X2))\n",
    "contour(X1, X2, matrix(as.numeric(y_grid), length(X1), length(X2)), add = TRUE)\n",
    "points(grid_set, pch = '.', col = ifelse(y_grid == 2, 'deepskyblue', ifelse(y_grid == 1, 'springgreen3', 'tomato')))\n",
    "points(set, pch = 21, bg = ifelse(set[, 3] == 2, 'blue3', ifelse(set[, 3] == 1, 'green4', 'red3')))"
   ]
  }
 ],
 "metadata": {
  "kernelspec": {
   "display_name": "R",
   "language": "R",
   "name": "ir"
  },
  "language_info": {
   "codemirror_mode": "r",
   "file_extension": ".r",
   "mimetype": "text/x-r-source",
   "name": "R",
   "pygments_lexer": "r",
   "version": "3.4.3"
  }
 },
 "nbformat": 4,
 "nbformat_minor": 2
}
