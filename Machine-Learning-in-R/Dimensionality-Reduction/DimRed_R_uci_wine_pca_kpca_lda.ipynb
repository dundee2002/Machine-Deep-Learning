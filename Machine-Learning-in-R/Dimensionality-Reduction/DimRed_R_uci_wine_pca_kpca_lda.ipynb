{
 "cells": [
  {
   "cell_type": "markdown",
   "metadata": {},
   "source": [
    "## Dimensionality Reduction: Wine Dataset\n",
    "https://archive.ics.uci.edu/ml/datasets/wine\n",
    "\n",
    "** Dataset Information: **\n",
    "\n",
    "These data are the results of a chemical analysis of wines grown in the same region in Italy but derived from three different cultivars. The analysis determined the quantities of 13 constituents found in each of the three types of wines\n",
    "\n",
    "** Attribute Information: **\n",
    "\n",
    "Class: class 1 (59), class 2 (71), class 3 (48)\n",
    "\n",
    "1. Alcohol (class)\n",
    "2. Malic acid \n",
    "3. Ash \n",
    "4. Alcalinity of ash \n",
    "5. Magnesium \n",
    "6. Total phenols \n",
    "7. Flavanoids \n",
    "8. Nonflavanoid phenols \n",
    "9. Proanthocyanins \n",
    "10. Color intensity \n",
    "11. Hue \n",
    "12. OD280/OD315 of diluted wines \n",
    "13. Proline \n",
    "\n",
    "** Objective of this project **\n",
    "\n",
    "Using chemical analysis (compressed features with PCA,LDA & Kernel PCA) determine the origin of wines (class, 1-3)"
   ]
  },
  {
   "cell_type": "markdown",
   "metadata": {},
   "source": [
    "## Data"
   ]
  },
  {
   "cell_type": "code",
   "execution_count": 14,
   "metadata": {
    "collapsed": true
   },
   "outputs": [],
   "source": [
    "#options(warn=-1)\n",
    "# Load Data\n",
    "df  <- read.csv('Wine_data.csv')"
   ]
  },
  {
   "cell_type": "code",
   "execution_count": 15,
   "metadata": {},
   "outputs": [
    {
     "data": {
      "text/html": [
       "<table>\n",
       "<thead><tr><th scope=col>Class</th><th scope=col>Alcohol</th><th scope=col>Malic_Acid</th><th scope=col>Ash</th><th scope=col>Ash_Alcanity</th><th scope=col>Magnesium</th><th scope=col>Total_Phenols</th><th scope=col>Flavanoids</th><th scope=col>Nonflavanoid_Phenols</th><th scope=col>Proanthocyanins</th><th scope=col>Color_Intensity</th><th scope=col>Hue</th><th scope=col>OD280</th><th scope=col>Proline</th></tr></thead>\n",
       "<tbody>\n",
       "\t<tr><td>1    </td><td>14.23</td><td>1.71 </td><td>2.43 </td><td>15.6 </td><td>127  </td><td>2.80 </td><td>3.06 </td><td>0.28 </td><td>2.29 </td><td>5.64 </td><td>1.04 </td><td>3.92 </td><td>1065 </td></tr>\n",
       "\t<tr><td>1    </td><td>13.20</td><td>1.78 </td><td>2.14 </td><td>11.2 </td><td>100  </td><td>2.65 </td><td>2.76 </td><td>0.26 </td><td>1.28 </td><td>4.38 </td><td>1.05 </td><td>3.40 </td><td>1050 </td></tr>\n",
       "\t<tr><td>1    </td><td>13.16</td><td>2.36 </td><td>2.67 </td><td>18.6 </td><td>101  </td><td>2.80 </td><td>3.24 </td><td>0.30 </td><td>2.81 </td><td>5.68 </td><td>1.03 </td><td>3.17 </td><td>1185 </td></tr>\n",
       "</tbody>\n",
       "</table>\n"
      ],
      "text/latex": [
       "\\begin{tabular}{r|llllllllllllll}\n",
       " Class & Alcohol & Malic\\_Acid & Ash & Ash\\_Alcanity & Magnesium & Total\\_Phenols & Flavanoids & Nonflavanoid\\_Phenols & Proanthocyanins & Color\\_Intensity & Hue & OD280 & Proline\\\\\n",
       "\\hline\n",
       "\t 1     & 14.23 & 1.71  & 2.43  & 15.6  & 127   & 2.80  & 3.06  & 0.28  & 2.29  & 5.64  & 1.04  & 3.92  & 1065 \\\\\n",
       "\t 1     & 13.20 & 1.78  & 2.14  & 11.2  & 100   & 2.65  & 2.76  & 0.26  & 1.28  & 4.38  & 1.05  & 3.40  & 1050 \\\\\n",
       "\t 1     & 13.16 & 2.36  & 2.67  & 18.6  & 101   & 2.80  & 3.24  & 0.30  & 2.81  & 5.68  & 1.03  & 3.17  & 1185 \\\\\n",
       "\\end{tabular}\n"
      ],
      "text/markdown": [
       "\n",
       "Class | Alcohol | Malic_Acid | Ash | Ash_Alcanity | Magnesium | Total_Phenols | Flavanoids | Nonflavanoid_Phenols | Proanthocyanins | Color_Intensity | Hue | OD280 | Proline | \n",
       "|---|---|---|\n",
       "| 1     | 14.23 | 1.71  | 2.43  | 15.6  | 127   | 2.80  | 3.06  | 0.28  | 2.29  | 5.64  | 1.04  | 3.92  | 1065  | \n",
       "| 1     | 13.20 | 1.78  | 2.14  | 11.2  | 100   | 2.65  | 2.76  | 0.26  | 1.28  | 4.38  | 1.05  | 3.40  | 1050  | \n",
       "| 1     | 13.16 | 2.36  | 2.67  | 18.6  | 101   | 2.80  | 3.24  | 0.30  | 2.81  | 5.68  | 1.03  | 3.17  | 1185  | \n",
       "\n",
       "\n"
      ],
      "text/plain": [
       "  Class Alcohol Malic_Acid Ash  Ash_Alcanity Magnesium Total_Phenols Flavanoids\n",
       "1 1     14.23   1.71       2.43 15.6         127       2.80          3.06      \n",
       "2 1     13.20   1.78       2.14 11.2         100       2.65          2.76      \n",
       "3 1     13.16   2.36       2.67 18.6         101       2.80          3.24      \n",
       "  Nonflavanoid_Phenols Proanthocyanins Color_Intensity Hue  OD280 Proline\n",
       "1 0.28                 2.29            5.64            1.04 3.92  1065   \n",
       "2 0.26                 1.28            4.38            1.05 3.40  1050   \n",
       "3 0.30                 2.81            5.68            1.03 3.17  1185   "
      ]
     },
     "metadata": {},
     "output_type": "display_data"
    }
   ],
   "source": [
    "# Inspect Data\n",
    "head(df,3)\n",
    "colnames(df)[1] <- 'label' #class -> label"
   ]
  },
  {
   "cell_type": "code",
   "execution_count": 16,
   "metadata": {},
   "outputs": [
    {
     "data": {
      "text/html": [
       "<ol class=list-inline>\n",
       "\t<li>178</li>\n",
       "\t<li>14</li>\n",
       "</ol>\n"
      ],
      "text/latex": [
       "\\begin{enumerate*}\n",
       "\\item 178\n",
       "\\item 14\n",
       "\\end{enumerate*}\n"
      ],
      "text/markdown": [
       "1. 178\n",
       "2. 14\n",
       "\n",
       "\n"
      ],
      "text/plain": [
       "[1] 178  14"
      ]
     },
     "metadata": {},
     "output_type": "display_data"
    }
   ],
   "source": [
    "dim(df)"
   ]
  },
  {
   "cell_type": "code",
   "execution_count": 17,
   "metadata": {},
   "outputs": [
    {
     "data": {
      "image/png": "[encoded data removed]",
      "text/plain": [
       "Plot with title \"Proline\""
      ]
     },
     "metadata": {},
     "output_type": "display_data"
    }
   ],
   "source": [
    "par(mfrow=c(4,4))\n",
    "for(i in 1:14) {\n",
    "    hist(df[,i], main=names(df)[i], col='lightblue')\n",
    "}"
   ]
  },
  {
   "cell_type": "code",
   "execution_count": 18,
   "metadata": {},
   "outputs": [
    {
     "name": "stderr",
     "output_type": "stream",
     "text": [
      "corrplot 0.84 loaded\n"
     ]
    },
    {
     "data": {
      "image/png": "[encoded data removed]",
      "text/plain": [
       "Plot with title \"\""
      ]
     },
     "metadata": {},
     "output_type": "display_data"
    }
   ],
   "source": [
    "library(corrplot)\n",
    "corrplot(cor(df), method=\"circle\")"
   ]
  },
  {
   "cell_type": "code",
   "execution_count": 19,
   "metadata": {},
   "outputs": [
    {
     "name": "stdout",
     "output_type": "stream",
     "text": [
      "'data.frame':\t178 obs. of  14 variables:\n",
      " $ label               : int  1 1 1 1 1 1 1 1 1 1 ...\n",
      " $ Alcohol             : num  14.2 13.2 13.2 14.4 13.2 ...\n",
      " $ Malic_Acid          : num  1.71 1.78 2.36 1.95 2.59 1.76 1.87 2.15 1.64 1.35 ...\n",
      " $ Ash                 : num  2.43 2.14 2.67 2.5 2.87 2.45 2.45 2.61 2.17 2.27 ...\n",
      " $ Ash_Alcanity        : num  15.6 11.2 18.6 16.8 21 15.2 14.6 17.6 14 16 ...\n",
      " $ Magnesium           : int  127 100 101 113 118 112 96 121 97 98 ...\n",
      " $ Total_Phenols       : num  2.8 2.65 2.8 3.85 2.8 3.27 2.5 2.6 2.8 2.98 ...\n",
      " $ Flavanoids          : num  3.06 2.76 3.24 3.49 2.69 3.39 2.52 2.51 2.98 3.15 ...\n",
      " $ Nonflavanoid_Phenols: num  0.28 0.26 0.3 0.24 0.39 0.34 0.3 0.31 0.29 0.22 ...\n",
      " $ Proanthocyanins     : num  2.29 1.28 2.81 2.18 1.82 1.97 1.98 1.25 1.98 1.85 ...\n",
      " $ Color_Intensity     : num  5.64 4.38 5.68 7.8 4.32 6.75 5.25 5.05 5.2 7.22 ...\n",
      " $ Hue                 : num  1.04 1.05 1.03 0.86 1.04 1.05 1.02 1.06 1.08 1.01 ...\n",
      " $ OD280               : num  3.92 3.4 3.17 3.45 2.93 2.85 3.58 3.58 2.85 3.55 ...\n",
      " $ Proline             : int  1065 1050 1185 1480 735 1450 1290 1295 1045 1045 ...\n"
     ]
    }
   ],
   "source": [
    "str(df)"
   ]
  },
  {
   "cell_type": "code",
   "execution_count": 20,
   "metadata": {},
   "outputs": [
    {
     "data": {
      "text/plain": [
       "\n",
       " 1  2  3 \n",
       "59 71 48 "
      ]
     },
     "metadata": {},
     "output_type": "display_data"
    }
   ],
   "source": [
    "table(df$label) #imbalanced labels"
   ]
  },
  {
   "cell_type": "code",
   "execution_count": 21,
   "metadata": {},
   "outputs": [
    {
     "data": {
      "text/html": [
       "FALSE"
      ],
      "text/latex": [
       "FALSE"
      ],
      "text/markdown": [
       "FALSE"
      ],
      "text/plain": [
       "[1] FALSE"
      ]
     },
     "metadata": {},
     "output_type": "display_data"
    }
   ],
   "source": [
    "any(is.na(df))"
   ]
  },
  {
   "cell_type": "markdown",
   "metadata": {},
   "source": [
    "## Data preprocessing"
   ]
  },
  {
   "cell_type": "code",
   "execution_count": 22,
   "metadata": {
    "collapsed": true
   },
   "outputs": [],
   "source": [
    "library(caTools)\n",
    "library(caret)\n",
    "seed = 101 #random seed for reproducibility\n",
    "set.seed(seed) "
   ]
  },
  {
   "cell_type": "markdown",
   "metadata": {},
   "source": [
    "** Encode Label **"
   ]
  },
  {
   "cell_type": "code",
   "execution_count": 23,
   "metadata": {},
   "outputs": [
    {
     "data": {
      "text/plain": [
       "\n",
       " 1  2  3 \n",
       "59 71 48 "
      ]
     },
     "metadata": {},
     "output_type": "display_data"
    },
    {
     "name": "stdout",
     "output_type": "stream",
     "text": [
      "'data.frame':\t178 obs. of  14 variables:\n",
      " $ label               : Factor w/ 3 levels \"1\",\"2\",\"3\": 1 1 1 1 1 1 1 1 1 1 ...\n",
      " $ Alcohol             : num  14.2 13.2 13.2 14.4 13.2 ...\n",
      " $ Malic_Acid          : num  1.71 1.78 2.36 1.95 2.59 1.76 1.87 2.15 1.64 1.35 ...\n",
      " $ Ash                 : num  2.43 2.14 2.67 2.5 2.87 2.45 2.45 2.61 2.17 2.27 ...\n",
      " $ Ash_Alcanity        : num  15.6 11.2 18.6 16.8 21 15.2 14.6 17.6 14 16 ...\n",
      " $ Magnesium           : int  127 100 101 113 118 112 96 121 97 98 ...\n",
      " $ Total_Phenols       : num  2.8 2.65 2.8 3.85 2.8 3.27 2.5 2.6 2.8 2.98 ...\n",
      " $ Flavanoids          : num  3.06 2.76 3.24 3.49 2.69 3.39 2.52 2.51 2.98 3.15 ...\n",
      " $ Nonflavanoid_Phenols: num  0.28 0.26 0.3 0.24 0.39 0.34 0.3 0.31 0.29 0.22 ...\n",
      " $ Proanthocyanins     : num  2.29 1.28 2.81 2.18 1.82 1.97 1.98 1.25 1.98 1.85 ...\n",
      " $ Color_Intensity     : num  5.64 4.38 5.68 7.8 4.32 6.75 5.25 5.05 5.2 7.22 ...\n",
      " $ Hue                 : num  1.04 1.05 1.03 0.86 1.04 1.05 1.02 1.06 1.08 1.01 ...\n",
      " $ OD280               : num  3.92 3.4 3.17 3.45 2.93 2.85 3.58 3.58 2.85 3.55 ...\n",
      " $ Proline             : int  1065 1050 1185 1480 735 1450 1290 1295 1045 1045 ...\n"
     ]
    }
   ],
   "source": [
    "df$label = factor(df$label, labels=c(1,2,3))\n",
    "table(df$label)\n",
    "str(df)"
   ]
  },
  {
   "cell_type": "markdown",
   "metadata": {},
   "source": [
    "** Split Train Test Sets **"
   ]
  },
  {
   "cell_type": "code",
   "execution_count": 24,
   "metadata": {
    "collapsed": true
   },
   "outputs": [],
   "source": [
    "split = sample.split(df$label, SplitRatio = 0.80)\n",
    "train_set = subset(df, split == TRUE)\n",
    "test_set = subset(df, split == FALSE)"
   ]
  },
  {
   "cell_type": "markdown",
   "metadata": {},
   "source": [
    "** Scale features **"
   ]
  },
  {
   "cell_type": "code",
   "execution_count": 25,
   "metadata": {},
   "outputs": [
    {
     "data": {
      "text/plain": [
       " label     Alcohol          Malic_Acid           Ash          \n",
       " 1:47   Min.   :-1.9510   Min.   :-1.3060   Min.   :-3.61040  \n",
       " 2:57   1st Qu.:-0.8246   1st Qu.:-0.6484   1st Qu.:-0.56458  \n",
       " 3:38   Median : 0.0571   Median :-0.4155   Median :-0.02068  \n",
       "        Mean   : 0.0000   Mean   : 0.0000   Mean   : 0.00000  \n",
       "        3rd Qu.: 0.8572   3rd Qu.: 0.6053   3rd Qu.: 0.72264  \n",
       "        Max.   : 2.2911   Max.   : 3.1787   Max.   : 3.17018  \n",
       "  Ash_Alcanity       Magnesium       Total_Phenols        Flavanoids     \n",
       " Min.   :-2.5580   Min.   :-2.1076   Min.   :-2.05932   Min.   :-1.7139  \n",
       " 1st Qu.:-0.7313   1st Qu.:-0.7674   1st Qu.:-0.88673   1st Qu.:-0.8236  \n",
       " Median :-0.1029   Median :-0.1326   Median :-0.09976   Median : 0.0869  \n",
       " Mean   : 0.0000   Mean   : 0.0000   Mean   : 0.00000   Mean   : 0.0000  \n",
       " 3rd Qu.: 0.6278   3rd Qu.: 0.5727   3rd Qu.: 0.80526   3rd Qu.: 0.8118  \n",
       " Max.   : 3.1121   Max.   : 4.3816   Max.   : 2.50513   Max.   : 3.0415  \n",
       " Nonflavanoid_Phenols Proanthocyanins    Color_Intensity        Hue          \n",
       " Min.   :-1.8714      Min.   :-2.05300   Min.   :-1.6442   Min.   :-2.09978  \n",
       " 1st Qu.:-0.7160      1st Qu.:-0.57612   1st Qu.:-0.7897   1st Qu.:-0.82510  \n",
       " Median :-0.2208      Median :-0.06624   Median :-0.1390   Median : 0.04706  \n",
       " Mean   : 0.0000      Mean   : 0.00000   Mean   : 0.0000   Mean   : 0.00000  \n",
       " 3rd Qu.: 0.6044      3rd Qu.: 0.55352   3rd Qu.: 0.5149   3rd Qu.: 0.75149  \n",
       " Max.   : 2.5025      Max.   : 3.52046   Max.   : 3.4395   Max.   : 2.23862  \n",
       "     OD280            Proline       \n",
       " Min.   :-1.8684   Min.   :-1.4862  \n",
       " 1st Qu.:-0.9471   1st Qu.:-0.7668  \n",
       " Median : 0.2396   Median :-0.2830  \n",
       " Mean   : 0.0000   Mean   : 0.0000  \n",
       " 3rd Qu.: 0.7840   3rd Qu.: 0.8109  \n",
       " Max.   : 1.9428   Max.   : 2.8616  "
      ]
     },
     "metadata": {},
     "output_type": "display_data"
    }
   ],
   "source": [
    "# standardize data\n",
    "label_col  = 1\n",
    "train_set[-label_col] = scale(train_set[-label_col])\n",
    "test_set[-label_col] = scale(test_set[-label_col])\n",
    "summary(train_set)"
   ]
  },
  {
   "cell_type": "markdown",
   "metadata": {},
   "source": [
    "## Baseline Model"
   ]
  },
  {
   "cell_type": "code",
   "execution_count": 31,
   "metadata": {},
   "outputs": [
    {
     "data": {
      "text/plain": [
       "Confusion Matrix and Statistics\n",
       "\n",
       "          Reference\n",
       "Prediction  1  2  3\n",
       "         1 12  1  0\n",
       "         2  0 12  0\n",
       "         3  0  1 10\n",
       "\n",
       "Overall Statistics\n",
       "                                          \n",
       "               Accuracy : 0.9444          \n",
       "                 95% CI : (0.8134, 0.9932)\n",
       "    No Information Rate : 0.3889          \n",
       "    P-Value [Acc > NIR] : 2.763e-12       \n",
       "                                          \n",
       "                  Kappa : 0.9165          \n",
       " Mcnemar's Test P-Value : NA              \n",
       "\n",
       "Statistics by Class:\n",
       "\n",
       "                     Class: 1 Class: 2 Class: 3\n",
       "Sensitivity            1.0000   0.8571   1.0000\n",
       "Specificity            0.9583   1.0000   0.9615\n",
       "Pos Pred Value         0.9231   1.0000   0.9091\n",
       "Neg Pred Value         1.0000   0.9167   1.0000\n",
       "Prevalence             0.3333   0.3889   0.2778\n",
       "Detection Rate         0.3333   0.3333   0.2778\n",
       "Detection Prevalence   0.3611   0.3333   0.3056\n",
       "Balanced Accuracy      0.9792   0.9286   0.9808"
      ]
     },
     "metadata": {},
     "output_type": "display_data"
    }
   ],
   "source": [
    "# Train/Evaluate SVM\n",
    "library(e1071)\n",
    "model = svm(formula = label ~ ., data = train_set,\n",
    "            type = 'C-classification',kernel = 'linear')                     \n",
    "predictions = predict(model, newdata = test_set[-label_col])\n",
    "confusionMatrix(predictions, test_set$label)"
   ]
  },
  {
   "cell_type": "markdown",
   "metadata": {},
   "source": [
    "## 1. Principal Component Analysis (PCA)"
   ]
  },
  {
   "cell_type": "code",
   "execution_count": 39,
   "metadata": {
    "collapsed": true
   },
   "outputs": [],
   "source": [
    "# Apply PCA\n",
    "library(e1071)\n",
    "pca = preProcess(x = train_set[-label_col], method = 'pca', pcaComp = 2)\n",
    "train_pca = predict(pca, train_set)\n",
    "train_pca = train_pca[c(2, 3, 1)]\n",
    "test_pca = predict(pca, test_set)\n",
    "test_pca = test_pca[c(2, 3, 1)]"
   ]
  },
  {
   "cell_type": "code",
   "execution_count": 44,
   "metadata": {},
   "outputs": [
    {
     "data": {
      "text/plain": [
       "Confusion Matrix and Statistics\n",
       "\n",
       "          Reference\n",
       "Prediction  1  2  3\n",
       "         1 12  0  0\n",
       "         2  0 13  0\n",
       "         3  0  1 10\n",
       "\n",
       "Overall Statistics\n",
       "                                          \n",
       "               Accuracy : 0.9722          \n",
       "                 95% CI : (0.8547, 0.9993)\n",
       "    No Information Rate : 0.3889          \n",
       "    P-Value [Acc > NIR] : 9.861e-14       \n",
       "                                          \n",
       "                  Kappa : 0.9581          \n",
       " Mcnemar's Test P-Value : NA              \n",
       "\n",
       "Statistics by Class:\n",
       "\n",
       "                     Class: 1 Class: 2 Class: 3\n",
       "Sensitivity            1.0000   0.9286   1.0000\n",
       "Specificity            1.0000   1.0000   0.9615\n",
       "Pos Pred Value         1.0000   1.0000   0.9091\n",
       "Neg Pred Value         1.0000   0.9565   1.0000\n",
       "Prevalence             0.3333   0.3889   0.2778\n",
       "Detection Rate         0.3333   0.3611   0.2778\n",
       "Detection Prevalence   0.3333   0.3611   0.3056\n",
       "Balanced Accuracy      1.0000   0.9643   0.9808"
      ]
     },
     "metadata": {},
     "output_type": "display_data"
    }
   ],
   "source": [
    "# Train/Evaluate SVM\n",
    "model = svm(formula = label ~ ., data = train_pca,\n",
    "            type = 'C-classification',kernel = 'linear')                     \n",
    "predictions = predict(model, newdata = test_pca[-3])\n",
    "confusionMatrix(predictions, test_pca$label)"
   ]
  },
  {
   "cell_type": "code",
   "execution_count": 46,
   "metadata": {},
   "outputs": [
    {
     "data": {
      "image/png": "[encoded data removed]",
      "text/plain": [
       "Plot with title \"SVM (Test set)\""
      ]
     },
     "metadata": {},
     "output_type": "display_data"
    }
   ],
   "source": [
    "# Visualize the results\n",
    "library(ElemStatLearn)\n",
    "set = test_pca\n",
    "X1 = seq(min(set[, 1]) - 1, max(set[, 1]) + 1, by = 0.01)\n",
    "X2 = seq(min(set[, 2]) - 1, max(set[, 2]) + 1, by = 0.01)\n",
    "grid_set = expand.grid(X1, X2)\n",
    "colnames(grid_set) = c('PC1', 'PC2')\n",
    "y_grid = predict(model, newdata = grid_set)\n",
    "plot(set[, -3], main = 'SVM (Test set)',\n",
    "     xlab = 'PC1', ylab = 'PC2',\n",
    "     xlim = range(X1), ylim = range(X2))\n",
    "contour(X1, X2, matrix(as.numeric(y_grid), length(X1), length(X2)), add = TRUE)\n",
    "points(grid_set, pch = '.', col = ifelse(y_grid == 2, 'deepskyblue', ifelse(y_grid == 1, 'springgreen3', 'tomato')))\n",
    "points(set, pch = 21, bg = ifelse(set[, 3] == 2, 'blue3', ifelse(set[, 3] == 1, 'green4', 'red3')))"
   ]
  },
  {
   "cell_type": "markdown",
   "metadata": {},
   "source": [
    "## 2. Linear Discriminant Analysis (LDA)"
   ]
  },
  {
   "cell_type": "code",
   "execution_count": 47,
   "metadata": {
    "collapsed": true
   },
   "outputs": [],
   "source": [
    "# Apply LDA\n",
    "library(MASS)\n",
    "lda = lda(formula = label ~ ., data = train_set)\n",
    "train_lda = as.data.frame(predict(lda, train_set))\n",
    "train_lda = train_lda[c(5,6,1)]\n",
    "test_lda = as.data.frame(predict(lda, test_set))\n",
    "test_lda = test_lda[c(5,6,1)]"
   ]
  },
  {
   "cell_type": "code",
   "execution_count": 55,
   "metadata": {},
   "outputs": [
    {
     "data": {
      "text/plain": [
       "Confusion Matrix and Statistics\n",
       "\n",
       "          Reference\n",
       "Prediction  1  2  3\n",
       "         1 12  1  0\n",
       "         2  0 13  0\n",
       "         3  0  0 10\n",
       "\n",
       "Overall Statistics\n",
       "                                          \n",
       "               Accuracy : 0.9722          \n",
       "                 95% CI : (0.8547, 0.9993)\n",
       "    No Information Rate : 0.3889          \n",
       "    P-Value [Acc > NIR] : 9.861e-14       \n",
       "                                          \n",
       "                  Kappa : 0.958           \n",
       " Mcnemar's Test P-Value : NA              \n",
       "\n",
       "Statistics by Class:\n",
       "\n",
       "                     Class: 1 Class: 2 Class: 3\n",
       "Sensitivity            1.0000   0.9286   1.0000\n",
       "Specificity            0.9583   1.0000   1.0000\n",
       "Pos Pred Value         0.9231   1.0000   1.0000\n",
       "Neg Pred Value         1.0000   0.9565   1.0000\n",
       "Prevalence             0.3333   0.3889   0.2778\n",
       "Detection Rate         0.3333   0.3611   0.2778\n",
       "Detection Prevalence   0.3611   0.3611   0.2778\n",
       "Balanced Accuracy      0.9792   0.9643   1.0000"
      ]
     },
     "metadata": {},
     "output_type": "display_data"
    }
   ],
   "source": [
    "# Train/Evaluate SVM\n",
    "model = svm(formula = class ~ ., data = train_lda, #class!!!\n",
    "            type = 'C-classification',kernel = 'linear')                     \n",
    "predictions = predict(model, newdata = test_lda[-3])\n",
    "confusionMatrix(predictions, test_lda$class)"
   ]
  },
  {
   "cell_type": "code",
   "execution_count": 57,
   "metadata": {},
   "outputs": [
    {
     "data": {
      "image/png": "[encoded data removed]",
      "text/plain": [
       "Plot with title \"SVM (Test set)\""
      ]
     },
     "metadata": {},
     "output_type": "display_data"
    }
   ],
   "source": [
    "# Visualize the results\n",
    "library(ElemStatLearn)\n",
    "set = test_lda\n",
    "X1 = seq(min(set[, 1]) - 1, max(set[, 1]) + 1, by = 0.01)\n",
    "X2 = seq(min(set[, 2]) - 1, max(set[, 2]) + 1, by = 0.01)\n",
    "grid_set = expand.grid(X1, X2)\n",
    "colnames(grid_set) = c('x.LD1', 'x.LD2')\n",
    "y_grid = predict(classifier, newdata = grid_set)\n",
    "plot(set[, -3], main = 'SVM (Test set)',\n",
    "     xlab = 'LD1', ylab = 'LD2',\n",
    "     xlim = range(X1), ylim = range(X2))\n",
    "contour(X1, X2, matrix(as.numeric(y_grid), length(X1), length(X2)), add = TRUE)\n",
    "points(grid_set, pch = '.', col = ifelse(y_grid == 2, 'deepskyblue', ifelse(y_grid == 1, 'springgreen3', 'tomato')))\n",
    "points(set, pch = 21, bg = ifelse(set[, 3] == 2, 'blue3', ifelse(set[, 3] == 1, 'green4', 'red3')))"
   ]
  },
  {
   "cell_type": "markdown",
   "metadata": {},
   "source": [
    "## 3. Kernel PCA"
   ]
  },
  {
   "cell_type": "code",
   "execution_count": 64,
   "metadata": {
    "collapsed": true
   },
   "outputs": [],
   "source": [
    "## Apply Kernel PCA\n",
    "library(kernlab)\n",
    "kpca = kpca(~., data = train_set[-label_col], kernel = 'rbfdot', features = 2)\n",
    "train_kpca = as.data.frame(predict(kpca, train_set))\n",
    "train_kpca$label = train_set$label\n",
    "test_kpca = as.data.frame(predict(kpca, test_set))\n",
    "test_kpca$label = test_set$label"
   ]
  },
  {
   "cell_type": "code",
   "execution_count": 65,
   "metadata": {},
   "outputs": [
    {
     "data": {
      "text/plain": [
       "Confusion Matrix and Statistics\n",
       "\n",
       "          Reference\n",
       "Prediction  1  2  3\n",
       "         1 11  0  0\n",
       "         2  1 13  0\n",
       "         3  0  1 10\n",
       "\n",
       "Overall Statistics\n",
       "                                          \n",
       "               Accuracy : 0.9444          \n",
       "                 95% CI : (0.8134, 0.9932)\n",
       "    No Information Rate : 0.3889          \n",
       "    P-Value [Acc > NIR] : 2.763e-12       \n",
       "                                          \n",
       "                  Kappa : 0.9161          \n",
       " Mcnemar's Test P-Value : NA              \n",
       "\n",
       "Statistics by Class:\n",
       "\n",
       "                     Class: 1 Class: 2 Class: 3\n",
       "Sensitivity            0.9167   0.9286   1.0000\n",
       "Specificity            1.0000   0.9545   0.9615\n",
       "Pos Pred Value         1.0000   0.9286   0.9091\n",
       "Neg Pred Value         0.9600   0.9545   1.0000\n",
       "Prevalence             0.3333   0.3889   0.2778\n",
       "Detection Rate         0.3056   0.3611   0.2778\n",
       "Detection Prevalence   0.3056   0.3889   0.3056\n",
       "Balanced Accuracy      0.9583   0.9416   0.9808"
      ]
     },
     "metadata": {},
     "output_type": "display_data"
    }
   ],
   "source": [
    "# Train/Evaluate SVM\n",
    "model = svm(formula = label ~ ., data = train_kpca,\n",
    "            type = 'C-classification',kernel = 'linear')                     \n",
    "predictions = predict(model, newdata = test_kpca[-3])\n",
    "confusionMatrix(predictions, test_kpca$label)"
   ]
  },
  {
   "cell_type": "code",
   "execution_count": 67,
   "metadata": {},
   "outputs": [
    {
     "data": {
      "image/png": "[encoded data removed]",
      "text/plain": [
       "Plot with title \"SVM (Test set)\""
      ]
     },
     "metadata": {},
     "output_type": "display_data"
    }
   ],
   "source": [
    "# Visualize the results\n",
    "library(ElemStatLearn)\n",
    "set = test_kpca\n",
    "X1 = seq(min(set[, 1]) - 1, max(set[, 1]) + 1, by = 0.01)\n",
    "X2 = seq(min(set[, 2]) - 1, max(set[, 2]) + 1, by = 0.01)\n",
    "grid_set = expand.grid(X1, X2)\n",
    "colnames(grid_set) = c('V1', 'V2')\n",
    "y_grid = predict(model, newdata = grid_set)\n",
    "plot(set[, -3], main = 'SVM (Test set)',\n",
    "     xlab = 'PC1', ylab = 'PC2',\n",
    "     xlim = range(X1), ylim = range(X2))\n",
    "contour(X1, X2, matrix(as.numeric(y_grid), length(X1), length(X2)), add = TRUE)\n",
    "points(grid_set, pch = '.', col = ifelse(y_grid == 2, 'deepskyblue', ifelse(y_grid == 1, 'springgreen3', 'tomato')))\n",
    "points(set, pch = 21, bg = ifelse(set[, 3] == 2, 'blue3', ifelse(set[, 3] == 1, 'green4', 'red3')))"
   ]
  }
 ],
 "metadata": {
  "kernelspec": {
   "display_name": "R",
   "language": "R",
   "name": "ir"
  },
  "language_info": {
   "codemirror_mode": "r",
   "file_extension": ".r",
   "mimetype": "text/x-r-source",
   "name": "R",
   "pygments_lexer": "r",
   "version": "3.4.3"
  }
 },
 "nbformat": 4,
 "nbformat_minor": 2
}
