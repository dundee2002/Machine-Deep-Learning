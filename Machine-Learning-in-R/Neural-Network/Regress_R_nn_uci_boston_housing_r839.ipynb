{
 "cells": [
  {
   "cell_type": "markdown",
   "metadata": {},
   "source": [
    "## Regression: Boston Housing Data\n",
    "https://archive.ics.uci.edu/ml/machine-learning-databases/housing/\n",
    "\n",
    "** Dataset Information: **\n",
    "\n",
    "506 Boston housing information including value of houses\n",
    "\n",
    "** Attribute Information: (13 features and 1 class)**\n",
    "\n",
    "1. CRIM      per capita crime rate by town\n",
    "2. ZN        proportion of residential land zoned for lots over 25,000 sq.ft.\n",
    "                 \n",
    "3. INDUS     proportion of non-retail business acres per town\n",
    "4. CHAS      Charles River dummy variable (= 1 if tract bounds river; 0 otherwise)\n",
    "                 \n",
    "5. NOX       nitric oxides concentration (parts per 10 million)\n",
    "6. RM        average number of rooms per dwelling\n",
    "7. AGE       proportion of owner-occupied units built prior to 1940\n",
    "8. DIS       weighted distances to five Boston employment centres\n",
    "9. RAD       index of accessibility to radial highways\n",
    "10. TAX      full-value property-tax rate per $10,000\n",
    "11. PTRATIO  pupil-teacher ratio by town\n",
    "12. B        1000(Bk - 0.63)^2 where Bk is the proportion of blacks by town\n",
    "                 \n",
    "13. LSTAT    % lower status of the population\n",
    "14. MEDV     Median value of owner-occupied homes in $1000's\n",
    "\n",
    "** Objective of this project **\n",
    "\n",
    "predict value of house (MEDV) based on the other features"
   ]
  },
  {
   "cell_type": "markdown",
   "metadata": {},
   "source": [
    "## Data"
   ]
  },
  {
   "cell_type": "code",
   "execution_count": 1,
   "metadata": {
    "collapsed": true
   },
   "outputs": [],
   "source": [
    "options(warn=-1)\n",
    "# Load Data\n",
    "df  <- read.csv('housing.data',sep='',header=FALSE)\n",
    "colnames(df) = c('CRIM', 'ZN', 'INDUS', 'CHAS', 'NOX', 'RM', 'AGE', 'DIS',\n",
    "                  'RAD', 'TAX', 'PTRATIO', 'B', 'LSTAT', 'label')"
   ]
  },
  {
   "cell_type": "code",
   "execution_count": 2,
   "metadata": {
    "scrolled": true
   },
   "outputs": [
    {
     "data": {
      "text/html": [
       "<table>\n",
       "<thead><tr><th scope=col>CRIM</th><th scope=col>ZN</th><th scope=col>INDUS</th><th scope=col>CHAS</th><th scope=col>NOX</th><th scope=col>RM</th><th scope=col>AGE</th><th scope=col>DIS</th><th scope=col>RAD</th><th scope=col>TAX</th><th scope=col>PTRATIO</th><th scope=col>B</th><th scope=col>LSTAT</th><th scope=col>label</th></tr></thead>\n",
       "<tbody>\n",
       "\t<tr><td>0.00632</td><td>18     </td><td>2.31   </td><td>0      </td><td>0.538  </td><td>6.575  </td><td>65.2   </td><td>4.0900 </td><td>1      </td><td>296    </td><td>15.3   </td><td>396.90 </td><td>4.98   </td><td>24.0   </td></tr>\n",
       "\t<tr><td>0.02731</td><td> 0     </td><td>7.07   </td><td>0      </td><td>0.469  </td><td>6.421  </td><td>78.9   </td><td>4.9671 </td><td>2      </td><td>242    </td><td>17.8   </td><td>396.90 </td><td>9.14   </td><td>21.6   </td></tr>\n",
       "\t<tr><td>0.02729</td><td> 0     </td><td>7.07   </td><td>0      </td><td>0.469  </td><td>7.185  </td><td>61.1   </td><td>4.9671 </td><td>2      </td><td>242    </td><td>17.8   </td><td>392.83 </td><td>4.03   </td><td>34.7   </td></tr>\n",
       "</tbody>\n",
       "</table>\n"
      ],
      "text/latex": [
       "\\begin{tabular}{r|llllllllllllll}\n",
       " CRIM & ZN & INDUS & CHAS & NOX & RM & AGE & DIS & RAD & TAX & PTRATIO & B & LSTAT & label\\\\\n",
       "\\hline\n",
       "\t 0.00632 & 18      & 2.31    & 0       & 0.538   & 6.575   & 65.2    & 4.0900  & 1       & 296     & 15.3    & 396.90  & 4.98    & 24.0   \\\\\n",
       "\t 0.02731 &  0      & 7.07    & 0       & 0.469   & 6.421   & 78.9    & 4.9671  & 2       & 242     & 17.8    & 396.90  & 9.14    & 21.6   \\\\\n",
       "\t 0.02729 &  0      & 7.07    & 0       & 0.469   & 7.185   & 61.1    & 4.9671  & 2       & 242     & 17.8    & 392.83  & 4.03    & 34.7   \\\\\n",
       "\\end{tabular}\n"
      ],
      "text/markdown": [
       "\n",
       "CRIM | ZN | INDUS | CHAS | NOX | RM | AGE | DIS | RAD | TAX | PTRATIO | B | LSTAT | label | \n",
       "|---|---|---|\n",
       "| 0.00632 | 18      | 2.31    | 0       | 0.538   | 6.575   | 65.2    | 4.0900  | 1       | 296     | 15.3    | 396.90  | 4.98    | 24.0    | \n",
       "| 0.02731 |  0      | 7.07    | 0       | 0.469   | 6.421   | 78.9    | 4.9671  | 2       | 242     | 17.8    | 396.90  | 9.14    | 21.6    | \n",
       "| 0.02729 |  0      | 7.07    | 0       | 0.469   | 7.185   | 61.1    | 4.9671  | 2       | 242     | 17.8    | 392.83  | 4.03    | 34.7    | \n",
       "\n",
       "\n"
      ],
      "text/plain": [
       "  CRIM    ZN INDUS CHAS NOX   RM    AGE  DIS    RAD TAX PTRATIO B      LSTAT\n",
       "1 0.00632 18 2.31  0    0.538 6.575 65.2 4.0900 1   296 15.3    396.90 4.98 \n",
       "2 0.02731  0 7.07  0    0.469 6.421 78.9 4.9671 2   242 17.8    396.90 9.14 \n",
       "3 0.02729  0 7.07  0    0.469 7.185 61.1 4.9671 2   242 17.8    392.83 4.03 \n",
       "  label\n",
       "1 24.0 \n",
       "2 21.6 \n",
       "3 34.7 "
      ]
     },
     "metadata": {},
     "output_type": "display_data"
    }
   ],
   "source": [
    "# Inspect Data\n",
    "head(df,3)"
   ]
  },
  {
   "cell_type": "code",
   "execution_count": 3,
   "metadata": {},
   "outputs": [
    {
     "data": {
      "text/html": [
       "<ol class=list-inline>\n",
       "\t<li>506</li>\n",
       "\t<li>14</li>\n",
       "</ol>\n"
      ],
      "text/latex": [
       "\\begin{enumerate*}\n",
       "\\item 506\n",
       "\\item 14\n",
       "\\end{enumerate*}\n"
      ],
      "text/markdown": [
       "1. 506\n",
       "2. 14\n",
       "\n",
       "\n"
      ],
      "text/plain": [
       "[1] 506  14"
      ]
     },
     "metadata": {},
     "output_type": "display_data"
    }
   ],
   "source": [
    "dim(df)"
   ]
  },
  {
   "cell_type": "code",
   "execution_count": 4,
   "metadata": {
    "scrolled": true
   },
   "outputs": [
    {
     "data": {
      "image/png": "[encoded data removed]",
      "text/plain": [
       "Plot with title \"label\""
      ]
     },
     "metadata": {},
     "output_type": "display_data"
    }
   ],
   "source": [
    "par(mfrow=c(4,4))\n",
    "for(i in 1:14) {\n",
    "    hist(df[,i], main=names(df)[i], col = 'lightblue')\n",
    "}"
   ]
  },
  {
   "cell_type": "code",
   "execution_count": 5,
   "metadata": {},
   "outputs": [
    {
     "data": {
      "image/png": "[encoded data removed]",
      "text/plain": [
       "plot without title"
      ]
     },
     "metadata": {},
     "output_type": "display_data"
    }
   ],
   "source": [
    "pairs(df[c('LSTAT', 'INDUS', 'NOX', 'RM', 'label')], col = 'blue')"
   ]
  },
  {
   "cell_type": "code",
   "execution_count": 6,
   "metadata": {},
   "outputs": [
    {
     "name": "stderr",
     "output_type": "stream",
     "text": [
      "corrplot 0.84 loaded\n"
     ]
    },
    {
     "data": {
      "image/png": "[encoded data removed]",
      "text/plain": [
       "Plot with title \"\""
      ]
     },
     "metadata": {},
     "output_type": "display_data"
    }
   ],
   "source": [
    "library(corrplot)\n",
    "corrplot(cor(df), method=\"circle\")"
   ]
  },
  {
   "cell_type": "code",
   "execution_count": 7,
   "metadata": {},
   "outputs": [
    {
     "name": "stdout",
     "output_type": "stream",
     "text": [
      "'data.frame':\t506 obs. of  14 variables:\n",
      " $ CRIM   : num  0.00632 0.02731 0.02729 0.03237 0.06905 ...\n",
      " $ ZN     : num  18 0 0 0 0 0 12.5 12.5 12.5 12.5 ...\n",
      " $ INDUS  : num  2.31 7.07 7.07 2.18 2.18 2.18 7.87 7.87 7.87 7.87 ...\n",
      " $ CHAS   : int  0 0 0 0 0 0 0 0 0 0 ...\n",
      " $ NOX    : num  0.538 0.469 0.469 0.458 0.458 0.458 0.524 0.524 0.524 0.524 ...\n",
      " $ RM     : num  6.58 6.42 7.18 7 7.15 ...\n",
      " $ AGE    : num  65.2 78.9 61.1 45.8 54.2 58.7 66.6 96.1 100 85.9 ...\n",
      " $ DIS    : num  4.09 4.97 4.97 6.06 6.06 ...\n",
      " $ RAD    : int  1 2 2 3 3 3 5 5 5 5 ...\n",
      " $ TAX    : num  296 242 242 222 222 222 311 311 311 311 ...\n",
      " $ PTRATIO: num  15.3 17.8 17.8 18.7 18.7 18.7 15.2 15.2 15.2 15.2 ...\n",
      " $ B      : num  397 397 393 395 397 ...\n",
      " $ LSTAT  : num  4.98 9.14 4.03 2.94 5.33 ...\n",
      " $ label  : num  24 21.6 34.7 33.4 36.2 28.7 22.9 27.1 16.5 18.9 ...\n"
     ]
    }
   ],
   "source": [
    "str(df)"
   ]
  },
  {
   "cell_type": "code",
   "execution_count": 8,
   "metadata": {},
   "outputs": [
    {
     "data": {
      "text/plain": [
       "      CRIM                ZN             INDUS            CHAS        \n",
       " Min.   : 0.00632   Min.   :  0.00   Min.   : 0.46   Min.   :0.00000  \n",
       " 1st Qu.: 0.08204   1st Qu.:  0.00   1st Qu.: 5.19   1st Qu.:0.00000  \n",
       " Median : 0.25651   Median :  0.00   Median : 9.69   Median :0.00000  \n",
       " Mean   : 3.61352   Mean   : 11.36   Mean   :11.14   Mean   :0.06917  \n",
       " 3rd Qu.: 3.67708   3rd Qu.: 12.50   3rd Qu.:18.10   3rd Qu.:0.00000  \n",
       " Max.   :88.97620   Max.   :100.00   Max.   :27.74   Max.   :1.00000  \n",
       "      NOX               RM             AGE              DIS        \n",
       " Min.   :0.3850   Min.   :3.561   Min.   :  2.90   Min.   : 1.130  \n",
       " 1st Qu.:0.4490   1st Qu.:5.886   1st Qu.: 45.02   1st Qu.: 2.100  \n",
       " Median :0.5380   Median :6.208   Median : 77.50   Median : 3.207  \n",
       " Mean   :0.5547   Mean   :6.285   Mean   : 68.57   Mean   : 3.795  \n",
       " 3rd Qu.:0.6240   3rd Qu.:6.623   3rd Qu.: 94.08   3rd Qu.: 5.188  \n",
       " Max.   :0.8710   Max.   :8.780   Max.   :100.00   Max.   :12.127  \n",
       "      RAD              TAX           PTRATIO            B         \n",
       " Min.   : 1.000   Min.   :187.0   Min.   :12.60   Min.   :  0.32  \n",
       " 1st Qu.: 4.000   1st Qu.:279.0   1st Qu.:17.40   1st Qu.:375.38  \n",
       " Median : 5.000   Median :330.0   Median :19.05   Median :391.44  \n",
       " Mean   : 9.549   Mean   :408.2   Mean   :18.46   Mean   :356.67  \n",
       " 3rd Qu.:24.000   3rd Qu.:666.0   3rd Qu.:20.20   3rd Qu.:396.23  \n",
       " Max.   :24.000   Max.   :711.0   Max.   :22.00   Max.   :396.90  \n",
       "     LSTAT           label      \n",
       " Min.   : 1.73   Min.   : 5.00  \n",
       " 1st Qu.: 6.95   1st Qu.:17.02  \n",
       " Median :11.36   Median :21.20  \n",
       " Mean   :12.65   Mean   :22.53  \n",
       " 3rd Qu.:16.95   3rd Qu.:25.00  \n",
       " Max.   :37.97   Max.   :50.00  "
      ]
     },
     "metadata": {},
     "output_type": "display_data"
    }
   ],
   "source": [
    "summary(df)"
   ]
  },
  {
   "cell_type": "code",
   "execution_count": 9,
   "metadata": {},
   "outputs": [
    {
     "data": {
      "text/html": [
       "FALSE"
      ],
      "text/latex": [
       "FALSE"
      ],
      "text/markdown": [
       "FALSE"
      ],
      "text/plain": [
       "[1] FALSE"
      ]
     },
     "metadata": {},
     "output_type": "display_data"
    }
   ],
   "source": [
    "any(is.na(df))"
   ]
  },
  {
   "cell_type": "markdown",
   "metadata": {},
   "source": [
    "## Data preprocessing"
   ]
  },
  {
   "cell_type": "code",
   "execution_count": 10,
   "metadata": {},
   "outputs": [
    {
     "name": "stderr",
     "output_type": "stream",
     "text": [
      "Loading required package: lattice\n",
      "Loading required package: ggplot2\n"
     ]
    }
   ],
   "source": [
    "library(caTools)\n",
    "library(caret)\n",
    "seed = 123 #random seed for reproducibility\n",
    "set.seed(seed) "
   ]
  },
  {
   "cell_type": "markdown",
   "metadata": {},
   "source": [
    "** Scale features **"
   ]
  },
  {
   "cell_type": "code",
   "execution_count": 25,
   "metadata": {},
   "outputs": [
    {
     "data": {
      "text/plain": [
       "      CRIM                    ZN                INDUS          \n",
       " Min.   :0.0000000000   Min.   :0.0000000   Min.   :0.0000000  \n",
       " 1st Qu.:0.0008511307   1st Qu.:0.0000000   1st Qu.:0.1733871  \n",
       " Median :0.0028120753   Median :0.0000000   Median :0.3383431  \n",
       " Mean   :0.0405440983   Mean   :0.1136364   Mean   :0.3913775  \n",
       " 3rd Qu.:0.0412584855   3rd Qu.:0.1250000   3rd Qu.:0.6466276  \n",
       " Max.   :1.0000000000   Max.   :1.0000000   Max.   :1.0000000  \n",
       "      CHAS                 NOX                  RM           \n",
       " Min.   :0.00000000   Min.   :0.0000000   Min.   :0.0000000  \n",
       " 1st Qu.:0.00000000   1st Qu.:0.1316872   1st Qu.:0.4453918  \n",
       " Median :0.00000000   Median :0.3148148   Median :0.5072811  \n",
       " Mean   :0.06916996   Mean   :0.3491668   Mean   :0.5218690  \n",
       " 3rd Qu.:0.00000000   3rd Qu.:0.4917695   3rd Qu.:0.5867982  \n",
       " Max.   :1.00000000   Max.   :1.0000000   Max.   :1.0000000  \n",
       "      AGE                 DIS                  RAD           \n",
       " Min.   :0.0000000   Min.   :0.00000000   Min.   :0.0000000  \n",
       " 1st Qu.:0.4338311   1st Qu.:0.08825896   1st Qu.:0.1304348  \n",
       " Median :0.7682801   Median :0.18894870   Median :0.1739130  \n",
       " Mean   :0.6763636   Mean   :0.24238128   Mean   :0.3717134  \n",
       " 3rd Qu.:0.9389804   3rd Qu.:0.36908811   3rd Qu.:1.0000000  \n",
       " Max.   :1.0000000   Max.   :1.00000000   Max.   :1.0000000  \n",
       "      TAX               PTRATIO                B            \n",
       " Min.   :0.0000000   Min.   :0.0000000   Min.   :0.0000000  \n",
       " 1st Qu.:0.1755725   1st Qu.:0.5106383   1st Qu.:0.9457297  \n",
       " Median :0.2729008   Median :0.6861702   Median :0.9862323  \n",
       " Mean   :0.4222083   Mean   :0.6229291   Mean   :0.8985678  \n",
       " 3rd Qu.:0.9141221   3rd Qu.:0.8085106   3rd Qu.:0.9982979  \n",
       " Max.   :1.0000000   Max.   :1.0000000   Max.   :1.0000000  \n",
       "     LSTAT               label          \n",
       " Min.   :0.0000000   Min.   :0.0000000  \n",
       " 1st Qu.:0.1440397   1st Qu.:0.2672222  \n",
       " Median :0.2657285   Median :0.3600000  \n",
       " Mean   :0.3014090   Mean   :0.3896179  \n",
       " 3rd Qu.:0.4201159   3rd Qu.:0.4444444  \n",
       " Max.   :1.0000000   Max.   :1.0000000  "
      ]
     },
     "metadata": {},
     "output_type": "display_data"
    }
   ],
   "source": [
    "maxs <- apply(df, 2, max) \n",
    "mins <- apply(df, 2, min)\n",
    "df_scaled <- as.data.frame(scale(df, center = mins, scale = maxs - mins))\n",
    "summary(df_scaled)"
   ]
  },
  {
   "cell_type": "markdown",
   "metadata": {},
   "source": [
    "** Split Train Test Sets **"
   ]
  },
  {
   "cell_type": "code",
   "execution_count": 26,
   "metadata": {
    "collapsed": true
   },
   "outputs": [],
   "source": [
    "split = sample.split(df_scaled$label, SplitRatio = 0.80)\n",
    "train_set = subset(df_scaled, split == TRUE)\n",
    "test_set = subset(df_scaled, split == FALSE) "
   ]
  },
  {
   "cell_type": "markdown",
   "metadata": {},
   "source": [
    "## Neural Network"
   ]
  },
  {
   "cell_type": "code",
   "execution_count": 27,
   "metadata": {
    "collapsed": true
   },
   "outputs": [],
   "source": [
    "trControl <- trainControl(method='cv', number=5)\n",
    "metric <- 'RMSE'"
   ]
  },
  {
   "cell_type": "markdown",
   "metadata": {},
   "source": [
    "#### Random Forest"
   ]
  },
  {
   "cell_type": "code",
   "execution_count": 28,
   "metadata": {},
   "outputs": [
    {
     "data": {
      "text/plain": [
       "Random Forest \n",
       "\n",
       "434 samples\n",
       " 13 predictor\n",
       "\n",
       "No pre-processing\n",
       "Resampling: Cross-Validated (5 fold) \n",
       "Summary of sample sizes: 347, 347, 347, 347, 348 \n",
       "Resampling results across tuning parameters:\n",
       "\n",
       "  mtry  RMSE           Rsquared      MAE          \n",
       "   2    0.08154435153  0.8672483471  0.05561576742\n",
       "   7    0.07506598132  0.8757870533  0.05092539101\n",
       "  13    0.07796217281  0.8640654974  0.05228838462\n",
       "\n",
       "RMSE was used to select the optimal model using the smallest value.\n",
       "The final value used for the model was mtry = 7."
      ]
     },
     "metadata": {},
     "output_type": "display_data"
    }
   ],
   "source": [
    "set.seed(seed)\n",
    "fit.rf <- train(label~., data=train_set, method='rf', \n",
    "                metric=metric, trControl=trControl)\n",
    "fit.rf"
   ]
  },
  {
   "cell_type": "code",
   "execution_count": 29,
   "metadata": {},
   "outputs": [
    {
     "data": {
      "text/html": [
       "<dl class=dl-horizontal>\n",
       "\t<dt>RMSE</dt>\n",
       "\t\t<dd>0.0713024064591465</dd>\n",
       "\t<dt>Rsquared</dt>\n",
       "\t\t<dd>0.820403435079401</dd>\n",
       "\t<dt>MAE</dt>\n",
       "\t\t<dd>0.0472401963550852</dd>\n",
       "</dl>\n"
      ],
      "text/latex": [
       "\\begin{description*}\n",
       "\\item[RMSE] 0.0713024064591465\n",
       "\\item[Rsquared] 0.820403435079401\n",
       "\\item[MAE] 0.0472401963550852\n",
       "\\end{description*}\n"
      ],
      "text/markdown": [
       "RMSE\n",
       ":   0.0713024064591465Rsquared\n",
       ":   0.820403435079401MAE\n",
       ":   0.0472401963550852\n",
       "\n"
      ],
      "text/plain": [
       "         RMSE      Rsquared           MAE \n",
       "0.07130240646 0.82040343508 0.04724019636 "
      ]
     },
     "metadata": {},
     "output_type": "display_data"
    }
   ],
   "source": [
    "# make predictions\n",
    "predictions <- predict(fit.rf, test_set[-label_col])\n",
    "# evaluate the model\n",
    "postResample(pred = predictions, obs = test_set$label)"
   ]
  },
  {
   "cell_type": "markdown",
   "metadata": {},
   "source": [
    "#### Baseline Neural Network"
   ]
  },
  {
   "cell_type": "code",
   "execution_count": 30,
   "metadata": {},
   "outputs": [
    {
     "data": {
      "text/plain": [
       "Neural Network \n",
       "\n",
       "434 samples\n",
       " 13 predictor\n",
       "\n",
       "No pre-processing\n",
       "Resampling: Cross-Validated (5 fold) \n",
       "Summary of sample sizes: 347, 347, 347, 347, 348 \n",
       "Resampling results across tuning parameters:\n",
       "\n",
       "  layer1  RMSE           Rsquared      MAE          \n",
       "  1       0.09311454447  0.8046462568  0.06499250712\n",
       "  3       0.08035357439  0.8528437760  0.05490970438\n",
       "  5       0.07634792350  0.8689340320  0.05084158768\n",
       "\n",
       "Tuning parameter 'layer2' was held constant at a value of 0\n",
       "Tuning\n",
       " parameter 'layer3' was held constant at a value of 0\n",
       "RMSE was used to select the optimal model using the smallest value.\n",
       "The final values used for the model were layer1 = 5, layer2 = 0 and layer3 = 0."
      ]
     },
     "metadata": {},
     "output_type": "display_data"
    }
   ],
   "source": [
    "metric <- 'RMSE'\n",
    "set.seed(seed)\n",
    "fit.nn <- train(label~., data=train_set, method='neuralnet', \n",
    "                metric=metric, trControl=trControl)\n",
    "fit.nn"
   ]
  },
  {
   "cell_type": "markdown",
   "metadata": {},
   "source": [
    "## Parameter Tuning\n",
    "\n",
    "tuning parameters: http://topepo.github.io/caret/available-models.html"
   ]
  },
  {
   "cell_type": "code",
   "execution_count": 31,
   "metadata": {
    "collapsed": true
   },
   "outputs": [],
   "source": [
    "trControl <- trainControl(method='cv', number=5)\n",
    "metric <- 'RMSE'"
   ]
  },
  {
   "cell_type": "code",
   "execution_count": 32,
   "metadata": {},
   "outputs": [
    {
     "name": "stdout",
     "output_type": "stream",
     "text": [
      "Neural Network \n",
      "\n",
      "434 samples\n",
      " 13 predictor\n",
      "\n",
      "No pre-processing\n",
      "Resampling: Cross-Validated (5 fold) \n",
      "Summary of sample sizes: 347, 347, 347, 347, 348 \n",
      "Resampling results across tuning parameters:\n",
      "\n",
      "  layer2  layer3  RMSE           Rsquared      MAE          \n",
      "  1       1       0.08406188504  0.8327117431  0.05414900527\n",
      "  1       3       0.08006394390  0.8601520387  0.05292898591\n",
      "  1       5       0.07390606838  0.8759961066  0.05174011245\n",
      "  3       1       0.09143483340  0.8145574796  0.05297434392\n",
      "  3       3       0.07895313743  0.8585183371  0.05329091588\n",
      "  3       5       0.08618735623  0.8241529955  0.05368621878\n",
      "  5       1       0.08824764128  0.8235857726  0.05366172564\n",
      "  5       3       0.09476304388  0.8004502550  0.05547157161\n",
      "  5       5       0.07980227085  0.8589994184  0.05300586698\n",
      "\n",
      "Tuning parameter 'layer1' was held constant at a value of 5\n",
      "RMSE was used to select the optimal model using the smallest value.\n",
      "The final values used for the model were layer1 = 5, layer2 = 1 and layer3 = 5.\n"
     ]
    },
    {
     "data": {},
     "metadata": {},
     "output_type": "display_data"
    },
    {
     "data": {
      "image/png": "[encoded data removed]",
      "text/plain": [
       "plot without title"
      ]
     },
     "metadata": {},
     "output_type": "display_data"
    }
   ],
   "source": [
    "# grid search\n",
    "set.seed(seed)\n",
    "tuneGrid <- expand.grid(layer1 = 5,\n",
    "                        layer2 = c(1,3,5),\n",
    "                        layer3 = c(1,3,5))\n",
    "gridSearch <- train(label~., data=train_set, method='neuralnet',\n",
    "                 metric=metric, trControl=trControl,\n",
    "                 tuneGrid=tuneGrid)\n",
    "print(gridSearch)\n",
    "plot(gridSearch)"
   ]
  },
  {
   "cell_type": "code",
   "execution_count": null,
   "metadata": {
    "collapsed": true
   },
   "outputs": [],
   "source": [
    "head(error.df)"
   ]
  },
  {
   "cell_type": "code",
   "execution_count": null,
   "metadata": {
    "collapsed": true
   },
   "outputs": [],
   "source": [
    "library(ggplot2)\n",
    "ggplot(error.df,aes(x=test.r,y=true.predictions)) + geom_point() + stat_smooth()"
   ]
  },
  {
   "cell_type": "code",
   "execution_count": null,
   "metadata": {
    "collapsed": true
   },
   "outputs": [],
   "source": []
  },
  {
   "cell_type": "code",
   "execution_count": null,
   "metadata": {
    "collapsed": true
   },
   "outputs": [],
   "source": [
    "postResample(pred = predictions$net.result, obs = test_set$label)"
   ]
  },
  {
   "cell_type": "code",
   "execution_count": null,
   "metadata": {
    "collapsed": true
   },
   "outputs": [],
   "source": [
    "?neuralnet"
   ]
  },
  {
   "cell_type": "markdown",
   "metadata": {},
   "source": [
    "## Final Model: "
   ]
  },
  {
   "cell_type": "code",
   "execution_count": 33,
   "metadata": {},
   "outputs": [
    {
     "data": {
      "text/plain": [
       "label ~ CRIM + ZN + INDUS + CHAS + NOX + RM + AGE + DIS + RAD + \n",
       "    TAX + PTRATIO + B + LSTAT"
      ]
     },
     "metadata": {},
     "output_type": "display_data"
    }
   ],
   "source": [
    "library(neuralnet)\n",
    "feat_col <- names(train_set)\n",
    "formula <- as.formula(paste(\"label ~\", \n",
    "                            paste(feat_col[!feat_col %in% \"label\"], \n",
    "                                  collapse = \" + \")))\n",
    "formula\n",
    "set.seed(seed)\n",
    "final.model <- neuralnet(formula,train_set,\n",
    "                         hidden=c(5,1,5),linear.output=TRUE)\n",
    "#print(final.model)"
   ]
  },
  {
   "cell_type": "markdown",
   "metadata": {},
   "source": [
    "#### Save and load the final model"
   ]
  },
  {
   "cell_type": "code",
   "execution_count": 36,
   "metadata": {
    "collapsed": true
   },
   "outputs": [],
   "source": [
    "# save the model to disk\n",
    "saveRDS(final.model, 'final_model.rds')\n",
    "#rm(final.model)"
   ]
  },
  {
   "cell_type": "code",
   "execution_count": 37,
   "metadata": {
    "collapsed": true
   },
   "outputs": [],
   "source": [
    "# load the model\n",
    "final.model <- readRDS('final_model.rds')\n",
    "#print(final.model)"
   ]
  },
  {
   "cell_type": "markdown",
   "metadata": {},
   "source": [
    "#### Final Model Evaluation with Test set"
   ]
  },
  {
   "cell_type": "code",
   "execution_count": 45,
   "metadata": {},
   "outputs": [
    {
     "data": {
      "text/html": [
       "<dl class=dl-horizontal>\n",
       "\t<dt>RMSE</dt>\n",
       "\t\t<dd>3.0755126154173</dd>\n",
       "\t<dt>Rsquared</dt>\n",
       "\t\t<dd>0.839096118318485</dd>\n",
       "\t<dt>MAE</dt>\n",
       "\t\t<dd>2.31239939581471</dd>\n",
       "</dl>\n"
      ],
      "text/latex": [
       "\\begin{description*}\n",
       "\\item[RMSE] 3.0755126154173\n",
       "\\item[Rsquared] 0.839096118318485\n",
       "\\item[MAE] 2.31239939581471\n",
       "\\end{description*}\n"
      ],
      "text/markdown": [
       "RMSE\n",
       ":   3.0755126154173Rsquared\n",
       ":   0.839096118318485MAE\n",
       ":   2.31239939581471\n",
       "\n"
      ],
      "text/plain": [
       "        RMSE     Rsquared          MAE \n",
       "3.0755126154 0.8390961183 2.3123993958 "
      ]
     },
     "metadata": {},
     "output_type": "display_data"
    }
   ],
   "source": [
    "# make predictions\n",
    "predictions <- compute(final.model, test_set[-label_col])\n",
    "# evaluate the model\n",
    "postResample(pred = predictions$net.result*(max(df$label)-min(df$label))+min(df$label), \n",
    "             obs = test_set$label*(max(df$label)-min(df$label))+min(df$label))"
   ]
  },
  {
   "cell_type": "code",
   "execution_count": 47,
   "metadata": {},
   "outputs": [
    {
     "data": {
      "image/png": "[encoded data removed]",
      "text/plain": [
       "Plot with title \"MEDV: True vs Predicted\""
      ]
     },
     "metadata": {},
     "output_type": "display_data"
    }
   ],
   "source": [
    "plot(x = test_set$label*(max(df$label)-min(df$label))+min(df$label), \n",
    "     y = predictions$net.result*(max(df$label)-min(df$label))+min(df$label), \n",
    "     col = 'blue', xlab = 'True', ylab = 'Predicted',  \n",
    "     main = 'MEDV: True vs Predicted')\n",
    "abline(0,1,lwd=2)"
   ]
  },
  {
   "cell_type": "code",
   "execution_count": 48,
   "metadata": {},
   "outputs": [
    {
     "data": {
      "image/png": "[encoded data removed]",
      "text/plain": [
       "Plot with title \"MEDV: Error Distribution\""
      ]
     },
     "metadata": {},
     "output_type": "display_data"
    }
   ],
   "source": [
    "hist((predictions$net.result-test_set$label)*(max(df$label)-min(df$label)), \n",
    "     breaks = 50,\n",
    "     col = 'lightblue', border = 'pink',\n",
    "     xlab = 'Error (True - Pred)',\n",
    "     main='MEDV: Error Distribution',\n",
    "     xlim = c(-20, 20))"
   ]
  },
  {
   "cell_type": "markdown",
   "metadata": {},
   "source": [
    "## Summary"
   ]
  },
  {
   "cell_type": "markdown",
   "metadata": {},
   "source": [
    "- Best model: **NeuralNet** w/ 3 hidden layers and 5/5/3 neurons for each layer\n",
    "\n",
    "\n",
    "- RMSE / R2 score of test set: ** 3.075 / 0.84 **"
   ]
  }
 ],
 "metadata": {
  "kernelspec": {
   "display_name": "R",
   "language": "R",
   "name": "ir"
  },
  "language_info": {
   "codemirror_mode": "r",
   "file_extension": ".r",
   "mimetype": "text/x-r-source",
   "name": "R",
   "pygments_lexer": "r",
   "version": "3.4.3"
  }
 },
 "nbformat": 4,
 "nbformat_minor": 2
}
