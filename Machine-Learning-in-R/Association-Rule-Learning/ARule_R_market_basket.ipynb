{
 "cells": [
  {
   "cell_type": "markdown",
   "metadata": {},
   "source": [
    "## Data"
   ]
  },
  {
   "cell_type": "code",
   "execution_count": 28,
   "metadata": {},
   "outputs": [
    {
     "data": {
      "text/html": [
       "<table>\n",
       "<thead><tr><th scope=col>V1</th><th scope=col>V2</th><th scope=col>V3</th><th scope=col>V4</th><th scope=col>V5</th><th scope=col>V6</th><th scope=col>V7</th><th scope=col>V8</th><th scope=col>V9</th><th scope=col>V10</th><th scope=col>V11</th><th scope=col>V12</th><th scope=col>V13</th><th scope=col>V14</th><th scope=col>V15</th><th scope=col>V16</th><th scope=col>V17</th><th scope=col>V18</th><th scope=col>V19</th><th scope=col>V20</th></tr></thead>\n",
       "<tbody>\n",
       "\t<tr><td>shrimp           </td><td>almonds          </td><td>avocado          </td><td>vegetables mix   </td><td>green grapes     </td><td>whole weat flour </td><td>yams             </td><td>cottage cheese   </td><td>energy drink     </td><td>tomato juice     </td><td>low fat yogurt   </td><td>green tea        </td><td>honey            </td><td>salad            </td><td>mineral water    </td><td>salmon           </td><td>antioxydant juice</td><td>frozen smoothie  </td><td>spinach          </td><td>olive oil        </td></tr>\n",
       "\t<tr><td>burgers          </td><td>meatballs        </td><td>eggs             </td><td>                 </td><td>                 </td><td>                 </td><td>                 </td><td>                 </td><td>                 </td><td>                 </td><td>                 </td><td>                 </td><td>                 </td><td>                 </td><td>                 </td><td>                 </td><td>                 </td><td>                 </td><td>                 </td><td>                 </td></tr>\n",
       "\t<tr><td>chutney          </td><td>                 </td><td>                 </td><td>                 </td><td>                 </td><td>                 </td><td>                 </td><td>                 </td><td>                 </td><td>                 </td><td>                 </td><td>                 </td><td>                 </td><td>                 </td><td>                 </td><td>                 </td><td>                 </td><td>                 </td><td>                 </td><td>                 </td></tr>\n",
       "\t<tr><td>turkey           </td><td>avocado          </td><td>                 </td><td>                 </td><td>                 </td><td>                 </td><td>                 </td><td>                 </td><td>                 </td><td>                 </td><td>                 </td><td>                 </td><td>                 </td><td>                 </td><td>                 </td><td>                 </td><td>                 </td><td>                 </td><td>                 </td><td>                 </td></tr>\n",
       "\t<tr><td>mineral water    </td><td>milk             </td><td>energy bar       </td><td>whole wheat rice </td><td>green tea        </td><td>                 </td><td>                 </td><td>                 </td><td>                 </td><td>                 </td><td>                 </td><td>                 </td><td>                 </td><td>                 </td><td>                 </td><td>                 </td><td>                 </td><td>                 </td><td>                 </td><td>                 </td></tr>\n",
       "\t<tr><td>low fat yogurt   </td><td>                 </td><td>                 </td><td>                 </td><td>                 </td><td>                 </td><td>                 </td><td>                 </td><td>                 </td><td>                 </td><td>                 </td><td>                 </td><td>                 </td><td>                 </td><td>                 </td><td>                 </td><td>                 </td><td>                 </td><td>                 </td><td>                 </td></tr>\n",
       "</tbody>\n",
       "</table>\n"
      ],
      "text/latex": [
       "\\begin{tabular}{r|llllllllllllllllllll}\n",
       " V1 & V2 & V3 & V4 & V5 & V6 & V7 & V8 & V9 & V10 & V11 & V12 & V13 & V14 & V15 & V16 & V17 & V18 & V19 & V20\\\\\n",
       "\\hline\n",
       "\t shrimp            & almonds           & avocado           & vegetables mix    & green grapes      & whole weat flour  & yams              & cottage cheese    & energy drink      & tomato juice      & low fat yogurt    & green tea         & honey             & salad             & mineral water     & salmon            & antioxydant juice & frozen smoothie   & spinach           & olive oil        \\\\\n",
       "\t burgers           & meatballs         & eggs              &                   &                   &                   &                   &                   &                   &                   &                   &                   &                   &                   &                   &                   &                   &                   &                   &                  \\\\\n",
       "\t chutney           &                   &                   &                   &                   &                   &                   &                   &                   &                   &                   &                   &                   &                   &                   &                   &                   &                   &                   &                  \\\\\n",
       "\t turkey            & avocado           &                   &                   &                   &                   &                   &                   &                   &                   &                   &                   &                   &                   &                   &                   &                   &                   &                   &                  \\\\\n",
       "\t mineral water     & milk              & energy bar        & whole wheat rice  & green tea         &                   &                   &                   &                   &                   &                   &                   &                   &                   &                   &                   &                   &                   &                   &                  \\\\\n",
       "\t low fat yogurt    &                   &                   &                   &                   &                   &                   &                   &                   &                   &                   &                   &                   &                   &                   &                   &                   &                   &                   &                  \\\\\n",
       "\\end{tabular}\n"
      ],
      "text/markdown": [
       "\n",
       "V1 | V2 | V3 | V4 | V5 | V6 | V7 | V8 | V9 | V10 | V11 | V12 | V13 | V14 | V15 | V16 | V17 | V18 | V19 | V20 | \n",
       "|---|---|---|---|---|---|\n",
       "| shrimp            | almonds           | avocado           | vegetables mix    | green grapes      | whole weat flour  | yams              | cottage cheese    | energy drink      | tomato juice      | low fat yogurt    | green tea         | honey             | salad             | mineral water     | salmon            | antioxydant juice | frozen smoothie   | spinach           | olive oil         | \n",
       "| burgers           | meatballs         | eggs              |                   |                   |                   |                   |                   |                   |                   |                   |                   |                   |                   |                   |                   |                   |                   |                   |                   | \n",
       "| chutney           |                   |                   |                   |                   |                   |                   |                   |                   |                   |                   |                   |                   |                   |                   |                   |                   |                   |                   |                   | \n",
       "| turkey            | avocado           |                   |                   |                   |                   |                   |                   |                   |                   |                   |                   |                   |                   |                   |                   |                   |                   |                   |                   | \n",
       "| mineral water     | milk              | energy bar        | whole wheat rice  | green tea         |                   |                   |                   |                   |                   |                   |                   |                   |                   |                   |                   |                   |                   |                   |                   | \n",
       "| low fat yogurt    |                   |                   |                   |                   |                   |                   |                   |                   |                   |                   |                   |                   |                   |                   |                   |                   |                   |                   |                   | \n",
       "\n",
       "\n"
      ],
      "text/plain": [
       "  V1             V2        V3         V4               V5          \n",
       "1 shrimp         almonds   avocado    vegetables mix   green grapes\n",
       "2 burgers        meatballs eggs                                    \n",
       "3 chutney                                                          \n",
       "4 turkey         avocado                                           \n",
       "5 mineral water  milk      energy bar whole wheat rice green tea   \n",
       "6 low fat yogurt                                                   \n",
       "  V6               V7   V8             V9           V10          V11           \n",
       "1 whole weat flour yams cottage cheese energy drink tomato juice low fat yogurt\n",
       "2                                                                              \n",
       "3                                                                              \n",
       "4                                                                              \n",
       "5                                                                              \n",
       "6                                                                              \n",
       "  V12       V13   V14   V15           V16    V17               V18            \n",
       "1 green tea honey salad mineral water salmon antioxydant juice frozen smoothie\n",
       "2                                                                             \n",
       "3                                                                             \n",
       "4                                                                             \n",
       "5                                                                             \n",
       "6                                                                             \n",
       "  V19     V20      \n",
       "1 spinach olive oil\n",
       "2                  \n",
       "3                  \n",
       "4                  \n",
       "5                  \n",
       "6                  "
      ]
     },
     "metadata": {},
     "output_type": "display_data"
    },
    {
     "data": {
      "text/html": [
       "<ol class=list-inline>\n",
       "\t<li>7501</li>\n",
       "\t<li>20</li>\n",
       "</ol>\n"
      ],
      "text/latex": [
       "\\begin{enumerate*}\n",
       "\\item 7501\n",
       "\\item 20\n",
       "\\end{enumerate*}\n"
      ],
      "text/markdown": [
       "1. 7501\n",
       "2. 20\n",
       "\n",
       "\n"
      ],
      "text/plain": [
       "[1] 7501   20"
      ]
     },
     "metadata": {},
     "output_type": "display_data"
    }
   ],
   "source": [
    "## Read Data\n",
    "df = read.csv('Market_Basket_Optimisation.csv', header = FALSE)\n",
    "head(df)\n",
    "dim(df)"
   ]
  },
  {
   "cell_type": "code",
   "execution_count": 30,
   "metadata": {},
   "outputs": [
    {
     "name": "stdout",
     "output_type": "stream",
     "text": [
      "distribution of transactions with duplicates:\n",
      "1 \n",
      "5 \n"
     ]
    },
    {
     "data": {
      "text/plain": [
       "transactions as itemMatrix in sparse format with\n",
       " 7501 rows (elements/itemsets/transactions) and\n",
       " 119 columns (items) and a density of 0.033 \n",
       "\n",
       "most frequent items:\n",
       "mineral water          eggs     spaghetti  french fries     chocolate \n",
       "         1788          1348          1306          1282          1229 \n",
       "      (Other) \n",
       "        22405 \n",
       "\n",
       "element (itemset/transaction) length distribution:\n",
       "sizes\n",
       "   1    2    3    4    5    6    7    8    9   10   11   12   13   14   15   16 \n",
       "1754 1358 1044  816  667  493  391  324  259  139  102   67   40   22   17    4 \n",
       "  18   19   20 \n",
       "   1    2    1 \n",
       "\n",
       "   Min. 1st Qu.  Median    Mean 3rd Qu.    Max. \n",
       "    1.0     2.0     3.0     3.9     5.0    20.0 \n",
       "\n",
       "includes extended item information - examples:\n",
       "             labels\n",
       "1           almonds\n",
       "2 antioxydant juice\n",
       "3         asparagus"
      ]
     },
     "metadata": {},
     "output_type": "display_data"
    }
   ],
   "source": [
    "## Read Transactions\n",
    "library(arules)\n",
    "df = read.transactions('Market_Basket_Optimisation.csv', \n",
    "                       sep = ',', rm.duplicates = TRUE)\n",
    "summary(df)"
   ]
  },
  {
   "cell_type": "code",
   "execution_count": 36,
   "metadata": {},
   "outputs": [
    {
     "data": {
      "image/png": "[encoded data removed]",
      "text/plain": [
       "plot without title"
      ]
     },
     "metadata": {},
     "output_type": "display_data"
    }
   ],
   "source": [
    "# Display top 10 items\n",
    "itemFrequencyPlot(df, topN = 10, type='absolute')"
   ]
  },
  {
   "cell_type": "markdown",
   "metadata": {},
   "source": [
    "## 1. Apriori"
   ]
  },
  {
   "cell_type": "code",
   "execution_count": 37,
   "metadata": {},
   "outputs": [
    {
     "name": "stdout",
     "output_type": "stream",
     "text": [
      "Apriori\n",
      "\n",
      "Parameter specification:\n",
      " confidence minval smax arem  aval originalSupport maxtime support minlen\n",
      "        0.2    0.1    1 none FALSE            TRUE       5   0.004      1\n",
      " maxlen target   ext\n",
      "     10  rules FALSE\n",
      "\n",
      "Algorithmic control:\n",
      " filter tree heap memopt load sort verbose\n",
      "    0.1 TRUE TRUE  FALSE TRUE    2    TRUE\n",
      "\n",
      "Absolute minimum support count: 30 \n",
      "\n",
      "set item appearances ...[0 item(s)] done [0.00s].\n",
      "set transactions ...[119 item(s), 7501 transaction(s)] done [0.00s].\n",
      "sorting and recoding items ... [114 item(s)] done [0.00s].\n",
      "creating transaction tree ... done [0.00s].\n",
      "checking subsets of size 1 2 3 4 done [0.00s].\n",
      "writing ... [811 rule(s)] done [0.00s].\n",
      "creating S4 object  ... done [0.00s].\n"
     ]
    }
   ],
   "source": [
    "# Train Apriori to the Data\n",
    "rules = apriori(data = df, parameter = list(support = 0.004, \n",
    "                                            confidence = 0.2))"
   ]
  },
  {
   "cell_type": "code",
   "execution_count": 38,
   "metadata": {},
   "outputs": [
    {
     "data": {
      "text/plain": [
       "set of 811 rules\n",
       "\n",
       "rule length distribution (lhs + rhs):sizes\n",
       "  1   2   3   4 \n",
       "  1 250 528  32 \n",
       "\n",
       "   Min. 1st Qu.  Median    Mean 3rd Qu.    Max. \n",
       "    1.0     2.0     3.0     2.7     3.0     4.0 \n",
       "\n",
       "summary of quality measures:\n",
       "    support        confidence        lift         count     \n",
       " Min.   :0.004   Min.   :0.20   Min.   :0.9   Min.   :  31  \n",
       " 1st Qu.:0.005   1st Qu.:0.24   1st Qu.:1.5   1st Qu.:  37  \n",
       " Median :0.006   Median :0.29   Median :1.8   Median :  46  \n",
       " Mean   :0.009   Mean   :0.31   Mean   :1.9   Mean   :  68  \n",
       " 3rd Qu.:0.009   3rd Qu.:0.36   3rd Qu.:2.2   3rd Qu.:  67  \n",
       " Max.   :0.238   Max.   :0.63   Max.   :4.8   Max.   :1788  \n",
       "\n",
       "mining info:\n",
       " data ntransactions support confidence\n",
       "   df          7501   0.004        0.2"
      ]
     },
     "metadata": {},
     "output_type": "display_data"
    }
   ],
   "source": [
    "summary(rules)"
   ]
  },
  {
   "cell_type": "code",
   "execution_count": 19,
   "metadata": {},
   "outputs": [
    {
     "name": "stdout",
     "output_type": "stream",
     "text": [
      "     lhs                       rhs             support confidence lift count\n",
      "[1]  {light cream}          => {chicken}        0.0045       0.29  4.8    34\n",
      "[2]  {pasta}                => {escalope}       0.0059       0.37  4.7    44\n",
      "[3]  {pasta}                => {shrimp}         0.0051       0.32  4.5    38\n",
      "[4]  {eggs,                                                                 \n",
      "      ground beef}          => {herb & pepper}  0.0041       0.21  4.2    31\n",
      "[5]  {whole wheat pasta}    => {olive oil}      0.0080       0.27  4.1    60\n",
      "[6]  {herb & pepper,                                                        \n",
      "      spaghetti}            => {ground beef}    0.0064       0.39  4.0    48\n",
      "[7]  {herb & pepper,                                                        \n",
      "      mineral water}        => {ground beef}    0.0067       0.39  4.0    50\n",
      "[8]  {tomato sauce}         => {ground beef}    0.0053       0.38  3.8    40\n",
      "[9]  {mushroom cream sauce} => {escalope}       0.0057       0.30  3.8    43\n",
      "[10] {frozen vegetables,                                                    \n",
      "      mineral water,                                                        \n",
      "      spaghetti}            => {ground beef}    0.0044       0.37  3.7    33\n"
     ]
    }
   ],
   "source": [
    "# show Top 10 results\n",
    "options(digits=2)\n",
    "inspect(sort(rules, by = 'lift')[1:10])"
   ]
  },
  {
   "cell_type": "code",
   "execution_count": 39,
   "metadata": {},
   "outputs": [
    {
     "name": "stdout",
     "output_type": "stream",
     "text": [
      "     lhs                              rhs             support confidence lift\n",
      "[1]  {frozen vegetables,soup}      => {mineral water} 0.0051  0.63       2.7 \n",
      "[2]  {pancakes,soup}               => {mineral water} 0.0043  0.63       2.6 \n",
      "[3]  {olive oil,tomatoes}          => {spaghetti}     0.0044  0.61       3.5 \n",
      "[4]  {pancakes,whole wheat rice}   => {mineral water} 0.0041  0.60       2.5 \n",
      "[5]  {cooking oil,pancakes}        => {mineral water} 0.0047  0.59       2.5 \n",
      "[6]  {olive oil,soup}              => {mineral water} 0.0052  0.58       2.4 \n",
      "[7]  {frozen vegetables,olive oil} => {mineral water} 0.0065  0.58       2.4 \n",
      "[8]  {olive oil,tomatoes}          => {mineral water} 0.0041  0.57       2.4 \n",
      "[9]  {cooking oil,ground beef}     => {spaghetti}     0.0048  0.57       3.3 \n",
      "[10] {milk,soup}                   => {mineral water} 0.0085  0.56       2.4 \n",
      "     count\n",
      "[1]  38   \n",
      "[2]  32   \n",
      "[3]  33   \n",
      "[4]  31   \n",
      "[5]  35   \n",
      "[6]  39   \n",
      "[7]  49   \n",
      "[8]  31   \n",
      "[9]  36   \n",
      "[10] 64   \n"
     ]
    }
   ],
   "source": [
    "# sort by the most likely rules\n",
    "inspect(sort(rules, by = 'confidence')[1:10])"
   ]
  },
  {
   "cell_type": "code",
   "execution_count": 50,
   "metadata": {},
   "outputs": [
    {
     "name": "stdout",
     "output_type": "stream",
     "text": [
      "     lhs                              rhs             support confidence lift\n",
      "[1]  {frozen vegetables,soup}      => {mineral water} 0.0051  0.63       2.7 \n",
      "[2]  {pancakes,soup}               => {mineral water} 0.0043  0.63       2.6 \n",
      "[3]  {pancakes,whole wheat rice}   => {mineral water} 0.0041  0.60       2.5 \n",
      "[4]  {cooking oil,pancakes}        => {mineral water} 0.0047  0.59       2.5 \n",
      "[5]  {olive oil,soup}              => {mineral water} 0.0052  0.58       2.4 \n",
      "[6]  {frozen vegetables,olive oil} => {mineral water} 0.0065  0.58       2.4 \n",
      "[7]  {olive oil,tomatoes}          => {mineral water} 0.0041  0.57       2.4 \n",
      "[8]  {milk,soup}                   => {mineral water} 0.0085  0.56       2.4 \n",
      "[9]  {olive oil,shrimp}            => {mineral water} 0.0045  0.56       2.3 \n",
      "[10] {chocolate,soup}              => {mineral water} 0.0056  0.55       2.3 \n",
      "     count\n",
      "[1]  38   \n",
      "[2]  32   \n",
      "[3]  31   \n",
      "[4]  35   \n",
      "[5]  39   \n",
      "[6]  49   \n",
      "[7]  31   \n",
      "[8]  64   \n",
      "[9]  34   \n",
      "[10] 42   \n"
     ]
    }
   ],
   "source": [
    "# target items\n",
    "rules<-apriori(data=df, parameter=list(supp=0.004,conf = 0.2, minlen=2), \n",
    "               appearance = list(default=\"lhs\",rhs='mineral water'),\n",
    "               control = list(verbose=F))\n",
    "rules<-sort(rules, decreasing=TRUE,by='confidence')\n",
    "inspect(rules[1:10])"
   ]
  },
  {
   "cell_type": "code",
   "execution_count": 51,
   "metadata": {},
   "outputs": [
    {
     "data": {
      "image/png": "[encoded data removed]",
      "text/plain": [
       "Plot with title \"Graph for 10 rules\""
      ]
     },
     "metadata": {},
     "output_type": "display_data"
    }
   ],
   "source": [
    "library(arulesViz)\n",
    "plot(rules[1:10],method='graph',shading=NA)"
   ]
  },
  {
   "cell_type": "markdown",
   "metadata": {},
   "source": [
    "## 2. Eclat"
   ]
  },
  {
   "cell_type": "code",
   "execution_count": 53,
   "metadata": {},
   "outputs": [
    {
     "name": "stdout",
     "output_type": "stream",
     "text": [
      "Eclat\n",
      "\n",
      "parameter specification:\n",
      " tidLists support minlen maxlen            target   ext\n",
      "    FALSE   0.003      2     10 frequent itemsets FALSE\n",
      "\n",
      "algorithmic control:\n",
      " sparse sort verbose\n",
      "      7   -2    TRUE\n",
      "\n",
      "Absolute minimum support count: 22 \n",
      "\n",
      "create itemset ... \n",
      "set transactions ...[119 item(s), 7501 transaction(s)] done [0.00s].\n",
      "sorting and recoding items ... [115 item(s)] done [0.00s].\n",
      "creating sparse bit matrix ... [115 row(s), 7501 column(s)] done [0.00s].\n",
      "writing  ... [1328 set(s)] done [0.01s].\n",
      "Creating S4 object  ... done [0.00s].\n"
     ]
    }
   ],
   "source": [
    "# Training Eclat to the Data\n",
    "rules = eclat(data = df, parameter = list(support = 0.003, minlen = 2))"
   ]
  },
  {
   "cell_type": "code",
   "execution_count": 54,
   "metadata": {},
   "outputs": [
    {
     "name": "stdout",
     "output_type": "stream",
     "text": [
      "     items                             support count\n",
      "[1]  {mineral water,spaghetti}         0.060   448  \n",
      "[2]  {chocolate,mineral water}         0.053   395  \n",
      "[3]  {eggs,mineral water}              0.051   382  \n",
      "[4]  {milk,mineral water}              0.048   360  \n",
      "[5]  {ground beef,mineral water}       0.041   307  \n",
      "[6]  {ground beef,spaghetti}           0.039   294  \n",
      "[7]  {chocolate,spaghetti}             0.039   294  \n",
      "[8]  {eggs,spaghetti}                  0.037   274  \n",
      "[9]  {eggs,french fries}               0.036   273  \n",
      "[10] {frozen vegetables,mineral water} 0.036   268  \n"
     ]
    }
   ],
   "source": [
    "# Visualize Top 10 results\n",
    "inspect(sort(rules, by = 'support')[1:10])"
   ]
  },
  {
   "cell_type": "code",
   "execution_count": 55,
   "metadata": {},
   "outputs": [
    {
     "data": {
      "image/png": "[encoded data removed]",
      "text/plain": [
       "Plot with title \"Graph for 10 itemsets\""
      ]
     },
     "metadata": {},
     "output_type": "display_data"
    }
   ],
   "source": [
    "library(arulesViz)\n",
    "plot(rules[1:10],method='graph',shading=NA)"
   ]
  }
 ],
 "metadata": {
  "kernelspec": {
   "display_name": "R",
   "language": "R",
   "name": "ir"
  },
  "language_info": {
   "codemirror_mode": "r",
   "file_extension": ".r",
   "mimetype": "text/x-r-source",
   "name": "R",
   "pygments_lexer": "r",
   "version": "3.4.3"
  }
 },
 "nbformat": 4,
 "nbformat_minor": 2
}
