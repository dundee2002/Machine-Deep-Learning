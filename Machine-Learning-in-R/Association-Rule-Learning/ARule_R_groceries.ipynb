{
 "cells": [
  {
   "cell_type": "markdown",
   "metadata": {},
   "source": [
    "## Data"
   ]
  },
  {
   "cell_type": "code",
   "execution_count": 7,
   "metadata": {},
   "outputs": [
    {
     "data": {
      "text/html": [
       "<table>\n",
       "<thead><tr><th scope=col>V1</th><th scope=col>V2</th><th scope=col>V3</th><th scope=col>V4</th></tr></thead>\n",
       "<tbody>\n",
       "\t<tr><td>citrus fruit            </td><td>semi-finished bread     </td><td>margarine               </td><td>ready soups             </td></tr>\n",
       "\t<tr><td>tropical fruit          </td><td>yogurt                  </td><td>coffee                  </td><td>                        </td></tr>\n",
       "\t<tr><td>whole milk              </td><td>                        </td><td>                        </td><td>                        </td></tr>\n",
       "\t<tr><td>pip fruit               </td><td>yogurt                  </td><td>cream cheese            </td><td>meat spreads            </td></tr>\n",
       "\t<tr><td>other vegetables        </td><td>whole milk              </td><td>condensed milk          </td><td>long life bakery product</td></tr>\n",
       "\t<tr><td>whole milk              </td><td>butter                  </td><td>yogurt                  </td><td>rice                    </td></tr>\n",
       "</tbody>\n",
       "</table>\n"
      ],
      "text/latex": [
       "\\begin{tabular}{r|llll}\n",
       " V1 & V2 & V3 & V4\\\\\n",
       "\\hline\n",
       "\t citrus fruit             & semi-finished bread      & margarine                & ready soups             \\\\\n",
       "\t tropical fruit           & yogurt                   & coffee                   &                         \\\\\n",
       "\t whole milk               &                          &                          &                         \\\\\n",
       "\t pip fruit                & yogurt                   & cream cheese             & meat spreads            \\\\\n",
       "\t other vegetables         & whole milk               & condensed milk           & long life bakery product\\\\\n",
       "\t whole milk               & butter                   & yogurt                   & rice                    \\\\\n",
       "\\end{tabular}\n"
      ],
      "text/markdown": [
       "\n",
       "V1 | V2 | V3 | V4 | \n",
       "|---|---|---|---|---|---|\n",
       "| citrus fruit             | semi-finished bread      | margarine                | ready soups              | \n",
       "| tropical fruit           | yogurt                   | coffee                   |                          | \n",
       "| whole milk               |                          |                          |                          | \n",
       "| pip fruit                | yogurt                   | cream cheese             | meat spreads             | \n",
       "| other vegetables         | whole milk               | condensed milk           | long life bakery product | \n",
       "| whole milk               | butter                   | yogurt                   | rice                     | \n",
       "\n",
       "\n"
      ],
      "text/plain": [
       "  V1               V2                  V3             V4                      \n",
       "1 citrus fruit     semi-finished bread margarine      ready soups             \n",
       "2 tropical fruit   yogurt              coffee                                 \n",
       "3 whole milk                                                                  \n",
       "4 pip fruit        yogurt              cream cheese   meat spreads            \n",
       "5 other vegetables whole milk          condensed milk long life bakery product\n",
       "6 whole milk       butter              yogurt         rice                    "
      ]
     },
     "metadata": {},
     "output_type": "display_data"
    },
    {
     "data": {
      "text/html": [
       "<ol class=list-inline>\n",
       "\t<li>15296</li>\n",
       "\t<li>4</li>\n",
       "</ol>\n"
      ],
      "text/latex": [
       "\\begin{enumerate*}\n",
       "\\item 15296\n",
       "\\item 4\n",
       "\\end{enumerate*}\n"
      ],
      "text/markdown": [
       "1. 15296\n",
       "2. 4\n",
       "\n",
       "\n"
      ],
      "text/plain": [
       "[1] 15296     4"
      ]
     },
     "metadata": {},
     "output_type": "display_data"
    }
   ],
   "source": [
    "## Read Data\n",
    "df = read.csv('groceries.csv', header = FALSE)\n",
    "head(df)\n",
    "dim(df)"
   ]
  },
  {
   "cell_type": "code",
   "execution_count": 8,
   "metadata": {},
   "outputs": [
    {
     "name": "stderr",
     "output_type": "stream",
     "text": [
      "Loading required package: Matrix\n",
      "\n",
      "Attaching package: 'arules'\n",
      "\n",
      "The following objects are masked from 'package:base':\n",
      "\n",
      "    abbreviate, write\n",
      "\n"
     ]
    },
    {
     "data": {
      "text/plain": [
       "transactions as itemMatrix in sparse format with\n",
       " 9835 rows (elements/itemsets/transactions) and\n",
       " 169 columns (items) and a density of 0.02609146 \n",
       "\n",
       "most frequent items:\n",
       "      whole milk other vegetables       rolls/buns             soda \n",
       "            2513             1903             1809             1715 \n",
       "          yogurt          (Other) \n",
       "            1372            34055 \n",
       "\n",
       "element (itemset/transaction) length distribution:\n",
       "sizes\n",
       "   1    2    3    4    5    6    7    8    9   10   11   12   13   14   15   16 \n",
       "2159 1643 1299 1005  855  645  545  438  350  246  182  117   78   77   55   46 \n",
       "  17   18   19   20   21   22   23   24   26   27   28   29   32 \n",
       "  29   14   14    9   11    4    6    1    1    1    1    3    1 \n",
       "\n",
       "   Min. 1st Qu.  Median    Mean 3rd Qu.    Max. \n",
       "  1.000   2.000   3.000   4.409   6.000  32.000 \n",
       "\n",
       "includes extended item information - examples:\n",
       "            labels\n",
       "1 abrasive cleaner\n",
       "2 artif. sweetener\n",
       "3   baby cosmetics"
      ]
     },
     "metadata": {},
     "output_type": "display_data"
    }
   ],
   "source": [
    "## Read Transactions\n",
    "library(arules)\n",
    "df = read.transactions('groceries.csv', \n",
    "                       sep = ',', rm.duplicates = TRUE)\n",
    "summary(df)"
   ]
  },
  {
   "cell_type": "code",
   "execution_count": 9,
   "metadata": {},
   "outputs": [
    {
     "data": {
      "image/png": "[encoded data removed]",
      "text/plain": [
       "plot without title"
      ]
     },
     "metadata": {},
     "output_type": "display_data"
    }
   ],
   "source": [
    "# Display top 10 items\n",
    "itemFrequencyPlot(df, topN = 10, type='absolute')"
   ]
  },
  {
   "cell_type": "markdown",
   "metadata": {},
   "source": [
    "## 1. Apriori"
   ]
  },
  {
   "cell_type": "code",
   "execution_count": 18,
   "metadata": {},
   "outputs": [
    {
     "name": "stdout",
     "output_type": "stream",
     "text": [
      "Apriori\n",
      "\n",
      "Parameter specification:\n",
      " confidence minval smax arem  aval originalSupport maxtime support minlen\n",
      "        0.8    0.1    1 none FALSE            TRUE       5   0.001      1\n",
      " maxlen target   ext\n",
      "     10  rules FALSE\n",
      "\n",
      "Algorithmic control:\n",
      " filter tree heap memopt load sort verbose\n",
      "    0.1 TRUE TRUE  FALSE TRUE    2    TRUE\n",
      "\n",
      "Absolute minimum support count: 9 \n",
      "\n",
      "set item appearances ...[0 item(s)] done [0.00s].\n",
      "set transactions ...[169 item(s), 9835 transaction(s)] done [0.00s].\n",
      "sorting and recoding items ... [157 item(s)] done [0.00s].\n",
      "creating transaction tree ... done [0.00s].\n",
      "checking subsets of size 1 2 3 4 5 6 done [0.01s].\n",
      "writing ... [410 rule(s)] done [0.00s].\n",
      "creating S4 object  ... done [0.00s].\n"
     ]
    }
   ],
   "source": [
    "# Train Apriori to the Data\n",
    "rules = apriori(data = df, parameter = list(support = 0.001, \n",
    "                                            confidence = 0.8))"
   ]
  },
  {
   "cell_type": "code",
   "execution_count": 19,
   "metadata": {},
   "outputs": [
    {
     "data": {
      "text/plain": [
       "set of 410 rules\n",
       "\n",
       "rule length distribution (lhs + rhs):sizes\n",
       "  3   4   5   6 \n",
       " 29 229 140  12 \n",
       "\n",
       "   Min. 1st Qu.  Median    Mean 3rd Qu.    Max. \n",
       "    3.0     4.0     4.0     4.3     5.0     6.0 \n",
       "\n",
       "summary of quality measures:\n",
       "    support          confidence        lift          count     \n",
       " Min.   :0.00102   Min.   :0.80   Min.   : 3.1   Min.   :10.0  \n",
       " 1st Qu.:0.00102   1st Qu.:0.83   1st Qu.: 3.3   1st Qu.:10.0  \n",
       " Median :0.00122   Median :0.85   Median : 3.6   Median :12.0  \n",
       " Mean   :0.00125   Mean   :0.87   Mean   : 4.0   Mean   :12.3  \n",
       " 3rd Qu.:0.00132   3rd Qu.:0.91   3rd Qu.: 4.3   3rd Qu.:13.0  \n",
       " Max.   :0.00315   Max.   :1.00   Max.   :11.2   Max.   :31.0  \n",
       "\n",
       "mining info:\n",
       " data ntransactions support confidence\n",
       "   df          9835   0.001        0.8"
      ]
     },
     "metadata": {},
     "output_type": "display_data"
    }
   ],
   "source": [
    "summary(rules)"
   ]
  },
  {
   "cell_type": "code",
   "execution_count": 20,
   "metadata": {},
   "outputs": [
    {
     "name": "stdout",
     "output_type": "stream",
     "text": [
      "     lhs                        rhs               support confidence lift count\n",
      "[1]  {liquor,                                                                  \n",
      "      red/blush wine}        => {bottled beer}     0.0019       0.90 11.2    19\n",
      "[2]  {citrus fruit,                                                            \n",
      "      fruit/vegetable juice,                                                   \n",
      "      other vegetables,                                                        \n",
      "      soda}                  => {root vegetables}  0.0010       0.91  8.3    10\n",
      "[3]  {oil,                                                                     \n",
      "      other vegetables,                                                        \n",
      "      tropical fruit,                                                          \n",
      "      whole milk,                                                              \n",
      "      yogurt}                => {root vegetables}  0.0010       0.91  8.3    10\n",
      "[4]  {citrus fruit,                                                            \n",
      "      fruit/vegetable juice,                                                   \n",
      "      grapes}                => {tropical fruit}   0.0011       0.85  8.1    11\n",
      "[5]  {other vegetables,                                                        \n",
      "      rice,                                                                    \n",
      "      whole milk,                                                              \n",
      "      yogurt}                => {root vegetables}  0.0013       0.87  8.0    13\n",
      "[6]  {oil,                                                                     \n",
      "      other vegetables,                                                        \n",
      "      tropical fruit,                                                          \n",
      "      whole milk}            => {root vegetables}  0.0013       0.87  8.0    13\n",
      "[7]  {ham,                                                                     \n",
      "      other vegetables,                                                        \n",
      "      pip fruit,                                                               \n",
      "      yogurt}                => {tropical fruit}   0.0010       0.83  7.9    10\n",
      "[8]  {beef,                                                                    \n",
      "      citrus fruit,                                                            \n",
      "      other vegetables,                                                        \n",
      "      tropical fruit}        => {root vegetables}  0.0010       0.83  7.6    10\n",
      "[9]  {butter,                                                                  \n",
      "      cream cheese,                                                            \n",
      "      root vegetables}       => {yogurt}           0.0010       0.91  6.5    10\n",
      "[10] {butter,                                                                  \n",
      "      sliced cheese,                                                           \n",
      "      tropical fruit,                                                          \n",
      "      whole milk}            => {yogurt}           0.0010       0.91  6.5    10\n"
     ]
    }
   ],
   "source": [
    "# show Top 10 results\n",
    "options(digits=2)\n",
    "inspect(sort(rules, by = 'lift')[1:10])"
   ]
  },
  {
   "cell_type": "code",
   "execution_count": 21,
   "metadata": {},
   "outputs": [
    {
     "name": "stdout",
     "output_type": "stream",
     "text": [
      "     lhs                     rhs                support confidence lift count\n",
      "[1]  {rice,                                                                  \n",
      "      sugar}              => {whole milk}        0.0012          1  3.9    12\n",
      "[2]  {canned fish,                                                           \n",
      "      hygiene articles}   => {whole milk}        0.0011          1  3.9    11\n",
      "[3]  {butter,                                                                \n",
      "      rice,                                                                  \n",
      "      root vegetables}    => {whole milk}        0.0010          1  3.9    10\n",
      "[4]  {flour,                                                                 \n",
      "      root vegetables,                                                       \n",
      "      whipped/sour cream} => {whole milk}        0.0017          1  3.9    17\n",
      "[5]  {butter,                                                                \n",
      "      domestic eggs,                                                         \n",
      "      soft cheese}        => {whole milk}        0.0010          1  3.9    10\n",
      "[6]  {citrus fruit,                                                          \n",
      "      root vegetables,                                                       \n",
      "      soft cheese}        => {other vegetables}  0.0010          1  5.2    10\n",
      "[7]  {butter,                                                                \n",
      "      hygiene articles,                                                      \n",
      "      pip fruit}          => {whole milk}        0.0010          1  3.9    10\n",
      "[8]  {hygiene articles,                                                      \n",
      "      root vegetables,                                                       \n",
      "      whipped/sour cream} => {whole milk}        0.0010          1  3.9    10\n",
      "[9]  {hygiene articles,                                                      \n",
      "      pip fruit,                                                             \n",
      "      root vegetables}    => {whole milk}        0.0010          1  3.9    10\n",
      "[10] {cream cheese,                                                          \n",
      "      domestic eggs,                                                         \n",
      "      sugar}              => {whole milk}        0.0011          1  3.9    11\n"
     ]
    }
   ],
   "source": [
    "# sort by the most likely rules\n",
    "inspect(sort(rules, by = 'confidence')[1:10])"
   ]
  },
  {
   "cell_type": "code",
   "execution_count": 23,
   "metadata": {},
   "outputs": [
    {
     "name": "stdout",
     "output_type": "stream",
     "text": [
      "    lhs                     rhs          support confidence lift count\n",
      "[1] {rice,                                                            \n",
      "     sugar}              => {whole milk}  0.0012          1  3.9    12\n",
      "[2] {canned fish,                                                     \n",
      "     hygiene articles}   => {whole milk}  0.0011          1  3.9    11\n",
      "[3] {butter,                                                          \n",
      "     rice,                                                            \n",
      "     root vegetables}    => {whole milk}  0.0010          1  3.9    10\n",
      "[4] {flour,                                                           \n",
      "     root vegetables,                                                 \n",
      "     whipped/sour cream} => {whole milk}  0.0017          1  3.9    17\n",
      "[5] {butter,                                                          \n",
      "     domestic eggs,                                                   \n",
      "     soft cheese}        => {whole milk}  0.0010          1  3.9    10\n"
     ]
    }
   ],
   "source": [
    "# target items\n",
    "rules<-apriori(data=df, parameter=list(supp=0.001,conf = 0.8, minlen=2), \n",
    "               appearance = list(default=\"lhs\",rhs='whole milk'),\n",
    "               control = list(verbose=F))\n",
    "rules<-sort(rules, decreasing=TRUE,by='confidence')\n",
    "inspect(rules[1:5])"
   ]
  },
  {
   "cell_type": "code",
   "execution_count": 24,
   "metadata": {},
   "outputs": [
    {
     "name": "stderr",
     "output_type": "stream",
     "text": [
      "Loading required package: grid\n"
     ]
    },
    {
     "data": {
      "image/png": "[encoded data removed]",
      "text/plain": [
       "Plot with title \"Graph for 10 rules\""
      ]
     },
     "metadata": {},
     "output_type": "display_data"
    }
   ],
   "source": [
    "library(arulesViz)\n",
    "plot(rules[1:10],method='graph',shading=NA)"
   ]
  },
  {
   "cell_type": "markdown",
   "metadata": {},
   "source": [
    "## 2. Eclat"
   ]
  },
  {
   "cell_type": "code",
   "execution_count": 25,
   "metadata": {},
   "outputs": [
    {
     "name": "stdout",
     "output_type": "stream",
     "text": [
      "Eclat\n",
      "\n",
      "parameter specification:\n",
      " tidLists support minlen maxlen            target   ext\n",
      "    FALSE   0.003      2     10 frequent itemsets FALSE\n",
      "\n",
      "algorithmic control:\n",
      " sparse sort verbose\n",
      "      7   -2    TRUE\n",
      "\n",
      "Absolute minimum support count: 29 \n",
      "\n",
      "create itemset ... \n",
      "set transactions ...[169 item(s), 9835 transaction(s)] done [0.00s].\n",
      "sorting and recoding items ... [136 item(s)] done [0.00s].\n",
      "creating sparse bit matrix ... [136 row(s), 9835 column(s)] done [0.00s].\n",
      "writing  ... [2090 set(s)] done [0.02s].\n",
      "Creating S4 object  ... done [0.02s].\n"
     ]
    }
   ],
   "source": [
    "# Training Eclat to the Data\n",
    "rules = eclat(data = df, parameter = list(support = 0.003, minlen = 2))"
   ]
  },
  {
   "cell_type": "code",
   "execution_count": 26,
   "metadata": {},
   "outputs": [
    {
     "name": "stdout",
     "output_type": "stream",
     "text": [
      "     items                              support count\n",
      "[1]  {other vegetables,whole milk}      0.075   736  \n",
      "[2]  {rolls/buns,whole milk}            0.057   557  \n",
      "[3]  {whole milk,yogurt}                0.056   551  \n",
      "[4]  {root vegetables,whole milk}       0.049   481  \n",
      "[5]  {other vegetables,root vegetables} 0.047   466  \n",
      "[6]  {other vegetables,yogurt}          0.043   427  \n",
      "[7]  {other vegetables,rolls/buns}      0.043   419  \n",
      "[8]  {tropical fruit,whole milk}        0.042   416  \n",
      "[9]  {soda,whole milk}                  0.040   394  \n",
      "[10] {rolls/buns,soda}                  0.038   377  \n"
     ]
    }
   ],
   "source": [
    "# Visualize Top 10 results\n",
    "inspect(sort(rules, by = 'support')[1:10])"
   ]
  },
  {
   "cell_type": "code",
   "execution_count": 27,
   "metadata": {},
   "outputs": [
    {
     "data": {
      "image/png": "[encoded data removed]",
      "text/plain": [
       "Plot with title \"Graph for 10 itemsets\""
      ]
     },
     "metadata": {},
     "output_type": "display_data"
    }
   ],
   "source": [
    "library(arulesViz)\n",
    "plot(rules[1:10],method='graph',shading=NA)"
   ]
  }
 ],
 "metadata": {
  "kernelspec": {
   "display_name": "R",
   "language": "R",
   "name": "ir"
  },
  "language_info": {
   "codemirror_mode": "r",
   "file_extension": ".r",
   "mimetype": "text/x-r-source",
   "name": "R",
   "pygments_lexer": "r",
   "version": "3.4.3"
  }
 },
 "nbformat": 4,
 "nbformat_minor": 2
}
